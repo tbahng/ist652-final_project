{
 "cells": [
  {
   "cell_type": "markdown",
   "metadata": {},
   "source": [
    "# IST 652 Final Project - A Pantheon Exploration"
   ]
  },
  {
   "cell_type": "markdown",
   "metadata": {},
   "source": [
    "# Introduction\n",
    "\n",
    "Recorded human history has only been around for 5000 years. By understanding the makeup of Pantheon, all persons today both young and old are enriched with the knowledge of global, scientific and cultural development of humanity. The meaning of the word *Pantheon* describes a group of particularly respected, famous, or important people. Over the course of human history there have been thousands of such individuals that have made an impact on society. Due to the information age that began in the latter part of the 20th century, people all over the world now have access to the same biographies of these individuals through Wikipedia in multiple languages. What was once information of limited accessibility and supply, shelved in remote libraries, is now conveniently made available through this medium.\n",
    "\n",
    "Credit goes to the Macro Connections group at the Massachusetts Institute of Technology Media Lab and their [Pantheon Project](https://www.kaggle.com/mit/pantheon-project). Not only was a Pantheon index made available to the general public, but a popularity index was created as well. One \"barrier to entry\" to this content is the number of languages available for each article. This is a key measure in determining the popularity of individuals in the Pantheon. \"The simpler of the two measures, which we denote as L, is the number of different Wikipedia language editions that have an article about a historical character. The more sophisticated measure, which we name the Historical Popularity Index (HPI) corrects L by adding information on the age of the historical character, the concentration of page views among different languages, the coefficient of variation in page views, and the number of page views in languages other than English.\" [https://www.kaggle.com/mit/pantheon-project](https://www.kaggle.com/mit/pantheon-project)\n",
    "\n",
    "The significance of historical figures may be debatable, but this report seeks to apply an objective measure of popularity to better understand how biographies of the Pantheon is being consumed in the current day and age. From Aristotle to Benjamin Franklin, Jesus Christ to Al Pacino, historical figures and their attributes will be measured with web analytics so that the reader may have insights into the following:\n",
    "\n",
    "Research questions:\n",
    "\n",
    "* Which historic characters are the most popular?\n",
    "* When did they live and where are they from?\n",
    "* What factors could have generated their popularity?\n",
    "* Are there any observable trends in the categorical data provided?\n",
    "* What clusters and groupings are in the data? How do groups compare in popularity?"
   ]
  },
  {
   "cell_type": "markdown",
   "metadata": {},
   "source": [
    "# Analysis\n",
    "\n",
    "Key analysis methods used in report:\n",
    "* Data Cleaning\n",
    "* Sorting and subsets of the data.\n",
    "* Line and bar plots.\n",
    "* Multiple regression"
   ]
  },
  {
   "cell_type": "code",
   "execution_count": 141,
   "metadata": {},
   "outputs": [],
   "source": [
    "import os\n",
    "import pandas as pd\n",
    "import numpy as np\n",
    "import matplotlib\n",
    "import matplotlib.pyplot as plt\n",
    "import seaborn as sn"
   ]
  },
  {
   "cell_type": "markdown",
   "metadata": {},
   "source": [
    "## About the Data"
   ]
  },
  {
   "cell_type": "code",
   "execution_count": null,
   "metadata": {},
   "outputs": [],
   "source": []
  },
  {
   "cell_type": "code",
   "execution_count": 142,
   "metadata": {},
   "outputs": [],
   "source": [
    "dataFileName = \"data/database.csv\"\n",
    "isExist = os.path.isfile(dataFileName)\n",
    "if isExist == True:\n",
    "    dfDirtyData = pd.read_csv(dataFileName, sep=\",\", header=0)\n",
    "else:\n",
    "    print(\"File not found:\", os.getcwd())\n"
   ]
  },
  {
   "cell_type": "markdown",
   "execution_count": null,
   "metadata": {},
   "outputs": [],
   "source": [
    "A variable called dataFileName is create to store the data file name. Then the dataFileName is checked to make it exists in the current working directory. The boolean value then stored in isExist variable. If the value of the isExist is true then the file is loaded into a Pandas dataframe otherwise a message is printed to remind that the file does exists or miss-spelled."
   ]
  },
  {
   "cell_type": "code",
   "execution_count": 143,
   "metadata": {},
   "outputs": [
    {
     "name": "stdout",
     "output_type": "stream",
     "text": "<class 'pandas.core.frame.DataFrame'>\nRangeIndex: 11341 entries, 0 to 11340\nData columns (total 17 columns):\narticle_id                     11341 non-null int64\nfull_name                      11341 non-null object\nsex                            11341 non-null object\nbirth_year                     11341 non-null object\ncity                           11341 non-null object\nstate                          2172 non-null object\ncountry                        11308 non-null object\ncontinent                      11311 non-null object\nlatitude                       10294 non-null float64\nlongitude                      10294 non-null float64\noccupation                     11341 non-null object\nindustry                       11341 non-null object\ndomain                         11341 non-null object\narticle_languages              11341 non-null int64\npage_views                     11341 non-null int64\naverage_views                  11341 non-null int64\nhistorical_popularity_index    11341 non-null float64\ndtypes: float64(3), int64(4), object(10)\nmemory usage: 1.5+ MB\n"
    }
   ],
   "source": [
    "dfDirtyData.info()"
   ]
  },
  {
   "cell_type": "markdown",
   "execution_count": null,
   "metadata": {},
   "outputs": [],
   "source": [
    "The .info() function is used to display the information about the dataframe. This function provides the dataframe information such as column names, total count of rows for each column, and data types. "
   ]
  },
  {
   "cell_type": "code",
   "execution_count": 144,
   "metadata": {},
   "outputs": [],
   "source": [
    "columnToDisplayDirtyData = ['full_name', 'sex', 'birth_year', 'country', 'occupation','historical_popularity_index']"
   ]
  },
  {
   "cell_type": "markdown",
   "execution_count": null,
   "metadata": {},
   "outputs": [],
   "source": [
    "There too many columns in the dataset that would not fit nicely on the report. A variable called columnToDisplayDirtyData is created to store customized number of columns to display. There are six columns included: full_name', 'sex', 'birth_year', 'country', 'occupation', and 'historical_popularity_index'"
   ]
  },
  {
   "cell_type": "code",
   "execution_count": 145,
   "metadata": {},
   "outputs": [
    {
     "data": {
      "text/plain": "article_id                             23671899\nfull_name                                Elisha\nsex                                        Male\nbirth_year                              Unknown\ncity                                      Other\nstate                                       NaN\ncountry                                 Unknown\ncontinent                               Unknown\nlatitude                                    NaN\nlongitude                                   NaN\noccupation                     Religious Figure\nindustry                               Religion\ndomain                             Institutions\narticle_languages                            41\npage_views                              1338790\naverage_views                             32653\nhistorical_popularity_index             25.5087\nName: 1522, dtype: object"
     },
     "execution_count": 145,
     "metadata": {},
     "output_type": "execute_result"
    }
   ],
   "source": [
    "# Section 4\n",
    "dfDirtyData.loc[1522]"
   ]
  },
  {
   "cell_type": "markdown",
   "execution_count": null,
   "metadata": {},
   "outputs": [],
   "source": [
    "The .loc() function is used to locate a row data based the row index to display on the report.\n"
   ]
  },
  {
   "cell_type": "code",
   "execution_count": 146,
   "metadata": {},
   "outputs": [
    {
     "data": {
      "text/html": "<div>\n<style scoped>\n    .dataframe tbody tr th:only-of-type {\n        vertical-align: middle;\n    }\n\n    .dataframe tbody tr th {\n        vertical-align: top;\n    }\n\n    .dataframe thead th {\n        text-align: right;\n    }\n</style>\n<table border=\"1\" class=\"dataframe\">\n  <thead>\n    <tr style=\"text-align: right;\">\n      <th></th>\n      <th>full_name</th>\n      <th>sex</th>\n      <th>birth_year</th>\n      <th>country</th>\n      <th>occupation</th>\n      <th>historical_popularity_index</th>\n    </tr>\n  </thead>\n  <tbody>\n    <tr>\n      <th>0</th>\n      <td>Aristotle</td>\n      <td>Male</td>\n      <td>-384</td>\n      <td>Greece</td>\n      <td>Philosopher</td>\n      <td>31.9938</td>\n    </tr>\n    <tr>\n      <th>1</th>\n      <td>Plato</td>\n      <td>Male</td>\n      <td>-427</td>\n      <td>Greece</td>\n      <td>Philosopher</td>\n      <td>31.9888</td>\n    </tr>\n    <tr>\n      <th>2</th>\n      <td>Jesus Christ</td>\n      <td>Male</td>\n      <td>-4</td>\n      <td>Israel</td>\n      <td>Religious Figure</td>\n      <td>31.8981</td>\n    </tr>\n    <tr>\n      <th>3</th>\n      <td>Socrates</td>\n      <td>Male</td>\n      <td>-469</td>\n      <td>Greece</td>\n      <td>Philosopher</td>\n      <td>31.6521</td>\n    </tr>\n    <tr>\n      <th>4</th>\n      <td>Alexander the Great</td>\n      <td>Male</td>\n      <td>-356</td>\n      <td>Greece</td>\n      <td>Military Personnel</td>\n      <td>31.5840</td>\n    </tr>\n  </tbody>\n</table>\n</div>",
      "text/plain": "             full_name   sex birth_year country          occupation  \\\n0            Aristotle  Male       -384  Greece         Philosopher   \n1                Plato  Male       -427  Greece         Philosopher   \n2         Jesus Christ  Male         -4  Israel    Religious Figure   \n3             Socrates  Male       -469  Greece         Philosopher   \n4  Alexander the Great  Male       -356  Greece  Military Personnel   \n\n   historical_popularity_index  \n0                      31.9938  \n1                      31.9888  \n2                      31.8981  \n3                      31.6521  \n4                      31.5840  "
     },
     "execution_count": 146,
     "metadata": {},
     "output_type": "execute_result"
    }
   ],
   "source": [
    "dfDirtyData.loc[:,columnToDisplayDirtyData].head(5)"
   ]
  },
  {
   "cell_type": "markdown",
   "execution_count": null,
   "metadata": {},
   "outputs": [],
   "source": [
    "The .head(5) function is used to display the first 5 rows in the dataset. The columns to display are based on the variable  called columnToDisplayDirtyData that was created in Section 3."
   ]
  },
  {
   "cell_type": "code",
   "execution_count": 147,
   "metadata": {},
   "outputs": [
    {
     "data": {
      "text/html": "<div>\n<style scoped>\n    .dataframe tbody tr th:only-of-type {\n        vertical-align: middle;\n    }\n\n    .dataframe tbody tr th {\n        vertical-align: top;\n    }\n\n    .dataframe thead th {\n        text-align: right;\n    }\n</style>\n<table border=\"1\" class=\"dataframe\">\n  <thead>\n    <tr style=\"text-align: right;\">\n      <th></th>\n      <th>full_name</th>\n      <th>sex</th>\n      <th>birth_year</th>\n      <th>country</th>\n      <th>occupation</th>\n      <th>historical_popularity_index</th>\n    </tr>\n  </thead>\n  <tbody>\n    <tr>\n      <th>11336</th>\n      <td>Sean St Ledger</td>\n      <td>Male</td>\n      <td>1984</td>\n      <td>United Kingdom</td>\n      <td>Soccer Player</td>\n      <td>11.1346</td>\n    </tr>\n    <tr>\n      <th>11337</th>\n      <td>Saina Nehwal</td>\n      <td>Female</td>\n      <td>1990</td>\n      <td>India</td>\n      <td>Athlete</td>\n      <td>10.6122</td>\n    </tr>\n    <tr>\n      <th>11338</th>\n      <td>Rūta Meilutytė</td>\n      <td>Female</td>\n      <td>1997</td>\n      <td>Lithuania</td>\n      <td>Swimmer</td>\n      <td>10.3821</td>\n    </tr>\n    <tr>\n      <th>11339</th>\n      <td>Vladimír Weiss</td>\n      <td>Male</td>\n      <td>1989</td>\n      <td>Slovakia</td>\n      <td>Soccer Player</td>\n      <td>10.2495</td>\n    </tr>\n    <tr>\n      <th>11340</th>\n      <td>Missy Franklin</td>\n      <td>Female</td>\n      <td>1995</td>\n      <td>United States</td>\n      <td>Swimmer</td>\n      <td>9.8794</td>\n    </tr>\n  </tbody>\n</table>\n</div>",
      "text/plain": "            full_name     sex birth_year         country     occupation  \\\n11336  Sean St Ledger    Male       1984  United Kingdom  Soccer Player   \n11337    Saina Nehwal  Female       1990           India        Athlete   \n11338  Rūta Meilutytė  Female       1997       Lithuania        Swimmer   \n11339  Vladimír Weiss    Male       1989        Slovakia  Soccer Player   \n11340  Missy Franklin  Female       1995   United States        Swimmer   \n\n       historical_popularity_index  \n11336                      11.1346  \n11337                      10.6122  \n11338                      10.3821  \n11339                      10.2495  \n11340                       9.8794  "
     },
     "execution_count": 147,
     "metadata": {},
     "output_type": "execute_result"
    }
   ],
   "source": [
    "dfDirtyData.loc[:,columnToDisplayDirtyData].tail(5)"
   ]
  },
  {
   "cell_type": "markdown",
   "execution_count": null,
   "metadata": {},
   "outputs": [],
   "source": [
    "The .tail(5) function is used to display the last 5 rows in the dataset. The columns to display are based on the variable  called columnToDisplayDirtyData that was created in Section 3."
   ]
  },
  {
   "cell_type": "markdown",
   "metadata": {},
   "source": [
    "## Data Cleaning\n",
    "#### There are data issues so there are a few functions were create to help automate the cleaning process."
   ]
  },
  {
   "cell_type": "code",
   "execution_count": 148,
   "metadata": {},
   "outputs": [],
   "source": [
    "def fillNaN(df, dataType, defaultValue):\n",
    "    for column in df.columns:\n",
    "        if(df[column].dtype == dataType):\n",
    "            df[column].fillna(value = defaultValue, inplace=True)"
   ]
  },
  {
   "cell_type": "markdown",
   "execution_count": 177,
   "metadata": {},
   "outputs": [],
   "source": [
    "fillNaN() function takes three input paramters: data frame, data Type, and default value. This function is designed to replace the NaN value with the default value provided by the caller based on a matching data type. Below are examples on how the function can be called:\n",
    "* fillNaN(dfCleanData,'object', 'Unknown')\n",
    "* fillNaN(dfCleanData,'float64', 12345.888)"
   ]
  },
  {
   "cell_type": "code",
   "execution_count": 149,
   "metadata": {},
   "outputs": [],
   "source": [
    "def removeCharFromNumber(inputValue):\n",
    "    a = ''\n",
    "    inputValue = str(inputValue)\n",
    "    for char in inputValue:\n",
    "        if char.isdigit() == True:\n",
    "            a = a + char\n",
    "    return a"
   ]
  },
  {
   "cell_type": "markdown",
   "execution_count": null,
   "metadata": {},
   "outputs": [],
   "source": [
    "removeCharFromNumber() function takes one inpurt parameter: string or text. This function iterates through, finds, and concatenates numbers together. Below are examples on how the function can be called:\n",
    "* removeCharFromNumber('127?')"
   ]
  },
  {
   "cell_type": "code",
   "execution_count": 150,
   "metadata": {},
   "outputs": [],
   "source": [
    "def convertToNumber(df, columns):\n",
    "    for col in columns:\n",
    "        for idx, value in enumerate(df[col]):\n",
    "            try:\n",
    "                int(value)\n",
    "            except:\n",
    "                newValue = ''\n",
    "                newValue = removeCharFromNumber(value)\n",
    "                if newValue != '':\n",
    "                    df.loc[idx, col] = newValue\n",
    "                else:\n",
    "                    df.loc[idx, col] = 0"
   ]
  },
  {
   "cell_type": "markdown",
   "execution_count": null,
   "metadata": {},
   "outputs": [],
   "source": [
    "convertToNumber() function takes two input parameters: a dataframe and a list of column names. This function is designed to convert the values for each column from possible alpha-numeric to numeric and default the value to zero if nothing is there.\n",
    "\n",
    "Example:\n",
    "* columnList = [['birth_year', 'latitude', 'longitude']]\n",
    "* convertToNumber(dataframe, columnList)"
   ]
  },
  {
   "cell_type": "code",
   "execution_count": 151,
   "metadata": {},
   "outputs": [],
   "source": [
    "dfCleanData = dfDirtyData.copy()"
   ]
  },
  {
   "cell_type": "markdown",
   "execution_count": null,
   "metadata": {},
   "outputs": [],
   "source": [
    "The .copy() function is used to make a copy of the original dataframe into a new one. This way when the modification is made to the new dataframe, data in the original dataframe will not be touched."
   ]
  },
  {
   "cell_type": "code",
   "execution_count": 152,
   "metadata": {},
   "outputs": [],
   "source": [
    "dfCleanData.rename(columns={'historical_popularity_index': 'popularity'}, inplace=True)"
   ]
  },
  {
   "cell_type": "markdown",
   "execution_count": null,
   "metadata": {},
   "outputs": [],
   "source": [
    "'historical_popularity_index' column is being rename as 'popularity' so it fits much nicely for displaying purposes."
   ]
  },
  {
   "cell_type": "code",
   "execution_count": 153,
   "metadata": {},
   "outputs": [],
   "source": [
    "fillNaN(dfCleanData, 'object', 'Unknown')"
   ]
  },
  {
   "cell_type": "markdown",
   "execution_count": null,
   "metadata": {},
   "outputs": [],
   "source": [
    "fillNaN() function is called by passing a dataframe (dfCleanData), data type ('object'), and default value ('Unknown). The funtion then go through the dataframe, looking for columns with 'object' data type then replace 'na' with 'Unknown'"
   ]
  },
  {
   "cell_type": "code",
   "execution_count": 155,
   "metadata": {},
   "outputs": [],
   "source": [
    "columnToNumeric = [\"article_languages\", \"birth_year\", \"latitude\", \"longitude\", \"page_views\",\"average_views\", \"popularity\"]\n",
    "convertToNumber(dfCleanData, columnToNumeric)\n",
    "dfCleanData[columnToNumeric] = dfCleanData[columnToNumeric].apply(pd.to_numeric)\n",
    "#for col in columnToNumeric:\n",
    "#    indx = []\n",
    "#    indx = findStringValueIndex(dfCleanData, col)\n",
    "#    if len(indx) > 0 :\n",
    "#        dfCleanData.loc[indx, col] = 0\n",
    "# Converting the columns above to numeric data type"
   ]
  },
  {
   "cell_type": "code",
   "execution_count": 156,
   "metadata": {},
   "outputs": [],
   "source": [
    "# List of columns to be converted into numeric data type\n",
    "#columnToConvert = [\"birth_year\"]\n",
    "# Making sure to replace the non-numeric values to 0 before converting to numeric\n",
    "# Examples: \n",
    "#           dfCleanData.loc[findStringValueIndex('latitude'), 'latitude'] = 0\n",
    "# The following code block is doing similiar to the examples but \n",
    "# through the iteration of the list \n",
    "# replaced incorrect birth year with an actual year\n",
    "#dfCleanData['birth_year'] = dfCleanData['birth_year'].replace(['1237?'], 1237).replace(['530s'], 530)"
   ]
  },
  {
   "cell_type": "code",
   "execution_count": 157,
   "metadata": {},
   "outputs": [
    {
     "name": "stdout",
     "output_type": "stream",
     "text": "<class 'pandas.core.frame.DataFrame'>\nRangeIndex: 11341 entries, 0 to 11340\nData columns (total 17 columns):\narticle_id           11341 non-null int64\nfull_name            11341 non-null object\nsex                  11341 non-null object\nbirth_year           11341 non-null int64\ncity                 11341 non-null object\nstate                11341 non-null object\ncountry              11341 non-null object\ncontinent            11341 non-null object\nlatitude             11341 non-null float64\nlongitude            11341 non-null float64\noccupation           11341 non-null object\nindustry             11341 non-null object\ndomain               11341 non-null object\narticle_languages    11341 non-null int64\npage_views           11341 non-null int64\naverage_views        11341 non-null int64\npopularity           11341 non-null float64\ndtypes: float64(3), int64(5), object(9)\nmemory usage: 1.5+ MB\n"
    }
   ],
   "source": [
    "# Showing inforamtion about the dataframe\n",
    "dfCleanData.info()"
   ]
  },
  {
   "cell_type": "code",
   "execution_count": 158,
   "metadata": {},
   "outputs": [
    {
     "name": "stdout",
     "output_type": "stream",
     "text": "Dirty Data: 3009    1237?\nName: birth_year, dtype: object\n\nClean Data: 3009    1237\nName: birth_year, dtype: int64\n"
    }
   ],
   "source": [
    "print('Dirty Data:', dfDirtyData[dfDirtyData['birth_year'] == '1237?'].loc[:,'birth_year'])\n",
    "print()\n",
    "print('Clean Data:', dfCleanData[dfCleanData['birth_year'] == 1237].loc[:,'birth_year'])\n"
   ]
  },
  {
   "cell_type": "code",
   "execution_count": 159,
   "metadata": {},
   "outputs": [
    {
     "name": "stdout",
     "output_type": "stream",
     "text": "Dirty Data: 1522    Unknown\nName: birth_year, dtype: object\n\nClean Data: 1522    0\nName: birth_year, dtype: int64\n"
    }
   ],
   "source": [
    "print('Dirty Data:', dfDirtyData[dfDirtyData['article_id'] == 23671899].loc[:,'birth_year'])\n",
    "print()\n",
    "print('Clean Data:', dfCleanData[dfCleanData['article_id'] == 23671899].loc[:,'birth_year'])"
   ]
  },
  {
   "cell_type": "code",
   "execution_count": 160,
   "metadata": {},
   "outputs": [
    {
     "name": "stdout",
     "output_type": "stream",
     "text": "Dirty Data: 1522    NaN\nName: state, dtype: object\n\nClean Data: 1522    Unknown\nName: state, dtype: object\n"
    }
   ],
   "source": [
    "print('Dirty Data:', dfDirtyData[dfDirtyData['article_id'] == 23671899].loc[:,'state'])\n",
    "print()\n",
    "print('Clean Data:', dfCleanData[dfCleanData['article_id'] == 23671899].loc[:,'state'])"
   ]
  },
  {
   "cell_type": "code",
   "execution_count": 161,
   "metadata": {},
   "outputs": [],
   "source": [
    "# Creating a varibale to hold fields for displaying purpose since not all will fit\n",
    "columnToDisplayCleanData = ['full_name', 'sex', 'birth_year', 'country', 'industry','domain','occupation','popularity']"
   ]
  },
  {
   "cell_type": "code",
   "execution_count": 162,
   "metadata": {},
   "outputs": [
    {
     "data": {
      "text/html": "<div>\n<style scoped>\n    .dataframe tbody tr th:only-of-type {\n        vertical-align: middle;\n    }\n\n    .dataframe tbody tr th {\n        vertical-align: top;\n    }\n\n    .dataframe thead th {\n        text-align: right;\n    }\n</style>\n<table border=\"1\" class=\"dataframe\">\n  <thead>\n    <tr style=\"text-align: right;\">\n      <th></th>\n      <th>full_name</th>\n      <th>sex</th>\n      <th>birth_year</th>\n      <th>country</th>\n      <th>industry</th>\n      <th>domain</th>\n      <th>occupation</th>\n      <th>popularity</th>\n    </tr>\n  </thead>\n  <tbody>\n    <tr>\n      <th>0</th>\n      <td>Aristotle</td>\n      <td>Male</td>\n      <td>-384</td>\n      <td>Greece</td>\n      <td>Philosophy</td>\n      <td>Humanities</td>\n      <td>Philosopher</td>\n      <td>31.9938</td>\n    </tr>\n    <tr>\n      <th>1</th>\n      <td>Plato</td>\n      <td>Male</td>\n      <td>-427</td>\n      <td>Greece</td>\n      <td>Philosophy</td>\n      <td>Humanities</td>\n      <td>Philosopher</td>\n      <td>31.9888</td>\n    </tr>\n    <tr>\n      <th>2</th>\n      <td>Jesus Christ</td>\n      <td>Male</td>\n      <td>-4</td>\n      <td>Israel</td>\n      <td>Religion</td>\n      <td>Institutions</td>\n      <td>Religious Figure</td>\n      <td>31.8981</td>\n    </tr>\n    <tr>\n      <th>3</th>\n      <td>Socrates</td>\n      <td>Male</td>\n      <td>-469</td>\n      <td>Greece</td>\n      <td>Philosophy</td>\n      <td>Humanities</td>\n      <td>Philosopher</td>\n      <td>31.6521</td>\n    </tr>\n    <tr>\n      <th>4</th>\n      <td>Alexander the Great</td>\n      <td>Male</td>\n      <td>-356</td>\n      <td>Greece</td>\n      <td>Military</td>\n      <td>Institutions</td>\n      <td>Military Personnel</td>\n      <td>31.5840</td>\n    </tr>\n  </tbody>\n</table>\n</div>",
      "text/plain": "             full_name   sex  birth_year country    industry        domain  \\\n0            Aristotle  Male        -384  Greece  Philosophy    Humanities   \n1                Plato  Male        -427  Greece  Philosophy    Humanities   \n2         Jesus Christ  Male          -4  Israel    Religion  Institutions   \n3             Socrates  Male        -469  Greece  Philosophy    Humanities   \n4  Alexander the Great  Male        -356  Greece    Military  Institutions   \n\n           occupation  popularity  \n0         Philosopher     31.9938  \n1         Philosopher     31.9888  \n2    Religious Figure     31.8981  \n3         Philosopher     31.6521  \n4  Military Personnel     31.5840  "
     },
     "execution_count": 162,
     "metadata": {},
     "output_type": "execute_result"
    }
   ],
   "source": [
    "# Showing the first 5 rows of the data in the dataset\n",
    "dfCleanData.loc[:,columnToDisplayCleanData].head(5)"
   ]
  },
  {
   "cell_type": "code",
   "execution_count": 163,
   "metadata": {},
   "outputs": [
    {
     "data": {
      "text/html": "<div>\n<style scoped>\n    .dataframe tbody tr th:only-of-type {\n        vertical-align: middle;\n    }\n\n    .dataframe tbody tr th {\n        vertical-align: top;\n    }\n\n    .dataframe thead th {\n        text-align: right;\n    }\n</style>\n<table border=\"1\" class=\"dataframe\">\n  <thead>\n    <tr style=\"text-align: right;\">\n      <th></th>\n      <th>full_name</th>\n      <th>sex</th>\n      <th>birth_year</th>\n      <th>country</th>\n      <th>industry</th>\n      <th>domain</th>\n      <th>occupation</th>\n      <th>popularity</th>\n    </tr>\n  </thead>\n  <tbody>\n    <tr>\n      <th>11336</th>\n      <td>Sean St Ledger</td>\n      <td>Male</td>\n      <td>1984</td>\n      <td>United Kingdom</td>\n      <td>Team Sports</td>\n      <td>Sports</td>\n      <td>Soccer Player</td>\n      <td>11.1346</td>\n    </tr>\n    <tr>\n      <th>11337</th>\n      <td>Saina Nehwal</td>\n      <td>Female</td>\n      <td>1990</td>\n      <td>India</td>\n      <td>Individual Sports</td>\n      <td>Sports</td>\n      <td>Athlete</td>\n      <td>10.6122</td>\n    </tr>\n    <tr>\n      <th>11338</th>\n      <td>Rūta Meilutytė</td>\n      <td>Female</td>\n      <td>1997</td>\n      <td>Lithuania</td>\n      <td>Individual Sports</td>\n      <td>Sports</td>\n      <td>Swimmer</td>\n      <td>10.3821</td>\n    </tr>\n    <tr>\n      <th>11339</th>\n      <td>Vladimír Weiss</td>\n      <td>Male</td>\n      <td>1989</td>\n      <td>Slovakia</td>\n      <td>Team Sports</td>\n      <td>Sports</td>\n      <td>Soccer Player</td>\n      <td>10.2495</td>\n    </tr>\n    <tr>\n      <th>11340</th>\n      <td>Missy Franklin</td>\n      <td>Female</td>\n      <td>1995</td>\n      <td>United States</td>\n      <td>Individual Sports</td>\n      <td>Sports</td>\n      <td>Swimmer</td>\n      <td>9.8794</td>\n    </tr>\n  </tbody>\n</table>\n</div>",
      "text/plain": "            full_name     sex  birth_year         country           industry  \\\n11336  Sean St Ledger    Male        1984  United Kingdom        Team Sports   \n11337    Saina Nehwal  Female        1990           India  Individual Sports   \n11338  Rūta Meilutytė  Female        1997       Lithuania  Individual Sports   \n11339  Vladimír Weiss    Male        1989        Slovakia        Team Sports   \n11340  Missy Franklin  Female        1995   United States  Individual Sports   \n\n       domain     occupation  popularity  \n11336  Sports  Soccer Player     11.1346  \n11337  Sports        Athlete     10.6122  \n11338  Sports        Swimmer     10.3821  \n11339  Sports  Soccer Player     10.2495  \n11340  Sports        Swimmer      9.8794  "
     },
     "execution_count": 163,
     "metadata": {},
     "output_type": "execute_result"
    }
   ],
   "source": [
    "# Showing the last 5 rows of the data in the dataset\n",
    "dfCleanData.loc[:,columnToDisplayCleanData].tail(5)"
   ]
  },
  {
   "cell_type": "code",
   "execution_count": 164,
   "metadata": {},
   "outputs": [],
   "source": [
    "#sn.heatmap()"
   ]
  },
  {
   "cell_type": "markdown",
   "metadata": {},
   "source": [
    "## Exploration"
   ]
  },
  {
   "cell_type": "code",
   "execution_count": 165,
   "metadata": {},
   "outputs": [
    {
     "data": {
      "text/html": "<div>\n<style scoped>\n    .dataframe tbody tr th:only-of-type {\n        vertical-align: middle;\n    }\n\n    .dataframe tbody tr th {\n        vertical-align: top;\n    }\n\n    .dataframe thead th {\n        text-align: right;\n    }\n</style>\n<table border=\"1\" class=\"dataframe\">\n  <thead>\n    <tr style=\"text-align: right;\">\n      <th></th>\n      <th></th>\n      <th>total_count</th>\n    </tr>\n    <tr>\n      <th>industry</th>\n      <th>sex</th>\n      <th></th>\n    </tr>\n  </thead>\n  <tbody>\n    <tr>\n      <th rowspan=\"2\" valign=\"top\">Activism</th>\n      <th>Female</th>\n      <td>38</td>\n    </tr>\n    <tr>\n      <th>Male</th>\n      <td>76</td>\n    </tr>\n    <tr>\n      <th rowspan=\"2\" valign=\"top\">Business</th>\n      <th>Female</th>\n      <td>4</td>\n    </tr>\n    <tr>\n      <th>Male</th>\n      <td>87</td>\n    </tr>\n    <tr>\n      <th rowspan=\"2\" valign=\"top\">Companions</th>\n      <th>Female</th>\n      <td>94</td>\n    </tr>\n    <tr>\n      <th>Male</th>\n      <td>7</td>\n    </tr>\n    <tr>\n      <th rowspan=\"2\" valign=\"top\">Computer Science</th>\n      <th>Female</th>\n      <td>1</td>\n    </tr>\n    <tr>\n      <th>Male</th>\n      <td>32</td>\n    </tr>\n    <tr>\n      <th rowspan=\"2\" valign=\"top\">Dance</th>\n      <th>Female</th>\n      <td>7</td>\n    </tr>\n    <tr>\n      <th>Male</th>\n      <td>5</td>\n    </tr>\n  </tbody>\n</table>\n</div>",
      "text/plain": "                         total_count\nindustry         sex                \nActivism         Female           38\n                 Male             76\nBusiness         Female            4\n                 Male             87\nCompanions       Female           94\n                 Male              7\nComputer Science Female            1\n                 Male             32\nDance            Female            7\n                 Male              5"
     },
     "execution_count": 165,
     "metadata": {},
     "output_type": "execute_result"
    }
   ],
   "source": [
    "# Grouping total by continent and sex\n",
    "dfTotalByContinentBySex = pd.DataFrame(dfCleanData.groupby(['industry','sex'])['article_id'].count())\n",
    "dfTotalByContinentBySex .rename(columns={'article_id': 'total_count'}, inplace=True)\n",
    "dfTotalByContinentBySex.sort_values(by = ['industry'], ascending = True).head(10)"
   ]
  },
  {
   "cell_type": "code",
   "execution_count": 199,
   "metadata": {},
   "outputs": [
    {
     "ename": "TypeError",
     "evalue": "unhashable type: 'numpy.ndarray'",
     "output_type": "error",
     "traceback": [
      "\u001b[1;31m---------------------------------------------------------------------------\u001b[0m",
      "\u001b[1;31mTypeError\u001b[0m                                 Traceback (most recent call last)",
      "\u001b[1;32m<ipython-input-199-fa689181312c>\u001b[0m in \u001b[0;36m<module>\u001b[1;34m\u001b[0m\n\u001b[0;32m      4\u001b[0m \u001b[0my\u001b[0m \u001b[1;33m=\u001b[0m \u001b[0mdfByIndustry\u001b[0m\u001b[1;33m.\u001b[0m\u001b[0mloc\u001b[0m\u001b[1;33m[\u001b[0m\u001b[1;33m:\u001b[0m\u001b[1;33m,\u001b[0m \u001b[1;33m[\u001b[0m\u001b[1;34m'birth_year'\u001b[0m\u001b[1;33m]\u001b[0m\u001b[1;33m]\u001b[0m\u001b[1;33m\u001b[0m\u001b[1;33m\u001b[0m\u001b[0m\n\u001b[0;32m      5\u001b[0m \u001b[0mwidth\u001b[0m \u001b[1;33m=\u001b[0m \u001b[1;36m1\u001b[0m\u001b[1;33m\u001b[0m\u001b[1;33m\u001b[0m\u001b[0m\n\u001b[1;32m----> 6\u001b[1;33m \u001b[0mplt\u001b[0m\u001b[1;33m.\u001b[0m\u001b[0mbar\u001b[0m\u001b[1;33m(\u001b[0m\u001b[0mx\u001b[0m\u001b[1;33m,\u001b[0m\u001b[0my\u001b[0m\u001b[1;33m,\u001b[0m \u001b[0mwidth\u001b[0m\u001b[1;33m,\u001b[0m \u001b[0mlable\u001b[0m\u001b[1;33m=\u001b[0m\u001b[1;34m\"Sex and Birth Year\"\u001b[0m\u001b[1;33m)\u001b[0m\u001b[1;33m\u001b[0m\u001b[1;33m\u001b[0m\u001b[0m\n\u001b[0m",
      "\u001b[1;32mC:\\ProgramData\\Anaconda3\\lib\\site-packages\\matplotlib\\pyplot.py\u001b[0m in \u001b[0;36mbar\u001b[1;34m(x, height, width, bottom, align, data, **kwargs)\u001b[0m\n\u001b[0;32m   2438\u001b[0m     return gca().bar(\n\u001b[0;32m   2439\u001b[0m         \u001b[0mx\u001b[0m\u001b[1;33m,\u001b[0m \u001b[0mheight\u001b[0m\u001b[1;33m,\u001b[0m \u001b[0mwidth\u001b[0m\u001b[1;33m=\u001b[0m\u001b[0mwidth\u001b[0m\u001b[1;33m,\u001b[0m \u001b[0mbottom\u001b[0m\u001b[1;33m=\u001b[0m\u001b[0mbottom\u001b[0m\u001b[1;33m,\u001b[0m \u001b[0malign\u001b[0m\u001b[1;33m=\u001b[0m\u001b[0malign\u001b[0m\u001b[1;33m,\u001b[0m\u001b[1;33m\u001b[0m\u001b[1;33m\u001b[0m\u001b[0m\n\u001b[1;32m-> 2440\u001b[1;33m         **({\"data\": data} if data is not None else {}), **kwargs)\n\u001b[0m\u001b[0;32m   2441\u001b[0m \u001b[1;33m\u001b[0m\u001b[0m\n\u001b[0;32m   2442\u001b[0m \u001b[1;33m\u001b[0m\u001b[0m\n",
      "\u001b[1;32mC:\\ProgramData\\Anaconda3\\lib\\site-packages\\matplotlib\\__init__.py\u001b[0m in \u001b[0;36minner\u001b[1;34m(ax, data, *args, **kwargs)\u001b[0m\n\u001b[0;32m   1599\u001b[0m     \u001b[1;32mdef\u001b[0m \u001b[0minner\u001b[0m\u001b[1;33m(\u001b[0m\u001b[0max\u001b[0m\u001b[1;33m,\u001b[0m \u001b[1;33m*\u001b[0m\u001b[0margs\u001b[0m\u001b[1;33m,\u001b[0m \u001b[0mdata\u001b[0m\u001b[1;33m=\u001b[0m\u001b[1;32mNone\u001b[0m\u001b[1;33m,\u001b[0m \u001b[1;33m**\u001b[0m\u001b[0mkwargs\u001b[0m\u001b[1;33m)\u001b[0m\u001b[1;33m:\u001b[0m\u001b[1;33m\u001b[0m\u001b[1;33m\u001b[0m\u001b[0m\n\u001b[0;32m   1600\u001b[0m         \u001b[1;32mif\u001b[0m \u001b[0mdata\u001b[0m \u001b[1;32mis\u001b[0m \u001b[1;32mNone\u001b[0m\u001b[1;33m:\u001b[0m\u001b[1;33m\u001b[0m\u001b[1;33m\u001b[0m\u001b[0m\n\u001b[1;32m-> 1601\u001b[1;33m             \u001b[1;32mreturn\u001b[0m \u001b[0mfunc\u001b[0m\u001b[1;33m(\u001b[0m\u001b[0max\u001b[0m\u001b[1;33m,\u001b[0m \u001b[1;33m*\u001b[0m\u001b[0mmap\u001b[0m\u001b[1;33m(\u001b[0m\u001b[0msanitize_sequence\u001b[0m\u001b[1;33m,\u001b[0m \u001b[0margs\u001b[0m\u001b[1;33m)\u001b[0m\u001b[1;33m,\u001b[0m \u001b[1;33m**\u001b[0m\u001b[0mkwargs\u001b[0m\u001b[1;33m)\u001b[0m\u001b[1;33m\u001b[0m\u001b[1;33m\u001b[0m\u001b[0m\n\u001b[0m\u001b[0;32m   1602\u001b[0m \u001b[1;33m\u001b[0m\u001b[0m\n\u001b[0;32m   1603\u001b[0m         \u001b[0mbound\u001b[0m \u001b[1;33m=\u001b[0m \u001b[0mnew_sig\u001b[0m\u001b[1;33m.\u001b[0m\u001b[0mbind\u001b[0m\u001b[1;33m(\u001b[0m\u001b[0max\u001b[0m\u001b[1;33m,\u001b[0m \u001b[1;33m*\u001b[0m\u001b[0margs\u001b[0m\u001b[1;33m,\u001b[0m \u001b[1;33m**\u001b[0m\u001b[0mkwargs\u001b[0m\u001b[1;33m)\u001b[0m\u001b[1;33m\u001b[0m\u001b[1;33m\u001b[0m\u001b[0m\n",
      "\u001b[1;32mC:\\ProgramData\\Anaconda3\\lib\\site-packages\\matplotlib\\axes\\_axes.py\u001b[0m in \u001b[0;36mbar\u001b[1;34m(self, x, height, width, bottom, align, **kwargs)\u001b[0m\n\u001b[0;32m   2346\u001b[0m \u001b[1;33m\u001b[0m\u001b[0m\n\u001b[0;32m   2347\u001b[0m         \u001b[1;32mif\u001b[0m \u001b[0morientation\u001b[0m \u001b[1;33m==\u001b[0m \u001b[1;34m'vertical'\u001b[0m\u001b[1;33m:\u001b[0m\u001b[1;33m\u001b[0m\u001b[1;33m\u001b[0m\u001b[0m\n\u001b[1;32m-> 2348\u001b[1;33m             \u001b[0mself\u001b[0m\u001b[1;33m.\u001b[0m\u001b[0m_process_unit_info\u001b[0m\u001b[1;33m(\u001b[0m\u001b[0mxdata\u001b[0m\u001b[1;33m=\u001b[0m\u001b[0mx\u001b[0m\u001b[1;33m,\u001b[0m \u001b[0mydata\u001b[0m\u001b[1;33m=\u001b[0m\u001b[0mheight\u001b[0m\u001b[1;33m,\u001b[0m \u001b[0mkwargs\u001b[0m\u001b[1;33m=\u001b[0m\u001b[0mkwargs\u001b[0m\u001b[1;33m)\u001b[0m\u001b[1;33m\u001b[0m\u001b[1;33m\u001b[0m\u001b[0m\n\u001b[0m\u001b[0;32m   2349\u001b[0m             \u001b[1;32mif\u001b[0m \u001b[0mlog\u001b[0m\u001b[1;33m:\u001b[0m\u001b[1;33m\u001b[0m\u001b[1;33m\u001b[0m\u001b[0m\n\u001b[0;32m   2350\u001b[0m                 \u001b[0mself\u001b[0m\u001b[1;33m.\u001b[0m\u001b[0mset_yscale\u001b[0m\u001b[1;33m(\u001b[0m\u001b[1;34m'log'\u001b[0m\u001b[1;33m,\u001b[0m \u001b[0mnonposy\u001b[0m\u001b[1;33m=\u001b[0m\u001b[1;34m'clip'\u001b[0m\u001b[1;33m)\u001b[0m\u001b[1;33m\u001b[0m\u001b[1;33m\u001b[0m\u001b[0m\n",
      "\u001b[1;32mC:\\ProgramData\\Anaconda3\\lib\\site-packages\\matplotlib\\axes\\_base.py\u001b[0m in \u001b[0;36m_process_unit_info\u001b[1;34m(self, xdata, ydata, kwargs)\u001b[0m\n\u001b[0;32m   2123\u001b[0m             \u001b[1;32mreturn\u001b[0m \u001b[0mkwargs\u001b[0m\u001b[1;33m\u001b[0m\u001b[1;33m\u001b[0m\u001b[0m\n\u001b[0;32m   2124\u001b[0m \u001b[1;33m\u001b[0m\u001b[0m\n\u001b[1;32m-> 2125\u001b[1;33m         \u001b[0mkwargs\u001b[0m \u001b[1;33m=\u001b[0m \u001b[0m_process_single_axis\u001b[0m\u001b[1;33m(\u001b[0m\u001b[0mxdata\u001b[0m\u001b[1;33m,\u001b[0m \u001b[0mself\u001b[0m\u001b[1;33m.\u001b[0m\u001b[0mxaxis\u001b[0m\u001b[1;33m,\u001b[0m \u001b[1;34m'xunits'\u001b[0m\u001b[1;33m,\u001b[0m \u001b[0mkwargs\u001b[0m\u001b[1;33m)\u001b[0m\u001b[1;33m\u001b[0m\u001b[1;33m\u001b[0m\u001b[0m\n\u001b[0m\u001b[0;32m   2126\u001b[0m         \u001b[0mkwargs\u001b[0m \u001b[1;33m=\u001b[0m \u001b[0m_process_single_axis\u001b[0m\u001b[1;33m(\u001b[0m\u001b[0mydata\u001b[0m\u001b[1;33m,\u001b[0m \u001b[0mself\u001b[0m\u001b[1;33m.\u001b[0m\u001b[0myaxis\u001b[0m\u001b[1;33m,\u001b[0m \u001b[1;34m'yunits'\u001b[0m\u001b[1;33m,\u001b[0m \u001b[0mkwargs\u001b[0m\u001b[1;33m)\u001b[0m\u001b[1;33m\u001b[0m\u001b[1;33m\u001b[0m\u001b[0m\n\u001b[0;32m   2127\u001b[0m         \u001b[1;32mreturn\u001b[0m \u001b[0mkwargs\u001b[0m\u001b[1;33m\u001b[0m\u001b[1;33m\u001b[0m\u001b[0m\n",
      "\u001b[1;32mC:\\ProgramData\\Anaconda3\\lib\\site-packages\\matplotlib\\axes\\_base.py\u001b[0m in \u001b[0;36m_process_single_axis\u001b[1;34m(data, axis, unit_name, kwargs)\u001b[0m\n\u001b[0;32m   2106\u001b[0m                 \u001b[1;31m# We only need to update if there is nothing set yet.\u001b[0m\u001b[1;33m\u001b[0m\u001b[1;33m\u001b[0m\u001b[1;33m\u001b[0m\u001b[0m\n\u001b[0;32m   2107\u001b[0m                 \u001b[1;32mif\u001b[0m \u001b[1;32mnot\u001b[0m \u001b[0maxis\u001b[0m\u001b[1;33m.\u001b[0m\u001b[0mhave_units\u001b[0m\u001b[1;33m(\u001b[0m\u001b[1;33m)\u001b[0m\u001b[1;33m:\u001b[0m\u001b[1;33m\u001b[0m\u001b[1;33m\u001b[0m\u001b[0m\n\u001b[1;32m-> 2108\u001b[1;33m                     \u001b[0maxis\u001b[0m\u001b[1;33m.\u001b[0m\u001b[0mupdate_units\u001b[0m\u001b[1;33m(\u001b[0m\u001b[0mdata\u001b[0m\u001b[1;33m)\u001b[0m\u001b[1;33m\u001b[0m\u001b[1;33m\u001b[0m\u001b[0m\n\u001b[0m\u001b[0;32m   2109\u001b[0m \u001b[1;33m\u001b[0m\u001b[0m\n\u001b[0;32m   2110\u001b[0m             \u001b[1;31m# Check for units in the kwargs, and if present update axis\u001b[0m\u001b[1;33m\u001b[0m\u001b[1;33m\u001b[0m\u001b[1;33m\u001b[0m\u001b[0m\n",
      "\u001b[1;32mC:\\ProgramData\\Anaconda3\\lib\\site-packages\\matplotlib\\axis.py\u001b[0m in \u001b[0;36mupdate_units\u001b[1;34m(self, data)\u001b[0m\n\u001b[0;32m   1491\u001b[0m         \u001b[0mneednew\u001b[0m \u001b[1;33m=\u001b[0m \u001b[0mself\u001b[0m\u001b[1;33m.\u001b[0m\u001b[0mconverter\u001b[0m \u001b[1;33m!=\u001b[0m \u001b[0mconverter\u001b[0m\u001b[1;33m\u001b[0m\u001b[1;33m\u001b[0m\u001b[0m\n\u001b[0;32m   1492\u001b[0m         \u001b[0mself\u001b[0m\u001b[1;33m.\u001b[0m\u001b[0mconverter\u001b[0m \u001b[1;33m=\u001b[0m \u001b[0mconverter\u001b[0m\u001b[1;33m\u001b[0m\u001b[1;33m\u001b[0m\u001b[0m\n\u001b[1;32m-> 1493\u001b[1;33m         \u001b[0mdefault\u001b[0m \u001b[1;33m=\u001b[0m \u001b[0mself\u001b[0m\u001b[1;33m.\u001b[0m\u001b[0mconverter\u001b[0m\u001b[1;33m.\u001b[0m\u001b[0mdefault_units\u001b[0m\u001b[1;33m(\u001b[0m\u001b[0mdata\u001b[0m\u001b[1;33m,\u001b[0m \u001b[0mself\u001b[0m\u001b[1;33m)\u001b[0m\u001b[1;33m\u001b[0m\u001b[1;33m\u001b[0m\u001b[0m\n\u001b[0m\u001b[0;32m   1494\u001b[0m         \u001b[1;32mif\u001b[0m \u001b[0mdefault\u001b[0m \u001b[1;32mis\u001b[0m \u001b[1;32mnot\u001b[0m \u001b[1;32mNone\u001b[0m \u001b[1;32mand\u001b[0m \u001b[0mself\u001b[0m\u001b[1;33m.\u001b[0m\u001b[0munits\u001b[0m \u001b[1;32mis\u001b[0m \u001b[1;32mNone\u001b[0m\u001b[1;33m:\u001b[0m\u001b[1;33m\u001b[0m\u001b[1;33m\u001b[0m\u001b[0m\n\u001b[0;32m   1495\u001b[0m             \u001b[0mself\u001b[0m\u001b[1;33m.\u001b[0m\u001b[0mset_units\u001b[0m\u001b[1;33m(\u001b[0m\u001b[0mdefault\u001b[0m\u001b[1;33m)\u001b[0m\u001b[1;33m\u001b[0m\u001b[1;33m\u001b[0m\u001b[0m\n",
      "\u001b[1;32mC:\\ProgramData\\Anaconda3\\lib\\site-packages\\matplotlib\\category.py\u001b[0m in \u001b[0;36mdefault_units\u001b[1;34m(data, axis)\u001b[0m\n\u001b[0;32m    113\u001b[0m         \u001b[1;31m# default_units->axis_info->convert\u001b[0m\u001b[1;33m\u001b[0m\u001b[1;33m\u001b[0m\u001b[1;33m\u001b[0m\u001b[0m\n\u001b[0;32m    114\u001b[0m         \u001b[1;32mif\u001b[0m \u001b[0maxis\u001b[0m\u001b[1;33m.\u001b[0m\u001b[0munits\u001b[0m \u001b[1;32mis\u001b[0m \u001b[1;32mNone\u001b[0m\u001b[1;33m:\u001b[0m\u001b[1;33m\u001b[0m\u001b[1;33m\u001b[0m\u001b[0m\n\u001b[1;32m--> 115\u001b[1;33m             \u001b[0maxis\u001b[0m\u001b[1;33m.\u001b[0m\u001b[0mset_units\u001b[0m\u001b[1;33m(\u001b[0m\u001b[0mUnitData\u001b[0m\u001b[1;33m(\u001b[0m\u001b[0mdata\u001b[0m\u001b[1;33m)\u001b[0m\u001b[1;33m)\u001b[0m\u001b[1;33m\u001b[0m\u001b[1;33m\u001b[0m\u001b[0m\n\u001b[0m\u001b[0;32m    116\u001b[0m         \u001b[1;32melse\u001b[0m\u001b[1;33m:\u001b[0m\u001b[1;33m\u001b[0m\u001b[1;33m\u001b[0m\u001b[0m\n\u001b[0;32m    117\u001b[0m             \u001b[0maxis\u001b[0m\u001b[1;33m.\u001b[0m\u001b[0munits\u001b[0m\u001b[1;33m.\u001b[0m\u001b[0mupdate\u001b[0m\u001b[1;33m(\u001b[0m\u001b[0mdata\u001b[0m\u001b[1;33m)\u001b[0m\u001b[1;33m\u001b[0m\u001b[1;33m\u001b[0m\u001b[0m\n",
      "\u001b[1;32mC:\\ProgramData\\Anaconda3\\lib\\site-packages\\matplotlib\\category.py\u001b[0m in \u001b[0;36m__init__\u001b[1;34m(self, data)\u001b[0m\n\u001b[0;32m    179\u001b[0m         \u001b[0mself\u001b[0m\u001b[1;33m.\u001b[0m\u001b[0m_counter\u001b[0m \u001b[1;33m=\u001b[0m \u001b[0mitertools\u001b[0m\u001b[1;33m.\u001b[0m\u001b[0mcount\u001b[0m\u001b[1;33m(\u001b[0m\u001b[1;33m)\u001b[0m\u001b[1;33m\u001b[0m\u001b[1;33m\u001b[0m\u001b[0m\n\u001b[0;32m    180\u001b[0m         \u001b[1;32mif\u001b[0m \u001b[0mdata\u001b[0m \u001b[1;32mis\u001b[0m \u001b[1;32mnot\u001b[0m \u001b[1;32mNone\u001b[0m\u001b[1;33m:\u001b[0m\u001b[1;33m\u001b[0m\u001b[1;33m\u001b[0m\u001b[0m\n\u001b[1;32m--> 181\u001b[1;33m             \u001b[0mself\u001b[0m\u001b[1;33m.\u001b[0m\u001b[0mupdate\u001b[0m\u001b[1;33m(\u001b[0m\u001b[0mdata\u001b[0m\u001b[1;33m)\u001b[0m\u001b[1;33m\u001b[0m\u001b[1;33m\u001b[0m\u001b[0m\n\u001b[0m\u001b[0;32m    182\u001b[0m \u001b[1;33m\u001b[0m\u001b[0m\n\u001b[0;32m    183\u001b[0m     \u001b[1;33m@\u001b[0m\u001b[0mstaticmethod\u001b[0m\u001b[1;33m\u001b[0m\u001b[1;33m\u001b[0m\u001b[0m\n",
      "\u001b[1;32mC:\\ProgramData\\Anaconda3\\lib\\site-packages\\matplotlib\\category.py\u001b[0m in \u001b[0;36mupdate\u001b[1;34m(self, data)\u001b[0m\n\u001b[0;32m    213\u001b[0m         \u001b[1;31m# check if convertible to number:\u001b[0m\u001b[1;33m\u001b[0m\u001b[1;33m\u001b[0m\u001b[1;33m\u001b[0m\u001b[0m\n\u001b[0;32m    214\u001b[0m         \u001b[0mconvertible\u001b[0m \u001b[1;33m=\u001b[0m \u001b[1;32mTrue\u001b[0m\u001b[1;33m\u001b[0m\u001b[1;33m\u001b[0m\u001b[0m\n\u001b[1;32m--> 215\u001b[1;33m         \u001b[1;32mfor\u001b[0m \u001b[0mval\u001b[0m \u001b[1;32min\u001b[0m \u001b[0mOrderedDict\u001b[0m\u001b[1;33m.\u001b[0m\u001b[0mfromkeys\u001b[0m\u001b[1;33m(\u001b[0m\u001b[0mdata\u001b[0m\u001b[1;33m)\u001b[0m\u001b[1;33m:\u001b[0m\u001b[1;33m\u001b[0m\u001b[1;33m\u001b[0m\u001b[0m\n\u001b[0m\u001b[0;32m    216\u001b[0m             \u001b[1;31m# OrderedDict just iterates over unique values in data.\u001b[0m\u001b[1;33m\u001b[0m\u001b[1;33m\u001b[0m\u001b[1;33m\u001b[0m\u001b[0m\n\u001b[0;32m    217\u001b[0m             \u001b[1;32mif\u001b[0m \u001b[1;32mnot\u001b[0m \u001b[0misinstance\u001b[0m\u001b[1;33m(\u001b[0m\u001b[0mval\u001b[0m\u001b[1;33m,\u001b[0m \u001b[1;33m(\u001b[0m\u001b[0mstr\u001b[0m\u001b[1;33m,\u001b[0m \u001b[0mbytes\u001b[0m\u001b[1;33m)\u001b[0m\u001b[1;33m)\u001b[0m\u001b[1;33m:\u001b[0m\u001b[1;33m\u001b[0m\u001b[1;33m\u001b[0m\u001b[0m\n",
      "\u001b[1;31mTypeError\u001b[0m: unhashable type: 'numpy.ndarray'"
     ]
    },
    {
     "data": {
      "image/png": "[encoded data removed]",
      "image/svg+xml": "<?xml version=\"1.0\" encoding=\"utf-8\" standalone=\"no\"?>\r\n<!DOCTYPE svg PUBLIC \"-//W3C//DTD SVG 1.1//EN\"\r\n  \"http://www.w3.org/Graphics/SVG/1.1/DTD/svg11.dtd\">\r\n<!-- Created with matplotlib (https://matplotlib.org/) -->\r\n<svg height=\"252.317344pt\" version=\"1.1\" viewBox=\"0 0 380.054687 252.317344\" width=\"380.054687pt\" xmlns=\"http://www.w3.org/2000/svg\" xmlns:xlink=\"http://www.w3.org/1999/xlink\">\r\n <defs>\r\n  <style type=\"text/css\">\r\n*{stroke-linecap:butt;stroke-linejoin:round;}\r\n  </style>\r\n </defs>\r\n <g id=\"figure_1\">\r\n  <g id=\"patch_1\">\r\n   <path d=\"M 0 252.317344 \r\nL 380.054687 252.317344 \r\nL 380.054687 0 \r\nL 0 0 \r\nz\r\n\" style=\"fill:none;\"/>\r\n  </g>\r\n  <g id=\"axes_1\">\r\n   <g id=\"patch_2\">\r\n    <path d=\"M 30.103125 228.439219 \r\nL 364.903125 228.439219 \r\nL 364.903125 10.999219 \r\nL 30.103125 10.999219 \r\nz\r\n\" style=\"fill:#ffffff;\"/>\r\n   </g>\r\n   <g id=\"matplotlib.axis_1\">\r\n    <g id=\"xtick_1\">\r\n     <g id=\"line2d_1\">\r\n      <defs>\r\n       <path d=\"M 0 0 \r\nL 0 3.5 \r\n\" id=\"mdb982a4205\" style=\"stroke:#000000;stroke-width:0.8;\"/>\r\n      </defs>\r\n      <g>\r\n       <use style=\"stroke:#000000;stroke-width:0.8;\" x=\"30.103125\" xlink:href=\"#mdb982a4205\" y=\"228.439219\"/>\r\n      </g>\r\n     </g>\r\n     <g id=\"text_1\">\r\n      <!-- 0.0 -->\r\n      <defs>\r\n       <path d=\"M 31.78125 66.40625 \r\nQ 24.171875 66.40625 20.328125 58.90625 \r\nQ 16.5 51.421875 16.5 36.375 \r\nQ 16.5 21.390625 20.328125 13.890625 \r\nQ 24.171875 6.390625 31.78125 6.390625 \r\nQ 39.453125 6.390625 43.28125 13.890625 \r\nQ 47.125 21.390625 47.125 36.375 \r\nQ 47.125 51.421875 43.28125 58.90625 \r\nQ 39.453125 66.40625 31.78125 66.40625 \r\nz\r\nM 31.78125 74.21875 \r\nQ 44.046875 74.21875 50.515625 64.515625 \r\nQ 56.984375 54.828125 56.984375 36.375 \r\nQ 56.984375 17.96875 50.515625 8.265625 \r\nQ 44.046875 -1.421875 31.78125 -1.421875 \r\nQ 19.53125 -1.421875 13.0625 8.265625 \r\nQ 6.59375 17.96875 6.59375 36.375 \r\nQ 6.59375 54.828125 13.0625 64.515625 \r\nQ 19.53125 74.21875 31.78125 74.21875 \r\nz\r\n\" id=\"DejaVuSans-48\"/>\r\n       <path d=\"M 10.6875 12.40625 \r\nL 21 12.40625 \r\nL 21 0 \r\nL 10.6875 0 \r\nz\r\n\" id=\"DejaVuSans-46\"/>\r\n      </defs>\r\n      <g transform=\"translate(22.151563 243.037656)scale(0.1 -0.1)\">\r\n       <use xlink:href=\"#DejaVuSans-48\"/>\r\n       <use x=\"63.623047\" xlink:href=\"#DejaVuSans-46\"/>\r\n       <use x=\"95.410156\" xlink:href=\"#DejaVuSans-48\"/>\r\n      </g>\r\n     </g>\r\n    </g>\r\n    <g id=\"xtick_2\">\r\n     <g id=\"line2d_2\">\r\n      <g>\r\n       <use style=\"stroke:#000000;stroke-width:0.8;\" x=\"97.063125\" xlink:href=\"#mdb982a4205\" y=\"228.439219\"/>\r\n      </g>\r\n     </g>\r\n     <g id=\"text_2\">\r\n      <!-- 0.2 -->\r\n      <defs>\r\n       <path d=\"M 19.1875 8.296875 \r\nL 53.609375 8.296875 \r\nL 53.609375 0 \r\nL 7.328125 0 \r\nL 7.328125 8.296875 \r\nQ 12.9375 14.109375 22.625 23.890625 \r\nQ 32.328125 33.6875 34.8125 36.53125 \r\nQ 39.546875 41.84375 41.421875 45.53125 \r\nQ 43.3125 49.21875 43.3125 52.78125 \r\nQ 43.3125 58.59375 39.234375 62.25 \r\nQ 35.15625 65.921875 28.609375 65.921875 \r\nQ 23.96875 65.921875 18.8125 64.3125 \r\nQ 13.671875 62.703125 7.8125 59.421875 \r\nL 7.8125 69.390625 \r\nQ 13.765625 71.78125 18.9375 73 \r\nQ 24.125 74.21875 28.421875 74.21875 \r\nQ 39.75 74.21875 46.484375 68.546875 \r\nQ 53.21875 62.890625 53.21875 53.421875 \r\nQ 53.21875 48.921875 51.53125 44.890625 \r\nQ 49.859375 40.875 45.40625 35.40625 \r\nQ 44.1875 33.984375 37.640625 27.21875 \r\nQ 31.109375 20.453125 19.1875 8.296875 \r\nz\r\n\" id=\"DejaVuSans-50\"/>\r\n      </defs>\r\n      <g transform=\"translate(89.111563 243.037656)scale(0.1 -0.1)\">\r\n       <use xlink:href=\"#DejaVuSans-48\"/>\r\n       <use x=\"63.623047\" xlink:href=\"#DejaVuSans-46\"/>\r\n       <use x=\"95.410156\" xlink:href=\"#DejaVuSans-50\"/>\r\n      </g>\r\n     </g>\r\n    </g>\r\n    <g id=\"xtick_3\">\r\n     <g id=\"line2d_3\">\r\n      <g>\r\n       <use style=\"stroke:#000000;stroke-width:0.8;\" x=\"164.023125\" xlink:href=\"#mdb982a4205\" y=\"228.439219\"/>\r\n      </g>\r\n     </g>\r\n     <g id=\"text_3\">\r\n      <!-- 0.4 -->\r\n      <defs>\r\n       <path d=\"M 37.796875 64.3125 \r\nL 12.890625 25.390625 \r\nL 37.796875 25.390625 \r\nz\r\nM 35.203125 72.90625 \r\nL 47.609375 72.90625 \r\nL 47.609375 25.390625 \r\nL 58.015625 25.390625 \r\nL 58.015625 17.1875 \r\nL 47.609375 17.1875 \r\nL 47.609375 0 \r\nL 37.796875 0 \r\nL 37.796875 17.1875 \r\nL 4.890625 17.1875 \r\nL 4.890625 26.703125 \r\nz\r\n\" id=\"DejaVuSans-52\"/>\r\n      </defs>\r\n      <g transform=\"translate(156.071563 243.037656)scale(0.1 -0.1)\">\r\n       <use xlink:href=\"#DejaVuSans-48\"/>\r\n       <use x=\"63.623047\" xlink:href=\"#DejaVuSans-46\"/>\r\n       <use x=\"95.410156\" xlink:href=\"#DejaVuSans-52\"/>\r\n      </g>\r\n     </g>\r\n    </g>\r\n    <g id=\"xtick_4\">\r\n     <g id=\"line2d_4\">\r\n      <g>\r\n       <use style=\"stroke:#000000;stroke-width:0.8;\" x=\"230.983125\" xlink:href=\"#mdb982a4205\" y=\"228.439219\"/>\r\n      </g>\r\n     </g>\r\n     <g id=\"text_4\">\r\n      <!-- 0.6 -->\r\n      <defs>\r\n       <path d=\"M 33.015625 40.375 \r\nQ 26.375 40.375 22.484375 35.828125 \r\nQ 18.609375 31.296875 18.609375 23.390625 \r\nQ 18.609375 15.53125 22.484375 10.953125 \r\nQ 26.375 6.390625 33.015625 6.390625 \r\nQ 39.65625 6.390625 43.53125 10.953125 \r\nQ 47.40625 15.53125 47.40625 23.390625 \r\nQ 47.40625 31.296875 43.53125 35.828125 \r\nQ 39.65625 40.375 33.015625 40.375 \r\nz\r\nM 52.59375 71.296875 \r\nL 52.59375 62.3125 \r\nQ 48.875 64.0625 45.09375 64.984375 \r\nQ 41.3125 65.921875 37.59375 65.921875 \r\nQ 27.828125 65.921875 22.671875 59.328125 \r\nQ 17.53125 52.734375 16.796875 39.40625 \r\nQ 19.671875 43.65625 24.015625 45.921875 \r\nQ 28.375 48.1875 33.59375 48.1875 \r\nQ 44.578125 48.1875 50.953125 41.515625 \r\nQ 57.328125 34.859375 57.328125 23.390625 \r\nQ 57.328125 12.15625 50.6875 5.359375 \r\nQ 44.046875 -1.421875 33.015625 -1.421875 \r\nQ 20.359375 -1.421875 13.671875 8.265625 \r\nQ 6.984375 17.96875 6.984375 36.375 \r\nQ 6.984375 53.65625 15.1875 63.9375 \r\nQ 23.390625 74.21875 37.203125 74.21875 \r\nQ 40.921875 74.21875 44.703125 73.484375 \r\nQ 48.484375 72.75 52.59375 71.296875 \r\nz\r\n\" id=\"DejaVuSans-54\"/>\r\n      </defs>\r\n      <g transform=\"translate(223.031563 243.037656)scale(0.1 -0.1)\">\r\n       <use xlink:href=\"#DejaVuSans-48\"/>\r\n       <use x=\"63.623047\" xlink:href=\"#DejaVuSans-46\"/>\r\n       <use x=\"95.410156\" xlink:href=\"#DejaVuSans-54\"/>\r\n      </g>\r\n     </g>\r\n    </g>\r\n    <g id=\"xtick_5\">\r\n     <g id=\"line2d_5\">\r\n      <g>\r\n       <use style=\"stroke:#000000;stroke-width:0.8;\" x=\"297.943125\" xlink:href=\"#mdb982a4205\" y=\"228.439219\"/>\r\n      </g>\r\n     </g>\r\n     <g id=\"text_5\">\r\n      <!-- 0.8 -->\r\n      <defs>\r\n       <path d=\"M 31.78125 34.625 \r\nQ 24.75 34.625 20.71875 30.859375 \r\nQ 16.703125 27.09375 16.703125 20.515625 \r\nQ 16.703125 13.921875 20.71875 10.15625 \r\nQ 24.75 6.390625 31.78125 6.390625 \r\nQ 38.8125 6.390625 42.859375 10.171875 \r\nQ 46.921875 13.96875 46.921875 20.515625 \r\nQ 46.921875 27.09375 42.890625 30.859375 \r\nQ 38.875 34.625 31.78125 34.625 \r\nz\r\nM 21.921875 38.8125 \r\nQ 15.578125 40.375 12.03125 44.71875 \r\nQ 8.5 49.078125 8.5 55.328125 \r\nQ 8.5 64.0625 14.71875 69.140625 \r\nQ 20.953125 74.21875 31.78125 74.21875 \r\nQ 42.671875 74.21875 48.875 69.140625 \r\nQ 55.078125 64.0625 55.078125 55.328125 \r\nQ 55.078125 49.078125 51.53125 44.71875 \r\nQ 48 40.375 41.703125 38.8125 \r\nQ 48.828125 37.15625 52.796875 32.3125 \r\nQ 56.78125 27.484375 56.78125 20.515625 \r\nQ 56.78125 9.90625 50.3125 4.234375 \r\nQ 43.84375 -1.421875 31.78125 -1.421875 \r\nQ 19.734375 -1.421875 13.25 4.234375 \r\nQ 6.78125 9.90625 6.78125 20.515625 \r\nQ 6.78125 27.484375 10.78125 32.3125 \r\nQ 14.796875 37.15625 21.921875 38.8125 \r\nz\r\nM 18.3125 54.390625 \r\nQ 18.3125 48.734375 21.84375 45.5625 \r\nQ 25.390625 42.390625 31.78125 42.390625 \r\nQ 38.140625 42.390625 41.71875 45.5625 \r\nQ 45.3125 48.734375 45.3125 54.390625 \r\nQ 45.3125 60.0625 41.71875 63.234375 \r\nQ 38.140625 66.40625 31.78125 66.40625 \r\nQ 25.390625 66.40625 21.84375 63.234375 \r\nQ 18.3125 60.0625 18.3125 54.390625 \r\nz\r\n\" id=\"DejaVuSans-56\"/>\r\n      </defs>\r\n      <g transform=\"translate(289.991563 243.037656)scale(0.1 -0.1)\">\r\n       <use xlink:href=\"#DejaVuSans-48\"/>\r\n       <use x=\"63.623047\" xlink:href=\"#DejaVuSans-46\"/>\r\n       <use x=\"95.410156\" xlink:href=\"#DejaVuSans-56\"/>\r\n      </g>\r\n     </g>\r\n    </g>\r\n    <g id=\"xtick_6\">\r\n     <g id=\"line2d_6\">\r\n      <g>\r\n       <use style=\"stroke:#000000;stroke-width:0.8;\" x=\"364.903125\" xlink:href=\"#mdb982a4205\" y=\"228.439219\"/>\r\n      </g>\r\n     </g>\r\n     <g id=\"text_6\">\r\n      <!-- 1.0 -->\r\n      <defs>\r\n       <path d=\"M 12.40625 8.296875 \r\nL 28.515625 8.296875 \r\nL 28.515625 63.921875 \r\nL 10.984375 60.40625 \r\nL 10.984375 69.390625 \r\nL 28.421875 72.90625 \r\nL 38.28125 72.90625 \r\nL 38.28125 8.296875 \r\nL 54.390625 8.296875 \r\nL 54.390625 0 \r\nL 12.40625 0 \r\nz\r\n\" id=\"DejaVuSans-49\"/>\r\n      </defs>\r\n      <g transform=\"translate(356.951563 243.037656)scale(0.1 -0.1)\">\r\n       <use xlink:href=\"#DejaVuSans-49\"/>\r\n       <use x=\"63.623047\" xlink:href=\"#DejaVuSans-46\"/>\r\n       <use x=\"95.410156\" xlink:href=\"#DejaVuSans-48\"/>\r\n      </g>\r\n     </g>\r\n    </g>\r\n   </g>\r\n   <g id=\"matplotlib.axis_2\">\r\n    <g id=\"ytick_1\">\r\n     <g id=\"line2d_7\">\r\n      <defs>\r\n       <path d=\"M 0 0 \r\nL -3.5 0 \r\n\" id=\"m4284e3f0bf\" style=\"stroke:#000000;stroke-width:0.8;\"/>\r\n      </defs>\r\n      <g>\r\n       <use style=\"stroke:#000000;stroke-width:0.8;\" x=\"30.103125\" xlink:href=\"#m4284e3f0bf\" y=\"228.439219\"/>\r\n      </g>\r\n     </g>\r\n     <g id=\"text_7\">\r\n      <!-- 0.0 -->\r\n      <g transform=\"translate(7.2 232.238437)scale(0.1 -0.1)\">\r\n       <use xlink:href=\"#DejaVuSans-48\"/>\r\n       <use x=\"63.623047\" xlink:href=\"#DejaVuSans-46\"/>\r\n       <use x=\"95.410156\" xlink:href=\"#DejaVuSans-48\"/>\r\n      </g>\r\n     </g>\r\n    </g>\r\n    <g id=\"ytick_2\">\r\n     <g id=\"line2d_8\">\r\n      <g>\r\n       <use style=\"stroke:#000000;stroke-width:0.8;\" x=\"30.103125\" xlink:href=\"#m4284e3f0bf\" y=\"184.951219\"/>\r\n      </g>\r\n     </g>\r\n     <g id=\"text_8\">\r\n      <!-- 0.2 -->\r\n      <g transform=\"translate(7.2 188.750437)scale(0.1 -0.1)\">\r\n       <use xlink:href=\"#DejaVuSans-48\"/>\r\n       <use x=\"63.623047\" xlink:href=\"#DejaVuSans-46\"/>\r\n       <use x=\"95.410156\" xlink:href=\"#DejaVuSans-50\"/>\r\n      </g>\r\n     </g>\r\n    </g>\r\n    <g id=\"ytick_3\">\r\n     <g id=\"line2d_9\">\r\n      <g>\r\n       <use style=\"stroke:#000000;stroke-width:0.8;\" x=\"30.103125\" xlink:href=\"#m4284e3f0bf\" y=\"141.463219\"/>\r\n      </g>\r\n     </g>\r\n     <g id=\"text_9\">\r\n      <!-- 0.4 -->\r\n      <g transform=\"translate(7.2 145.262437)scale(0.1 -0.1)\">\r\n       <use xlink:href=\"#DejaVuSans-48\"/>\r\n       <use x=\"63.623047\" xlink:href=\"#DejaVuSans-46\"/>\r\n       <use x=\"95.410156\" xlink:href=\"#DejaVuSans-52\"/>\r\n      </g>\r\n     </g>\r\n    </g>\r\n    <g id=\"ytick_4\">\r\n     <g id=\"line2d_10\">\r\n      <g>\r\n       <use style=\"stroke:#000000;stroke-width:0.8;\" x=\"30.103125\" xlink:href=\"#m4284e3f0bf\" y=\"97.975219\"/>\r\n      </g>\r\n     </g>\r\n     <g id=\"text_10\">\r\n      <!-- 0.6 -->\r\n      <g transform=\"translate(7.2 101.774437)scale(0.1 -0.1)\">\r\n       <use xlink:href=\"#DejaVuSans-48\"/>\r\n       <use x=\"63.623047\" xlink:href=\"#DejaVuSans-46\"/>\r\n       <use x=\"95.410156\" xlink:href=\"#DejaVuSans-54\"/>\r\n      </g>\r\n     </g>\r\n    </g>\r\n    <g id=\"ytick_5\">\r\n     <g id=\"line2d_11\">\r\n      <g>\r\n       <use style=\"stroke:#000000;stroke-width:0.8;\" x=\"30.103125\" xlink:href=\"#m4284e3f0bf\" y=\"54.487219\"/>\r\n      </g>\r\n     </g>\r\n     <g id=\"text_11\">\r\n      <!-- 0.8 -->\r\n      <g transform=\"translate(7.2 58.286437)scale(0.1 -0.1)\">\r\n       <use xlink:href=\"#DejaVuSans-48\"/>\r\n       <use x=\"63.623047\" xlink:href=\"#DejaVuSans-46\"/>\r\n       <use x=\"95.410156\" xlink:href=\"#DejaVuSans-56\"/>\r\n      </g>\r\n     </g>\r\n    </g>\r\n    <g id=\"ytick_6\">\r\n     <g id=\"line2d_12\">\r\n      <g>\r\n       <use style=\"stroke:#000000;stroke-width:0.8;\" x=\"30.103125\" xlink:href=\"#m4284e3f0bf\" y=\"10.999219\"/>\r\n      </g>\r\n     </g>\r\n     <g id=\"text_12\">\r\n      <!-- 1.0 -->\r\n      <g transform=\"translate(7.2 14.798437)scale(0.1 -0.1)\">\r\n       <use xlink:href=\"#DejaVuSans-49\"/>\r\n       <use x=\"63.623047\" xlink:href=\"#DejaVuSans-46\"/>\r\n       <use x=\"95.410156\" xlink:href=\"#DejaVuSans-48\"/>\r\n      </g>\r\n     </g>\r\n    </g>\r\n   </g>\r\n   <g id=\"patch_3\">\r\n    <path d=\"M 30.103125 228.439219 \r\nL 30.103125 10.999219 \r\n\" style=\"fill:none;stroke:#000000;stroke-linecap:square;stroke-linejoin:miter;stroke-width:0.8;\"/>\r\n   </g>\r\n   <g id=\"patch_4\">\r\n    <path d=\"M 364.903125 228.439219 \r\nL 364.903125 10.999219 \r\n\" style=\"fill:none;stroke:#000000;stroke-linecap:square;stroke-linejoin:miter;stroke-width:0.8;\"/>\r\n   </g>\r\n   <g id=\"patch_5\">\r\n    <path d=\"M 30.103125 228.439219 \r\nL 364.903125 228.439219 \r\n\" style=\"fill:none;stroke:#000000;stroke-linecap:square;stroke-linejoin:miter;stroke-width:0.8;\"/>\r\n   </g>\r\n   <g id=\"patch_6\">\r\n    <path d=\"M 30.103125 10.999219 \r\nL 364.903125 10.999219 \r\n\" style=\"fill:none;stroke:#000000;stroke-linecap:square;stroke-linejoin:miter;stroke-width:0.8;\"/>\r\n   </g>\r\n  </g>\r\n </g>\r\n</svg>\r\n",
      "text/plain": "<Figure size 432x288 with 1 Axes>"
     },
     "metadata": {
      "needs_background": "light"
     },
     "output_type": "display_data"
    }
   ],
   "source": [
    "#x=[]\n",
    "##y=[]\n",
    "#x = dfByIndustry.loc[:, ['sex']]\n",
    "#y = dfByIndustry.loc[:, ['birth_year']]\n",
    "#width = 1\n",
    "#plt.bar(x,y, width, lable=\"Sex and Birth Year\")"
   ]
  },
  {
   "cell_type": "code",
   "execution_count": 176,
   "metadata": {},
   "outputs": [
    {
     "data": {
      "text/html": "<div>\n<style scoped>\n    .dataframe tbody tr th:only-of-type {\n        vertical-align: middle;\n    }\n\n    .dataframe tbody tr th {\n        vertical-align: top;\n    }\n\n    .dataframe thead th {\n        text-align: right;\n    }\n</style>\n<table border=\"1\" class=\"dataframe\">\n  <thead>\n    <tr style=\"text-align: right;\">\n      <th></th>\n      <th>full_name</th>\n      <th>sex</th>\n      <th>birth_year</th>\n      <th>country</th>\n      <th>industry</th>\n      <th>domain</th>\n      <th>occupation</th>\n      <th>popularity</th>\n    </tr>\n  </thead>\n  <tbody>\n    <tr>\n      <th>9957</th>\n      <td>Catherine, Duchess of Cambridge</td>\n      <td>Female</td>\n      <td>1982</td>\n      <td>United Kingdom</td>\n      <td>Companions</td>\n      <td>Public Figure</td>\n      <td>Companion</td>\n      <td>17.6612</td>\n    </tr>\n    <tr>\n      <th>10161</th>\n      <td>Kevin Federline</td>\n      <td>Male</td>\n      <td>1978</td>\n      <td>United States</td>\n      <td>Companions</td>\n      <td>Public Figure</td>\n      <td>Companion</td>\n      <td>17.1996</td>\n    </tr>\n    <tr>\n      <th>9647</th>\n      <td>Mary, Crown Princess of Denmark</td>\n      <td>Female</td>\n      <td>1972</td>\n      <td>Australia</td>\n      <td>Companions</td>\n      <td>Public Figure</td>\n      <td>Companion</td>\n      <td>18.2924</td>\n    </tr>\n    <tr>\n      <th>8265</th>\n      <td>Vanessa Paradis</td>\n      <td>Female</td>\n      <td>1972</td>\n      <td>France</td>\n      <td>Companions</td>\n      <td>Public Figure</td>\n      <td>Companion</td>\n      <td>20.7830</td>\n    </tr>\n    <tr>\n      <th>9771</th>\n      <td>Princess Máxima of the Netherlands</td>\n      <td>Female</td>\n      <td>1971</td>\n      <td>Argentina</td>\n      <td>Companions</td>\n      <td>Public Figure</td>\n      <td>Companion</td>\n      <td>18.0350</td>\n    </tr>\n    <tr>\n      <th>9092</th>\n      <td>Queen Rania of Jordan</td>\n      <td>Female</td>\n      <td>1970</td>\n      <td>Kuwait</td>\n      <td>Companions</td>\n      <td>Public Figure</td>\n      <td>Companion</td>\n      <td>19.3986</td>\n    </tr>\n    <tr>\n      <th>9735</th>\n      <td>Sophie, The Countess of Wessex</td>\n      <td>Female</td>\n      <td>1965</td>\n      <td>United Kingdom</td>\n      <td>Companions</td>\n      <td>Public Figure</td>\n      <td>Companion</td>\n      <td>18.1110</td>\n    </tr>\n    <tr>\n      <th>8368</th>\n      <td>Michelle Obama</td>\n      <td>Female</td>\n      <td>1964</td>\n      <td>United States</td>\n      <td>Companions</td>\n      <td>Public Figure</td>\n      <td>Companion</td>\n      <td>20.6330</td>\n    </tr>\n    <tr>\n      <th>6635</th>\n      <td>Laura Bush</td>\n      <td>Female</td>\n      <td>1946</td>\n      <td>United States</td>\n      <td>Companions</td>\n      <td>Public Figure</td>\n      <td>Companion</td>\n      <td>22.4461</td>\n    </tr>\n    <tr>\n      <th>5361</th>\n      <td>Priscilla Presley</td>\n      <td>Female</td>\n      <td>1945</td>\n      <td>United States</td>\n      <td>Companions</td>\n      <td>Public Figure</td>\n      <td>Companion</td>\n      <td>23.1960</td>\n    </tr>\n  </tbody>\n</table>\n</div>",
      "text/plain": "                                full_name     sex  birth_year         country  \\\n9957      Catherine, Duchess of Cambridge  Female        1982  United Kingdom   \n10161                     Kevin Federline    Male        1978   United States   \n9647      Mary, Crown Princess of Denmark  Female        1972       Australia   \n8265                      Vanessa Paradis  Female        1972          France   \n9771   Princess Máxima of the Netherlands  Female        1971       Argentina   \n9092                Queen Rania of Jordan  Female        1970          Kuwait   \n9735       Sophie, The Countess of Wessex  Female        1965  United Kingdom   \n8368                       Michelle Obama  Female        1964   United States   \n6635                           Laura Bush  Female        1946   United States   \n5361                    Priscilla Presley  Female        1945   United States   \n\n         industry         domain occupation  popularity  \n9957   Companions  Public Figure  Companion     17.6612  \n10161  Companions  Public Figure  Companion     17.1996  \n9647   Companions  Public Figure  Companion     18.2924  \n8265   Companions  Public Figure  Companion     20.7830  \n9771   Companions  Public Figure  Companion     18.0350  \n9092   Companions  Public Figure  Companion     19.3986  \n9735   Companions  Public Figure  Companion     18.1110  \n8368   Companions  Public Figure  Companion     20.6330  \n6635   Companions  Public Figure  Companion     22.4461  \n5361   Companions  Public Figure  Companion     23.1960  "
     },
     "execution_count": 176,
     "metadata": {},
     "output_type": "execute_result"
    }
   ],
   "source": [
    "#'Activism' 'Business' 'Computer Science' 'Dance' 'Design' 'Engineering' 'Explorers' 'Film And Theatre' 'Fine Arts'\n",
    "#'Government' 'History' 'Individual Sports' 'Invention' 'Language' 'Law' 'Math' 'Media Personality' 'Medicine'\n",
    "#'Military' 'Music' 'Natural Sciences' 'Outlaws' 'Philosophy' 'Religion' 'Social Sciences' 'Team Sports'\n",
    "industry = 'Companions'\n",
    "dfByIndustry = dfCleanData[dfCleanData['industry'] == industry].loc[:,columnToDisplayCleanData].sort_values(by = ['birth_year'], ascending = False)\n",
    "dfByIndustry.head(10)"
   ]
  },
  {
   "cell_type": "code",
   "execution_count": 167,
   "metadata": {},
   "outputs": [
    {
     "data": {
      "text/html": "<div>\n<style scoped>\n    .dataframe tbody tr th:only-of-type {\n        vertical-align: middle;\n    }\n\n    .dataframe tbody tr th {\n        vertical-align: top;\n    }\n\n    .dataframe thead th {\n        text-align: right;\n    }\n</style>\n<table border=\"1\" class=\"dataframe\">\n  <thead>\n    <tr style=\"text-align: right;\">\n      <th></th>\n      <th></th>\n      <th>total_count</th>\n    </tr>\n    <tr>\n      <th>industry</th>\n      <th>occupation</th>\n      <th></th>\n    </tr>\n  </thead>\n  <tbody>\n    <tr>\n      <th>Government</th>\n      <th>Politician</th>\n      <td>2530</td>\n    </tr>\n    <tr>\n      <th>Film And Theatre</th>\n      <th>Actor</th>\n      <td>1193</td>\n    </tr>\n    <tr>\n      <th>Team Sports</th>\n      <th>Soccer Player</th>\n      <td>1064</td>\n    </tr>\n    <tr>\n      <th>Language</th>\n      <th>Writer</th>\n      <td>954</td>\n    </tr>\n    <tr>\n      <th>Religion</th>\n      <th>Religious Figure</th>\n      <td>518</td>\n    </tr>\n    <tr>\n      <th rowspan=\"2\" valign=\"top\">Music</th>\n      <th>Singer</th>\n      <td>437</td>\n    </tr>\n    <tr>\n      <th>Musician</th>\n      <td>381</td>\n    </tr>\n    <tr>\n      <th>Philosophy</th>\n      <th>Philosopher</th>\n      <td>281</td>\n    </tr>\n    <tr>\n      <th>Natural Sciences</th>\n      <th>Physicist</th>\n      <td>268</td>\n    </tr>\n    <tr>\n      <th>Music</th>\n      <th>Composer</th>\n      <td>225</td>\n    </tr>\n    <tr>\n      <th>Military</th>\n      <th>Military Personnel</th>\n      <td>224</td>\n    </tr>\n    <tr>\n      <th>Natural Sciences</th>\n      <th>Chemist</th>\n      <td>220</td>\n    </tr>\n    <tr>\n      <th>Fine Arts</th>\n      <th>Painter</th>\n      <td>178</td>\n    </tr>\n    <tr>\n      <th>Film And Theatre</th>\n      <th>Film Director</th>\n      <td>177</td>\n    </tr>\n    <tr>\n      <th>Individual Sports</th>\n      <th>Tennis Player</th>\n      <td>161</td>\n    </tr>\n    <tr>\n      <th>Math</th>\n      <th>Mathematician</th>\n      <td>157</td>\n    </tr>\n    <tr>\n      <th>Medicine</th>\n      <th>Physician</th>\n      <td>142</td>\n    </tr>\n    <tr>\n      <th>Natural Sciences</th>\n      <th>Biologist</th>\n      <td>141</td>\n    </tr>\n    <tr>\n      <th>Government</th>\n      <th>Nobleman</th>\n      <td>116</td>\n    </tr>\n    <tr>\n      <th>Activism</th>\n      <th>Social Activist</th>\n      <td>114</td>\n    </tr>\n  </tbody>\n</table>\n</div>",
      "text/plain": "                                      total_count\nindustry          occupation                     \nGovernment        Politician                 2530\nFilm And Theatre  Actor                      1193\nTeam Sports       Soccer Player              1064\nLanguage          Writer                      954\nReligion          Religious Figure            518\nMusic             Singer                      437\n                  Musician                    381\nPhilosophy        Philosopher                 281\nNatural Sciences  Physicist                   268\nMusic             Composer                    225\nMilitary          Military Personnel          224\nNatural Sciences  Chemist                     220\nFine Arts         Painter                     178\nFilm And Theatre  Film Director               177\nIndividual Sports Tennis Player               161\nMath              Mathematician               157\nMedicine          Physician                   142\nNatural Sciences  Biologist                   141\nGovernment        Nobleman                    116\nActivism          Social Activist             114"
     },
     "execution_count": 167,
     "metadata": {},
     "output_type": "execute_result"
    }
   ],
   "source": [
    "# Getting the count by country, occupation, industry, and domain\n",
    "dfTotalByCountryByIndustry = pd.DataFrame(dfCleanData.groupby(['industry','occupation'])['article_id'].count())\n",
    "# Renaming the default column name the dataframe created to a meaningfull name\n",
    "dfTotalByCountryByIndustry.rename(columns={'article_id': 'total_count'}, inplace=True)\n",
    "dfTotalByCountryByIndustry.sort_values(by = ['total_count'], ascending = False).head(20)"
   ]
  },
  {
   "cell_type": "code",
   "execution_count": null,
   "metadata": {},
   "outputs": [],
   "source": []
  },
  {
   "cell_type": "code",
   "execution_count": 168,
   "metadata": {},
   "outputs": [
    {
     "data": {
      "text/html": "<div>\n<style scoped>\n    .dataframe tbody tr th:only-of-type {\n        vertical-align: middle;\n    }\n\n    .dataframe tbody tr th {\n        vertical-align: top;\n    }\n\n    .dataframe thead th {\n        text-align: right;\n    }\n</style>\n<table border=\"1\" class=\"dataframe\">\n  <thead>\n    <tr style=\"text-align: right;\">\n      <th></th>\n      <th>full_name</th>\n      <th>sex</th>\n      <th>birth_year</th>\n      <th>country</th>\n      <th>industry</th>\n      <th>domain</th>\n      <th>occupation</th>\n      <th>popularity</th>\n    </tr>\n  </thead>\n  <tbody>\n    <tr>\n      <th>0</th>\n      <td>Aristotle</td>\n      <td>Male</td>\n      <td>-384</td>\n      <td>Greece</td>\n      <td>Philosophy</td>\n      <td>Humanities</td>\n      <td>Philosopher</td>\n      <td>31.9938</td>\n    </tr>\n    <tr>\n      <th>1</th>\n      <td>Plato</td>\n      <td>Male</td>\n      <td>-427</td>\n      <td>Greece</td>\n      <td>Philosophy</td>\n      <td>Humanities</td>\n      <td>Philosopher</td>\n      <td>31.9888</td>\n    </tr>\n    <tr>\n      <th>2</th>\n      <td>Jesus Christ</td>\n      <td>Male</td>\n      <td>-4</td>\n      <td>Israel</td>\n      <td>Religion</td>\n      <td>Institutions</td>\n      <td>Religious Figure</td>\n      <td>31.8981</td>\n    </tr>\n    <tr>\n      <th>3</th>\n      <td>Socrates</td>\n      <td>Male</td>\n      <td>-469</td>\n      <td>Greece</td>\n      <td>Philosophy</td>\n      <td>Humanities</td>\n      <td>Philosopher</td>\n      <td>31.6521</td>\n    </tr>\n    <tr>\n      <th>4</th>\n      <td>Alexander the Great</td>\n      <td>Male</td>\n      <td>-356</td>\n      <td>Greece</td>\n      <td>Military</td>\n      <td>Institutions</td>\n      <td>Military Personnel</td>\n      <td>31.5840</td>\n    </tr>\n    <tr>\n      <th>5</th>\n      <td>Leonardo da Vinci</td>\n      <td>Male</td>\n      <td>1452</td>\n      <td>Italy</td>\n      <td>Invention</td>\n      <td>Science &amp; Technology</td>\n      <td>Inventor</td>\n      <td>31.4644</td>\n    </tr>\n    <tr>\n      <th>6</th>\n      <td>Confucius</td>\n      <td>Male</td>\n      <td>-551</td>\n      <td>China</td>\n      <td>Philosophy</td>\n      <td>Humanities</td>\n      <td>Philosopher</td>\n      <td>31.3705</td>\n    </tr>\n    <tr>\n      <th>7</th>\n      <td>Julius Caesar</td>\n      <td>Male</td>\n      <td>-100</td>\n      <td>Italy</td>\n      <td>Government</td>\n      <td>Institutions</td>\n      <td>Politician</td>\n      <td>31.1161</td>\n    </tr>\n    <tr>\n      <th>8</th>\n      <td>Homer</td>\n      <td>Male</td>\n      <td>-800</td>\n      <td>Turkey</td>\n      <td>Language</td>\n      <td>Humanities</td>\n      <td>Writer</td>\n      <td>31.1087</td>\n    </tr>\n    <tr>\n      <th>9</th>\n      <td>Pythagoras</td>\n      <td>Male</td>\n      <td>-570</td>\n      <td>Greece</td>\n      <td>Philosophy</td>\n      <td>Humanities</td>\n      <td>Philosopher</td>\n      <td>31.0691</td>\n    </tr>\n  </tbody>\n</table>\n</div>",
      "text/plain": "             full_name   sex  birth_year country    industry  \\\n0            Aristotle  Male        -384  Greece  Philosophy   \n1                Plato  Male        -427  Greece  Philosophy   \n2         Jesus Christ  Male          -4  Israel    Religion   \n3             Socrates  Male        -469  Greece  Philosophy   \n4  Alexander the Great  Male        -356  Greece    Military   \n5    Leonardo da Vinci  Male        1452   Italy   Invention   \n6            Confucius  Male        -551   China  Philosophy   \n7        Julius Caesar  Male        -100   Italy  Government   \n8                Homer  Male        -800  Turkey    Language   \n9           Pythagoras  Male        -570  Greece  Philosophy   \n\n                 domain          occupation  popularity  \n0            Humanities         Philosopher     31.9938  \n1            Humanities         Philosopher     31.9888  \n2          Institutions    Religious Figure     31.8981  \n3            Humanities         Philosopher     31.6521  \n4          Institutions  Military Personnel     31.5840  \n5  Science & Technology            Inventor     31.4644  \n6            Humanities         Philosopher     31.3705  \n7          Institutions          Politician     31.1161  \n8            Humanities              Writer     31.1087  \n9            Humanities         Philosopher     31.0691  "
     },
     "execution_count": 168,
     "metadata": {},
     "output_type": "execute_result"
    }
   ],
   "source": [
    "# Which historic characters are in the top ten most popular?\n",
    "dfTopTenMostPopularPeople = dfCleanData.sort_values(by = ['popularity'], ascending = False)\n",
    "dfTopTenMostPopularPeople = dfTopTenMostPopularPeople.head(10)\n",
    "dfTopTenMostPopularPeople.loc[:,columnToDisplayCleanData]"
   ]
  },
  {
   "cell_type": "markdown",
   "execution_count": null,
   "metadata": {},
   "outputs": [],
   "source": [
    "### Explaning the code\n",
    "* jfdslajfasljfsd\n",
    "### Which historic characters are the most popular?\n",
    "* Aristotle, Plato, and Jesus Christ"
   ]
  },
  {
   "cell_type": "code",
   "execution_count": 169,
   "metadata": {},
   "outputs": [
    {
     "data": {
      "text/html": "<div>\n<style scoped>\n    .dataframe tbody tr th:only-of-type {\n        vertical-align: middle;\n    }\n\n    .dataframe tbody tr th {\n        vertical-align: top;\n    }\n\n    .dataframe thead th {\n        text-align: right;\n    }\n</style>\n<table border=\"1\" class=\"dataframe\">\n  <thead>\n    <tr style=\"text-align: right;\">\n      <th></th>\n      <th>total_count</th>\n    </tr>\n    <tr>\n      <th>country</th>\n      <th></th>\n    </tr>\n  </thead>\n  <tbody>\n    <tr>\n      <th>China</th>\n      <td>1</td>\n    </tr>\n    <tr>\n      <th>Greece</th>\n      <td>5</td>\n    </tr>\n    <tr>\n      <th>Israel</th>\n      <td>1</td>\n    </tr>\n    <tr>\n      <th>Italy</th>\n      <td>2</td>\n    </tr>\n    <tr>\n      <th>Turkey</th>\n      <td>1</td>\n    </tr>\n  </tbody>\n</table>\n</div>",
      "text/plain": "         total_count\ncountry             \nChina              1\nGreece             5\nIsrael             1\nItaly              2\nTurkey             1"
     },
     "execution_count": 169,
     "metadata": {},
     "output_type": "execute_result"
    }
   ],
   "source": [
    "dfTotalTop10ByCountry = pd.DataFrame(dfTopTenMostPopularPeople.groupby(['country'])['article_id'].count())\n",
    "dfTotalTop10ByCountry.rename(columns={'':'country','article_id': 'total_count'}, inplace=True)\n",
    "dfTotalTop10ByCountry "
   ]
  },
  {
   "cell_type": "code",
   "execution_count": 170,
   "metadata": {},
   "outputs": [],
   "source": [
    "# Change to bar... use the dfCleanData\n",
    "#plt.bar(dfTotalTop10ByCountry)"
   ]
  },
  {
   "cell_type": "code",
   "execution_count": 171,
   "metadata": {},
   "outputs": [
    {
     "data": {
      "text/html": "<div>\n<style scoped>\n    .dataframe tbody tr th:only-of-type {\n        vertical-align: middle;\n    }\n\n    .dataframe tbody tr th {\n        vertical-align: top;\n    }\n\n    .dataframe thead th {\n        text-align: right;\n    }\n</style>\n<table border=\"1\" class=\"dataframe\">\n  <thead>\n    <tr style=\"text-align: right;\">\n      <th></th>\n      <th>full_name</th>\n      <th>sex</th>\n      <th>birth_year</th>\n      <th>country</th>\n      <th>industry</th>\n      <th>domain</th>\n      <th>occupation</th>\n      <th>popularity</th>\n    </tr>\n  </thead>\n  <tbody>\n    <tr>\n      <th>11340</th>\n      <td>Missy Franklin</td>\n      <td>Female</td>\n      <td>1995</td>\n      <td>United States</td>\n      <td>Individual Sports</td>\n      <td>Sports</td>\n      <td>Swimmer</td>\n      <td>9.8794</td>\n    </tr>\n    <tr>\n      <th>11339</th>\n      <td>Vladimír Weiss</td>\n      <td>Male</td>\n      <td>1989</td>\n      <td>Slovakia</td>\n      <td>Team Sports</td>\n      <td>Sports</td>\n      <td>Soccer Player</td>\n      <td>10.2495</td>\n    </tr>\n    <tr>\n      <th>11338</th>\n      <td>Rūta Meilutytė</td>\n      <td>Female</td>\n      <td>1997</td>\n      <td>Lithuania</td>\n      <td>Individual Sports</td>\n      <td>Sports</td>\n      <td>Swimmer</td>\n      <td>10.3821</td>\n    </tr>\n    <tr>\n      <th>11337</th>\n      <td>Saina Nehwal</td>\n      <td>Female</td>\n      <td>1990</td>\n      <td>India</td>\n      <td>Individual Sports</td>\n      <td>Sports</td>\n      <td>Athlete</td>\n      <td>10.6122</td>\n    </tr>\n    <tr>\n      <th>11336</th>\n      <td>Sean St Ledger</td>\n      <td>Male</td>\n      <td>1984</td>\n      <td>United Kingdom</td>\n      <td>Team Sports</td>\n      <td>Sports</td>\n      <td>Soccer Player</td>\n      <td>11.1346</td>\n    </tr>\n    <tr>\n      <th>11335</th>\n      <td>Jetro Willems</td>\n      <td>Male</td>\n      <td>1994</td>\n      <td>Netherlands</td>\n      <td>Team Sports</td>\n      <td>Sports</td>\n      <td>Soccer Player</td>\n      <td>11.3956</td>\n    </tr>\n    <tr>\n      <th>11334</th>\n      <td>Rebecca Soni</td>\n      <td>Female</td>\n      <td>1987</td>\n      <td>United States</td>\n      <td>Individual Sports</td>\n      <td>Sports</td>\n      <td>Swimmer</td>\n      <td>11.4050</td>\n    </tr>\n    <tr>\n      <th>11333</th>\n      <td>Sun Yang</td>\n      <td>Male</td>\n      <td>1991</td>\n      <td>China</td>\n      <td>Individual Sports</td>\n      <td>Sports</td>\n      <td>Swimmer</td>\n      <td>11.6234</td>\n    </tr>\n    <tr>\n      <th>11332</th>\n      <td>Shane Long</td>\n      <td>Male</td>\n      <td>1987</td>\n      <td>Ireland</td>\n      <td>Team Sports</td>\n      <td>Sports</td>\n      <td>Soccer Player</td>\n      <td>11.7174</td>\n    </tr>\n    <tr>\n      <th>11331</th>\n      <td>Marc Albrighton</td>\n      <td>Male</td>\n      <td>1989</td>\n      <td>United Kingdom</td>\n      <td>Team Sports</td>\n      <td>Sports</td>\n      <td>Soccer Player</td>\n      <td>11.7258</td>\n    </tr>\n  </tbody>\n</table>\n</div>",
      "text/plain": "             full_name     sex  birth_year         country           industry  \\\n11340   Missy Franklin  Female        1995   United States  Individual Sports   \n11339   Vladimír Weiss    Male        1989        Slovakia        Team Sports   \n11338   Rūta Meilutytė  Female        1997       Lithuania  Individual Sports   \n11337     Saina Nehwal  Female        1990           India  Individual Sports   \n11336   Sean St Ledger    Male        1984  United Kingdom        Team Sports   \n11335    Jetro Willems    Male        1994     Netherlands        Team Sports   \n11334     Rebecca Soni  Female        1987   United States  Individual Sports   \n11333         Sun Yang    Male        1991           China  Individual Sports   \n11332       Shane Long    Male        1987         Ireland        Team Sports   \n11331  Marc Albrighton    Male        1989  United Kingdom        Team Sports   \n\n       domain     occupation  popularity  \n11340  Sports        Swimmer      9.8794  \n11339  Sports  Soccer Player     10.2495  \n11338  Sports        Swimmer     10.3821  \n11337  Sports        Athlete     10.6122  \n11336  Sports  Soccer Player     11.1346  \n11335  Sports  Soccer Player     11.3956  \n11334  Sports        Swimmer     11.4050  \n11333  Sports        Swimmer     11.6234  \n11332  Sports  Soccer Player     11.7174  \n11331  Sports  Soccer Player     11.7258  "
     },
     "execution_count": 171,
     "metadata": {},
     "output_type": "execute_result"
    }
   ],
   "source": [
    "# Which historic characters are in the top ten least popular?\n",
    "dfTopTenLeastPopularPeople = dfCleanData.sort_values(by = ['popularity'], ascending = True)\n",
    "dfTopTenLeastPopularPeople = dfTopTenLeastPopularPeople.head(10)\n",
    "dfTopTenLeastPopularPeople.loc[:,columnToDisplayCleanData].head(10)"
   ]
  },
  {
   "cell_type": "code",
   "execution_count": 172,
   "metadata": {},
   "outputs": [
    {
     "data": {
      "text/html": "<div>\n<style scoped>\n    .dataframe tbody tr th:only-of-type {\n        vertical-align: middle;\n    }\n\n    .dataframe tbody tr th {\n        vertical-align: top;\n    }\n\n    .dataframe thead th {\n        text-align: right;\n    }\n</style>\n<table border=\"1\" class=\"dataframe\">\n  <thead>\n    <tr style=\"text-align: right;\">\n      <th></th>\n      <th></th>\n      <th>total_count</th>\n    </tr>\n    <tr>\n      <th>country</th>\n      <th>sex</th>\n      <th></th>\n    </tr>\n  </thead>\n  <tbody>\n    <tr>\n      <th>China</th>\n      <th>Male</th>\n      <td>1</td>\n    </tr>\n    <tr>\n      <th>India</th>\n      <th>Female</th>\n      <td>1</td>\n    </tr>\n    <tr>\n      <th>Ireland</th>\n      <th>Male</th>\n      <td>1</td>\n    </tr>\n    <tr>\n      <th>Lithuania</th>\n      <th>Female</th>\n      <td>1</td>\n    </tr>\n    <tr>\n      <th>Netherlands</th>\n      <th>Male</th>\n      <td>1</td>\n    </tr>\n    <tr>\n      <th>Slovakia</th>\n      <th>Male</th>\n      <td>1</td>\n    </tr>\n    <tr>\n      <th>United Kingdom</th>\n      <th>Male</th>\n      <td>2</td>\n    </tr>\n    <tr>\n      <th>United States</th>\n      <th>Female</th>\n      <td>2</td>\n    </tr>\n  </tbody>\n</table>\n</div>",
      "text/plain": "                       total_count\ncountry        sex                \nChina          Male              1\nIndia          Female            1\nIreland        Male              1\nLithuania      Female            1\nNetherlands    Male              1\nSlovakia       Male              1\nUnited Kingdom Male              2\nUnited States  Female            2"
     },
     "execution_count": 172,
     "metadata": {},
     "output_type": "execute_result"
    }
   ],
   "source": [
    "dfTotalTop10LByContinentByCountry = pd.DataFrame(dfTopTenLeastPopularPeople.groupby([ 'country','sex'])['article_id'].count())\n",
    "dfTotalTop10LByContinentByCountry.rename(columns={'article_id': 'total_count'}, inplace=True)\n",
    "dfTotalTop10LByContinentByCountry"
   ]
  },
  {
   "cell_type": "code",
   "execution_count": 173,
   "metadata": {},
   "outputs": [
    {
     "data": {
      "text/html": "<div>\n<style scoped>\n    .dataframe tbody tr th:only-of-type {\n        vertical-align: middle;\n    }\n\n    .dataframe tbody tr th {\n        vertical-align: top;\n    }\n\n    .dataframe thead th {\n        text-align: right;\n    }\n</style>\n<table border=\"1\" class=\"dataframe\">\n  <thead>\n    <tr style=\"text-align: right;\">\n      <th></th>\n      <th></th>\n      <th>total_count</th>\n    </tr>\n    <tr>\n      <th>continent</th>\n      <th>country</th>\n      <th></th>\n    </tr>\n  </thead>\n  <tbody>\n    <tr>\n      <th>North America</th>\n      <th>United States</th>\n      <td>2168</td>\n    </tr>\n    <tr>\n      <th rowspan=\"4\" valign=\"top\">Europe</th>\n      <th>United Kingdom</th>\n      <td>1145</td>\n    </tr>\n    <tr>\n      <th>France</th>\n      <td>866</td>\n    </tr>\n    <tr>\n      <th>Italy</th>\n      <td>808</td>\n    </tr>\n    <tr>\n      <th>Germany</th>\n      <td>747</td>\n    </tr>\n    <tr>\n      <th>Unknown</th>\n      <th>Unknown</th>\n      <td>438</td>\n    </tr>\n    <tr>\n      <th rowspan=\"2\" valign=\"top\">Europe</th>\n      <th>Russia</th>\n      <td>374</td>\n    </tr>\n    <tr>\n      <th>Spain</th>\n      <td>296</td>\n    </tr>\n    <tr>\n      <th>Asia</th>\n      <th>Turkey</th>\n      <td>202</td>\n    </tr>\n    <tr>\n      <th>Europe</th>\n      <th>Poland</th>\n      <td>173</td>\n    </tr>\n  </tbody>\n</table>\n</div>",
      "text/plain": "                              total_count\ncontinent     country                    \nNorth America United States          2168\nEurope        United Kingdom         1145\n              France                  866\n              Italy                   808\n              Germany                 747\nUnknown       Unknown                 438\nEurope        Russia                  374\n              Spain                   296\nAsia          Turkey                  202\nEurope        Poland                  173"
     },
     "execution_count": 173,
     "metadata": {},
     "output_type": "execute_result"
    }
   ],
   "source": [
    "# Getting the count by countinent and by country\n",
    "dfTotalByContinentByCountry = pd.DataFrame(dfCleanData.groupby(['continent', 'country'])['article_id'].count())\n",
    "# Renaming the default column name the dataframe created to a meaningfull name\n",
    "dfTotalByContinentByCountry.rename(columns={'article_id': 'total_count'}, inplace=True)\n",
    "dfTotalByContinentByCountry.sort_values(by = ['total_count'], ascending = False).head(10)"
   ]
  },
  {
   "cell_type": "code",
   "execution_count": 174,
   "metadata": {},
   "outputs": [
    {
     "data": {
      "text/html": "<div>\n<style scoped>\n    .dataframe tbody tr th:only-of-type {\n        vertical-align: middle;\n    }\n\n    .dataframe tbody tr th {\n        vertical-align: top;\n    }\n\n    .dataframe thead th {\n        text-align: right;\n    }\n</style>\n<table border=\"1\" class=\"dataframe\">\n  <thead>\n    <tr style=\"text-align: right;\">\n      <th></th>\n      <th>total_count</th>\n    </tr>\n    <tr>\n      <th>continent</th>\n      <th></th>\n    </tr>\n  </thead>\n  <tbody>\n    <tr>\n      <th>Europe</th>\n      <td>6368</td>\n    </tr>\n    <tr>\n      <th>North America</th>\n      <td>2439</td>\n    </tr>\n    <tr>\n      <th>Asia</th>\n      <td>1188</td>\n    </tr>\n    <tr>\n      <th>Unknown</th>\n      <td>438</td>\n    </tr>\n    <tr>\n      <th>Africa</th>\n      <td>419</td>\n    </tr>\n    <tr>\n      <th>South America</th>\n      <td>366</td>\n    </tr>\n    <tr>\n      <th>Oceania</th>\n      <td>123</td>\n    </tr>\n  </tbody>\n</table>\n</div>",
      "text/plain": "               total_count\ncontinent                 \nEurope                6368\nNorth America         2439\nAsia                  1188\nUnknown                438\nAfrica                 419\nSouth America          366\nOceania                123"
     },
     "execution_count": 174,
     "metadata": {},
     "output_type": "execute_result"
    }
   ],
   "source": [
    "# Getting the count by countinent\n",
    "dfTotalByContinent = pd.DataFrame(dfCleanData.groupby(['continent'])['article_id'].count())\n",
    "# Renaming the default column name the dataframe created to a meaningfull name\n",
    "dfTotalByContinent.rename(columns={'article_id': 'total_count'}, inplace=True)\n",
    "dfTotalByContinent.sort_values(by = ['total_count'], ascending = False)"
   ]
  },
  {
   "cell_type": "markdown",
   "metadata": {},
   "source": [
    "## Modeling"
   ]
  },
  {
   "cell_type": "markdown",
   "metadata": {},
   "source": [
    "# Results"
   ]
  },
  {
   "cell_type": "markdown",
   "metadata": {},
   "source": [
    "# Conclusion"
   ]
  },
  {
   "cell_type": "code",
   "execution_count": null,
   "metadata": {},
   "outputs": [],
   "source": []
  }
 ],
 "metadata": {
  "file_extension": ".py",
  "kernelspec": {
   "display_name": "Python 3",
   "language": "python",
   "name": "python3"
  },
  "language_info": {
   "codemirror_mode": {
    "name": "ipython",
    "version": 3
   },
   "file_extension": ".py",
   "mimetype": "text/x-python",
   "name": "python",
   "nbconvert_exporter": "python",
   "pygments_lexer": "ipython3",
   "version": "3.7.3"
  },
  "mimetype": "text/x-python",
  "name": "python",
  "npconvert_exporter": "python",
  "pygments_lexer": "ipython3",
  "version": 3
 },
 "nbformat": 4,
 "nbformat_minor": 2
}