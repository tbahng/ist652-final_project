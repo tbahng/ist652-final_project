<<<<<<< HEAD
{
 "cells": [
  {
   "cell_type": "markdown",
   "metadata": {},
   "source": [
    "# IST 652 Final Project - A Pantheon Exploration"
   ]
  },
  {
   "cell_type": "markdown",
   "metadata": {},
   "source": [
    "# Introduction\n",
    "\n",
    "Recorded human history has only been around for 5000 years. By understanding the makeup of Pantheon, all persons today both young and old are enriched with the knowledge of global, scientific and cultural development of humanity. The meaning of the word *Pantheon* describes a group of particularly respected, famous, or important people. Over the course of human history there have been thousands of such individuals that have made an impact on society. Due to the information age that began in the latter part of the 20th century, people all over the world now have access to the same biographies of these individuals through Wikipedia in multiple languages. What was once information of limited accessibility and supply, shelved in remote libraries, is now conveniently made available through this medium.\n",
    "\n",
    "Credit goes to the Macro Connections group at the Massachusetts Institute of Technology Media Lab and their [Pantheon Project](https://www.kaggle.com/mit/pantheon-project). Not only was a Pantheon index made available to the general public, but a popularity index was created as well. One \"barrier to entry\" to this content is the number of languages available for each article. This is a key measure in determining the popularity of individuals in the Pantheon. \"The simpler of the two measures, which we denote as L, is the number of different Wikipedia language editions that have an article about a historical character. The more sophisticated measure, which we name the Historical Popularity Index (HPI) corrects L by adding information on the age of the historical character, the concentration of page views among different languages, the coefficient of variation in page views, and the number of page views in languages other than English.\" [https://www.kaggle.com/mit/pantheon-project](https://www.kaggle.com/mit/pantheon-project)\n",
    "\n",
    "The significance of historical figures may be debatable, but this report seeks to apply an objective measure of popularity to better understand how biographies of the Pantheon is being consumed in the current day and age. From Aristotle to Benjamin Franklin, Jesus Christ to Al Pacino, historical figures and their attributes will be measured with web analytics so that the reader may have insights into the following:\n",
    "\n",
    "Research questions:\n",
    "\n",
    "* Which historic characters are the most popular?\n",
    "* When did they live and where are they from?\n",
    "* What factors could have generated their popularity?\n",
    "* Are there any observable trends in the categorical data provided?\n",
    "* What clusters and groupings are in the data? How do groups compare in popularity?"
   ]
  },
  {
   "cell_type": "markdown",
   "metadata": {},
   "source": [
    "# Analysis\n",
    "\n",
    "Key analysis methods used in report:\n",
    "* Data Cleaning\n",
    "* Sorting and subsets of the data.\n",
    "* Line and bar plots.\n",
    "* Multiple regression"
   ]
  },
  {
   "cell_type": "markdown",
   "metadata": {},
   "source": [
    "## About the Data"
   ]
  },
  {
   "cell_type": "code",
<<<<<<< HEAD
<<<<<<< HEAD
   "execution_count": 628,
=======
   "execution_count": 503,
>>>>>>> parent of 675401e... Update Final_Project_Report.ipynb
=======
   "execution_count": 503,
>>>>>>> parent of 675401e... Update Final_Project_Report.ipynb
   "metadata": {},
   "outputs": [],
   "source": [
    "import os\n",
    "import pandas as pd\n",
    "import numpy as np\n",
    "import math\n",
    "import matplotlib\n",
    "import matplotlib.pyplot as plt\n",
    "import seaborn as sn"
   ]
  },
  {
   "cell_type": "code",
<<<<<<< HEAD
<<<<<<< HEAD
   "execution_count": 629,
=======
   "execution_count": 504,
>>>>>>> parent of 675401e... Update Final_Project_Report.ipynb
=======
   "execution_count": 504,
>>>>>>> parent of 675401e... Update Final_Project_Report.ipynb
   "metadata": {},
   "outputs": [],
   "source": [
    "dataFileName = \"data/database.csv\"\n",
    "isExist = os.path.isfile(dataFileName)\n",
    "if isExist == True:\n",
    "    dfDirtyData = pd.read_csv(dataFileName, sep=\",\", header=0)\n",
    "else:\n",
    "    print(\"File not found:\", os.getcwd())\n"
   ]
  },
  {
   "cell_type": "markdown",
   "execution_count": null,
   "metadata": {},
   "outputs": [],
   "source": [
    "### Loading Data\n",
    "* \n"
   ]
  },
  {
   "cell_type": "code",
<<<<<<< HEAD
<<<<<<< HEAD
   "execution_count": 630,
=======
   "execution_count": 505,
>>>>>>> parent of 675401e... Update Final_Project_Report.ipynb
=======
   "execution_count": 505,
>>>>>>> parent of 675401e... Update Final_Project_Report.ipynb
   "metadata": {},
   "outputs": [
    {
     "name": "stdout",
     "output_type": "stream",
     "text": "<class 'pandas.core.frame.DataFrame'>\nRangeIndex: 11341 entries, 0 to 11340\nData columns (total 17 columns):\narticle_id                     11341 non-null int64\nfull_name                      11341 non-null object\nsex                            11341 non-null object\nbirth_year                     11341 non-null object\ncity                           11341 non-null object\nstate                          2172 non-null object\ncountry                        11308 non-null object\ncontinent                      11311 non-null object\nlatitude                       10294 non-null float64\nlongitude                      10294 non-null float64\noccupation                     11341 non-null object\nindustry                       11341 non-null object\ndomain                         11341 non-null object\narticle_languages              11341 non-null int64\npage_views                     11341 non-null int64\naverage_views                  11341 non-null int64\nhistorical_popularity_index    11341 non-null float64\ndtypes: float64(3), int64(4), object(10)\nmemory usage: 1.5+ MB\n"
    }
   ],
   "source": [
    "# Showing inforamtion about the dataframe\n",
    "dfDirtyData.info()"
   ]
  },
  {
   "cell_type": "code",
<<<<<<< HEAD
<<<<<<< HEAD
   "execution_count": 631,
=======
   "execution_count": 506,
>>>>>>> parent of 675401e... Update Final_Project_Report.ipynb
=======
   "execution_count": 506,
>>>>>>> parent of 675401e... Update Final_Project_Report.ipynb
   "metadata": {},
   "outputs": [],
   "source": [
    "# Creating a varibale to hold fields for displaying purpose since not all will fit\n",
    "columnToDisplayDirtyData = ['full_name', 'sex', 'birth_year', 'country', 'occupation','historical_popularity_index']"
   ]
  },
  {
   "cell_type": "code",
<<<<<<< HEAD
<<<<<<< HEAD
   "execution_count": 632,
=======
   "execution_count": 507,
>>>>>>> parent of 675401e... Update Final_Project_Report.ipynb
=======
   "execution_count": 507,
>>>>>>> parent of 675401e... Update Final_Project_Report.ipynb
   "metadata": {},
   "outputs": [
    {
     "data": {
      "text/plain": "article_id                             23671899\nfull_name                                Elisha\nsex                                        Male\nbirth_year                              Unknown\ncity                                      Other\nstate                                       NaN\ncountry                                 Unknown\ncontinent                               Unknown\nlatitude                                    NaN\nlongitude                                   NaN\noccupation                     Religious Figure\nindustry                               Religion\ndomain                             Institutions\narticle_languages                            41\npage_views                              1338790\naverage_views                             32653\nhistorical_popularity_index             25.5087\nName: 1522, dtype: object"
     },
<<<<<<< HEAD
<<<<<<< HEAD
     "execution_count": 632,
=======
     "execution_count": 507,
>>>>>>> parent of 675401e... Update Final_Project_Report.ipynb
=======
     "execution_count": 507,
>>>>>>> parent of 675401e... Update Final_Project_Report.ipynb
     "metadata": {},
     "output_type": "execute_result"
    }
   ],
   "source": [
    "# Showing a single row of record\n",
    "dfDirtyData.loc[1522]"
   ]
  },
  {
   "cell_type": "code",
<<<<<<< HEAD
<<<<<<< HEAD
   "execution_count": 633,
=======
   "execution_count": 508,
>>>>>>> parent of 675401e... Update Final_Project_Report.ipynb
=======
   "execution_count": 508,
>>>>>>> parent of 675401e... Update Final_Project_Report.ipynb
   "metadata": {},
   "outputs": [
    {
     "data": {
      "text/html": "<div>\n<style scoped>\n    .dataframe tbody tr th:only-of-type {\n        vertical-align: middle;\n    }\n\n    .dataframe tbody tr th {\n        vertical-align: top;\n    }\n\n    .dataframe thead th {\n        text-align: right;\n    }\n</style>\n<table border=\"1\" class=\"dataframe\">\n  <thead>\n    <tr style=\"text-align: right;\">\n      <th></th>\n      <th>full_name</th>\n      <th>sex</th>\n      <th>birth_year</th>\n      <th>country</th>\n      <th>occupation</th>\n      <th>historical_popularity_index</th>\n    </tr>\n  </thead>\n  <tbody>\n    <tr>\n      <th>0</th>\n      <td>Aristotle</td>\n      <td>Male</td>\n      <td>-384</td>\n      <td>Greece</td>\n      <td>Philosopher</td>\n      <td>31.9938</td>\n    </tr>\n    <tr>\n      <th>1</th>\n      <td>Plato</td>\n      <td>Male</td>\n      <td>-427</td>\n      <td>Greece</td>\n      <td>Philosopher</td>\n      <td>31.9888</td>\n    </tr>\n    <tr>\n      <th>2</th>\n      <td>Jesus Christ</td>\n      <td>Male</td>\n      <td>-4</td>\n      <td>Israel</td>\n      <td>Religious Figure</td>\n      <td>31.8981</td>\n    </tr>\n    <tr>\n      <th>3</th>\n      <td>Socrates</td>\n      <td>Male</td>\n      <td>-469</td>\n      <td>Greece</td>\n      <td>Philosopher</td>\n      <td>31.6521</td>\n    </tr>\n    <tr>\n      <th>4</th>\n      <td>Alexander the Great</td>\n      <td>Male</td>\n      <td>-356</td>\n      <td>Greece</td>\n      <td>Military Personnel</td>\n      <td>31.5840</td>\n    </tr>\n  </tbody>\n</table>\n</div>",
      "text/plain": "             full_name   sex birth_year country          occupation  \\\n0            Aristotle  Male       -384  Greece         Philosopher   \n1                Plato  Male       -427  Greece         Philosopher   \n2         Jesus Christ  Male         -4  Israel    Religious Figure   \n3             Socrates  Male       -469  Greece         Philosopher   \n4  Alexander the Great  Male       -356  Greece  Military Personnel   \n\n   historical_popularity_index  \n0                      31.9938  \n1                      31.9888  \n2                      31.8981  \n3                      31.6521  \n4                      31.5840  "
     },
<<<<<<< HEAD
<<<<<<< HEAD
     "execution_count": 633,
=======
     "execution_count": 508,
>>>>>>> parent of 675401e... Update Final_Project_Report.ipynb
=======
     "execution_count": 508,
>>>>>>> parent of 675401e... Update Final_Project_Report.ipynb
     "metadata": {},
     "output_type": "execute_result"
    }
   ],
   "source": [
    "# Showing the first 5 rows of the data in the data frame\n",
    "dfDirtyData.loc[:,columnToDisplayDirtyData].head(5)"
   ]
  },
  {
   "cell_type": "code",
<<<<<<< HEAD
<<<<<<< HEAD
   "execution_count": 634,
=======
   "execution_count": 509,
>>>>>>> parent of 675401e... Update Final_Project_Report.ipynb
=======
   "execution_count": 509,
>>>>>>> parent of 675401e... Update Final_Project_Report.ipynb
   "metadata": {},
   "outputs": [
    {
     "data": {
      "text/html": "<div>\n<style scoped>\n    .dataframe tbody tr th:only-of-type {\n        vertical-align: middle;\n    }\n\n    .dataframe tbody tr th {\n        vertical-align: top;\n    }\n\n    .dataframe thead th {\n        text-align: right;\n    }\n</style>\n<table border=\"1\" class=\"dataframe\">\n  <thead>\n    <tr style=\"text-align: right;\">\n      <th></th>\n      <th>full_name</th>\n      <th>sex</th>\n      <th>birth_year</th>\n      <th>country</th>\n      <th>occupation</th>\n      <th>historical_popularity_index</th>\n    </tr>\n  </thead>\n  <tbody>\n    <tr>\n      <th>11336</th>\n      <td>Sean St Ledger</td>\n      <td>Male</td>\n      <td>1984</td>\n      <td>United Kingdom</td>\n      <td>Soccer Player</td>\n      <td>11.1346</td>\n    </tr>\n    <tr>\n      <th>11337</th>\n      <td>Saina Nehwal</td>\n      <td>Female</td>\n      <td>1990</td>\n      <td>India</td>\n      <td>Athlete</td>\n      <td>10.6122</td>\n    </tr>\n    <tr>\n      <th>11338</th>\n      <td>Rūta Meilutytė</td>\n      <td>Female</td>\n      <td>1997</td>\n      <td>Lithuania</td>\n      <td>Swimmer</td>\n      <td>10.3821</td>\n    </tr>\n    <tr>\n      <th>11339</th>\n      <td>Vladimír Weiss</td>\n      <td>Male</td>\n      <td>1989</td>\n      <td>Slovakia</td>\n      <td>Soccer Player</td>\n      <td>10.2495</td>\n    </tr>\n    <tr>\n      <th>11340</th>\n      <td>Missy Franklin</td>\n      <td>Female</td>\n      <td>1995</td>\n      <td>United States</td>\n      <td>Swimmer</td>\n      <td>9.8794</td>\n    </tr>\n  </tbody>\n</table>\n</div>",
      "text/plain": "            full_name     sex birth_year         country     occupation  \\\n11336  Sean St Ledger    Male       1984  United Kingdom  Soccer Player   \n11337    Saina Nehwal  Female       1990           India        Athlete   \n11338  Rūta Meilutytė  Female       1997       Lithuania        Swimmer   \n11339  Vladimír Weiss    Male       1989        Slovakia  Soccer Player   \n11340  Missy Franklin  Female       1995   United States        Swimmer   \n\n       historical_popularity_index  \n11336                      11.1346  \n11337                      10.6122  \n11338                      10.3821  \n11339                      10.2495  \n11340                       9.8794  "
     },
<<<<<<< HEAD
<<<<<<< HEAD
     "execution_count": 634,
=======
     "execution_count": 509,
>>>>>>> parent of 675401e... Update Final_Project_Report.ipynb
=======
     "execution_count": 509,
>>>>>>> parent of 675401e... Update Final_Project_Report.ipynb
     "metadata": {},
     "output_type": "execute_result"
    }
   ],
   "source": [
    "# Showing the first 5 rows of the data in the data frame\n",
    "dfDirtyData.loc[:,columnToDisplayDirtyData].tail(5)"
   ]
  },
  {
   "cell_type": "markdown",
   "metadata": {},
   "source": [
    "## Data Cleaning"
   ]
  },
  {
   "cell_type": "code",
<<<<<<< HEAD
<<<<<<< HEAD
   "execution_count": 637,
   "metadata": {},
   "outputs": [],
   "source": [
    "def fillNaN(df, dataType, defaultValue):\n",
    "    for column in df.columns:\n",
    "        if(df[column].dtype == dataType):\n",
    "            df[column].fillna(value = defaultValue, inplace=True)"
   ]
  },
  {
   "cell_type": "markdown",
   "execution_count": null,
   "metadata": {},
   "outputs": [],
   "source": [
    "##### Looping through columns in the dataframe. \n",
    "##### Replacing columns values with 'object' data type from 'NaN' to 'NA'\n",
    "#####for column in dfCleanData.columns:\n",
    "#####    if(dfCleanData[column].dtype == 'object'):\n",
    "#####          dfCleanData[column].fillna(value=\"Unknown\", inplace=True)"
   ]
  },
  {
   "cell_type": "code",
   "execution_count": 635,
=======
   "execution_count": 512,
>>>>>>> parent of 675401e... Update Final_Project_Report.ipynb
=======
   "execution_count": 512,
>>>>>>> parent of 675401e... Update Final_Project_Report.ipynb
   "metadata": {},
   "outputs": [],
   "source": [
    "def removeCharFromNumber(inputValue):\n",
    "    a = ''\n",
    "    inputValue = str(inputValue)\n",
    "    for char in inputValue:\n",
    "        if char.isdigit() == True:\n",
    "            a = a + char\n",
    "    return a"
   ]
  },
  {
   "cell_type": "code",
<<<<<<< HEAD
<<<<<<< HEAD
   "execution_count": 636,
=======
   "execution_count": 513,
>>>>>>> parent of 675401e... Update Final_Project_Report.ipynb
=======
   "execution_count": 513,
>>>>>>> parent of 675401e... Update Final_Project_Report.ipynb
   "metadata": {},
   "outputs": [],
   "source": [
    "# Finding the index of a column with alpha numberic values.\n",
    "def findStringValueIndex(fieldName):\n",
    "    badRowIndex = [] # initialize list of problematic rows\n",
    "    for idx, value in enumerate(dfCleanData[fieldName]):\n",
    "        try:\n",
    "            int(value)\n",
    "        except:\n",
    "            newValue = ''\n",
    "            newValue = removeCharFromNumber(value)\n",
    "            if newValue != '':\n",
    "                dfCleanData.loc[idx, col] = newValue\n",
    "            else:\n",
    "                badRowIndex.append(idx)\n",
    "    return badRowIndex"
   ]
  },
  {
   "cell_type": "code",
<<<<<<< HEAD
<<<<<<< HEAD
   "execution_count": 638,
=======
   "execution_count": 510,
>>>>>>> parent of 675401e... Update Final_Project_Report.ipynb
=======
   "execution_count": 510,
>>>>>>> parent of 675401e... Update Final_Project_Report.ipynb
   "metadata": {},
   "outputs": [],
   "source": [
    "# Creating a new copy of a dataframe\n",
    "dfCleanData = dfDirtyData.copy()"
   ]
  },
  {
   "cell_type": "code",
<<<<<<< HEAD
<<<<<<< HEAD
   "execution_count": 639,
=======
   "execution_count": 511,
>>>>>>> parent of 675401e... Update Final_Project_Report.ipynb
=======
   "execution_count": 511,
>>>>>>> parent of 675401e... Update Final_Project_Report.ipynb
   "metadata": {},
   "outputs": [],
   "source": [
    "# Renaming historical_popularity_index to popularity (short name)\n",
    "dfCleanData.rename(columns={'historical_popularity_index': 'popularity'}, inplace=True)"
   ]
  },
  {
   "cell_type": "code",
<<<<<<< HEAD
<<<<<<< HEAD
   "execution_count": 642,
   "metadata": {},
   "outputs": [],
   "source": [
    "fillNaN(dfCleanData, 'object', 'Unknown')"
   ]
  },
  {
   "cell_type": "code",
   "execution_count": 640,
=======
   "execution_count": 514,
>>>>>>> parent of 675401e... Update Final_Project_Report.ipynb
=======
   "execution_count": 514,
>>>>>>> parent of 675401e... Update Final_Project_Report.ipynb
   "metadata": {},
   "outputs": [],
   "source": [
    "columnToNumeric = [\"article_languages\", \"birth_year\", \"latitude\", \"longitude\", \"page_views\",\"average_views\", \"popularity\"]\n",
    "for col in columnToNumeric:\n",
    "    indx = []\n",
    "    indx = findStringValueIndex(col)\n",
    "    if len(indx) > 0 :\n",
    "        dfCleanData.loc[indx, col] = 0\n",
    "# Converting the columns above to numeric data type\n",
    "dfCleanData[columnToNumeric] = dfCleanData[columnToNumeric].apply(pd.to_numeric)"
   ]
  },
  {
   "cell_type": "code",
<<<<<<< HEAD
<<<<<<< HEAD
   "execution_count": 641,
=======
   "execution_count": 515,
>>>>>>> parent of 675401e... Update Final_Project_Report.ipynb
=======
   "execution_count": 515,
>>>>>>> parent of 675401e... Update Final_Project_Report.ipynb
   "metadata": {},
   "outputs": [],
   "source": [
    "# List of columns to be converted into numeric data type\n",
    "#columnToConvert = [\"birth_year\"]\n",
    "# Making sure to replace the non-numeric values to 0 before converting to numeric\n",
    "# Examples: \n",
    "#           dfCleanData.loc[findStringValueIndex('latitude'), 'latitude'] = 0\n",
    "# The following code block is doing similiar to the examples but \n",
    "# through the iteration of the list \n",
    "# replaced incorrect birth year with an actual year\n",
    "#dfCleanData['birth_year'] = dfCleanData['birth_year'].replace(['1237?'], 1237).replace(['530s'], 530)"
   ]
  },
  {
   "cell_type": "code",
<<<<<<< HEAD
<<<<<<< HEAD
   "execution_count": 643,
=======
   "execution_count": 557,
>>>>>>> parent of 675401e... Update Final_Project_Report.ipynb
=======
   "execution_count": 557,
>>>>>>> parent of 675401e... Update Final_Project_Report.ipynb
   "metadata": {},
   "outputs": [
    {
     "name": "stdout",
     "output_type": "stream",
<<<<<<< HEAD
<<<<<<< HEAD
     "text": "<class 'pandas.core.frame.DataFrame'>\nRangeIndex: 11341 entries, 0 to 11340\nData columns (total 17 columns):\narticle_id           11341 non-null int64\nfull_name            11341 non-null object\nsex                  11341 non-null object\nbirth_year           11341 non-null int64\ncity                 11341 non-null object\nstate                11341 non-null object\ncountry              11341 non-null object\ncontinent            11341 non-null object\nlatitude             11341 non-null float64\nlongitude            11341 non-null float64\noccupation           11341 non-null object\nindustry             11341 non-null object\ndomain               11341 non-null object\narticle_languages    11341 non-null int64\npage_views           11341 non-null int64\naverage_views        11341 non-null int64\npopularity           11341 non-null float64\ndtypes: float64(3), int64(5), object(9)\nmemory usage: 1.5+ MB\n"
    }
   ],
   "source": [
    "# Showing inforamtion about the dataframe\n",
    "dfCleanData.info()"
=======
     "text": "Dirty Birth Year 3009    1237?\nName: birth_year, dtype: object\n\nClean Birth Year 3009    1237\nName: birth_year, dtype: int64\n"
    }
   ],
   "source": [
=======
     "text": "Dirty Birth Year 3009    1237?\nName: birth_year, dtype: object\n\nClean Birth Year 3009    1237\nName: birth_year, dtype: int64\n"
    }
   ],
   "source": [
>>>>>>> parent of 675401e... Update Final_Project_Report.ipynb
    "dirtyBirthYear = dfDirtyData[dfDirtyData['birth_year'] == '1237?'].loc[:,'birth_year']\n",
    "cleanBirthYear = dfCleanData[dfCleanData['birth_year'] == 1237].loc[:,'birth_year']\n",
    "print('Dirty Birth Year', dirtyBirthYear)\n",
    "print()\n",
    "print('Clean Birth Year', cleanBirthYear)\n"
<<<<<<< HEAD
>>>>>>> parent of 675401e... Update Final_Project_Report.ipynb
=======
>>>>>>> parent of 675401e... Update Final_Project_Report.ipynb
   ]
  },
  {
   "cell_type": "code",
<<<<<<< HEAD
<<<<<<< HEAD
   "execution_count": 673,
   "metadata": {},
   "outputs": [
    {
     "name": "stdout",
     "output_type": "stream",
     "text": "Dirty Data: 3009    1237?\nName: birth_year, dtype: object\n\nClean Data: 3009    1237\nName: birth_year, dtype: int64\n"
    }
   ],
   "source": [
    "print('Dirty Data:', dfDirtyData[dfDirtyData['birth_year'] == '1237?'].loc[:,'birth_year'])\n",
    "print()\n",
    "print('Clean Data:', dfCleanData[dfCleanData['birth_year'] == 1237].loc[:,'birth_year'])\n"
=======
   "execution_count": 533,
   "metadata": {},
   "outputs": [
    {
     "data": {
      "text/plain": "article_id                               518761\nfull_name                      Adam de la Halle\nsex                                        Male\nbirth_year                                1237?\ncity                                      Arras\nstate                                       NaN\ncountry                                  France\ncontinent                                Europe\nlatitude                                50.2897\nlongitude                                2.7808\noccupation                               Writer\nindustry                               Language\ndomain                               Humanities\narticle_languages                            30\npage_views                               406283\naverage_views                             13543\nhistorical_popularity_index             24.5036\nName: 3009, dtype: object"
     },
     "execution_count": 533,
     "metadata": {},
     "output_type": "execute_result"
    }
   ],
   "source": [
=======
   "execution_count": 533,
   "metadata": {},
   "outputs": [
    {
     "data": {
      "text/plain": "article_id                               518761\nfull_name                      Adam de la Halle\nsex                                        Male\nbirth_year                                1237?\ncity                                      Arras\nstate                                       NaN\ncountry                                  France\ncontinent                                Europe\nlatitude                                50.2897\nlongitude                                2.7808\noccupation                               Writer\nindustry                               Language\ndomain                               Humanities\narticle_languages                            30\npage_views                               406283\naverage_views                             13543\nhistorical_popularity_index             24.5036\nName: 3009, dtype: object"
     },
     "execution_count": 533,
     "metadata": {},
     "output_type": "execute_result"
    }
   ],
   "source": [
>>>>>>> parent of 675401e... Update Final_Project_Report.ipynb
    "dfDirtyData.loc[3009]"
   ]
  },
  {
   "cell_type": "code",
   "execution_count": 517,
   "metadata": {},
   "outputs": [],
   "source": [
    "# Looping through columns in the dataframe. \n",
    "# Replacing columns values with 'object' data type from 'NaN' to 'NA'\n",
    "for column in dfCleanData.columns:\n",
    "    if(dfCleanData[column].dtype == 'object'):\n",
    "          dfCleanData[column].fillna(value=\"Unknown\", inplace=True)"
<<<<<<< HEAD
>>>>>>> parent of 675401e... Update Final_Project_Report.ipynb
=======
>>>>>>> parent of 675401e... Update Final_Project_Report.ipynb
   ]
  },
  {
   "cell_type": "code",
<<<<<<< HEAD
<<<<<<< HEAD
   "execution_count": 674,
=======
   "execution_count": 518,
>>>>>>> parent of 675401e... Update Final_Project_Report.ipynb
=======
   "execution_count": 518,
>>>>>>> parent of 675401e... Update Final_Project_Report.ipynb
   "metadata": {},
   "outputs": [
    {
     "name": "stdout",
     "output_type": "stream",
<<<<<<< HEAD
<<<<<<< HEAD
     "text": "Dirty Data: 1522    NaN\nName: state, dtype: object\n\nClean Data: 1522    Unknown\nName: state, dtype: object\n"
    }
   ],
   "source": [
    "print('Dirty Data:', dfDirtyData[dfDirtyData['article_id'] == 23671899].loc[:,'state'])\n",
    "print('')\n",
    "print('Clean Data:', dfCleanData[dfCleanData['article_id'] == 23671899].loc[:,'state'])"
=======
     "text": "<class 'pandas.core.frame.DataFrame'>\nRangeIndex: 11341 entries, 0 to 11340\nData columns (total 17 columns):\narticle_id           11341 non-null int64\nfull_name            11341 non-null object\nsex                  11341 non-null object\nbirth_year           11341 non-null int64\ncity                 11341 non-null object\nstate                11341 non-null object\ncountry              11341 non-null object\ncontinent            11341 non-null object\nlatitude             11341 non-null float64\nlongitude            11341 non-null float64\noccupation           11341 non-null object\nindustry             11341 non-null object\ndomain               11341 non-null object\narticle_languages    11341 non-null int64\npage_views           11341 non-null int64\naverage_views        11341 non-null int64\npopularity           11341 non-null float64\ndtypes: float64(3), int64(5), object(9)\nmemory usage: 1.5+ MB\n"
    }
   ],
   "source": [
    "# Showing inforamtion about the dataframe\n",
    "dfCleanData.info()"
>>>>>>> parent of 675401e... Update Final_Project_Report.ipynb
=======
     "text": "<class 'pandas.core.frame.DataFrame'>\nRangeIndex: 11341 entries, 0 to 11340\nData columns (total 17 columns):\narticle_id           11341 non-null int64\nfull_name            11341 non-null object\nsex                  11341 non-null object\nbirth_year           11341 non-null int64\ncity                 11341 non-null object\nstate                11341 non-null object\ncountry              11341 non-null object\ncontinent            11341 non-null object\nlatitude             11341 non-null float64\nlongitude            11341 non-null float64\noccupation           11341 non-null object\nindustry             11341 non-null object\ndomain               11341 non-null object\narticle_languages    11341 non-null int64\npage_views           11341 non-null int64\naverage_views        11341 non-null int64\npopularity           11341 non-null float64\ndtypes: float64(3), int64(5), object(9)\nmemory usage: 1.5+ MB\n"
    }
   ],
   "source": [
    "# Showing inforamtion about the dataframe\n",
    "dfCleanData.info()"
>>>>>>> parent of 675401e... Update Final_Project_Report.ipynb
   ]
  },
  {
   "cell_type": "code",
<<<<<<< HEAD
<<<<<<< HEAD
   "execution_count": 646,
=======
   "execution_count": 519,
>>>>>>> parent of 675401e... Update Final_Project_Report.ipynb
=======
   "execution_count": 519,
>>>>>>> parent of 675401e... Update Final_Project_Report.ipynb
   "metadata": {},
   "outputs": [],
   "source": [
    "# Creating a varibale to hold fields for displaying purpose since not all will fit\n",
    "columnToDisplayCleanData = ['full_name', 'sex', 'birth_year', 'country', 'industry','domain','occupation','popularity']"
   ]
  },
  {
   "cell_type": "code",
<<<<<<< HEAD
<<<<<<< HEAD
   "execution_count": 647,
=======
   "execution_count": 520,
>>>>>>> parent of 675401e... Update Final_Project_Report.ipynb
=======
   "execution_count": 520,
>>>>>>> parent of 675401e... Update Final_Project_Report.ipynb
   "metadata": {},
   "outputs": [
    {
     "data": {
      "text/html": "<div>\n<style scoped>\n    .dataframe tbody tr th:only-of-type {\n        vertical-align: middle;\n    }\n\n    .dataframe tbody tr th {\n        vertical-align: top;\n    }\n\n    .dataframe thead th {\n        text-align: right;\n    }\n</style>\n<table border=\"1\" class=\"dataframe\">\n  <thead>\n    <tr style=\"text-align: right;\">\n      <th></th>\n      <th>full_name</th>\n      <th>sex</th>\n      <th>birth_year</th>\n      <th>country</th>\n      <th>industry</th>\n      <th>domain</th>\n      <th>occupation</th>\n      <th>popularity</th>\n    </tr>\n  </thead>\n  <tbody>\n    <tr>\n      <th>0</th>\n      <td>Aristotle</td>\n      <td>Male</td>\n      <td>-384</td>\n      <td>Greece</td>\n      <td>Philosophy</td>\n      <td>Humanities</td>\n      <td>Philosopher</td>\n      <td>31.9938</td>\n    </tr>\n    <tr>\n      <th>1</th>\n      <td>Plato</td>\n      <td>Male</td>\n      <td>-427</td>\n      <td>Greece</td>\n      <td>Philosophy</td>\n      <td>Humanities</td>\n      <td>Philosopher</td>\n      <td>31.9888</td>\n    </tr>\n    <tr>\n      <th>2</th>\n      <td>Jesus Christ</td>\n      <td>Male</td>\n      <td>-4</td>\n      <td>Israel</td>\n      <td>Religion</td>\n      <td>Institutions</td>\n      <td>Religious Figure</td>\n      <td>31.8981</td>\n    </tr>\n    <tr>\n      <th>3</th>\n      <td>Socrates</td>\n      <td>Male</td>\n      <td>-469</td>\n      <td>Greece</td>\n      <td>Philosophy</td>\n      <td>Humanities</td>\n      <td>Philosopher</td>\n      <td>31.6521</td>\n    </tr>\n    <tr>\n      <th>4</th>\n      <td>Alexander the Great</td>\n      <td>Male</td>\n      <td>-356</td>\n      <td>Greece</td>\n      <td>Military</td>\n      <td>Institutions</td>\n      <td>Military Personnel</td>\n      <td>31.5840</td>\n    </tr>\n  </tbody>\n</table>\n</div>",
      "text/plain": "             full_name   sex  birth_year country    industry        domain  \\\n0            Aristotle  Male        -384  Greece  Philosophy    Humanities   \n1                Plato  Male        -427  Greece  Philosophy    Humanities   \n2         Jesus Christ  Male          -4  Israel    Religion  Institutions   \n3             Socrates  Male        -469  Greece  Philosophy    Humanities   \n4  Alexander the Great  Male        -356  Greece    Military  Institutions   \n\n           occupation  popularity  \n0         Philosopher     31.9938  \n1         Philosopher     31.9888  \n2    Religious Figure     31.8981  \n3         Philosopher     31.6521  \n4  Military Personnel     31.5840  "
     },
<<<<<<< HEAD
<<<<<<< HEAD
     "execution_count": 647,
=======
     "execution_count": 520,
>>>>>>> parent of 675401e... Update Final_Project_Report.ipynb
=======
     "execution_count": 520,
>>>>>>> parent of 675401e... Update Final_Project_Report.ipynb
     "metadata": {},
     "output_type": "execute_result"
    }
   ],
   "source": [
    "# Showing the first 5 rows of the data in the dataset\n",
    "dfCleanData.loc[:,columnToDisplayCleanData].head(5)"
   ]
  },
  {
   "cell_type": "code",
<<<<<<< HEAD
<<<<<<< HEAD
   "execution_count": 648,
=======
   "execution_count": 521,
>>>>>>> parent of 675401e... Update Final_Project_Report.ipynb
=======
   "execution_count": 521,
>>>>>>> parent of 675401e... Update Final_Project_Report.ipynb
   "metadata": {},
   "outputs": [
    {
     "data": {
      "text/html": "<div>\n<style scoped>\n    .dataframe tbody tr th:only-of-type {\n        vertical-align: middle;\n    }\n\n    .dataframe tbody tr th {\n        vertical-align: top;\n    }\n\n    .dataframe thead th {\n        text-align: right;\n    }\n</style>\n<table border=\"1\" class=\"dataframe\">\n  <thead>\n    <tr style=\"text-align: right;\">\n      <th></th>\n      <th>full_name</th>\n      <th>sex</th>\n      <th>birth_year</th>\n      <th>country</th>\n      <th>industry</th>\n      <th>domain</th>\n      <th>occupation</th>\n      <th>popularity</th>\n    </tr>\n  </thead>\n  <tbody>\n    <tr>\n      <th>11336</th>\n      <td>Sean St Ledger</td>\n      <td>Male</td>\n      <td>1984</td>\n      <td>United Kingdom</td>\n      <td>Team Sports</td>\n      <td>Sports</td>\n      <td>Soccer Player</td>\n      <td>11.1346</td>\n    </tr>\n    <tr>\n      <th>11337</th>\n      <td>Saina Nehwal</td>\n      <td>Female</td>\n      <td>1990</td>\n      <td>India</td>\n      <td>Individual Sports</td>\n      <td>Sports</td>\n      <td>Athlete</td>\n      <td>10.6122</td>\n    </tr>\n    <tr>\n      <th>11338</th>\n      <td>Rūta Meilutytė</td>\n      <td>Female</td>\n      <td>1997</td>\n      <td>Lithuania</td>\n      <td>Individual Sports</td>\n      <td>Sports</td>\n      <td>Swimmer</td>\n      <td>10.3821</td>\n    </tr>\n    <tr>\n      <th>11339</th>\n      <td>Vladimír Weiss</td>\n      <td>Male</td>\n      <td>1989</td>\n      <td>Slovakia</td>\n      <td>Team Sports</td>\n      <td>Sports</td>\n      <td>Soccer Player</td>\n      <td>10.2495</td>\n    </tr>\n    <tr>\n      <th>11340</th>\n      <td>Missy Franklin</td>\n      <td>Female</td>\n      <td>1995</td>\n      <td>United States</td>\n      <td>Individual Sports</td>\n      <td>Sports</td>\n      <td>Swimmer</td>\n      <td>9.8794</td>\n    </tr>\n  </tbody>\n</table>\n</div>",
      "text/plain": "            full_name     sex  birth_year         country           industry  \\\n11336  Sean St Ledger    Male        1984  United Kingdom        Team Sports   \n11337    Saina Nehwal  Female        1990           India  Individual Sports   \n11338  Rūta Meilutytė  Female        1997       Lithuania  Individual Sports   \n11339  Vladimír Weiss    Male        1989        Slovakia        Team Sports   \n11340  Missy Franklin  Female        1995   United States  Individual Sports   \n\n       domain     occupation  popularity  \n11336  Sports  Soccer Player     11.1346  \n11337  Sports        Athlete     10.6122  \n11338  Sports        Swimmer     10.3821  \n11339  Sports  Soccer Player     10.2495  \n11340  Sports        Swimmer      9.8794  "
     },
<<<<<<< HEAD
<<<<<<< HEAD
     "execution_count": 648,
=======
     "execution_count": 521,
>>>>>>> parent of 675401e... Update Final_Project_Report.ipynb
=======
     "execution_count": 521,
>>>>>>> parent of 675401e... Update Final_Project_Report.ipynb
     "metadata": {},
     "output_type": "execute_result"
    }
   ],
   "source": [
    "# Showing the last 5 rows of the data in the dataset\n",
    "dfCleanData.loc[:,columnToDisplayCleanData].tail(5)"
   ]
  },
  {
   "cell_type": "code",
<<<<<<< HEAD
<<<<<<< HEAD
   "execution_count": 649,
=======
   "execution_count": 522,
>>>>>>> parent of 675401e... Update Final_Project_Report.ipynb
=======
   "execution_count": 522,
>>>>>>> parent of 675401e... Update Final_Project_Report.ipynb
   "metadata": {},
   "outputs": [],
   "source": [
    "#sn.heatmap()"
   ]
  },
  {
   "cell_type": "markdown",
   "metadata": {},
   "source": [
    "## Exploration"
   ]
  },
  {
   "cell_type": "code",
<<<<<<< HEAD
<<<<<<< HEAD
   "execution_count": 650,
=======
   "execution_count": 523,
>>>>>>> parent of 675401e... Update Final_Project_Report.ipynb
=======
   "execution_count": 523,
>>>>>>> parent of 675401e... Update Final_Project_Report.ipynb
   "metadata": {},
   "outputs": [
    {
     "data": {
      "text/html": "<div>\n<style scoped>\n    .dataframe tbody tr th:only-of-type {\n        vertical-align: middle;\n    }\n\n    .dataframe tbody tr th {\n        vertical-align: top;\n    }\n\n    .dataframe thead th {\n        text-align: right;\n    }\n</style>\n<table border=\"1\" class=\"dataframe\">\n  <thead>\n    <tr style=\"text-align: right;\">\n      <th></th>\n      <th></th>\n      <th>total_count</th>\n    </tr>\n    <tr>\n      <th>industry</th>\n      <th>sex</th>\n      <th></th>\n    </tr>\n  </thead>\n  <tbody>\n    <tr>\n      <th rowspan=\"2\" valign=\"top\">Activism</th>\n      <th>Female</th>\n      <td>38</td>\n    </tr>\n    <tr>\n      <th>Male</th>\n      <td>76</td>\n    </tr>\n    <tr>\n      <th rowspan=\"2\" valign=\"top\">Business</th>\n      <th>Female</th>\n      <td>4</td>\n    </tr>\n    <tr>\n      <th>Male</th>\n      <td>87</td>\n    </tr>\n    <tr>\n      <th rowspan=\"2\" valign=\"top\">Companions</th>\n      <th>Female</th>\n      <td>94</td>\n    </tr>\n    <tr>\n      <th>Male</th>\n      <td>7</td>\n    </tr>\n    <tr>\n      <th rowspan=\"2\" valign=\"top\">Computer Science</th>\n      <th>Female</th>\n      <td>1</td>\n    </tr>\n    <tr>\n      <th>Male</th>\n      <td>32</td>\n    </tr>\n    <tr>\n      <th rowspan=\"2\" valign=\"top\">Dance</th>\n      <th>Female</th>\n      <td>7</td>\n    </tr>\n    <tr>\n      <th>Male</th>\n      <td>5</td>\n    </tr>\n  </tbody>\n</table>\n</div>",
      "text/plain": "                         total_count\nindustry         sex                \nActivism         Female           38\n                 Male             76\nBusiness         Female            4\n                 Male             87\nCompanions       Female           94\n                 Male              7\nComputer Science Female            1\n                 Male             32\nDance            Female            7\n                 Male              5"
     },
<<<<<<< HEAD
<<<<<<< HEAD
     "execution_count": 650,
=======
     "execution_count": 523,
>>>>>>> parent of 675401e... Update Final_Project_Report.ipynb
=======
     "execution_count": 523,
>>>>>>> parent of 675401e... Update Final_Project_Report.ipynb
     "metadata": {},
     "output_type": "execute_result"
    }
   ],
   "source": [
    "# Grouping total by continent and sex\n",
    "dfTotalByContinentBySex = pd.DataFrame(dfCleanData.groupby(['industry','sex'])['article_id'].count())\n",
    "dfTotalByContinentBySex .rename(columns={'article_id': 'total_count'}, inplace=True)\n",
    "dfTotalByContinentBySex.sort_values(by = ['industry'], ascending = True).head(10)"
   ]
  },
  {
   "cell_type": "code",
<<<<<<< HEAD
<<<<<<< HEAD
   "execution_count": 651,
=======
   "execution_count": 534,
>>>>>>> parent of 675401e... Update Final_Project_Report.ipynb
=======
   "execution_count": 534,
>>>>>>> parent of 675401e... Update Final_Project_Report.ipynb
   "metadata": {},
   "outputs": [
    {
     "data": {
      "text/html": "<div>\n<style scoped>\n    .dataframe tbody tr th:only-of-type {\n        vertical-align: middle;\n    }\n\n    .dataframe tbody tr th {\n        vertical-align: top;\n    }\n\n    .dataframe thead th {\n        text-align: right;\n    }\n</style>\n<table border=\"1\" class=\"dataframe\">\n  <thead>\n    <tr style=\"text-align: right;\">\n      <th></th>\n      <th>full_name</th>\n      <th>sex</th>\n      <th>birth_year</th>\n      <th>country</th>\n      <th>industry</th>\n      <th>domain</th>\n      <th>occupation</th>\n      <th>popularity</th>\n    </tr>\n  </thead>\n  <tbody>\n    <tr>\n      <th>9957</th>\n      <td>Catherine, Duchess of Cambridge</td>\n      <td>Female</td>\n      <td>1982</td>\n      <td>United Kingdom</td>\n      <td>Companions</td>\n      <td>Public Figure</td>\n      <td>Companion</td>\n      <td>17.6612</td>\n    </tr>\n    <tr>\n      <th>10161</th>\n      <td>Kevin Federline</td>\n      <td>Male</td>\n      <td>1978</td>\n      <td>United States</td>\n      <td>Companions</td>\n      <td>Public Figure</td>\n      <td>Companion</td>\n      <td>17.1996</td>\n    </tr>\n    <tr>\n      <th>9647</th>\n      <td>Mary, Crown Princess of Denmark</td>\n      <td>Female</td>\n      <td>1972</td>\n      <td>Australia</td>\n      <td>Companions</td>\n      <td>Public Figure</td>\n      <td>Companion</td>\n      <td>18.2924</td>\n    </tr>\n    <tr>\n      <th>8265</th>\n      <td>Vanessa Paradis</td>\n      <td>Female</td>\n      <td>1972</td>\n      <td>France</td>\n      <td>Companions</td>\n      <td>Public Figure</td>\n      <td>Companion</td>\n      <td>20.7830</td>\n    </tr>\n    <tr>\n      <th>9771</th>\n      <td>Princess Máxima of the Netherlands</td>\n      <td>Female</td>\n      <td>1971</td>\n      <td>Argentina</td>\n      <td>Companions</td>\n      <td>Public Figure</td>\n      <td>Companion</td>\n      <td>18.0350</td>\n    </tr>\n    <tr>\n      <th>9092</th>\n      <td>Queen Rania of Jordan</td>\n      <td>Female</td>\n      <td>1970</td>\n      <td>Kuwait</td>\n      <td>Companions</td>\n      <td>Public Figure</td>\n      <td>Companion</td>\n      <td>19.3986</td>\n    </tr>\n    <tr>\n      <th>9735</th>\n      <td>Sophie, The Countess of Wessex</td>\n      <td>Female</td>\n      <td>1965</td>\n      <td>United Kingdom</td>\n      <td>Companions</td>\n      <td>Public Figure</td>\n      <td>Companion</td>\n      <td>18.1110</td>\n    </tr>\n    <tr>\n      <th>8368</th>\n      <td>Michelle Obama</td>\n      <td>Female</td>\n      <td>1964</td>\n      <td>United States</td>\n      <td>Companions</td>\n      <td>Public Figure</td>\n      <td>Companion</td>\n      <td>20.6330</td>\n    </tr>\n    <tr>\n      <th>6635</th>\n      <td>Laura Bush</td>\n      <td>Female</td>\n      <td>1946</td>\n      <td>United States</td>\n      <td>Companions</td>\n      <td>Public Figure</td>\n      <td>Companion</td>\n      <td>22.4461</td>\n    </tr>\n    <tr>\n      <th>5361</th>\n      <td>Priscilla Presley</td>\n      <td>Female</td>\n      <td>1945</td>\n      <td>United States</td>\n      <td>Companions</td>\n      <td>Public Figure</td>\n      <td>Companion</td>\n      <td>23.1960</td>\n    </tr>\n  </tbody>\n</table>\n</div>",
      "text/plain": "                                full_name     sex  birth_year         country  \\\n9957      Catherine, Duchess of Cambridge  Female        1982  United Kingdom   \n10161                     Kevin Federline    Male        1978   United States   \n9647      Mary, Crown Princess of Denmark  Female        1972       Australia   \n8265                      Vanessa Paradis  Female        1972          France   \n9771   Princess Máxima of the Netherlands  Female        1971       Argentina   \n9092                Queen Rania of Jordan  Female        1970          Kuwait   \n9735       Sophie, The Countess of Wessex  Female        1965  United Kingdom   \n8368                       Michelle Obama  Female        1964   United States   \n6635                           Laura Bush  Female        1946   United States   \n5361                    Priscilla Presley  Female        1945   United States   \n\n         industry         domain occupation  popularity  \n9957   Companions  Public Figure  Companion     17.6612  \n10161  Companions  Public Figure  Companion     17.1996  \n9647   Companions  Public Figure  Companion     18.2924  \n8265   Companions  Public Figure  Companion     20.7830  \n9771   Companions  Public Figure  Companion     18.0350  \n9092   Companions  Public Figure  Companion     19.3986  \n9735   Companions  Public Figure  Companion     18.1110  \n8368   Companions  Public Figure  Companion     20.6330  \n6635   Companions  Public Figure  Companion     22.4461  \n5361   Companions  Public Figure  Companion     23.1960  "
     },
<<<<<<< HEAD
<<<<<<< HEAD
     "execution_count": 651,
=======
     "execution_count": 534,
>>>>>>> parent of 675401e... Update Final_Project_Report.ipynb
=======
     "execution_count": 534,
>>>>>>> parent of 675401e... Update Final_Project_Report.ipynb
     "metadata": {},
     "output_type": "execute_result"
    }
   ],
   "source": [
    "# Showing details dataset based on industry selected\n",
    "industry = 'Companions'\n",
    "dfCleanData[dfCleanData['industry'] == industry].loc[:,columnToDisplayCleanData].sort_values(by = ['birth_year'], ascending = False).head(10)"
   ]
  },
  {
   "cell_type": "code",
<<<<<<< HEAD
<<<<<<< HEAD
   "execution_count": 652,
=======
   "execution_count": 525,
>>>>>>> parent of 675401e... Update Final_Project_Report.ipynb
=======
   "execution_count": 525,
>>>>>>> parent of 675401e... Update Final_Project_Report.ipynb
   "metadata": {},
   "outputs": [
    {
     "data": {
      "text/html": "<div>\n<style scoped>\n    .dataframe tbody tr th:only-of-type {\n        vertical-align: middle;\n    }\n\n    .dataframe tbody tr th {\n        vertical-align: top;\n    }\n\n    .dataframe thead th {\n        text-align: right;\n    }\n</style>\n<table border=\"1\" class=\"dataframe\">\n  <thead>\n    <tr style=\"text-align: right;\">\n      <th></th>\n      <th></th>\n      <th>total_count</th>\n    </tr>\n    <tr>\n      <th>industry</th>\n      <th>occupation</th>\n      <th></th>\n    </tr>\n  </thead>\n  <tbody>\n    <tr>\n      <th>Government</th>\n      <th>Politician</th>\n      <td>2530</td>\n    </tr>\n    <tr>\n      <th>Film And Theatre</th>\n      <th>Actor</th>\n      <td>1193</td>\n    </tr>\n    <tr>\n      <th>Team Sports</th>\n      <th>Soccer Player</th>\n      <td>1064</td>\n    </tr>\n    <tr>\n      <th>Language</th>\n      <th>Writer</th>\n      <td>954</td>\n    </tr>\n    <tr>\n      <th>Religion</th>\n      <th>Religious Figure</th>\n      <td>518</td>\n    </tr>\n    <tr>\n      <th rowspan=\"2\" valign=\"top\">Music</th>\n      <th>Singer</th>\n      <td>437</td>\n    </tr>\n    <tr>\n      <th>Musician</th>\n      <td>381</td>\n    </tr>\n    <tr>\n      <th>Philosophy</th>\n      <th>Philosopher</th>\n      <td>281</td>\n    </tr>\n    <tr>\n      <th>Natural Sciences</th>\n      <th>Physicist</th>\n      <td>268</td>\n    </tr>\n    <tr>\n      <th>Music</th>\n      <th>Composer</th>\n      <td>225</td>\n    </tr>\n    <tr>\n      <th>Military</th>\n      <th>Military Personnel</th>\n      <td>224</td>\n    </tr>\n    <tr>\n      <th>Natural Sciences</th>\n      <th>Chemist</th>\n      <td>220</td>\n    </tr>\n    <tr>\n      <th>Fine Arts</th>\n      <th>Painter</th>\n      <td>178</td>\n    </tr>\n    <tr>\n      <th>Film And Theatre</th>\n      <th>Film Director</th>\n      <td>177</td>\n    </tr>\n    <tr>\n      <th>Individual Sports</th>\n      <th>Tennis Player</th>\n      <td>161</td>\n    </tr>\n    <tr>\n      <th>Math</th>\n      <th>Mathematician</th>\n      <td>157</td>\n    </tr>\n    <tr>\n      <th>Medicine</th>\n      <th>Physician</th>\n      <td>142</td>\n    </tr>\n    <tr>\n      <th>Natural Sciences</th>\n      <th>Biologist</th>\n      <td>141</td>\n    </tr>\n    <tr>\n      <th>Government</th>\n      <th>Nobleman</th>\n      <td>116</td>\n    </tr>\n    <tr>\n      <th>Activism</th>\n      <th>Social Activist</th>\n      <td>114</td>\n    </tr>\n  </tbody>\n</table>\n</div>",
      "text/plain": "                                      total_count\nindustry          occupation                     \nGovernment        Politician                 2530\nFilm And Theatre  Actor                      1193\nTeam Sports       Soccer Player              1064\nLanguage          Writer                      954\nReligion          Religious Figure            518\nMusic             Singer                      437\n                  Musician                    381\nPhilosophy        Philosopher                 281\nNatural Sciences  Physicist                   268\nMusic             Composer                    225\nMilitary          Military Personnel          224\nNatural Sciences  Chemist                     220\nFine Arts         Painter                     178\nFilm And Theatre  Film Director               177\nIndividual Sports Tennis Player               161\nMath              Mathematician               157\nMedicine          Physician                   142\nNatural Sciences  Biologist                   141\nGovernment        Nobleman                    116\nActivism          Social Activist             114"
     },
<<<<<<< HEAD
<<<<<<< HEAD
     "execution_count": 652,
=======
     "execution_count": 525,
>>>>>>> parent of 675401e... Update Final_Project_Report.ipynb
=======
     "execution_count": 525,
>>>>>>> parent of 675401e... Update Final_Project_Report.ipynb
     "metadata": {},
     "output_type": "execute_result"
    }
   ],
   "source": [
    "# Getting the count by country, occupation, industry, and domain\n",
    "dfTotalByCountryByIndustry = pd.DataFrame(dfCleanData.groupby(['industry','occupation'])['article_id'].count())\n",
    "# Renaming the default column name the dataframe created to a meaningfull name\n",
    "dfTotalByCountryByIndustry.rename(columns={'article_id': 'total_count'}, inplace=True)\n",
    "dfTotalByCountryByIndustry.sort_values(by = ['total_count'], ascending = False).head(20)"
   ]
  },
  {
   "cell_type": "code",
   "execution_count": null,
   "metadata": {},
   "outputs": [],
   "source": []
  },
  {
   "cell_type": "code",
<<<<<<< HEAD
<<<<<<< HEAD
   "execution_count": 653,
=======
   "execution_count": 526,
>>>>>>> parent of 675401e... Update Final_Project_Report.ipynb
=======
   "execution_count": 526,
>>>>>>> parent of 675401e... Update Final_Project_Report.ipynb
   "metadata": {},
   "outputs": [
    {
     "data": {
      "text/html": "<div>\n<style scoped>\n    .dataframe tbody tr th:only-of-type {\n        vertical-align: middle;\n    }\n\n    .dataframe tbody tr th {\n        vertical-align: top;\n    }\n\n    .dataframe thead th {\n        text-align: right;\n    }\n</style>\n<table border=\"1\" class=\"dataframe\">\n  <thead>\n    <tr style=\"text-align: right;\">\n      <th></th>\n      <th>full_name</th>\n      <th>sex</th>\n      <th>birth_year</th>\n      <th>country</th>\n      <th>industry</th>\n      <th>domain</th>\n      <th>occupation</th>\n      <th>popularity</th>\n    </tr>\n  </thead>\n  <tbody>\n    <tr>\n      <th>0</th>\n      <td>Aristotle</td>\n      <td>Male</td>\n      <td>-384</td>\n      <td>Greece</td>\n      <td>Philosophy</td>\n      <td>Humanities</td>\n      <td>Philosopher</td>\n      <td>31.9938</td>\n    </tr>\n    <tr>\n      <th>1</th>\n      <td>Plato</td>\n      <td>Male</td>\n      <td>-427</td>\n      <td>Greece</td>\n      <td>Philosophy</td>\n      <td>Humanities</td>\n      <td>Philosopher</td>\n      <td>31.9888</td>\n    </tr>\n    <tr>\n      <th>2</th>\n      <td>Jesus Christ</td>\n      <td>Male</td>\n      <td>-4</td>\n      <td>Israel</td>\n      <td>Religion</td>\n      <td>Institutions</td>\n      <td>Religious Figure</td>\n      <td>31.8981</td>\n    </tr>\n    <tr>\n      <th>3</th>\n      <td>Socrates</td>\n      <td>Male</td>\n      <td>-469</td>\n      <td>Greece</td>\n      <td>Philosophy</td>\n      <td>Humanities</td>\n      <td>Philosopher</td>\n      <td>31.6521</td>\n    </tr>\n    <tr>\n      <th>4</th>\n      <td>Alexander the Great</td>\n      <td>Male</td>\n      <td>-356</td>\n      <td>Greece</td>\n      <td>Military</td>\n      <td>Institutions</td>\n      <td>Military Personnel</td>\n      <td>31.5840</td>\n    </tr>\n    <tr>\n      <th>5</th>\n      <td>Leonardo da Vinci</td>\n      <td>Male</td>\n      <td>1452</td>\n      <td>Italy</td>\n      <td>Invention</td>\n      <td>Science &amp; Technology</td>\n      <td>Inventor</td>\n      <td>31.4644</td>\n    </tr>\n    <tr>\n      <th>6</th>\n      <td>Confucius</td>\n      <td>Male</td>\n      <td>-551</td>\n      <td>China</td>\n      <td>Philosophy</td>\n      <td>Humanities</td>\n      <td>Philosopher</td>\n      <td>31.3705</td>\n    </tr>\n    <tr>\n      <th>7</th>\n      <td>Julius Caesar</td>\n      <td>Male</td>\n      <td>-100</td>\n      <td>Italy</td>\n      <td>Government</td>\n      <td>Institutions</td>\n      <td>Politician</td>\n      <td>31.1161</td>\n    </tr>\n    <tr>\n      <th>8</th>\n      <td>Homer</td>\n      <td>Male</td>\n      <td>-800</td>\n      <td>Turkey</td>\n      <td>Language</td>\n      <td>Humanities</td>\n      <td>Writer</td>\n      <td>31.1087</td>\n    </tr>\n    <tr>\n      <th>9</th>\n      <td>Pythagoras</td>\n      <td>Male</td>\n      <td>-570</td>\n      <td>Greece</td>\n      <td>Philosophy</td>\n      <td>Humanities</td>\n      <td>Philosopher</td>\n      <td>31.0691</td>\n    </tr>\n  </tbody>\n</table>\n</div>",
      "text/plain": "             full_name   sex  birth_year country    industry  \\\n0            Aristotle  Male        -384  Greece  Philosophy   \n1                Plato  Male        -427  Greece  Philosophy   \n2         Jesus Christ  Male          -4  Israel    Religion   \n3             Socrates  Male        -469  Greece  Philosophy   \n4  Alexander the Great  Male        -356  Greece    Military   \n5    Leonardo da Vinci  Male        1452   Italy   Invention   \n6            Confucius  Male        -551   China  Philosophy   \n7        Julius Caesar  Male        -100   Italy  Government   \n8                Homer  Male        -800  Turkey    Language   \n9           Pythagoras  Male        -570  Greece  Philosophy   \n\n                 domain          occupation  popularity  \n0            Humanities         Philosopher     31.9938  \n1            Humanities         Philosopher     31.9888  \n2          Institutions    Religious Figure     31.8981  \n3            Humanities         Philosopher     31.6521  \n4          Institutions  Military Personnel     31.5840  \n5  Science & Technology            Inventor     31.4644  \n6            Humanities         Philosopher     31.3705  \n7          Institutions          Politician     31.1161  \n8            Humanities              Writer     31.1087  \n9            Humanities         Philosopher     31.0691  "
     },
<<<<<<< HEAD
<<<<<<< HEAD
     "execution_count": 653,
=======
     "execution_count": 526,
>>>>>>> parent of 675401e... Update Final_Project_Report.ipynb
=======
     "execution_count": 526,
>>>>>>> parent of 675401e... Update Final_Project_Report.ipynb
     "metadata": {},
     "output_type": "execute_result"
    }
   ],
   "source": [
    "# Which historic characters are in the top ten most popular?\n",
    "dfTopTenMostPopularPeople = dfCleanData.sort_values(by = ['popularity'], ascending = False)\n",
    "dfTopTenMostPopularPeople = dfTopTenMostPopularPeople.head(10)\n",
    "dfTopTenMostPopularPeople.loc[:,columnToDisplayCleanData]"
   ]
  },
  {
   "cell_type": "markdown",
   "execution_count": null,
   "metadata": {},
   "outputs": [],
   "source": [
    "### Explaning the code\n",
    "* jfdslajfasljfsd\n",
    "### Which historic characters are the most popular?\n",
    "* Aristotle, Plato, and Jesus Christ"
   ]
  },
  {
   "cell_type": "code",
<<<<<<< HEAD
<<<<<<< HEAD
   "execution_count": 654,
=======
   "execution_count": 527,
>>>>>>> parent of 675401e... Update Final_Project_Report.ipynb
=======
   "execution_count": 527,
>>>>>>> parent of 675401e... Update Final_Project_Report.ipynb
   "metadata": {},
   "outputs": [
    {
     "data": {
      "text/html": "<div>\n<style scoped>\n    .dataframe tbody tr th:only-of-type {\n        vertical-align: middle;\n    }\n\n    .dataframe tbody tr th {\n        vertical-align: top;\n    }\n\n    .dataframe thead th {\n        text-align: right;\n    }\n</style>\n<table border=\"1\" class=\"dataframe\">\n  <thead>\n    <tr style=\"text-align: right;\">\n      <th></th>\n      <th>total_count</th>\n    </tr>\n    <tr>\n      <th>country</th>\n      <th></th>\n    </tr>\n  </thead>\n  <tbody>\n    <tr>\n      <th>China</th>\n      <td>1</td>\n    </tr>\n    <tr>\n      <th>Greece</th>\n      <td>5</td>\n    </tr>\n    <tr>\n      <th>Israel</th>\n      <td>1</td>\n    </tr>\n    <tr>\n      <th>Italy</th>\n      <td>2</td>\n    </tr>\n    <tr>\n      <th>Turkey</th>\n      <td>1</td>\n    </tr>\n  </tbody>\n</table>\n</div>",
      "text/plain": "         total_count\ncountry             \nChina              1\nGreece             5\nIsrael             1\nItaly              2\nTurkey             1"
     },
<<<<<<< HEAD
<<<<<<< HEAD
     "execution_count": 654,
=======
     "execution_count": 527,
>>>>>>> parent of 675401e... Update Final_Project_Report.ipynb
=======
     "execution_count": 527,
>>>>>>> parent of 675401e... Update Final_Project_Report.ipynb
     "metadata": {},
     "output_type": "execute_result"
    }
   ],
   "source": [
    "dfTotalTop10ByCountry = pd.DataFrame(dfTopTenMostPopularPeople.groupby(['country'])['article_id'].count())\n",
    "dfTotalTop10ByCountry.rename(columns={'':'country','article_id': 'total_count'}, inplace=True)\n",
    "dfTotalTop10ByCountry "
   ]
  },
  {
   "cell_type": "code",
<<<<<<< HEAD
<<<<<<< HEAD
   "execution_count": 655,
=======
   "execution_count": 528,
>>>>>>> parent of 675401e... Update Final_Project_Report.ipynb
=======
   "execution_count": 528,
>>>>>>> parent of 675401e... Update Final_Project_Report.ipynb
   "metadata": {},
   "outputs": [],
   "source": [
    "# Change to bar... use the dfCleanData\n",
    "#plt.bar(dfTotalTop10ByCountry)"
   ]
  },
  {
   "cell_type": "code",
<<<<<<< HEAD
<<<<<<< HEAD
   "execution_count": 656,
=======
   "execution_count": 529,
>>>>>>> parent of 675401e... Update Final_Project_Report.ipynb
=======
   "execution_count": 529,
>>>>>>> parent of 675401e... Update Final_Project_Report.ipynb
   "metadata": {},
   "outputs": [
    {
     "data": {
      "text/html": "<div>\n<style scoped>\n    .dataframe tbody tr th:only-of-type {\n        vertical-align: middle;\n    }\n\n    .dataframe tbody tr th {\n        vertical-align: top;\n    }\n\n    .dataframe thead th {\n        text-align: right;\n    }\n</style>\n<table border=\"1\" class=\"dataframe\">\n  <thead>\n    <tr style=\"text-align: right;\">\n      <th></th>\n      <th>full_name</th>\n      <th>sex</th>\n      <th>birth_year</th>\n      <th>country</th>\n      <th>industry</th>\n      <th>domain</th>\n      <th>occupation</th>\n      <th>popularity</th>\n    </tr>\n  </thead>\n  <tbody>\n    <tr>\n      <th>11340</th>\n      <td>Missy Franklin</td>\n      <td>Female</td>\n      <td>1995</td>\n      <td>United States</td>\n      <td>Individual Sports</td>\n      <td>Sports</td>\n      <td>Swimmer</td>\n      <td>9.8794</td>\n    </tr>\n    <tr>\n      <th>11339</th>\n      <td>Vladimír Weiss</td>\n      <td>Male</td>\n      <td>1989</td>\n      <td>Slovakia</td>\n      <td>Team Sports</td>\n      <td>Sports</td>\n      <td>Soccer Player</td>\n      <td>10.2495</td>\n    </tr>\n    <tr>\n      <th>11338</th>\n      <td>Rūta Meilutytė</td>\n      <td>Female</td>\n      <td>1997</td>\n      <td>Lithuania</td>\n      <td>Individual Sports</td>\n      <td>Sports</td>\n      <td>Swimmer</td>\n      <td>10.3821</td>\n    </tr>\n    <tr>\n      <th>11337</th>\n      <td>Saina Nehwal</td>\n      <td>Female</td>\n      <td>1990</td>\n      <td>India</td>\n      <td>Individual Sports</td>\n      <td>Sports</td>\n      <td>Athlete</td>\n      <td>10.6122</td>\n    </tr>\n    <tr>\n      <th>11336</th>\n      <td>Sean St Ledger</td>\n      <td>Male</td>\n      <td>1984</td>\n      <td>United Kingdom</td>\n      <td>Team Sports</td>\n      <td>Sports</td>\n      <td>Soccer Player</td>\n      <td>11.1346</td>\n    </tr>\n    <tr>\n      <th>11335</th>\n      <td>Jetro Willems</td>\n      <td>Male</td>\n      <td>1994</td>\n      <td>Netherlands</td>\n      <td>Team Sports</td>\n      <td>Sports</td>\n      <td>Soccer Player</td>\n      <td>11.3956</td>\n    </tr>\n    <tr>\n      <th>11334</th>\n      <td>Rebecca Soni</td>\n      <td>Female</td>\n      <td>1987</td>\n      <td>United States</td>\n      <td>Individual Sports</td>\n      <td>Sports</td>\n      <td>Swimmer</td>\n      <td>11.4050</td>\n    </tr>\n    <tr>\n      <th>11333</th>\n      <td>Sun Yang</td>\n      <td>Male</td>\n      <td>1991</td>\n      <td>China</td>\n      <td>Individual Sports</td>\n      <td>Sports</td>\n      <td>Swimmer</td>\n      <td>11.6234</td>\n    </tr>\n    <tr>\n      <th>11332</th>\n      <td>Shane Long</td>\n      <td>Male</td>\n      <td>1987</td>\n      <td>Ireland</td>\n      <td>Team Sports</td>\n      <td>Sports</td>\n      <td>Soccer Player</td>\n      <td>11.7174</td>\n    </tr>\n    <tr>\n      <th>11331</th>\n      <td>Marc Albrighton</td>\n      <td>Male</td>\n      <td>1989</td>\n      <td>United Kingdom</td>\n      <td>Team Sports</td>\n      <td>Sports</td>\n      <td>Soccer Player</td>\n      <td>11.7258</td>\n    </tr>\n  </tbody>\n</table>\n</div>",
      "text/plain": "             full_name     sex  birth_year         country           industry  \\\n11340   Missy Franklin  Female        1995   United States  Individual Sports   \n11339   Vladimír Weiss    Male        1989        Slovakia        Team Sports   \n11338   Rūta Meilutytė  Female        1997       Lithuania  Individual Sports   \n11337     Saina Nehwal  Female        1990           India  Individual Sports   \n11336   Sean St Ledger    Male        1984  United Kingdom        Team Sports   \n11335    Jetro Willems    Male        1994     Netherlands        Team Sports   \n11334     Rebecca Soni  Female        1987   United States  Individual Sports   \n11333         Sun Yang    Male        1991           China  Individual Sports   \n11332       Shane Long    Male        1987         Ireland        Team Sports   \n11331  Marc Albrighton    Male        1989  United Kingdom        Team Sports   \n\n       domain     occupation  popularity  \n11340  Sports        Swimmer      9.8794  \n11339  Sports  Soccer Player     10.2495  \n11338  Sports        Swimmer     10.3821  \n11337  Sports        Athlete     10.6122  \n11336  Sports  Soccer Player     11.1346  \n11335  Sports  Soccer Player     11.3956  \n11334  Sports        Swimmer     11.4050  \n11333  Sports        Swimmer     11.6234  \n11332  Sports  Soccer Player     11.7174  \n11331  Sports  Soccer Player     11.7258  "
     },
<<<<<<< HEAD
<<<<<<< HEAD
     "execution_count": 656,
=======
     "execution_count": 529,
>>>>>>> parent of 675401e... Update Final_Project_Report.ipynb
=======
     "execution_count": 529,
>>>>>>> parent of 675401e... Update Final_Project_Report.ipynb
     "metadata": {},
     "output_type": "execute_result"
    }
   ],
   "source": [
    "# Which historic characters are in the top ten least popular?\n",
    "dfTopTenLeastPopularPeople = dfCleanData.sort_values(by = ['popularity'], ascending = True)\n",
    "dfTopTenLeastPopularPeople = dfTopTenLeastPopularPeople.head(10)\n",
    "dfTopTenLeastPopularPeople.loc[:,columnToDisplayCleanData].head(10)"
   ]
  },
  {
   "cell_type": "code",
<<<<<<< HEAD
<<<<<<< HEAD
   "execution_count": 657,
=======
   "execution_count": 530,
>>>>>>> parent of 675401e... Update Final_Project_Report.ipynb
=======
   "execution_count": 530,
>>>>>>> parent of 675401e... Update Final_Project_Report.ipynb
   "metadata": {},
   "outputs": [
    {
     "data": {
      "text/html": "<div>\n<style scoped>\n    .dataframe tbody tr th:only-of-type {\n        vertical-align: middle;\n    }\n\n    .dataframe tbody tr th {\n        vertical-align: top;\n    }\n\n    .dataframe thead th {\n        text-align: right;\n    }\n</style>\n<table border=\"1\" class=\"dataframe\">\n  <thead>\n    <tr style=\"text-align: right;\">\n      <th></th>\n      <th></th>\n      <th>total_count</th>\n    </tr>\n    <tr>\n      <th>country</th>\n      <th>sex</th>\n      <th></th>\n    </tr>\n  </thead>\n  <tbody>\n    <tr>\n      <th>China</th>\n      <th>Male</th>\n      <td>1</td>\n    </tr>\n    <tr>\n      <th>India</th>\n      <th>Female</th>\n      <td>1</td>\n    </tr>\n    <tr>\n      <th>Ireland</th>\n      <th>Male</th>\n      <td>1</td>\n    </tr>\n    <tr>\n      <th>Lithuania</th>\n      <th>Female</th>\n      <td>1</td>\n    </tr>\n    <tr>\n      <th>Netherlands</th>\n      <th>Male</th>\n      <td>1</td>\n    </tr>\n    <tr>\n      <th>Slovakia</th>\n      <th>Male</th>\n      <td>1</td>\n    </tr>\n    <tr>\n      <th>United Kingdom</th>\n      <th>Male</th>\n      <td>2</td>\n    </tr>\n    <tr>\n      <th>United States</th>\n      <th>Female</th>\n      <td>2</td>\n    </tr>\n  </tbody>\n</table>\n</div>",
      "text/plain": "                       total_count\ncountry        sex                \nChina          Male              1\nIndia          Female            1\nIreland        Male              1\nLithuania      Female            1\nNetherlands    Male              1\nSlovakia       Male              1\nUnited Kingdom Male              2\nUnited States  Female            2"
     },
<<<<<<< HEAD
<<<<<<< HEAD
     "execution_count": 657,
=======
     "execution_count": 530,
>>>>>>> parent of 675401e... Update Final_Project_Report.ipynb
=======
     "execution_count": 530,
>>>>>>> parent of 675401e... Update Final_Project_Report.ipynb
     "metadata": {},
     "output_type": "execute_result"
    }
   ],
   "source": [
    "dfTotalTop10LByContinentByCountry = pd.DataFrame(dfTopTenLeastPopularPeople.groupby([ 'country','sex'])['article_id'].count())\n",
    "dfTotalTop10LByContinentByCountry.rename(columns={'article_id': 'total_count'}, inplace=True)\n",
    "dfTotalTop10LByContinentByCountry"
   ]
  },
  {
   "cell_type": "code",
<<<<<<< HEAD
<<<<<<< HEAD
   "execution_count": 658,
=======
   "execution_count": 531,
>>>>>>> parent of 675401e... Update Final_Project_Report.ipynb
=======
   "execution_count": 531,
>>>>>>> parent of 675401e... Update Final_Project_Report.ipynb
   "metadata": {},
   "outputs": [
    {
     "data": {
      "text/html": "<div>\n<style scoped>\n    .dataframe tbody tr th:only-of-type {\n        vertical-align: middle;\n    }\n\n    .dataframe tbody tr th {\n        vertical-align: top;\n    }\n\n    .dataframe thead th {\n        text-align: right;\n    }\n</style>\n<table border=\"1\" class=\"dataframe\">\n  <thead>\n    <tr style=\"text-align: right;\">\n      <th></th>\n      <th></th>\n      <th>total_count</th>\n    </tr>\n    <tr>\n      <th>continent</th>\n      <th>country</th>\n      <th></th>\n    </tr>\n  </thead>\n  <tbody>\n    <tr>\n      <th>North America</th>\n      <th>United States</th>\n      <td>2168</td>\n    </tr>\n    <tr>\n      <th rowspan=\"4\" valign=\"top\">Europe</th>\n      <th>United Kingdom</th>\n      <td>1145</td>\n    </tr>\n    <tr>\n      <th>France</th>\n      <td>866</td>\n    </tr>\n    <tr>\n      <th>Italy</th>\n      <td>808</td>\n    </tr>\n    <tr>\n      <th>Germany</th>\n      <td>747</td>\n    </tr>\n    <tr>\n      <th>Unknown</th>\n      <th>Unknown</th>\n      <td>438</td>\n    </tr>\n    <tr>\n      <th rowspan=\"2\" valign=\"top\">Europe</th>\n      <th>Russia</th>\n      <td>374</td>\n    </tr>\n    <tr>\n      <th>Spain</th>\n      <td>296</td>\n    </tr>\n    <tr>\n      <th>Asia</th>\n      <th>Turkey</th>\n      <td>202</td>\n    </tr>\n    <tr>\n      <th>Europe</th>\n      <th>Poland</th>\n      <td>173</td>\n    </tr>\n  </tbody>\n</table>\n</div>",
      "text/plain": "                              total_count\ncontinent     country                    \nNorth America United States          2168\nEurope        United Kingdom         1145\n              France                  866\n              Italy                   808\n              Germany                 747\nUnknown       Unknown                 438\nEurope        Russia                  374\n              Spain                   296\nAsia          Turkey                  202\nEurope        Poland                  173"
     },
<<<<<<< HEAD
<<<<<<< HEAD
     "execution_count": 658,
=======
     "execution_count": 531,
>>>>>>> parent of 675401e... Update Final_Project_Report.ipynb
=======
     "execution_count": 531,
>>>>>>> parent of 675401e... Update Final_Project_Report.ipynb
     "metadata": {},
     "output_type": "execute_result"
    }
   ],
   "source": [
    "# Getting the count by countinent and by country\n",
    "dfTotalByContinentByCountry = pd.DataFrame(dfCleanData.groupby(['continent', 'country'])['article_id'].count())\n",
    "# Renaming the default column name the dataframe created to a meaningfull name\n",
    "dfTotalByContinentByCountry.rename(columns={'article_id': 'total_count'}, inplace=True)\n",
    "dfTotalByContinentByCountry.sort_values(by = ['total_count'], ascending = False).head(10)"
   ]
  },
  {
   "cell_type": "code",
<<<<<<< HEAD
<<<<<<< HEAD
   "execution_count": 659,
=======
   "execution_count": 532,
>>>>>>> parent of 675401e... Update Final_Project_Report.ipynb
=======
   "execution_count": 532,
>>>>>>> parent of 675401e... Update Final_Project_Report.ipynb
   "metadata": {},
   "outputs": [
    {
     "data": {
      "text/html": "<div>\n<style scoped>\n    .dataframe tbody tr th:only-of-type {\n        vertical-align: middle;\n    }\n\n    .dataframe tbody tr th {\n        vertical-align: top;\n    }\n\n    .dataframe thead th {\n        text-align: right;\n    }\n</style>\n<table border=\"1\" class=\"dataframe\">\n  <thead>\n    <tr style=\"text-align: right;\">\n      <th></th>\n      <th>total_count</th>\n    </tr>\n    <tr>\n      <th>continent</th>\n      <th></th>\n    </tr>\n  </thead>\n  <tbody>\n    <tr>\n      <th>Europe</th>\n      <td>6368</td>\n    </tr>\n    <tr>\n      <th>North America</th>\n      <td>2439</td>\n    </tr>\n    <tr>\n      <th>Asia</th>\n      <td>1188</td>\n    </tr>\n    <tr>\n      <th>Unknown</th>\n      <td>438</td>\n    </tr>\n    <tr>\n      <th>Africa</th>\n      <td>419</td>\n    </tr>\n    <tr>\n      <th>South America</th>\n      <td>366</td>\n    </tr>\n    <tr>\n      <th>Oceania</th>\n      <td>123</td>\n    </tr>\n  </tbody>\n</table>\n</div>",
      "text/plain": "               total_count\ncontinent                 \nEurope                6368\nNorth America         2439\nAsia                  1188\nUnknown                438\nAfrica                 419\nSouth America          366\nOceania                123"
     },
<<<<<<< HEAD
<<<<<<< HEAD
     "execution_count": 659,
=======
     "execution_count": 532,
>>>>>>> parent of 675401e... Update Final_Project_Report.ipynb
=======
     "execution_count": 532,
>>>>>>> parent of 675401e... Update Final_Project_Report.ipynb
     "metadata": {},
     "output_type": "execute_result"
    }
   ],
   "source": [
    "# Getting the count by countinent\n",
    "dfTotalByContinent = pd.DataFrame(dfCleanData.groupby(['continent'])['article_id'].count())\n",
    "# Renaming the default column name the dataframe created to a meaningfull name\n",
    "dfTotalByContinent.rename(columns={'article_id': 'total_count'}, inplace=True)\n",
    "dfTotalByContinent.sort_values(by = ['total_count'], ascending = False)"
   ]
  },
  {
   "cell_type": "markdown",
   "metadata": {},
   "source": [
    "## Modeling"
   ]
  },
  {
   "cell_type": "markdown",
   "metadata": {},
   "source": [
    "# Results"
   ]
  },
  {
   "cell_type": "markdown",
   "metadata": {},
   "source": [
    "# Conclusion"
   ]
  },
  {
   "cell_type": "code",
   "execution_count": null,
   "metadata": {},
   "outputs": [],
   "source": []
  }
 ],
 "metadata": {
  "file_extension": ".py",
  "kernelspec": {
   "display_name": "Python 3",
   "language": "python",
   "name": "python3"
  },
  "language_info": {
   "codemirror_mode": {
    "name": "ipython",
    "version": 3
   },
   "file_extension": ".py",
   "mimetype": "text/x-python",
   "name": "python",
   "nbconvert_exporter": "python",
   "pygments_lexer": "ipython3",
   "version": "3.7.3"
  },
  "mimetype": "text/x-python",
  "name": "python",
  "npconvert_exporter": "python",
  "pygments_lexer": "ipython3",
  "version": 3
 },
 "nbformat": 4,
 "nbformat_minor": 2
}
=======






<!DOCTYPE html>
<html lang="en">
  <head>
    <meta charset="utf-8">
  <link rel="dns-prefetch" href="https://github.githubassets.com">
  <link rel="dns-prefetch" href="https://avatars0.githubusercontent.com">
  <link rel="dns-prefetch" href="https://avatars1.githubusercontent.com">
  <link rel="dns-prefetch" href="https://avatars2.githubusercontent.com">
  <link rel="dns-prefetch" href="https://avatars3.githubusercontent.com">
  <link rel="dns-prefetch" href="https://github-cloud.s3.amazonaws.com">
  <link rel="dns-prefetch" href="https://user-images.githubusercontent.com/">



  <link crossorigin="anonymous" media="all" integrity="sha512-/YEVWs7BzxfKyUd6zVxjEQcXRWsLbcEjv045Rq8DSoipySmQblhVKxlXLva2GtNd5DhwCxHwW1RM0N9I7S2Vew==" rel="stylesheet" href="https://github.githubassets.com/assets/frameworks-481a47a96965f6706fb41bae0d14b09a.css" />
  
    <link crossorigin="anonymous" media="all" integrity="sha512-HPzq1ntuFLYWGApvLUWVagFsbMi1Bra6rIY6dEZbjNrYPKw28j1xOeZpIGMhDk9ZCtGSSLyANXQrlEhSB/BTvg==" rel="stylesheet" href="https://github.githubassets.com/assets/github-37b7adf25deb44a3a596fd93485a0f85.css" />
    
    
    
    


  <meta name="viewport" content="width=device-width">
  
  <title>ist652-final_project/Final_Project_Report.ipynb at ecc04d200a3fafd6f250f9ef866d7b07ee2106e8 · tbahng/ist652-final_project</title>
    <meta name="description" content="Scripting for Data Analysis. Contribute to tbahng/ist652-final_project development by creating an account on GitHub.">
    <link rel="search" type="application/opensearchdescription+xml" href="/opensearch.xml" title="GitHub">
  <link rel="fluid-icon" href="https://github.com/fluidicon.png" title="GitHub">
  <meta property="fb:app_id" content="1401488693436528">

    <meta name="twitter:image:src" content="https://avatars3.githubusercontent.com/u/51860448?s=400&amp;v=4" /><meta name="twitter:site" content="@github" /><meta name="twitter:card" content="summary" /><meta name="twitter:title" content="tbahng/ist652-final_project" /><meta name="twitter:description" content="Scripting for Data Analysis. Contribute to tbahng/ist652-final_project development by creating an account on GitHub." />
    <meta property="og:image" content="https://avatars3.githubusercontent.com/u/51860448?s=400&amp;v=4" /><meta property="og:site_name" content="GitHub" /><meta property="og:type" content="object" /><meta property="og:title" content="tbahng/ist652-final_project" /><meta property="og:url" content="https://github.com/tbahng/ist652-final_project" /><meta property="og:description" content="Scripting for Data Analysis. Contribute to tbahng/ist652-final_project development by creating an account on GitHub." />

  <link rel="assets" href="https://github.githubassets.com/">
  <link rel="web-socket" href="wss://live.github.com/_sockets/VjI6NDY2MTQ5NDY5OjI3MDFmNDMwMTAxODY0NDQ2NDgwMzk3NzYyZDNmYTE5OTExM2MyODY1NDRmMDE0ODBhNTlmMmQ1NzkxMmNkMDQ=--75e6dd32cf5642f2b74db402aa31410c8e705bab">
  <link rel="sudo-modal" href="/sessions/sudo_modal">

    <meta name="request-id" content="D2A7:5E71:9D00D2:A18314:5DE885AC" data-pjax-transient>


  

  <meta name="selected-link" value="repo_source" data-pjax-transient>

      <meta name="google-site-verification" content="KT5gs8h0wvaagLKAVWq8bbeNwnZZK1r1XQysX3xurLU">
    <meta name="google-site-verification" content="ZzhVyEFwb7w3e0-uOTltm8Jsck2F5StVihD0exw2fsA">
    <meta name="google-site-verification" content="GXs5KoUUkNCoaAZn7wPN-t01Pywp9M3sEjnt_3_ZWPc">

    <meta name="octolytics-host" content="collector.githubapp.com" /><meta name="octolytics-app-id" content="github" /><meta name="octolytics-event-url" content="https://collector.githubapp.com/github-external/browser_event" /><meta name="octolytics-dimension-request_id" content="D2A7:5E71:9D00D2:A18314:5DE885AC" /><meta name="octolytics-dimension-region_edge" content="sea" /><meta name="octolytics-dimension-region_render" content="iad" /><meta name="octolytics-dimension-ga_id" content="" class="js-octo-ga-id" /><meta name="octolytics-dimension-visitor_id" content="7059413557304573086" /><meta name="octolytics-actor-id" content="51860448" /><meta name="octolytics-actor-login" content="tbahng" /><meta name="octolytics-actor-hash" content="183f5664f876a31d2e310369be615a6714f276c60533d259b5c5bddb6bd774ff" />

<meta name="analytics-location" content="/&lt;user-name&gt;/&lt;repo-name&gt;/blob/show" data-pjax-transient="true" />



    <meta name="google-analytics" content="UA-3769691-2">

  <meta class="js-ga-set" name="userId" content="3b4c977e4efc5880f7d999bd61661c52">

<meta class="js-ga-set" name="dimension1" content="Logged In">



  

      <meta name="hostname" content="github.com">
    <meta name="user-login" content="tbahng">

      <meta name="expected-hostname" content="github.com">

      <meta name="js-proxy-site-detection-payload" content="ZmI5NzhhMmU1MDA2MTBjMDViOTQwMTIxZGZlMGIwM2FmM2Y0NTQ4ZWYxMGIyOTU5OTUzNDY3ZDRiM2EzOTExYnx7InJlbW90ZV9hZGRyZXNzIjoiNTAuNDYuMjE3LjIzIiwicmVxdWVzdF9pZCI6IkQyQTc6NUU3MTo5RDAwRDI6QTE4MzE0OjVERTg4NUFDIiwidGltZXN0YW1wIjoxNTc1NTE5NjY2LCJob3N0IjoiZ2l0aHViLmNvbSJ9">

    <meta name="enabled-features" content="LAUNCH_PROJECT,MARKETPLACE_FEATURED_BLOG_POSTS,MARKETPLACE_INVOICED_BILLING,MARKETPLACE_SOCIAL_PROOF_CUSTOMERS,MARKETPLACE_TRENDING_SOCIAL_PROOF,MARKETPLACE_RECOMMENDATIONS,MARKETPLACE_PENDING_INSTALLATIONS,NOTIFY_ON_BLOCK,RELATED_ISSUES,GHE_CLOUD_TRIAL">

    <meta name="html-safe-nonce" content="dcbacb2ba9aa97b11f32a5f67a5e3614bb73266e">

  <meta http-equiv="x-pjax-version" content="d659517167ab77c7d78e4523f5dea994">
  

      <link href="https://github.com/tbahng/ist652-final_project/commits/ecc04d200a3fafd6f250f9ef866d7b07ee2106e8.atom?token=AMLVHYEWUPUBA7IU53X6Z3536W4DE" rel="alternate" title="Recent Commits to ist652-final_project:ecc04d200a3fafd6f250f9ef866d7b07ee2106e8" type="application/atom+xml">

  <meta name="go-import" content="github.com/tbahng/ist652-final_project git https://github.com/tbahng/ist652-final_project.git">

  <meta name="octolytics-dimension-user_id" content="51860448" /><meta name="octolytics-dimension-user_login" content="tbahng" /><meta name="octolytics-dimension-repository_id" content="223665382" /><meta name="octolytics-dimension-repository_nwo" content="tbahng/ist652-final_project" /><meta name="octolytics-dimension-repository_public" content="false" /><meta name="octolytics-dimension-repository_is_fork" content="false" /><meta name="octolytics-dimension-repository_network_root_id" content="223665382" /><meta name="octolytics-dimension-repository_network_root_nwo" content="tbahng/ist652-final_project" /><meta name="octolytics-dimension-repository_explore_github_marketplace_ci_cta_shown" content="true" />


    <link rel="canonical" href="https://github.com/tbahng/ist652-final_project/blob/ecc04d200a3fafd6f250f9ef866d7b07ee2106e8/Final_Project_Report.ipynb" data-pjax-transient>


  <meta name="browser-stats-url" content="https://api.github.com/_private/browser/stats">

  <meta name="browser-errors-url" content="https://api.github.com/_private/browser/errors">

  <link rel="mask-icon" href="https://github.githubassets.com/pinned-octocat.svg" color="#000000">
  <link rel="icon" type="image/x-icon" class="js-site-favicon" href="https://github.githubassets.com/favicon.ico">

<meta name="theme-color" content="#1e2327">



  <meta name="webauthn-auth-enabled" content="true">

  <meta name="webauthn-registration-enabled" content="true">

  <link rel="manifest" href="/manifest.json" crossOrigin="use-credentials">

  </head>

  <body class="logged-in env-production page-responsive page-blob">
    

  <div class="position-relative js-header-wrapper ">
    <a href="#start-of-content" tabindex="1" class="p-3 bg-blue text-white show-on-focus js-skip-to-content">Skip to content</a>
    <span class="Progress progress-pjax-loader position-fixed width-full js-pjax-loader-bar">
      <span class="progress-pjax-loader-bar top-0 left-0" style="width: 0%;"></span>
    </span>

    
    
    


          <header class="Header js-details-container Details flex-wrap flex-lg-nowrap p-responsive" role="banner">

    <div class="Header-item d-none d-lg-flex">
      <a class="Header-link" href="https://github.com/" data-hotkey="g d" aria-label="Homepage" data-ga-click="Header, go to dashboard, icon:logo">
  <svg class="octicon octicon-mark-github v-align-middle" height="32" viewBox="0 0 16 16" version="1.1" width="32" aria-hidden="true"><path fill-rule="evenodd" d="M8 0C3.58 0 0 3.58 0 8c0 3.54 2.29 6.53 5.47 7.59.4.07.55-.17.55-.38 0-.19-.01-.82-.01-1.49-2.01.37-2.53-.49-2.69-.94-.09-.23-.48-.94-.82-1.13-.28-.15-.68-.52-.01-.53.63-.01 1.08.58 1.23.82.72 1.21 1.87.87 2.33.66.07-.52.28-.87.51-1.07-1.78-.2-3.64-.89-3.64-3.95 0-.87.31-1.59.82-2.15-.08-.2-.36-1.02.08-2.12 0 0 .67-.21 2.2.82.64-.18 1.32-.27 2-.27.68 0 1.36.09 2 .27 1.53-1.04 2.2-.82 2.2-.82.44 1.1.16 1.92.08 2.12.51.56.82 1.27.82 2.15 0 3.07-1.87 3.75-3.65 3.95.29.25.54.73.54 1.48 0 1.07-.01 1.93-.01 2.2 0 .21.15.46.55.38A8.013 8.013 0 0016 8c0-4.42-3.58-8-8-8z"/></svg>
</a>

    </div>

    <div class="Header-item d-lg-none">
      <button class="Header-link btn-link js-details-target" type="button" aria-label="Toggle navigation" aria-expanded="false">
        <svg height="24" class="octicon octicon-three-bars" viewBox="0 0 12 16" version="1.1" width="18" aria-hidden="true"><path fill-rule="evenodd" d="M11.41 9H.59C0 9 0 8.59 0 8c0-.59 0-1 .59-1H11.4c.59 0 .59.41.59 1 0 .59 0 1-.59 1h.01zm0-4H.59C0 5 0 4.59 0 4c0-.59 0-1 .59-1H11.4c.59 0 .59.41.59 1 0 .59 0 1-.59 1h.01zM.59 11H11.4c.59 0 .59.41.59 1 0 .59 0 1-.59 1H.59C0 13 0 12.59 0 12c0-.59 0-1 .59-1z"/></svg>
      </button>
    </div>

    <div class="Header-item Header-item--full flex-column flex-lg-row width-full flex-order-2 flex-lg-order-none mr-0 mr-lg-3 mt-3 mt-lg-0 Details-content--hidden">
        <div class="header-search flex-self-stretch flex-lg-self-auto mr-0 mr-lg-3 mb-3 mb-lg-0 scoped-search site-scoped-search js-site-search position-relative js-jump-to"
  role="combobox"
  aria-owns="jump-to-results"
  aria-label="Search or jump to"
  aria-haspopup="listbox"
  aria-expanded="false"
>
  <div class="position-relative">
    <!-- '"` --><!-- </textarea></xmp> --></option></form><form class="js-site-search-form" role="search" aria-label="Site" data-scope-type="Repository" data-scope-id="223665382" data-scoped-search-url="/tbahng/ist652-final_project/search" data-unscoped-search-url="/search" action="/tbahng/ist652-final_project/search" accept-charset="UTF-8" method="get"><input name="utf8" type="hidden" value="&#x2713;" />
      <label class="form-control input-sm header-search-wrapper p-0 header-search-wrapper-jump-to position-relative d-flex flex-justify-between flex-items-center js-chromeless-input-container">
        <input type="text"
          class="form-control input-sm header-search-input jump-to-field js-jump-to-field js-site-search-focus js-site-search-field is-clearable"
          data-hotkey="s,/"
          name="q"
          value=""
          placeholder="Search or jump to…"
          data-unscoped-placeholder="Search or jump to…"
          data-scoped-placeholder="Search or jump to…"
          autocapitalize="off"
          aria-autocomplete="list"
          aria-controls="jump-to-results"
          aria-label="Search or jump to…"
          data-jump-to-suggestions-path="/_graphql/GetSuggestedNavigationDestinations#csrf-token=WSVgYuLIwozyNP74y80pJtruNjS2bVPnEGS9Rbd4nPRo6odorw/um6ErFVvH8z+8RdxEJfPyIYkV8NoPrhD2SQ=="
          spellcheck="false"
          autocomplete="off"
          >
          <input type="hidden" class="js-site-search-type-field" name="type" >
            <img src="https://github.githubassets.com/images/search-key-slash.svg" alt="" class="mr-2 header-search-key-slash">

            <div class="Box position-absolute overflow-hidden d-none jump-to-suggestions js-jump-to-suggestions-container">
              
<ul class="d-none js-jump-to-suggestions-template-container">
  

<li class="d-flex flex-justify-start flex-items-center p-0 f5 navigation-item js-navigation-item js-jump-to-suggestion" role="option">
  <a tabindex="-1" class="no-underline d-flex flex-auto flex-items-center jump-to-suggestions-path js-jump-to-suggestion-path js-navigation-open p-2" href="">
    <div class="jump-to-octicon js-jump-to-octicon flex-shrink-0 mr-2 text-center d-none">
      <svg height="16" width="16" class="octicon octicon-repo flex-shrink-0 js-jump-to-octicon-repo d-none" title="Repository" aria-label="Repository" viewBox="0 0 12 16" version="1.1" role="img"><path fill-rule="evenodd" d="M4 9H3V8h1v1zm0-3H3v1h1V6zm0-2H3v1h1V4zm0-2H3v1h1V2zm8-1v12c0 .55-.45 1-1 1H6v2l-1.5-1.5L3 16v-2H1c-.55 0-1-.45-1-1V1c0-.55.45-1 1-1h10c.55 0 1 .45 1 1zm-1 10H1v2h2v-1h3v1h5v-2zm0-10H2v9h9V1z"/></svg>
      <svg height="16" width="16" class="octicon octicon-project flex-shrink-0 js-jump-to-octicon-project d-none" title="Project" aria-label="Project" viewBox="0 0 15 16" version="1.1" role="img"><path fill-rule="evenodd" d="M10 12h3V2h-3v10zm-4-2h3V2H6v8zm-4 4h3V2H2v12zm-1 1h13V1H1v14zM14 0H1a1 1 0 00-1 1v14a1 1 0 001 1h13a1 1 0 001-1V1a1 1 0 00-1-1z"/></svg>
      <svg height="16" width="16" class="octicon octicon-search flex-shrink-0 js-jump-to-octicon-search d-none" title="Search" aria-label="Search" viewBox="0 0 16 16" version="1.1" role="img"><path fill-rule="evenodd" d="M15.7 13.3l-3.81-3.83A5.93 5.93 0 0013 6c0-3.31-2.69-6-6-6S1 2.69 1 6s2.69 6 6 6c1.3 0 2.48-.41 3.47-1.11l3.83 3.81c.19.2.45.3.7.3.25 0 .52-.09.7-.3a.996.996 0 000-1.41v.01zM7 10.7c-2.59 0-4.7-2.11-4.7-4.7 0-2.59 2.11-4.7 4.7-4.7 2.59 0 4.7 2.11 4.7 4.7 0 2.59-2.11 4.7-4.7 4.7z"/></svg>
    </div>

    <img class="avatar mr-2 flex-shrink-0 js-jump-to-suggestion-avatar d-none" alt="" aria-label="Team" src="" width="28" height="28">

    <div class="jump-to-suggestion-name js-jump-to-suggestion-name flex-auto overflow-hidden text-left no-wrap css-truncate css-truncate-target">
    </div>

    <div class="border rounded-1 flex-shrink-0 bg-gray px-1 text-gray-light ml-1 f6 d-none js-jump-to-badge-search">
      <span class="js-jump-to-badge-search-text-default d-none" aria-label="in this repository">
        In this repository
      </span>
      <span class="js-jump-to-badge-search-text-global d-none" aria-label="in all of GitHub">
        All GitHub
      </span>
      <span aria-hidden="true" class="d-inline-block ml-1 v-align-middle">↵</span>
    </div>

    <div aria-hidden="true" class="border rounded-1 flex-shrink-0 bg-gray px-1 text-gray-light ml-1 f6 d-none d-on-nav-focus js-jump-to-badge-jump">
      Jump to
      <span class="d-inline-block ml-1 v-align-middle">↵</span>
    </div>
  </a>
</li>

</ul>

<ul class="d-none js-jump-to-no-results-template-container">
  <li class="d-flex flex-justify-center flex-items-center f5 d-none js-jump-to-suggestion p-2">
    <span class="text-gray">No suggested jump to results</span>
  </li>
</ul>

<ul id="jump-to-results" role="listbox" class="p-0 m-0 js-navigation-container jump-to-suggestions-results-container js-jump-to-suggestions-results-container">
  

<li class="d-flex flex-justify-start flex-items-center p-0 f5 navigation-item js-navigation-item js-jump-to-scoped-search d-none" role="option">
  <a tabindex="-1" class="no-underline d-flex flex-auto flex-items-center jump-to-suggestions-path js-jump-to-suggestion-path js-navigation-open p-2" href="">
    <div class="jump-to-octicon js-jump-to-octicon flex-shrink-0 mr-2 text-center d-none">
      <svg height="16" width="16" class="octicon octicon-repo flex-shrink-0 js-jump-to-octicon-repo d-none" title="Repository" aria-label="Repository" viewBox="0 0 12 16" version="1.1" role="img"><path fill-rule="evenodd" d="M4 9H3V8h1v1zm0-3H3v1h1V6zm0-2H3v1h1V4zm0-2H3v1h1V2zm8-1v12c0 .55-.45 1-1 1H6v2l-1.5-1.5L3 16v-2H1c-.55 0-1-.45-1-1V1c0-.55.45-1 1-1h10c.55 0 1 .45 1 1zm-1 10H1v2h2v-1h3v1h5v-2zm0-10H2v9h9V1z"/></svg>
      <svg height="16" width="16" class="octicon octicon-project flex-shrink-0 js-jump-to-octicon-project d-none" title="Project" aria-label="Project" viewBox="0 0 15 16" version="1.1" role="img"><path fill-rule="evenodd" d="M10 12h3V2h-3v10zm-4-2h3V2H6v8zm-4 4h3V2H2v12zm-1 1h13V1H1v14zM14 0H1a1 1 0 00-1 1v14a1 1 0 001 1h13a1 1 0 001-1V1a1 1 0 00-1-1z"/></svg>
      <svg height="16" width="16" class="octicon octicon-search flex-shrink-0 js-jump-to-octicon-search d-none" title="Search" aria-label="Search" viewBox="0 0 16 16" version="1.1" role="img"><path fill-rule="evenodd" d="M15.7 13.3l-3.81-3.83A5.93 5.93 0 0013 6c0-3.31-2.69-6-6-6S1 2.69 1 6s2.69 6 6 6c1.3 0 2.48-.41 3.47-1.11l3.83 3.81c.19.2.45.3.7.3.25 0 .52-.09.7-.3a.996.996 0 000-1.41v.01zM7 10.7c-2.59 0-4.7-2.11-4.7-4.7 0-2.59 2.11-4.7 4.7-4.7 2.59 0 4.7 2.11 4.7 4.7 0 2.59-2.11 4.7-4.7 4.7z"/></svg>
    </div>

    <img class="avatar mr-2 flex-shrink-0 js-jump-to-suggestion-avatar d-none" alt="" aria-label="Team" src="" width="28" height="28">

    <div class="jump-to-suggestion-name js-jump-to-suggestion-name flex-auto overflow-hidden text-left no-wrap css-truncate css-truncate-target">
    </div>

    <div class="border rounded-1 flex-shrink-0 bg-gray px-1 text-gray-light ml-1 f6 d-none js-jump-to-badge-search">
      <span class="js-jump-to-badge-search-text-default d-none" aria-label="in this repository">
        In this repository
      </span>
      <span class="js-jump-to-badge-search-text-global d-none" aria-label="in all of GitHub">
        All GitHub
      </span>
      <span aria-hidden="true" class="d-inline-block ml-1 v-align-middle">↵</span>
    </div>

    <div aria-hidden="true" class="border rounded-1 flex-shrink-0 bg-gray px-1 text-gray-light ml-1 f6 d-none d-on-nav-focus js-jump-to-badge-jump">
      Jump to
      <span class="d-inline-block ml-1 v-align-middle">↵</span>
    </div>
  </a>
</li>

  

<li class="d-flex flex-justify-start flex-items-center p-0 f5 navigation-item js-navigation-item js-jump-to-global-search d-none" role="option">
  <a tabindex="-1" class="no-underline d-flex flex-auto flex-items-center jump-to-suggestions-path js-jump-to-suggestion-path js-navigation-open p-2" href="">
    <div class="jump-to-octicon js-jump-to-octicon flex-shrink-0 mr-2 text-center d-none">
      <svg height="16" width="16" class="octicon octicon-repo flex-shrink-0 js-jump-to-octicon-repo d-none" title="Repository" aria-label="Repository" viewBox="0 0 12 16" version="1.1" role="img"><path fill-rule="evenodd" d="M4 9H3V8h1v1zm0-3H3v1h1V6zm0-2H3v1h1V4zm0-2H3v1h1V2zm8-1v12c0 .55-.45 1-1 1H6v2l-1.5-1.5L3 16v-2H1c-.55 0-1-.45-1-1V1c0-.55.45-1 1-1h10c.55 0 1 .45 1 1zm-1 10H1v2h2v-1h3v1h5v-2zm0-10H2v9h9V1z"/></svg>
      <svg height="16" width="16" class="octicon octicon-project flex-shrink-0 js-jump-to-octicon-project d-none" title="Project" aria-label="Project" viewBox="0 0 15 16" version="1.1" role="img"><path fill-rule="evenodd" d="M10 12h3V2h-3v10zm-4-2h3V2H6v8zm-4 4h3V2H2v12zm-1 1h13V1H1v14zM14 0H1a1 1 0 00-1 1v14a1 1 0 001 1h13a1 1 0 001-1V1a1 1 0 00-1-1z"/></svg>
      <svg height="16" width="16" class="octicon octicon-search flex-shrink-0 js-jump-to-octicon-search d-none" title="Search" aria-label="Search" viewBox="0 0 16 16" version="1.1" role="img"><path fill-rule="evenodd" d="M15.7 13.3l-3.81-3.83A5.93 5.93 0 0013 6c0-3.31-2.69-6-6-6S1 2.69 1 6s2.69 6 6 6c1.3 0 2.48-.41 3.47-1.11l3.83 3.81c.19.2.45.3.7.3.25 0 .52-.09.7-.3a.996.996 0 000-1.41v.01zM7 10.7c-2.59 0-4.7-2.11-4.7-4.7 0-2.59 2.11-4.7 4.7-4.7 2.59 0 4.7 2.11 4.7 4.7 0 2.59-2.11 4.7-4.7 4.7z"/></svg>
    </div>

    <img class="avatar mr-2 flex-shrink-0 js-jump-to-suggestion-avatar d-none" alt="" aria-label="Team" src="" width="28" height="28">

    <div class="jump-to-suggestion-name js-jump-to-suggestion-name flex-auto overflow-hidden text-left no-wrap css-truncate css-truncate-target">
    </div>

    <div class="border rounded-1 flex-shrink-0 bg-gray px-1 text-gray-light ml-1 f6 d-none js-jump-to-badge-search">
      <span class="js-jump-to-badge-search-text-default d-none" aria-label="in this repository">
        In this repository
      </span>
      <span class="js-jump-to-badge-search-text-global d-none" aria-label="in all of GitHub">
        All GitHub
      </span>
      <span aria-hidden="true" class="d-inline-block ml-1 v-align-middle">↵</span>
    </div>

    <div aria-hidden="true" class="border rounded-1 flex-shrink-0 bg-gray px-1 text-gray-light ml-1 f6 d-none d-on-nav-focus js-jump-to-badge-jump">
      Jump to
      <span class="d-inline-block ml-1 v-align-middle">↵</span>
    </div>
  </a>
</li>


    <li class="d-flex flex-justify-center flex-items-center p-0 f5 js-jump-to-suggestion">
      <img src="https://github.githubassets.com/images/spinners/octocat-spinner-128.gif" alt="Octocat Spinner Icon" class="m-2" width="28">
    </li>
</ul>

            </div>
      </label>
</form>  </div>
</div>


      <nav class="d-flex flex-column flex-lg-row flex-self-stretch flex-lg-self-auto" aria-label="Global">
    <a class="Header-link d-block d-lg-none py-2 py-lg-0 border-top border-lg-top-0 border-white-fade-15" data-ga-click="Header, click, Nav menu - item:dashboard:user" aria-label="Dashboard" href="/dashboard">
      Dashboard
</a>
  <a class="js-selected-navigation-item Header-link  mr-0 mr-lg-3 py-2 py-lg-0 border-top border-lg-top-0 border-white-fade-15" data-hotkey="g p" data-ga-click="Header, click, Nav menu - item:pulls context:user" aria-label="Pull requests you created" data-selected-links="/pulls /pulls/assigned /pulls/mentioned /pulls" href="/pulls">
    Pull requests
</a>
  <a class="js-selected-navigation-item Header-link  mr-0 mr-lg-3 py-2 py-lg-0 border-top border-lg-top-0 border-white-fade-15" data-hotkey="g i" data-ga-click="Header, click, Nav menu - item:issues context:user" aria-label="Issues you created" data-selected-links="/issues /issues/assigned /issues/mentioned /issues" href="/issues">
    Issues
</a>
    <div class="mr-0 mr-lg-3 py-2 py-lg-0 border-top border-lg-top-0 border-white-fade-15">
      <a class="js-selected-navigation-item Header-link" data-ga-click="Header, click, Nav menu - item:marketplace context:user" data-octo-click="marketplace_click" data-octo-dimensions="location:nav_bar" data-selected-links=" /marketplace" href="/marketplace">
        Marketplace
</a>      

    </div>

  <a class="js-selected-navigation-item Header-link  mr-0 mr-lg-3 py-2 py-lg-0 border-top border-lg-top-0 border-white-fade-15" data-ga-click="Header, click, Nav menu - item:explore" data-selected-links="/explore /trending /trending/developers /integrations /integrations/feature/code /integrations/feature/collaborate /integrations/feature/ship showcases showcases_search showcases_landing /explore" href="/explore">
    Explore
</a>


    <a class="Header-link d-block d-lg-none mr-0 mr-lg-3 py-2 py-lg-0 border-top border-lg-top-0 border-white-fade-15" href="https://github.com/tbahng">
      <img class="avatar" height="20" width="20" alt="@tbahng" src="https://avatars3.githubusercontent.com/u/51860448?s=60&amp;v=4" />
      tbahng
</a>
    <!-- '"` --><!-- </textarea></xmp> --></option></form><form action="/logout" accept-charset="UTF-8" method="post"><input name="utf8" type="hidden" value="&#x2713;" /><input type="hidden" name="authenticity_token" value="qp/c8978kgWyVbDfzOj4c5ZDb3X+13VIEOxMSa811dJtGSn4Jq/V7dRf8UNeLLavnwbdrmUafnuI/gA0gEob2Q==" />
      <button type="submit" class="Header-link mr-0 mr-lg-3 py-2 py-lg-0 border-top border-lg-top-0 border-white-fade-15 d-lg-none btn-link d-block width-full text-left" data-ga-click="Header, sign out, icon:logout" style="padding-left: 2px;">
        <svg class="octicon octicon-sign-out v-align-middle" viewBox="0 0 16 16" version="1.1" width="16" height="16" aria-hidden="true"><path fill-rule="evenodd" d="M12 9V7H8V5h4V3l4 3-4 3zm-2 3H6V3L2 1h8v3h1V1c0-.55-.45-1-1-1H1C.45 0 0 .45 0 1v11.38c0 .39.22.73.55.91L6 16.01V13h4c.55 0 1-.45 1-1V8h-1v4z"/></svg>
        Sign out
      </button>
</form></nav>

    </div>

    <div class="Header-item Header-item--full flex-justify-center d-lg-none position-relative">
      <div class="css-truncate css-truncate-target width-fit position-absolute left-0 right-0 text-center">
              <svg class="octicon octicon-lock" viewBox="0 0 12 16" version="1.1" width="12" height="16" aria-hidden="true"><path fill-rule="evenodd" d="M4 13H3v-1h1v1zm8-6v7c0 .55-.45 1-1 1H1c-.55 0-1-.45-1-1V7c0-.55.45-1 1-1h1V4c0-2.2 1.8-4 4-4s4 1.8 4 4v2h1c.55 0 1 .45 1 1zM3.8 6h4.41V4c0-1.22-.98-2.2-2.2-2.2-1.22 0-2.2.98-2.2 2.2v2H3.8zM11 7H2v7h9V7zM4 8H3v1h1V8zm0 2H3v1h1v-1z"/></svg>
    <a class="Header-link" href="/tbahng">tbahng</a>
    /
    <a class="Header-link" href="/tbahng/ist652-final_project">ist652-final_project</a>

</div>
    </div>


    <div class="Header-item mr-0 mr-lg-3 flex-order-1 flex-lg-order-none">
      

    <a aria-label="You have no unread notifications" class="Header-link notification-indicator position-relative tooltipped tooltipped-sw js-socket-channel js-notification-indicator" data-hotkey="g n" data-ga-click="Header, go to notifications, icon:read" data-channel="notification-changed:51860448" href="/notifications">
        <span class="mail-status "></span>
        <svg class="octicon octicon-bell" viewBox="0 0 14 16" version="1.1" width="14" height="16" aria-hidden="true"><path fill-rule="evenodd" d="M14 12v1H0v-1l.73-.58c.77-.77.81-2.55 1.19-4.42C2.69 3.23 6 2 6 2c0-.55.45-1 1-1s1 .45 1 1c0 0 3.39 1.23 4.16 5 .38 1.88.42 3.66 1.19 4.42l.66.58H14zm-7 4c1.11 0 2-.89 2-2H5c0 1.11.89 2 2 2z"/></svg>
</a>
    </div>


    <div class="Header-item position-relative d-none d-lg-flex">
      <details class="details-overlay details-reset">
  <summary class="Header-link"
      aria-label="Create new…"
      data-ga-click="Header, create new, icon:add">
    <svg class="octicon octicon-plus" viewBox="0 0 12 16" version="1.1" width="12" height="16" aria-hidden="true"><path fill-rule="evenodd" d="M12 9H7v5H5V9H0V7h5V2h2v5h5v2z"/></svg> <span class="dropdown-caret"></span>
  </summary>
  <details-menu class="dropdown-menu dropdown-menu-sw">
    
<a role="menuitem" class="dropdown-item" href="/new" data-ga-click="Header, create new repository">
  New repository
</a>

  <a role="menuitem" class="dropdown-item" href="/new/import" data-ga-click="Header, import a repository">
    Import repository
  </a>

<a role="menuitem" class="dropdown-item" href="https://gist.github.com/" data-ga-click="Header, create new gist">
  New gist
</a>

  <a role="menuitem" class="dropdown-item" href="/organizations/new" data-ga-click="Header, create new organization">
    New organization
  </a>


  <div role="none" class="dropdown-divider"></div>
  <div class="dropdown-header">
    <span title="tbahng/ist652-final_project">This repository</span>
  </div>
    <a role="menuitem" class="dropdown-item" href="/tbahng/ist652-final_project/issues/new" data-ga-click="Header, create new issue" data-skip-pjax>
      New issue
    </a>


  </details-menu>
</details>

    </div>

    <div class="Header-item position-relative mr-0 d-none d-lg-flex">
      
  <details class="details-overlay details-reset js-feature-preview-indicator-container" data-feature-preview-indicator-src="/users/tbahng/feature_preview/indicator_check.json">

  <summary class="Header-link"
    aria-label="View profile and more"
    data-ga-click="Header, show menu, icon:avatar">
    <img alt="@tbahng" class="avatar" src="https://avatars0.githubusercontent.com/u/51860448?s=40&amp;v=4" height="20" width="20">
      <span class="feature-preview-indicator js-feature-preview-indicator" hidden></span>
    <span class="dropdown-caret"></span>
  </summary>
  <details-menu class="dropdown-menu dropdown-menu-sw mt-2" style="width: 180px">
    <div class="header-nav-current-user css-truncate"><a role="menuitem" class="no-underline user-profile-link px-3 pt-2 pb-2 mb-n2 mt-n1 d-block" href="/tbahng" data-ga-click="Header, go to profile, text:Signed in as">Signed in as <strong class="css-truncate-target">tbahng</strong></a></div>
    <div role="none" class="dropdown-divider"></div>

      <div class="pl-3 pr-3 f6 user-status-container js-user-status-context pb-1" data-url="/users/status?compact=1&amp;link_mentions=0&amp;truncate=1">
        
<div class="js-user-status-container
    user-status-compact rounded-1 px-2 py-1 mt-2
    border
  " data-team-hovercards-enabled>
  <details class="js-user-status-details details-reset details-overlay details-overlay-dark">
    <summary class="btn-link btn-block link-gray no-underline js-toggle-user-status-edit toggle-user-status-edit "
      role="menuitem" data-hydro-click="{&quot;event_type&quot;:&quot;user_profile.click&quot;,&quot;payload&quot;:{&quot;profile_user_id&quot;:51860448,&quot;target&quot;:&quot;EDIT_USER_STATUS&quot;,&quot;user_id&quot;:51860448,&quot;client_id&quot;:&quot;1643647802.1572289694&quot;,&quot;originating_request_id&quot;:&quot;D2A7:5E71:9D00D2:A18314:5DE885AC&quot;,&quot;originating_url&quot;:&quot;https://github.com/tbahng/ist652-final_project/blob/ecc04d200a3fafd6f250f9ef866d7b07ee2106e8/Final_Project_Report.ipynb&quot;,&quot;referrer&quot;:&quot;https://github.com/tbahng/ist652-final_project/tree/ecc04d200a3fafd6f250f9ef866d7b07ee2106e8&quot;}}" data-hydro-click-hmac="aee4c926c18ee766c76396425f378a6a045c6aa0e3774264f6ddf82f1890e8eb">
      <div class="d-flex">
        <div class="f6 lh-condensed user-status-header
          d-inline-block v-align-middle
            user-status-emoji-only-header circle
            pr-2
"
            style="max-width: 29px"
          >
          <div class="user-status-emoji-container flex-shrink-0 mr-1 mt-1 lh-condensed-ultra v-align-bottom" style="">
            <svg class="octicon octicon-smiley" viewBox="0 0 16 16" version="1.1" width="16" height="16" aria-hidden="true"><path fill-rule="evenodd" d="M8 0C3.58 0 0 3.58 0 8s3.58 8 8 8 8-3.58 8-8-3.58-8-8-8zm4.81 12.81a6.72 6.72 0 01-2.17 1.45c-.83.36-1.72.53-2.64.53-.92 0-1.81-.17-2.64-.53-.81-.34-1.55-.83-2.17-1.45a6.773 6.773 0 01-1.45-2.17A6.59 6.59 0 011.21 8c0-.92.17-1.81.53-2.64.34-.81.83-1.55 1.45-2.17.62-.62 1.36-1.11 2.17-1.45A6.59 6.59 0 018 1.21c.92 0 1.81.17 2.64.53.81.34 1.55.83 2.17 1.45.62.62 1.11 1.36 1.45 2.17.36.83.53 1.72.53 2.64 0 .92-.17 1.81-.53 2.64-.34.81-.83 1.55-1.45 2.17zM4 6.8v-.59c0-.66.53-1.19 1.2-1.19h.59c.66 0 1.19.53 1.19 1.19v.59c0 .67-.53 1.2-1.19 1.2H5.2C4.53 8 4 7.47 4 6.8zm5 0v-.59c0-.66.53-1.19 1.2-1.19h.59c.66 0 1.19.53 1.19 1.19v.59c0 .67-.53 1.2-1.19 1.2h-.59C9.53 8 9 7.47 9 6.8zm4 3.2c-.72 1.88-2.91 3-5 3s-4.28-1.13-5-3c-.14-.39.23-1 .66-1h8.59c.41 0 .89.61.75 1z"/></svg>
          </div>
        </div>
        <div class="
          d-inline-block v-align-middle
          
          
           css-truncate css-truncate-target 
           user-status-message-wrapper f6"
           style="line-height: 20px;" >
          <div class="d-inline-block text-gray-dark v-align-text-top text-left">
              <span class="text-gray ml-2">Set status</span>
          </div>
        </div>
      </div>
    </summary>
    <details-dialog class="details-dialog rounded-1 anim-fade-in fast Box Box--overlay" role="dialog" tabindex="-1">
      <!-- '"` --><!-- </textarea></xmp> --></option></form><form class="position-relative flex-auto js-user-status-form" action="/users/status?compact=1&amp;link_mentions=0&amp;truncate=1" accept-charset="UTF-8" method="post"><input name="utf8" type="hidden" value="&#x2713;" /><input type="hidden" name="_method" value="put" /><input type="hidden" name="authenticity_token" value="a6BMqZAUy5XHylqDp9BgRtQwD6rbRF9vIk/V3rV/zuBA039UbwsXQZuA5jLqqLYhuChw/kTH+qzl42iYwXUdrg==" />
        <div class="Box-header bg-gray border-bottom p-3">
          <button class="Box-btn-octicon js-toggle-user-status-edit btn-octicon float-right" type="reset" aria-label="Close dialog" data-close-dialog>
            <svg class="octicon octicon-x" viewBox="0 0 12 16" version="1.1" width="12" height="16" aria-hidden="true"><path fill-rule="evenodd" d="M7.48 8l3.75 3.75-1.48 1.48L6 9.48l-3.75 3.75-1.48-1.48L4.52 8 .77 4.25l1.48-1.48L6 6.52l3.75-3.75 1.48 1.48L7.48 8z"/></svg>
          </button>
          <h3 class="Box-title f5 text-bold text-gray-dark">Edit status</h3>
        </div>
        <input type="hidden" name="emoji" class="js-user-status-emoji-field" value="">
        <input type="hidden" name="organization_id" class="js-user-status-org-id-field" value="">
        <div class="px-3 py-2 text-gray-dark">
          <div class="js-characters-remaining-container position-relative mt-2">
            <div class="input-group d-table form-group my-0 js-user-status-form-group">
              <span class="input-group-button d-table-cell v-align-middle" style="width: 1%">
                <button type="button" aria-label="Choose an emoji" class="btn-outline btn js-toggle-user-status-emoji-picker btn-open-emoji-picker p-0">
                  <span class="js-user-status-original-emoji" hidden></span>
                  <span class="js-user-status-custom-emoji"></span>
                  <span class="js-user-status-no-emoji-icon" >
                    <svg class="octicon octicon-smiley" viewBox="0 0 16 16" version="1.1" width="16" height="16" aria-hidden="true"><path fill-rule="evenodd" d="M8 0C3.58 0 0 3.58 0 8s3.58 8 8 8 8-3.58 8-8-3.58-8-8-8zm4.81 12.81a6.72 6.72 0 01-2.17 1.45c-.83.36-1.72.53-2.64.53-.92 0-1.81-.17-2.64-.53-.81-.34-1.55-.83-2.17-1.45a6.773 6.773 0 01-1.45-2.17A6.59 6.59 0 011.21 8c0-.92.17-1.81.53-2.64.34-.81.83-1.55 1.45-2.17.62-.62 1.36-1.11 2.17-1.45A6.59 6.59 0 018 1.21c.92 0 1.81.17 2.64.53.81.34 1.55.83 2.17 1.45.62.62 1.11 1.36 1.45 2.17.36.83.53 1.72.53 2.64 0 .92-.17 1.81-.53 2.64-.34.81-.83 1.55-1.45 2.17zM4 6.8v-.59c0-.66.53-1.19 1.2-1.19h.59c.66 0 1.19.53 1.19 1.19v.59c0 .67-.53 1.2-1.19 1.2H5.2C4.53 8 4 7.47 4 6.8zm5 0v-.59c0-.66.53-1.19 1.2-1.19h.59c.66 0 1.19.53 1.19 1.19v.59c0 .67-.53 1.2-1.19 1.2h-.59C9.53 8 9 7.47 9 6.8zm4 3.2c-.72 1.88-2.91 3-5 3s-4.28-1.13-5-3c-.14-.39.23-1 .66-1h8.59c.41 0 .89.61.75 1z"/></svg>
                  </span>
                </button>
              </span>
              <text-expander keys=": @" data-mention-url="/autocomplete/user-suggestions" data-emoji-url="/autocomplete/emoji">
                <input
                  type="text"
                  autocomplete="off"
                  data-no-org-url="/autocomplete/user-suggestions"
                  data-org-url="/suggestions?mention_suggester=1"
                  data-maxlength="80"
                  class="d-table-cell width-full form-control js-user-status-message-field js-characters-remaining-field"
                  placeholder="What's happening?"
                  name="message"
                  value=""
                  aria-label="What is your current status?">
              </text-expander>
              <div class="error">Could not update your status, please try again.</div>
            </div>
            <div style="margin-left: 53px" class="my-1 text-small label-characters-remaining js-characters-remaining" data-suffix="remaining" hidden>
              80 remaining
            </div>
          </div>
          <include-fragment class="js-user-status-emoji-picker" data-url="/users/status/emoji"></include-fragment>
          <div class="overflow-auto ml-n3 mr-n3 px-3 border-bottom" style="max-height: 33vh">
            <div class="user-status-suggestions js-user-status-suggestions collapsed overflow-hidden">
              <h4 class="f6 text-normal my-3">Suggestions:</h4>
              <div class="mx-3 mt-2 clearfix">
                  <div class="float-left col-6">
                      <button type="button" value=":palm_tree:" class="d-flex flex-items-baseline flex-items-stretch lh-condensed f6 btn-link link-gray no-underline js-predefined-user-status mb-1">
                        <div class="emoji-status-width mr-2 v-align-middle js-predefined-user-status-emoji">
                          <g-emoji alias="palm_tree" fallback-src="https://github.githubassets.com/images/icons/emoji/unicode/1f334.png">🌴</g-emoji>
                        </div>
                        <div class="d-flex flex-items-center no-underline js-predefined-user-status-message ws-normal text-left" style="border-left: 1px solid transparent">
                          On vacation
                        </div>
                      </button>
                      <button type="button" value=":face_with_thermometer:" class="d-flex flex-items-baseline flex-items-stretch lh-condensed f6 btn-link link-gray no-underline js-predefined-user-status mb-1">
                        <div class="emoji-status-width mr-2 v-align-middle js-predefined-user-status-emoji">
                          <g-emoji alias="face_with_thermometer" fallback-src="https://github.githubassets.com/images/icons/emoji/unicode/1f912.png">🤒</g-emoji>
                        </div>
                        <div class="d-flex flex-items-center no-underline js-predefined-user-status-message ws-normal text-left" style="border-left: 1px solid transparent">
                          Out sick
                        </div>
                      </button>
                  </div>
                  <div class="float-left col-6">
                      <button type="button" value=":house:" class="d-flex flex-items-baseline flex-items-stretch lh-condensed f6 btn-link link-gray no-underline js-predefined-user-status mb-1">
                        <div class="emoji-status-width mr-2 v-align-middle js-predefined-user-status-emoji">
                          <g-emoji alias="house" fallback-src="https://github.githubassets.com/images/icons/emoji/unicode/1f3e0.png">🏠</g-emoji>
                        </div>
                        <div class="d-flex flex-items-center no-underline js-predefined-user-status-message ws-normal text-left" style="border-left: 1px solid transparent">
                          Working from home
                        </div>
                      </button>
                      <button type="button" value=":dart:" class="d-flex flex-items-baseline flex-items-stretch lh-condensed f6 btn-link link-gray no-underline js-predefined-user-status mb-1">
                        <div class="emoji-status-width mr-2 v-align-middle js-predefined-user-status-emoji">
                          <g-emoji alias="dart" fallback-src="https://github.githubassets.com/images/icons/emoji/unicode/1f3af.png">🎯</g-emoji>
                        </div>
                        <div class="d-flex flex-items-center no-underline js-predefined-user-status-message ws-normal text-left" style="border-left: 1px solid transparent">
                          Focusing
                        </div>
                      </button>
                  </div>
              </div>
            </div>
            <div class="user-status-limited-availability-container">
              <div class="form-checkbox my-0">
                <input type="checkbox" name="limited_availability" value="1" class="js-user-status-limited-availability-checkbox" data-default-message="I may be slow to respond." aria-describedby="limited-availability-help-text-truncate-true-compact-true" id="limited-availability-truncate-true-compact-true">
                <label class="d-block f5 text-gray-dark mb-1" for="limited-availability-truncate-true-compact-true">
                  Busy
                </label>
                <p class="note" id="limited-availability-help-text-truncate-true-compact-true">
                  When others mention you, assign you, or request your review,
                  GitHub will let them know that you have limited availability.
                </p>
              </div>
            </div>
          </div>
            

<div class="d-inline-block f5 mr-2 pt-3 pb-2" >
  <div class="d-inline-block mr-1">
    Clear status
  </div>

  <details class="js-user-status-expire-drop-down f6 dropdown details-reset details-overlay d-inline-block mr-2">
    <summary class="f5 btn-link link-gray-dark border px-2 py-1 rounded-1" aria-haspopup="true">
      <div class="js-user-status-expiration-interval-selected d-inline-block v-align-baseline">
        Never
      </div>
      <div class="dropdown-caret"></div>
    </summary>

    <ul class="dropdown-menu dropdown-menu-se pl-0 overflow-auto" style="width: 220px; max-height: 15.5em">
      <li>
        <button type="button" class="btn-link dropdown-item js-user-status-expire-button ws-normal" title="Never">
          <span class="d-inline-block text-bold mb-1">Never</span>
          <div class="f6 lh-condensed">Keep this status until you clear your status or edit your status.</div>
        </button>
      </li>
      <li class="dropdown-divider" role="none"></li>
        <li>
          <button type="button" class="btn-link dropdown-item ws-normal js-user-status-expire-button" title="in 30 minutes" value="2019-12-04T20:51:06-08:00">
            in 30 minutes
          </button>
        </li>
        <li>
          <button type="button" class="btn-link dropdown-item ws-normal js-user-status-expire-button" title="in 1 hour" value="2019-12-04T21:21:06-08:00">
            in 1 hour
          </button>
        </li>
        <li>
          <button type="button" class="btn-link dropdown-item ws-normal js-user-status-expire-button" title="in 4 hours" value="2019-12-05T00:21:06-08:00">
            in 4 hours
          </button>
        </li>
        <li>
          <button type="button" class="btn-link dropdown-item ws-normal js-user-status-expire-button" title="today" value="2019-12-04T23:59:59-08:00">
            today
          </button>
        </li>
        <li>
          <button type="button" class="btn-link dropdown-item ws-normal js-user-status-expire-button" title="this week" value="2019-12-08T23:59:59-08:00">
            this week
          </button>
        </li>
    </ul>
  </details>
  <input class="js-user-status-expiration-date-input" type="hidden" name="expires_at" value="">
</div>

          <include-fragment class="js-user-status-org-picker" data-url="/users/status/organizations"></include-fragment>
        </div>
        <div class="d-flex flex-items-center flex-justify-between p-3 border-top">
          <button type="submit" disabled class="width-full btn btn-primary mr-2 js-user-status-submit">
            Set status
          </button>
          <button type="button" disabled class="width-full js-clear-user-status-button btn ml-2 ">
            Clear status
          </button>
        </div>
</form>    </details-dialog>
  </details>
</div>

      </div>
      <div role="none" class="dropdown-divider"></div>


    <a role="menuitem" class="dropdown-item" href="/tbahng" data-ga-click="Header, go to profile, text:your profile">Your profile</a>

    <a role="menuitem" class="dropdown-item" href="/tbahng?tab=repositories" data-ga-click="Header, go to repositories, text:your repositories">Your repositories</a>

    <a role="menuitem" class="dropdown-item" href="/tbahng?tab=projects" data-ga-click="Header, go to projects, text:your projects">Your projects</a>

    <a role="menuitem" class="dropdown-item" href="/tbahng?tab=stars" data-ga-click="Header, go to starred repos, text:your stars">Your stars</a>
      <a role="menuitem" class="dropdown-item" href="https://gist.github.com/mine" data-ga-click="Header, your gists, text:your gists">Your gists</a>





    <div role="none" class="dropdown-divider"></div>
      
<div id="feature-enrollment-toggle" class="hide-sm hide-md feature-preview-details position-relative">
  <button
    type="button"
    class="dropdown-item btn-link"
    role="menuitem"
    data-feature-preview-trigger-url="/users/tbahng/feature_previews"
    data-feature-preview-close-details="{&quot;event_type&quot;:&quot;feature_preview.clicks.close_modal&quot;,&quot;payload&quot;:{&quot;client_id&quot;:&quot;1643647802.1572289694&quot;,&quot;originating_request_id&quot;:&quot;D2A7:5E71:9D00D2:A18314:5DE885AC&quot;,&quot;originating_url&quot;:&quot;https://github.com/tbahng/ist652-final_project/blob/ecc04d200a3fafd6f250f9ef866d7b07ee2106e8/Final_Project_Report.ipynb&quot;,&quot;referrer&quot;:&quot;https://github.com/tbahng/ist652-final_project/tree/ecc04d200a3fafd6f250f9ef866d7b07ee2106e8&quot;,&quot;user_id&quot;:51860448}}"
    data-feature-preview-close-hmac="20bd5640c38aabab54fc45347bed4b3d7eb7f28e44c8dcbcf95513668e7c16d4"
    data-hydro-click="{&quot;event_type&quot;:&quot;feature_preview.clicks.open_modal&quot;,&quot;payload&quot;:{&quot;link_location&quot;:&quot;user_dropdown&quot;,&quot;client_id&quot;:&quot;1643647802.1572289694&quot;,&quot;originating_request_id&quot;:&quot;D2A7:5E71:9D00D2:A18314:5DE885AC&quot;,&quot;originating_url&quot;:&quot;https://github.com/tbahng/ist652-final_project/blob/ecc04d200a3fafd6f250f9ef866d7b07ee2106e8/Final_Project_Report.ipynb&quot;,&quot;referrer&quot;:&quot;https://github.com/tbahng/ist652-final_project/tree/ecc04d200a3fafd6f250f9ef866d7b07ee2106e8&quot;,&quot;user_id&quot;:51860448}}"
    data-hydro-click-hmac="e6a661512c261b63fe607b12e86549c801724d0e31bd10f2681daa079aa32967"
  >
    Feature preview
  </button>
    <span class="feature-preview-indicator js-feature-preview-indicator" hidden></span>
</div>

    <a role="menuitem" class="dropdown-item" href="https://help.github.com" data-ga-click="Header, go to help, text:help">Help</a>
    <a role="menuitem" class="dropdown-item" href="/settings/profile" data-ga-click="Header, go to settings, icon:settings">Settings</a>
    <!-- '"` --><!-- </textarea></xmp> --></option></form><form class="logout-form" action="/logout" accept-charset="UTF-8" method="post"><input name="utf8" type="hidden" value="&#x2713;" /><input type="hidden" name="authenticity_token" value="2uJE8g9N9Us35LuakCoQfoYJtP9mnTowvdzII3e3o9wdZLH59x6yo1Hu+gYC7l6ij0wGJP1QMQMlzoReWMht1w==" />
      
      <button type="submit" class="dropdown-item dropdown-signout" data-ga-click="Header, sign out, icon:logout" role="menuitem">
        Sign out
      </button>
</form>  </details-menu>
</details>

    </div>

  </header>

      

  </div>

  <div id="start-of-content" class="show-on-focus"></div>


    <div id="js-flash-container">

</div>



  <div class="application-main " data-commit-hovercards-enabled>
        <div itemscope itemtype="http://schema.org/SoftwareSourceCode" class="">
    <main  >
      


  










  <div class=" pagehead repohead instapaper_ignore readability-menu experiment-repo-nav pt-0 pt-lg-4 ">
    <div class="repohead-details-container clearfix container-lg p-responsive d-none d-lg-block">

      <ul class="pagehead-actions">




  <li>
    
    <!-- '"` --><!-- </textarea></xmp> --></option></form><form data-remote="true" class="clearfix js-social-form js-social-container" action="/notifications/subscribe" accept-charset="UTF-8" method="post"><input name="utf8" type="hidden" value="&#x2713;" /><input type="hidden" name="authenticity_token" value="YL/TSn2yrnZ36GGELri7c8kJ8Ka/JaZ2xJynwdafsZ7gok9gAA5wDmTIi9u/RqPkAGZyH/wBXoNT0oJfJx434g==" />      <input type="hidden" name="repository_id" value="223665382">

      <details class="details-reset details-overlay select-menu float-left">
        <summary class="select-menu-button float-left btn btn-sm btn-with-count" data-hydro-click="{&quot;event_type&quot;:&quot;repository.click&quot;,&quot;payload&quot;:{&quot;target&quot;:&quot;WATCH_BUTTON&quot;,&quot;repository_id&quot;:223665382,&quot;client_id&quot;:&quot;1643647802.1572289694&quot;,&quot;originating_request_id&quot;:&quot;D2A7:5E71:9D00D2:A18314:5DE885AC&quot;,&quot;originating_url&quot;:&quot;https://github.com/tbahng/ist652-final_project/blob/ecc04d200a3fafd6f250f9ef866d7b07ee2106e8/Final_Project_Report.ipynb&quot;,&quot;referrer&quot;:&quot;https://github.com/tbahng/ist652-final_project/tree/ecc04d200a3fafd6f250f9ef866d7b07ee2106e8&quot;,&quot;user_id&quot;:51860448}}" data-hydro-click-hmac="52421d5fc652d3081cf3d3241cf86989f728c34fb67dc41040405b88821444a6" data-ga-click="Repository, click Watch settings, action:blob#show">          <span data-menu-button>
              <svg class="octicon octicon-eye v-align-text-bottom" viewBox="0 0 16 16" version="1.1" width="16" height="16" aria-hidden="true"><path fill-rule="evenodd" d="M8.06 2C3 2 0 8 0 8s3 6 8.06 6C13 14 16 8 16 8s-3-6-7.94-6zM8 12c-2.2 0-4-1.78-4-4 0-2.2 1.8-4 4-4 2.22 0 4 1.8 4 4 0 2.22-1.78 4-4 4zm2-4c0 1.11-.89 2-2 2-1.11 0-2-.89-2-2 0-1.11.89-2 2-2 1.11 0 2 .89 2 2z"/></svg>
              Unwatch
          </span>
</summary>        <details-menu
          class="select-menu-modal position-absolute mt-5"
          style="z-index: 99;">
          <div class="select-menu-header">
            <span class="select-menu-title">Notifications</span>
          </div>
          <div class="select-menu-list">
            <button type="submit" name="do" value="included" class="select-menu-item width-full" aria-checked="false" role="menuitemradio">
              <svg class="octicon octicon-check select-menu-item-icon" viewBox="0 0 12 16" version="1.1" width="12" height="16" aria-hidden="true"><path fill-rule="evenodd" d="M12 5l-8 8-4-4 1.5-1.5L4 10l6.5-6.5L12 5z"/></svg>
              <div class="select-menu-item-text">
                <span class="select-menu-item-heading">Not watching</span>
                <span class="description">Be notified only when participating or @mentioned.</span>
                <span class="hidden-select-button-text" data-menu-button-contents>
                  <svg class="octicon octicon-eye v-align-text-bottom" viewBox="0 0 16 16" version="1.1" width="16" height="16" aria-hidden="true"><path fill-rule="evenodd" d="M8.06 2C3 2 0 8 0 8s3 6 8.06 6C13 14 16 8 16 8s-3-6-7.94-6zM8 12c-2.2 0-4-1.78-4-4 0-2.2 1.8-4 4-4 2.22 0 4 1.8 4 4 0 2.22-1.78 4-4 4zm2-4c0 1.11-.89 2-2 2-1.11 0-2-.89-2-2 0-1.11.89-2 2-2 1.11 0 2 .89 2 2z"/></svg>
                  Watch
                </span>
              </div>
            </button>

            <button type="submit" name="do" value="release_only" class="select-menu-item width-full" aria-checked="false" role="menuitemradio">
              <svg class="octicon octicon-check select-menu-item-icon" viewBox="0 0 12 16" version="1.1" width="12" height="16" aria-hidden="true"><path fill-rule="evenodd" d="M12 5l-8 8-4-4 1.5-1.5L4 10l6.5-6.5L12 5z"/></svg>
              <div class="select-menu-item-text">
                <span class="select-menu-item-heading">Releases only</span>
                <span class="description">Be notified of new releases, and when participating or @mentioned.</span>
                <span class="hidden-select-button-text" data-menu-button-contents>
                  <svg class="octicon octicon-eye v-align-text-bottom" viewBox="0 0 16 16" version="1.1" width="16" height="16" aria-hidden="true"><path fill-rule="evenodd" d="M8.06 2C3 2 0 8 0 8s3 6 8.06 6C13 14 16 8 16 8s-3-6-7.94-6zM8 12c-2.2 0-4-1.78-4-4 0-2.2 1.8-4 4-4 2.22 0 4 1.8 4 4 0 2.22-1.78 4-4 4zm2-4c0 1.11-.89 2-2 2-1.11 0-2-.89-2-2 0-1.11.89-2 2-2 1.11 0 2 .89 2 2z"/></svg>
                  Unwatch releases
                </span>
              </div>
            </button>

            <button type="submit" name="do" value="subscribed" class="select-menu-item width-full" aria-checked="true" role="menuitemradio">
              <svg class="octicon octicon-check select-menu-item-icon" viewBox="0 0 12 16" version="1.1" width="12" height="16" aria-hidden="true"><path fill-rule="evenodd" d="M12 5l-8 8-4-4 1.5-1.5L4 10l6.5-6.5L12 5z"/></svg>
              <div class="select-menu-item-text">
                <span class="select-menu-item-heading">Watching</span>
                <span class="description">Be notified of all conversations.</span>
                <span class="hidden-select-button-text" data-menu-button-contents>
                  <svg class="octicon octicon-eye v-align-text-bottom" viewBox="0 0 16 16" version="1.1" width="16" height="16" aria-hidden="true"><path fill-rule="evenodd" d="M8.06 2C3 2 0 8 0 8s3 6 8.06 6C13 14 16 8 16 8s-3-6-7.94-6zM8 12c-2.2 0-4-1.78-4-4 0-2.2 1.8-4 4-4 2.22 0 4 1.8 4 4 0 2.22-1.78 4-4 4zm2-4c0 1.11-.89 2-2 2-1.11 0-2-.89-2-2 0-1.11.89-2 2-2 1.11 0 2 .89 2 2z"/></svg>
                  Unwatch
                </span>
              </div>
            </button>

            <button type="submit" name="do" value="ignore" class="select-menu-item width-full" aria-checked="false" role="menuitemradio">
              <svg class="octicon octicon-check select-menu-item-icon" viewBox="0 0 12 16" version="1.1" width="12" height="16" aria-hidden="true"><path fill-rule="evenodd" d="M12 5l-8 8-4-4 1.5-1.5L4 10l6.5-6.5L12 5z"/></svg>
              <div class="select-menu-item-text">
                <span class="select-menu-item-heading">Ignoring</span>
                <span class="description">Never be notified.</span>
                <span class="hidden-select-button-text" data-menu-button-contents>
                  <svg class="octicon octicon-mute v-align-text-bottom" viewBox="0 0 16 16" version="1.1" width="16" height="16" aria-hidden="true"><path fill-rule="evenodd" d="M8 2.81v10.38c0 .67-.81 1-1.28.53L3 10H1c-.55 0-1-.45-1-1V7c0-.55.45-1 1-1h2l3.72-3.72C7.19 1.81 8 2.14 8 2.81zm7.53 3.22l-1.06-1.06-1.97 1.97-1.97-1.97-1.06 1.06L11.44 8 9.47 9.97l1.06 1.06 1.97-1.97 1.97 1.97 1.06-1.06L13.56 8l1.97-1.97z"/></svg>
                  Stop ignoring
                </span>
              </div>
            </button>
          </div>
        </details-menu>
      </details>
        <a class="social-count js-social-count"
          href="/tbahng/ist652-final_project/watchers"
          aria-label="2 users are watching this repository">
          2
        </a>
</form>
  </li>

  <li>
      <div class="js-toggler-container js-social-container starring-container ">
    <!-- '"` --><!-- </textarea></xmp> --></option></form><form class="starred js-social-form" action="/tbahng/ist652-final_project/unstar" accept-charset="UTF-8" method="post"><input name="utf8" type="hidden" value="&#x2713;" /><input type="hidden" name="authenticity_token" value="yT0umn14KWBWM3huNKqgSK+F2l/u+dx5REsfYp3Ut24extegc+C+HZw83CTDTzv460uTABUOdWPuowGTPWz/+A==" />
      <input type="hidden" name="context" value="repository"></input>
      <button type="submit" class="btn btn-sm btn-with-count js-toggler-target" aria-label="Unstar this repository" title="Unstar tbahng/ist652-final_project" data-hydro-click="{&quot;event_type&quot;:&quot;repository.click&quot;,&quot;payload&quot;:{&quot;target&quot;:&quot;UNSTAR_BUTTON&quot;,&quot;repository_id&quot;:223665382,&quot;client_id&quot;:&quot;1643647802.1572289694&quot;,&quot;originating_request_id&quot;:&quot;D2A7:5E71:9D00D2:A18314:5DE885AC&quot;,&quot;originating_url&quot;:&quot;https://github.com/tbahng/ist652-final_project/blob/ecc04d200a3fafd6f250f9ef866d7b07ee2106e8/Final_Project_Report.ipynb&quot;,&quot;referrer&quot;:&quot;https://github.com/tbahng/ist652-final_project/tree/ecc04d200a3fafd6f250f9ef866d7b07ee2106e8&quot;,&quot;user_id&quot;:51860448}}" data-hydro-click-hmac="0ffad0bb90a31644ff55e185734e42e2b2f96c6ad7539781b9f7d04d453f127b" data-ga-click="Repository, click unstar button, action:blob#show; text:Unstar">        <svg class="octicon octicon-star v-align-text-bottom" viewBox="0 0 14 16" version="1.1" width="14" height="16" aria-hidden="true"><path fill-rule="evenodd" d="M14 6l-4.9-.64L7 1 4.9 5.36 0 6l3.6 3.26L2.67 14 7 11.67 11.33 14l-.93-4.74L14 6z"/></svg>
        Unstar
</button>        <a class="social-count js-social-count" href="/tbahng/ist652-final_project/stargazers"
           aria-label="0 users starred this repository">
           0
        </a>
</form>
    <!-- '"` --><!-- </textarea></xmp> --></option></form><form class="unstarred js-social-form" action="/tbahng/ist652-final_project/star" accept-charset="UTF-8" method="post"><input name="utf8" type="hidden" value="&#x2713;" /><input type="hidden" name="authenticity_token" value="wfswuRwd+DSbqBvvBBrAw9J/dsUJqPjVbHsanrf/E3laOJmWgTBWzyfYCxanC79zA0g8DvF+xw2rRf1E3HtX8w==" />
      <input type="hidden" name="context" value="repository"></input>
      <button type="submit" class="btn btn-sm btn-with-count js-toggler-target" aria-label="Unstar this repository" title="Star tbahng/ist652-final_project" data-hydro-click="{&quot;event_type&quot;:&quot;repository.click&quot;,&quot;payload&quot;:{&quot;target&quot;:&quot;STAR_BUTTON&quot;,&quot;repository_id&quot;:223665382,&quot;client_id&quot;:&quot;1643647802.1572289694&quot;,&quot;originating_request_id&quot;:&quot;D2A7:5E71:9D00D2:A18314:5DE885AC&quot;,&quot;originating_url&quot;:&quot;https://github.com/tbahng/ist652-final_project/blob/ecc04d200a3fafd6f250f9ef866d7b07ee2106e8/Final_Project_Report.ipynb&quot;,&quot;referrer&quot;:&quot;https://github.com/tbahng/ist652-final_project/tree/ecc04d200a3fafd6f250f9ef866d7b07ee2106e8&quot;,&quot;user_id&quot;:51860448}}" data-hydro-click-hmac="c07777ee443411bd9d4d5c8c259cf56d065a9d95d793df853d7d7fd8c59c1f32" data-ga-click="Repository, click star button, action:blob#show; text:Star">        <svg class="octicon octicon-star v-align-text-bottom" viewBox="0 0 14 16" version="1.1" width="14" height="16" aria-hidden="true"><path fill-rule="evenodd" d="M14 6l-4.9-.64L7 1 4.9 5.36 0 6l3.6 3.26L2.67 14 7 11.67 11.33 14l-.93-4.74L14 6z"/></svg>
        Star
</button>        <a class="social-count js-social-count" href="/tbahng/ist652-final_project/stargazers"
           aria-label="0 users starred this repository">
          0
        </a>
</form>  </div>

  </li>

  <li>
        <span class="btn btn-sm btn-with-count disabled tooltipped tooltipped-sw" aria-label="Cannot fork because you own this repository and are not a member of any organizations.">
          <svg class="octicon octicon-repo-forked v-align-text-bottom" viewBox="0 0 10 16" version="1.1" width="10" height="16" aria-hidden="true"><path fill-rule="evenodd" d="M8 1a1.993 1.993 0 00-1 3.72V6L5 8 3 6V4.72A1.993 1.993 0 002 1a1.993 1.993 0 00-1 3.72V6.5l3 3v1.78A1.993 1.993 0 005 15a1.993 1.993 0 001-3.72V9.5l3-3V4.72A1.993 1.993 0 008 1zM2 4.2C1.34 4.2.8 3.65.8 3c0-.65.55-1.2 1.2-1.2.65 0 1.2.55 1.2 1.2 0 .65-.55 1.2-1.2 1.2zm3 10c-.66 0-1.2-.55-1.2-1.2 0-.65.55-1.2 1.2-1.2.65 0 1.2.55 1.2 1.2 0 .65-.55 1.2-1.2 1.2zm3-10c-.66 0-1.2-.55-1.2-1.2 0-.65.55-1.2 1.2-1.2.65 0 1.2.55 1.2 1.2 0 .65-.55 1.2-1.2 1.2z"/></svg>
          Fork
</span>
    <a href="/tbahng/ist652-final_project/network/members" class="social-count"
       aria-label="0 users forked this repository">
      0
    </a>
  </li>
</ul>

      <h1 class="private ">
    <svg class="octicon octicon-lock" viewBox="0 0 12 16" version="1.1" width="12" height="16" aria-hidden="true"><path fill-rule="evenodd" d="M4 13H3v-1h1v1zm8-6v7c0 .55-.45 1-1 1H1c-.55 0-1-.45-1-1V7c0-.55.45-1 1-1h1V4c0-2.2 1.8-4 4-4s4 1.8 4 4v2h1c.55 0 1 .45 1 1zM3.8 6h4.41V4c0-1.22-.98-2.2-2.2-2.2-1.22 0-2.2.98-2.2 2.2v2H3.8zM11 7H2v7h9V7zM4 8H3v1h1V8zm0 2H3v1h1v-1z"/></svg>
  <span class="author" itemprop="author"><a class="url fn" rel="author" data-hovercard-type="user" data-hovercard-url="/users/tbahng/hovercard" data-octo-click="hovercard-link-click" data-octo-dimensions="link_type:self" href="/tbahng">tbahng</a></span><!--
--><span class="path-divider">/</span><!--
--><strong itemprop="name"><a data-pjax="#js-repo-pjax-container" href="/tbahng/ist652-final_project">ist652-final_project</a></strong>
  <span class="Label Label--outline v-align-middle ">Private</span>

</h1>

    </div>
    
<nav class="hx_reponav reponav js-repo-nav js-sidenav-container-pjax container-lg p-responsive d-none d-lg-block"
     itemscope
     itemtype="http://schema.org/BreadcrumbList"
    aria-label="Repository"
     data-pjax="#js-repo-pjax-container">

  <span itemscope itemtype="http://schema.org/ListItem" itemprop="itemListElement">
    <a class="js-selected-navigation-item selected reponav-item" itemprop="url" data-hotkey="g c" aria-current="page" data-selected-links="repo_source repo_downloads repo_commits repo_releases repo_tags repo_branches repo_packages /tbahng/ist652-final_project" href="/tbahng/ist652-final_project">
      <svg class="octicon octicon-code" viewBox="0 0 14 16" version="1.1" width="14" height="16" aria-hidden="true"><path fill-rule="evenodd" d="M9.5 3L8 4.5 11.5 8 8 11.5 9.5 13 14 8 9.5 3zm-5 0L0 8l4.5 5L6 11.5 2.5 8 6 4.5 4.5 3z"/></svg>
      <span itemprop="name">Code</span>
      <meta itemprop="position" content="1">
</a>  </span>

    <span itemscope itemtype="http://schema.org/ListItem" itemprop="itemListElement">
      <a itemprop="url" data-hotkey="g i" class="js-selected-navigation-item reponav-item" data-selected-links="repo_issues repo_labels repo_milestones /tbahng/ist652-final_project/issues" href="/tbahng/ist652-final_project/issues">
        <svg class="octicon octicon-issue-opened" viewBox="0 0 14 16" version="1.1" width="14" height="16" aria-hidden="true"><path fill-rule="evenodd" d="M7 2.3c3.14 0 5.7 2.56 5.7 5.7s-2.56 5.7-5.7 5.7A5.71 5.71 0 011.3 8c0-3.14 2.56-5.7 5.7-5.7zM7 1C3.14 1 0 4.14 0 8s3.14 7 7 7 7-3.14 7-7-3.14-7-7-7zm1 3H6v5h2V4zm0 6H6v2h2v-2z"/></svg>
        <span itemprop="name">Issues</span>
        <span class="Counter">7</span>
        <meta itemprop="position" content="2">
</a>    </span>

  <span itemscope itemtype="http://schema.org/ListItem" itemprop="itemListElement">
    <a data-hotkey="g p" data-skip-pjax="true" itemprop="url" class="js-selected-navigation-item reponav-item" data-selected-links="repo_pulls checks /tbahng/ist652-final_project/pulls" href="/tbahng/ist652-final_project/pulls">
      <svg class="octicon octicon-git-pull-request" viewBox="0 0 12 16" version="1.1" width="12" height="16" aria-hidden="true"><path fill-rule="evenodd" d="M11 11.28V5c-.03-.78-.34-1.47-.94-2.06C9.46 2.35 8.78 2.03 8 2H7V0L4 3l3 3V4h1c.27.02.48.11.69.31.21.2.3.42.31.69v6.28A1.993 1.993 0 0010 15a1.993 1.993 0 001-3.72zm-1 2.92c-.66 0-1.2-.55-1.2-1.2 0-.65.55-1.2 1.2-1.2.65 0 1.2.55 1.2 1.2 0 .65-.55 1.2-1.2 1.2zM4 3c0-1.11-.89-2-2-2a1.993 1.993 0 00-1 3.72v6.56A1.993 1.993 0 002 15a1.993 1.993 0 001-3.72V4.72c.59-.34 1-.98 1-1.72zm-.8 10c0 .66-.55 1.2-1.2 1.2-.65 0-1.2-.55-1.2-1.2 0-.65.55-1.2 1.2-1.2.65 0 1.2.55 1.2 1.2zM2 4.2C1.34 4.2.8 3.65.8 3c0-.65.55-1.2 1.2-1.2.65 0 1.2.55 1.2 1.2 0 .65-.55 1.2-1.2 1.2z"/></svg>
      <span itemprop="name">Pull requests</span>
      <span class="Counter">0</span>
      <meta itemprop="position" content="3">
</a>  </span>

    <span itemscope itemtype="http://schema.org/ListItem" itemprop="itemListElement" class="position-relative float-left">
      <a data-hotkey="g w" data-skip-pjax="true" class="js-selected-navigation-item reponav-item" data-selected-links="repo_actions /tbahng/ist652-final_project/actions" href="/tbahng/ist652-final_project/actions">
        <svg class="octicon octicon-play" viewBox="0 0 14 16" version="1.1" width="14" height="16" aria-hidden="true"><path fill-rule="evenodd" d="M14 8A7 7 0 110 8a7 7 0 0114 0zm-8.223 3.482l4.599-3.066a.5.5 0 000-.832L5.777 4.518A.5.5 0 005 4.934v6.132a.5.5 0 00.777.416z"/></svg>
        Actions
</a>
    </span>

    <a data-hotkey="g b" class="js-selected-navigation-item reponav-item" data-selected-links="repo_projects new_repo_project repo_project /tbahng/ist652-final_project/projects" href="/tbahng/ist652-final_project/projects">
      <svg class="octicon octicon-project" viewBox="0 0 15 16" version="1.1" width="15" height="16" aria-hidden="true"><path fill-rule="evenodd" d="M10 12h3V2h-3v10zm-4-2h3V2H6v8zm-4 4h3V2H2v12zm-1 1h13V1H1v14zM14 0H1a1 1 0 00-1 1v14a1 1 0 001 1h13a1 1 0 001-1V1a1 1 0 00-1-1z"/></svg>
      Projects
      <span class="Counter" >0</span>
</a>


    <a data-skip-pjax="true" class="js-selected-navigation-item reponav-item" data-selected-links="security alerts policy code_scanning /tbahng/ist652-final_project/network/alerts" href="/tbahng/ist652-final_project/network/alerts">
      <svg class="octicon octicon-shield" viewBox="0 0 14 16" version="1.1" width="14" height="16" aria-hidden="true"><path fill-rule="evenodd" d="M0 2l7-2 7 2v6.02C14 12.69 8.69 16 7 16c-1.69 0-7-3.31-7-7.98V2zm1 .75L7 1l6 1.75v5.268C13 12.104 8.449 15 7 15c-1.449 0-6-2.896-6-6.982V2.75zm1 .75L7 2v12c-1.207 0-5-2.482-5-5.985V3.5z"/></svg>
      Security
</a>
    <a class="js-selected-navigation-item reponav-item" data-selected-links="repo_graphs repo_contributors dependency_graph pulse people /tbahng/ist652-final_project/network/dependencies" href="/tbahng/ist652-final_project/network/dependencies">
      <svg class="octicon octicon-graph" viewBox="0 0 16 16" version="1.1" width="16" height="16" aria-hidden="true"><path fill-rule="evenodd" d="M16 14v1H0V0h1v14h15zM5 13H3V8h2v5zm4 0H7V3h2v10zm4 0h-2V6h2v7z"/></svg>
      Insights
</a>
    <a class="js-selected-navigation-item reponav-item" data-selected-links="repo_settings repo_branch_settings hooks integration_installations repo_keys_settings issue_template_editor secrets_settings key_links_settings /tbahng/ist652-final_project/settings" href="/tbahng/ist652-final_project/settings">
      <svg class="octicon octicon-gear" viewBox="0 0 14 16" version="1.1" width="14" height="16" aria-hidden="true"><path fill-rule="evenodd" d="M14 8.77v-1.6l-1.94-.64-.45-1.09.88-1.84-1.13-1.13-1.81.91-1.09-.45-.69-1.92h-1.6l-.63 1.94-1.11.45-1.84-.88-1.13 1.13.91 1.81-.45 1.09L0 7.23v1.59l1.94.64.45 1.09-.88 1.84 1.13 1.13 1.81-.91 1.09.45.69 1.92h1.59l.63-1.94 1.11-.45 1.84.88 1.13-1.13-.92-1.81.47-1.09L14 8.75v.02zM7 11c-1.66 0-3-1.34-3-3s1.34-3 3-3 3 1.34 3 3-1.34 3-3 3z"/></svg>
      Settings
</a>
</nav>

  <div class="reponav-wrapper reponav-small d-lg-none">
  <nav class="reponav js-reponav text-center no-wrap"
       itemscope
       itemtype="http://schema.org/BreadcrumbList">

    <span itemscope itemtype="http://schema.org/ListItem" itemprop="itemListElement">
      <a class="js-selected-navigation-item selected reponav-item" itemprop="url" aria-current="page" data-selected-links="repo_source repo_downloads repo_commits repo_releases repo_tags repo_branches repo_packages /tbahng/ist652-final_project" href="/tbahng/ist652-final_project">
        <span itemprop="name">Code</span>
        <meta itemprop="position" content="1">
</a>    </span>

      <span itemscope itemtype="http://schema.org/ListItem" itemprop="itemListElement">
        <a itemprop="url" class="js-selected-navigation-item reponav-item" data-selected-links="repo_issues repo_labels repo_milestones /tbahng/ist652-final_project/issues" href="/tbahng/ist652-final_project/issues">
          <span itemprop="name">Issues</span>
          <span class="Counter">7</span>
          <meta itemprop="position" content="2">
</a>      </span>

    <span itemscope itemtype="http://schema.org/ListItem" itemprop="itemListElement">
      <a itemprop="url" class="js-selected-navigation-item reponav-item" data-selected-links="repo_pulls checks /tbahng/ist652-final_project/pulls" href="/tbahng/ist652-final_project/pulls">
        <span itemprop="name">Pull requests</span>
        <span class="Counter">0</span>
        <meta itemprop="position" content="3">
</a>    </span>

      <span itemscope itemtype="http://schema.org/ListItem" itemprop="itemListElement">
        <a itemprop="url" class="js-selected-navigation-item reponav-item" data-selected-links="repo_projects new_repo_project repo_project /tbahng/ist652-final_project/projects" href="/tbahng/ist652-final_project/projects">
          <span itemprop="name">Projects</span>
          <span class="Counter">0</span>
          <meta itemprop="position" content="4">
</a>      </span>


      <a itemprop="url" class="js-selected-navigation-item reponav-item" data-selected-links="security alerts policy code_scanning /tbahng/ist652-final_project/network/alerts" href="/tbahng/ist652-final_project/network/alerts">
        <span itemprop="name">Security</span>
        <meta itemprop="position" content="6">
</a>


  </nav>
</div>


  </div>
<div class="container-lg clearfix new-discussion-timeline experiment-repo-nav  p-responsive">
  <div class="repository-content ">

    
    


  


    <a class="d-none js-permalink-shortcut" data-hotkey="y" href="/tbahng/ist652-final_project/blob/ecc04d200a3fafd6f250f9ef866d7b07ee2106e8/Final_Project_Report.ipynb">Permalink</a>

    <!-- blob contrib key: blob_contributors:v21:997d574fa99a901283e1c5041c0e43fe -->
      

    <div class="d-flex flex-items-start flex-shrink-0 pb-3 flex-column flex-md-row">
      <span class="d-flex flex-justify-between width-full width-md-auto">
        
<details class="details-reset details-overlay select-menu branch-select-menu  hx_rsm" id="branch-select-menu">
  <summary class="btn btn-sm select-menu-button css-truncate"
           data-hotkey="w"
           title="Switch branches or tags">
    <i>Tree:</i>
    <span class="css-truncate-target" data-menu-button>ecc04d200a</span>
  </summary>

  <details-menu class="select-menu-modal hx_rsm-modal position-absolute" style="z-index: 99;" src="/tbahng/ist652-final_project/ref-list/ecc04d200a3fafd6f250f9ef866d7b07ee2106e8/Final_Project_Report.ipynb?source_action=show&amp;source_controller=blob" preload>
    <include-fragment class="select-menu-loading-overlay anim-pulse">
      <svg height="32" class="octicon octicon-octoface" viewBox="0 0 16 16" version="1.1" width="32" aria-hidden="true"><path fill-rule="evenodd" d="M14.7 5.34c.13-.32.55-1.59-.13-3.31 0 0-1.05-.33-3.44 1.3-1-.28-2.07-.32-3.13-.32s-2.13.04-3.13.32c-2.39-1.64-3.44-1.3-3.44-1.3-.68 1.72-.26 2.99-.13 3.31C.49 6.21 0 7.33 0 8.69 0 13.84 3.33 15 7.98 15S16 13.84 16 8.69c0-1.36-.49-2.48-1.3-3.35zM8 14.02c-3.3 0-5.98-.15-5.98-3.35 0-.76.38-1.48 1.02-2.07 1.07-.98 2.9-.46 4.96-.46 2.07 0 3.88-.52 4.96.46.65.59 1.02 1.3 1.02 2.07 0 3.19-2.68 3.35-5.98 3.35zM5.49 9.01c-.66 0-1.2.8-1.2 1.78s.54 1.79 1.2 1.79c.66 0 1.2-.8 1.2-1.79s-.54-1.78-1.2-1.78zm5.02 0c-.66 0-1.2.79-1.2 1.78s.54 1.79 1.2 1.79c.66 0 1.2-.8 1.2-1.79s-.53-1.78-1.2-1.78z"/></svg>
    </include-fragment>
  </details-menu>
</details>

        <div class="BtnGroup flex-shrink-0 d-md-none">
          <a href="/tbahng/ist652-final_project/find/ecc04d200a3fafd6f250f9ef866d7b07ee2106e8"
                class="js-pjax-capture-input btn btn-sm BtnGroup-item"
                data-pjax
                data-hotkey="t">
            Find file
          </a>
          <clipboard-copy value="Final_Project_Report.ipynb" class="btn btn-sm BtnGroup-item">
            Copy path
          </clipboard-copy>
        </div>
      </span>
      <h2 id="blob-path" class="breadcrumb flex-auto min-width-0 text-normal flex-md-self-center ml-md-2 mr-md-3 my-2 my-md-0">
        <span class="js-repo-root text-bold"><span class="js-path-segment"><a data-pjax="true" rel="nofollow" href="/tbahng/ist652-final_project/tree/ecc04d200a3fafd6f250f9ef866d7b07ee2106e8"><span>ist652-final_project</span></a></span></span><span class="separator">/</span><strong class="final-path">Final_Project_Report.ipynb</strong>
      </h2>

      <div class="BtnGroup flex-shrink-0 d-none d-md-inline-block">
        <a href="/tbahng/ist652-final_project/find/ecc04d200a3fafd6f250f9ef866d7b07ee2106e8"
              class="js-pjax-capture-input btn btn-sm BtnGroup-item"
              data-pjax
              data-hotkey="t">
          Find file
        </a>
        <clipboard-copy value="Final_Project_Report.ipynb" class="btn btn-sm BtnGroup-item">
          Copy path
        </clipboard-copy>
      </div>
    </div>

    



    
  <div class="Box Box--condensed d-flex flex-column flex-shrink-0">
      <div class="Box-body d-flex flex-justify-between bg-blue-light flex-column flex-md-row flex-items-start flex-md-items-center">
        <span class="pr-md-4 f6">
          <a rel="contributor" data-skip-pjax="true" data-hovercard-type="user" data-hovercard-url="/users/mengsynn/hovercard" data-octo-click="hovercard-link-click" data-octo-dimensions="link_type:self" href="/mengsynn"><img class="avatar" src="https://avatars1.githubusercontent.com/u/6126472?s=40&amp;v=4" width="20" height="20" alt="@mengsynn" /></a>
          <a class="text-bold link-gray-dark lh-default v-align-middle" rel="contributor" data-hovercard-type="user" data-hovercard-url="/users/mengsynn/hovercard" data-octo-click="hovercard-link-click" data-octo-dimensions="link_type:self" href="/mengsynn">mengsynn</a>
            <span class="lh-default v-align-middle">
              <a data-pjax="true" title="Update Final_Project_Report.ipynb" class="link-gray" href="/tbahng/ist652-final_project/commit/ecc04d200a3fafd6f250f9ef866d7b07ee2106e8">Update Final_Project_Report.ipynb</a>
            </span>
        </span>
        <span class="d-inline-block flex-shrink-0 v-align-bottom f6 mt-2 mt-md-0">
          <a class="pr-2 text-mono link-gray" href="/tbahng/ist652-final_project/commit/ecc04d200a3fafd6f250f9ef866d7b07ee2106e8" data-pjax>ecc04d2</a>
          <relative-time datetime="2019-12-05T04:08:19Z" class="no-wrap">Dec 4, 2019</relative-time>
        </span>
      </div>

    <div class="Box-body d-flex flex-items-center flex-auto f6 border-bottom-0 flex-wrap" >
      <details class="details-reset details-overlay details-overlay-dark lh-default text-gray-dark float-left mr-2" id="blob_contributors_box">
        <summary class="btn-link">
          <span><strong>1</strong> contributor</span>
        </summary>
        <details-dialog
          class="Box Box--overlay d-flex flex-column anim-fade-in fast"
          aria-label="Users who have contributed to this file"
          src="/tbahng/ist652-final_project/contributors-list/ecc04d200a3fafd6f250f9ef866d7b07ee2106e8/Final_Project_Report.ipynb" preload>
          <div class="Box-header">
            <button class="Box-btn-octicon btn-octicon float-right" type="button" aria-label="Close dialog" data-close-dialog>
              <svg class="octicon octicon-x" viewBox="0 0 12 16" version="1.1" width="12" height="16" aria-hidden="true"><path fill-rule="evenodd" d="M7.48 8l3.75 3.75-1.48 1.48L6 9.48l-3.75 3.75-1.48-1.48L4.52 8 .77 4.25l1.48-1.48L6 6.52l3.75-3.75 1.48 1.48L7.48 8z"/></svg>
            </button>
            <h3 class="Box-title">
              Users who have contributed to this file
            </h3>
          </div>
          <include-fragment class="octocat-spinner my-3" aria-label="Loading..."></include-fragment>
        </details-dialog>
      </details>
    </div>
  </div>





    <div class="Box mt-3 position-relative">
      
<div class="Box-header py-2 d-flex flex-column flex-shrink-0 flex-md-row flex-md-items-center">
  <div class="text-mono f6 flex-auto pr-3 flex-order-2 flex-md-order-1 mt-2 mt-md-0">

      669 lines (669 sloc)
      <span class="file-info-divider"></span>
    54.9 KB
  </div>

  <div class="d-flex py-1 py-md-0 flex-auto flex-order-1 flex-md-order-2 flex-sm-grow-0 flex-justify-between">
      <div class="BtnGroup">
        <a class="btn btn-sm BtnGroup-item tooltipped tooltipped tooltipped-n source "
          href="/tbahng/ist652-final_project/blob/ecc04d200a3fafd6f250f9ef866d7b07ee2106e8/Final_Project_Report.ipynb?short_path=8ea1e54" aria-label="Display the source blob">
          <svg class="octicon octicon-code" viewBox="0 0 14 16" version="1.1" width="14" height="16" aria-hidden="true"><path fill-rule="evenodd" d="M9.5 3L8 4.5 11.5 8 8 11.5 9.5 13 14 8 9.5 3zm-5 0L0 8l4.5 5L6 11.5 2.5 8 6 4.5 4.5 3z"/></svg>
        </a>
        <a class="btn btn-sm BtnGroup-item tooltipped tooltipped-n rendered selected"
          href="/tbahng/ist652-final_project/blob/ecc04d200a3fafd6f250f9ef866d7b07ee2106e8/Final_Project_Report.ipynb" aria-label="Display the rendered blob">
          <svg class="octicon octicon-file" viewBox="0 0 12 16" version="1.1" width="12" height="16" aria-hidden="true"><path fill-rule="evenodd" d="M6 5H2V4h4v1zM2 8h7V7H2v1zm0 2h7V9H2v1zm0 2h7v-1H2v1zm10-7.5V14c0 .55-.45 1-1 1H1c-.55 0-1-.45-1-1V2c0-.55.45-1 1-1h7.5L12 4.5zM11 5L8 2H1v12h10V5z"/></svg>
        </a>
      </div>

    <div class="BtnGroup">
      <a id="raw-url" class="btn btn-sm BtnGroup-item" href="/tbahng/ist652-final_project/raw/ecc04d200a3fafd6f250f9ef866d7b07ee2106e8/Final_Project_Report.ipynb">Raw</a>
        <a class="btn btn-sm js-update-url-with-hash BtnGroup-item" data-hotkey="b" href="/tbahng/ist652-final_project/blame/ecc04d200a3fafd6f250f9ef866d7b07ee2106e8/Final_Project_Report.ipynb">Blame</a>
      <a rel="nofollow" class="btn btn-sm BtnGroup-item" href="/tbahng/ist652-final_project/commits/ecc04d200a3fafd6f250f9ef866d7b07ee2106e8/Final_Project_Report.ipynb">History</a>
    </div>


    <div>
            <button class="btn-octicon disabled tooltipped tooltipped-nw hide-sm"
               type="button"
               disabled
               aria-label="You must be on a branch to open this file in GitHub Desktop">
                <svg class="octicon octicon-device-desktop" viewBox="0 0 16 16" version="1.1" width="16" height="16" aria-hidden="true"><path fill-rule="evenodd" d="M15 2H1c-.55 0-1 .45-1 1v9c0 .55.45 1 1 1h5.34c-.25.61-.86 1.39-2.34 2h8c-1.48-.61-2.09-1.39-2.34-2H15c.55 0 1-.45 1-1V3c0-.55-.45-1-1-1zm0 9H1V3h14v8z"/></svg>
            </button>

          <button type="button" class="btn-octicon disabled tooltipped tooltipped-nw"
            aria-label="You must be on a branch to make or propose changes to this file">
            <svg class="octicon octicon-pencil" viewBox="0 0 14 16" version="1.1" width="14" height="16" aria-hidden="true"><path fill-rule="evenodd" d="M0 12v3h3l8-8-3-3-8 8zm3 2H1v-2h1v1h1v1zm10.3-9.3L12 6 9 3l1.3-1.3a.996.996 0 011.41 0l1.59 1.59c.39.39.39 1.02 0 1.41z"/></svg>
          </button>
          <button type="button" class="btn-octicon btn-octicon-danger disabled tooltipped tooltipped-nw"
            aria-label="You must be on a branch to make or propose changes to this file">
            <svg class="octicon octicon-trashcan" viewBox="0 0 12 16" version="1.1" width="12" height="16" aria-hidden="true"><path fill-rule="evenodd" d="M11 2H9c0-.55-.45-1-1-1H5c-.55 0-1 .45-1 1H2c-.55 0-1 .45-1 1v1c0 .55.45 1 1 1v9c0 .55.45 1 1 1h7c.55 0 1-.45 1-1V5c.55 0 1-.45 1-1V3c0-.55-.45-1-1-1zm-1 12H3V5h1v8h1V5h1v8h1V5h1v8h1V5h1v9zm1-10H2V3h9v1z"/></svg>
          </button>
    </div>
  </div>
</div>




      

  <div itemprop="text" class="Box-body p-0 blob-wrapper data type-jupyter-notebook ">
      
  <div class="render-wrapper ">
    <div class="render-container is-render-pending js-render-target  "
      data-identity="9ae2f05d-5784-47c8-bde9-d57cb91ccb4d"
      data-host="https://render.githubusercontent.com"
      data-type="ipynb">
      <img class="octospinner mx-auto" alt="" src="https://github.githubassets.com/images/spinners/octocat-spinner-128.gif" width="64" height="64" />
      <div class="render-viewer-error">Sorry, something went wrong. <a href="https://github.com/tbahng/ist652-final_project/blob/ecc04d200a3fafd6f250f9ef866d7b07ee2106e8/Final_Project_Report.ipynb">Reload?</a></div>
      <div class="render-viewer-fatal">Sorry, we cannot display this file.</div>
      <div class="render-viewer-invalid">Sorry, this file is invalid so it cannot be displayed.</div>
      <iframe class="render-viewer " src="https://render.githubusercontent.com/view/ipynb?commit=ecc04d200a3fafd6f250f9ef866d7b07ee2106e8&amp;enc_url=68747470733a2f2f7261772e67697468756275736572636f6e74656e742e636f6d2f746261686e672f6973743635322d66696e616c5f70726f6a6563742f656363303464323030613366616664366632353066396566383636643762303765653231303665382f46696e616c5f50726f6a6563745f5265706f72742e6970796e623f746f6b656e3d414d4c56485944355632454f48524254594a51474c504b353543433634&amp;nwo=tbahng%2Fist652-final_project&amp;path=Final_Project_Report.ipynb&amp;repository_id=223665382&amp;repository_type=Repository#9ae2f05d-5784-47c8-bde9-d57cb91ccb4d" sandbox="allow-scripts allow-same-origin allow-top-navigation" title="File display">
          Viewer requires iframe.
      </iframe>
    </div>
  </div>

  </div>

    </div>

  

  <details class="details-reset details-overlay details-overlay-dark">
    <summary data-hotkey="l" aria-label="Jump to line"></summary>
    <details-dialog class="Box Box--overlay d-flex flex-column anim-fade-in fast linejump" aria-label="Jump to line">
      <!-- '"` --><!-- </textarea></xmp> --></option></form><form class="js-jump-to-line-form Box-body d-flex" action="" accept-charset="UTF-8" method="get"><input name="utf8" type="hidden" value="&#x2713;" />
        <input class="form-control flex-auto mr-3 linejump-input js-jump-to-line-field" type="text" placeholder="Jump to line&hellip;" aria-label="Jump to line" autofocus>
        <button type="submit" class="btn" data-close-dialog>Go</button>
</form>    </details-dialog>
  </details>



  </div>
</div>

    </main>
  </div>
  

  </div>

        
<div class="footer container-lg width-full p-responsive" role="contentinfo">
  <div class="position-relative d-flex flex-row-reverse flex-lg-row flex-wrap flex-lg-nowrap flex-justify-center flex-lg-justify-between pt-6 pb-2 mt-6 f6 text-gray border-top border-gray-light ">
    <ul class="list-style-none d-flex flex-wrap col-12 col-lg-5 flex-justify-center flex-lg-justify-between mb-2 mb-lg-0">
      <li class="mr-3 mr-lg-0">&copy; 2019 GitHub, Inc.</li>
        <li class="mr-3 mr-lg-0"><a data-ga-click="Footer, go to terms, text:terms" href="https://github.com/site/terms">Terms</a></li>
        <li class="mr-3 mr-lg-0"><a data-ga-click="Footer, go to privacy, text:privacy" href="https://github.com/site/privacy">Privacy</a></li>
        <li class="mr-3 mr-lg-0"><a data-ga-click="Footer, go to security, text:security" href="https://github.com/security">Security</a></li>
        <li class="mr-3 mr-lg-0"><a href="https://githubstatus.com/" data-ga-click="Footer, go to status, text:status">Status</a></li>
        <li><a data-ga-click="Footer, go to help, text:help" href="https://help.github.com">Help</a></li>
    </ul>

    <a aria-label="Homepage" title="GitHub" class="footer-octicon d-none d-lg-block mx-lg-4" href="https://github.com">
      <svg height="24" class="octicon octicon-mark-github" viewBox="0 0 16 16" version="1.1" width="24" aria-hidden="true"><path fill-rule="evenodd" d="M8 0C3.58 0 0 3.58 0 8c0 3.54 2.29 6.53 5.47 7.59.4.07.55-.17.55-.38 0-.19-.01-.82-.01-1.49-2.01.37-2.53-.49-2.69-.94-.09-.23-.48-.94-.82-1.13-.28-.15-.68-.52-.01-.53.63-.01 1.08.58 1.23.82.72 1.21 1.87.87 2.33.66.07-.52.28-.87.51-1.07-1.78-.2-3.64-.89-3.64-3.95 0-.87.31-1.59.82-2.15-.08-.2-.36-1.02.08-2.12 0 0 .67-.21 2.2.82.64-.18 1.32-.27 2-.27.68 0 1.36.09 2 .27 1.53-1.04 2.2-.82 2.2-.82.44 1.1.16 1.92.08 2.12.51.56.82 1.27.82 2.15 0 3.07-1.87 3.75-3.65 3.95.29.25.54.73.54 1.48 0 1.07-.01 1.93-.01 2.2 0 .21.15.46.55.38A8.013 8.013 0 0016 8c0-4.42-3.58-8-8-8z"/></svg>
</a>
   <ul class="list-style-none d-flex flex-wrap col-12 col-lg-5 flex-justify-center flex-lg-justify-between mb-2 mb-lg-0">
        <li class="mr-3 mr-lg-0"><a data-ga-click="Footer, go to contact, text:contact" href="https://github.com/contact">Contact GitHub</a></li>
        <li class="mr-3 mr-lg-0"><a href="https://github.com/pricing" data-ga-click="Footer, go to Pricing, text:Pricing">Pricing</a></li>
      <li class="mr-3 mr-lg-0"><a href="https://developer.github.com" data-ga-click="Footer, go to api, text:api">API</a></li>
      <li class="mr-3 mr-lg-0"><a href="https://training.github.com" data-ga-click="Footer, go to training, text:training">Training</a></li>
        <li class="mr-3 mr-lg-0"><a href="https://github.blog" data-ga-click="Footer, go to blog, text:blog">Blog</a></li>
        <li><a data-ga-click="Footer, go to about, text:about" href="https://github.com/about">About</a></li>

    </ul>
  </div>
  <div class="d-flex flex-justify-center pb-6">
    <span class="f6 text-gray-light"></span>
  </div>
</div>



  <div id="ajax-error-message" class="ajax-error-message flash flash-error">
    <svg class="octicon octicon-alert" viewBox="0 0 16 16" version="1.1" width="16" height="16" aria-hidden="true"><path fill-rule="evenodd" d="M8.893 1.5c-.183-.31-.52-.5-.887-.5s-.703.19-.886.5L.138 13.499a.98.98 0 000 1.001c.193.31.53.501.886.501h13.964c.367 0 .704-.19.877-.5a1.03 1.03 0 00.01-1.002L8.893 1.5zm.133 11.497H6.987v-2.003h2.039v2.003zm0-3.004H6.987V5.987h2.039v4.006z"/></svg>
    <button type="button" class="flash-close js-ajax-error-dismiss" aria-label="Dismiss error">
      <svg class="octicon octicon-x" viewBox="0 0 12 16" version="1.1" width="12" height="16" aria-hidden="true"><path fill-rule="evenodd" d="M7.48 8l3.75 3.75-1.48 1.48L6 9.48l-3.75 3.75-1.48-1.48L4.52 8 .77 4.25l1.48-1.48L6 6.52l3.75-3.75 1.48 1.48L7.48 8z"/></svg>
    </button>
    You can’t perform that action at this time.
  </div>


    <script crossorigin="anonymous" integrity="sha512-mdrBasYG+QjgS391PSyVkPr06io3gWplCVbPscguetNEHxIEt+mZwCeCxPR9eMNfda6qNuibNFqBo5ak2+O/hg==" type="application/javascript" src="https://github.githubassets.com/assets/compat-bootstrap-99dac16a.js"></script>
    <script crossorigin="anonymous" integrity="sha512-70iNd/Gg+yLXPhfcelP5Zr8W3AA2fp2GsH2O/ZLbKoNOS51UGEKF/twbq+aS7x15R9F80cENGrgErdVG5frxqQ==" type="application/javascript" src="https://github.githubassets.com/assets/frameworks-ef488d77.js"></script>
    
    <script crossorigin="anonymous" async="async" integrity="sha512-TaQa4aAzMoNdKy9m5YYU7UICMKMOD3xycYuovjVypz3p/7556g3yNbQH4v07yUtDRgmNYeLcfBMomUoJF9RRUw==" type="application/javascript" src="https://github.githubassets.com/assets/github-bootstrap-4da41ae1.js"></script>
    
    
    
  <div class="js-stale-session-flash flash flash-warn flash-banner" hidden
    >
    <svg class="octicon octicon-alert" viewBox="0 0 16 16" version="1.1" width="16" height="16" aria-hidden="true"><path fill-rule="evenodd" d="M8.893 1.5c-.183-.31-.52-.5-.887-.5s-.703.19-.886.5L.138 13.499a.98.98 0 000 1.001c.193.31.53.501.886.501h13.964c.367 0 .704-.19.877-.5a1.03 1.03 0 00.01-1.002L8.893 1.5zm.133 11.497H6.987v-2.003h2.039v2.003zm0-3.004H6.987V5.987h2.039v4.006z"/></svg>
    <span class="js-stale-session-flash-signed-in" hidden>You signed in with another tab or window. <a href="">Reload</a> to refresh your session.</span>
    <span class="js-stale-session-flash-signed-out" hidden>You signed out in another tab or window. <a href="">Reload</a> to refresh your session.</span>
  </div>
  <template id="site-details-dialog">
  <details class="details-reset details-overlay details-overlay-dark lh-default text-gray-dark hx_rsm" open>
    <summary role="button" aria-label="Close dialog"></summary>
    <details-dialog class="Box Box--overlay d-flex flex-column anim-fade-in fast hx_rsm-dialog hx_rsm-modal">
      <button class="Box-btn-octicon m-0 btn-octicon position-absolute right-0 top-0" type="button" aria-label="Close dialog" data-close-dialog>
        <svg class="octicon octicon-x" viewBox="0 0 12 16" version="1.1" width="12" height="16" aria-hidden="true"><path fill-rule="evenodd" d="M7.48 8l3.75 3.75-1.48 1.48L6 9.48l-3.75 3.75-1.48-1.48L4.52 8 .77 4.25l1.48-1.48L6 6.52l3.75-3.75 1.48 1.48L7.48 8z"/></svg>
      </button>
      <div class="octocat-spinner my-6 js-details-dialog-spinner"></div>
    </details-dialog>
  </details>
</template>

  <div class="Popover js-hovercard-content position-absolute" style="display: none; outline: none;" tabindex="0">
  <div class="Popover-message Popover-message--bottom-left Popover-message--large Box box-shadow-large" style="width:360px;">
  </div>
</div>

  <div aria-live="polite" class="js-global-screen-reader-notice sr-only"></div>

  </body>
</html>

>>>>>>> cfafaebadce215d67b2d5e5a2e8de56eb19d0209
