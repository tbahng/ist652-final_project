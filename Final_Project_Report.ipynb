{
 "cells": [
  {
   "cell_type": "markdown",
   "metadata": {},
   "source": [
    "# IST 652 Final Project - A Pantheon Exploration"
   ]
  },
  {
   "cell_type": "markdown",
   "metadata": {},
   "source": [
    "# Introduction\n",
    "\n",
    "Recorded human history has only been around for 5000 years. By understanding the makeup of Pantheon, all persons today both young and old are enriched with the knowledge of global, scientific and cultural development of humanity. The meaning of the word *Pantheon* describes a group of particularly respected, famous, or important people. Over the course of human history there have been thousands of such individuals that have made an impact on society. Due to the information age that began in the latter part of the 20th century, people all over the world now have access to the same biographies of these individuals through Wikipedia in multiple languages. What was once information of limited accessibility and supply, shelved in remote libraries, is now conveniently made available through this medium.\n",
    "\n",
    "Credit goes to the Macro Connections group at the Massachusetts Institute of Technology Media Lab and their [Pantheon Project](https://www.kaggle.com/mit/pantheon-project). Not only was a Pantheon index made available to the general public, but a popularity index was created as well. One \"barrier to entry\" to this content is the number of languages available for each article. This is a key measure in determining the popularity of individuals in the Pantheon. \"The simpler of the two measures, which we denote as L, is the number of different Wikipedia language editions that have an article about a historical character. The more sophisticated measure, which we name the Historical Popularity Index (HPI) corrects L by adding information on the age of the historical character, the concentration of page views among different languages, the coefficient of variation in page views, and the number of page views in languages other than English.\" [https://www.kaggle.com/mit/pantheon-project](https://www.kaggle.com/mit/pantheon-project)\n",
    "\n",
    "The significance of historical figures may be debatable, but this report seeks to apply an objective measure of popularity to better understand how biographies of the Pantheon is being consumed in the current day and age. From Aristotle to Benjamin Franklin, Jesus Christ to Al Pacino, historical figures and their attributes will be measured with web analytics so that the reader may have insights into the following:\n",
    "\n",
    "Research questions:\n",
    "\n",
    "* Which historic characters are the most popular?\n",
    "* When did they live and where are they from?\n",
    "* What factors could have generated their popularity?\n",
    "* Are there any observable trends in the categorical data provided?\n",
    "* What clusters and groupings are in the data? How do groups compare in popularity?"
   ]
  },
  {
   "cell_type": "markdown",
   "metadata": {},
   "source": [
    "# Analysis\n",
    "\n",
    "Key analysis methods used in report:\n",
    "* Data Cleaning\n",
    "* Sorting and subsets of the data.\n",
    "* Line and bar plots.\n",
    "* Multiple regression"
   ]
  },
  {
   "cell_type": "markdown",
   "metadata": {},
   "source": [
    "## About the Data"
   ]
  },
  {
   "cell_type": "code",
   "execution_count": 1,
   "metadata": {},
   "outputs": [],
   "source": [
    "import os\n",
    "import pandas as pd\n",
    "import numpy as np\n",
    "import matplotlib\n",
    "import matplotlib.pyplot as plt\n",
    "import seaborn as sn"
   ]
  },
  {
   "cell_type": "code",
   "execution_count": 2,
   "metadata": {},
   "outputs": [],
   "source": [
    "# Loading data from .csv file\n",
    "dataFileName = \"data/database.csv\"\n",
    "isExist = os.path.isfile(dataFileName)\n",
    "if isExist == True:\n",
    "    dfDirtyData = pd.read_csv(dataFileName, sep=\",\", header=0)\n",
    "else:\n",
    "    print(\"File not found:\", os.getcwd())\n"
   ]
  },
  {
   "cell_type": "code",
   "execution_count": 3,
   "metadata": {},
   "outputs": [
    {
     "name": "stdout",
     "output_type": "stream",
     "text": "<class 'pandas.core.frame.DataFrame'>\nRangeIndex: 11341 entries, 0 to 11340\nData columns (total 17 columns):\narticle_id                     11341 non-null int64\nfull_name                      11341 non-null object\nsex                            11341 non-null object\nbirth_year                     11341 non-null object\ncity                           11341 non-null object\nstate                          2172 non-null object\ncountry                        11308 non-null object\ncontinent                      11311 non-null object\nlatitude                       10294 non-null float64\nlongitude                      10294 non-null float64\noccupation                     11341 non-null object\nindustry                       11341 non-null object\ndomain                         11341 non-null object\narticle_languages              11341 non-null int64\npage_views                     11341 non-null int64\naverage_views                  11341 non-null int64\nhistorical_popularity_index    11341 non-null float64\ndtypes: float64(3), int64(4), object(10)\nmemory usage: 1.5+ MB\n"
    }
   ],
   "source": [
    "# Showing inforamtion about the dataframe\n",
    "dfDirtyData.info()"
   ]
  },
  {
   "cell_type": "code",
   "execution_count": 4,
   "metadata": {},
   "outputs": [],
   "source": [
    "# Creating a varibale to hold fields for displaying purpose since not all will fit\n",
    "columnToDisplayDirtyData = ['full_name', 'sex', 'birth_year', 'country', 'occupation','historical_popularity_index']"
   ]
  },
  {
   "cell_type": "code",
   "execution_count": 5,
   "metadata": {},
   "outputs": [
    {
     "data": {
      "text/plain": "article_id                             23671899\nfull_name                                Elisha\nsex                                        Male\nbirth_year                              Unknown\ncity                                      Other\nstate                                       NaN\ncountry                                 Unknown\ncontinent                               Unknown\nlatitude                                    NaN\nlongitude                                   NaN\noccupation                     Religious Figure\nindustry                               Religion\ndomain                             Institutions\narticle_languages                            41\npage_views                              1338790\naverage_views                             32653\nhistorical_popularity_index             25.5087\nName: 1522, dtype: object"
     },
     "execution_count": 5,
     "metadata": {},
     "output_type": "execute_result"
    }
   ],
   "source": [
    "# Showing a single row of record\n",
    "dfDirtyData.loc[1522]"
   ]
  },
  {
   "cell_type": "code",
   "execution_count": 6,
   "metadata": {},
   "outputs": [
    {
     "data": {
      "text/html": "<div>\n<style scoped>\n    .dataframe tbody tr th:only-of-type {\n        vertical-align: middle;\n    }\n\n    .dataframe tbody tr th {\n        vertical-align: top;\n    }\n\n    .dataframe thead th {\n        text-align: right;\n    }\n</style>\n<table border=\"1\" class=\"dataframe\">\n  <thead>\n    <tr style=\"text-align: right;\">\n      <th></th>\n      <th>full_name</th>\n      <th>sex</th>\n      <th>birth_year</th>\n      <th>country</th>\n      <th>occupation</th>\n      <th>historical_popularity_index</th>\n    </tr>\n  </thead>\n  <tbody>\n    <tr>\n      <th>0</th>\n      <td>Aristotle</td>\n      <td>Male</td>\n      <td>-384</td>\n      <td>Greece</td>\n      <td>Philosopher</td>\n      <td>31.9938</td>\n    </tr>\n    <tr>\n      <th>1</th>\n      <td>Plato</td>\n      <td>Male</td>\n      <td>-427</td>\n      <td>Greece</td>\n      <td>Philosopher</td>\n      <td>31.9888</td>\n    </tr>\n    <tr>\n      <th>2</th>\n      <td>Jesus Christ</td>\n      <td>Male</td>\n      <td>-4</td>\n      <td>Israel</td>\n      <td>Religious Figure</td>\n      <td>31.8981</td>\n    </tr>\n    <tr>\n      <th>3</th>\n      <td>Socrates</td>\n      <td>Male</td>\n      <td>-469</td>\n      <td>Greece</td>\n      <td>Philosopher</td>\n      <td>31.6521</td>\n    </tr>\n    <tr>\n      <th>4</th>\n      <td>Alexander the Great</td>\n      <td>Male</td>\n      <td>-356</td>\n      <td>Greece</td>\n      <td>Military Personnel</td>\n      <td>31.5840</td>\n    </tr>\n  </tbody>\n</table>\n</div>",
      "text/plain": "             full_name   sex birth_year country          occupation  \\\n0            Aristotle  Male       -384  Greece         Philosopher   \n1                Plato  Male       -427  Greece         Philosopher   \n2         Jesus Christ  Male         -4  Israel    Religious Figure   \n3             Socrates  Male       -469  Greece         Philosopher   \n4  Alexander the Great  Male       -356  Greece  Military Personnel   \n\n   historical_popularity_index  \n0                      31.9938  \n1                      31.9888  \n2                      31.8981  \n3                      31.6521  \n4                      31.5840  "
     },
     "execution_count": 6,
     "metadata": {},
     "output_type": "execute_result"
    }
   ],
   "source": [
    "# Showing the first 5 rows of the data in the data frame\n",
    "dfDirtyData.loc[:,columnToDisplayDirtyData].head(5)"
   ]
  },
  {
   "cell_type": "code",
   "execution_count": 7,
   "metadata": {},
   "outputs": [
    {
     "data": {
      "text/html": "<div>\n<style scoped>\n    .dataframe tbody tr th:only-of-type {\n        vertical-align: middle;\n    }\n\n    .dataframe tbody tr th {\n        vertical-align: top;\n    }\n\n    .dataframe thead th {\n        text-align: right;\n    }\n</style>\n<table border=\"1\" class=\"dataframe\">\n  <thead>\n    <tr style=\"text-align: right;\">\n      <th></th>\n      <th>full_name</th>\n      <th>sex</th>\n      <th>birth_year</th>\n      <th>country</th>\n      <th>occupation</th>\n      <th>historical_popularity_index</th>\n    </tr>\n  </thead>\n  <tbody>\n    <tr>\n      <th>11336</th>\n      <td>Sean St Ledger</td>\n      <td>Male</td>\n      <td>1984</td>\n      <td>United Kingdom</td>\n      <td>Soccer Player</td>\n      <td>11.1346</td>\n    </tr>\n    <tr>\n      <th>11337</th>\n      <td>Saina Nehwal</td>\n      <td>Female</td>\n      <td>1990</td>\n      <td>India</td>\n      <td>Athlete</td>\n      <td>10.6122</td>\n    </tr>\n    <tr>\n      <th>11338</th>\n      <td>Rūta Meilutytė</td>\n      <td>Female</td>\n      <td>1997</td>\n      <td>Lithuania</td>\n      <td>Swimmer</td>\n      <td>10.3821</td>\n    </tr>\n    <tr>\n      <th>11339</th>\n      <td>Vladimír Weiss</td>\n      <td>Male</td>\n      <td>1989</td>\n      <td>Slovakia</td>\n      <td>Soccer Player</td>\n      <td>10.2495</td>\n    </tr>\n    <tr>\n      <th>11340</th>\n      <td>Missy Franklin</td>\n      <td>Female</td>\n      <td>1995</td>\n      <td>United States</td>\n      <td>Swimmer</td>\n      <td>9.8794</td>\n    </tr>\n  </tbody>\n</table>\n</div>",
      "text/plain": "            full_name     sex birth_year         country     occupation  \\\n11336  Sean St Ledger    Male       1984  United Kingdom  Soccer Player   \n11337    Saina Nehwal  Female       1990           India        Athlete   \n11338  Rūta Meilutytė  Female       1997       Lithuania        Swimmer   \n11339  Vladimír Weiss    Male       1989        Slovakia  Soccer Player   \n11340  Missy Franklin  Female       1995   United States        Swimmer   \n\n       historical_popularity_index  \n11336                      11.1346  \n11337                      10.6122  \n11338                      10.3821  \n11339                      10.2495  \n11340                       9.8794  "
     },
     "execution_count": 7,
     "metadata": {},
     "output_type": "execute_result"
    }
   ],
   "source": [
    "# Showing the first 5 rows of the data in the data frame\n",
    "dfDirtyData.loc[:,columnToDisplayDirtyData].tail(5)"
   ]
  },
  {
   "cell_type": "markdown",
   "metadata": {},
   "source": [
    "## Data Cleaning"
   ]
  },
  {
   "cell_type": "code",
   "execution_count": 8,
   "metadata": {},
   "outputs": [],
   "source": [
    "# Creating a new copy of a dataframe\n",
    "dfCleanData = dfDirtyData.copy()"
   ]
  },
  {
   "cell_type": "code",
   "execution_count": 9,
   "metadata": {},
   "outputs": [],
   "source": [
    "# Renaming historical_popularity_index to popularity (short name)\n",
    "dfCleanData.rename(columns={'historical_popularity_index': 'popularity'}, inplace=True)"
   ]
  },
  {
   "cell_type": "code",
   "execution_count": 10,
   "metadata": {},
   "outputs": [],
   "source": [
    "# Finding the index of a column with alpha numberic values.\n",
    "def findStringValueIndex(fieldName):\n",
    "    badRowIndex = [] # initialize list of problematic rows\n",
    "    for idx, value in enumerate(dfCleanData[fieldName]):\n",
    "        try:\n",
    "            int(value)\n",
    "        except:\n",
    "            badRowIndex.append(idx)\n",
    "    return badRowIndex"
   ]
  },
  {
   "cell_type": "code",
   "execution_count": 11,
   "metadata": {},
   "outputs": [],
   "source": [
    "# List of columns to be converted into numeric data type\n",
    "columnToConvert = [\"article_languages\", \"birth_year\", \"latitude\", \"longitude\", \"page_views\",\"average_views\", \"popularity\"]\n",
    "# Making sure to replace the non-numeric values to 0 before converting to numeric\n",
    "# Examples: \n",
    "#           dfCleanData.loc[findStringValueIndex('latitude'), 'latitude'] = 0\n",
    "# The following code block is doing similiar to the examples but \n",
    "# through the iteration of the list \n",
    "for col in columnToConvert:\n",
    "    indx = []\n",
    "    indx = findStringValueIndex(col)\n",
    "    if len(indx) > 0 :\n",
    "        dfCleanData.loc[indx, col] = 0\n",
    "# Converting the columns above to numeric data type\n",
    "dfCleanData[columnToConvert] = dfCleanData[columnToConvert].apply(pd.to_numeric)"
   ]
  },
  {
   "cell_type": "code",
   "execution_count": 12,
   "metadata": {},
   "outputs": [],
   "source": [
    "# Looping through columns in the dataframe. \n",
    "# Replacing columns values with 'object' data type from 'NaN' to 'NA'\n",
    "for column in dfCleanData.columns:\n",
    "    if(dfCleanData[column].dtype == 'object'):\n",
    "          dfCleanData[column].fillna(value=\"NA\", inplace=True)"
   ]
  },
  {
   "cell_type": "code",
   "execution_count": 13,
   "metadata": {},
   "outputs": [
    {
     "name": "stdout",
     "output_type": "stream",
     "text": "<class 'pandas.core.frame.DataFrame'>\nRangeIndex: 11341 entries, 0 to 11340\nData columns (total 17 columns):\narticle_id           11341 non-null int64\nfull_name            11341 non-null object\nsex                  11341 non-null object\nbirth_year           11341 non-null int64\ncity                 11341 non-null object\nstate                11341 non-null object\ncountry              11341 non-null object\ncontinent            11341 non-null object\nlatitude             11341 non-null float64\nlongitude            11341 non-null float64\noccupation           11341 non-null object\nindustry             11341 non-null object\ndomain               11341 non-null object\narticle_languages    11341 non-null int64\npage_views           11341 non-null int64\naverage_views        11341 non-null int64\npopularity           11341 non-null float64\ndtypes: float64(3), int64(5), object(9)\nmemory usage: 1.5+ MB\n"
    }
   ],
   "source": [
    "# Showing inforamtion about the dataframe\n",
    "dfCleanData.info()"
   ]
  },
  {
   "cell_type": "code",
   "execution_count": 14,
   "metadata": {},
   "outputs": [],
   "source": [
    "# Creating a varibale to hold fields for displaying purpose since not all will fit\n",
    "columnToDisplayCleanData = ['full_name', 'sex', 'birth_year', 'country', 'industry','domain','occupation','popularity']"
   ]
  },
  {
   "cell_type": "code",
   "execution_count": 15,
   "metadata": {},
   "outputs": [
    {
     "data": {
      "text/html": "<div>\n<style scoped>\n    .dataframe tbody tr th:only-of-type {\n        vertical-align: middle;\n    }\n\n    .dataframe tbody tr th {\n        vertical-align: top;\n    }\n\n    .dataframe thead th {\n        text-align: right;\n    }\n</style>\n<table border=\"1\" class=\"dataframe\">\n  <thead>\n    <tr style=\"text-align: right;\">\n      <th></th>\n      <th>full_name</th>\n      <th>sex</th>\n      <th>birth_year</th>\n      <th>country</th>\n      <th>industry</th>\n      <th>domain</th>\n      <th>occupation</th>\n      <th>popularity</th>\n    </tr>\n  </thead>\n  <tbody>\n    <tr>\n      <th>0</th>\n      <td>Aristotle</td>\n      <td>Male</td>\n      <td>-384</td>\n      <td>Greece</td>\n      <td>Philosophy</td>\n      <td>Humanities</td>\n      <td>Philosopher</td>\n      <td>31.9938</td>\n    </tr>\n    <tr>\n      <th>1</th>\n      <td>Plato</td>\n      <td>Male</td>\n      <td>-427</td>\n      <td>Greece</td>\n      <td>Philosophy</td>\n      <td>Humanities</td>\n      <td>Philosopher</td>\n      <td>31.9888</td>\n    </tr>\n    <tr>\n      <th>2</th>\n      <td>Jesus Christ</td>\n      <td>Male</td>\n      <td>-4</td>\n      <td>Israel</td>\n      <td>Religion</td>\n      <td>Institutions</td>\n      <td>Religious Figure</td>\n      <td>31.8981</td>\n    </tr>\n    <tr>\n      <th>3</th>\n      <td>Socrates</td>\n      <td>Male</td>\n      <td>-469</td>\n      <td>Greece</td>\n      <td>Philosophy</td>\n      <td>Humanities</td>\n      <td>Philosopher</td>\n      <td>31.6521</td>\n    </tr>\n    <tr>\n      <th>4</th>\n      <td>Alexander the Great</td>\n      <td>Male</td>\n      <td>-356</td>\n      <td>Greece</td>\n      <td>Military</td>\n      <td>Institutions</td>\n      <td>Military Personnel</td>\n      <td>31.5840</td>\n    </tr>\n  </tbody>\n</table>\n</div>",
      "text/plain": "             full_name   sex  birth_year country    industry        domain  \\\n0            Aristotle  Male        -384  Greece  Philosophy    Humanities   \n1                Plato  Male        -427  Greece  Philosophy    Humanities   \n2         Jesus Christ  Male          -4  Israel    Religion  Institutions   \n3             Socrates  Male        -469  Greece  Philosophy    Humanities   \n4  Alexander the Great  Male        -356  Greece    Military  Institutions   \n\n           occupation  popularity  \n0         Philosopher     31.9938  \n1         Philosopher     31.9888  \n2    Religious Figure     31.8981  \n3         Philosopher     31.6521  \n4  Military Personnel     31.5840  "
     },
     "execution_count": 15,
     "metadata": {},
     "output_type": "execute_result"
    }
   ],
   "source": [
    "# Showing the first 5 rows of the data in the dataset\n",
    "dfCleanData.loc[:,columnToDisplayCleanData].head(5)"
   ]
  },
  {
   "cell_type": "code",
   "execution_count": 16,
   "metadata": {},
   "outputs": [
    {
     "data": {
      "text/html": "<div>\n<style scoped>\n    .dataframe tbody tr th:only-of-type {\n        vertical-align: middle;\n    }\n\n    .dataframe tbody tr th {\n        vertical-align: top;\n    }\n\n    .dataframe thead th {\n        text-align: right;\n    }\n</style>\n<table border=\"1\" class=\"dataframe\">\n  <thead>\n    <tr style=\"text-align: right;\">\n      <th></th>\n      <th>full_name</th>\n      <th>sex</th>\n      <th>birth_year</th>\n      <th>country</th>\n      <th>industry</th>\n      <th>domain</th>\n      <th>occupation</th>\n      <th>popularity</th>\n    </tr>\n  </thead>\n  <tbody>\n    <tr>\n      <th>11336</th>\n      <td>Sean St Ledger</td>\n      <td>Male</td>\n      <td>1984</td>\n      <td>United Kingdom</td>\n      <td>Team Sports</td>\n      <td>Sports</td>\n      <td>Soccer Player</td>\n      <td>11.1346</td>\n    </tr>\n    <tr>\n      <th>11337</th>\n      <td>Saina Nehwal</td>\n      <td>Female</td>\n      <td>1990</td>\n      <td>India</td>\n      <td>Individual Sports</td>\n      <td>Sports</td>\n      <td>Athlete</td>\n      <td>10.6122</td>\n    </tr>\n    <tr>\n      <th>11338</th>\n      <td>Rūta Meilutytė</td>\n      <td>Female</td>\n      <td>1997</td>\n      <td>Lithuania</td>\n      <td>Individual Sports</td>\n      <td>Sports</td>\n      <td>Swimmer</td>\n      <td>10.3821</td>\n    </tr>\n    <tr>\n      <th>11339</th>\n      <td>Vladimír Weiss</td>\n      <td>Male</td>\n      <td>1989</td>\n      <td>Slovakia</td>\n      <td>Team Sports</td>\n      <td>Sports</td>\n      <td>Soccer Player</td>\n      <td>10.2495</td>\n    </tr>\n    <tr>\n      <th>11340</th>\n      <td>Missy Franklin</td>\n      <td>Female</td>\n      <td>1995</td>\n      <td>United States</td>\n      <td>Individual Sports</td>\n      <td>Sports</td>\n      <td>Swimmer</td>\n      <td>9.8794</td>\n    </tr>\n  </tbody>\n</table>\n</div>",
      "text/plain": "            full_name     sex  birth_year         country           industry  \\\n11336  Sean St Ledger    Male        1984  United Kingdom        Team Sports   \n11337    Saina Nehwal  Female        1990           India  Individual Sports   \n11338  Rūta Meilutytė  Female        1997       Lithuania  Individual Sports   \n11339  Vladimír Weiss    Male        1989        Slovakia        Team Sports   \n11340  Missy Franklin  Female        1995   United States  Individual Sports   \n\n       domain     occupation  popularity  \n11336  Sports  Soccer Player     11.1346  \n11337  Sports        Athlete     10.6122  \n11338  Sports        Swimmer     10.3821  \n11339  Sports  Soccer Player     10.2495  \n11340  Sports        Swimmer      9.8794  "
     },
     "execution_count": 16,
     "metadata": {},
     "output_type": "execute_result"
    }
   ],
   "source": [
    "# Showing the last 5 rows of the data in the dataset\n",
    "dfCleanData.loc[:,columnToDisplayCleanData].tail(5)"
   ]
  },
  {
   "cell_type": "code",
   "execution_count": 17,
   "metadata": {},
   "outputs": [],
   "source": [
    "#sn.heatmap()"
   ]
  },
  {
   "cell_type": "markdown",
   "metadata": {},
   "source": [
    "## Exploration"
   ]
  },
  {
   "cell_type": "code",
   "execution_count": 18,
   "metadata": {},
   "outputs": [
    {
     "data": {
      "text/html": "<div>\n<style scoped>\n    .dataframe tbody tr th:only-of-type {\n        vertical-align: middle;\n    }\n\n    .dataframe tbody tr th {\n        vertical-align: top;\n    }\n\n    .dataframe thead th {\n        text-align: right;\n    }\n</style>\n<table border=\"1\" class=\"dataframe\">\n  <thead>\n    <tr style=\"text-align: right;\">\n      <th></th>\n      <th></th>\n      <th>total_count</th>\n    </tr>\n    <tr>\n      <th>industry</th>\n      <th>sex</th>\n      <th></th>\n    </tr>\n  </thead>\n  <tbody>\n    <tr>\n      <th rowspan=\"2\" valign=\"top\">Activism</th>\n      <th>Female</th>\n      <td>38</td>\n    </tr>\n    <tr>\n      <th>Male</th>\n      <td>76</td>\n    </tr>\n    <tr>\n      <th rowspan=\"2\" valign=\"top\">Business</th>\n      <th>Female</th>\n      <td>4</td>\n    </tr>\n    <tr>\n      <th>Male</th>\n      <td>87</td>\n    </tr>\n    <tr>\n      <th rowspan=\"2\" valign=\"top\">Companions</th>\n      <th>Female</th>\n      <td>94</td>\n    </tr>\n    <tr>\n      <th>Male</th>\n      <td>7</td>\n    </tr>\n    <tr>\n      <th rowspan=\"2\" valign=\"top\">Computer Science</th>\n      <th>Female</th>\n      <td>1</td>\n    </tr>\n    <tr>\n      <th>Male</th>\n      <td>32</td>\n    </tr>\n    <tr>\n      <th rowspan=\"2\" valign=\"top\">Dance</th>\n      <th>Female</th>\n      <td>7</td>\n    </tr>\n    <tr>\n      <th>Male</th>\n      <td>5</td>\n    </tr>\n    <tr>\n      <th rowspan=\"2\" valign=\"top\">Design</th>\n      <th>Female</th>\n      <td>5</td>\n    </tr>\n    <tr>\n      <th>Male</th>\n      <td>122</td>\n    </tr>\n    <tr>\n      <th rowspan=\"2\" valign=\"top\">Engineering</th>\n      <th>Male</th>\n      <td>39</td>\n    </tr>\n    <tr>\n      <th>Female</th>\n      <td>1</td>\n    </tr>\n    <tr>\n      <th rowspan=\"2\" valign=\"top\">Explorers</th>\n      <th>Female</th>\n      <td>7</td>\n    </tr>\n    <tr>\n      <th>Male</th>\n      <td>95</td>\n    </tr>\n    <tr>\n      <th rowspan=\"2\" valign=\"top\">Film And Theatre</th>\n      <th>Female</th>\n      <td>504</td>\n    </tr>\n    <tr>\n      <th>Male</th>\n      <td>870</td>\n    </tr>\n    <tr>\n      <th rowspan=\"2\" valign=\"top\">Fine Arts</th>\n      <th>Female</th>\n      <td>16</td>\n    </tr>\n    <tr>\n      <th>Male</th>\n      <td>283</td>\n    </tr>\n    <tr>\n      <th rowspan=\"2\" valign=\"top\">Government</th>\n      <th>Female</th>\n      <td>178</td>\n    </tr>\n    <tr>\n      <th>Male</th>\n      <td>2527</td>\n    </tr>\n    <tr>\n      <th>History</th>\n      <th>Male</th>\n      <td>49</td>\n    </tr>\n    <tr>\n      <th rowspan=\"2\" valign=\"top\">Individual Sports</th>\n      <th>Female</th>\n      <td>115</td>\n    </tr>\n    <tr>\n      <th>Male</th>\n      <td>411</td>\n    </tr>\n    <tr>\n      <th>Invention</th>\n      <th>Male</th>\n      <td>67</td>\n    </tr>\n    <tr>\n      <th rowspan=\"2\" valign=\"top\">Language</th>\n      <th>Female</th>\n      <td>114</td>\n    </tr>\n    <tr>\n      <th>Male</th>\n      <td>885</td>\n    </tr>\n    <tr>\n      <th rowspan=\"2\" valign=\"top\">Law</th>\n      <th>Female</th>\n      <td>1</td>\n    </tr>\n    <tr>\n      <th>Male</th>\n      <td>16</td>\n    </tr>\n    <tr>\n      <th rowspan=\"2\" valign=\"top\">Math</th>\n      <th>Female</th>\n      <td>7</td>\n    </tr>\n    <tr>\n      <th>Male</th>\n      <td>154</td>\n    </tr>\n    <tr>\n      <th rowspan=\"2\" valign=\"top\">Media Personality</th>\n      <th>Female</th>\n      <td>58</td>\n    </tr>\n    <tr>\n      <th>Male</th>\n      <td>29</td>\n    </tr>\n    <tr>\n      <th rowspan=\"2\" valign=\"top\">Medicine</th>\n      <th>Female</th>\n      <td>4</td>\n    </tr>\n    <tr>\n      <th>Male</th>\n      <td>138</td>\n    </tr>\n    <tr>\n      <th rowspan=\"2\" valign=\"top\">Military</th>\n      <th>Female</th>\n      <td>4</td>\n    </tr>\n    <tr>\n      <th>Male</th>\n      <td>229</td>\n    </tr>\n    <tr>\n      <th rowspan=\"2\" valign=\"top\">Music</th>\n      <th>Male</th>\n      <td>793</td>\n    </tr>\n    <tr>\n      <th>Female</th>\n      <td>261</td>\n    </tr>\n    <tr>\n      <th rowspan=\"2\" valign=\"top\">Natural Sciences</th>\n      <th>Female</th>\n      <td>22</td>\n    </tr>\n    <tr>\n      <th>Male</th>\n      <td>714</td>\n    </tr>\n    <tr>\n      <th rowspan=\"2\" valign=\"top\">Outlaws</th>\n      <th>Female</th>\n      <td>2</td>\n    </tr>\n    <tr>\n      <th>Male</th>\n      <td>54</td>\n    </tr>\n    <tr>\n      <th rowspan=\"2\" valign=\"top\">Philosophy</th>\n      <th>Female</th>\n      <td>6</td>\n    </tr>\n    <tr>\n      <th>Male</th>\n      <td>275</td>\n    </tr>\n    <tr>\n      <th rowspan=\"2\" valign=\"top\">Religion</th>\n      <th>Female</th>\n      <td>32</td>\n    </tr>\n    <tr>\n      <th>Male</th>\n      <td>486</td>\n    </tr>\n    <tr>\n      <th rowspan=\"2\" valign=\"top\">Social Sciences</th>\n      <th>Female</th>\n      <td>8</td>\n    </tr>\n    <tr>\n      <th>Male</th>\n      <td>179</td>\n    </tr>\n    <tr>\n      <th rowspan=\"2\" valign=\"top\">Team Sports</th>\n      <th>Female</th>\n      <td>6</td>\n    </tr>\n    <tr>\n      <th>Male</th>\n      <td>1224</td>\n    </tr>\n  </tbody>\n</table>\n</div>",
      "text/plain": "                          total_count\nindustry          sex                \nActivism          Female           38\n                  Male             76\nBusiness          Female            4\n                  Male             87\nCompanions        Female           94\n                  Male              7\nComputer Science  Female            1\n                  Male             32\nDance             Female            7\n                  Male              5\nDesign            Female            5\n                  Male            122\nEngineering       Male             39\n                  Female            1\nExplorers         Female            7\n                  Male             95\nFilm And Theatre  Female          504\n                  Male            870\nFine Arts         Female           16\n                  Male            283\nGovernment        Female          178\n                  Male           2527\nHistory           Male             49\nIndividual Sports Female          115\n                  Male            411\nInvention         Male             67\nLanguage          Female          114\n                  Male            885\nLaw               Female            1\n                  Male             16\nMath              Female            7\n                  Male            154\nMedia Personality Female           58\n                  Male             29\nMedicine          Female            4\n                  Male            138\nMilitary          Female            4\n                  Male            229\nMusic             Male            793\n                  Female          261\nNatural Sciences  Female           22\n                  Male            714\nOutlaws           Female            2\n                  Male             54\nPhilosophy        Female            6\n                  Male            275\nReligion          Female           32\n                  Male            486\nSocial Sciences   Female            8\n                  Male            179\nTeam Sports       Female            6\n                  Male           1224"
     },
     "execution_count": 18,
     "metadata": {},
     "output_type": "execute_result"
    }
   ],
   "source": [
    "# Grouping total by continent and sex\n",
    "dfTotalByContinentBySex = pd.DataFrame(dfCleanData.groupby(['industry','sex'])['article_id'].count())\n",
    "dfTotalByContinentBySex .rename(columns={'article_id': 'total_count'}, inplace=True)\n",
    "dfTotalByContinentBySex.sort_values(by = ['industry'], ascending = True)"
   ]
  },
  {
   "cell_type": "code",
   "execution_count": 19,
   "metadata": {},
   "outputs": [
    {
     "data": {
      "text/html": "<div>\n<style scoped>\n    .dataframe tbody tr th:only-of-type {\n        vertical-align: middle;\n    }\n\n    .dataframe tbody tr th {\n        vertical-align: top;\n    }\n\n    .dataframe thead th {\n        text-align: right;\n    }\n</style>\n<table border=\"1\" class=\"dataframe\">\n  <thead>\n    <tr style=\"text-align: right;\">\n      <th></th>\n      <th>full_name</th>\n      <th>sex</th>\n      <th>birth_year</th>\n      <th>country</th>\n      <th>industry</th>\n      <th>domain</th>\n      <th>occupation</th>\n      <th>popularity</th>\n    </tr>\n  </thead>\n  <tbody>\n    <tr>\n      <th>8075</th>\n      <td>Joan Enric Vives Sicília</td>\n      <td>Male</td>\n      <td>1949</td>\n      <td>Spain</td>\n      <td>Religion</td>\n      <td>Institutions</td>\n      <td>Religious Figure</td>\n      <td>21.0652</td>\n    </tr>\n    <tr>\n      <th>7088</th>\n      <td>Carlos Filipe Ximenes Belo</td>\n      <td>Male</td>\n      <td>1948</td>\n      <td>Timor-Leste</td>\n      <td>Religion</td>\n      <td>Institutions</td>\n      <td>Religious Figure</td>\n      <td>22.1478</td>\n    </tr>\n    <tr>\n      <th>6449</th>\n      <td>Fethullah Gülen</td>\n      <td>Male</td>\n      <td>1941</td>\n      <td>Turkey</td>\n      <td>Religion</td>\n      <td>Institutions</td>\n      <td>Religious Figure</td>\n      <td>22.5792</td>\n    </tr>\n    <tr>\n      <th>6771</th>\n      <td>Ecumenical Patriarch Bartholomew I of Constant...</td>\n      <td>Male</td>\n      <td>1940</td>\n      <td>Turkey</td>\n      <td>Religion</td>\n      <td>Institutions</td>\n      <td>Religious Figure</td>\n      <td>22.3662</td>\n    </tr>\n    <tr>\n      <th>5974</th>\n      <td>Panchen Lama</td>\n      <td>Male</td>\n      <td>1938</td>\n      <td>Unknown</td>\n      <td>Religion</td>\n      <td>Institutions</td>\n      <td>Religious Figure</td>\n      <td>22.8645</td>\n    </tr>\n    <tr>\n      <th>4803</th>\n      <td>Ahmed Yassin</td>\n      <td>Male</td>\n      <td>1937</td>\n      <td>Israel</td>\n      <td>Religion</td>\n      <td>Institutions</td>\n      <td>Religious Figure</td>\n      <td>23.5186</td>\n    </tr>\n    <tr>\n      <th>1373</th>\n      <td>Tenzin Gyatso, 14th Dalai Lama</td>\n      <td>Male</td>\n      <td>1935</td>\n      <td>China</td>\n      <td>Religion</td>\n      <td>Institutions</td>\n      <td>Religious Figure</td>\n      <td>25.6513</td>\n    </tr>\n    <tr>\n      <th>7354</th>\n      <td>Tarcisio Cardinal Bertone</td>\n      <td>Male</td>\n      <td>1934</td>\n      <td>Italy</td>\n      <td>Religion</td>\n      <td>Institutions</td>\n      <td>Religious Figure</td>\n      <td>21.9297</td>\n    </tr>\n    <tr>\n      <th>5278</th>\n      <td>Desmond Tutu</td>\n      <td>Male</td>\n      <td>1931</td>\n      <td>South Africa</td>\n      <td>Religion</td>\n      <td>Institutions</td>\n      <td>Religious Figure</td>\n      <td>23.2407</td>\n    </tr>\n    <tr>\n      <th>6549</th>\n      <td>Patriarch Alexy II of Moscow</td>\n      <td>Male</td>\n      <td>1929</td>\n      <td>Estonia</td>\n      <td>Religion</td>\n      <td>Institutions</td>\n      <td>Religious Figure</td>\n      <td>22.5124</td>\n    </tr>\n    <tr>\n      <th>5517</th>\n      <td>Hans Küng</td>\n      <td>Male</td>\n      <td>1928</td>\n      <td>Switzerland</td>\n      <td>Religion</td>\n      <td>Institutions</td>\n      <td>Religious Figure</td>\n      <td>23.1127</td>\n    </tr>\n    <tr>\n      <th>619</th>\n      <td>Pope Benedict XVI</td>\n      <td>Male</td>\n      <td>1927</td>\n      <td>Germany</td>\n      <td>Religion</td>\n      <td>Institutions</td>\n      <td>Religious Figure</td>\n      <td>26.6853</td>\n    </tr>\n    <tr>\n      <th>6735</th>\n      <td>Yusuf al-Qaradawi</td>\n      <td>Male</td>\n      <td>1926</td>\n      <td>Egypt</td>\n      <td>Religion</td>\n      <td>Institutions</td>\n      <td>Religious Figure</td>\n      <td>22.3855</td>\n    </tr>\n    <tr>\n      <th>8398</th>\n      <td>Pope Shenouda III of Alexandria</td>\n      <td>Male</td>\n      <td>1923</td>\n      <td>Egypt</td>\n      <td>Religion</td>\n      <td>Institutions</td>\n      <td>Religious Figure</td>\n      <td>20.5925</td>\n    </tr>\n    <tr>\n      <th>6714</th>\n      <td>Sun Myung Moon</td>\n      <td>Male</td>\n      <td>1920</td>\n      <td>North Korea</td>\n      <td>Religion</td>\n      <td>Institutions</td>\n      <td>Religious Figure</td>\n      <td>22.4023</td>\n    </tr>\n    <tr>\n      <th>323</th>\n      <td>Pope John Paul II</td>\n      <td>Male</td>\n      <td>1920</td>\n      <td>Poland</td>\n      <td>Religion</td>\n      <td>Institutions</td>\n      <td>Religious Figure</td>\n      <td>27.4423</td>\n    </tr>\n    <tr>\n      <th>5574</th>\n      <td>Billy Graham</td>\n      <td>Male</td>\n      <td>1918</td>\n      <td>United States</td>\n      <td>Religion</td>\n      <td>Institutions</td>\n      <td>Religious Figure</td>\n      <td>23.0842</td>\n    </tr>\n    <tr>\n      <th>5914</th>\n      <td>Maharishi Mahesh Yogi</td>\n      <td>Male</td>\n      <td>1918</td>\n      <td>India</td>\n      <td>Religion</td>\n      <td>Institutions</td>\n      <td>Religious Figure</td>\n      <td>22.8985</td>\n    </tr>\n    <tr>\n      <th>5641</th>\n      <td>Óscar Romero</td>\n      <td>Male</td>\n      <td>1917</td>\n      <td>El Salvador</td>\n      <td>Religion</td>\n      <td>Institutions</td>\n      <td>Religious Figure</td>\n      <td>23.0442</td>\n    </tr>\n    <tr>\n      <th>1848</th>\n      <td>Pope John Paul I</td>\n      <td>Male</td>\n      <td>1912</td>\n      <td>Italy</td>\n      <td>Religion</td>\n      <td>Institutions</td>\n      <td>Religious Figure</td>\n      <td>25.2397</td>\n    </tr>\n    <tr>\n      <th>2380</th>\n      <td>Dietrich Bonhoeffer</td>\n      <td>Male</td>\n      <td>1906</td>\n      <td>Poland</td>\n      <td>Religion</td>\n      <td>Institutions</td>\n      <td>Religious Figure</td>\n      <td>24.8633</td>\n    </tr>\n    <tr>\n      <th>6538</th>\n      <td>Marcel Lefebvre</td>\n      <td>Male</td>\n      <td>1905</td>\n      <td>France</td>\n      <td>Religion</td>\n      <td>Institutions</td>\n      <td>Religious Figure</td>\n      <td>22.5230</td>\n    </tr>\n    <tr>\n      <th>5135</th>\n      <td>Faustyna Kowalska</td>\n      <td>Female</td>\n      <td>1905</td>\n      <td>Poland</td>\n      <td>Religion</td>\n      <td>Institutions</td>\n      <td>Religious Figure</td>\n      <td>23.3264</td>\n    </tr>\n    <tr>\n      <th>4571</th>\n      <td>Josemaría Escrivá de Balaguer</td>\n      <td>Male</td>\n      <td>1902</td>\n      <td>Spain</td>\n      <td>Religion</td>\n      <td>Institutions</td>\n      <td>Religious Figure</td>\n      <td>23.6439</td>\n    </tr>\n    <tr>\n      <th>1184</th>\n      <td>Ruhollah Khomeini</td>\n      <td>Male</td>\n      <td>1902</td>\n      <td>Iran</td>\n      <td>Religion</td>\n      <td>Institutions</td>\n      <td>Religious Figure</td>\n      <td>25.8295</td>\n    </tr>\n    <tr>\n      <th>1823</th>\n      <td>Pope Paul VI</td>\n      <td>Male</td>\n      <td>1897</td>\n      <td>Italy</td>\n      <td>Religion</td>\n      <td>Institutions</td>\n      <td>Religious Figure</td>\n      <td>25.2567</td>\n    </tr>\n    <tr>\n      <th>7059</th>\n      <td>A. C. Bhaktivedanta Swami Prabhupada</td>\n      <td>Male</td>\n      <td>1896</td>\n      <td>India</td>\n      <td>Religion</td>\n      <td>Institutions</td>\n      <td>Religious Figure</td>\n      <td>22.1680</td>\n    </tr>\n    <tr>\n      <th>3218</th>\n      <td>Maximilian Kolbe</td>\n      <td>Male</td>\n      <td>1894</td>\n      <td>Poland</td>\n      <td>Religion</td>\n      <td>Institutions</td>\n      <td>Religious Figure</td>\n      <td>24.3797</td>\n    </tr>\n    <tr>\n      <th>2129</th>\n      <td>Pio of Pietrelcina</td>\n      <td>Male</td>\n      <td>1887</td>\n      <td>Italy</td>\n      <td>Religion</td>\n      <td>Institutions</td>\n      <td>Religious Figure</td>\n      <td>25.0360</td>\n    </tr>\n    <tr>\n      <th>1321</th>\n      <td>Pope John XXIII</td>\n      <td>Male</td>\n      <td>1881</td>\n      <td>Italy</td>\n      <td>Religion</td>\n      <td>Institutions</td>\n      <td>Religious Figure</td>\n      <td>25.7051</td>\n    </tr>\n    <tr>\n      <th>...</th>\n      <td>...</td>\n      <td>...</td>\n      <td>...</td>\n      <td>...</td>\n      <td>...</td>\n      <td>...</td>\n      <td>...</td>\n      <td>...</td>\n    </tr>\n    <tr>\n      <th>11</th>\n      <td>Moses</td>\n      <td>Male</td>\n      <td>-1391</td>\n      <td>Egypt</td>\n      <td>Religion</td>\n      <td>Institutions</td>\n      <td>Religious Figure</td>\n      <td>30.8632</td>\n    </tr>\n    <tr>\n      <th>281</th>\n      <td>Aaron</td>\n      <td>Male</td>\n      <td>-1400</td>\n      <td>Egypt</td>\n      <td>Religion</td>\n      <td>Institutions</td>\n      <td>Religious Figure</td>\n      <td>27.6021</td>\n    </tr>\n    <tr>\n      <th>485</th>\n      <td>Sarah</td>\n      <td>Female</td>\n      <td>-1500</td>\n      <td>Unknown</td>\n      <td>Religion</td>\n      <td>Institutions</td>\n      <td>Religious Figure</td>\n      <td>26.9967</td>\n    </tr>\n    <tr>\n      <th>679</th>\n      <td>Joshua</td>\n      <td>Male</td>\n      <td>-1550</td>\n      <td>Egypt</td>\n      <td>Religion</td>\n      <td>Institutions</td>\n      <td>Religious Figure</td>\n      <td>26.5633</td>\n    </tr>\n    <tr>\n      <th>13</th>\n      <td>Abraham</td>\n      <td>Male</td>\n      <td>-1800</td>\n      <td>Unknown</td>\n      <td>Religion</td>\n      <td>Institutions</td>\n      <td>Religious Figure</td>\n      <td>30.6047</td>\n    </tr>\n    <tr>\n      <th>1188</th>\n      <td>Hagar</td>\n      <td>Female</td>\n      <td>-1800</td>\n      <td>Egypt</td>\n      <td>Religion</td>\n      <td>Institutions</td>\n      <td>Religious Figure</td>\n      <td>25.8256</td>\n    </tr>\n    <tr>\n      <th>516</th>\n      <td>Levi</td>\n      <td>Male</td>\n      <td>-1950</td>\n      <td>Unknown</td>\n      <td>Religion</td>\n      <td>Institutions</td>\n      <td>Religious Figure</td>\n      <td>26.9195</td>\n    </tr>\n    <tr>\n      <th>1885</th>\n      <td>Reuben</td>\n      <td>Male</td>\n      <td>-2000</td>\n      <td>Unknown</td>\n      <td>Religion</td>\n      <td>Institutions</td>\n      <td>Religious Figure</td>\n      <td>25.2039</td>\n    </tr>\n    <tr>\n      <th>349</th>\n      <td>Job</td>\n      <td>Male</td>\n      <td>-2300</td>\n      <td>Unknown</td>\n      <td>Religion</td>\n      <td>Institutions</td>\n      <td>Religious Figure</td>\n      <td>27.3680</td>\n    </tr>\n    <tr>\n      <th>1414</th>\n      <td>Ham</td>\n      <td>Male</td>\n      <td>-3443</td>\n      <td>Unknown</td>\n      <td>Religion</td>\n      <td>Institutions</td>\n      <td>Religious Figure</td>\n      <td>25.5995</td>\n    </tr>\n    <tr>\n      <th>482</th>\n      <td>Lot</td>\n      <td>Male</td>\n      <td>-3500</td>\n      <td>Unknown</td>\n      <td>Religion</td>\n      <td>Institutions</td>\n      <td>Religious Figure</td>\n      <td>27.0033</td>\n    </tr>\n    <tr>\n      <th>941</th>\n      <td>Seth</td>\n      <td>Male</td>\n      <td>-3500</td>\n      <td>Unknown</td>\n      <td>Religion</td>\n      <td>Institutions</td>\n      <td>Religious Figure</td>\n      <td>26.1374</td>\n    </tr>\n    <tr>\n      <th>1445</th>\n      <td>Idris</td>\n      <td>Male</td>\n      <td>-3500</td>\n      <td>Iraq</td>\n      <td>Religion</td>\n      <td>Institutions</td>\n      <td>Religious Figure</td>\n      <td>25.5718</td>\n    </tr>\n    <tr>\n      <th>1475</th>\n      <td>Saleh</td>\n      <td>Female</td>\n      <td>-3500</td>\n      <td>Yemen</td>\n      <td>Religion</td>\n      <td>Institutions</td>\n      <td>Religious Figure</td>\n      <td>25.5497</td>\n    </tr>\n    <tr>\n      <th>406</th>\n      <td>Rachel</td>\n      <td>Female</td>\n      <td>-3500</td>\n      <td>Iraq</td>\n      <td>Religion</td>\n      <td>Institutions</td>\n      <td>Religious Figure</td>\n      <td>27.2099</td>\n    </tr>\n    <tr>\n      <th>491</th>\n      <td>Shem</td>\n      <td>Male</td>\n      <td>-3500</td>\n      <td>Unknown</td>\n      <td>Religion</td>\n      <td>Institutions</td>\n      <td>Religious Figure</td>\n      <td>26.9857</td>\n    </tr>\n    <tr>\n      <th>350</th>\n      <td>Ishmael</td>\n      <td>Male</td>\n      <td>-3500</td>\n      <td>Israel</td>\n      <td>Religion</td>\n      <td>Institutions</td>\n      <td>Religious Figure</td>\n      <td>27.3675</td>\n    </tr>\n    <tr>\n      <th>684</th>\n      <td>Nimrod</td>\n      <td>Male</td>\n      <td>-3500</td>\n      <td>Unknown</td>\n      <td>Religion</td>\n      <td>Institutions</td>\n      <td>Religious Figure</td>\n      <td>26.5561</td>\n    </tr>\n    <tr>\n      <th>334</th>\n      <td>Enoch</td>\n      <td>Male</td>\n      <td>-3500</td>\n      <td>Unknown</td>\n      <td>Religion</td>\n      <td>Institutions</td>\n      <td>Religious Figure</td>\n      <td>27.4143</td>\n    </tr>\n    <tr>\n      <th>955</th>\n      <td>Absalom</td>\n      <td>Male</td>\n      <td>-3500</td>\n      <td>Palestine</td>\n      <td>Religion</td>\n      <td>Institutions</td>\n      <td>Religious Figure</td>\n      <td>26.1135</td>\n    </tr>\n    <tr>\n      <th>1125</th>\n      <td>Rebecca</td>\n      <td>Female</td>\n      <td>-3500</td>\n      <td>Unknown</td>\n      <td>Religion</td>\n      <td>Institutions</td>\n      <td>Religious Figure</td>\n      <td>25.9060</td>\n    </tr>\n    <tr>\n      <th>140</th>\n      <td>Isaac</td>\n      <td>Male</td>\n      <td>-3500</td>\n      <td>Israel</td>\n      <td>Religion</td>\n      <td>Institutions</td>\n      <td>Religious Figure</td>\n      <td>28.3556</td>\n    </tr>\n    <tr>\n      <th>159</th>\n      <td>Elijah</td>\n      <td>Male</td>\n      <td>-3500</td>\n      <td>Jordan</td>\n      <td>Religion</td>\n      <td>Institutions</td>\n      <td>Religious Figure</td>\n      <td>28.2463</td>\n    </tr>\n    <tr>\n      <th>1532</th>\n      <td>Hud</td>\n      <td>Male</td>\n      <td>-3500</td>\n      <td>Yemen</td>\n      <td>Religion</td>\n      <td>Institutions</td>\n      <td>Religious Figure</td>\n      <td>25.5019</td>\n    </tr>\n    <tr>\n      <th>1680</th>\n      <td>Miriam</td>\n      <td>Female</td>\n      <td>-3500</td>\n      <td>Egypt</td>\n      <td>Religion</td>\n      <td>Institutions</td>\n      <td>Religious Figure</td>\n      <td>25.3835</td>\n    </tr>\n    <tr>\n      <th>587</th>\n      <td>Melchizedek</td>\n      <td>Male</td>\n      <td>-3500</td>\n      <td>Unknown</td>\n      <td>Religion</td>\n      <td>Institutions</td>\n      <td>Religious Figure</td>\n      <td>26.7387</td>\n    </tr>\n    <tr>\n      <th>376</th>\n      <td>Japheth</td>\n      <td>Male</td>\n      <td>-3500</td>\n      <td>Unknown</td>\n      <td>Religion</td>\n      <td>Institutions</td>\n      <td>Religious Figure</td>\n      <td>27.2905</td>\n    </tr>\n    <tr>\n      <th>605</th>\n      <td>Esau</td>\n      <td>Male</td>\n      <td>-3500</td>\n      <td>Israel</td>\n      <td>Religion</td>\n      <td>Institutions</td>\n      <td>Religious Figure</td>\n      <td>26.7133</td>\n    </tr>\n    <tr>\n      <th>211</th>\n      <td>Methuselah</td>\n      <td>Male</td>\n      <td>-3500</td>\n      <td>Unknown</td>\n      <td>Religion</td>\n      <td>Institutions</td>\n      <td>Religious Figure</td>\n      <td>27.9189</td>\n    </tr>\n    <tr>\n      <th>1182</th>\n      <td>Joseph</td>\n      <td>Male</td>\n      <td>-3500</td>\n      <td>Israel</td>\n      <td>Religion</td>\n      <td>Institutions</td>\n      <td>Religious Figure</td>\n      <td>25.8317</td>\n    </tr>\n  </tbody>\n</table>\n<p>518 rows × 8 columns</p>\n</div>",
      "text/plain": "                                              full_name     sex  birth_year  \\\n8075                           Joan Enric Vives Sicília    Male        1949   \n7088                         Carlos Filipe Ximenes Belo    Male        1948   \n6449                                    Fethullah Gülen    Male        1941   \n6771  Ecumenical Patriarch Bartholomew I of Constant...    Male        1940   \n5974                                       Panchen Lama    Male        1938   \n4803                                       Ahmed Yassin    Male        1937   \n1373                     Tenzin Gyatso, 14th Dalai Lama    Male        1935   \n7354                          Tarcisio Cardinal Bertone    Male        1934   \n5278                                       Desmond Tutu    Male        1931   \n6549                       Patriarch Alexy II of Moscow    Male        1929   \n5517                                          Hans Küng    Male        1928   \n619                                   Pope Benedict XVI    Male        1927   \n6735                                  Yusuf al-Qaradawi    Male        1926   \n8398                    Pope Shenouda III of Alexandria    Male        1923   \n6714                                     Sun Myung Moon    Male        1920   \n323                                   Pope John Paul II    Male        1920   \n5574                                       Billy Graham    Male        1918   \n5914                              Maharishi Mahesh Yogi    Male        1918   \n5641                                       Óscar Romero    Male        1917   \n1848                                   Pope John Paul I    Male        1912   \n2380                                Dietrich Bonhoeffer    Male        1906   \n6538                                    Marcel Lefebvre    Male        1905   \n5135                                  Faustyna Kowalska  Female        1905   \n4571                      Josemaría Escrivá de Balaguer    Male        1902   \n1184                                  Ruhollah Khomeini    Male        1902   \n1823                                       Pope Paul VI    Male        1897   \n7059               A. C. Bhaktivedanta Swami Prabhupada    Male        1896   \n3218                                   Maximilian Kolbe    Male        1894   \n2129                                 Pio of Pietrelcina    Male        1887   \n1321                                    Pope John XXIII    Male        1881   \n...                                                 ...     ...         ...   \n11                                                Moses    Male       -1391   \n281                                               Aaron    Male       -1400   \n485                                               Sarah  Female       -1500   \n679                                              Joshua    Male       -1550   \n13                                              Abraham    Male       -1800   \n1188                                              Hagar  Female       -1800   \n516                                                Levi    Male       -1950   \n1885                                             Reuben    Male       -2000   \n349                                                 Job    Male       -2300   \n1414                                                Ham    Male       -3443   \n482                                                 Lot    Male       -3500   \n941                                                Seth    Male       -3500   \n1445                                              Idris    Male       -3500   \n1475                                              Saleh  Female       -3500   \n406                                              Rachel  Female       -3500   \n491                                                Shem    Male       -3500   \n350                                             Ishmael    Male       -3500   \n684                                              Nimrod    Male       -3500   \n334                                               Enoch    Male       -3500   \n955                                             Absalom    Male       -3500   \n1125                                            Rebecca  Female       -3500   \n140                                               Isaac    Male       -3500   \n159                                              Elijah    Male       -3500   \n1532                                                Hud    Male       -3500   \n1680                                             Miriam  Female       -3500   \n587                                         Melchizedek    Male       -3500   \n376                                             Japheth    Male       -3500   \n605                                                Esau    Male       -3500   \n211                                          Methuselah    Male       -3500   \n1182                                             Joseph    Male       -3500   \n\n            country  industry        domain        occupation  popularity  \n8075          Spain  Religion  Institutions  Religious Figure     21.0652  \n7088    Timor-Leste  Religion  Institutions  Religious Figure     22.1478  \n6449         Turkey  Religion  Institutions  Religious Figure     22.5792  \n6771         Turkey  Religion  Institutions  Religious Figure     22.3662  \n5974        Unknown  Religion  Institutions  Religious Figure     22.8645  \n4803         Israel  Religion  Institutions  Religious Figure     23.5186  \n1373          China  Religion  Institutions  Religious Figure     25.6513  \n7354          Italy  Religion  Institutions  Religious Figure     21.9297  \n5278   South Africa  Religion  Institutions  Religious Figure     23.2407  \n6549        Estonia  Religion  Institutions  Religious Figure     22.5124  \n5517    Switzerland  Religion  Institutions  Religious Figure     23.1127  \n619         Germany  Religion  Institutions  Religious Figure     26.6853  \n6735          Egypt  Religion  Institutions  Religious Figure     22.3855  \n8398          Egypt  Religion  Institutions  Religious Figure     20.5925  \n6714    North Korea  Religion  Institutions  Religious Figure     22.4023  \n323          Poland  Religion  Institutions  Religious Figure     27.4423  \n5574  United States  Religion  Institutions  Religious Figure     23.0842  \n5914          India  Religion  Institutions  Religious Figure     22.8985  \n5641    El Salvador  Religion  Institutions  Religious Figure     23.0442  \n1848          Italy  Religion  Institutions  Religious Figure     25.2397  \n2380         Poland  Religion  Institutions  Religious Figure     24.8633  \n6538         France  Religion  Institutions  Religious Figure     22.5230  \n5135         Poland  Religion  Institutions  Religious Figure     23.3264  \n4571          Spain  Religion  Institutions  Religious Figure     23.6439  \n1184           Iran  Religion  Institutions  Religious Figure     25.8295  \n1823          Italy  Religion  Institutions  Religious Figure     25.2567  \n7059          India  Religion  Institutions  Religious Figure     22.1680  \n3218         Poland  Religion  Institutions  Religious Figure     24.3797  \n2129          Italy  Religion  Institutions  Religious Figure     25.0360  \n1321          Italy  Religion  Institutions  Religious Figure     25.7051  \n...             ...       ...           ...               ...         ...  \n11            Egypt  Religion  Institutions  Religious Figure     30.8632  \n281           Egypt  Religion  Institutions  Religious Figure     27.6021  \n485         Unknown  Religion  Institutions  Religious Figure     26.9967  \n679           Egypt  Religion  Institutions  Religious Figure     26.5633  \n13          Unknown  Religion  Institutions  Religious Figure     30.6047  \n1188          Egypt  Religion  Institutions  Religious Figure     25.8256  \n516         Unknown  Religion  Institutions  Religious Figure     26.9195  \n1885        Unknown  Religion  Institutions  Religious Figure     25.2039  \n349         Unknown  Religion  Institutions  Religious Figure     27.3680  \n1414        Unknown  Religion  Institutions  Religious Figure     25.5995  \n482         Unknown  Religion  Institutions  Religious Figure     27.0033  \n941         Unknown  Religion  Institutions  Religious Figure     26.1374  \n1445           Iraq  Religion  Institutions  Religious Figure     25.5718  \n1475          Yemen  Religion  Institutions  Religious Figure     25.5497  \n406            Iraq  Religion  Institutions  Religious Figure     27.2099  \n491         Unknown  Religion  Institutions  Religious Figure     26.9857  \n350          Israel  Religion  Institutions  Religious Figure     27.3675  \n684         Unknown  Religion  Institutions  Religious Figure     26.5561  \n334         Unknown  Religion  Institutions  Religious Figure     27.4143  \n955       Palestine  Religion  Institutions  Religious Figure     26.1135  \n1125        Unknown  Religion  Institutions  Religious Figure     25.9060  \n140          Israel  Religion  Institutions  Religious Figure     28.3556  \n159          Jordan  Religion  Institutions  Religious Figure     28.2463  \n1532          Yemen  Religion  Institutions  Religious Figure     25.5019  \n1680          Egypt  Religion  Institutions  Religious Figure     25.3835  \n587         Unknown  Religion  Institutions  Religious Figure     26.7387  \n376         Unknown  Religion  Institutions  Religious Figure     27.2905  \n605          Israel  Religion  Institutions  Religious Figure     26.7133  \n211         Unknown  Religion  Institutions  Religious Figure     27.9189  \n1182         Israel  Religion  Institutions  Religious Figure     25.8317  \n\n[518 rows x 8 columns]"
     },
     "execution_count": 19,
     "metadata": {},
     "output_type": "execute_result"
    }
   ],
   "source": [
    "# Showing details dataset based on industry selected\n",
    "#industry = 'Activism'\n",
    "#industry = 'Business'\n",
    "#industry = 'Companions'\n",
    "#industry = 'Computer Science'\n",
    "#industry = 'Dance'\n",
    "#industry = 'Design'\n",
    "#industry = 'Engineering'\n",
    "#industry = 'Explorers'\n",
    "#industry = 'Film And Theatre'\n",
    "#industry = 'Fine Arts'\n",
    "#industry = 'Government'\n",
    "#industry = 'History'\n",
    "#industry = 'Individual Sports'\n",
    "#industry = 'Invention'\n",
    "#industry = 'Language'\n",
    "#industry = 'Law'\n",
    "#industry = 'Math'\n",
    "#industry = 'Media Personality'\n",
    "#industry = 'Medicine'\n",
    "#industry = 'Military'\n",
    "#industry = 'Music'\n",
    "#industry = 'Natural Sciences'\n",
    "#industry = 'Outlaws'\n",
    "#industry = 'Philosophy'\n",
    "industry = 'Religion'\n",
    "#industry = 'Social Sciences'\n",
    "#industry = 'Team Sports'\n",
    "dfCleanData[dfCleanData['industry'] == industry].loc[:,columnToDisplayCleanData].sort_values(by = ['birth_year'], ascending = False)"
   ]
  },
  {
   "cell_type": "code",
   "execution_count": 20,
   "metadata": {},
   "outputs": [
    {
     "data": {
      "text/html": "<div>\n<style scoped>\n    .dataframe tbody tr th:only-of-type {\n        vertical-align: middle;\n    }\n\n    .dataframe tbody tr th {\n        vertical-align: top;\n    }\n\n    .dataframe thead th {\n        text-align: right;\n    }\n</style>\n<table border=\"1\" class=\"dataframe\">\n  <thead>\n    <tr style=\"text-align: right;\">\n      <th></th>\n      <th></th>\n      <th>total_count</th>\n    </tr>\n    <tr>\n      <th>industry</th>\n      <th>occupation</th>\n      <th></th>\n    </tr>\n  </thead>\n  <tbody>\n    <tr>\n      <th>Government</th>\n      <th>Politician</th>\n      <td>2530</td>\n    </tr>\n    <tr>\n      <th>Film And Theatre</th>\n      <th>Actor</th>\n      <td>1193</td>\n    </tr>\n    <tr>\n      <th>Team Sports</th>\n      <th>Soccer Player</th>\n      <td>1064</td>\n    </tr>\n    <tr>\n      <th>Language</th>\n      <th>Writer</th>\n      <td>954</td>\n    </tr>\n    <tr>\n      <th>Religion</th>\n      <th>Religious Figure</th>\n      <td>518</td>\n    </tr>\n    <tr>\n      <th rowspan=\"2\" valign=\"top\">Music</th>\n      <th>Singer</th>\n      <td>437</td>\n    </tr>\n    <tr>\n      <th>Musician</th>\n      <td>381</td>\n    </tr>\n    <tr>\n      <th>Philosophy</th>\n      <th>Philosopher</th>\n      <td>281</td>\n    </tr>\n    <tr>\n      <th>Natural Sciences</th>\n      <th>Physicist</th>\n      <td>268</td>\n    </tr>\n    <tr>\n      <th>Music</th>\n      <th>Composer</th>\n      <td>225</td>\n    </tr>\n    <tr>\n      <th>Military</th>\n      <th>Military Personnel</th>\n      <td>224</td>\n    </tr>\n    <tr>\n      <th>Natural Sciences</th>\n      <th>Chemist</th>\n      <td>220</td>\n    </tr>\n    <tr>\n      <th>Fine Arts</th>\n      <th>Painter</th>\n      <td>178</td>\n    </tr>\n    <tr>\n      <th>Film And Theatre</th>\n      <th>Film Director</th>\n      <td>177</td>\n    </tr>\n    <tr>\n      <th>Individual Sports</th>\n      <th>Tennis Player</th>\n      <td>161</td>\n    </tr>\n    <tr>\n      <th>Math</th>\n      <th>Mathematician</th>\n      <td>157</td>\n    </tr>\n    <tr>\n      <th>Medicine</th>\n      <th>Physician</th>\n      <td>142</td>\n    </tr>\n    <tr>\n      <th>Natural Sciences</th>\n      <th>Biologist</th>\n      <td>141</td>\n    </tr>\n    <tr>\n      <th>Government</th>\n      <th>Nobleman</th>\n      <td>116</td>\n    </tr>\n    <tr>\n      <th>Activism</th>\n      <th>Social Activist</th>\n      <td>114</td>\n    </tr>\n  </tbody>\n</table>\n</div>",
      "text/plain": "                                      total_count\nindustry          occupation                     \nGovernment        Politician                 2530\nFilm And Theatre  Actor                      1193\nTeam Sports       Soccer Player              1064\nLanguage          Writer                      954\nReligion          Religious Figure            518\nMusic             Singer                      437\n                  Musician                    381\nPhilosophy        Philosopher                 281\nNatural Sciences  Physicist                   268\nMusic             Composer                    225\nMilitary          Military Personnel          224\nNatural Sciences  Chemist                     220\nFine Arts         Painter                     178\nFilm And Theatre  Film Director               177\nIndividual Sports Tennis Player               161\nMath              Mathematician               157\nMedicine          Physician                   142\nNatural Sciences  Biologist                   141\nGovernment        Nobleman                    116\nActivism          Social Activist             114"
     },
     "execution_count": 20,
     "metadata": {},
     "output_type": "execute_result"
    }
   ],
   "source": [
    "# Getting the count by country, occupation, industry, and domain\n",
    "dfTotalByCountryByIndustry = pd.DataFrame(dfCleanData.groupby(['industry','occupation'])['article_id'].count())\n",
    "# Renaming the default column name the dataframe created to a meaningfull name\n",
    "dfTotalByCountryByIndustry.rename(columns={'article_id': 'total_count'}, inplace=True)\n",
    "dfTotalByCountryByIndustry.sort_values(by = ['total_count'], ascending = False).head(20)"
   ]
  },
  {
   "cell_type": "code",
   "execution_count": 21,
   "metadata": {},
   "outputs": [
    {
     "data": {
      "text/html": "<div>\n<style scoped>\n    .dataframe tbody tr th:only-of-type {\n        vertical-align: middle;\n    }\n\n    .dataframe tbody tr th {\n        vertical-align: top;\n    }\n\n    .dataframe thead th {\n        text-align: right;\n    }\n</style>\n<table border=\"1\" class=\"dataframe\">\n  <thead>\n    <tr style=\"text-align: right;\">\n      <th></th>\n      <th>full_name</th>\n      <th>sex</th>\n      <th>birth_year</th>\n      <th>country</th>\n      <th>industry</th>\n      <th>domain</th>\n      <th>occupation</th>\n      <th>popularity</th>\n    </tr>\n  </thead>\n  <tbody>\n    <tr>\n      <th>0</th>\n      <td>Aristotle</td>\n      <td>Male</td>\n      <td>-384</td>\n      <td>Greece</td>\n      <td>Philosophy</td>\n      <td>Humanities</td>\n      <td>Philosopher</td>\n      <td>31.9938</td>\n    </tr>\n    <tr>\n      <th>1</th>\n      <td>Plato</td>\n      <td>Male</td>\n      <td>-427</td>\n      <td>Greece</td>\n      <td>Philosophy</td>\n      <td>Humanities</td>\n      <td>Philosopher</td>\n      <td>31.9888</td>\n    </tr>\n    <tr>\n      <th>2</th>\n      <td>Jesus Christ</td>\n      <td>Male</td>\n      <td>-4</td>\n      <td>Israel</td>\n      <td>Religion</td>\n      <td>Institutions</td>\n      <td>Religious Figure</td>\n      <td>31.8981</td>\n    </tr>\n    <tr>\n      <th>3</th>\n      <td>Socrates</td>\n      <td>Male</td>\n      <td>-469</td>\n      <td>Greece</td>\n      <td>Philosophy</td>\n      <td>Humanities</td>\n      <td>Philosopher</td>\n      <td>31.6521</td>\n    </tr>\n    <tr>\n      <th>4</th>\n      <td>Alexander the Great</td>\n      <td>Male</td>\n      <td>-356</td>\n      <td>Greece</td>\n      <td>Military</td>\n      <td>Institutions</td>\n      <td>Military Personnel</td>\n      <td>31.5840</td>\n    </tr>\n    <tr>\n      <th>5</th>\n      <td>Leonardo da Vinci</td>\n      <td>Male</td>\n      <td>1452</td>\n      <td>Italy</td>\n      <td>Invention</td>\n      <td>Science &amp; Technology</td>\n      <td>Inventor</td>\n      <td>31.4644</td>\n    </tr>\n    <tr>\n      <th>6</th>\n      <td>Confucius</td>\n      <td>Male</td>\n      <td>-551</td>\n      <td>China</td>\n      <td>Philosophy</td>\n      <td>Humanities</td>\n      <td>Philosopher</td>\n      <td>31.3705</td>\n    </tr>\n    <tr>\n      <th>7</th>\n      <td>Julius Caesar</td>\n      <td>Male</td>\n      <td>-100</td>\n      <td>Italy</td>\n      <td>Government</td>\n      <td>Institutions</td>\n      <td>Politician</td>\n      <td>31.1161</td>\n    </tr>\n    <tr>\n      <th>8</th>\n      <td>Homer</td>\n      <td>Male</td>\n      <td>-800</td>\n      <td>Turkey</td>\n      <td>Language</td>\n      <td>Humanities</td>\n      <td>Writer</td>\n      <td>31.1087</td>\n    </tr>\n    <tr>\n      <th>9</th>\n      <td>Pythagoras</td>\n      <td>Male</td>\n      <td>-570</td>\n      <td>Greece</td>\n      <td>Philosophy</td>\n      <td>Humanities</td>\n      <td>Philosopher</td>\n      <td>31.0691</td>\n    </tr>\n  </tbody>\n</table>\n</div>",
      "text/plain": "             full_name   sex  birth_year country    industry  \\\n0            Aristotle  Male        -384  Greece  Philosophy   \n1                Plato  Male        -427  Greece  Philosophy   \n2         Jesus Christ  Male          -4  Israel    Religion   \n3             Socrates  Male        -469  Greece  Philosophy   \n4  Alexander the Great  Male        -356  Greece    Military   \n5    Leonardo da Vinci  Male        1452   Italy   Invention   \n6            Confucius  Male        -551   China  Philosophy   \n7        Julius Caesar  Male        -100   Italy  Government   \n8                Homer  Male        -800  Turkey    Language   \n9           Pythagoras  Male        -570  Greece  Philosophy   \n\n                 domain          occupation  popularity  \n0            Humanities         Philosopher     31.9938  \n1            Humanities         Philosopher     31.9888  \n2          Institutions    Religious Figure     31.8981  \n3            Humanities         Philosopher     31.6521  \n4          Institutions  Military Personnel     31.5840  \n5  Science & Technology            Inventor     31.4644  \n6            Humanities         Philosopher     31.3705  \n7          Institutions          Politician     31.1161  \n8            Humanities              Writer     31.1087  \n9            Humanities         Philosopher     31.0691  "
     },
     "execution_count": 21,
     "metadata": {},
     "output_type": "execute_result"
    }
   ],
   "source": [
    "# Which historic characters are in the top ten most popular?\n",
    "dfTopTenMostPopularPeople = dfCleanData.sort_values(by = ['popularity'], ascending = False)\n",
    "dfTopTenMostPopularPeople = dfTopTenMostPopularPeople.head(10)\n",
    "dfTopTenMostPopularPeople.loc[:,columnToDisplayCleanData]"
   ]
  },
  {
   "cell_type": "code",
   "execution_count": 22,
   "metadata": {},
   "outputs": [
    {
     "data": {
      "text/html": "<div>\n<style scoped>\n    .dataframe tbody tr th:only-of-type {\n        vertical-align: middle;\n    }\n\n    .dataframe tbody tr th {\n        vertical-align: top;\n    }\n\n    .dataframe thead th {\n        text-align: right;\n    }\n</style>\n<table border=\"1\" class=\"dataframe\">\n  <thead>\n    <tr style=\"text-align: right;\">\n      <th></th>\n      <th>total_count</th>\n    </tr>\n    <tr>\n      <th>country</th>\n      <th></th>\n    </tr>\n  </thead>\n  <tbody>\n    <tr>\n      <th>China</th>\n      <td>1</td>\n    </tr>\n    <tr>\n      <th>Greece</th>\n      <td>5</td>\n    </tr>\n    <tr>\n      <th>Israel</th>\n      <td>1</td>\n    </tr>\n    <tr>\n      <th>Italy</th>\n      <td>2</td>\n    </tr>\n    <tr>\n      <th>Turkey</th>\n      <td>1</td>\n    </tr>\n  </tbody>\n</table>\n</div>",
      "text/plain": "         total_count\ncountry             \nChina              1\nGreece             5\nIsrael             1\nItaly              2\nTurkey             1"
     },
     "execution_count": 22,
     "metadata": {},
     "output_type": "execute_result"
    }
   ],
   "source": [
    "dfTotalTop10ByCountry = pd.DataFrame(dfTopTenMostPopularPeople.groupby(['country'])['article_id'].count())\n",
    "dfTotalTop10ByCountry.rename(columns={'':'country','article_id': 'total_count'}, inplace=True)\n",
    "dfTotalTop10ByCountry "
   ]
  },
  {
   "cell_type": "code",
   "execution_count": 23,
   "metadata": {},
   "outputs": [
    {
     "data": {
      "text/plain": "[<matplotlib.lines.Line2D at 0x12c20b5a320>]"
     },
     "execution_count": 23,
     "metadata": {},
     "output_type": "execute_result"
    },
    {
     "data": {
      "image/png": "[encoded data removed]",
      "image/svg+xml": "<?xml version=\"1.0\" encoding=\"utf-8\" standalone=\"no\"?>\r\n<!DOCTYPE svg PUBLIC \"-//W3C//DTD SVG 1.1//EN\"\r\n  \"http://www.w3.org/Graphics/SVG/1.1/DTD/svg11.dtd\">\r\n<!-- Created with matplotlib (https://matplotlib.org/) -->\r\n<svg height=\"248.518125pt\" version=\"1.1\" viewBox=\"0 0 374.080256 248.518125\" width=\"374.080256pt\" xmlns=\"http://www.w3.org/2000/svg\" xmlns:xlink=\"http://www.w3.org/1999/xlink\">\r\n <defs>\r\n  <style type=\"text/css\">\r\n*{stroke-linecap:butt;stroke-linejoin:round;}\r\n  </style>\r\n </defs>\r\n <g id=\"figure_1\">\r\n  <g id=\"patch_1\">\r\n   <path d=\"M 0 248.518125 \r\nL 374.080256 248.518125 \r\nL 374.080256 0 \r\nL 0 0 \r\nz\r\n\" style=\"fill:none;\"/>\r\n  </g>\r\n  <g id=\"axes_1\">\r\n   <g id=\"patch_2\">\r\n    <path d=\"M 30.103125 224.64 \r\nL 364.903125 224.64 \r\nL 364.903125 7.2 \r\nL 30.103125 7.2 \r\nz\r\n\" style=\"fill:#ffffff;\"/>\r\n   </g>\r\n   <g id=\"matplotlib.axis_1\">\r\n    <g id=\"xtick_1\">\r\n     <g id=\"line2d_1\">\r\n      <defs>\r\n       <path d=\"M 0 0 \r\nL 0 3.5 \r\n\" id=\"m47c9e81f94\" style=\"stroke:#000000;stroke-width:0.8;\"/>\r\n      </defs>\r\n      <g>\r\n       <use style=\"stroke:#000000;stroke-width:0.8;\" x=\"45.321307\" xlink:href=\"#m47c9e81f94\" y=\"224.64\"/>\r\n      </g>\r\n     </g>\r\n     <g id=\"text_1\">\r\n      <!-- China -->\r\n      <defs>\r\n       <path d=\"M 64.40625 67.28125 \r\nL 64.40625 56.890625 \r\nQ 59.421875 61.53125 53.78125 63.8125 \r\nQ 48.140625 66.109375 41.796875 66.109375 \r\nQ 29.296875 66.109375 22.65625 58.46875 \r\nQ 16.015625 50.828125 16.015625 36.375 \r\nQ 16.015625 21.96875 22.65625 14.328125 \r\nQ 29.296875 6.6875 41.796875 6.6875 \r\nQ 48.140625 6.6875 53.78125 8.984375 \r\nQ 59.421875 11.28125 64.40625 15.921875 \r\nL 64.40625 5.609375 \r\nQ 59.234375 2.09375 53.4375 0.328125 \r\nQ 47.65625 -1.421875 41.21875 -1.421875 \r\nQ 24.65625 -1.421875 15.125 8.703125 \r\nQ 5.609375 18.84375 5.609375 36.375 \r\nQ 5.609375 53.953125 15.125 64.078125 \r\nQ 24.65625 74.21875 41.21875 74.21875 \r\nQ 47.75 74.21875 53.53125 72.484375 \r\nQ 59.328125 70.75 64.40625 67.28125 \r\nz\r\n\" id=\"DejaVuSans-67\"/>\r\n       <path d=\"M 54.890625 33.015625 \r\nL 54.890625 0 \r\nL 45.90625 0 \r\nL 45.90625 32.71875 \r\nQ 45.90625 40.484375 42.875 44.328125 \r\nQ 39.84375 48.1875 33.796875 48.1875 \r\nQ 26.515625 48.1875 22.3125 43.546875 \r\nQ 18.109375 38.921875 18.109375 30.90625 \r\nL 18.109375 0 \r\nL 9.078125 0 \r\nL 9.078125 75.984375 \r\nL 18.109375 75.984375 \r\nL 18.109375 46.1875 \r\nQ 21.34375 51.125 25.703125 53.5625 \r\nQ 30.078125 56 35.796875 56 \r\nQ 45.21875 56 50.046875 50.171875 \r\nQ 54.890625 44.34375 54.890625 33.015625 \r\nz\r\n\" id=\"DejaVuSans-104\"/>\r\n       <path d=\"M 9.421875 54.6875 \r\nL 18.40625 54.6875 \r\nL 18.40625 0 \r\nL 9.421875 0 \r\nz\r\nM 9.421875 75.984375 \r\nL 18.40625 75.984375 \r\nL 18.40625 64.59375 \r\nL 9.421875 64.59375 \r\nz\r\n\" id=\"DejaVuSans-105\"/>\r\n       <path d=\"M 54.890625 33.015625 \r\nL 54.890625 0 \r\nL 45.90625 0 \r\nL 45.90625 32.71875 \r\nQ 45.90625 40.484375 42.875 44.328125 \r\nQ 39.84375 48.1875 33.796875 48.1875 \r\nQ 26.515625 48.1875 22.3125 43.546875 \r\nQ 18.109375 38.921875 18.109375 30.90625 \r\nL 18.109375 0 \r\nL 9.078125 0 \r\nL 9.078125 54.6875 \r\nL 18.109375 54.6875 \r\nL 18.109375 46.1875 \r\nQ 21.34375 51.125 25.703125 53.5625 \r\nQ 30.078125 56 35.796875 56 \r\nQ 45.21875 56 50.046875 50.171875 \r\nQ 54.890625 44.34375 54.890625 33.015625 \r\nz\r\n\" id=\"DejaVuSans-110\"/>\r\n       <path d=\"M 34.28125 27.484375 \r\nQ 23.390625 27.484375 19.1875 25 \r\nQ 14.984375 22.515625 14.984375 16.5 \r\nQ 14.984375 11.71875 18.140625 8.90625 \r\nQ 21.296875 6.109375 26.703125 6.109375 \r\nQ 34.1875 6.109375 38.703125 11.40625 \r\nQ 43.21875 16.703125 43.21875 25.484375 \r\nL 43.21875 27.484375 \r\nz\r\nM 52.203125 31.203125 \r\nL 52.203125 0 \r\nL 43.21875 0 \r\nL 43.21875 8.296875 \r\nQ 40.140625 3.328125 35.546875 0.953125 \r\nQ 30.953125 -1.421875 24.3125 -1.421875 \r\nQ 15.921875 -1.421875 10.953125 3.296875 \r\nQ 6 8.015625 6 15.921875 \r\nQ 6 25.140625 12.171875 29.828125 \r\nQ 18.359375 34.515625 30.609375 34.515625 \r\nL 43.21875 34.515625 \r\nL 43.21875 35.40625 \r\nQ 43.21875 41.609375 39.140625 45 \r\nQ 35.0625 48.390625 27.6875 48.390625 \r\nQ 23 48.390625 18.546875 47.265625 \r\nQ 14.109375 46.140625 10.015625 43.890625 \r\nL 10.015625 52.203125 \r\nQ 14.9375 54.109375 19.578125 55.046875 \r\nQ 24.21875 56 28.609375 56 \r\nQ 40.484375 56 46.34375 49.84375 \r\nQ 52.203125 43.703125 52.203125 31.203125 \r\nz\r\n\" id=\"DejaVuSans-97\"/>\r\n      </defs>\r\n      <g transform=\"translate(31.039276 239.238437)scale(0.1 -0.1)\">\r\n       <use xlink:href=\"#DejaVuSans-67\"/>\r\n       <use x=\"69.824219\" xlink:href=\"#DejaVuSans-104\"/>\r\n       <use x=\"133.203125\" xlink:href=\"#DejaVuSans-105\"/>\r\n       <use x=\"160.986328\" xlink:href=\"#DejaVuSans-110\"/>\r\n       <use x=\"224.365234\" xlink:href=\"#DejaVuSans-97\"/>\r\n      </g>\r\n     </g>\r\n    </g>\r\n    <g id=\"xtick_2\">\r\n     <g id=\"line2d_2\">\r\n      <g>\r\n       <use style=\"stroke:#000000;stroke-width:0.8;\" x=\"121.412216\" xlink:href=\"#m47c9e81f94\" y=\"224.64\"/>\r\n      </g>\r\n     </g>\r\n     <g id=\"text_2\">\r\n      <!-- Greece -->\r\n      <defs>\r\n       <path d=\"M 59.515625 10.40625 \r\nL 59.515625 29.984375 \r\nL 43.40625 29.984375 \r\nL 43.40625 38.09375 \r\nL 69.28125 38.09375 \r\nL 69.28125 6.78125 \r\nQ 63.578125 2.734375 56.6875 0.65625 \r\nQ 49.8125 -1.421875 42 -1.421875 \r\nQ 24.90625 -1.421875 15.25 8.5625 \r\nQ 5.609375 18.5625 5.609375 36.375 \r\nQ 5.609375 54.25 15.25 64.234375 \r\nQ 24.90625 74.21875 42 74.21875 \r\nQ 49.125 74.21875 55.546875 72.453125 \r\nQ 61.96875 70.703125 67.390625 67.28125 \r\nL 67.390625 56.78125 \r\nQ 61.921875 61.421875 55.765625 63.765625 \r\nQ 49.609375 66.109375 42.828125 66.109375 \r\nQ 29.4375 66.109375 22.71875 58.640625 \r\nQ 16.015625 51.171875 16.015625 36.375 \r\nQ 16.015625 21.625 22.71875 14.15625 \r\nQ 29.4375 6.6875 42.828125 6.6875 \r\nQ 48.046875 6.6875 52.140625 7.59375 \r\nQ 56.25 8.5 59.515625 10.40625 \r\nz\r\n\" id=\"DejaVuSans-71\"/>\r\n       <path d=\"M 41.109375 46.296875 \r\nQ 39.59375 47.171875 37.8125 47.578125 \r\nQ 36.03125 48 33.890625 48 \r\nQ 26.265625 48 22.1875 43.046875 \r\nQ 18.109375 38.09375 18.109375 28.8125 \r\nL 18.109375 0 \r\nL 9.078125 0 \r\nL 9.078125 54.6875 \r\nL 18.109375 54.6875 \r\nL 18.109375 46.1875 \r\nQ 20.953125 51.171875 25.484375 53.578125 \r\nQ 30.03125 56 36.53125 56 \r\nQ 37.453125 56 38.578125 55.875 \r\nQ 39.703125 55.765625 41.0625 55.515625 \r\nz\r\n\" id=\"DejaVuSans-114\"/>\r\n       <path d=\"M 56.203125 29.59375 \r\nL 56.203125 25.203125 \r\nL 14.890625 25.203125 \r\nQ 15.484375 15.921875 20.484375 11.0625 \r\nQ 25.484375 6.203125 34.421875 6.203125 \r\nQ 39.59375 6.203125 44.453125 7.46875 \r\nQ 49.3125 8.734375 54.109375 11.28125 \r\nL 54.109375 2.78125 \r\nQ 49.265625 0.734375 44.1875 -0.34375 \r\nQ 39.109375 -1.421875 33.890625 -1.421875 \r\nQ 20.796875 -1.421875 13.15625 6.1875 \r\nQ 5.515625 13.8125 5.515625 26.8125 \r\nQ 5.515625 40.234375 12.765625 48.109375 \r\nQ 20.015625 56 32.328125 56 \r\nQ 43.359375 56 49.78125 48.890625 \r\nQ 56.203125 41.796875 56.203125 29.59375 \r\nz\r\nM 47.21875 32.234375 \r\nQ 47.125 39.59375 43.09375 43.984375 \r\nQ 39.0625 48.390625 32.421875 48.390625 \r\nQ 24.90625 48.390625 20.390625 44.140625 \r\nQ 15.875 39.890625 15.1875 32.171875 \r\nz\r\n\" id=\"DejaVuSans-101\"/>\r\n       <path d=\"M 48.78125 52.59375 \r\nL 48.78125 44.1875 \r\nQ 44.96875 46.296875 41.140625 47.34375 \r\nQ 37.3125 48.390625 33.40625 48.390625 \r\nQ 24.65625 48.390625 19.8125 42.84375 \r\nQ 14.984375 37.3125 14.984375 27.296875 \r\nQ 14.984375 17.28125 19.8125 11.734375 \r\nQ 24.65625 6.203125 33.40625 6.203125 \r\nQ 37.3125 6.203125 41.140625 7.25 \r\nQ 44.96875 8.296875 48.78125 10.40625 \r\nL 48.78125 2.09375 \r\nQ 45.015625 0.34375 40.984375 -0.53125 \r\nQ 36.96875 -1.421875 32.421875 -1.421875 \r\nQ 20.0625 -1.421875 12.78125 6.34375 \r\nQ 5.515625 14.109375 5.515625 27.296875 \r\nQ 5.515625 40.671875 12.859375 48.328125 \r\nQ 20.21875 56 33.015625 56 \r\nQ 37.15625 56 41.109375 55.140625 \r\nQ 45.0625 54.296875 48.78125 52.59375 \r\nz\r\n\" id=\"DejaVuSans-99\"/>\r\n      </defs>\r\n      <g transform=\"translate(103.505185 239.238437)scale(0.1 -0.1)\">\r\n       <use xlink:href=\"#DejaVuSans-71\"/>\r\n       <use x=\"77.490234\" xlink:href=\"#DejaVuSans-114\"/>\r\n       <use x=\"118.572266\" xlink:href=\"#DejaVuSans-101\"/>\r\n       <use x=\"180.095703\" xlink:href=\"#DejaVuSans-101\"/>\r\n       <use x=\"241.619141\" xlink:href=\"#DejaVuSans-99\"/>\r\n       <use x=\"296.599609\" xlink:href=\"#DejaVuSans-101\"/>\r\n      </g>\r\n     </g>\r\n    </g>\r\n    <g id=\"xtick_3\">\r\n     <g id=\"line2d_3\">\r\n      <g>\r\n       <use style=\"stroke:#000000;stroke-width:0.8;\" x=\"197.503125\" xlink:href=\"#m47c9e81f94\" y=\"224.64\"/>\r\n      </g>\r\n     </g>\r\n     <g id=\"text_3\">\r\n      <!-- Israel -->\r\n      <defs>\r\n       <path d=\"M 9.8125 72.90625 \r\nL 19.671875 72.90625 \r\nL 19.671875 0 \r\nL 9.8125 0 \r\nz\r\n\" id=\"DejaVuSans-73\"/>\r\n       <path d=\"M 44.28125 53.078125 \r\nL 44.28125 44.578125 \r\nQ 40.484375 46.53125 36.375 47.5 \r\nQ 32.28125 48.484375 27.875 48.484375 \r\nQ 21.1875 48.484375 17.84375 46.4375 \r\nQ 14.5 44.390625 14.5 40.28125 \r\nQ 14.5 37.15625 16.890625 35.375 \r\nQ 19.28125 33.59375 26.515625 31.984375 \r\nL 29.59375 31.296875 \r\nQ 39.15625 29.25 43.1875 25.515625 \r\nQ 47.21875 21.78125 47.21875 15.09375 \r\nQ 47.21875 7.46875 41.1875 3.015625 \r\nQ 35.15625 -1.421875 24.609375 -1.421875 \r\nQ 20.21875 -1.421875 15.453125 -0.5625 \r\nQ 10.6875 0.296875 5.421875 2 \r\nL 5.421875 11.28125 \r\nQ 10.40625 8.6875 15.234375 7.390625 \r\nQ 20.0625 6.109375 24.8125 6.109375 \r\nQ 31.15625 6.109375 34.5625 8.28125 \r\nQ 37.984375 10.453125 37.984375 14.40625 \r\nQ 37.984375 18.0625 35.515625 20.015625 \r\nQ 33.0625 21.96875 24.703125 23.78125 \r\nL 21.578125 24.515625 \r\nQ 13.234375 26.265625 9.515625 29.90625 \r\nQ 5.8125 33.546875 5.8125 39.890625 \r\nQ 5.8125 47.609375 11.28125 51.796875 \r\nQ 16.75 56 26.8125 56 \r\nQ 31.78125 56 36.171875 55.265625 \r\nQ 40.578125 54.546875 44.28125 53.078125 \r\nz\r\n\" id=\"DejaVuSans-115\"/>\r\n       <path d=\"M 9.421875 75.984375 \r\nL 18.40625 75.984375 \r\nL 18.40625 0 \r\nL 9.421875 0 \r\nz\r\n\" id=\"DejaVuSans-108\"/>\r\n      </defs>\r\n      <g transform=\"translate(183.838281 239.238437)scale(0.1 -0.1)\">\r\n       <use xlink:href=\"#DejaVuSans-73\"/>\r\n       <use x=\"29.492188\" xlink:href=\"#DejaVuSans-115\"/>\r\n       <use x=\"81.591797\" xlink:href=\"#DejaVuSans-114\"/>\r\n       <use x=\"122.705078\" xlink:href=\"#DejaVuSans-97\"/>\r\n       <use x=\"183.984375\" xlink:href=\"#DejaVuSans-101\"/>\r\n       <use x=\"245.507812\" xlink:href=\"#DejaVuSans-108\"/>\r\n      </g>\r\n     </g>\r\n    </g>\r\n    <g id=\"xtick_4\">\r\n     <g id=\"line2d_4\">\r\n      <g>\r\n       <use style=\"stroke:#000000;stroke-width:0.8;\" x=\"273.594034\" xlink:href=\"#m47c9e81f94\" y=\"224.64\"/>\r\n      </g>\r\n     </g>\r\n     <g id=\"text_4\">\r\n      <!-- Italy -->\r\n      <defs>\r\n       <path d=\"M 18.3125 70.21875 \r\nL 18.3125 54.6875 \r\nL 36.8125 54.6875 \r\nL 36.8125 47.703125 \r\nL 18.3125 47.703125 \r\nL 18.3125 18.015625 \r\nQ 18.3125 11.328125 20.140625 9.421875 \r\nQ 21.96875 7.515625 27.59375 7.515625 \r\nL 36.8125 7.515625 \r\nL 36.8125 0 \r\nL 27.59375 0 \r\nQ 17.1875 0 13.234375 3.875 \r\nQ 9.28125 7.765625 9.28125 18.015625 \r\nL 9.28125 47.703125 \r\nL 2.6875 47.703125 \r\nL 2.6875 54.6875 \r\nL 9.28125 54.6875 \r\nL 9.28125 70.21875 \r\nz\r\n\" id=\"DejaVuSans-116\"/>\r\n       <path d=\"M 32.171875 -5.078125 \r\nQ 28.375 -14.84375 24.75 -17.8125 \r\nQ 21.140625 -20.796875 15.09375 -20.796875 \r\nL 7.90625 -20.796875 \r\nL 7.90625 -13.28125 \r\nL 13.1875 -13.28125 \r\nQ 16.890625 -13.28125 18.9375 -11.515625 \r\nQ 21 -9.765625 23.484375 -3.21875 \r\nL 25.09375 0.875 \r\nL 2.984375 54.6875 \r\nL 12.5 54.6875 \r\nL 29.59375 11.921875 \r\nL 46.6875 54.6875 \r\nL 56.203125 54.6875 \r\nz\r\n\" id=\"DejaVuSans-121\"/>\r\n      </defs>\r\n      <g transform=\"translate(262.746378 239.238437)scale(0.1 -0.1)\">\r\n       <use xlink:href=\"#DejaVuSans-73\"/>\r\n       <use x=\"29.492188\" xlink:href=\"#DejaVuSans-116\"/>\r\n       <use x=\"68.701172\" xlink:href=\"#DejaVuSans-97\"/>\r\n       <use x=\"129.980469\" xlink:href=\"#DejaVuSans-108\"/>\r\n       <use x=\"157.763672\" xlink:href=\"#DejaVuSans-121\"/>\r\n      </g>\r\n     </g>\r\n    </g>\r\n    <g id=\"xtick_5\">\r\n     <g id=\"line2d_5\">\r\n      <g>\r\n       <use style=\"stroke:#000000;stroke-width:0.8;\" x=\"349.684943\" xlink:href=\"#m47c9e81f94\" y=\"224.64\"/>\r\n      </g>\r\n     </g>\r\n     <g id=\"text_5\">\r\n      <!-- Turkey -->\r\n      <defs>\r\n       <path d=\"M -0.296875 72.90625 \r\nL 61.375 72.90625 \r\nL 61.375 64.59375 \r\nL 35.5 64.59375 \r\nL 35.5 0 \r\nL 25.59375 0 \r\nL 25.59375 64.59375 \r\nL -0.296875 64.59375 \r\nz\r\n\" id=\"DejaVuSans-84\"/>\r\n       <path d=\"M 8.5 21.578125 \r\nL 8.5 54.6875 \r\nL 17.484375 54.6875 \r\nL 17.484375 21.921875 \r\nQ 17.484375 14.15625 20.5 10.265625 \r\nQ 23.53125 6.390625 29.59375 6.390625 \r\nQ 36.859375 6.390625 41.078125 11.03125 \r\nQ 45.3125 15.671875 45.3125 23.6875 \r\nL 45.3125 54.6875 \r\nL 54.296875 54.6875 \r\nL 54.296875 0 \r\nL 45.3125 0 \r\nL 45.3125 8.40625 \r\nQ 42.046875 3.421875 37.71875 1 \r\nQ 33.40625 -1.421875 27.6875 -1.421875 \r\nQ 18.265625 -1.421875 13.375 4.4375 \r\nQ 8.5 10.296875 8.5 21.578125 \r\nz\r\nM 31.109375 56 \r\nz\r\n\" id=\"DejaVuSans-117\"/>\r\n       <path d=\"M 9.078125 75.984375 \r\nL 18.109375 75.984375 \r\nL 18.109375 31.109375 \r\nL 44.921875 54.6875 \r\nL 56.390625 54.6875 \r\nL 27.390625 29.109375 \r\nL 57.625 0 \r\nL 45.90625 0 \r\nL 18.109375 26.703125 \r\nL 18.109375 0 \r\nL 9.078125 0 \r\nz\r\n\" id=\"DejaVuSans-107\"/>\r\n      </defs>\r\n      <g transform=\"translate(332.489631 239.238437)scale(0.1 -0.1)\">\r\n       <use xlink:href=\"#DejaVuSans-84\"/>\r\n       <use x=\"60.849609\" xlink:href=\"#DejaVuSans-117\"/>\r\n       <use x=\"124.228516\" xlink:href=\"#DejaVuSans-114\"/>\r\n       <use x=\"165.341797\" xlink:href=\"#DejaVuSans-107\"/>\r\n       <use x=\"223.205078\" xlink:href=\"#DejaVuSans-101\"/>\r\n       <use x=\"284.728516\" xlink:href=\"#DejaVuSans-121\"/>\r\n      </g>\r\n     </g>\r\n    </g>\r\n   </g>\r\n   <g id=\"matplotlib.axis_2\">\r\n    <g id=\"ytick_1\">\r\n     <g id=\"line2d_6\">\r\n      <defs>\r\n       <path d=\"M 0 0 \r\nL -3.5 0 \r\n\" id=\"m3fa4bb17ad\" style=\"stroke:#000000;stroke-width:0.8;\"/>\r\n      </defs>\r\n      <g>\r\n       <use style=\"stroke:#000000;stroke-width:0.8;\" x=\"30.103125\" xlink:href=\"#m3fa4bb17ad\" y=\"214.756364\"/>\r\n      </g>\r\n     </g>\r\n     <g id=\"text_6\">\r\n      <!-- 1.0 -->\r\n      <defs>\r\n       <path d=\"M 12.40625 8.296875 \r\nL 28.515625 8.296875 \r\nL 28.515625 63.921875 \r\nL 10.984375 60.40625 \r\nL 10.984375 69.390625 \r\nL 28.421875 72.90625 \r\nL 38.28125 72.90625 \r\nL 38.28125 8.296875 \r\nL 54.390625 8.296875 \r\nL 54.390625 0 \r\nL 12.40625 0 \r\nz\r\n\" id=\"DejaVuSans-49\"/>\r\n       <path d=\"M 10.6875 12.40625 \r\nL 21 12.40625 \r\nL 21 0 \r\nL 10.6875 0 \r\nz\r\n\" id=\"DejaVuSans-46\"/>\r\n       <path d=\"M 31.78125 66.40625 \r\nQ 24.171875 66.40625 20.328125 58.90625 \r\nQ 16.5 51.421875 16.5 36.375 \r\nQ 16.5 21.390625 20.328125 13.890625 \r\nQ 24.171875 6.390625 31.78125 6.390625 \r\nQ 39.453125 6.390625 43.28125 13.890625 \r\nQ 47.125 21.390625 47.125 36.375 \r\nQ 47.125 51.421875 43.28125 58.90625 \r\nQ 39.453125 66.40625 31.78125 66.40625 \r\nz\r\nM 31.78125 74.21875 \r\nQ 44.046875 74.21875 50.515625 64.515625 \r\nQ 56.984375 54.828125 56.984375 36.375 \r\nQ 56.984375 17.96875 50.515625 8.265625 \r\nQ 44.046875 -1.421875 31.78125 -1.421875 \r\nQ 19.53125 -1.421875 13.0625 8.265625 \r\nQ 6.59375 17.96875 6.59375 36.375 \r\nQ 6.59375 54.828125 13.0625 64.515625 \r\nQ 19.53125 74.21875 31.78125 74.21875 \r\nz\r\n\" id=\"DejaVuSans-48\"/>\r\n      </defs>\r\n      <g transform=\"translate(7.2 218.555582)scale(0.1 -0.1)\">\r\n       <use xlink:href=\"#DejaVuSans-49\"/>\r\n       <use x=\"63.623047\" xlink:href=\"#DejaVuSans-46\"/>\r\n       <use x=\"95.410156\" xlink:href=\"#DejaVuSans-48\"/>\r\n      </g>\r\n     </g>\r\n    </g>\r\n    <g id=\"ytick_2\">\r\n     <g id=\"line2d_7\">\r\n      <g>\r\n       <use style=\"stroke:#000000;stroke-width:0.8;\" x=\"30.103125\" xlink:href=\"#m3fa4bb17ad\" y=\"190.047273\"/>\r\n      </g>\r\n     </g>\r\n     <g id=\"text_7\">\r\n      <!-- 1.5 -->\r\n      <defs>\r\n       <path d=\"M 10.796875 72.90625 \r\nL 49.515625 72.90625 \r\nL 49.515625 64.59375 \r\nL 19.828125 64.59375 \r\nL 19.828125 46.734375 \r\nQ 21.96875 47.46875 24.109375 47.828125 \r\nQ 26.265625 48.1875 28.421875 48.1875 \r\nQ 40.625 48.1875 47.75 41.5 \r\nQ 54.890625 34.8125 54.890625 23.390625 \r\nQ 54.890625 11.625 47.5625 5.09375 \r\nQ 40.234375 -1.421875 26.90625 -1.421875 \r\nQ 22.3125 -1.421875 17.546875 -0.640625 \r\nQ 12.796875 0.140625 7.71875 1.703125 \r\nL 7.71875 11.625 \r\nQ 12.109375 9.234375 16.796875 8.0625 \r\nQ 21.484375 6.890625 26.703125 6.890625 \r\nQ 35.15625 6.890625 40.078125 11.328125 \r\nQ 45.015625 15.765625 45.015625 23.390625 \r\nQ 45.015625 31 40.078125 35.4375 \r\nQ 35.15625 39.890625 26.703125 39.890625 \r\nQ 22.75 39.890625 18.8125 39.015625 \r\nQ 14.890625 38.140625 10.796875 36.28125 \r\nz\r\n\" id=\"DejaVuSans-53\"/>\r\n      </defs>\r\n      <g transform=\"translate(7.2 193.846491)scale(0.1 -0.1)\">\r\n       <use xlink:href=\"#DejaVuSans-49\"/>\r\n       <use x=\"63.623047\" xlink:href=\"#DejaVuSans-46\"/>\r\n       <use x=\"95.410156\" xlink:href=\"#DejaVuSans-53\"/>\r\n      </g>\r\n     </g>\r\n    </g>\r\n    <g id=\"ytick_3\">\r\n     <g id=\"line2d_8\">\r\n      <g>\r\n       <use style=\"stroke:#000000;stroke-width:0.8;\" x=\"30.103125\" xlink:href=\"#m3fa4bb17ad\" y=\"165.338182\"/>\r\n      </g>\r\n     </g>\r\n     <g id=\"text_8\">\r\n      <!-- 2.0 -->\r\n      <defs>\r\n       <path d=\"M 19.1875 8.296875 \r\nL 53.609375 8.296875 \r\nL 53.609375 0 \r\nL 7.328125 0 \r\nL 7.328125 8.296875 \r\nQ 12.9375 14.109375 22.625 23.890625 \r\nQ 32.328125 33.6875 34.8125 36.53125 \r\nQ 39.546875 41.84375 41.421875 45.53125 \r\nQ 43.3125 49.21875 43.3125 52.78125 \r\nQ 43.3125 58.59375 39.234375 62.25 \r\nQ 35.15625 65.921875 28.609375 65.921875 \r\nQ 23.96875 65.921875 18.8125 64.3125 \r\nQ 13.671875 62.703125 7.8125 59.421875 \r\nL 7.8125 69.390625 \r\nQ 13.765625 71.78125 18.9375 73 \r\nQ 24.125 74.21875 28.421875 74.21875 \r\nQ 39.75 74.21875 46.484375 68.546875 \r\nQ 53.21875 62.890625 53.21875 53.421875 \r\nQ 53.21875 48.921875 51.53125 44.890625 \r\nQ 49.859375 40.875 45.40625 35.40625 \r\nQ 44.1875 33.984375 37.640625 27.21875 \r\nQ 31.109375 20.453125 19.1875 8.296875 \r\nz\r\n\" id=\"DejaVuSans-50\"/>\r\n      </defs>\r\n      <g transform=\"translate(7.2 169.137401)scale(0.1 -0.1)\">\r\n       <use xlink:href=\"#DejaVuSans-50\"/>\r\n       <use x=\"63.623047\" xlink:href=\"#DejaVuSans-46\"/>\r\n       <use x=\"95.410156\" xlink:href=\"#DejaVuSans-48\"/>\r\n      </g>\r\n     </g>\r\n    </g>\r\n    <g id=\"ytick_4\">\r\n     <g id=\"line2d_9\">\r\n      <g>\r\n       <use style=\"stroke:#000000;stroke-width:0.8;\" x=\"30.103125\" xlink:href=\"#m3fa4bb17ad\" y=\"140.629091\"/>\r\n      </g>\r\n     </g>\r\n     <g id=\"text_9\">\r\n      <!-- 2.5 -->\r\n      <g transform=\"translate(7.2 144.42831)scale(0.1 -0.1)\">\r\n       <use xlink:href=\"#DejaVuSans-50\"/>\r\n       <use x=\"63.623047\" xlink:href=\"#DejaVuSans-46\"/>\r\n       <use x=\"95.410156\" xlink:href=\"#DejaVuSans-53\"/>\r\n      </g>\r\n     </g>\r\n    </g>\r\n    <g id=\"ytick_5\">\r\n     <g id=\"line2d_10\">\r\n      <g>\r\n       <use style=\"stroke:#000000;stroke-width:0.8;\" x=\"30.103125\" xlink:href=\"#m3fa4bb17ad\" y=\"115.92\"/>\r\n      </g>\r\n     </g>\r\n     <g id=\"text_10\">\r\n      <!-- 3.0 -->\r\n      <defs>\r\n       <path d=\"M 40.578125 39.3125 \r\nQ 47.65625 37.796875 51.625 33 \r\nQ 55.609375 28.21875 55.609375 21.1875 \r\nQ 55.609375 10.40625 48.1875 4.484375 \r\nQ 40.765625 -1.421875 27.09375 -1.421875 \r\nQ 22.515625 -1.421875 17.65625 -0.515625 \r\nQ 12.796875 0.390625 7.625 2.203125 \r\nL 7.625 11.71875 \r\nQ 11.71875 9.328125 16.59375 8.109375 \r\nQ 21.484375 6.890625 26.8125 6.890625 \r\nQ 36.078125 6.890625 40.9375 10.546875 \r\nQ 45.796875 14.203125 45.796875 21.1875 \r\nQ 45.796875 27.640625 41.28125 31.265625 \r\nQ 36.765625 34.90625 28.71875 34.90625 \r\nL 20.21875 34.90625 \r\nL 20.21875 43.015625 \r\nL 29.109375 43.015625 \r\nQ 36.375 43.015625 40.234375 45.921875 \r\nQ 44.09375 48.828125 44.09375 54.296875 \r\nQ 44.09375 59.90625 40.109375 62.90625 \r\nQ 36.140625 65.921875 28.71875 65.921875 \r\nQ 24.65625 65.921875 20.015625 65.03125 \r\nQ 15.375 64.15625 9.8125 62.3125 \r\nL 9.8125 71.09375 \r\nQ 15.4375 72.65625 20.34375 73.4375 \r\nQ 25.25 74.21875 29.59375 74.21875 \r\nQ 40.828125 74.21875 47.359375 69.109375 \r\nQ 53.90625 64.015625 53.90625 55.328125 \r\nQ 53.90625 49.265625 50.4375 45.09375 \r\nQ 46.96875 40.921875 40.578125 39.3125 \r\nz\r\n\" id=\"DejaVuSans-51\"/>\r\n      </defs>\r\n      <g transform=\"translate(7.2 119.719219)scale(0.1 -0.1)\">\r\n       <use xlink:href=\"#DejaVuSans-51\"/>\r\n       <use x=\"63.623047\" xlink:href=\"#DejaVuSans-46\"/>\r\n       <use x=\"95.410156\" xlink:href=\"#DejaVuSans-48\"/>\r\n      </g>\r\n     </g>\r\n    </g>\r\n    <g id=\"ytick_6\">\r\n     <g id=\"line2d_11\">\r\n      <g>\r\n       <use style=\"stroke:#000000;stroke-width:0.8;\" x=\"30.103125\" xlink:href=\"#m3fa4bb17ad\" y=\"91.210909\"/>\r\n      </g>\r\n     </g>\r\n     <g id=\"text_11\">\r\n      <!-- 3.5 -->\r\n      <g transform=\"translate(7.2 95.010128)scale(0.1 -0.1)\">\r\n       <use xlink:href=\"#DejaVuSans-51\"/>\r\n       <use x=\"63.623047\" xlink:href=\"#DejaVuSans-46\"/>\r\n       <use x=\"95.410156\" xlink:href=\"#DejaVuSans-53\"/>\r\n      </g>\r\n     </g>\r\n    </g>\r\n    <g id=\"ytick_7\">\r\n     <g id=\"line2d_12\">\r\n      <g>\r\n       <use style=\"stroke:#000000;stroke-width:0.8;\" x=\"30.103125\" xlink:href=\"#m3fa4bb17ad\" y=\"66.501818\"/>\r\n      </g>\r\n     </g>\r\n     <g id=\"text_12\">\r\n      <!-- 4.0 -->\r\n      <defs>\r\n       <path d=\"M 37.796875 64.3125 \r\nL 12.890625 25.390625 \r\nL 37.796875 25.390625 \r\nz\r\nM 35.203125 72.90625 \r\nL 47.609375 72.90625 \r\nL 47.609375 25.390625 \r\nL 58.015625 25.390625 \r\nL 58.015625 17.1875 \r\nL 47.609375 17.1875 \r\nL 47.609375 0 \r\nL 37.796875 0 \r\nL 37.796875 17.1875 \r\nL 4.890625 17.1875 \r\nL 4.890625 26.703125 \r\nz\r\n\" id=\"DejaVuSans-52\"/>\r\n      </defs>\r\n      <g transform=\"translate(7.2 70.301037)scale(0.1 -0.1)\">\r\n       <use xlink:href=\"#DejaVuSans-52\"/>\r\n       <use x=\"63.623047\" xlink:href=\"#DejaVuSans-46\"/>\r\n       <use x=\"95.410156\" xlink:href=\"#DejaVuSans-48\"/>\r\n      </g>\r\n     </g>\r\n    </g>\r\n    <g id=\"ytick_8\">\r\n     <g id=\"line2d_13\">\r\n      <g>\r\n       <use style=\"stroke:#000000;stroke-width:0.8;\" x=\"30.103125\" xlink:href=\"#m3fa4bb17ad\" y=\"41.792727\"/>\r\n      </g>\r\n     </g>\r\n     <g id=\"text_13\">\r\n      <!-- 4.5 -->\r\n      <g transform=\"translate(7.2 45.591946)scale(0.1 -0.1)\">\r\n       <use xlink:href=\"#DejaVuSans-52\"/>\r\n       <use x=\"63.623047\" xlink:href=\"#DejaVuSans-46\"/>\r\n       <use x=\"95.410156\" xlink:href=\"#DejaVuSans-53\"/>\r\n      </g>\r\n     </g>\r\n    </g>\r\n    <g id=\"ytick_9\">\r\n     <g id=\"line2d_14\">\r\n      <g>\r\n       <use style=\"stroke:#000000;stroke-width:0.8;\" x=\"30.103125\" xlink:href=\"#m3fa4bb17ad\" y=\"17.083636\"/>\r\n      </g>\r\n     </g>\r\n     <g id=\"text_14\">\r\n      <!-- 5.0 -->\r\n      <g transform=\"translate(7.2 20.882855)scale(0.1 -0.1)\">\r\n       <use xlink:href=\"#DejaVuSans-53\"/>\r\n       <use x=\"63.623047\" xlink:href=\"#DejaVuSans-46\"/>\r\n       <use x=\"95.410156\" xlink:href=\"#DejaVuSans-48\"/>\r\n      </g>\r\n     </g>\r\n    </g>\r\n   </g>\r\n   <g id=\"line2d_15\">\r\n    <path clip-path=\"url(#p0fe433bed3)\" d=\"M 45.321307 214.756364 \r\nL 121.412216 17.083636 \r\nL 197.503125 214.756364 \r\nL 273.594034 165.338182 \r\nL 349.684943 214.756364 \r\n\" style=\"fill:none;stroke:#1f77b4;stroke-linecap:square;stroke-width:1.5;\"/>\r\n   </g>\r\n   <g id=\"patch_3\">\r\n    <path d=\"M 30.103125 224.64 \r\nL 30.103125 7.2 \r\n\" style=\"fill:none;stroke:#000000;stroke-linecap:square;stroke-linejoin:miter;stroke-width:0.8;\"/>\r\n   </g>\r\n   <g id=\"patch_4\">\r\n    <path d=\"M 364.903125 224.64 \r\nL 364.903125 7.2 \r\n\" style=\"fill:none;stroke:#000000;stroke-linecap:square;stroke-linejoin:miter;stroke-width:0.8;\"/>\r\n   </g>\r\n   <g id=\"patch_5\">\r\n    <path d=\"M 30.103125 224.64 \r\nL 364.903125 224.64 \r\n\" style=\"fill:none;stroke:#000000;stroke-linecap:square;stroke-linejoin:miter;stroke-width:0.8;\"/>\r\n   </g>\r\n   <g id=\"patch_6\">\r\n    <path d=\"M 30.103125 7.2 \r\nL 364.903125 7.2 \r\n\" style=\"fill:none;stroke:#000000;stroke-linecap:square;stroke-linejoin:miter;stroke-width:0.8;\"/>\r\n   </g>\r\n  </g>\r\n </g>\r\n <defs>\r\n  <clipPath id=\"p0fe433bed3\">\r\n   <rect height=\"217.44\" width=\"334.8\" x=\"30.103125\" y=\"7.2\"/>\r\n  </clipPath>\r\n </defs>\r\n</svg>\r\n",
      "text/plain": "<Figure size 432x288 with 1 Axes>"
     },
     "metadata": {
      "needs_background": "light"
     },
     "output_type": "display_data"
    }
   ],
   "source": [
    "plt.plot(dfTotalTop10ByCountry)"
   ]
  },
  {
   "cell_type": "code",
   "execution_count": 24,
   "metadata": {},
   "outputs": [
    {
     "data": {
      "text/html": "<div>\n<style scoped>\n    .dataframe tbody tr th:only-of-type {\n        vertical-align: middle;\n    }\n\n    .dataframe tbody tr th {\n        vertical-align: top;\n    }\n\n    .dataframe thead th {\n        text-align: right;\n    }\n</style>\n<table border=\"1\" class=\"dataframe\">\n  <thead>\n    <tr style=\"text-align: right;\">\n      <th></th>\n      <th>full_name</th>\n      <th>sex</th>\n      <th>birth_year</th>\n      <th>country</th>\n      <th>industry</th>\n      <th>domain</th>\n      <th>occupation</th>\n      <th>popularity</th>\n    </tr>\n  </thead>\n  <tbody>\n    <tr>\n      <th>11340</th>\n      <td>Missy Franklin</td>\n      <td>Female</td>\n      <td>1995</td>\n      <td>United States</td>\n      <td>Individual Sports</td>\n      <td>Sports</td>\n      <td>Swimmer</td>\n      <td>9.8794</td>\n    </tr>\n    <tr>\n      <th>11339</th>\n      <td>Vladimír Weiss</td>\n      <td>Male</td>\n      <td>1989</td>\n      <td>Slovakia</td>\n      <td>Team Sports</td>\n      <td>Sports</td>\n      <td>Soccer Player</td>\n      <td>10.2495</td>\n    </tr>\n    <tr>\n      <th>11338</th>\n      <td>Rūta Meilutytė</td>\n      <td>Female</td>\n      <td>1997</td>\n      <td>Lithuania</td>\n      <td>Individual Sports</td>\n      <td>Sports</td>\n      <td>Swimmer</td>\n      <td>10.3821</td>\n    </tr>\n    <tr>\n      <th>11337</th>\n      <td>Saina Nehwal</td>\n      <td>Female</td>\n      <td>1990</td>\n      <td>India</td>\n      <td>Individual Sports</td>\n      <td>Sports</td>\n      <td>Athlete</td>\n      <td>10.6122</td>\n    </tr>\n    <tr>\n      <th>11336</th>\n      <td>Sean St Ledger</td>\n      <td>Male</td>\n      <td>1984</td>\n      <td>United Kingdom</td>\n      <td>Team Sports</td>\n      <td>Sports</td>\n      <td>Soccer Player</td>\n      <td>11.1346</td>\n    </tr>\n    <tr>\n      <th>11335</th>\n      <td>Jetro Willems</td>\n      <td>Male</td>\n      <td>1994</td>\n      <td>Netherlands</td>\n      <td>Team Sports</td>\n      <td>Sports</td>\n      <td>Soccer Player</td>\n      <td>11.3956</td>\n    </tr>\n    <tr>\n      <th>11334</th>\n      <td>Rebecca Soni</td>\n      <td>Female</td>\n      <td>1987</td>\n      <td>United States</td>\n      <td>Individual Sports</td>\n      <td>Sports</td>\n      <td>Swimmer</td>\n      <td>11.4050</td>\n    </tr>\n    <tr>\n      <th>11333</th>\n      <td>Sun Yang</td>\n      <td>Male</td>\n      <td>1991</td>\n      <td>China</td>\n      <td>Individual Sports</td>\n      <td>Sports</td>\n      <td>Swimmer</td>\n      <td>11.6234</td>\n    </tr>\n    <tr>\n      <th>11332</th>\n      <td>Shane Long</td>\n      <td>Male</td>\n      <td>1987</td>\n      <td>Ireland</td>\n      <td>Team Sports</td>\n      <td>Sports</td>\n      <td>Soccer Player</td>\n      <td>11.7174</td>\n    </tr>\n    <tr>\n      <th>11331</th>\n      <td>Marc Albrighton</td>\n      <td>Male</td>\n      <td>1989</td>\n      <td>United Kingdom</td>\n      <td>Team Sports</td>\n      <td>Sports</td>\n      <td>Soccer Player</td>\n      <td>11.7258</td>\n    </tr>\n  </tbody>\n</table>\n</div>",
      "text/plain": "             full_name     sex  birth_year         country           industry  \\\n11340   Missy Franklin  Female        1995   United States  Individual Sports   \n11339   Vladimír Weiss    Male        1989        Slovakia        Team Sports   \n11338   Rūta Meilutytė  Female        1997       Lithuania  Individual Sports   \n11337     Saina Nehwal  Female        1990           India  Individual Sports   \n11336   Sean St Ledger    Male        1984  United Kingdom        Team Sports   \n11335    Jetro Willems    Male        1994     Netherlands        Team Sports   \n11334     Rebecca Soni  Female        1987   United States  Individual Sports   \n11333         Sun Yang    Male        1991           China  Individual Sports   \n11332       Shane Long    Male        1987         Ireland        Team Sports   \n11331  Marc Albrighton    Male        1989  United Kingdom        Team Sports   \n\n       domain     occupation  popularity  \n11340  Sports        Swimmer      9.8794  \n11339  Sports  Soccer Player     10.2495  \n11338  Sports        Swimmer     10.3821  \n11337  Sports        Athlete     10.6122  \n11336  Sports  Soccer Player     11.1346  \n11335  Sports  Soccer Player     11.3956  \n11334  Sports        Swimmer     11.4050  \n11333  Sports        Swimmer     11.6234  \n11332  Sports  Soccer Player     11.7174  \n11331  Sports  Soccer Player     11.7258  "
     },
     "execution_count": 24,
     "metadata": {},
     "output_type": "execute_result"
    }
   ],
   "source": [
    "# Which historic characters are in the top ten least popular?\n",
    "dfTopTenLeastPopularPeople = dfCleanData.sort_values(by = ['popularity'], ascending = True)\n",
    "dfTopTenLeastPopularPeople = dfTopTenLeastPopularPeople.head(10)\n",
    "dfTopTenLeastPopularPeople.loc[:,columnToDisplayCleanData].head(10)"
   ]
  },
  {
   "cell_type": "code",
   "execution_count": 25,
   "metadata": {},
   "outputs": [
    {
     "data": {
      "text/html": "<div>\n<style scoped>\n    .dataframe tbody tr th:only-of-type {\n        vertical-align: middle;\n    }\n\n    .dataframe tbody tr th {\n        vertical-align: top;\n    }\n\n    .dataframe thead th {\n        text-align: right;\n    }\n</style>\n<table border=\"1\" class=\"dataframe\">\n  <thead>\n    <tr style=\"text-align: right;\">\n      <th></th>\n      <th></th>\n      <th>total_count</th>\n    </tr>\n    <tr>\n      <th>country</th>\n      <th>sex</th>\n      <th></th>\n    </tr>\n  </thead>\n  <tbody>\n    <tr>\n      <th>China</th>\n      <th>Male</th>\n      <td>1</td>\n    </tr>\n    <tr>\n      <th>India</th>\n      <th>Female</th>\n      <td>1</td>\n    </tr>\n    <tr>\n      <th>Ireland</th>\n      <th>Male</th>\n      <td>1</td>\n    </tr>\n    <tr>\n      <th>Lithuania</th>\n      <th>Female</th>\n      <td>1</td>\n    </tr>\n    <tr>\n      <th>Netherlands</th>\n      <th>Male</th>\n      <td>1</td>\n    </tr>\n    <tr>\n      <th>Slovakia</th>\n      <th>Male</th>\n      <td>1</td>\n    </tr>\n    <tr>\n      <th>United Kingdom</th>\n      <th>Male</th>\n      <td>2</td>\n    </tr>\n    <tr>\n      <th>United States</th>\n      <th>Female</th>\n      <td>2</td>\n    </tr>\n  </tbody>\n</table>\n</div>",
      "text/plain": "                       total_count\ncountry        sex                \nChina          Male              1\nIndia          Female            1\nIreland        Male              1\nLithuania      Female            1\nNetherlands    Male              1\nSlovakia       Male              1\nUnited Kingdom Male              2\nUnited States  Female            2"
     },
     "execution_count": 25,
     "metadata": {},
     "output_type": "execute_result"
    }
   ],
   "source": [
    "dfTotalTop10LByContinentByCountry = pd.DataFrame(dfTopTenLeastPopularPeople.groupby([ 'country','sex'])['article_id'].count())\n",
    "dfTotalTop10LByContinentByCountry.rename(columns={'article_id': 'total_count'}, inplace=True)\n",
    "dfTotalTop10LByContinentByCountry"
   ]
  },
  {
   "cell_type": "code",
   "execution_count": 26,
   "metadata": {},
   "outputs": [
    {
     "data": {
      "text/html": "<div>\n<style scoped>\n    .dataframe tbody tr th:only-of-type {\n        vertical-align: middle;\n    }\n\n    .dataframe tbody tr th {\n        vertical-align: top;\n    }\n\n    .dataframe thead th {\n        text-align: right;\n    }\n</style>\n<table border=\"1\" class=\"dataframe\">\n  <thead>\n    <tr style=\"text-align: right;\">\n      <th></th>\n      <th></th>\n      <th>total_count</th>\n    </tr>\n    <tr>\n      <th>continent</th>\n      <th>country</th>\n      <th></th>\n    </tr>\n  </thead>\n  <tbody>\n    <tr>\n      <th>North America</th>\n      <th>United States</th>\n      <td>2168</td>\n    </tr>\n    <tr>\n      <th rowspan=\"4\" valign=\"top\">Europe</th>\n      <th>United Kingdom</th>\n      <td>1145</td>\n    </tr>\n    <tr>\n      <th>France</th>\n      <td>866</td>\n    </tr>\n    <tr>\n      <th>Italy</th>\n      <td>808</td>\n    </tr>\n    <tr>\n      <th>Germany</th>\n      <td>747</td>\n    </tr>\n    <tr>\n      <th>Unknown</th>\n      <th>Unknown</th>\n      <td>405</td>\n    </tr>\n    <tr>\n      <th rowspan=\"2\" valign=\"top\">Europe</th>\n      <th>Russia</th>\n      <td>374</td>\n    </tr>\n    <tr>\n      <th>Spain</th>\n      <td>296</td>\n    </tr>\n    <tr>\n      <th>Asia</th>\n      <th>Turkey</th>\n      <td>202</td>\n    </tr>\n    <tr>\n      <th>Europe</th>\n      <th>Poland</th>\n      <td>173</td>\n    </tr>\n  </tbody>\n</table>\n</div>",
      "text/plain": "                              total_count\ncontinent     country                    \nNorth America United States          2168\nEurope        United Kingdom         1145\n              France                  866\n              Italy                   808\n              Germany                 747\nUnknown       Unknown                 405\nEurope        Russia                  374\n              Spain                   296\nAsia          Turkey                  202\nEurope        Poland                  173"
     },
     "execution_count": 26,
     "metadata": {},
     "output_type": "execute_result"
    }
   ],
   "source": [
    "# Getting the count by countinent and by country\n",
    "dfTotalByContinentByCountry = pd.DataFrame(dfCleanData.groupby(['continent', 'country'])['article_id'].count())\n",
    "# Renaming the default column name the dataframe created to a meaningfull name\n",
    "dfTotalByContinentByCountry.rename(columns={'article_id': 'total_count'}, inplace=True)\n",
    "dfTotalByContinentByCountry.sort_values(by = ['total_count'], ascending = False).head(10)"
   ]
  },
  {
   "cell_type": "code",
   "execution_count": 27,
   "metadata": {},
   "outputs": [
    {
     "data": {
      "text/html": "<div>\n<style scoped>\n    .dataframe tbody tr th:only-of-type {\n        vertical-align: middle;\n    }\n\n    .dataframe tbody tr th {\n        vertical-align: top;\n    }\n\n    .dataframe thead th {\n        text-align: right;\n    }\n</style>\n<table border=\"1\" class=\"dataframe\">\n  <thead>\n    <tr style=\"text-align: right;\">\n      <th></th>\n      <th>total_count</th>\n    </tr>\n    <tr>\n      <th>continent</th>\n      <th></th>\n    </tr>\n  </thead>\n  <tbody>\n    <tr>\n      <th>Europe</th>\n      <td>6368</td>\n    </tr>\n    <tr>\n      <th>North America</th>\n      <td>2439</td>\n    </tr>\n    <tr>\n      <th>Asia</th>\n      <td>1188</td>\n    </tr>\n    <tr>\n      <th>Africa</th>\n      <td>419</td>\n    </tr>\n    <tr>\n      <th>Unknown</th>\n      <td>408</td>\n    </tr>\n    <tr>\n      <th>South America</th>\n      <td>366</td>\n    </tr>\n    <tr>\n      <th>Oceania</th>\n      <td>123</td>\n    </tr>\n    <tr>\n      <th>NA</th>\n      <td>30</td>\n    </tr>\n  </tbody>\n</table>\n</div>",
      "text/plain": "               total_count\ncontinent                 \nEurope                6368\nNorth America         2439\nAsia                  1188\nAfrica                 419\nUnknown                408\nSouth America          366\nOceania                123\nNA                      30"
     },
     "execution_count": 27,
     "metadata": {},
     "output_type": "execute_result"
    }
   ],
   "source": [
    "# Getting the count by countinent\n",
    "dfTotalByContinent = pd.DataFrame(dfCleanData.groupby(['continent'])['article_id'].count())\n",
    "# Renaming the default column name the dataframe created to a meaningfull name\n",
    "dfTotalByContinent.rename(columns={'article_id': 'total_count'}, inplace=True)\n",
    "dfTotalByContinent.sort_values(by = ['total_count'], ascending = False)"
   ]
  },
  {
   "cell_type": "markdown",
   "metadata": {},
   "source": [
    "## Modeling"
   ]
  },
  {
   "cell_type": "markdown",
   "metadata": {},
   "source": [
    "# Results"
   ]
  },
  {
   "cell_type": "markdown",
   "metadata": {},
   "source": [
    "# Conclusion"
   ]
  },
  {
   "cell_type": "code",
   "execution_count": null,
   "metadata": {},
   "outputs": [],
   "source": []
  }
 ],
 "metadata": {
  "file_extension": ".py",
  "kernelspec": {
   "display_name": "Python 3",
   "language": "python",
   "name": "python3"
  },
  "language_info": {
   "codemirror_mode": {
    "name": "ipython",
    "version": 3
   },
   "file_extension": ".py",
   "mimetype": "text/x-python",
   "name": "python",
   "nbconvert_exporter": "python",
   "pygments_lexer": "ipython3",
   "version": "3.7.3"
  },
  "mimetype": "text/x-python",
  "name": "python",
  "npconvert_exporter": "python",
  "pygments_lexer": "ipython3",
  "version": 3
 },
 "nbformat": 4,
 "nbformat_minor": 2
}