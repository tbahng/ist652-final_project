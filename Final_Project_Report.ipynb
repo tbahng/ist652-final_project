{
 "cells": [
  {
   "cell_type": "markdown",
   "metadata": {},
   "source": [
    "# IST 652 Final Project - A Pantheon Exploration"
   ]
  },
  {
   "cell_type": "code",
   "execution_count": 1,
   "metadata": {},
   "outputs": [
    {
     "data": {
      "text/plain": "'c:\\\\Users\\\\Meng Synn\\\\Documents\\\\GitHub\\\\ist652-final_project'"
     },
     "execution_count": 1,
     "metadata": {},
     "output_type": "execute_result"
    }
   ],
   "source": [
    "import os\n",
    "os.getcwd()\n",
    "#os.path.isfile(\"data/database.csv\")"
   ]
  },
  {
   "cell_type": "markdown",
   "metadata": {},
   "source": [
    "# Introduction\n",
    "\n",
    "Research questions:\n",
    "\n",
    "* Which historic characters are the most popular?\n",
    "* When did they live and where are they from?\n",
    "* What factors could ahve generated their popularity?\n",
    "* Are there any observable trends in the categorical data provided?\n",
    "* What associations exist between the variables in the data?\n",
    "* What clusters and groupings are in the data? How do groups compared in popularity?"
   ]
  },
  {
   "cell_type": "markdown",
   "metadata": {},
   "source": [
    "# Analysis\n",
    "\n",
    "Key analysis methods used in report:\n",
    "* Data Cleaning\n",
    "* Sorting and subsets of the data.\n",
    "* Line and bar plots.\n",
    "* Multiple regression"
   ]
  },
  {
   "cell_type": "markdown",
   "metadata": {},
   "source": [
    "## About the Data"
   ]
  },
  {
   "cell_type": "code",
   "execution_count": 75,
   "metadata": {},
   "outputs": [],
   "source": [
    "# Loading data from .csv file\n",
    "import pandas as pd\n",
    "dfDirtyData = pd.read_csv(\"data/database.csv\", sep=\",\", header=0)"
   ]
  },
  {
   "cell_type": "code",
   "execution_count": 22,
   "metadata": {},
   "outputs": [],
   "source": []
  },
  {
   "cell_type": "code",
   "execution_count": 20,
   "metadata": {},
   "outputs": [
    {
     "name": "stdout",
     "output_type": "stream",
     "text": "<class 'pandas.core.frame.DataFrame'>\nRangeIndex: 11341 entries, 0 to 11340\nData columns (total 17 columns):\narticle_id                     11341 non-null int64\nfull_name                      11341 non-null object\nsex                            11341 non-null object\nbirth_year                     11341 non-null object\ncity                           11341 non-null object\nstate                          2172 non-null object\ncountry                        11308 non-null object\ncontinent                      11311 non-null object\nlatitude                       10294 non-null float64\nlongitude                      10294 non-null float64\noccupation                     11341 non-null object\nindustry                       11341 non-null object\ndomain                         11341 non-null object\narticle_languages              11341 non-null int64\npage_views                     11341 non-null int64\naverage_views                  11341 non-null int64\nhistorical_popularity_index    11341 non-null float64\ndtypes: float64(3), int64(4), object(10)\nmemory usage: 1.5+ MB\n"
    }
   ],
   "source": [
    "# Showing inforamtion about the dataframe\n",
    "dfDirtyData.info()"
   ]
  },
  {
   "cell_type": "code",
   "execution_count": 16,
   "metadata": {},
   "outputs": [
    {
     "data": {
      "text/plain": "article_id                             23671899\nfull_name                                Elisha\nsex                                        Male\nbirth_year                              Unknown\ncity                                      Other\nstate                                       NaN\ncountry                                 Unknown\ncontinent                               Unknown\nlatitude                                    NaN\nlongitude                                   NaN\noccupation                     Religious Figure\nindustry                               Religion\ndomain                             Institutions\narticle_languages                            41\npage_views                              1338790\naverage_views                             32653\nhistorical_popularity_index             25.5087\nName: 1522, dtype: object"
     },
     "execution_count": 16,
     "metadata": {},
     "output_type": "execute_result"
    }
   ],
   "source": [
    "# Showing a record of a single person from the dataframe\n",
    "dfDirtyData.iloc[1522]"
   ]
  },
  {
   "cell_type": "code",
   "execution_count": 76,
   "metadata": {},
   "outputs": [],
   "source": [
    "# Creating a varibale to hold fields for displaying purpose since not all will fit\n",
    "columnToDisplayDirtyData = ['full_name', 'sex', 'birth_year', 'country', 'occupation','historical_popularity_index']"
   ]
  },
  {
   "cell_type": "code",
   "execution_count": 77,
   "metadata": {},
   "outputs": [
    {
     "data": {
      "text/html": "<div>\n<style scoped>\n    .dataframe tbody tr th:only-of-type {\n        vertical-align: middle;\n    }\n\n    .dataframe tbody tr th {\n        vertical-align: top;\n    }\n\n    .dataframe thead th {\n        text-align: right;\n    }\n</style>\n<table border=\"1\" class=\"dataframe\">\n  <thead>\n    <tr style=\"text-align: right;\">\n      <th></th>\n      <th>full_name</th>\n      <th>sex</th>\n      <th>birth_year</th>\n      <th>country</th>\n      <th>occupation</th>\n      <th>historical_popularity_index</th>\n    </tr>\n  </thead>\n  <tbody>\n    <tr>\n      <th>0</th>\n      <td>Aristotle</td>\n      <td>Male</td>\n      <td>-384</td>\n      <td>Greece</td>\n      <td>Philosopher</td>\n      <td>31.9938</td>\n    </tr>\n    <tr>\n      <th>1</th>\n      <td>Plato</td>\n      <td>Male</td>\n      <td>-427</td>\n      <td>Greece</td>\n      <td>Philosopher</td>\n      <td>31.9888</td>\n    </tr>\n    <tr>\n      <th>2</th>\n      <td>Jesus Christ</td>\n      <td>Male</td>\n      <td>-4</td>\n      <td>Israel</td>\n      <td>Religious Figure</td>\n      <td>31.8981</td>\n    </tr>\n    <tr>\n      <th>3</th>\n      <td>Socrates</td>\n      <td>Male</td>\n      <td>-469</td>\n      <td>Greece</td>\n      <td>Philosopher</td>\n      <td>31.6521</td>\n    </tr>\n    <tr>\n      <th>4</th>\n      <td>Alexander the Great</td>\n      <td>Male</td>\n      <td>-356</td>\n      <td>Greece</td>\n      <td>Military Personnel</td>\n      <td>31.5840</td>\n    </tr>\n  </tbody>\n</table>\n</div>",
      "text/plain": "             full_name   sex birth_year country          occupation  \\\n0            Aristotle  Male       -384  Greece         Philosopher   \n1                Plato  Male       -427  Greece         Philosopher   \n2         Jesus Christ  Male         -4  Israel    Religious Figure   \n3             Socrates  Male       -469  Greece         Philosopher   \n4  Alexander the Great  Male       -356  Greece  Military Personnel   \n\n   historical_popularity_index  \n0                      31.9938  \n1                      31.9888  \n2                      31.8981  \n3                      31.6521  \n4                      31.5840  "
     },
     "execution_count": 77,
     "metadata": {},
     "output_type": "execute_result"
    }
   ],
   "source": [
    "# Showing the first 5 rows of the data in the data frame\n",
    "dfDirtyData.loc[:,columnToDisplayDirtyData].head(5)"
   ]
  },
  {
   "cell_type": "code",
   "execution_count": 78,
   "metadata": {},
   "outputs": [
    {
     "data": {
      "text/html": "<div>\n<style scoped>\n    .dataframe tbody tr th:only-of-type {\n        vertical-align: middle;\n    }\n\n    .dataframe tbody tr th {\n        vertical-align: top;\n    }\n\n    .dataframe thead th {\n        text-align: right;\n    }\n</style>\n<table border=\"1\" class=\"dataframe\">\n  <thead>\n    <tr style=\"text-align: right;\">\n      <th></th>\n      <th>full_name</th>\n      <th>sex</th>\n      <th>birth_year</th>\n      <th>country</th>\n      <th>occupation</th>\n      <th>historical_popularity_index</th>\n    </tr>\n  </thead>\n  <tbody>\n    <tr>\n      <th>11336</th>\n      <td>Sean St Ledger</td>\n      <td>Male</td>\n      <td>1984</td>\n      <td>United Kingdom</td>\n      <td>Soccer Player</td>\n      <td>11.1346</td>\n    </tr>\n    <tr>\n      <th>11337</th>\n      <td>Saina Nehwal</td>\n      <td>Female</td>\n      <td>1990</td>\n      <td>India</td>\n      <td>Athlete</td>\n      <td>10.6122</td>\n    </tr>\n    <tr>\n      <th>11338</th>\n      <td>Rūta Meilutytė</td>\n      <td>Female</td>\n      <td>1997</td>\n      <td>Lithuania</td>\n      <td>Swimmer</td>\n      <td>10.3821</td>\n    </tr>\n    <tr>\n      <th>11339</th>\n      <td>Vladimír Weiss</td>\n      <td>Male</td>\n      <td>1989</td>\n      <td>Slovakia</td>\n      <td>Soccer Player</td>\n      <td>10.2495</td>\n    </tr>\n    <tr>\n      <th>11340</th>\n      <td>Missy Franklin</td>\n      <td>Female</td>\n      <td>1995</td>\n      <td>United States</td>\n      <td>Swimmer</td>\n      <td>9.8794</td>\n    </tr>\n  </tbody>\n</table>\n</div>",
      "text/plain": "            full_name     sex birth_year         country     occupation  \\\n11336  Sean St Ledger    Male       1984  United Kingdom  Soccer Player   \n11337    Saina Nehwal  Female       1990           India        Athlete   \n11338  Rūta Meilutytė  Female       1997       Lithuania        Swimmer   \n11339  Vladimír Weiss    Male       1989        Slovakia  Soccer Player   \n11340  Missy Franklin  Female       1995   United States        Swimmer   \n\n       historical_popularity_index  \n11336                      11.1346  \n11337                      10.6122  \n11338                      10.3821  \n11339                      10.2495  \n11340                       9.8794  "
     },
     "execution_count": 78,
     "metadata": {},
     "output_type": "execute_result"
    }
   ],
   "source": [
    "# Showing the first 5 rows of the data in the data frame\n",
    "dfDirtyData.loc[:,columnToDisplayDirtyData].tail(5)"
   ]
  },
  {
   "cell_type": "markdown",
   "metadata": {},
   "source": [
    "## Data Cleaning"
   ]
  },
  {
   "cell_type": "code",
   "execution_count": 93,
   "metadata": {},
   "outputs": [],
   "source": [
    "# Finding the index of a numeric column contains string.\n",
    "def findStringValueIndex(fieldName):\n",
    "    badRowIndex = [] # initialize list of problematic rows\n",
    "    for idx, year in enumerate(dfCleanData[fieldName]):\n",
    "        try:\n",
    "            int(year)\n",
    "        except:\n",
    "            badRowIndex.append(idx)\n",
    "    return badRowIndex"
   ]
  },
  {
   "cell_type": "code",
   "execution_count": 67,
   "metadata": {},
   "outputs": [],
   "source": [
    "# Creating a new copy of the original dataframe\n",
    "dfCleanData = dfDirtyData"
   ]
  },
  {
   "cell_type": "code",
   "execution_count": 107,
   "metadata": {},
   "outputs": [],
   "source": [
    "# Renaming historical_popularity_index to popularity (short name)\n",
    "dfCleanData.rename(columns={'historical_popularity_index': 'popularity'}, inplace=True)\n",
    "dfCleanData[\"latitude\"].fillna(value=0, inplace=True)\n",
    "dfCleanData[\"longitude\"].fillna(value=0, inplace=True)\n",
    "# Replacing birth year which was unknown to be 0\n",
    "dfCleanData['birth_year'] = dfCleanData['birth_year'].replace(['Unknown'], 0)\n",
    "# Replacing birth_year with zero when it contains character value\n",
    "dfCleanData.loc[findStringValueIndex('birth_year'), 'birth_year'] = 0\n",
    "# Changing the columns that look like numbers but show up as object to numeric\n",
    "columnToConvert = [\"article_languages\", \"birth_year\", \"page_views\",\"average_views\", \"popularity\"]\n",
    "dfCleanData[columnToConvert] = dfCleanData[columnToConvert].apply(pd.to_numeric)"
   ]
  },
  {
   "cell_type": "code",
   "execution_count": 108,
   "metadata": {},
   "outputs": [
    {
     "name": "stdout",
     "output_type": "stream",
     "text": "<class 'pandas.core.frame.DataFrame'>\nRangeIndex: 11341 entries, 0 to 11340\nData columns (total 17 columns):\narticle_id           11341 non-null int64\nfull_name            11341 non-null object\nsex                  11341 non-null object\nbirth_year           11341 non-null int64\ncity                 11341 non-null object\nstate                2172 non-null object\ncountry              11308 non-null object\ncontinent            11311 non-null object\nlatitude             11341 non-null float64\nlongitude            11341 non-null float64\noccupation           11341 non-null object\nindustry             11341 non-null object\ndomain               11341 non-null object\narticle_languages    11341 non-null int64\npage_views           11341 non-null int64\naverage_views        11341 non-null int64\npopularity           11341 non-null float64\ndtypes: float64(3), int64(5), object(9)\nmemory usage: 1.5+ MB\n"
    }
   ],
   "source": [
    "# Showing inforamtion about the dataframe\n",
    "dfCleanData.info()"
   ]
  },
  {
   "cell_type": "code",
   "execution_count": 97,
   "metadata": {},
   "outputs": [],
   "source": [
    "# Creating a varibale to hold fields for displaying purpose since not all will fit\n",
    "columnToDisplayCleanData = ['full_name', 'sex', 'birth_year', 'country', 'occupation','popularity']"
   ]
  },
  {
   "cell_type": "code",
   "execution_count": 69,
   "metadata": {},
   "outputs": [
    {
     "data": {
      "text/html": "<div>\n<style scoped>\n    .dataframe tbody tr th:only-of-type {\n        vertical-align: middle;\n    }\n\n    .dataframe tbody tr th {\n        vertical-align: top;\n    }\n\n    .dataframe thead th {\n        text-align: right;\n    }\n</style>\n<table border=\"1\" class=\"dataframe\">\n  <thead>\n    <tr style=\"text-align: right;\">\n      <th></th>\n      <th>full_name</th>\n      <th>sex</th>\n      <th>birth_year</th>\n      <th>country</th>\n      <th>occupation</th>\n      <th>popularity</th>\n    </tr>\n  </thead>\n  <tbody>\n    <tr>\n      <th>0</th>\n      <td>Aristotle</td>\n      <td>Male</td>\n      <td>-384</td>\n      <td>Greece</td>\n      <td>Philosopher</td>\n      <td>31.9938</td>\n    </tr>\n    <tr>\n      <th>1</th>\n      <td>Plato</td>\n      <td>Male</td>\n      <td>-427</td>\n      <td>Greece</td>\n      <td>Philosopher</td>\n      <td>31.9888</td>\n    </tr>\n    <tr>\n      <th>2</th>\n      <td>Jesus Christ</td>\n      <td>Male</td>\n      <td>-4</td>\n      <td>Israel</td>\n      <td>Religious Figure</td>\n      <td>31.8981</td>\n    </tr>\n    <tr>\n      <th>3</th>\n      <td>Socrates</td>\n      <td>Male</td>\n      <td>-469</td>\n      <td>Greece</td>\n      <td>Philosopher</td>\n      <td>31.6521</td>\n    </tr>\n    <tr>\n      <th>4</th>\n      <td>Alexander the Great</td>\n      <td>Male</td>\n      <td>-356</td>\n      <td>Greece</td>\n      <td>Military Personnel</td>\n      <td>31.5840</td>\n    </tr>\n  </tbody>\n</table>\n</div>",
      "text/plain": "             full_name   sex birth_year country          occupation  \\\n0            Aristotle  Male       -384  Greece         Philosopher   \n1                Plato  Male       -427  Greece         Philosopher   \n2         Jesus Christ  Male         -4  Israel    Religious Figure   \n3             Socrates  Male       -469  Greece         Philosopher   \n4  Alexander the Great  Male       -356  Greece  Military Personnel   \n\n   popularity  \n0     31.9938  \n1     31.9888  \n2     31.8981  \n3     31.6521  \n4     31.5840  "
     },
     "execution_count": 69,
     "metadata": {},
     "output_type": "execute_result"
    }
   ],
   "source": [
    "# Showing the first 5 rows of the data in the dataset\n",
    "dfCleanData.loc[:,columnToDisplayCleanData].head(5)"
   ]
  },
  {
   "cell_type": "code",
   "execution_count": 98,
   "metadata": {},
   "outputs": [
    {
     "data": {
      "text/html": "<div>\n<style scoped>\n    .dataframe tbody tr th:only-of-type {\n        vertical-align: middle;\n    }\n\n    .dataframe tbody tr th {\n        vertical-align: top;\n    }\n\n    .dataframe thead th {\n        text-align: right;\n    }\n</style>\n<table border=\"1\" class=\"dataframe\">\n  <thead>\n    <tr style=\"text-align: right;\">\n      <th></th>\n      <th>full_name</th>\n      <th>sex</th>\n      <th>birth_year</th>\n      <th>country</th>\n      <th>occupation</th>\n      <th>popularity</th>\n    </tr>\n  </thead>\n  <tbody>\n    <tr>\n      <th>11336</th>\n      <td>Sean St Ledger</td>\n      <td>Male</td>\n      <td>1984</td>\n      <td>United Kingdom</td>\n      <td>Soccer Player</td>\n      <td>11.1346</td>\n    </tr>\n    <tr>\n      <th>11337</th>\n      <td>Saina Nehwal</td>\n      <td>Female</td>\n      <td>1990</td>\n      <td>India</td>\n      <td>Athlete</td>\n      <td>10.6122</td>\n    </tr>\n    <tr>\n      <th>11338</th>\n      <td>Rūta Meilutytė</td>\n      <td>Female</td>\n      <td>1997</td>\n      <td>Lithuania</td>\n      <td>Swimmer</td>\n      <td>10.3821</td>\n    </tr>\n    <tr>\n      <th>11339</th>\n      <td>Vladimír Weiss</td>\n      <td>Male</td>\n      <td>1989</td>\n      <td>Slovakia</td>\n      <td>Soccer Player</td>\n      <td>10.2495</td>\n    </tr>\n    <tr>\n      <th>11340</th>\n      <td>Missy Franklin</td>\n      <td>Female</td>\n      <td>1995</td>\n      <td>United States</td>\n      <td>Swimmer</td>\n      <td>9.8794</td>\n    </tr>\n  </tbody>\n</table>\n</div>",
      "text/plain": "            full_name     sex  birth_year         country     occupation  \\\n11336  Sean St Ledger    Male        1984  United Kingdom  Soccer Player   \n11337    Saina Nehwal  Female        1990           India        Athlete   \n11338  Rūta Meilutytė  Female        1997       Lithuania        Swimmer   \n11339  Vladimír Weiss    Male        1989        Slovakia  Soccer Player   \n11340  Missy Franklin  Female        1995   United States        Swimmer   \n\n       popularity  \n11336     11.1346  \n11337     10.6122  \n11338     10.3821  \n11339     10.2495  \n11340      9.8794  "
     },
     "execution_count": 98,
     "metadata": {},
     "output_type": "execute_result"
    }
   ],
   "source": [
    "# Showing the last 5 rows of the data in the dataset\n",
    "dfCleanData.loc[:,columnToDisplayCleanData].tail(5)"
   ]
  },
  {
   "cell_type": "markdown",
   "metadata": {},
   "source": [
    "## Exploration"
   ]
  },
  {
   "cell_type": "code",
   "execution_count": 100,
   "metadata": {},
   "outputs": [
    {
     "data": {
      "text/html": "<div>\n<style scoped>\n    .dataframe tbody tr th:only-of-type {\n        vertical-align: middle;\n    }\n\n    .dataframe tbody tr th {\n        vertical-align: top;\n    }\n\n    .dataframe thead th {\n        text-align: right;\n    }\n</style>\n<table border=\"1\" class=\"dataframe\">\n  <thead>\n    <tr style=\"text-align: right;\">\n      <th></th>\n      <th>full_name</th>\n      <th>sex</th>\n      <th>birth_year</th>\n      <th>country</th>\n      <th>occupation</th>\n      <th>popularity</th>\n    </tr>\n  </thead>\n  <tbody>\n    <tr>\n      <th>0</th>\n      <td>Aristotle</td>\n      <td>Male</td>\n      <td>-384</td>\n      <td>Greece</td>\n      <td>Philosopher</td>\n      <td>31.9938</td>\n    </tr>\n    <tr>\n      <th>1</th>\n      <td>Plato</td>\n      <td>Male</td>\n      <td>-427</td>\n      <td>Greece</td>\n      <td>Philosopher</td>\n      <td>31.9888</td>\n    </tr>\n    <tr>\n      <th>2</th>\n      <td>Jesus Christ</td>\n      <td>Male</td>\n      <td>-4</td>\n      <td>Israel</td>\n      <td>Religious Figure</td>\n      <td>31.8981</td>\n    </tr>\n    <tr>\n      <th>3</th>\n      <td>Socrates</td>\n      <td>Male</td>\n      <td>-469</td>\n      <td>Greece</td>\n      <td>Philosopher</td>\n      <td>31.6521</td>\n    </tr>\n    <tr>\n      <th>4</th>\n      <td>Alexander the Great</td>\n      <td>Male</td>\n      <td>-356</td>\n      <td>Greece</td>\n      <td>Military Personnel</td>\n      <td>31.5840</td>\n    </tr>\n    <tr>\n      <th>5</th>\n      <td>Leonardo da Vinci</td>\n      <td>Male</td>\n      <td>1452</td>\n      <td>Italy</td>\n      <td>Inventor</td>\n      <td>31.4644</td>\n    </tr>\n    <tr>\n      <th>6</th>\n      <td>Confucius</td>\n      <td>Male</td>\n      <td>-551</td>\n      <td>China</td>\n      <td>Philosopher</td>\n      <td>31.3705</td>\n    </tr>\n    <tr>\n      <th>7</th>\n      <td>Julius Caesar</td>\n      <td>Male</td>\n      <td>-100</td>\n      <td>Italy</td>\n      <td>Politician</td>\n      <td>31.1161</td>\n    </tr>\n    <tr>\n      <th>8</th>\n      <td>Homer</td>\n      <td>Male</td>\n      <td>-800</td>\n      <td>Turkey</td>\n      <td>Writer</td>\n      <td>31.1087</td>\n    </tr>\n    <tr>\n      <th>9</th>\n      <td>Pythagoras</td>\n      <td>Male</td>\n      <td>-570</td>\n      <td>Greece</td>\n      <td>Philosopher</td>\n      <td>31.0691</td>\n    </tr>\n  </tbody>\n</table>\n</div>",
      "text/plain": "             full_name   sex  birth_year country          occupation  \\\n0            Aristotle  Male        -384  Greece         Philosopher   \n1                Plato  Male        -427  Greece         Philosopher   \n2         Jesus Christ  Male          -4  Israel    Religious Figure   \n3             Socrates  Male        -469  Greece         Philosopher   \n4  Alexander the Great  Male        -356  Greece  Military Personnel   \n5    Leonardo da Vinci  Male        1452   Italy            Inventor   \n6            Confucius  Male        -551   China         Philosopher   \n7        Julius Caesar  Male        -100   Italy          Politician   \n8                Homer  Male        -800  Turkey              Writer   \n9           Pythagoras  Male        -570  Greece         Philosopher   \n\n   popularity  \n0     31.9938  \n1     31.9888  \n2     31.8981  \n3     31.6521  \n4     31.5840  \n5     31.4644  \n6     31.3705  \n7     31.1161  \n8     31.1087  \n9     31.0691  "
     },
     "execution_count": 100,
     "metadata": {},
     "output_type": "execute_result"
    }
   ],
   "source": [
    "# Which historic characters are in the top ten most popular?\n",
    "dfTopTenMostPopularPeople = dfCleanData.sort_values(by = ['popularity'], ascending = False)\n",
    "dfTopTenMostPopularPeople = dfTopTenMostPopularPeople.head(10)\n",
    "dfTopTenMostPopularPeople.loc[:,columnToDisplayCleanData].head(10)"
   ]
  },
  {
   "cell_type": "code",
   "execution_count": 101,
   "metadata": {},
   "outputs": [
    {
     "data": {
      "text/html": "<div>\n<style scoped>\n    .dataframe tbody tr th:only-of-type {\n        vertical-align: middle;\n    }\n\n    .dataframe tbody tr th {\n        vertical-align: top;\n    }\n\n    .dataframe thead th {\n        text-align: right;\n    }\n</style>\n<table border=\"1\" class=\"dataframe\">\n  <thead>\n    <tr style=\"text-align: right;\">\n      <th></th>\n      <th></th>\n      <th>total_count</th>\n    </tr>\n    <tr>\n      <th>continent</th>\n      <th>country</th>\n      <th></th>\n    </tr>\n  </thead>\n  <tbody>\n    <tr>\n      <th rowspan=\"2\" valign=\"top\">Asia</th>\n      <th>China</th>\n      <td>1</td>\n    </tr>\n    <tr>\n      <th>Israel</th>\n      <td>1</td>\n    </tr>\n    <tr>\n      <th rowspan=\"3\" valign=\"top\">Europe</th>\n      <th>Greece</th>\n      <td>5</td>\n    </tr>\n    <tr>\n      <th>Italy</th>\n      <td>2</td>\n    </tr>\n    <tr>\n      <th>Turkey</th>\n      <td>1</td>\n    </tr>\n  </tbody>\n</table>\n</div>",
      "text/plain": "                   total_count\ncontinent country             \nAsia      China              1\n          Israel             1\nEurope    Greece             5\n          Italy              2\n          Turkey             1"
     },
     "execution_count": 101,
     "metadata": {},
     "output_type": "execute_result"
    }
   ],
   "source": [
    "dfTotalTop10ByContinentByCountry = pd.DataFrame(dfTopTenMostPopularPeople.groupby(['continent', 'country'])['article_id'].count())\n",
    "dfTotalTop10ByContinentByCountry.rename(columns={'article_id': 'total_count'}, inplace=True)\n",
    "dfTotalTop10ByContinentByCountry "
   ]
  },
  {
   "cell_type": "code",
   "execution_count": 105,
   "metadata": {},
   "outputs": [
    {
     "data": {
      "text/html": "<div>\n<style scoped>\n    .dataframe tbody tr th:only-of-type {\n        vertical-align: middle;\n    }\n\n    .dataframe tbody tr th {\n        vertical-align: top;\n    }\n\n    .dataframe thead th {\n        text-align: right;\n    }\n</style>\n<table border=\"1\" class=\"dataframe\">\n  <thead>\n    <tr style=\"text-align: right;\">\n      <th></th>\n      <th>full_name</th>\n      <th>sex</th>\n      <th>birth_year</th>\n      <th>country</th>\n      <th>occupation</th>\n      <th>popularity</th>\n    </tr>\n  </thead>\n  <tbody>\n    <tr>\n      <th>11340</th>\n      <td>Missy Franklin</td>\n      <td>Female</td>\n      <td>1995</td>\n      <td>United States</td>\n      <td>Swimmer</td>\n      <td>9.8794</td>\n    </tr>\n    <tr>\n      <th>11339</th>\n      <td>Vladimír Weiss</td>\n      <td>Male</td>\n      <td>1989</td>\n      <td>Slovakia</td>\n      <td>Soccer Player</td>\n      <td>10.2495</td>\n    </tr>\n    <tr>\n      <th>11338</th>\n      <td>Rūta Meilutytė</td>\n      <td>Female</td>\n      <td>1997</td>\n      <td>Lithuania</td>\n      <td>Swimmer</td>\n      <td>10.3821</td>\n    </tr>\n    <tr>\n      <th>11337</th>\n      <td>Saina Nehwal</td>\n      <td>Female</td>\n      <td>1990</td>\n      <td>India</td>\n      <td>Athlete</td>\n      <td>10.6122</td>\n    </tr>\n    <tr>\n      <th>11336</th>\n      <td>Sean St Ledger</td>\n      <td>Male</td>\n      <td>1984</td>\n      <td>United Kingdom</td>\n      <td>Soccer Player</td>\n      <td>11.1346</td>\n    </tr>\n    <tr>\n      <th>11335</th>\n      <td>Jetro Willems</td>\n      <td>Male</td>\n      <td>1994</td>\n      <td>Netherlands</td>\n      <td>Soccer Player</td>\n      <td>11.3956</td>\n    </tr>\n    <tr>\n      <th>11334</th>\n      <td>Rebecca Soni</td>\n      <td>Female</td>\n      <td>1987</td>\n      <td>United States</td>\n      <td>Swimmer</td>\n      <td>11.4050</td>\n    </tr>\n    <tr>\n      <th>11333</th>\n      <td>Sun Yang</td>\n      <td>Male</td>\n      <td>1991</td>\n      <td>China</td>\n      <td>Swimmer</td>\n      <td>11.6234</td>\n    </tr>\n    <tr>\n      <th>11332</th>\n      <td>Shane Long</td>\n      <td>Male</td>\n      <td>1987</td>\n      <td>Ireland</td>\n      <td>Soccer Player</td>\n      <td>11.7174</td>\n    </tr>\n    <tr>\n      <th>11331</th>\n      <td>Marc Albrighton</td>\n      <td>Male</td>\n      <td>1989</td>\n      <td>United Kingdom</td>\n      <td>Soccer Player</td>\n      <td>11.7258</td>\n    </tr>\n  </tbody>\n</table>\n</div>",
      "text/plain": "             full_name     sex  birth_year         country     occupation  \\\n11340   Missy Franklin  Female        1995   United States        Swimmer   \n11339   Vladimír Weiss    Male        1989        Slovakia  Soccer Player   \n11338   Rūta Meilutytė  Female        1997       Lithuania        Swimmer   \n11337     Saina Nehwal  Female        1990           India        Athlete   \n11336   Sean St Ledger    Male        1984  United Kingdom  Soccer Player   \n11335    Jetro Willems    Male        1994     Netherlands  Soccer Player   \n11334     Rebecca Soni  Female        1987   United States        Swimmer   \n11333         Sun Yang    Male        1991           China        Swimmer   \n11332       Shane Long    Male        1987         Ireland  Soccer Player   \n11331  Marc Albrighton    Male        1989  United Kingdom  Soccer Player   \n\n       popularity  \n11340      9.8794  \n11339     10.2495  \n11338     10.3821  \n11337     10.6122  \n11336     11.1346  \n11335     11.3956  \n11334     11.4050  \n11333     11.6234  \n11332     11.7174  \n11331     11.7258  "
     },
     "execution_count": 105,
     "metadata": {},
     "output_type": "execute_result"
    }
   ],
   "source": [
    "# Which historic characters are in the top ten least popular?\n",
    "dfTopTenLeastPopularPeople = dfCleanData.sort_values(by = ['popularity'], ascending = True)\n",
    "dfTopTenLeastPopularPeople = dfTopTenLeastPopularPeople.head(10)\n",
    "dfTopTenLeastPopularPeople.loc[:,columnToDisplayCleanData].head(10)"
   ]
  },
  {
   "cell_type": "code",
   "execution_count": 106,
   "metadata": {},
   "outputs": [
    {
     "data": {
      "text/html": "<div>\n<style scoped>\n    .dataframe tbody tr th:only-of-type {\n        vertical-align: middle;\n    }\n\n    .dataframe tbody tr th {\n        vertical-align: top;\n    }\n\n    .dataframe thead th {\n        text-align: right;\n    }\n</style>\n<table border=\"1\" class=\"dataframe\">\n  <thead>\n    <tr style=\"text-align: right;\">\n      <th></th>\n      <th></th>\n      <th>total_count</th>\n    </tr>\n    <tr>\n      <th>continent</th>\n      <th>country</th>\n      <th></th>\n    </tr>\n  </thead>\n  <tbody>\n    <tr>\n      <th rowspan=\"2\" valign=\"top\">Asia</th>\n      <th>China</th>\n      <td>1</td>\n    </tr>\n    <tr>\n      <th>India</th>\n      <td>1</td>\n    </tr>\n    <tr>\n      <th rowspan=\"5\" valign=\"top\">Europe</th>\n      <th>Ireland</th>\n      <td>1</td>\n    </tr>\n    <tr>\n      <th>Lithuania</th>\n      <td>1</td>\n    </tr>\n    <tr>\n      <th>Netherlands</th>\n      <td>1</td>\n    </tr>\n    <tr>\n      <th>Slovakia</th>\n      <td>1</td>\n    </tr>\n    <tr>\n      <th>United Kingdom</th>\n      <td>2</td>\n    </tr>\n    <tr>\n      <th>North America</th>\n      <th>United States</th>\n      <td>2</td>\n    </tr>\n  </tbody>\n</table>\n</div>",
      "text/plain": "                              total_count\ncontinent     country                    \nAsia          China                     1\n              India                     1\nEurope        Ireland                   1\n              Lithuania                 1\n              Netherlands               1\n              Slovakia                  1\n              United Kingdom            2\nNorth America United States             2"
     },
     "execution_count": 106,
     "metadata": {},
     "output_type": "execute_result"
    }
   ],
   "source": [
    "dfTotalTop10LByContinentByCountry = pd.DataFrame(dfTopTenLeastPopularPeople.groupby(['continent', 'country'])['article_id'].count())\n",
    "dfTotalTop10LByContinentByCountry.rename(columns={'article_id': 'total_count'}, inplace=True)\n",
    "dfTotalTop10LByContinentByCountry "
   ]
  },
  {
   "cell_type": "code",
   "execution_count": 102,
   "metadata": {},
   "outputs": [
    {
     "data": {
      "text/html": "<div>\n<style scoped>\n    .dataframe tbody tr th:only-of-type {\n        vertical-align: middle;\n    }\n\n    .dataframe tbody tr th {\n        vertical-align: top;\n    }\n\n    .dataframe thead th {\n        text-align: right;\n    }\n</style>\n<table border=\"1\" class=\"dataframe\">\n  <thead>\n    <tr style=\"text-align: right;\">\n      <th></th>\n      <th></th>\n      <th>total_count</th>\n    </tr>\n    <tr>\n      <th>industry</th>\n      <th>occupation</th>\n      <th></th>\n    </tr>\n  </thead>\n  <tbody>\n    <tr>\n      <th>Government</th>\n      <th>Politician</th>\n      <td>2530</td>\n    </tr>\n    <tr>\n      <th>Film And Theatre</th>\n      <th>Actor</th>\n      <td>1193</td>\n    </tr>\n    <tr>\n      <th>Team Sports</th>\n      <th>Soccer Player</th>\n      <td>1064</td>\n    </tr>\n    <tr>\n      <th>Language</th>\n      <th>Writer</th>\n      <td>954</td>\n    </tr>\n    <tr>\n      <th>Religion</th>\n      <th>Religious Figure</th>\n      <td>518</td>\n    </tr>\n    <tr>\n      <th rowspan=\"2\" valign=\"top\">Music</th>\n      <th>Singer</th>\n      <td>437</td>\n    </tr>\n    <tr>\n      <th>Musician</th>\n      <td>381</td>\n    </tr>\n    <tr>\n      <th>Philosophy</th>\n      <th>Philosopher</th>\n      <td>281</td>\n    </tr>\n    <tr>\n      <th>Natural Sciences</th>\n      <th>Physicist</th>\n      <td>268</td>\n    </tr>\n    <tr>\n      <th>Music</th>\n      <th>Composer</th>\n      <td>225</td>\n    </tr>\n    <tr>\n      <th>Military</th>\n      <th>Military Personnel</th>\n      <td>224</td>\n    </tr>\n    <tr>\n      <th>Natural Sciences</th>\n      <th>Chemist</th>\n      <td>220</td>\n    </tr>\n    <tr>\n      <th>Fine Arts</th>\n      <th>Painter</th>\n      <td>178</td>\n    </tr>\n    <tr>\n      <th>Film And Theatre</th>\n      <th>Film Director</th>\n      <td>177</td>\n    </tr>\n    <tr>\n      <th>Individual Sports</th>\n      <th>Tennis Player</th>\n      <td>161</td>\n    </tr>\n    <tr>\n      <th>Math</th>\n      <th>Mathematician</th>\n      <td>157</td>\n    </tr>\n    <tr>\n      <th>Medicine</th>\n      <th>Physician</th>\n      <td>142</td>\n    </tr>\n    <tr>\n      <th>Natural Sciences</th>\n      <th>Biologist</th>\n      <td>141</td>\n    </tr>\n    <tr>\n      <th>Government</th>\n      <th>Nobleman</th>\n      <td>116</td>\n    </tr>\n    <tr>\n      <th>Activism</th>\n      <th>Social Activist</th>\n      <td>114</td>\n    </tr>\n  </tbody>\n</table>\n</div>",
      "text/plain": "                                      total_count\nindustry          occupation                     \nGovernment        Politician                 2530\nFilm And Theatre  Actor                      1193\nTeam Sports       Soccer Player              1064\nLanguage          Writer                      954\nReligion          Religious Figure            518\nMusic             Singer                      437\n                  Musician                    381\nPhilosophy        Philosopher                 281\nNatural Sciences  Physicist                   268\nMusic             Composer                    225\nMilitary          Military Personnel          224\nNatural Sciences  Chemist                     220\nFine Arts         Painter                     178\nFilm And Theatre  Film Director               177\nIndividual Sports Tennis Player               161\nMath              Mathematician               157\nMedicine          Physician                   142\nNatural Sciences  Biologist                   141\nGovernment        Nobleman                    116\nActivism          Social Activist             114"
     },
     "execution_count": 102,
     "metadata": {},
     "output_type": "execute_result"
    }
   ],
   "source": [
    "# Getting the count by country, occupation, industry, and domain\n",
    "dfTotalByCountryByIndustry = pd.DataFrame(dfCleanData.groupby(['industry','occupation'])['article_id'].count())\n",
    "# Renaming the default column name the dataframe created to a meaningfull name\n",
    "dfTotalByCountryByIndustry.rename(columns={'article_id': 'total_count'}, inplace=True)\n",
    "dfTotalByCountryByIndustry.sort_values(by = ['total_count'], ascending = False).head(20)"
   ]
  },
  {
   "cell_type": "code",
   "execution_count": 103,
   "metadata": {},
   "outputs": [
    {
     "data": {
      "text/html": "<div>\n<style scoped>\n    .dataframe tbody tr th:only-of-type {\n        vertical-align: middle;\n    }\n\n    .dataframe tbody tr th {\n        vertical-align: top;\n    }\n\n    .dataframe thead th {\n        text-align: right;\n    }\n</style>\n<table border=\"1\" class=\"dataframe\">\n  <thead>\n    <tr style=\"text-align: right;\">\n      <th></th>\n      <th></th>\n      <th>total_count</th>\n    </tr>\n    <tr>\n      <th>continent</th>\n      <th>country</th>\n      <th></th>\n    </tr>\n  </thead>\n  <tbody>\n    <tr>\n      <th>North America</th>\n      <th>United States</th>\n      <td>2168</td>\n    </tr>\n    <tr>\n      <th rowspan=\"4\" valign=\"top\">Europe</th>\n      <th>United Kingdom</th>\n      <td>1145</td>\n    </tr>\n    <tr>\n      <th>France</th>\n      <td>866</td>\n    </tr>\n    <tr>\n      <th>Italy</th>\n      <td>808</td>\n    </tr>\n    <tr>\n      <th>Germany</th>\n      <td>747</td>\n    </tr>\n    <tr>\n      <th>Unknown</th>\n      <th>Unknown</th>\n      <td>405</td>\n    </tr>\n    <tr>\n      <th rowspan=\"2\" valign=\"top\">Europe</th>\n      <th>Russia</th>\n      <td>374</td>\n    </tr>\n    <tr>\n      <th>Spain</th>\n      <td>296</td>\n    </tr>\n    <tr>\n      <th>Asia</th>\n      <th>Turkey</th>\n      <td>202</td>\n    </tr>\n    <tr>\n      <th>Europe</th>\n      <th>Poland</th>\n      <td>173</td>\n    </tr>\n  </tbody>\n</table>\n</div>",
      "text/plain": "                              total_count\ncontinent     country                    \nNorth America United States          2168\nEurope        United Kingdom         1145\n              France                  866\n              Italy                   808\n              Germany                 747\nUnknown       Unknown                 405\nEurope        Russia                  374\n              Spain                   296\nAsia          Turkey                  202\nEurope        Poland                  173"
     },
     "execution_count": 103,
     "metadata": {},
     "output_type": "execute_result"
    }
   ],
   "source": [
    "# Getting the count by countinent and by country\n",
    "dfTotalByContinentByCountry = pd.DataFrame(dfCleanData.groupby(['continent', 'country'])['article_id'].count())\n",
    "# Renaming the default column name the dataframe created to a meaningfull name\n",
    "dfTotalByContinentByCountry.rename(columns={'article_id': 'total_count'}, inplace=True)\n",
    "dfTotalByContinentByCountry.sort_values(by = ['total_count'], ascending = False).head(10)"
   ]
  },
  {
   "cell_type": "code",
   "execution_count": 122,
   "metadata": {},
   "outputs": [
    {
     "data": {
      "text/html": [
       "<div>\n",
       "<style scoped>\n",
       "    .dataframe tbody tr th:only-of-type {\n",
       "        vertical-align: middle;\n",
       "    }\n",
       "\n",
       "    .dataframe tbody tr th {\n",
       "        vertical-align: top;\n",
       "    }\n",
       "\n",
       "    .dataframe thead th {\n",
       "        text-align: right;\n",
       "    }\n",
       "</style>\n",
       "<table border=\"1\" class=\"dataframe\">\n",
       "  <thead>\n",
       "    <tr style=\"text-align: right;\">\n",
       "      <th></th>\n",
       "      <th>total_count</th>\n",
       "    </tr>\n",
       "    <tr>\n",
       "      <th>continent</th>\n",
       "      <th></th>\n",
       "    </tr>\n",
       "  </thead>\n",
       "  <tbody>\n",
       "    <tr>\n",
       "      <th>Europe</th>\n",
       "      <td>6368</td>\n",
       "    </tr>\n",
       "    <tr>\n",
       "      <th>North America</th>\n",
       "      <td>2439</td>\n",
       "    </tr>\n",
       "    <tr>\n",
       "      <th>Asia</th>\n",
       "      <td>1188</td>\n",
       "    </tr>\n",
       "    <tr>\n",
       "      <th>Africa</th>\n",
       "      <td>419</td>\n",
       "    </tr>\n",
       "    <tr>\n",
       "      <th>Unknown</th>\n",
       "      <td>408</td>\n",
       "    </tr>\n",
       "    <tr>\n",
       "      <th>South America</th>\n",
       "      <td>366</td>\n",
       "    </tr>\n",
       "    <tr>\n",
       "      <th>Oceania</th>\n",
       "      <td>123</td>\n",
       "    </tr>\n",
       "  </tbody>\n",
       "</table>\n",
       "</div>"
      ],
      "text/plain": [
       "               total_count\n",
       "continent                 \n",
       "Europe                6368\n",
       "North America         2439\n",
       "Asia                  1188\n",
       "Africa                 419\n",
       "Unknown                408\n",
       "South America          366\n",
       "Oceania                123"
      ]
     },
     "execution_count": 122,
     "metadata": {},
     "output_type": "execute_result"
    }
   ],
   "source": [
    "# Getting the count by countinent\n",
    "dfTotalByContinent = pd.DataFrame(dfCleanData.groupby(['continent'])['article_id'].count())\n",
    "# Renaming the default column name the dataframe created to a meaningfull name\n",
    "dfTotalByContinent.rename(columns={'article_id': 'total_count'}, inplace=True)\n",
    "dfTotalByContinent.sort_values(by = ['total_count'], ascending = False)"
   ]
  },
  {
   "cell_type": "markdown",
   "metadata": {},
   "source": [
    "## Modeling"
   ]
  },
  {
   "cell_type": "markdown",
   "metadata": {},
   "source": [
    "# Results"
   ]
  },
  {
   "cell_type": "markdown",
   "metadata": {},
   "source": [
    "# Conclusion"
   ]
  },
  {
   "cell_type": "code",
   "execution_count": null,
   "metadata": {},
   "outputs": [],
   "source": []
  }
 ],
 "metadata": {
  "file_extension": ".py",
  "kernelspec": {
   "display_name": "Python 3",
   "language": "python",
   "name": "python3"
  },
  "language_info": {
   "codemirror_mode": {
    "name": "ipython",
    "version": 3
   },
   "file_extension": ".py",
   "mimetype": "text/x-python",
   "name": "python",
   "nbconvert_exporter": "python",
   "pygments_lexer": "ipython3",
   "version": "3.7.3"
  },
  "mimetype": "text/x-python",
  "name": "python",
  "npconvert_exporter": "python",
  "pygments_lexer": "ipython3",
  "version": 3
 },
 "nbformat": 4,
 "nbformat_minor": 2
}