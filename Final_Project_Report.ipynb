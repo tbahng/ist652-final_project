{
 "cells": [
  {
   "cell_type": "markdown",
   "metadata": {},
   "source": [
    "# IST 652 Final Project - A Pantheon Exploration"
   ]
  },
  {
   "cell_type": "markdown",
   "metadata": {},
   "source": [
    "# Introduction\n",
    "\n",
    "Recorded human history has only been around for 5000 years. By understanding the makeup of Pantheon, all persons today both young and old are enriched with the knowledge of global, scientific and cultural development of humanity. The meaning of the word *Pantheon* describes a group of particularly respected, famous, or important people. Over the course of human history there have been thousands of such individuals that have made an impact on society. Due to the information age that began in the latter part of the 20th century, people all over the world now have access to the same biographies of these individuals through Wikipedia in multiple languages. What was once information of limited accessibility and supply, shelved in remote libraries, is now conveniently made available through this medium.\n",
    "\n",
    "Credit goes to the Macro Connections group at the Massachusetts Institute of Technology Media Lab and their [Pantheon Project](https://www.kaggle.com/mit/pantheon-project). Not only was a Pantheon index made available to the general public, but a popularity index was created as well. One \"barrier to entry\" to this content is the number of languages available for each article. This is a key measure in determining the popularity of individuals in the Pantheon. \"The simpler of the two measures, which we denote as L, is the number of different Wikipedia language editions that have an article about a historical character. The more sophisticated measure, which we name the Historical Popularity Index (HPI) corrects L by adding information on the age of the historical character, the concentration of page views among different languages, the coefficient of variation in page views, and the number of page views in languages other than English.\" [https://www.kaggle.com/mit/pantheon-project](https://www.kaggle.com/mit/pantheon-project)\n",
    "\n",
    "The significance of historical figures may be debatable, but this report seeks to apply an objective measure of popularity to better understand how biographies of the Pantheon is being consumed in the current day and age. From Aristotle to Benjamin Franklin, Jesus Christ to Al Pacino, historical figures and their attributes will be measured with web analytics so that the reader may have insights into the following:\n",
    "\n",
    "Research questions:\n",
    "\n",
    "* Which historic characters are the most popular?\n",
    "* When did they live and where are they from?\n",
    "* What factors could have generated their popularity?\n",
    "* Are there any observable trends in the categorical data provided?\n",
    "* What associations exist between the variables in the data?\n",
    "* What clusters and groupings are in the data? How do groups compare in popularity?"
   ]
  },
  {
   "cell_type": "markdown",
   "metadata": {},
   "source": [
    "# Analysis\n",
    "\n",
    "Key analysis methods used in report:\n",
    "* Data Cleaning\n",
    "* Sorting and subsets of the data.\n",
    "* Line and bar plots.\n",
    "* Multiple regression"
   ]
  },
  {
   "cell_type": "markdown",
   "metadata": {},
   "source": [
    "## About the Data"
   ]
  },
  {
   "cell_type": "code",
   "execution_count": 1,
   "metadata": {},
   "outputs": [],
   "source": [
    "import os\n",
    "import pandas as pd\n",
    "import numpy as np\n",
    "import matplotlib\n",
    "import matplotlib.pyplot as plt\n",
    "import seaborn as sns\n",
    "sns.set()"
   ]
  },
  {
   "cell_type": "code",
   "execution_count": 3,
   "metadata": {},
   "outputs": [],
   "source": [
    "# Loading data from .csv file\n",
    "dataFileName = \"data/database.csv\"\n",
    "isExist = os.path.isfile(dataFileName)\n",
    "if isExist == True:\n",
    "    dfDirtyData = pd.read_csv(dataFileName, sep=\",\", header=0)\n",
    "else:\n",
    "    print(\"File not found:\", os.getcwd())\n"
   ]
  },
  {
   "cell_type": "code",
   "execution_count": 3,
   "metadata": {},
   "outputs": [
    {
     "name": "stdout",
     "output_type": "stream",
     "text": "<class 'pandas.core.frame.DataFrame'>\nRangeIndex: 11341 entries, 0 to 11340\nData columns (total 17 columns):\narticle_id                     11341 non-null int64\nfull_name                      11341 non-null object\nsex                            11341 non-null object\nbirth_year                     11341 non-null object\ncity                           11341 non-null object\nstate                          2172 non-null object\ncountry                        11308 non-null object\ncontinent                      11311 non-null object\nlatitude                       10294 non-null float64\nlongitude                      10294 non-null float64\noccupation                     11341 non-null object\nindustry                       11341 non-null object\ndomain                         11341 non-null object\narticle_languages              11341 non-null int64\npage_views                     11341 non-null int64\naverage_views                  11341 non-null int64\nhistorical_popularity_index    11341 non-null float64\ndtypes: float64(3), int64(4), object(10)\nmemory usage: 1.5+ MB\n"
    }
   ],
   "source": [
    "# Showing inforamtion about the dataframe\n",
    "dfDirtyData.info()"
   ]
  },
  {
   "cell_type": "code",
   "execution_count": 206,
   "metadata": {},
   "outputs": [],
   "source": [
    "# Creating a varibale to hold fields for displaying purpose since not all will fit\n",
    "columnToDisplayDirtyData = ['full_name', 'sex', 'birth_year', 'country', 'occupation','historical_popularity_index']"
   ]
  },
  {
   "cell_type": "code",
   "execution_count": 207,
   "metadata": {},
   "outputs": [
    {
     "data": {
      "text/plain": "article_id                             23671899\nfull_name                                Elisha\nsex                                        Male\nbirth_year                              Unknown\ncity                                      Other\nstate                                       NaN\ncountry                                 Unknown\ncontinent                               Unknown\nlatitude                                    NaN\nlongitude                                   NaN\noccupation                     Religious Figure\nindustry                               Religion\ndomain                             Institutions\narticle_languages                            41\npage_views                              1338790\naverage_views                             32653\nhistorical_popularity_index             25.5087\nName: 1522, dtype: object"
     },
     "execution_count": 207,
     "metadata": {},
     "output_type": "execute_result"
    }
   ],
   "source": [
    "# Showing a single row of record\n",
    "dfDirtyData.loc[1522]"
   ]
  },
  {
   "cell_type": "code",
   "execution_count": 208,
   "metadata": {},
   "outputs": [
    {
     "data": {
      "text/html": "<div>\n<style scoped>\n    .dataframe tbody tr th:only-of-type {\n        vertical-align: middle;\n    }\n\n    .dataframe tbody tr th {\n        vertical-align: top;\n    }\n\n    .dataframe thead th {\n        text-align: right;\n    }\n</style>\n<table border=\"1\" class=\"dataframe\">\n  <thead>\n    <tr style=\"text-align: right;\">\n      <th></th>\n      <th>full_name</th>\n      <th>sex</th>\n      <th>birth_year</th>\n      <th>country</th>\n      <th>occupation</th>\n      <th>historical_popularity_index</th>\n    </tr>\n  </thead>\n  <tbody>\n    <tr>\n      <th>0</th>\n      <td>Aristotle</td>\n      <td>Male</td>\n      <td>-384</td>\n      <td>Greece</td>\n      <td>Philosopher</td>\n      <td>31.9938</td>\n    </tr>\n    <tr>\n      <th>1</th>\n      <td>Plato</td>\n      <td>Male</td>\n      <td>-427</td>\n      <td>Greece</td>\n      <td>Philosopher</td>\n      <td>31.9888</td>\n    </tr>\n    <tr>\n      <th>2</th>\n      <td>Jesus Christ</td>\n      <td>Male</td>\n      <td>-4</td>\n      <td>Israel</td>\n      <td>Religious Figure</td>\n      <td>31.8981</td>\n    </tr>\n    <tr>\n      <th>3</th>\n      <td>Socrates</td>\n      <td>Male</td>\n      <td>-469</td>\n      <td>Greece</td>\n      <td>Philosopher</td>\n      <td>31.6521</td>\n    </tr>\n    <tr>\n      <th>4</th>\n      <td>Alexander the Great</td>\n      <td>Male</td>\n      <td>-356</td>\n      <td>Greece</td>\n      <td>Military Personnel</td>\n      <td>31.5840</td>\n    </tr>\n  </tbody>\n</table>\n</div>",
      "text/plain": "             full_name   sex birth_year country          occupation  \\\n0            Aristotle  Male       -384  Greece         Philosopher   \n1                Plato  Male       -427  Greece         Philosopher   \n2         Jesus Christ  Male         -4  Israel    Religious Figure   \n3             Socrates  Male       -469  Greece         Philosopher   \n4  Alexander the Great  Male       -356  Greece  Military Personnel   \n\n   historical_popularity_index  \n0                      31.9938  \n1                      31.9888  \n2                      31.8981  \n3                      31.6521  \n4                      31.5840  "
     },
     "execution_count": 208,
     "metadata": {},
     "output_type": "execute_result"
    }
   ],
   "source": [
    "# Showing the first 5 rows of the data in the data frame\n",
    "dfDirtyData.loc[:,columnToDisplayDirtyData].head(5)"
   ]
  },
  {
   "cell_type": "code",
   "execution_count": 183,
   "metadata": {},
   "outputs": [
    {
     "data": {
      "text/html": "<div>\n<style scoped>\n    .dataframe tbody tr th:only-of-type {\n        vertical-align: middle;\n    }\n\n    .dataframe tbody tr th {\n        vertical-align: top;\n    }\n\n    .dataframe thead th {\n        text-align: right;\n    }\n</style>\n<table border=\"1\" class=\"dataframe\">\n  <thead>\n    <tr style=\"text-align: right;\">\n      <th></th>\n      <th>full_name</th>\n      <th>sex</th>\n      <th>birth_year</th>\n      <th>country</th>\n      <th>occupation</th>\n      <th>historical_popularity_index</th>\n    </tr>\n  </thead>\n  <tbody>\n    <tr>\n      <th>11336</th>\n      <td>Sean St Ledger</td>\n      <td>Male</td>\n      <td>1984</td>\n      <td>United Kingdom</td>\n      <td>Soccer Player</td>\n      <td>11.1346</td>\n    </tr>\n    <tr>\n      <th>11337</th>\n      <td>Saina Nehwal</td>\n      <td>Female</td>\n      <td>1990</td>\n      <td>India</td>\n      <td>Athlete</td>\n      <td>10.6122</td>\n    </tr>\n    <tr>\n      <th>11338</th>\n      <td>Rūta Meilutytė</td>\n      <td>Female</td>\n      <td>1997</td>\n      <td>Lithuania</td>\n      <td>Swimmer</td>\n      <td>10.3821</td>\n    </tr>\n    <tr>\n      <th>11339</th>\n      <td>Vladimír Weiss</td>\n      <td>Male</td>\n      <td>1989</td>\n      <td>Slovakia</td>\n      <td>Soccer Player</td>\n      <td>10.2495</td>\n    </tr>\n    <tr>\n      <th>11340</th>\n      <td>Missy Franklin</td>\n      <td>Female</td>\n      <td>1995</td>\n      <td>United States</td>\n      <td>Swimmer</td>\n      <td>9.8794</td>\n    </tr>\n  </tbody>\n</table>\n</div>",
      "text/plain": "            full_name     sex birth_year         country     occupation  \\\n11336  Sean St Ledger    Male       1984  United Kingdom  Soccer Player   \n11337    Saina Nehwal  Female       1990           India        Athlete   \n11338  Rūta Meilutytė  Female       1997       Lithuania        Swimmer   \n11339  Vladimír Weiss    Male       1989        Slovakia  Soccer Player   \n11340  Missy Franklin  Female       1995   United States        Swimmer   \n\n       historical_popularity_index  \n11336                      11.1346  \n11337                      10.6122  \n11338                      10.3821  \n11339                      10.2495  \n11340                       9.8794  "
     },
     "execution_count": 183,
     "metadata": {},
     "output_type": "execute_result"
    }
   ],
   "source": [
    "# Showing the first 5 rows of the data in the data frame\n",
    "dfDirtyData.loc[:,columnToDisplayDirtyData].tail(5)"
   ]
  },
  {
   "cell_type": "markdown",
   "metadata": {},
   "source": [
    "## Data Cleaning"
   ]
  },
  {
   "cell_type": "code",
   "execution_count": 209,
   "metadata": {},
   "outputs": [],
   "source": [
    "# Creating a new copy of a dataframe from the original\n",
    "dfCleanData = dfDirtyData.copy()"
   ]
  },
  {
   "cell_type": "code",
   "execution_count": 214,
   "metadata": {},
   "outputs": [],
   "source": [
    "# Renaming historical_popularity_index to popularity (short name)\n",
    "dfCleanData.rename(columns={'historical_popularity_index': 'popularity'}, inplace=True)"
   ]
  },
  {
   "cell_type": "code",
   "execution_count": 215,
   "metadata": {},
   "outputs": [],
   "source": [
    "# Finding the index of a column with alpha numberic values.\n",
    "def findStringValueIndex(fieldName):\n",
    "    badRowIndex = [] # initialize list of problematic rows\n",
    "    for idx, value in enumerate(dfCleanData[fieldName]):\n",
    "        try:\n",
    "            int(value)\n",
    "        except:\n",
    "            badRowIndex.append(idx)\n",
    "    return badRowIndex"
   ]
  },
  {
   "cell_type": "code",
   "execution_count": 216,
   "metadata": {},
   "outputs": [],
   "source": [
    "# List of columns to be converted into numeric data type\n",
    "columnToConvert = [\"article_languages\", \"birth_year\", \"latitude\", \"longitude\", \"page_views\",\"average_views\", \"popularity\"]\n",
    "# Making sure to replace the non-numeric values to 0 before converting to numeric\n",
    "# Examples: \n",
    "#           dfCleanData.loc[findStringValueIndex('latitude'), 'latitude'] = 0\n",
    "# The following code block is doing similiar to the examples but \n",
    "# through the iteration of the list \n",
    "for col in columnToConvert:\n",
    "    indx = []\n",
    "    indx = findStringValueIndex(col)\n",
    "    if len(indx) > 0 :\n",
    "        dfCleanData.loc[indx, col] = 0\n",
    "# Converting the columns above to numeric data type\n",
    "dfCleanData[columnToConvert] = dfCleanData[columnToConvert].apply(pd.to_numeric)"
   ]
  },
  {
   "cell_type": "code",
   "execution_count": 217,
   "metadata": {},
   "outputs": [],
   "source": [
    "# Looping through columns in the dataframe. \n",
    "# Replacing columns with 'object' data type from 'NaN' to 'NA'\n",
    "for column in dfCleanData.columns:\n",
    "    if(dfCleanData[column].dtype == 'object'):\n",
    "          dfCleanData[column].fillna(value=\"NA\", inplace=True)"
   ]
  },
  {
   "cell_type": "code",
   "execution_count": 143,
   "metadata": {},
   "outputs": [
    {
     "name": "stdout",
     "output_type": "stream",
     "text": "<class 'pandas.core.frame.DataFrame'>\nRangeIndex: 11341 entries, 0 to 11340\nData columns (total 17 columns):\narticle_id           11341 non-null int64\nfull_name            11341 non-null object\nsex                  11341 non-null object\nbirth_year           11341 non-null int64\ncity                 11341 non-null object\nstate                11341 non-null object\ncountry              11341 non-null object\ncontinent            11341 non-null object\nlatitude             11341 non-null float64\nlongitude            11341 non-null float64\noccupation           11341 non-null object\nindustry             11341 non-null object\ndomain               11341 non-null object\narticle_languages    11341 non-null int64\npage_views           11341 non-null int64\naverage_views        11341 non-null int64\npopularity           11341 non-null float64\ndtypes: float64(3), int64(5), object(9)\nmemory usage: 1.5+ MB\n"
    }
   ],
   "source": [
    "# Showing inforamtion about the dataframe\n",
    "dfCleanData.info()"
   ]
  },
  {
   "cell_type": "code",
   "execution_count": 189,
   "metadata": {},
   "outputs": [],
   "source": [
    "# Creating a varibale to hold fields for displaying purpose since not all will fit\n",
    "columnToDisplayCleanData = ['full_name', 'sex', 'birth_year', 'country', 'occupation','popularity','longitude','latitude','page_views','average_views']"
   ]
  },
  {
   "cell_type": "code",
   "execution_count": 190,
   "metadata": {},
   "outputs": [
    {
     "data": {
      "text/html": "<div>\n<style scoped>\n    .dataframe tbody tr th:only-of-type {\n        vertical-align: middle;\n    }\n\n    .dataframe tbody tr th {\n        vertical-align: top;\n    }\n\n    .dataframe thead th {\n        text-align: right;\n    }\n</style>\n<table border=\"1\" class=\"dataframe\">\n  <thead>\n    <tr style=\"text-align: right;\">\n      <th></th>\n      <th>full_name</th>\n      <th>sex</th>\n      <th>birth_year</th>\n      <th>country</th>\n      <th>occupation</th>\n      <th>popularity</th>\n      <th>longitude</th>\n      <th>latitude</th>\n      <th>page_views</th>\n      <th>average_views</th>\n    </tr>\n  </thead>\n  <tbody>\n    <tr>\n      <th>0</th>\n      <td>Aristotle</td>\n      <td>Male</td>\n      <td>-384</td>\n      <td>Greece</td>\n      <td>Philosopher</td>\n      <td>31.9938</td>\n      <td>23.50000</td>\n      <td>40.33333</td>\n      <td>56355172</td>\n      <td>370758</td>\n    </tr>\n    <tr>\n      <th>1</th>\n      <td>Plato</td>\n      <td>Male</td>\n      <td>-427</td>\n      <td>Greece</td>\n      <td>Philosopher</td>\n      <td>31.9888</td>\n      <td>23.71667</td>\n      <td>37.96667</td>\n      <td>46812003</td>\n      <td>329662</td>\n    </tr>\n    <tr>\n      <th>2</th>\n      <td>Jesus Christ</td>\n      <td>Male</td>\n      <td>-4</td>\n      <td>Israel</td>\n      <td>Religious Figure</td>\n      <td>31.8981</td>\n      <td>34.90000</td>\n      <td>32.50000</td>\n      <td>60299092</td>\n      <td>281771</td>\n    </tr>\n    <tr>\n      <th>3</th>\n      <td>Socrates</td>\n      <td>Male</td>\n      <td>-469</td>\n      <td>Greece</td>\n      <td>Philosopher</td>\n      <td>31.6521</td>\n      <td>23.71667</td>\n      <td>37.96667</td>\n      <td>40307143</td>\n      <td>294213</td>\n    </tr>\n    <tr>\n      <th>4</th>\n      <td>Alexander the Great</td>\n      <td>Male</td>\n      <td>-356</td>\n      <td>Greece</td>\n      <td>Military Personnel</td>\n      <td>31.5840</td>\n      <td>22.51667</td>\n      <td>40.80000</td>\n      <td>48358148</td>\n      <td>350421</td>\n    </tr>\n  </tbody>\n</table>\n</div>",
      "text/plain": "             full_name   sex  birth_year country          occupation  \\\n0            Aristotle  Male        -384  Greece         Philosopher   \n1                Plato  Male        -427  Greece         Philosopher   \n2         Jesus Christ  Male          -4  Israel    Religious Figure   \n3             Socrates  Male        -469  Greece         Philosopher   \n4  Alexander the Great  Male        -356  Greece  Military Personnel   \n\n   popularity  longitude  latitude  page_views  average_views  \n0     31.9938   23.50000  40.33333    56355172         370758  \n1     31.9888   23.71667  37.96667    46812003         329662  \n2     31.8981   34.90000  32.50000    60299092         281771  \n3     31.6521   23.71667  37.96667    40307143         294213  \n4     31.5840   22.51667  40.80000    48358148         350421  "
     },
     "execution_count": 190,
     "metadata": {},
     "output_type": "execute_result"
    }
   ],
   "source": [
    "# Showing the first 5 rows of the data in the dataset\n",
    "dfCleanData.loc[:,columnToDisplayCleanData].head(5)"
   ]
  },
  {
   "cell_type": "code",
   "execution_count": 191,
   "metadata": {},
   "outputs": [
    {
     "data": {
      "text/html": "<div>\n<style scoped>\n    .dataframe tbody tr th:only-of-type {\n        vertical-align: middle;\n    }\n\n    .dataframe tbody tr th {\n        vertical-align: top;\n    }\n\n    .dataframe thead th {\n        text-align: right;\n    }\n</style>\n<table border=\"1\" class=\"dataframe\">\n  <thead>\n    <tr style=\"text-align: right;\">\n      <th></th>\n      <th>full_name</th>\n      <th>sex</th>\n      <th>birth_year</th>\n      <th>country</th>\n      <th>occupation</th>\n      <th>popularity</th>\n      <th>longitude</th>\n      <th>latitude</th>\n      <th>page_views</th>\n      <th>average_views</th>\n    </tr>\n  </thead>\n  <tbody>\n    <tr>\n      <th>11336</th>\n      <td>Sean St Ledger</td>\n      <td>Male</td>\n      <td>1984</td>\n      <td>United Kingdom</td>\n      <td>Soccer Player</td>\n      <td>11.1346</td>\n      <td>-1.77209</td>\n      <td>52.41290</td>\n      <td>380965</td>\n      <td>13606</td>\n    </tr>\n    <tr>\n      <th>11337</th>\n      <td>Saina Nehwal</td>\n      <td>Female</td>\n      <td>1990</td>\n      <td>India</td>\n      <td>Athlete</td>\n      <td>10.6122</td>\n      <td>75.71670</td>\n      <td>29.16670</td>\n      <td>2255010</td>\n      <td>86731</td>\n    </tr>\n    <tr>\n      <th>11338</th>\n      <td>Rūta Meilutytė</td>\n      <td>Female</td>\n      <td>1997</td>\n      <td>Lithuania</td>\n      <td>Swimmer</td>\n      <td>10.3821</td>\n      <td>23.88611</td>\n      <td>54.90000</td>\n      <td>342719</td>\n      <td>10710</td>\n    </tr>\n    <tr>\n      <th>11339</th>\n      <td>Vladimír Weiss</td>\n      <td>Male</td>\n      <td>1989</td>\n      <td>Slovakia</td>\n      <td>Soccer Player</td>\n      <td>10.2495</td>\n      <td>17.10972</td>\n      <td>48.14389</td>\n      <td>12479</td>\n      <td>462</td>\n    </tr>\n    <tr>\n      <th>11340</th>\n      <td>Missy Franklin</td>\n      <td>Female</td>\n      <td>1995</td>\n      <td>United States</td>\n      <td>Swimmer</td>\n      <td>9.8794</td>\n      <td>-118.13194</td>\n      <td>34.15611</td>\n      <td>1894716</td>\n      <td>72874</td>\n    </tr>\n  </tbody>\n</table>\n</div>",
      "text/plain": "            full_name     sex  birth_year         country     occupation  \\\n11336  Sean St Ledger    Male        1984  United Kingdom  Soccer Player   \n11337    Saina Nehwal  Female        1990           India        Athlete   \n11338  Rūta Meilutytė  Female        1997       Lithuania        Swimmer   \n11339  Vladimír Weiss    Male        1989        Slovakia  Soccer Player   \n11340  Missy Franklin  Female        1995   United States        Swimmer   \n\n       popularity  longitude  latitude  page_views  average_views  \n11336     11.1346   -1.77209  52.41290      380965          13606  \n11337     10.6122   75.71670  29.16670     2255010          86731  \n11338     10.3821   23.88611  54.90000      342719          10710  \n11339     10.2495   17.10972  48.14389       12479            462  \n11340      9.8794 -118.13194  34.15611     1894716          72874  "
     },
     "execution_count": 191,
     "metadata": {},
     "output_type": "execute_result"
    }
   ],
   "source": [
    "# Showing the last 5 rows of the data in the dataset\n",
    "dfCleanData.loc[:,columnToDisplayCleanData].tail(5)"
   ]
  },
  {
   "cell_type": "markdown",
   "metadata": {},
   "source": [
    "## Exploration"
   ]
  },
  {
   "cell_type": "code",
   "execution_count": 192,
   "metadata": {},
   "outputs": [
    {
     "data": {
      "text/html": "<div>\n<style scoped>\n    .dataframe tbody tr th:only-of-type {\n        vertical-align: middle;\n    }\n\n    .dataframe tbody tr th {\n        vertical-align: top;\n    }\n\n    .dataframe thead th {\n        text-align: right;\n    }\n</style>\n<table border=\"1\" class=\"dataframe\">\n  <thead>\n    <tr style=\"text-align: right;\">\n      <th></th>\n      <th>full_name</th>\n      <th>sex</th>\n      <th>birth_year</th>\n      <th>country</th>\n      <th>occupation</th>\n      <th>popularity</th>\n      <th>longitude</th>\n      <th>latitude</th>\n      <th>page_views</th>\n      <th>average_views</th>\n    </tr>\n  </thead>\n  <tbody>\n    <tr>\n      <th>0</th>\n      <td>Aristotle</td>\n      <td>Male</td>\n      <td>-384</td>\n      <td>Greece</td>\n      <td>Philosopher</td>\n      <td>31.9938</td>\n      <td>23.50000</td>\n      <td>40.33333</td>\n      <td>56355172</td>\n      <td>370758</td>\n    </tr>\n    <tr>\n      <th>1</th>\n      <td>Plato</td>\n      <td>Male</td>\n      <td>-427</td>\n      <td>Greece</td>\n      <td>Philosopher</td>\n      <td>31.9888</td>\n      <td>23.71667</td>\n      <td>37.96667</td>\n      <td>46812003</td>\n      <td>329662</td>\n    </tr>\n    <tr>\n      <th>2</th>\n      <td>Jesus Christ</td>\n      <td>Male</td>\n      <td>-4</td>\n      <td>Israel</td>\n      <td>Religious Figure</td>\n      <td>31.8981</td>\n      <td>34.90000</td>\n      <td>32.50000</td>\n      <td>60299092</td>\n      <td>281771</td>\n    </tr>\n    <tr>\n      <th>3</th>\n      <td>Socrates</td>\n      <td>Male</td>\n      <td>-469</td>\n      <td>Greece</td>\n      <td>Philosopher</td>\n      <td>31.6521</td>\n      <td>23.71667</td>\n      <td>37.96667</td>\n      <td>40307143</td>\n      <td>294213</td>\n    </tr>\n    <tr>\n      <th>4</th>\n      <td>Alexander the Great</td>\n      <td>Male</td>\n      <td>-356</td>\n      <td>Greece</td>\n      <td>Military Personnel</td>\n      <td>31.5840</td>\n      <td>22.51667</td>\n      <td>40.80000</td>\n      <td>48358148</td>\n      <td>350421</td>\n    </tr>\n    <tr>\n      <th>5</th>\n      <td>Leonardo da Vinci</td>\n      <td>Male</td>\n      <td>1452</td>\n      <td>Italy</td>\n      <td>Inventor</td>\n      <td>31.4644</td>\n      <td>10.91667</td>\n      <td>43.78333</td>\n      <td>88931135</td>\n      <td>511098</td>\n    </tr>\n    <tr>\n      <th>6</th>\n      <td>Confucius</td>\n      <td>Male</td>\n      <td>-551</td>\n      <td>China</td>\n      <td>Philosopher</td>\n      <td>31.3705</td>\n      <td>0.00000</td>\n      <td>0.00000</td>\n      <td>22363652</td>\n      <td>116477</td>\n    </tr>\n    <tr>\n      <th>7</th>\n      <td>Julius Caesar</td>\n      <td>Male</td>\n      <td>-100</td>\n      <td>Italy</td>\n      <td>Politician</td>\n      <td>31.1161</td>\n      <td>12.50000</td>\n      <td>41.90000</td>\n      <td>43088745</td>\n      <td>336631</td>\n    </tr>\n    <tr>\n      <th>8</th>\n      <td>Homer</td>\n      <td>Male</td>\n      <td>-800</td>\n      <td>Turkey</td>\n      <td>Writer</td>\n      <td>31.1087</td>\n      <td>27.13917</td>\n      <td>38.41861</td>\n      <td>20839405</td>\n      <td>147797</td>\n    </tr>\n    <tr>\n      <th>9</th>\n      <td>Pythagoras</td>\n      <td>Male</td>\n      <td>-570</td>\n      <td>Greece</td>\n      <td>Philosopher</td>\n      <td>31.0691</td>\n      <td>26.83333</td>\n      <td>37.75000</td>\n      <td>26168219</td>\n      <td>229546</td>\n    </tr>\n  </tbody>\n</table>\n</div>",
      "text/plain": "             full_name   sex  birth_year country          occupation  \\\n0            Aristotle  Male        -384  Greece         Philosopher   \n1                Plato  Male        -427  Greece         Philosopher   \n2         Jesus Christ  Male          -4  Israel    Religious Figure   \n3             Socrates  Male        -469  Greece         Philosopher   \n4  Alexander the Great  Male        -356  Greece  Military Personnel   \n5    Leonardo da Vinci  Male        1452   Italy            Inventor   \n6            Confucius  Male        -551   China         Philosopher   \n7        Julius Caesar  Male        -100   Italy          Politician   \n8                Homer  Male        -800  Turkey              Writer   \n9           Pythagoras  Male        -570  Greece         Philosopher   \n\n   popularity  longitude  latitude  page_views  average_views  \n0     31.9938   23.50000  40.33333    56355172         370758  \n1     31.9888   23.71667  37.96667    46812003         329662  \n2     31.8981   34.90000  32.50000    60299092         281771  \n3     31.6521   23.71667  37.96667    40307143         294213  \n4     31.5840   22.51667  40.80000    48358148         350421  \n5     31.4644   10.91667  43.78333    88931135         511098  \n6     31.3705    0.00000   0.00000    22363652         116477  \n7     31.1161   12.50000  41.90000    43088745         336631  \n8     31.1087   27.13917  38.41861    20839405         147797  \n9     31.0691   26.83333  37.75000    26168219         229546  "
     },
     "execution_count": 192,
     "metadata": {},
     "output_type": "execute_result"
    }
   ],
   "source": [
    "# Which historic characters are in the top ten most popular?\n",
    "dfTopTenMostPopularPeople = dfCleanData.sort_values(by = ['popularity'], ascending = False)\n",
    "dfTopTenMostPopularPeople = dfTopTenMostPopularPeople.head(10)\n",
    "dfTopTenMostPopularPeople.loc[:,columnToDisplayCleanData]"
   ]
  },
  {
   "cell_type": "code",
   "execution_count": 193,
   "metadata": {},
   "outputs": [
    {
     "data": {
      "text/html": "<div>\n<style scoped>\n    .dataframe tbody tr th:only-of-type {\n        vertical-align: middle;\n    }\n\n    .dataframe tbody tr th {\n        vertical-align: top;\n    }\n\n    .dataframe thead th {\n        text-align: right;\n    }\n</style>\n<table border=\"1\" class=\"dataframe\">\n  <thead>\n    <tr style=\"text-align: right;\">\n      <th></th>\n      <th>total_count</th>\n    </tr>\n    <tr>\n      <th>country</th>\n      <th></th>\n    </tr>\n  </thead>\n  <tbody>\n    <tr>\n      <th>China</th>\n      <td>1</td>\n    </tr>\n    <tr>\n      <th>Greece</th>\n      <td>5</td>\n    </tr>\n    <tr>\n      <th>Israel</th>\n      <td>1</td>\n    </tr>\n    <tr>\n      <th>Italy</th>\n      <td>2</td>\n    </tr>\n    <tr>\n      <th>Turkey</th>\n      <td>1</td>\n    </tr>\n  </tbody>\n</table>\n</div>",
      "text/plain": "         total_count\ncountry             \nChina              1\nGreece             5\nIsrael             1\nItaly              2\nTurkey             1"
     },
     "execution_count": 193,
     "metadata": {},
     "output_type": "execute_result"
    }
   ],
   "source": [
    "dfTotalTop10ByContinentByCountry = pd.DataFrame(dfTopTenMostPopularPeople.groupby(['country'])['article_id'].count())\n",
    "dfTotalTop10ByContinentByCountry.rename(columns={'':'country','article_id': 'total_count'}, inplace=True)\n",
    "dfTotalTop10ByContinentByCountry "
   ]
  },
  {
   "cell_type": "code",
   "execution_count": 33,
   "metadata": {},
   "outputs": [
    {
     "data": {
      "text/plain": "[<matplotlib.lines.Line2D at 0x2619b80ada0>]"
     },
     "execution_count": 33,
     "metadata": {},
     "output_type": "execute_result"
    },
    {
     "data": {
      "image/png": "[encoded data removed]",
      "image/svg+xml": "<?xml version=\"1.0\" encoding=\"utf-8\" standalone=\"no\"?>\r\n<!DOCTYPE svg PUBLIC \"-//W3C//DTD SVG 1.1//EN\"\r\n  \"http://www.w3.org/Graphics/SVG/1.1/DTD/svg11.dtd\">\r\n<!-- Created with matplotlib (https://matplotlib.org/) -->\r\n<svg height=\"248.518125pt\" version=\"1.1\" viewBox=\"0 0 374.080256 248.518125\" width=\"374.080256pt\" xmlns=\"http://www.w3.org/2000/svg\" xmlns:xlink=\"http://www.w3.org/1999/xlink\">\r\n <defs>\r\n  <style type=\"text/css\">\r\n*{stroke-linecap:butt;stroke-linejoin:round;}\r\n  </style>\r\n </defs>\r\n <g id=\"figure_1\">\r\n  <g id=\"patch_1\">\r\n   <path d=\"M 0 248.518125 \r\nL 374.080256 248.518125 \r\nL 374.080256 0 \r\nL 0 0 \r\nz\r\n\" style=\"fill:none;\"/>\r\n  </g>\r\n  <g id=\"axes_1\">\r\n   <g id=\"patch_2\">\r\n    <path d=\"M 30.103125 224.64 \r\nL 364.903125 224.64 \r\nL 364.903125 7.2 \r\nL 30.103125 7.2 \r\nz\r\n\" style=\"fill:#ffffff;\"/>\r\n   </g>\r\n   <g id=\"matplotlib.axis_1\">\r\n    <g id=\"xtick_1\">\r\n     <g id=\"line2d_1\">\r\n      <defs>\r\n       <path d=\"M 0 0 \r\nL 0 3.5 \r\n\" id=\"me54037dc86\" style=\"stroke:#000000;stroke-width:0.8;\"/>\r\n      </defs>\r\n      <g>\r\n       <use style=\"stroke:#000000;stroke-width:0.8;\" x=\"45.321307\" xlink:href=\"#me54037dc86\" y=\"224.64\"/>\r\n      </g>\r\n     </g>\r\n     <g id=\"text_1\">\r\n      <!-- China -->\r\n      <defs>\r\n       <path d=\"M 64.40625 67.28125 \r\nL 64.40625 56.890625 \r\nQ 59.421875 61.53125 53.78125 63.8125 \r\nQ 48.140625 66.109375 41.796875 66.109375 \r\nQ 29.296875 66.109375 22.65625 58.46875 \r\nQ 16.015625 50.828125 16.015625 36.375 \r\nQ 16.015625 21.96875 22.65625 14.328125 \r\nQ 29.296875 6.6875 41.796875 6.6875 \r\nQ 48.140625 6.6875 53.78125 8.984375 \r\nQ 59.421875 11.28125 64.40625 15.921875 \r\nL 64.40625 5.609375 \r\nQ 59.234375 2.09375 53.4375 0.328125 \r\nQ 47.65625 -1.421875 41.21875 -1.421875 \r\nQ 24.65625 -1.421875 15.125 8.703125 \r\nQ 5.609375 18.84375 5.609375 36.375 \r\nQ 5.609375 53.953125 15.125 64.078125 \r\nQ 24.65625 74.21875 41.21875 74.21875 \r\nQ 47.75 74.21875 53.53125 72.484375 \r\nQ 59.328125 70.75 64.40625 67.28125 \r\nz\r\n\" id=\"DejaVuSans-67\"/>\r\n       <path d=\"M 54.890625 33.015625 \r\nL 54.890625 0 \r\nL 45.90625 0 \r\nL 45.90625 32.71875 \r\nQ 45.90625 40.484375 42.875 44.328125 \r\nQ 39.84375 48.1875 33.796875 48.1875 \r\nQ 26.515625 48.1875 22.3125 43.546875 \r\nQ 18.109375 38.921875 18.109375 30.90625 \r\nL 18.109375 0 \r\nL 9.078125 0 \r\nL 9.078125 75.984375 \r\nL 18.109375 75.984375 \r\nL 18.109375 46.1875 \r\nQ 21.34375 51.125 25.703125 53.5625 \r\nQ 30.078125 56 35.796875 56 \r\nQ 45.21875 56 50.046875 50.171875 \r\nQ 54.890625 44.34375 54.890625 33.015625 \r\nz\r\n\" id=\"DejaVuSans-104\"/>\r\n       <path d=\"M 9.421875 54.6875 \r\nL 18.40625 54.6875 \r\nL 18.40625 0 \r\nL 9.421875 0 \r\nz\r\nM 9.421875 75.984375 \r\nL 18.40625 75.984375 \r\nL 18.40625 64.59375 \r\nL 9.421875 64.59375 \r\nz\r\n\" id=\"DejaVuSans-105\"/>\r\n       <path d=\"M 54.890625 33.015625 \r\nL 54.890625 0 \r\nL 45.90625 0 \r\nL 45.90625 32.71875 \r\nQ 45.90625 40.484375 42.875 44.328125 \r\nQ 39.84375 48.1875 33.796875 48.1875 \r\nQ 26.515625 48.1875 22.3125 43.546875 \r\nQ 18.109375 38.921875 18.109375 30.90625 \r\nL 18.109375 0 \r\nL 9.078125 0 \r\nL 9.078125 54.6875 \r\nL 18.109375 54.6875 \r\nL 18.109375 46.1875 \r\nQ 21.34375 51.125 25.703125 53.5625 \r\nQ 30.078125 56 35.796875 56 \r\nQ 45.21875 56 50.046875 50.171875 \r\nQ 54.890625 44.34375 54.890625 33.015625 \r\nz\r\n\" id=\"DejaVuSans-110\"/>\r\n       <path d=\"M 34.28125 27.484375 \r\nQ 23.390625 27.484375 19.1875 25 \r\nQ 14.984375 22.515625 14.984375 16.5 \r\nQ 14.984375 11.71875 18.140625 8.90625 \r\nQ 21.296875 6.109375 26.703125 6.109375 \r\nQ 34.1875 6.109375 38.703125 11.40625 \r\nQ 43.21875 16.703125 43.21875 25.484375 \r\nL 43.21875 27.484375 \r\nz\r\nM 52.203125 31.203125 \r\nL 52.203125 0 \r\nL 43.21875 0 \r\nL 43.21875 8.296875 \r\nQ 40.140625 3.328125 35.546875 0.953125 \r\nQ 30.953125 -1.421875 24.3125 -1.421875 \r\nQ 15.921875 -1.421875 10.953125 3.296875 \r\nQ 6 8.015625 6 15.921875 \r\nQ 6 25.140625 12.171875 29.828125 \r\nQ 18.359375 34.515625 30.609375 34.515625 \r\nL 43.21875 34.515625 \r\nL 43.21875 35.40625 \r\nQ 43.21875 41.609375 39.140625 45 \r\nQ 35.0625 48.390625 27.6875 48.390625 \r\nQ 23 48.390625 18.546875 47.265625 \r\nQ 14.109375 46.140625 10.015625 43.890625 \r\nL 10.015625 52.203125 \r\nQ 14.9375 54.109375 19.578125 55.046875 \r\nQ 24.21875 56 28.609375 56 \r\nQ 40.484375 56 46.34375 49.84375 \r\nQ 52.203125 43.703125 52.203125 31.203125 \r\nz\r\n\" id=\"DejaVuSans-97\"/>\r\n      </defs>\r\n      <g transform=\"translate(31.039276 239.238437)scale(0.1 -0.1)\">\r\n       <use xlink:href=\"#DejaVuSans-67\"/>\r\n       <use x=\"69.824219\" xlink:href=\"#DejaVuSans-104\"/>\r\n       <use x=\"133.203125\" xlink:href=\"#DejaVuSans-105\"/>\r\n       <use x=\"160.986328\" xlink:href=\"#DejaVuSans-110\"/>\r\n       <use x=\"224.365234\" xlink:href=\"#DejaVuSans-97\"/>\r\n      </g>\r\n     </g>\r\n    </g>\r\n    <g id=\"xtick_2\">\r\n     <g id=\"line2d_2\">\r\n      <g>\r\n       <use style=\"stroke:#000000;stroke-width:0.8;\" x=\"121.412216\" xlink:href=\"#me54037dc86\" y=\"224.64\"/>\r\n      </g>\r\n     </g>\r\n     <g id=\"text_2\">\r\n      <!-- Greece -->\r\n      <defs>\r\n       <path d=\"M 59.515625 10.40625 \r\nL 59.515625 29.984375 \r\nL 43.40625 29.984375 \r\nL 43.40625 38.09375 \r\nL 69.28125 38.09375 \r\nL 69.28125 6.78125 \r\nQ 63.578125 2.734375 56.6875 0.65625 \r\nQ 49.8125 -1.421875 42 -1.421875 \r\nQ 24.90625 -1.421875 15.25 8.5625 \r\nQ 5.609375 18.5625 5.609375 36.375 \r\nQ 5.609375 54.25 15.25 64.234375 \r\nQ 24.90625 74.21875 42 74.21875 \r\nQ 49.125 74.21875 55.546875 72.453125 \r\nQ 61.96875 70.703125 67.390625 67.28125 \r\nL 67.390625 56.78125 \r\nQ 61.921875 61.421875 55.765625 63.765625 \r\nQ 49.609375 66.109375 42.828125 66.109375 \r\nQ 29.4375 66.109375 22.71875 58.640625 \r\nQ 16.015625 51.171875 16.015625 36.375 \r\nQ 16.015625 21.625 22.71875 14.15625 \r\nQ 29.4375 6.6875 42.828125 6.6875 \r\nQ 48.046875 6.6875 52.140625 7.59375 \r\nQ 56.25 8.5 59.515625 10.40625 \r\nz\r\n\" id=\"DejaVuSans-71\"/>\r\n       <path d=\"M 41.109375 46.296875 \r\nQ 39.59375 47.171875 37.8125 47.578125 \r\nQ 36.03125 48 33.890625 48 \r\nQ 26.265625 48 22.1875 43.046875 \r\nQ 18.109375 38.09375 18.109375 28.8125 \r\nL 18.109375 0 \r\nL 9.078125 0 \r\nL 9.078125 54.6875 \r\nL 18.109375 54.6875 \r\nL 18.109375 46.1875 \r\nQ 20.953125 51.171875 25.484375 53.578125 \r\nQ 30.03125 56 36.53125 56 \r\nQ 37.453125 56 38.578125 55.875 \r\nQ 39.703125 55.765625 41.0625 55.515625 \r\nz\r\n\" id=\"DejaVuSans-114\"/>\r\n       <path d=\"M 56.203125 29.59375 \r\nL 56.203125 25.203125 \r\nL 14.890625 25.203125 \r\nQ 15.484375 15.921875 20.484375 11.0625 \r\nQ 25.484375 6.203125 34.421875 6.203125 \r\nQ 39.59375 6.203125 44.453125 7.46875 \r\nQ 49.3125 8.734375 54.109375 11.28125 \r\nL 54.109375 2.78125 \r\nQ 49.265625 0.734375 44.1875 -0.34375 \r\nQ 39.109375 -1.421875 33.890625 -1.421875 \r\nQ 20.796875 -1.421875 13.15625 6.1875 \r\nQ 5.515625 13.8125 5.515625 26.8125 \r\nQ 5.515625 40.234375 12.765625 48.109375 \r\nQ 20.015625 56 32.328125 56 \r\nQ 43.359375 56 49.78125 48.890625 \r\nQ 56.203125 41.796875 56.203125 29.59375 \r\nz\r\nM 47.21875 32.234375 \r\nQ 47.125 39.59375 43.09375 43.984375 \r\nQ 39.0625 48.390625 32.421875 48.390625 \r\nQ 24.90625 48.390625 20.390625 44.140625 \r\nQ 15.875 39.890625 15.1875 32.171875 \r\nz\r\n\" id=\"DejaVuSans-101\"/>\r\n       <path d=\"M 48.78125 52.59375 \r\nL 48.78125 44.1875 \r\nQ 44.96875 46.296875 41.140625 47.34375 \r\nQ 37.3125 48.390625 33.40625 48.390625 \r\nQ 24.65625 48.390625 19.8125 42.84375 \r\nQ 14.984375 37.3125 14.984375 27.296875 \r\nQ 14.984375 17.28125 19.8125 11.734375 \r\nQ 24.65625 6.203125 33.40625 6.203125 \r\nQ 37.3125 6.203125 41.140625 7.25 \r\nQ 44.96875 8.296875 48.78125 10.40625 \r\nL 48.78125 2.09375 \r\nQ 45.015625 0.34375 40.984375 -0.53125 \r\nQ 36.96875 -1.421875 32.421875 -1.421875 \r\nQ 20.0625 -1.421875 12.78125 6.34375 \r\nQ 5.515625 14.109375 5.515625 27.296875 \r\nQ 5.515625 40.671875 12.859375 48.328125 \r\nQ 20.21875 56 33.015625 56 \r\nQ 37.15625 56 41.109375 55.140625 \r\nQ 45.0625 54.296875 48.78125 52.59375 \r\nz\r\n\" id=\"DejaVuSans-99\"/>\r\n      </defs>\r\n      <g transform=\"translate(103.505185 239.238437)scale(0.1 -0.1)\">\r\n       <use xlink:href=\"#DejaVuSans-71\"/>\r\n       <use x=\"77.490234\" xlink:href=\"#DejaVuSans-114\"/>\r\n       <use x=\"118.572266\" xlink:href=\"#DejaVuSans-101\"/>\r\n       <use x=\"180.095703\" xlink:href=\"#DejaVuSans-101\"/>\r\n       <use x=\"241.619141\" xlink:href=\"#DejaVuSans-99\"/>\r\n       <use x=\"296.599609\" xlink:href=\"#DejaVuSans-101\"/>\r\n      </g>\r\n     </g>\r\n    </g>\r\n    <g id=\"xtick_3\">\r\n     <g id=\"line2d_3\">\r\n      <g>\r\n       <use style=\"stroke:#000000;stroke-width:0.8;\" x=\"197.503125\" xlink:href=\"#me54037dc86\" y=\"224.64\"/>\r\n      </g>\r\n     </g>\r\n     <g id=\"text_3\">\r\n      <!-- Israel -->\r\n      <defs>\r\n       <path d=\"M 9.8125 72.90625 \r\nL 19.671875 72.90625 \r\nL 19.671875 0 \r\nL 9.8125 0 \r\nz\r\n\" id=\"DejaVuSans-73\"/>\r\n       <path d=\"M 44.28125 53.078125 \r\nL 44.28125 44.578125 \r\nQ 40.484375 46.53125 36.375 47.5 \r\nQ 32.28125 48.484375 27.875 48.484375 \r\nQ 21.1875 48.484375 17.84375 46.4375 \r\nQ 14.5 44.390625 14.5 40.28125 \r\nQ 14.5 37.15625 16.890625 35.375 \r\nQ 19.28125 33.59375 26.515625 31.984375 \r\nL 29.59375 31.296875 \r\nQ 39.15625 29.25 43.1875 25.515625 \r\nQ 47.21875 21.78125 47.21875 15.09375 \r\nQ 47.21875 7.46875 41.1875 3.015625 \r\nQ 35.15625 -1.421875 24.609375 -1.421875 \r\nQ 20.21875 -1.421875 15.453125 -0.5625 \r\nQ 10.6875 0.296875 5.421875 2 \r\nL 5.421875 11.28125 \r\nQ 10.40625 8.6875 15.234375 7.390625 \r\nQ 20.0625 6.109375 24.8125 6.109375 \r\nQ 31.15625 6.109375 34.5625 8.28125 \r\nQ 37.984375 10.453125 37.984375 14.40625 \r\nQ 37.984375 18.0625 35.515625 20.015625 \r\nQ 33.0625 21.96875 24.703125 23.78125 \r\nL 21.578125 24.515625 \r\nQ 13.234375 26.265625 9.515625 29.90625 \r\nQ 5.8125 33.546875 5.8125 39.890625 \r\nQ 5.8125 47.609375 11.28125 51.796875 \r\nQ 16.75 56 26.8125 56 \r\nQ 31.78125 56 36.171875 55.265625 \r\nQ 40.578125 54.546875 44.28125 53.078125 \r\nz\r\n\" id=\"DejaVuSans-115\"/>\r\n       <path d=\"M 9.421875 75.984375 \r\nL 18.40625 75.984375 \r\nL 18.40625 0 \r\nL 9.421875 0 \r\nz\r\n\" id=\"DejaVuSans-108\"/>\r\n      </defs>\r\n      <g transform=\"translate(183.838281 239.238437)scale(0.1 -0.1)\">\r\n       <use xlink:href=\"#DejaVuSans-73\"/>\r\n       <use x=\"29.492188\" xlink:href=\"#DejaVuSans-115\"/>\r\n       <use x=\"81.591797\" xlink:href=\"#DejaVuSans-114\"/>\r\n       <use x=\"122.705078\" xlink:href=\"#DejaVuSans-97\"/>\r\n       <use x=\"183.984375\" xlink:href=\"#DejaVuSans-101\"/>\r\n       <use x=\"245.507812\" xlink:href=\"#DejaVuSans-108\"/>\r\n      </g>\r\n     </g>\r\n    </g>\r\n    <g id=\"xtick_4\">\r\n     <g id=\"line2d_4\">\r\n      <g>\r\n       <use style=\"stroke:#000000;stroke-width:0.8;\" x=\"273.594034\" xlink:href=\"#me54037dc86\" y=\"224.64\"/>\r\n      </g>\r\n     </g>\r\n     <g id=\"text_4\">\r\n      <!-- Italy -->\r\n      <defs>\r\n       <path d=\"M 18.3125 70.21875 \r\nL 18.3125 54.6875 \r\nL 36.8125 54.6875 \r\nL 36.8125 47.703125 \r\nL 18.3125 47.703125 \r\nL 18.3125 18.015625 \r\nQ 18.3125 11.328125 20.140625 9.421875 \r\nQ 21.96875 7.515625 27.59375 7.515625 \r\nL 36.8125 7.515625 \r\nL 36.8125 0 \r\nL 27.59375 0 \r\nQ 17.1875 0 13.234375 3.875 \r\nQ 9.28125 7.765625 9.28125 18.015625 \r\nL 9.28125 47.703125 \r\nL 2.6875 47.703125 \r\nL 2.6875 54.6875 \r\nL 9.28125 54.6875 \r\nL 9.28125 70.21875 \r\nz\r\n\" id=\"DejaVuSans-116\"/>\r\n       <path d=\"M 32.171875 -5.078125 \r\nQ 28.375 -14.84375 24.75 -17.8125 \r\nQ 21.140625 -20.796875 15.09375 -20.796875 \r\nL 7.90625 -20.796875 \r\nL 7.90625 -13.28125 \r\nL 13.1875 -13.28125 \r\nQ 16.890625 -13.28125 18.9375 -11.515625 \r\nQ 21 -9.765625 23.484375 -3.21875 \r\nL 25.09375 0.875 \r\nL 2.984375 54.6875 \r\nL 12.5 54.6875 \r\nL 29.59375 11.921875 \r\nL 46.6875 54.6875 \r\nL 56.203125 54.6875 \r\nz\r\n\" id=\"DejaVuSans-121\"/>\r\n      </defs>\r\n      <g transform=\"translate(262.746378 239.238437)scale(0.1 -0.1)\">\r\n       <use xlink:href=\"#DejaVuSans-73\"/>\r\n       <use x=\"29.492188\" xlink:href=\"#DejaVuSans-116\"/>\r\n       <use x=\"68.701172\" xlink:href=\"#DejaVuSans-97\"/>\r\n       <use x=\"129.980469\" xlink:href=\"#DejaVuSans-108\"/>\r\n       <use x=\"157.763672\" xlink:href=\"#DejaVuSans-121\"/>\r\n      </g>\r\n     </g>\r\n    </g>\r\n    <g id=\"xtick_5\">\r\n     <g id=\"line2d_5\">\r\n      <g>\r\n       <use style=\"stroke:#000000;stroke-width:0.8;\" x=\"349.684943\" xlink:href=\"#me54037dc86\" y=\"224.64\"/>\r\n      </g>\r\n     </g>\r\n     <g id=\"text_5\">\r\n      <!-- Turkey -->\r\n      <defs>\r\n       <path d=\"M -0.296875 72.90625 \r\nL 61.375 72.90625 \r\nL 61.375 64.59375 \r\nL 35.5 64.59375 \r\nL 35.5 0 \r\nL 25.59375 0 \r\nL 25.59375 64.59375 \r\nL -0.296875 64.59375 \r\nz\r\n\" id=\"DejaVuSans-84\"/>\r\n       <path d=\"M 8.5 21.578125 \r\nL 8.5 54.6875 \r\nL 17.484375 54.6875 \r\nL 17.484375 21.921875 \r\nQ 17.484375 14.15625 20.5 10.265625 \r\nQ 23.53125 6.390625 29.59375 6.390625 \r\nQ 36.859375 6.390625 41.078125 11.03125 \r\nQ 45.3125 15.671875 45.3125 23.6875 \r\nL 45.3125 54.6875 \r\nL 54.296875 54.6875 \r\nL 54.296875 0 \r\nL 45.3125 0 \r\nL 45.3125 8.40625 \r\nQ 42.046875 3.421875 37.71875 1 \r\nQ 33.40625 -1.421875 27.6875 -1.421875 \r\nQ 18.265625 -1.421875 13.375 4.4375 \r\nQ 8.5 10.296875 8.5 21.578125 \r\nz\r\nM 31.109375 56 \r\nz\r\n\" id=\"DejaVuSans-117\"/>\r\n       <path d=\"M 9.078125 75.984375 \r\nL 18.109375 75.984375 \r\nL 18.109375 31.109375 \r\nL 44.921875 54.6875 \r\nL 56.390625 54.6875 \r\nL 27.390625 29.109375 \r\nL 57.625 0 \r\nL 45.90625 0 \r\nL 18.109375 26.703125 \r\nL 18.109375 0 \r\nL 9.078125 0 \r\nz\r\n\" id=\"DejaVuSans-107\"/>\r\n      </defs>\r\n      <g transform=\"translate(332.489631 239.238437)scale(0.1 -0.1)\">\r\n       <use xlink:href=\"#DejaVuSans-84\"/>\r\n       <use x=\"60.849609\" xlink:href=\"#DejaVuSans-117\"/>\r\n       <use x=\"124.228516\" xlink:href=\"#DejaVuSans-114\"/>\r\n       <use x=\"165.341797\" xlink:href=\"#DejaVuSans-107\"/>\r\n       <use x=\"223.205078\" xlink:href=\"#DejaVuSans-101\"/>\r\n       <use x=\"284.728516\" xlink:href=\"#DejaVuSans-121\"/>\r\n      </g>\r\n     </g>\r\n    </g>\r\n   </g>\r\n   <g id=\"matplotlib.axis_2\">\r\n    <g id=\"ytick_1\">\r\n     <g id=\"line2d_6\">\r\n      <defs>\r\n       <path d=\"M 0 0 \r\nL -3.5 0 \r\n\" id=\"m9f68ca4dcf\" style=\"stroke:#000000;stroke-width:0.8;\"/>\r\n      </defs>\r\n      <g>\r\n       <use style=\"stroke:#000000;stroke-width:0.8;\" x=\"30.103125\" xlink:href=\"#m9f68ca4dcf\" y=\"214.756364\"/>\r\n      </g>\r\n     </g>\r\n     <g id=\"text_6\">\r\n      <!-- 1.0 -->\r\n      <defs>\r\n       <path d=\"M 12.40625 8.296875 \r\nL 28.515625 8.296875 \r\nL 28.515625 63.921875 \r\nL 10.984375 60.40625 \r\nL 10.984375 69.390625 \r\nL 28.421875 72.90625 \r\nL 38.28125 72.90625 \r\nL 38.28125 8.296875 \r\nL 54.390625 8.296875 \r\nL 54.390625 0 \r\nL 12.40625 0 \r\nz\r\n\" id=\"DejaVuSans-49\"/>\r\n       <path d=\"M 10.6875 12.40625 \r\nL 21 12.40625 \r\nL 21 0 \r\nL 10.6875 0 \r\nz\r\n\" id=\"DejaVuSans-46\"/>\r\n       <path d=\"M 31.78125 66.40625 \r\nQ 24.171875 66.40625 20.328125 58.90625 \r\nQ 16.5 51.421875 16.5 36.375 \r\nQ 16.5 21.390625 20.328125 13.890625 \r\nQ 24.171875 6.390625 31.78125 6.390625 \r\nQ 39.453125 6.390625 43.28125 13.890625 \r\nQ 47.125 21.390625 47.125 36.375 \r\nQ 47.125 51.421875 43.28125 58.90625 \r\nQ 39.453125 66.40625 31.78125 66.40625 \r\nz\r\nM 31.78125 74.21875 \r\nQ 44.046875 74.21875 50.515625 64.515625 \r\nQ 56.984375 54.828125 56.984375 36.375 \r\nQ 56.984375 17.96875 50.515625 8.265625 \r\nQ 44.046875 -1.421875 31.78125 -1.421875 \r\nQ 19.53125 -1.421875 13.0625 8.265625 \r\nQ 6.59375 17.96875 6.59375 36.375 \r\nQ 6.59375 54.828125 13.0625 64.515625 \r\nQ 19.53125 74.21875 31.78125 74.21875 \r\nz\r\n\" id=\"DejaVuSans-48\"/>\r\n      </defs>\r\n      <g transform=\"translate(7.2 218.555582)scale(0.1 -0.1)\">\r\n       <use xlink:href=\"#DejaVuSans-49\"/>\r\n       <use x=\"63.623047\" xlink:href=\"#DejaVuSans-46\"/>\r\n       <use x=\"95.410156\" xlink:href=\"#DejaVuSans-48\"/>\r\n      </g>\r\n     </g>\r\n    </g>\r\n    <g id=\"ytick_2\">\r\n     <g id=\"line2d_7\">\r\n      <g>\r\n       <use style=\"stroke:#000000;stroke-width:0.8;\" x=\"30.103125\" xlink:href=\"#m9f68ca4dcf\" y=\"190.047273\"/>\r\n      </g>\r\n     </g>\r\n     <g id=\"text_7\">\r\n      <!-- 1.5 -->\r\n      <defs>\r\n       <path d=\"M 10.796875 72.90625 \r\nL 49.515625 72.90625 \r\nL 49.515625 64.59375 \r\nL 19.828125 64.59375 \r\nL 19.828125 46.734375 \r\nQ 21.96875 47.46875 24.109375 47.828125 \r\nQ 26.265625 48.1875 28.421875 48.1875 \r\nQ 40.625 48.1875 47.75 41.5 \r\nQ 54.890625 34.8125 54.890625 23.390625 \r\nQ 54.890625 11.625 47.5625 5.09375 \r\nQ 40.234375 -1.421875 26.90625 -1.421875 \r\nQ 22.3125 -1.421875 17.546875 -0.640625 \r\nQ 12.796875 0.140625 7.71875 1.703125 \r\nL 7.71875 11.625 \r\nQ 12.109375 9.234375 16.796875 8.0625 \r\nQ 21.484375 6.890625 26.703125 6.890625 \r\nQ 35.15625 6.890625 40.078125 11.328125 \r\nQ 45.015625 15.765625 45.015625 23.390625 \r\nQ 45.015625 31 40.078125 35.4375 \r\nQ 35.15625 39.890625 26.703125 39.890625 \r\nQ 22.75 39.890625 18.8125 39.015625 \r\nQ 14.890625 38.140625 10.796875 36.28125 \r\nz\r\n\" id=\"DejaVuSans-53\"/>\r\n      </defs>\r\n      <g transform=\"translate(7.2 193.846491)scale(0.1 -0.1)\">\r\n       <use xlink:href=\"#DejaVuSans-49\"/>\r\n       <use x=\"63.623047\" xlink:href=\"#DejaVuSans-46\"/>\r\n       <use x=\"95.410156\" xlink:href=\"#DejaVuSans-53\"/>\r\n      </g>\r\n     </g>\r\n    </g>\r\n    <g id=\"ytick_3\">\r\n     <g id=\"line2d_8\">\r\n      <g>\r\n       <use style=\"stroke:#000000;stroke-width:0.8;\" x=\"30.103125\" xlink:href=\"#m9f68ca4dcf\" y=\"165.338182\"/>\r\n      </g>\r\n     </g>\r\n     <g id=\"text_8\">\r\n      <!-- 2.0 -->\r\n      <defs>\r\n       <path d=\"M 19.1875 8.296875 \r\nL 53.609375 8.296875 \r\nL 53.609375 0 \r\nL 7.328125 0 \r\nL 7.328125 8.296875 \r\nQ 12.9375 14.109375 22.625 23.890625 \r\nQ 32.328125 33.6875 34.8125 36.53125 \r\nQ 39.546875 41.84375 41.421875 45.53125 \r\nQ 43.3125 49.21875 43.3125 52.78125 \r\nQ 43.3125 58.59375 39.234375 62.25 \r\nQ 35.15625 65.921875 28.609375 65.921875 \r\nQ 23.96875 65.921875 18.8125 64.3125 \r\nQ 13.671875 62.703125 7.8125 59.421875 \r\nL 7.8125 69.390625 \r\nQ 13.765625 71.78125 18.9375 73 \r\nQ 24.125 74.21875 28.421875 74.21875 \r\nQ 39.75 74.21875 46.484375 68.546875 \r\nQ 53.21875 62.890625 53.21875 53.421875 \r\nQ 53.21875 48.921875 51.53125 44.890625 \r\nQ 49.859375 40.875 45.40625 35.40625 \r\nQ 44.1875 33.984375 37.640625 27.21875 \r\nQ 31.109375 20.453125 19.1875 8.296875 \r\nz\r\n\" id=\"DejaVuSans-50\"/>\r\n      </defs>\r\n      <g transform=\"translate(7.2 169.137401)scale(0.1 -0.1)\">\r\n       <use xlink:href=\"#DejaVuSans-50\"/>\r\n       <use x=\"63.623047\" xlink:href=\"#DejaVuSans-46\"/>\r\n       <use x=\"95.410156\" xlink:href=\"#DejaVuSans-48\"/>\r\n      </g>\r\n     </g>\r\n    </g>\r\n    <g id=\"ytick_4\">\r\n     <g id=\"line2d_9\">\r\n      <g>\r\n       <use style=\"stroke:#000000;stroke-width:0.8;\" x=\"30.103125\" xlink:href=\"#m9f68ca4dcf\" y=\"140.629091\"/>\r\n      </g>\r\n     </g>\r\n     <g id=\"text_9\">\r\n      <!-- 2.5 -->\r\n      <g transform=\"translate(7.2 144.42831)scale(0.1 -0.1)\">\r\n       <use xlink:href=\"#DejaVuSans-50\"/>\r\n       <use x=\"63.623047\" xlink:href=\"#DejaVuSans-46\"/>\r\n       <use x=\"95.410156\" xlink:href=\"#DejaVuSans-53\"/>\r\n      </g>\r\n     </g>\r\n    </g>\r\n    <g id=\"ytick_5\">\r\n     <g id=\"line2d_10\">\r\n      <g>\r\n       <use style=\"stroke:#000000;stroke-width:0.8;\" x=\"30.103125\" xlink:href=\"#m9f68ca4dcf\" y=\"115.92\"/>\r\n      </g>\r\n     </g>\r\n     <g id=\"text_10\">\r\n      <!-- 3.0 -->\r\n      <defs>\r\n       <path d=\"M 40.578125 39.3125 \r\nQ 47.65625 37.796875 51.625 33 \r\nQ 55.609375 28.21875 55.609375 21.1875 \r\nQ 55.609375 10.40625 48.1875 4.484375 \r\nQ 40.765625 -1.421875 27.09375 -1.421875 \r\nQ 22.515625 -1.421875 17.65625 -0.515625 \r\nQ 12.796875 0.390625 7.625 2.203125 \r\nL 7.625 11.71875 \r\nQ 11.71875 9.328125 16.59375 8.109375 \r\nQ 21.484375 6.890625 26.8125 6.890625 \r\nQ 36.078125 6.890625 40.9375 10.546875 \r\nQ 45.796875 14.203125 45.796875 21.1875 \r\nQ 45.796875 27.640625 41.28125 31.265625 \r\nQ 36.765625 34.90625 28.71875 34.90625 \r\nL 20.21875 34.90625 \r\nL 20.21875 43.015625 \r\nL 29.109375 43.015625 \r\nQ 36.375 43.015625 40.234375 45.921875 \r\nQ 44.09375 48.828125 44.09375 54.296875 \r\nQ 44.09375 59.90625 40.109375 62.90625 \r\nQ 36.140625 65.921875 28.71875 65.921875 \r\nQ 24.65625 65.921875 20.015625 65.03125 \r\nQ 15.375 64.15625 9.8125 62.3125 \r\nL 9.8125 71.09375 \r\nQ 15.4375 72.65625 20.34375 73.4375 \r\nQ 25.25 74.21875 29.59375 74.21875 \r\nQ 40.828125 74.21875 47.359375 69.109375 \r\nQ 53.90625 64.015625 53.90625 55.328125 \r\nQ 53.90625 49.265625 50.4375 45.09375 \r\nQ 46.96875 40.921875 40.578125 39.3125 \r\nz\r\n\" id=\"DejaVuSans-51\"/>\r\n      </defs>\r\n      <g transform=\"translate(7.2 119.719219)scale(0.1 -0.1)\">\r\n       <use xlink:href=\"#DejaVuSans-51\"/>\r\n       <use x=\"63.623047\" xlink:href=\"#DejaVuSans-46\"/>\r\n       <use x=\"95.410156\" xlink:href=\"#DejaVuSans-48\"/>\r\n      </g>\r\n     </g>\r\n    </g>\r\n    <g id=\"ytick_6\">\r\n     <g id=\"line2d_11\">\r\n      <g>\r\n       <use style=\"stroke:#000000;stroke-width:0.8;\" x=\"30.103125\" xlink:href=\"#m9f68ca4dcf\" y=\"91.210909\"/>\r\n      </g>\r\n     </g>\r\n     <g id=\"text_11\">\r\n      <!-- 3.5 -->\r\n      <g transform=\"translate(7.2 95.010128)scale(0.1 -0.1)\">\r\n       <use xlink:href=\"#DejaVuSans-51\"/>\r\n       <use x=\"63.623047\" xlink:href=\"#DejaVuSans-46\"/>\r\n       <use x=\"95.410156\" xlink:href=\"#DejaVuSans-53\"/>\r\n      </g>\r\n     </g>\r\n    </g>\r\n    <g id=\"ytick_7\">\r\n     <g id=\"line2d_12\">\r\n      <g>\r\n       <use style=\"stroke:#000000;stroke-width:0.8;\" x=\"30.103125\" xlink:href=\"#m9f68ca4dcf\" y=\"66.501818\"/>\r\n      </g>\r\n     </g>\r\n     <g id=\"text_12\">\r\n      <!-- 4.0 -->\r\n      <defs>\r\n       <path d=\"M 37.796875 64.3125 \r\nL 12.890625 25.390625 \r\nL 37.796875 25.390625 \r\nz\r\nM 35.203125 72.90625 \r\nL 47.609375 72.90625 \r\nL 47.609375 25.390625 \r\nL 58.015625 25.390625 \r\nL 58.015625 17.1875 \r\nL 47.609375 17.1875 \r\nL 47.609375 0 \r\nL 37.796875 0 \r\nL 37.796875 17.1875 \r\nL 4.890625 17.1875 \r\nL 4.890625 26.703125 \r\nz\r\n\" id=\"DejaVuSans-52\"/>\r\n      </defs>\r\n      <g transform=\"translate(7.2 70.301037)scale(0.1 -0.1)\">\r\n       <use xlink:href=\"#DejaVuSans-52\"/>\r\n       <use x=\"63.623047\" xlink:href=\"#DejaVuSans-46\"/>\r\n       <use x=\"95.410156\" xlink:href=\"#DejaVuSans-48\"/>\r\n      </g>\r\n     </g>\r\n    </g>\r\n    <g id=\"ytick_8\">\r\n     <g id=\"line2d_13\">\r\n      <g>\r\n       <use style=\"stroke:#000000;stroke-width:0.8;\" x=\"30.103125\" xlink:href=\"#m9f68ca4dcf\" y=\"41.792727\"/>\r\n      </g>\r\n     </g>\r\n     <g id=\"text_13\">\r\n      <!-- 4.5 -->\r\n      <g transform=\"translate(7.2 45.591946)scale(0.1 -0.1)\">\r\n       <use xlink:href=\"#DejaVuSans-52\"/>\r\n       <use x=\"63.623047\" xlink:href=\"#DejaVuSans-46\"/>\r\n       <use x=\"95.410156\" xlink:href=\"#DejaVuSans-53\"/>\r\n      </g>\r\n     </g>\r\n    </g>\r\n    <g id=\"ytick_9\">\r\n     <g id=\"line2d_14\">\r\n      <g>\r\n       <use style=\"stroke:#000000;stroke-width:0.8;\" x=\"30.103125\" xlink:href=\"#m9f68ca4dcf\" y=\"17.083636\"/>\r\n      </g>\r\n     </g>\r\n     <g id=\"text_14\">\r\n      <!-- 5.0 -->\r\n      <g transform=\"translate(7.2 20.882855)scale(0.1 -0.1)\">\r\n       <use xlink:href=\"#DejaVuSans-53\"/>\r\n       <use x=\"63.623047\" xlink:href=\"#DejaVuSans-46\"/>\r\n       <use x=\"95.410156\" xlink:href=\"#DejaVuSans-48\"/>\r\n      </g>\r\n     </g>\r\n    </g>\r\n   </g>\r\n   <g id=\"line2d_15\">\r\n    <path clip-path=\"url(#p84cfae7237)\" d=\"M 45.321307 214.756364 \r\nL 121.412216 17.083636 \r\nL 197.503125 214.756364 \r\nL 273.594034 165.338182 \r\nL 349.684943 214.756364 \r\n\" style=\"fill:none;stroke:#1f77b4;stroke-linecap:square;stroke-width:1.5;\"/>\r\n   </g>\r\n   <g id=\"patch_3\">\r\n    <path d=\"M 30.103125 224.64 \r\nL 30.103125 7.2 \r\n\" style=\"fill:none;stroke:#000000;stroke-linecap:square;stroke-linejoin:miter;stroke-width:0.8;\"/>\r\n   </g>\r\n   <g id=\"patch_4\">\r\n    <path d=\"M 364.903125 224.64 \r\nL 364.903125 7.2 \r\n\" style=\"fill:none;stroke:#000000;stroke-linecap:square;stroke-linejoin:miter;stroke-width:0.8;\"/>\r\n   </g>\r\n   <g id=\"patch_5\">\r\n    <path d=\"M 30.103125 224.64 \r\nL 364.903125 224.64 \r\n\" style=\"fill:none;stroke:#000000;stroke-linecap:square;stroke-linejoin:miter;stroke-width:0.8;\"/>\r\n   </g>\r\n   <g id=\"patch_6\">\r\n    <path d=\"M 30.103125 7.2 \r\nL 364.903125 7.2 \r\n\" style=\"fill:none;stroke:#000000;stroke-linecap:square;stroke-linejoin:miter;stroke-width:0.8;\"/>\r\n   </g>\r\n  </g>\r\n </g>\r\n <defs>\r\n  <clipPath id=\"p84cfae7237\">\r\n   <rect height=\"217.44\" width=\"334.8\" x=\"30.103125\" y=\"7.2\"/>\r\n  </clipPath>\r\n </defs>\r\n</svg>\r\n",
      "text/plain": "<Figure size 432x288 with 1 Axes>"
     },
     "metadata": {
      "needs_background": "light"
     },
     "output_type": "display_data"
    }
   ],
   "source": [
    "plt.plot(dfTotalTop10ByContinentByCountry)"
   ]
  },
  {
   "cell_type": "code",
   "execution_count": 194,
   "metadata": {},
   "outputs": [
    {
     "data": {
      "text/html": "<div>\n<style scoped>\n    .dataframe tbody tr th:only-of-type {\n        vertical-align: middle;\n    }\n\n    .dataframe tbody tr th {\n        vertical-align: top;\n    }\n\n    .dataframe thead th {\n        text-align: right;\n    }\n</style>\n<table border=\"1\" class=\"dataframe\">\n  <thead>\n    <tr style=\"text-align: right;\">\n      <th></th>\n      <th>full_name</th>\n      <th>sex</th>\n      <th>birth_year</th>\n      <th>country</th>\n      <th>occupation</th>\n      <th>popularity</th>\n      <th>longitude</th>\n      <th>latitude</th>\n      <th>page_views</th>\n      <th>average_views</th>\n    </tr>\n  </thead>\n  <tbody>\n    <tr>\n      <th>11340</th>\n      <td>Missy Franklin</td>\n      <td>Female</td>\n      <td>1995</td>\n      <td>United States</td>\n      <td>Swimmer</td>\n      <td>9.8794</td>\n      <td>-118.13194</td>\n      <td>34.15611</td>\n      <td>1894716</td>\n      <td>72874</td>\n    </tr>\n    <tr>\n      <th>11339</th>\n      <td>Vladimír Weiss</td>\n      <td>Male</td>\n      <td>1989</td>\n      <td>Slovakia</td>\n      <td>Soccer Player</td>\n      <td>10.2495</td>\n      <td>17.10972</td>\n      <td>48.14389</td>\n      <td>12479</td>\n      <td>462</td>\n    </tr>\n    <tr>\n      <th>11338</th>\n      <td>Rūta Meilutytė</td>\n      <td>Female</td>\n      <td>1997</td>\n      <td>Lithuania</td>\n      <td>Swimmer</td>\n      <td>10.3821</td>\n      <td>23.88611</td>\n      <td>54.90000</td>\n      <td>342719</td>\n      <td>10710</td>\n    </tr>\n    <tr>\n      <th>11337</th>\n      <td>Saina Nehwal</td>\n      <td>Female</td>\n      <td>1990</td>\n      <td>India</td>\n      <td>Athlete</td>\n      <td>10.6122</td>\n      <td>75.71670</td>\n      <td>29.16670</td>\n      <td>2255010</td>\n      <td>86731</td>\n    </tr>\n    <tr>\n      <th>11336</th>\n      <td>Sean St Ledger</td>\n      <td>Male</td>\n      <td>1984</td>\n      <td>United Kingdom</td>\n      <td>Soccer Player</td>\n      <td>11.1346</td>\n      <td>-1.77209</td>\n      <td>52.41290</td>\n      <td>380965</td>\n      <td>13606</td>\n    </tr>\n    <tr>\n      <th>11335</th>\n      <td>Jetro Willems</td>\n      <td>Male</td>\n      <td>1994</td>\n      <td>Netherlands</td>\n      <td>Soccer Player</td>\n      <td>11.3956</td>\n      <td>4.50000</td>\n      <td>51.91667</td>\n      <td>577913</td>\n      <td>21404</td>\n    </tr>\n    <tr>\n      <th>11334</th>\n      <td>Rebecca Soni</td>\n      <td>Female</td>\n      <td>1987</td>\n      <td>United States</td>\n      <td>Swimmer</td>\n      <td>11.4050</td>\n      <td>-74.27588</td>\n      <td>40.26022</td>\n      <td>886815</td>\n      <td>32845</td>\n    </tr>\n    <tr>\n      <th>11333</th>\n      <td>Sun Yang</td>\n      <td>Male</td>\n      <td>1991</td>\n      <td>China</td>\n      <td>Swimmer</td>\n      <td>11.6234</td>\n      <td>120.16667</td>\n      <td>30.25000</td>\n      <td>491910</td>\n      <td>18920</td>\n    </tr>\n    <tr>\n      <th>11332</th>\n      <td>Shane Long</td>\n      <td>Male</td>\n      <td>1987</td>\n      <td>Ireland</td>\n      <td>Soccer Player</td>\n      <td>11.7174</td>\n      <td>0.00000</td>\n      <td>0.00000</td>\n      <td>799202</td>\n      <td>30739</td>\n    </tr>\n    <tr>\n      <th>11331</th>\n      <td>Marc Albrighton</td>\n      <td>Male</td>\n      <td>1989</td>\n      <td>United Kingdom</td>\n      <td>Soccer Player</td>\n      <td>11.7258</td>\n      <td>-1.69500</td>\n      <td>52.63300</td>\n      <td>495420</td>\n      <td>19055</td>\n    </tr>\n  </tbody>\n</table>\n</div>",
      "text/plain": "             full_name     sex  birth_year         country     occupation  \\\n11340   Missy Franklin  Female        1995   United States        Swimmer   \n11339   Vladimír Weiss    Male        1989        Slovakia  Soccer Player   \n11338   Rūta Meilutytė  Female        1997       Lithuania        Swimmer   \n11337     Saina Nehwal  Female        1990           India        Athlete   \n11336   Sean St Ledger    Male        1984  United Kingdom  Soccer Player   \n11335    Jetro Willems    Male        1994     Netherlands  Soccer Player   \n11334     Rebecca Soni  Female        1987   United States        Swimmer   \n11333         Sun Yang    Male        1991           China        Swimmer   \n11332       Shane Long    Male        1987         Ireland  Soccer Player   \n11331  Marc Albrighton    Male        1989  United Kingdom  Soccer Player   \n\n       popularity  longitude  latitude  page_views  average_views  \n11340      9.8794 -118.13194  34.15611     1894716          72874  \n11339     10.2495   17.10972  48.14389       12479            462  \n11338     10.3821   23.88611  54.90000      342719          10710  \n11337     10.6122   75.71670  29.16670     2255010          86731  \n11336     11.1346   -1.77209  52.41290      380965          13606  \n11335     11.3956    4.50000  51.91667      577913          21404  \n11334     11.4050  -74.27588  40.26022      886815          32845  \n11333     11.6234  120.16667  30.25000      491910          18920  \n11332     11.7174    0.00000   0.00000      799202          30739  \n11331     11.7258   -1.69500  52.63300      495420          19055  "
     },
     "execution_count": 194,
     "metadata": {},
     "output_type": "execute_result"
    }
   ],
   "source": [
    "# Which historic characters are in the top ten least popular?\n",
    "dfTopTenLeastPopularPeople = dfCleanData.sort_values(by = ['popularity'], ascending = True)\n",
    "dfTopTenLeastPopularPeople = dfTopTenLeastPopularPeople.head(10)\n",
    "dfTopTenLeastPopularPeople.loc[:,columnToDisplayCleanData].head(10)"
   ]
  },
  {
   "cell_type": "code",
   "execution_count": 34,
   "metadata": {},
   "outputs": [
    {
     "data": {
      "text/html": "<div>\n<style scoped>\n    .dataframe tbody tr th:only-of-type {\n        vertical-align: middle;\n    }\n\n    .dataframe tbody tr th {\n        vertical-align: top;\n    }\n\n    .dataframe thead th {\n        text-align: right;\n    }\n</style>\n<table border=\"1\" class=\"dataframe\">\n  <thead>\n    <tr style=\"text-align: right;\">\n      <th></th>\n      <th></th>\n      <th></th>\n      <th>total_count</th>\n    </tr>\n    <tr>\n      <th>continent</th>\n      <th>country</th>\n      <th>sex</th>\n      <th></th>\n    </tr>\n  </thead>\n  <tbody>\n    <tr>\n      <th rowspan=\"2\" valign=\"top\">Asia</th>\n      <th>China</th>\n      <th>Male</th>\n      <td>1</td>\n    </tr>\n    <tr>\n      <th>India</th>\n      <th>Female</th>\n      <td>1</td>\n    </tr>\n    <tr>\n      <th rowspan=\"5\" valign=\"top\">Europe</th>\n      <th>Ireland</th>\n      <th>Male</th>\n      <td>1</td>\n    </tr>\n    <tr>\n      <th>Lithuania</th>\n      <th>Female</th>\n      <td>1</td>\n    </tr>\n    <tr>\n      <th>Netherlands</th>\n      <th>Male</th>\n      <td>1</td>\n    </tr>\n    <tr>\n      <th>Slovakia</th>\n      <th>Male</th>\n      <td>1</td>\n    </tr>\n    <tr>\n      <th>United Kingdom</th>\n      <th>Male</th>\n      <td>2</td>\n    </tr>\n    <tr>\n      <th>North America</th>\n      <th>United States</th>\n      <th>Female</th>\n      <td>2</td>\n    </tr>\n  </tbody>\n</table>\n</div>",
      "text/plain": "                                     total_count\ncontinent     country        sex                \nAsia          China          Male              1\n              India          Female            1\nEurope        Ireland        Male              1\n              Lithuania      Female            1\n              Netherlands    Male              1\n              Slovakia       Male              1\n              United Kingdom Male              2\nNorth America United States  Female            2"
     },
     "execution_count": 34,
     "metadata": {},
     "output_type": "execute_result"
    }
   ],
   "source": [
    "dfTotalTop10LByContinentByCountry = pd.DataFrame(dfTopTenLeastPopularPeople.groupby(['continent', 'country','sex'])['article_id'].count())\n",
    "dfTotalTop10LByContinentByCountry.rename(columns={'article_id': 'total_count'}, inplace=True)\n",
    "dfTotalTop10LByContinentByCountry"
   ]
  },
  {
   "cell_type": "code",
   "execution_count": 35,
   "metadata": {},
   "outputs": [
    {
     "data": {
      "text/html": "<div>\n<style scoped>\n    .dataframe tbody tr th:only-of-type {\n        vertical-align: middle;\n    }\n\n    .dataframe tbody tr th {\n        vertical-align: top;\n    }\n\n    .dataframe thead th {\n        text-align: right;\n    }\n</style>\n<table border=\"1\" class=\"dataframe\">\n  <thead>\n    <tr style=\"text-align: right;\">\n      <th></th>\n      <th></th>\n      <th>total_count</th>\n    </tr>\n    <tr>\n      <th>industry</th>\n      <th>occupation</th>\n      <th></th>\n    </tr>\n  </thead>\n  <tbody>\n    <tr>\n      <th>Government</th>\n      <th>Politician</th>\n      <td>2530</td>\n    </tr>\n    <tr>\n      <th>Film And Theatre</th>\n      <th>Actor</th>\n      <td>1193</td>\n    </tr>\n    <tr>\n      <th>Team Sports</th>\n      <th>Soccer Player</th>\n      <td>1064</td>\n    </tr>\n    <tr>\n      <th>Language</th>\n      <th>Writer</th>\n      <td>954</td>\n    </tr>\n    <tr>\n      <th>Religion</th>\n      <th>Religious Figure</th>\n      <td>518</td>\n    </tr>\n    <tr>\n      <th rowspan=\"2\" valign=\"top\">Music</th>\n      <th>Singer</th>\n      <td>437</td>\n    </tr>\n    <tr>\n      <th>Musician</th>\n      <td>381</td>\n    </tr>\n    <tr>\n      <th>Philosophy</th>\n      <th>Philosopher</th>\n      <td>281</td>\n    </tr>\n    <tr>\n      <th>Natural Sciences</th>\n      <th>Physicist</th>\n      <td>268</td>\n    </tr>\n    <tr>\n      <th>Music</th>\n      <th>Composer</th>\n      <td>225</td>\n    </tr>\n    <tr>\n      <th>Military</th>\n      <th>Military Personnel</th>\n      <td>224</td>\n    </tr>\n    <tr>\n      <th>Natural Sciences</th>\n      <th>Chemist</th>\n      <td>220</td>\n    </tr>\n    <tr>\n      <th>Fine Arts</th>\n      <th>Painter</th>\n      <td>178</td>\n    </tr>\n    <tr>\n      <th>Film And Theatre</th>\n      <th>Film Director</th>\n      <td>177</td>\n    </tr>\n    <tr>\n      <th>Individual Sports</th>\n      <th>Tennis Player</th>\n      <td>161</td>\n    </tr>\n    <tr>\n      <th>Math</th>\n      <th>Mathematician</th>\n      <td>157</td>\n    </tr>\n    <tr>\n      <th>Medicine</th>\n      <th>Physician</th>\n      <td>142</td>\n    </tr>\n    <tr>\n      <th>Natural Sciences</th>\n      <th>Biologist</th>\n      <td>141</td>\n    </tr>\n    <tr>\n      <th>Government</th>\n      <th>Nobleman</th>\n      <td>116</td>\n    </tr>\n    <tr>\n      <th>Activism</th>\n      <th>Social Activist</th>\n      <td>114</td>\n    </tr>\n  </tbody>\n</table>\n</div>",
      "text/plain": "                                      total_count\nindustry          occupation                     \nGovernment        Politician                 2530\nFilm And Theatre  Actor                      1193\nTeam Sports       Soccer Player              1064\nLanguage          Writer                      954\nReligion          Religious Figure            518\nMusic             Singer                      437\n                  Musician                    381\nPhilosophy        Philosopher                 281\nNatural Sciences  Physicist                   268\nMusic             Composer                    225\nMilitary          Military Personnel          224\nNatural Sciences  Chemist                     220\nFine Arts         Painter                     178\nFilm And Theatre  Film Director               177\nIndividual Sports Tennis Player               161\nMath              Mathematician               157\nMedicine          Physician                   142\nNatural Sciences  Biologist                   141\nGovernment        Nobleman                    116\nActivism          Social Activist             114"
     },
     "execution_count": 35,
     "metadata": {},
     "output_type": "execute_result"
    }
   ],
   "source": [
    "# Getting the count by country, occupation, industry, and domain\n",
    "dfTotalByCountryByIndustry = pd.DataFrame(dfCleanData.groupby(['industry','occupation'])['article_id'].count())\n",
    "# Renaming the default column name the dataframe created to a meaningfull name\n",
    "dfTotalByCountryByIndustry.rename(columns={'article_id': 'total_count'}, inplace=True)\n",
    "dfTotalByCountryByIndustry.sort_values(by = ['total_count'], ascending = False).head(20)"
   ]
  },
  {
   "cell_type": "code",
   "execution_count": 36,
   "metadata": {},
   "outputs": [
    {
     "data": {
      "text/html": "<div>\n<style scoped>\n    .dataframe tbody tr th:only-of-type {\n        vertical-align: middle;\n    }\n\n    .dataframe tbody tr th {\n        vertical-align: top;\n    }\n\n    .dataframe thead th {\n        text-align: right;\n    }\n</style>\n<table border=\"1\" class=\"dataframe\">\n  <thead>\n    <tr style=\"text-align: right;\">\n      <th></th>\n      <th></th>\n      <th>total_count</th>\n    </tr>\n    <tr>\n      <th>continent</th>\n      <th>country</th>\n      <th></th>\n    </tr>\n  </thead>\n  <tbody>\n    <tr>\n      <th>North America</th>\n      <th>United States</th>\n      <td>2168</td>\n    </tr>\n    <tr>\n      <th rowspan=\"4\" valign=\"top\">Europe</th>\n      <th>United Kingdom</th>\n      <td>1145</td>\n    </tr>\n    <tr>\n      <th>France</th>\n      <td>866</td>\n    </tr>\n    <tr>\n      <th>Italy</th>\n      <td>808</td>\n    </tr>\n    <tr>\n      <th>Germany</th>\n      <td>747</td>\n    </tr>\n    <tr>\n      <th>Unknown</th>\n      <th>Unknown</th>\n      <td>405</td>\n    </tr>\n    <tr>\n      <th rowspan=\"2\" valign=\"top\">Europe</th>\n      <th>Russia</th>\n      <td>374</td>\n    </tr>\n    <tr>\n      <th>Spain</th>\n      <td>296</td>\n    </tr>\n    <tr>\n      <th>Asia</th>\n      <th>Turkey</th>\n      <td>202</td>\n    </tr>\n    <tr>\n      <th>Europe</th>\n      <th>Poland</th>\n      <td>173</td>\n    </tr>\n  </tbody>\n</table>\n</div>",
      "text/plain": "                              total_count\ncontinent     country                    \nNorth America United States          2168\nEurope        United Kingdom         1145\n              France                  866\n              Italy                   808\n              Germany                 747\nUnknown       Unknown                 405\nEurope        Russia                  374\n              Spain                   296\nAsia          Turkey                  202\nEurope        Poland                  173"
     },
     "execution_count": 36,
     "metadata": {},
     "output_type": "execute_result"
    }
   ],
   "source": [
    "# Getting the count by countinent and by country\n",
    "dfTotalByContinentByCountry = pd.DataFrame(dfCleanData.groupby(['continent', 'country'])['article_id'].count())\n",
    "# Renaming the default column name the dataframe created to a meaningfull name\n",
    "dfTotalByContinentByCountry.rename(columns={'article_id': 'total_count'}, inplace=True)\n",
    "dfTotalByContinentByCountry.sort_values(by = ['total_count'], ascending = False).head(10)"
   ]
  },
  {
   "cell_type": "code",
   "execution_count": 38,
   "metadata": {},
   "outputs": [
    {
     "data": {
      "text/html": "<div>\n<style scoped>\n    .dataframe tbody tr th:only-of-type {\n        vertical-align: middle;\n    }\n\n    .dataframe tbody tr th {\n        vertical-align: top;\n    }\n\n    .dataframe thead th {\n        text-align: right;\n    }\n</style>\n<table border=\"1\" class=\"dataframe\">\n  <thead>\n    <tr style=\"text-align: right;\">\n      <th></th>\n      <th>total_count</th>\n    </tr>\n    <tr>\n      <th>continent</th>\n      <th></th>\n    </tr>\n  </thead>\n  <tbody>\n    <tr>\n      <th>Europe</th>\n      <td>6368</td>\n    </tr>\n    <tr>\n      <th>North America</th>\n      <td>2439</td>\n    </tr>\n    <tr>\n      <th>Asia</th>\n      <td>1188</td>\n    </tr>\n    <tr>\n      <th>Africa</th>\n      <td>419</td>\n    </tr>\n    <tr>\n      <th>Unknown</th>\n      <td>408</td>\n    </tr>\n    <tr>\n      <th>South America</th>\n      <td>366</td>\n    </tr>\n    <tr>\n      <th>Oceania</th>\n      <td>123</td>\n    </tr>\n  </tbody>\n</table>\n</div>",
      "text/plain": "               total_count\ncontinent                 \nEurope                6368\nNorth America         2439\nAsia                  1188\nAfrica                 419\nUnknown                408\nSouth America          366\nOceania                123"
     },
     "execution_count": 38,
     "metadata": {},
     "output_type": "execute_result"
    }
   ],
   "source": [
    "# Getting the count by countinent\n",
    "dfTotalByContinent = pd.DataFrame(dfCleanData.groupby(['continent'])['article_id'].count())\n",
    "# Renaming the default column name the dataframe created to a meaningfull name\n",
    "dfTotalByContinent.rename(columns={'article_id': 'total_count'}, inplace=True)\n",
    "dfTotalByContinent.sort_values(by = ['total_count'], ascending = False)"
   ]
  },
  {
   "cell_type": "markdown",
   "metadata": {},
   "source": [
    "## Modeling"
   ]
  },
  {
   "cell_type": "markdown",
   "metadata": {},
   "source": [
    "# Results"
   ]
  },
  {
   "cell_type": "markdown",
   "metadata": {},
   "source": [
    "# Conclusion"
   ]
  },
  {
   "cell_type": "code",
   "execution_count": null,
   "metadata": {},
   "outputs": [],
   "source": []
  }
 ],
 "metadata": {
  "file_extension": ".py",
  "kernelspec": {
   "display_name": "Python 3",
   "language": "python",
   "name": "python3"
  },
  "language_info": {
   "codemirror_mode": {
    "name": "ipython",
    "version": 3
   },
   "file_extension": ".py",
   "mimetype": "text/x-python",
   "name": "python",
   "nbconvert_exporter": "python",
   "pygments_lexer": "ipython3",
   "version": "3.6.5"
  },
  "mimetype": "text/x-python",
  "name": "python",
  "npconvert_exporter": "python",
  "pygments_lexer": "ipython3",
  "version": 3
 },
 "nbformat": 4,
 "nbformat_minor": 2
}