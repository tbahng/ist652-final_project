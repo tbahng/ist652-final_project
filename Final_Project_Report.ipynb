<<<<<<< HEAD
{
 "cells": [
  {
   "cell_type": "markdown",
   "metadata": {},
   "source": [
    "# IST 652 Final Project - A Pantheon Exploration"
   ]
  },
  {
   "cell_type": "markdown",
   "metadata": {},
   "source": [
    "# Introduction\n",
    "\n",
    "Recorded human history has only been around for 5000 years. By understanding the makeup of Pantheon, all persons today both young and old are enriched with the knowledge of global, scientific and cultural development of humanity. The meaning of the word *Pantheon* describes a group of particularly respected, famous, or important people. Over the course of human history there have been thousands of such individuals that have made an impact on society. Due to the information age that began in the latter part of the 20th century, people all over the world now have access to the same biographies of these individuals through Wikipedia in multiple languages. What was once information of limited accessibility and supply, shelved in remote libraries, is now conveniently made available through this medium.\n",
    "\n",
    "Credit goes to the Macro Connections group at the Massachusetts Institute of Technology Media Lab and their [Pantheon Project](https://www.kaggle.com/mit/pantheon-project). Not only was a Pantheon index made available to the general public, but a popularity index was created as well. One \"barrier to entry\" to this content is the number of languages available for each article. This is a key measure in determining the popularity of individuals in the Pantheon. \"The simpler of the two measures, which we denote as L, is the number of different Wikipedia language editions that have an article about a historical character. The more sophisticated measure, which we name the Historical Popularity Index (HPI) corrects L by adding information on the age of the historical character, the concentration of page views among different languages, the coefficient of variation in page views, and the number of page views in languages other than English.\" [https://www.kaggle.com/mit/pantheon-project](https://www.kaggle.com/mit/pantheon-project)\n",
    "\n",
    "The significance of historical figures may be debatable, but this report seeks to apply an objective measure of popularity to better understand how biographies of the Pantheon is being consumed in the current day and age. From Aristotle to Benjamin Franklin, Jesus Christ to Al Pacino, historical figures and their attributes will be measured with web analytics so that the reader may have insights into the following:\n",
    "\n",
    "Research questions:\n",
    "\n",
    "* Which historic characters are the most popular?\n",
    "* When did they live and where are they from?\n",
    "* What factors could have generated their popularity?\n",
    "* Are there any observable trends in the categorical data provided?\n",
    "* What associations exist between the variables in the data?\n",
    "* What clusters and groupings are in the data? How do groups compare in popularity?"
   ]
  },
  {
   "cell_type": "markdown",
   "metadata": {},
   "source": [
    "# Analysis\n",
    "\n",
    "Key analysis methods used in report:\n",
    "* Data Cleaning\n",
    "* Sorting and subsets of the data.\n",
    "* Line and bar plots.\n",
    "* Multiple regression"
   ]
  },
  {
   "cell_type": "markdown",
   "metadata": {},
   "source": [
    "## About the Data"
   ]
  },
  {
   "cell_type": "code",
<<<<<<< HEAD
<<<<<<< HEAD
<<<<<<< HEAD
<<<<<<< HEAD
<<<<<<< HEAD
<<<<<<< HEAD
   "execution_count": 628,
=======
   "execution_count": 503,
>>>>>>> parent of 675401e... Update Final_Project_Report.ipynb
=======
   "execution_count": 503,
>>>>>>> parent of 675401e... Update Final_Project_Report.ipynb
=======
   "execution_count": 1,
>>>>>>> parent of abcf7ff... Update Final_Project_Report.ipynb
=======
   "execution_count": 558,
>>>>>>> parent of 7289307... Update Final_Project_Report.ipynb
=======
   "execution_count": 53,
>>>>>>> parent of 70af6ae... Update Final_Project_Report.ipynb
=======
   "execution_count": 178,
>>>>>>> parent of cc528dc... Update Final_Project_Report.ipynb
   "metadata": {},
   "outputs": [],
   "source": [
    "import os\n",
    "import pandas as pd\n",
    "import numpy as np\n",
    "import matplotlib\n",
    "import matplotlib.pyplot as plt\n",
    "import seaborn as sn"
   ]
  },
  {
   "cell_type": "code",
<<<<<<< HEAD
<<<<<<< HEAD
<<<<<<< HEAD
<<<<<<< HEAD
<<<<<<< HEAD
<<<<<<< HEAD
   "execution_count": 629,
=======
   "execution_count": 504,
>>>>>>> parent of 675401e... Update Final_Project_Report.ipynb
=======
   "execution_count": 504,
>>>>>>> parent of 675401e... Update Final_Project_Report.ipynb
=======
   "execution_count": 2,
>>>>>>> parent of abcf7ff... Update Final_Project_Report.ipynb
=======
   "execution_count": 559,
>>>>>>> parent of 7289307... Update Final_Project_Report.ipynb
=======
   "execution_count": 54,
>>>>>>> parent of 70af6ae... Update Final_Project_Report.ipynb
=======
   "execution_count": 204,
>>>>>>> parent of cc528dc... Update Final_Project_Report.ipynb
   "metadata": {},
   "outputs": [],
   "source": [
    "# Loading data from .csv file\n",
    "dataFileName = \"data/database.csv\"\n",
    "isExist = os.path.isfile(dataFileName)\n",
    "if isExist == True:\n",
    "    dfDirtyData = pd.read_csv(dataFileName, sep=\",\", header=0)\n",
    "else:\n",
    "    print(\"File not found:\", os.getcwd())\n"
   ]
  },
  {
   "cell_type": "code",
<<<<<<< HEAD
<<<<<<< HEAD
<<<<<<< HEAD
<<<<<<< HEAD
<<<<<<< HEAD
<<<<<<< HEAD
   "execution_count": 630,
=======
   "execution_count": 505,
>>>>>>> parent of 675401e... Update Final_Project_Report.ipynb
=======
   "execution_count": 505,
>>>>>>> parent of 675401e... Update Final_Project_Report.ipynb
=======
   "execution_count": 3,
>>>>>>> parent of abcf7ff... Update Final_Project_Report.ipynb
=======
   "execution_count": 560,
>>>>>>> parent of 7289307... Update Final_Project_Report.ipynb
=======
   "execution_count": 55,
>>>>>>> parent of 70af6ae... Update Final_Project_Report.ipynb
=======
   "execution_count": 205,
>>>>>>> parent of cc528dc... Update Final_Project_Report.ipynb
   "metadata": {},
   "outputs": [
    {
     "name": "stdout",
     "output_type": "stream",
     "text": "<class 'pandas.core.frame.DataFrame'>\nRangeIndex: 11341 entries, 0 to 11340\nData columns (total 17 columns):\narticle_id                     11341 non-null int64\nfull_name                      11341 non-null object\nsex                            11341 non-null object\nbirth_year                     11341 non-null object\ncity                           11341 non-null object\nstate                          2172 non-null object\ncountry                        11308 non-null object\ncontinent                      11311 non-null object\nlatitude                       10294 non-null float64\nlongitude                      10294 non-null float64\noccupation                     11341 non-null object\nindustry                       11341 non-null object\ndomain                         11341 non-null object\narticle_languages              11341 non-null int64\npage_views                     11341 non-null int64\naverage_views                  11341 non-null int64\nhistorical_popularity_index    11341 non-null float64\ndtypes: float64(3), int64(4), object(10)\nmemory usage: 1.5+ MB\n"
    }
   ],
   "source": [
    "# Showing inforamtion about the dataframe\n",
    "dfDirtyData.info()"
   ]
  },
  {
   "cell_type": "code",
<<<<<<< HEAD
<<<<<<< HEAD
<<<<<<< HEAD
<<<<<<< HEAD
<<<<<<< HEAD
<<<<<<< HEAD
   "execution_count": 631,
=======
   "execution_count": 506,
>>>>>>> parent of 675401e... Update Final_Project_Report.ipynb
=======
   "execution_count": 506,
>>>>>>> parent of 675401e... Update Final_Project_Report.ipynb
=======
   "execution_count": 4,
>>>>>>> parent of abcf7ff... Update Final_Project_Report.ipynb
=======
   "execution_count": 561,
>>>>>>> parent of 7289307... Update Final_Project_Report.ipynb
=======
   "execution_count": 56,
>>>>>>> parent of 70af6ae... Update Final_Project_Report.ipynb
=======
   "execution_count": 206,
>>>>>>> parent of cc528dc... Update Final_Project_Report.ipynb
   "metadata": {},
   "outputs": [],
   "source": [
    "# Creating a varibale to hold fields for displaying purpose since not all will fit\n",
    "columnToDisplayDirtyData = ['full_name', 'sex', 'birth_year', 'country', 'occupation','historical_popularity_index']"
   ]
  },
  {
   "cell_type": "code",
<<<<<<< HEAD
<<<<<<< HEAD
<<<<<<< HEAD
<<<<<<< HEAD
<<<<<<< HEAD
<<<<<<< HEAD
   "execution_count": 632,
=======
   "execution_count": 507,
>>>>>>> parent of 675401e... Update Final_Project_Report.ipynb
=======
   "execution_count": 507,
>>>>>>> parent of 675401e... Update Final_Project_Report.ipynb
=======
   "execution_count": 5,
>>>>>>> parent of abcf7ff... Update Final_Project_Report.ipynb
=======
   "execution_count": 562,
>>>>>>> parent of 7289307... Update Final_Project_Report.ipynb
=======
   "execution_count": 57,
>>>>>>> parent of 70af6ae... Update Final_Project_Report.ipynb
=======
   "execution_count": 207,
>>>>>>> parent of cc528dc... Update Final_Project_Report.ipynb
   "metadata": {},
   "outputs": [
    {
     "data": {
      "text/plain": "article_id                             23671899\nfull_name                                Elisha\nsex                                        Male\nbirth_year                              Unknown\ncity                                      Other\nstate                                       NaN\ncountry                                 Unknown\ncontinent                               Unknown\nlatitude                                    NaN\nlongitude                                   NaN\noccupation                     Religious Figure\nindustry                               Religion\ndomain                             Institutions\narticle_languages                            41\npage_views                              1338790\naverage_views                             32653\nhistorical_popularity_index             25.5087\nName: 1522, dtype: object"
     },
<<<<<<< HEAD
<<<<<<< HEAD
<<<<<<< HEAD
<<<<<<< HEAD
<<<<<<< HEAD
<<<<<<< HEAD
     "execution_count": 632,
=======
     "execution_count": 507,
>>>>>>> parent of 675401e... Update Final_Project_Report.ipynb
=======
     "execution_count": 507,
>>>>>>> parent of 675401e... Update Final_Project_Report.ipynb
=======
     "execution_count": 5,
>>>>>>> parent of abcf7ff... Update Final_Project_Report.ipynb
=======
     "execution_count": 562,
>>>>>>> parent of 7289307... Update Final_Project_Report.ipynb
=======
     "execution_count": 57,
>>>>>>> parent of 70af6ae... Update Final_Project_Report.ipynb
=======
     "execution_count": 207,
>>>>>>> parent of cc528dc... Update Final_Project_Report.ipynb
     "metadata": {},
     "output_type": "execute_result"
    }
   ],
   "source": [
    "# Showing a single row of record\n",
    "dfDirtyData.loc[1522]"
   ]
  },
  {
   "cell_type": "code",
<<<<<<< HEAD
<<<<<<< HEAD
<<<<<<< HEAD
<<<<<<< HEAD
<<<<<<< HEAD
<<<<<<< HEAD
   "execution_count": 633,
=======
   "execution_count": 508,
>>>>>>> parent of 675401e... Update Final_Project_Report.ipynb
=======
   "execution_count": 508,
>>>>>>> parent of 675401e... Update Final_Project_Report.ipynb
=======
   "execution_count": 6,
>>>>>>> parent of abcf7ff... Update Final_Project_Report.ipynb
=======
   "execution_count": 563,
>>>>>>> parent of 7289307... Update Final_Project_Report.ipynb
=======
   "execution_count": 58,
>>>>>>> parent of 70af6ae... Update Final_Project_Report.ipynb
=======
   "execution_count": 208,
>>>>>>> parent of cc528dc... Update Final_Project_Report.ipynb
   "metadata": {},
   "outputs": [
    {
     "data": {
      "text/html": "<div>\n<style scoped>\n    .dataframe tbody tr th:only-of-type {\n        vertical-align: middle;\n    }\n\n    .dataframe tbody tr th {\n        vertical-align: top;\n    }\n\n    .dataframe thead th {\n        text-align: right;\n    }\n</style>\n<table border=\"1\" class=\"dataframe\">\n  <thead>\n    <tr style=\"text-align: right;\">\n      <th></th>\n      <th>full_name</th>\n      <th>sex</th>\n      <th>birth_year</th>\n      <th>country</th>\n      <th>occupation</th>\n      <th>historical_popularity_index</th>\n    </tr>\n  </thead>\n  <tbody>\n    <tr>\n      <th>0</th>\n      <td>Aristotle</td>\n      <td>Male</td>\n      <td>-384</td>\n      <td>Greece</td>\n      <td>Philosopher</td>\n      <td>31.9938</td>\n    </tr>\n    <tr>\n      <th>1</th>\n      <td>Plato</td>\n      <td>Male</td>\n      <td>-427</td>\n      <td>Greece</td>\n      <td>Philosopher</td>\n      <td>31.9888</td>\n    </tr>\n    <tr>\n      <th>2</th>\n      <td>Jesus Christ</td>\n      <td>Male</td>\n      <td>-4</td>\n      <td>Israel</td>\n      <td>Religious Figure</td>\n      <td>31.8981</td>\n    </tr>\n    <tr>\n      <th>3</th>\n      <td>Socrates</td>\n      <td>Male</td>\n      <td>-469</td>\n      <td>Greece</td>\n      <td>Philosopher</td>\n      <td>31.6521</td>\n    </tr>\n    <tr>\n      <th>4</th>\n      <td>Alexander the Great</td>\n      <td>Male</td>\n      <td>-356</td>\n      <td>Greece</td>\n      <td>Military Personnel</td>\n      <td>31.5840</td>\n    </tr>\n  </tbody>\n</table>\n</div>",
      "text/plain": "             full_name   sex birth_year country          occupation  \\\n0            Aristotle  Male       -384  Greece         Philosopher   \n1                Plato  Male       -427  Greece         Philosopher   \n2         Jesus Christ  Male         -4  Israel    Religious Figure   \n3             Socrates  Male       -469  Greece         Philosopher   \n4  Alexander the Great  Male       -356  Greece  Military Personnel   \n\n   historical_popularity_index  \n0                      31.9938  \n1                      31.9888  \n2                      31.8981  \n3                      31.6521  \n4                      31.5840  "
     },
<<<<<<< HEAD
<<<<<<< HEAD
<<<<<<< HEAD
<<<<<<< HEAD
<<<<<<< HEAD
<<<<<<< HEAD
     "execution_count": 633,
=======
     "execution_count": 508,
>>>>>>> parent of 675401e... Update Final_Project_Report.ipynb
=======
     "execution_count": 508,
>>>>>>> parent of 675401e... Update Final_Project_Report.ipynb
=======
     "execution_count": 6,
>>>>>>> parent of abcf7ff... Update Final_Project_Report.ipynb
=======
     "execution_count": 563,
>>>>>>> parent of 7289307... Update Final_Project_Report.ipynb
=======
     "execution_count": 58,
>>>>>>> parent of 70af6ae... Update Final_Project_Report.ipynb
=======
     "execution_count": 208,
>>>>>>> parent of cc528dc... Update Final_Project_Report.ipynb
     "metadata": {},
     "output_type": "execute_result"
    }
   ],
   "source": [
    "# Showing the first 5 rows of the data in the data frame\n",
    "dfDirtyData.loc[:,columnToDisplayDirtyData].head(5)"
   ]
  },
  {
   "cell_type": "code",
<<<<<<< HEAD
<<<<<<< HEAD
<<<<<<< HEAD
<<<<<<< HEAD
<<<<<<< HEAD
<<<<<<< HEAD
   "execution_count": 634,
=======
   "execution_count": 509,
>>>>>>> parent of 675401e... Update Final_Project_Report.ipynb
=======
   "execution_count": 509,
>>>>>>> parent of 675401e... Update Final_Project_Report.ipynb
=======
   "execution_count": 7,
>>>>>>> parent of abcf7ff... Update Final_Project_Report.ipynb
=======
   "execution_count": 564,
>>>>>>> parent of 7289307... Update Final_Project_Report.ipynb
=======
   "execution_count": 59,
>>>>>>> parent of 70af6ae... Update Final_Project_Report.ipynb
=======
   "execution_count": 183,
>>>>>>> parent of cc528dc... Update Final_Project_Report.ipynb
   "metadata": {},
   "outputs": [
    {
     "data": {
      "text/html": "<div>\n<style scoped>\n    .dataframe tbody tr th:only-of-type {\n        vertical-align: middle;\n    }\n\n    .dataframe tbody tr th {\n        vertical-align: top;\n    }\n\n    .dataframe thead th {\n        text-align: right;\n    }\n</style>\n<table border=\"1\" class=\"dataframe\">\n  <thead>\n    <tr style=\"text-align: right;\">\n      <th></th>\n      <th>full_name</th>\n      <th>sex</th>\n      <th>birth_year</th>\n      <th>country</th>\n      <th>occupation</th>\n      <th>historical_popularity_index</th>\n    </tr>\n  </thead>\n  <tbody>\n    <tr>\n      <th>11336</th>\n      <td>Sean St Ledger</td>\n      <td>Male</td>\n      <td>1984</td>\n      <td>United Kingdom</td>\n      <td>Soccer Player</td>\n      <td>11.1346</td>\n    </tr>\n    <tr>\n      <th>11337</th>\n      <td>Saina Nehwal</td>\n      <td>Female</td>\n      <td>1990</td>\n      <td>India</td>\n      <td>Athlete</td>\n      <td>10.6122</td>\n    </tr>\n    <tr>\n      <th>11338</th>\n      <td>Rūta Meilutytė</td>\n      <td>Female</td>\n      <td>1997</td>\n      <td>Lithuania</td>\n      <td>Swimmer</td>\n      <td>10.3821</td>\n    </tr>\n    <tr>\n      <th>11339</th>\n      <td>Vladimír Weiss</td>\n      <td>Male</td>\n      <td>1989</td>\n      <td>Slovakia</td>\n      <td>Soccer Player</td>\n      <td>10.2495</td>\n    </tr>\n    <tr>\n      <th>11340</th>\n      <td>Missy Franklin</td>\n      <td>Female</td>\n      <td>1995</td>\n      <td>United States</td>\n      <td>Swimmer</td>\n      <td>9.8794</td>\n    </tr>\n  </tbody>\n</table>\n</div>",
      "text/plain": "            full_name     sex birth_year         country     occupation  \\\n11336  Sean St Ledger    Male       1984  United Kingdom  Soccer Player   \n11337    Saina Nehwal  Female       1990           India        Athlete   \n11338  Rūta Meilutytė  Female       1997       Lithuania        Swimmer   \n11339  Vladimír Weiss    Male       1989        Slovakia  Soccer Player   \n11340  Missy Franklin  Female       1995   United States        Swimmer   \n\n       historical_popularity_index  \n11336                      11.1346  \n11337                      10.6122  \n11338                      10.3821  \n11339                      10.2495  \n11340                       9.8794  "
     },
<<<<<<< HEAD
<<<<<<< HEAD
<<<<<<< HEAD
<<<<<<< HEAD
<<<<<<< HEAD
<<<<<<< HEAD
     "execution_count": 634,
=======
     "execution_count": 509,
>>>>>>> parent of 675401e... Update Final_Project_Report.ipynb
=======
     "execution_count": 509,
>>>>>>> parent of 675401e... Update Final_Project_Report.ipynb
=======
     "execution_count": 7,
>>>>>>> parent of abcf7ff... Update Final_Project_Report.ipynb
=======
     "execution_count": 564,
>>>>>>> parent of 7289307... Update Final_Project_Report.ipynb
=======
     "execution_count": 59,
>>>>>>> parent of 70af6ae... Update Final_Project_Report.ipynb
=======
     "execution_count": 183,
>>>>>>> parent of cc528dc... Update Final_Project_Report.ipynb
     "metadata": {},
     "output_type": "execute_result"
    }
   ],
   "source": [
    "# Showing the first 5 rows of the data in the data frame\n",
    "dfDirtyData.loc[:,columnToDisplayDirtyData].tail(5)"
   ]
  },
  {
   "cell_type": "markdown",
   "metadata": {},
   "source": [
    "## Data Cleaning"
   ]
  },
  {
   "cell_type": "code",
<<<<<<< HEAD
<<<<<<< HEAD
<<<<<<< HEAD
<<<<<<< HEAD
<<<<<<< HEAD
<<<<<<< HEAD
   "execution_count": 637,
   "metadata": {},
   "outputs": [],
   "source": [
    "def fillNaN(df, dataType, defaultValue):\n",
    "    for column in df.columns:\n",
    "        if(df[column].dtype == dataType):\n",
    "            df[column].fillna(value = defaultValue, inplace=True)"
   ]
  },
  {
   "cell_type": "markdown",
   "execution_count": null,
   "metadata": {},
   "outputs": [],
   "source": [
    "##### Looping through columns in the dataframe. \n",
    "##### Replacing columns values with 'object' data type from 'NaN' to 'NA'\n",
    "#####for column in dfCleanData.columns:\n",
    "#####    if(dfCleanData[column].dtype == 'object'):\n",
    "#####          dfCleanData[column].fillna(value=\"Unknown\", inplace=True)"
   ]
  },
  {
   "cell_type": "code",
   "execution_count": 635,
=======
   "execution_count": 512,
>>>>>>> parent of 675401e... Update Final_Project_Report.ipynb
=======
   "execution_count": 512,
>>>>>>> parent of 675401e... Update Final_Project_Report.ipynb
=======
   "execution_count": 565,
>>>>>>> parent of 7289307... Update Final_Project_Report.ipynb
   "metadata": {},
   "outputs": [],
   "source": [
    "def removeCharFromNumber(inputValue):\n",
    "    a = ''\n",
    "    inputValue = str(inputValue)\n",
    "    for char in inputValue:\n",
    "        if char.isdigit() == True:\n",
    "            a = a + char\n",
    "    return a"
   ]
  },
  {
   "cell_type": "code",
<<<<<<< HEAD
<<<<<<< HEAD
<<<<<<< HEAD
   "execution_count": 636,
=======
   "execution_count": 513,
>>>>>>> parent of 675401e... Update Final_Project_Report.ipynb
=======
   "execution_count": 513,
>>>>>>> parent of 675401e... Update Final_Project_Report.ipynb
=======
   "execution_count": 566,
>>>>>>> parent of 7289307... Update Final_Project_Report.ipynb
   "metadata": {},
   "outputs": [],
   "source": [
    "# Finding the index of a column with alpha numberic values.\n",
    "def findStringValueIndex(fieldName):\n",
    "    badRowIndex = [] # initialize list of problematic rows\n",
    "    for idx, value in enumerate(dfCleanData[fieldName]):\n",
    "        try:\n",
    "            int(value)\n",
    "        except:\n",
    "            newValue = ''\n",
    "            newValue = removeCharFromNumber(value)\n",
    "            if newValue != '':\n",
    "                dfCleanData.loc[idx, col] = newValue\n",
    "            else:\n",
    "                badRowIndex.append(idx)\n",
    "    return badRowIndex"
   ]
  },
  {
   "cell_type": "code",
<<<<<<< HEAD
<<<<<<< HEAD
<<<<<<< HEAD
   "execution_count": 638,
=======
   "execution_count": 510,
>>>>>>> parent of 675401e... Update Final_Project_Report.ipynb
=======
   "execution_count": 510,
>>>>>>> parent of 675401e... Update Final_Project_Report.ipynb
=======
   "execution_count": 8,
>>>>>>> parent of abcf7ff... Update Final_Project_Report.ipynb
=======
   "execution_count": 567,
>>>>>>> parent of 7289307... Update Final_Project_Report.ipynb
=======
   "execution_count": 60,
>>>>>>> parent of 70af6ae... Update Final_Project_Report.ipynb
=======
   "execution_count": 209,
>>>>>>> parent of cc528dc... Update Final_Project_Report.ipynb
   "metadata": {},
   "outputs": [],
   "source": [
    "# Creating a new copy of a dataframe from the original\n",
    "dfCleanData = dfDirtyData.copy()"
   ]
  },
  {
   "cell_type": "code",
<<<<<<< HEAD
<<<<<<< HEAD
<<<<<<< HEAD
<<<<<<< HEAD
<<<<<<< HEAD
<<<<<<< HEAD
   "execution_count": 639,
=======
   "execution_count": 511,
>>>>>>> parent of 675401e... Update Final_Project_Report.ipynb
=======
   "execution_count": 511,
>>>>>>> parent of 675401e... Update Final_Project_Report.ipynb
=======
   "execution_count": 9,
>>>>>>> parent of abcf7ff... Update Final_Project_Report.ipynb
=======
   "execution_count": 568,
>>>>>>> parent of 7289307... Update Final_Project_Report.ipynb
=======
   "execution_count": 61,
>>>>>>> parent of 70af6ae... Update Final_Project_Report.ipynb
=======
   "execution_count": 214,
>>>>>>> parent of cc528dc... Update Final_Project_Report.ipynb
   "metadata": {},
   "outputs": [],
   "source": [
    "# Renaming historical_popularity_index to popularity (short name)\n",
    "dfCleanData.rename(columns={'historical_popularity_index': 'popularity'}, inplace=True)"
   ]
  },
  {
   "cell_type": "code",
<<<<<<< HEAD
<<<<<<< HEAD
<<<<<<< HEAD
<<<<<<< HEAD
<<<<<<< HEAD
<<<<<<< HEAD
   "execution_count": 642,
   "metadata": {},
   "outputs": [],
   "source": [
    "fillNaN(dfCleanData, 'object', 'Unknown')"
   ]
  },
  {
   "cell_type": "code",
   "execution_count": 640,
=======
   "execution_count": 514,
>>>>>>> parent of 675401e... Update Final_Project_Report.ipynb
=======
   "execution_count": 514,
>>>>>>> parent of 675401e... Update Final_Project_Report.ipynb
=======
   "execution_count": 569,
>>>>>>> parent of 7289307... Update Final_Project_Report.ipynb
   "metadata": {},
   "outputs": [],
   "source": [
    "columnToNumeric = [\"article_languages\", \"birth_year\", \"latitude\", \"longitude\", \"page_views\",\"average_views\", \"popularity\"]\n",
    "for col in columnToNumeric:\n",
    "    indx = []\n",
    "    indx = findStringValueIndex(col)\n",
    "    if len(indx) > 0 :\n",
    "        dfCleanData.loc[indx, col] = 0\n",
    "# Converting the columns above to numeric data type\n",
<<<<<<< HEAD
    "dfCleanData[columnToNumeric] = dfCleanData[columnToNumeric].apply(pd.to_numeric)"
=======
   "execution_count": 10,
=======
   "execution_count": 62,
>>>>>>> parent of 70af6ae... Update Final_Project_Report.ipynb
=======
   "execution_count": 215,
>>>>>>> parent of cc528dc... Update Final_Project_Report.ipynb
   "metadata": {},
   "outputs": [],
   "source": [
    "# Finding the index of a column with alpha numberic values.\n",
    "def findStringValueIndex(fieldName):\n",
    "    badRowIndex = [] # initialize list of problematic rows\n",
    "    for idx, value in enumerate(dfCleanData[fieldName]):\n",
    "        try:\n",
    "            int(value)\n",
    "        except:\n",
    "            badRowIndex.append(idx)\n",
    "    return badRowIndex"
>>>>>>> parent of abcf7ff... Update Final_Project_Report.ipynb
=======
    "dfCleanData[columnToConvert] = dfCleanData[columnToNumeric].apply(pd.to_numeric)"
>>>>>>> parent of 7289307... Update Final_Project_Report.ipynb
   ]
  },
  {
   "cell_type": "code",
<<<<<<< HEAD
<<<<<<< HEAD
<<<<<<< HEAD
<<<<<<< HEAD
<<<<<<< HEAD
<<<<<<< HEAD
   "execution_count": 641,
=======
   "execution_count": 515,
>>>>>>> parent of 675401e... Update Final_Project_Report.ipynb
=======
   "execution_count": 515,
>>>>>>> parent of 675401e... Update Final_Project_Report.ipynb
=======
   "execution_count": 11,
>>>>>>> parent of abcf7ff... Update Final_Project_Report.ipynb
=======
   "execution_count": 570,
>>>>>>> parent of 7289307... Update Final_Project_Report.ipynb
=======
   "execution_count": 63,
>>>>>>> parent of 70af6ae... Update Final_Project_Report.ipynb
=======
   "execution_count": 216,
>>>>>>> parent of cc528dc... Update Final_Project_Report.ipynb
   "metadata": {},
   "outputs": [],
   "source": [
    "# List of columns to be converted into numeric data type\n",
    "columnToConvert = [\"article_languages\", \"birth_year\", \"latitude\", \"longitude\", \"page_views\",\"average_views\", \"popularity\"]\n",
    "# Making sure to replace the non-numeric values to 0 before converting to numeric\n",
    "# Examples: \n",
    "#           dfCleanData.loc[findStringValueIndex('latitude'), 'latitude'] = 0\n",
    "# The following code block is doing similiar to the examples but \n",
    "# through the iteration of the list \n",
<<<<<<< HEAD
    "# replaced incorrect birth year with an actual year\n",
    "#dfCleanData['birth_year'] = dfCleanData['birth_year'].replace(['1237?'], 1237).replace(['530s'], 530)"
   ]
  },
  {
   "cell_type": "code",
<<<<<<< HEAD
<<<<<<< HEAD
<<<<<<< HEAD
   "execution_count": 643,
=======
   "execution_count": 557,
>>>>>>> parent of 675401e... Update Final_Project_Report.ipynb
=======
   "execution_count": 557,
>>>>>>> parent of 675401e... Update Final_Project_Report.ipynb
   "metadata": {},
   "outputs": [
    {
     "name": "stdout",
     "output_type": "stream",
<<<<<<< HEAD
<<<<<<< HEAD
     "text": "<class 'pandas.core.frame.DataFrame'>\nRangeIndex: 11341 entries, 0 to 11340\nData columns (total 17 columns):\narticle_id           11341 non-null int64\nfull_name            11341 non-null object\nsex                  11341 non-null object\nbirth_year           11341 non-null int64\ncity                 11341 non-null object\nstate                11341 non-null object\ncountry              11341 non-null object\ncontinent            11341 non-null object\nlatitude             11341 non-null float64\nlongitude            11341 non-null float64\noccupation           11341 non-null object\nindustry             11341 non-null object\ndomain               11341 non-null object\narticle_languages    11341 non-null int64\npage_views           11341 non-null int64\naverage_views        11341 non-null int64\npopularity           11341 non-null float64\ndtypes: float64(3), int64(5), object(9)\nmemory usage: 1.5+ MB\n"
    }
   ],
   "source": [
    "# Showing inforamtion about the dataframe\n",
    "dfCleanData.info()"
=======
     "text": "Dirty Birth Year 3009    1237?\nName: birth_year, dtype: object\n\nClean Birth Year 3009    1237\nName: birth_year, dtype: int64\n"
    }
   ],
   "source": [
=======
     "text": "Dirty Birth Year 3009    1237?\nName: birth_year, dtype: object\n\nClean Birth Year 3009    1237\nName: birth_year, dtype: int64\n"
    }
   ],
   "source": [
>>>>>>> parent of 675401e... Update Final_Project_Report.ipynb
    "dirtyBirthYear = dfDirtyData[dfDirtyData['birth_year'] == '1237?'].loc[:,'birth_year']\n",
    "cleanBirthYear = dfCleanData[dfCleanData['birth_year'] == 1237].loc[:,'birth_year']\n",
    "print('Dirty Birth Year', dirtyBirthYear)\n",
    "print()\n",
    "print('Clean Birth Year', cleanBirthYear)\n"
<<<<<<< HEAD
>>>>>>> parent of 675401e... Update Final_Project_Report.ipynb
=======
>>>>>>> parent of 675401e... Update Final_Project_Report.ipynb
=======
   "execution_count": 573,
   "metadata": {},
   "outputs": [],
   "source": [
    "# Looping through columns in the dataframe. \n",
    "# Replacing columns values with 'object' data type from 'NaN' to 'NA'\n",
    "for column in dfCleanData.columns:\n",
    "    if(dfCleanData[column].dtype == 'object'):\n",
    "          dfCleanData[column].fillna(value=\"Unknown\", inplace=True)"
>>>>>>> parent of 7289307... Update Final_Project_Report.ipynb
   ]
  },
  {
   "cell_type": "code",
<<<<<<< HEAD
<<<<<<< HEAD
<<<<<<< HEAD
   "execution_count": 673,
=======
   "execution_count": 574,
>>>>>>> parent of 7289307... Update Final_Project_Report.ipynb
   "metadata": {},
   "outputs": [
    {
     "name": "stdout",
     "output_type": "stream",
     "text": "<class 'pandas.core.frame.DataFrame'>\nRangeIndex: 11341 entries, 0 to 11340\nData columns (total 17 columns):\narticle_id           11341 non-null int64\nfull_name            11341 non-null object\nsex                  11341 non-null object\nbirth_year           11341 non-null int64\ncity                 11341 non-null object\nstate                11341 non-null object\ncountry              11341 non-null object\ncontinent            11341 non-null object\nlatitude             11341 non-null float64\nlongitude            11341 non-null float64\noccupation           11341 non-null object\nindustry             11341 non-null object\ndomain               11341 non-null object\narticle_languages    11341 non-null int64\npage_views           11341 non-null int64\naverage_views        11341 non-null int64\npopularity           11341 non-null float64\ndtypes: float64(3), int64(5), object(9)\nmemory usage: 1.5+ MB\n"
    }
   ],
   "source": [
<<<<<<< HEAD
    "print('Dirty Data:', dfDirtyData[dfDirtyData['birth_year'] == '1237?'].loc[:,'birth_year'])\n",
    "print()\n",
    "print('Clean Data:', dfCleanData[dfCleanData['birth_year'] == 1237].loc[:,'birth_year'])\n"
=======
   "execution_count": 533,
   "metadata": {},
   "outputs": [
    {
     "data": {
      "text/plain": "article_id                               518761\nfull_name                      Adam de la Halle\nsex                                        Male\nbirth_year                                1237?\ncity                                      Arras\nstate                                       NaN\ncountry                                  France\ncontinent                                Europe\nlatitude                                50.2897\nlongitude                                2.7808\noccupation                               Writer\nindustry                               Language\ndomain                               Humanities\narticle_languages                            30\npage_views                               406283\naverage_views                             13543\nhistorical_popularity_index             24.5036\nName: 3009, dtype: object"
     },
     "execution_count": 533,
     "metadata": {},
     "output_type": "execute_result"
    }
   ],
   "source": [
=======
   "execution_count": 533,
   "metadata": {},
   "outputs": [
    {
     "data": {
      "text/plain": "article_id                               518761\nfull_name                      Adam de la Halle\nsex                                        Male\nbirth_year                                1237?\ncity                                      Arras\nstate                                       NaN\ncountry                                  France\ncontinent                                Europe\nlatitude                                50.2897\nlongitude                                2.7808\noccupation                               Writer\nindustry                               Language\ndomain                               Humanities\narticle_languages                            30\npage_views                               406283\naverage_views                             13543\nhistorical_popularity_index             24.5036\nName: 3009, dtype: object"
     },
     "execution_count": 533,
     "metadata": {},
     "output_type": "execute_result"
    }
   ],
   "source": [
>>>>>>> parent of 675401e... Update Final_Project_Report.ipynb
    "dfDirtyData.loc[3009]"
=======
    "for col in columnToConvert:\n",
    "    indx = []\n",
    "    indx = findStringValueIndex(col)\n",
    "    if len(indx) > 0 :\n",
    "        dfCleanData.loc[indx, col] = 0\n",
    "# Converting the columns above to numeric data type\n",
    "dfCleanData[columnToConvert] = dfCleanData[columnToConvert].apply(pd.to_numeric)"
>>>>>>> parent of abcf7ff... Update Final_Project_Report.ipynb
   ]
  },
  {
   "cell_type": "code",
<<<<<<< HEAD
   "execution_count": 64,
=======
   "execution_count": 217,
>>>>>>> parent of cc528dc... Update Final_Project_Report.ipynb
   "metadata": {},
   "outputs": [],
   "source": [
    "# Looping through columns in the dataframe. \n",
    "# Replacing columns with 'object' data type from 'NaN' to 'NA'\n",
    "for column in dfCleanData.columns:\n",
    "    if(dfCleanData[column].dtype == 'object'):\n",
<<<<<<< HEAD
    "          dfCleanData[column].fillna(value=\"Unknown\", inplace=True)"
<<<<<<< HEAD
>>>>>>> parent of 675401e... Update Final_Project_Report.ipynb
=======
>>>>>>> parent of 675401e... Update Final_Project_Report.ipynb
=======
    "          dfCleanData[column].fillna(value=\"NA\", inplace=True)"
>>>>>>> parent of abcf7ff... Update Final_Project_Report.ipynb
=======
    "# Showing inforamtion about the dataframe\n",
    "dfCleanData.info()"
>>>>>>> parent of 7289307... Update Final_Project_Report.ipynb
   ]
  },
  {
   "cell_type": "code",
<<<<<<< HEAD
<<<<<<< HEAD
<<<<<<< HEAD
<<<<<<< HEAD
<<<<<<< HEAD
<<<<<<< HEAD
   "execution_count": 674,
=======
   "execution_count": 518,
>>>>>>> parent of 675401e... Update Final_Project_Report.ipynb
=======
   "execution_count": 518,
>>>>>>> parent of 675401e... Update Final_Project_Report.ipynb
=======
   "execution_count": 13,
>>>>>>> parent of abcf7ff... Update Final_Project_Report.ipynb
=======
   "execution_count": 571,
>>>>>>> parent of 7289307... Update Final_Project_Report.ipynb
=======
   "execution_count": 65,
>>>>>>> parent of 70af6ae... Update Final_Project_Report.ipynb
=======
   "execution_count": 143,
>>>>>>> parent of cc528dc... Update Final_Project_Report.ipynb
   "metadata": {},
   "outputs": [
    {
     "name": "stdout",
     "output_type": "stream",
<<<<<<< HEAD
<<<<<<< HEAD
<<<<<<< HEAD
     "text": "Dirty Data: 1522    NaN\nName: state, dtype: object\n\nClean Data: 1522    Unknown\nName: state, dtype: object\n"
    }
   ],
   "source": [
    "print('Dirty Data:', dfDirtyData[dfDirtyData['article_id'] == 23671899].loc[:,'state'])\n",
    "print('')\n",
    "print('Clean Data:', dfCleanData[dfCleanData['article_id'] == 23671899].loc[:,'state'])"
=======
     "text": "<class 'pandas.core.frame.DataFrame'>\nRangeIndex: 11341 entries, 0 to 11340\nData columns (total 17 columns):\narticle_id           11341 non-null int64\nfull_name            11341 non-null object\nsex                  11341 non-null object\nbirth_year           11341 non-null int64\ncity                 11341 non-null object\nstate                11341 non-null object\ncountry              11341 non-null object\ncontinent            11341 non-null object\nlatitude             11341 non-null float64\nlongitude            11341 non-null float64\noccupation           11341 non-null object\nindustry             11341 non-null object\ndomain               11341 non-null object\narticle_languages    11341 non-null int64\npage_views           11341 non-null int64\naverage_views        11341 non-null int64\npopularity           11341 non-null float64\ndtypes: float64(3), int64(5), object(9)\nmemory usage: 1.5+ MB\n"
    }
   ],
   "source": [
    "# Showing inforamtion about the dataframe\n",
    "dfCleanData.info()"
>>>>>>> parent of 675401e... Update Final_Project_Report.ipynb
=======
     "text": "<class 'pandas.core.frame.DataFrame'>\nRangeIndex: 11341 entries, 0 to 11340\nData columns (total 17 columns):\narticle_id           11341 non-null int64\nfull_name            11341 non-null object\nsex                  11341 non-null object\nbirth_year           11341 non-null int64\ncity                 11341 non-null object\nstate                11341 non-null object\ncountry              11341 non-null object\ncontinent            11341 non-null object\nlatitude             11341 non-null float64\nlongitude            11341 non-null float64\noccupation           11341 non-null object\nindustry             11341 non-null object\ndomain               11341 non-null object\narticle_languages    11341 non-null int64\npage_views           11341 non-null int64\naverage_views        11341 non-null int64\npopularity           11341 non-null float64\ndtypes: float64(3), int64(5), object(9)\nmemory usage: 1.5+ MB\n"
    }
   ],
   "source": [
    "# Showing inforamtion about the dataframe\n",
    "dfCleanData.info()"
>>>>>>> parent of 675401e... Update Final_Project_Report.ipynb
=======
     "text": "Dirty Birth Year 3009    1237?\nName: birth_year, dtype: object\n\nClean Birth Year 3009    1237\nName: birth_year, dtype: int64\n"
    }
   ],
   "source": [
    "dirtyBirthYear = dfDirtyData[dfDirtyData['birth_year'] == '1237?'].loc[:,'birth_year']\n",
    "cleanBirthYear = dfCleanData[dfCleanData['birth_year'] == 1237].loc[:,'birth_year']\n",
    "print('Dirty Birth Year', dirtyBirthYear)\n",
    "print()\n",
    "print('Clean Birth Year', cleanBirthYear)\n"
>>>>>>> parent of 7289307... Update Final_Project_Report.ipynb
   ]
  },
  {
   "cell_type": "code",
<<<<<<< HEAD
<<<<<<< HEAD
<<<<<<< HEAD
<<<<<<< HEAD
<<<<<<< HEAD
<<<<<<< HEAD
   "execution_count": 646,
=======
   "execution_count": 519,
>>>>>>> parent of 675401e... Update Final_Project_Report.ipynb
=======
   "execution_count": 519,
>>>>>>> parent of 675401e... Update Final_Project_Report.ipynb
=======
   "execution_count": 14,
>>>>>>> parent of abcf7ff... Update Final_Project_Report.ipynb
=======
   "execution_count": 575,
>>>>>>> parent of 7289307... Update Final_Project_Report.ipynb
=======
   "execution_count": 123,
>>>>>>> parent of 70af6ae... Update Final_Project_Report.ipynb
=======
   "execution_count": 189,
>>>>>>> parent of cc528dc... Update Final_Project_Report.ipynb
   "metadata": {},
   "outputs": [],
   "source": [
    "# Creating a varibale to hold fields for displaying purpose since not all will fit\n",
    "columnToDisplayCleanData = ['full_name', 'sex', 'birth_year', 'country', 'industry','domain','occupation','popularity']"
   ]
  },
  {
   "cell_type": "code",
<<<<<<< HEAD
<<<<<<< HEAD
<<<<<<< HEAD
<<<<<<< HEAD
<<<<<<< HEAD
<<<<<<< HEAD
   "execution_count": 647,
=======
   "execution_count": 520,
>>>>>>> parent of 675401e... Update Final_Project_Report.ipynb
=======
   "execution_count": 520,
>>>>>>> parent of 675401e... Update Final_Project_Report.ipynb
=======
   "execution_count": 15,
>>>>>>> parent of abcf7ff... Update Final_Project_Report.ipynb
=======
   "execution_count": 576,
>>>>>>> parent of 7289307... Update Final_Project_Report.ipynb
=======
   "execution_count": 119,
>>>>>>> parent of 70af6ae... Update Final_Project_Report.ipynb
=======
   "execution_count": 190,
>>>>>>> parent of cc528dc... Update Final_Project_Report.ipynb
   "metadata": {},
   "outputs": [
    {
     "data": {
      "text/html": "<div>\n<style scoped>\n    .dataframe tbody tr th:only-of-type {\n        vertical-align: middle;\n    }\n\n    .dataframe tbody tr th {\n        vertical-align: top;\n    }\n\n    .dataframe thead th {\n        text-align: right;\n    }\n</style>\n<table border=\"1\" class=\"dataframe\">\n  <thead>\n    <tr style=\"text-align: right;\">\n      <th></th>\n      <th>full_name</th>\n      <th>sex</th>\n      <th>birth_year</th>\n      <th>country</th>\n      <th>industry</th>\n      <th>domain</th>\n      <th>occupation</th>\n      <th>popularity</th>\n      <th>longitude</th>\n      <th>latitude</th>\n    </tr>\n  </thead>\n  <tbody>\n    <tr>\n      <th>0</th>\n      <td>Aristotle</td>\n      <td>Male</td>\n      <td>-384</td>\n      <td>Greece</td>\n      <td>Philosophy</td>\n      <td>Humanities</td>\n      <td>Philosopher</td>\n      <td>31.9938</td>\n      <td>23.50000</td>\n      <td>40.33333</td>\n    </tr>\n    <tr>\n      <th>1</th>\n      <td>Plato</td>\n      <td>Male</td>\n      <td>-427</td>\n      <td>Greece</td>\n      <td>Philosophy</td>\n      <td>Humanities</td>\n      <td>Philosopher</td>\n      <td>31.9888</td>\n      <td>23.71667</td>\n      <td>37.96667</td>\n    </tr>\n    <tr>\n      <th>2</th>\n      <td>Jesus Christ</td>\n      <td>Male</td>\n      <td>-4</td>\n      <td>Israel</td>\n      <td>Religion</td>\n      <td>Institutions</td>\n      <td>Religious Figure</td>\n      <td>31.8981</td>\n      <td>34.90000</td>\n      <td>32.50000</td>\n    </tr>\n    <tr>\n      <th>3</th>\n      <td>Socrates</td>\n      <td>Male</td>\n      <td>-469</td>\n      <td>Greece</td>\n      <td>Philosophy</td>\n      <td>Humanities</td>\n      <td>Philosopher</td>\n      <td>31.6521</td>\n      <td>23.71667</td>\n      <td>37.96667</td>\n    </tr>\n    <tr>\n      <th>4</th>\n      <td>Alexander the Great</td>\n      <td>Male</td>\n      <td>-356</td>\n      <td>Greece</td>\n      <td>Military</td>\n      <td>Institutions</td>\n      <td>Military Personnel</td>\n      <td>31.5840</td>\n      <td>22.51667</td>\n      <td>40.80000</td>\n    </tr>\n  </tbody>\n</table>\n</div>",
      "text/plain": "             full_name   sex  birth_year country    industry        domain  \\\n0            Aristotle  Male        -384  Greece  Philosophy    Humanities   \n1                Plato  Male        -427  Greece  Philosophy    Humanities   \n2         Jesus Christ  Male          -4  Israel    Religion  Institutions   \n3             Socrates  Male        -469  Greece  Philosophy    Humanities   \n4  Alexander the Great  Male        -356  Greece    Military  Institutions   \n\n           occupation  popularity  longitude  latitude  \n0         Philosopher     31.9938   23.50000  40.33333  \n1         Philosopher     31.9888   23.71667  37.96667  \n2    Religious Figure     31.8981   34.90000  32.50000  \n3         Philosopher     31.6521   23.71667  37.96667  \n4  Military Personnel     31.5840   22.51667  40.80000  "
     },
<<<<<<< HEAD
<<<<<<< HEAD
<<<<<<< HEAD
<<<<<<< HEAD
<<<<<<< HEAD
<<<<<<< HEAD
     "execution_count": 647,
=======
     "execution_count": 520,
>>>>>>> parent of 675401e... Update Final_Project_Report.ipynb
=======
     "execution_count": 520,
>>>>>>> parent of 675401e... Update Final_Project_Report.ipynb
=======
     "execution_count": 15,
>>>>>>> parent of abcf7ff... Update Final_Project_Report.ipynb
=======
     "execution_count": 576,
>>>>>>> parent of 7289307... Update Final_Project_Report.ipynb
=======
     "execution_count": 119,
>>>>>>> parent of 70af6ae... Update Final_Project_Report.ipynb
=======
     "execution_count": 190,
>>>>>>> parent of cc528dc... Update Final_Project_Report.ipynb
     "metadata": {},
     "output_type": "execute_result"
    }
   ],
   "source": [
    "# Showing the first 5 rows of the data in the dataset\n",
    "dfCleanData.loc[:,columnToDisplayCleanData].head(5)"
   ]
  },
  {
   "cell_type": "code",
<<<<<<< HEAD
<<<<<<< HEAD
<<<<<<< HEAD
<<<<<<< HEAD
<<<<<<< HEAD
<<<<<<< HEAD
   "execution_count": 648,
=======
   "execution_count": 521,
>>>>>>> parent of 675401e... Update Final_Project_Report.ipynb
=======
   "execution_count": 521,
>>>>>>> parent of 675401e... Update Final_Project_Report.ipynb
=======
   "execution_count": 16,
>>>>>>> parent of abcf7ff... Update Final_Project_Report.ipynb
=======
   "execution_count": 577,
>>>>>>> parent of 7289307... Update Final_Project_Report.ipynb
=======
   "execution_count": 110,
>>>>>>> parent of 70af6ae... Update Final_Project_Report.ipynb
=======
   "execution_count": 191,
>>>>>>> parent of cc528dc... Update Final_Project_Report.ipynb
   "metadata": {},
   "outputs": [
    {
     "data": {
      "text/html": "<div>\n<style scoped>\n    .dataframe tbody tr th:only-of-type {\n        vertical-align: middle;\n    }\n\n    .dataframe tbody tr th {\n        vertical-align: top;\n    }\n\n    .dataframe thead th {\n        text-align: right;\n    }\n</style>\n<table border=\"1\" class=\"dataframe\">\n  <thead>\n    <tr style=\"text-align: right;\">\n      <th></th>\n      <th>full_name</th>\n      <th>sex</th>\n      <th>birth_year</th>\n      <th>country</th>\n      <th>industry</th>\n      <th>domain</th>\n      <th>occupation</th>\n      <th>popularity</th>\n      <th>longitude</th>\n      <th>latitude</th>\n    </tr>\n  </thead>\n  <tbody>\n    <tr>\n      <th>11336</th>\n      <td>Sean St Ledger</td>\n      <td>Male</td>\n      <td>1984</td>\n      <td>United Kingdom</td>\n      <td>Team Sports</td>\n      <td>Sports</td>\n      <td>Soccer Player</td>\n      <td>11.1346</td>\n      <td>-1.77209</td>\n      <td>52.41290</td>\n    </tr>\n    <tr>\n      <th>11337</th>\n      <td>Saina Nehwal</td>\n      <td>Female</td>\n      <td>1990</td>\n      <td>India</td>\n      <td>Individual Sports</td>\n      <td>Sports</td>\n      <td>Athlete</td>\n      <td>10.6122</td>\n      <td>75.71670</td>\n      <td>29.16670</td>\n    </tr>\n    <tr>\n      <th>11338</th>\n      <td>Rūta Meilutytė</td>\n      <td>Female</td>\n      <td>1997</td>\n      <td>Lithuania</td>\n      <td>Individual Sports</td>\n      <td>Sports</td>\n      <td>Swimmer</td>\n      <td>10.3821</td>\n      <td>23.88611</td>\n      <td>54.90000</td>\n    </tr>\n    <tr>\n      <th>11339</th>\n      <td>Vladimír Weiss</td>\n      <td>Male</td>\n      <td>1989</td>\n      <td>Slovakia</td>\n      <td>Team Sports</td>\n      <td>Sports</td>\n      <td>Soccer Player</td>\n      <td>10.2495</td>\n      <td>17.10972</td>\n      <td>48.14389</td>\n    </tr>\n    <tr>\n      <th>11340</th>\n      <td>Missy Franklin</td>\n      <td>Female</td>\n      <td>1995</td>\n      <td>United States</td>\n      <td>Individual Sports</td>\n      <td>Sports</td>\n      <td>Swimmer</td>\n      <td>9.8794</td>\n      <td>-118.13194</td>\n      <td>34.15611</td>\n    </tr>\n  </tbody>\n</table>\n</div>",
      "text/plain": "            full_name     sex  birth_year         country           industry  \\\n11336  Sean St Ledger    Male        1984  United Kingdom        Team Sports   \n11337    Saina Nehwal  Female        1990           India  Individual Sports   \n11338  Rūta Meilutytė  Female        1997       Lithuania  Individual Sports   \n11339  Vladimír Weiss    Male        1989        Slovakia        Team Sports   \n11340  Missy Franklin  Female        1995   United States  Individual Sports   \n\n       domain     occupation  popularity  longitude  latitude  \n11336  Sports  Soccer Player     11.1346   -1.77209  52.41290  \n11337  Sports        Athlete     10.6122   75.71670  29.16670  \n11338  Sports        Swimmer     10.3821   23.88611  54.90000  \n11339  Sports  Soccer Player     10.2495   17.10972  48.14389  \n11340  Sports        Swimmer      9.8794 -118.13194  34.15611  "
     },
<<<<<<< HEAD
<<<<<<< HEAD
<<<<<<< HEAD
<<<<<<< HEAD
<<<<<<< HEAD
<<<<<<< HEAD
     "execution_count": 648,
=======
     "execution_count": 521,
>>>>>>> parent of 675401e... Update Final_Project_Report.ipynb
=======
     "execution_count": 521,
>>>>>>> parent of 675401e... Update Final_Project_Report.ipynb
=======
     "execution_count": 16,
>>>>>>> parent of abcf7ff... Update Final_Project_Report.ipynb
=======
     "execution_count": 577,
>>>>>>> parent of 7289307... Update Final_Project_Report.ipynb
=======
     "execution_count": 110,
>>>>>>> parent of 70af6ae... Update Final_Project_Report.ipynb
=======
     "execution_count": 191,
>>>>>>> parent of cc528dc... Update Final_Project_Report.ipynb
     "metadata": {},
     "output_type": "execute_result"
    }
   ],
   "source": [
    "# Showing the last 5 rows of the data in the dataset\n",
    "dfCleanData.loc[:,columnToDisplayCleanData].tail(5)"
   ]
  },
  {
   "cell_type": "code",
<<<<<<< HEAD
<<<<<<< HEAD
<<<<<<< HEAD
<<<<<<< HEAD
<<<<<<< HEAD
   "execution_count": 649,
=======
   "execution_count": 522,
>>>>>>> parent of 675401e... Update Final_Project_Report.ipynb
=======
   "execution_count": 522,
>>>>>>> parent of 675401e... Update Final_Project_Report.ipynb
=======
   "execution_count": 17,
>>>>>>> parent of abcf7ff... Update Final_Project_Report.ipynb
=======
   "execution_count": 578,
>>>>>>> parent of 7289307... Update Final_Project_Report.ipynb
=======
   "execution_count": 69,
>>>>>>> parent of 70af6ae... Update Final_Project_Report.ipynb
   "metadata": {},
   "outputs": [],
   "source": [
    "#sn.heatmap()"
   ]
  },
  {
   "cell_type": "markdown",
   "metadata": {},
   "source": [
    "## Exploration"
   ]
  },
  {
   "cell_type": "code",
<<<<<<< HEAD
<<<<<<< HEAD
<<<<<<< HEAD
<<<<<<< HEAD
<<<<<<< HEAD
<<<<<<< HEAD
   "execution_count": 650,
=======
   "execution_count": 523,
>>>>>>> parent of 675401e... Update Final_Project_Report.ipynb
=======
   "execution_count": 523,
>>>>>>> parent of 675401e... Update Final_Project_Report.ipynb
=======
   "execution_count": 18,
>>>>>>> parent of abcf7ff... Update Final_Project_Report.ipynb
=======
   "execution_count": 579,
>>>>>>> parent of 7289307... Update Final_Project_Report.ipynb
=======
   "execution_count": 120,
>>>>>>> parent of 70af6ae... Update Final_Project_Report.ipynb
   "metadata": {},
   "outputs": [
    {
     "data": {
      "text/html": "<div>\n<style scoped>\n    .dataframe tbody tr th:only-of-type {\n        vertical-align: middle;\n    }\n\n    .dataframe tbody tr th {\n        vertical-align: top;\n    }\n\n    .dataframe thead th {\n        text-align: right;\n    }\n</style>\n<table border=\"1\" class=\"dataframe\">\n  <thead>\n    <tr style=\"text-align: right;\">\n      <th></th>\n      <th></th>\n      <th>total_count</th>\n    </tr>\n    <tr>\n      <th>industry</th>\n      <th>sex</th>\n      <th></th>\n    </tr>\n  </thead>\n  <tbody>\n    <tr>\n      <th rowspan=\"2\" valign=\"top\">Activism</th>\n      <th>Female</th>\n      <td>38</td>\n    </tr>\n    <tr>\n      <th>Male</th>\n      <td>76</td>\n    </tr>\n    <tr>\n      <th rowspan=\"2\" valign=\"top\">Business</th>\n      <th>Female</th>\n      <td>4</td>\n    </tr>\n    <tr>\n      <th>Male</th>\n      <td>87</td>\n    </tr>\n    <tr>\n      <th rowspan=\"2\" valign=\"top\">Companions</th>\n      <th>Female</th>\n      <td>94</td>\n    </tr>\n    <tr>\n      <th>Male</th>\n      <td>7</td>\n    </tr>\n    <tr>\n      <th rowspan=\"2\" valign=\"top\">Computer Science</th>\n      <th>Female</th>\n      <td>1</td>\n    </tr>\n    <tr>\n      <th>Male</th>\n      <td>32</td>\n    </tr>\n    <tr>\n      <th rowspan=\"2\" valign=\"top\">Dance</th>\n      <th>Female</th>\n      <td>7</td>\n    </tr>\n    <tr>\n      <th>Male</th>\n      <td>5</td>\n    </tr>\n    <tr>\n      <th rowspan=\"2\" valign=\"top\">Design</th>\n      <th>Female</th>\n      <td>5</td>\n    </tr>\n    <tr>\n      <th>Male</th>\n      <td>122</td>\n    </tr>\n    <tr>\n      <th rowspan=\"2\" valign=\"top\">Engineering</th>\n      <th>Male</th>\n      <td>39</td>\n    </tr>\n    <tr>\n      <th>Female</th>\n      <td>1</td>\n    </tr>\n    <tr>\n      <th rowspan=\"2\" valign=\"top\">Explorers</th>\n      <th>Female</th>\n      <td>7</td>\n    </tr>\n    <tr>\n      <th>Male</th>\n      <td>95</td>\n    </tr>\n    <tr>\n      <th rowspan=\"2\" valign=\"top\">Film And Theatre</th>\n      <th>Female</th>\n      <td>504</td>\n    </tr>\n    <tr>\n      <th>Male</th>\n      <td>870</td>\n    </tr>\n    <tr>\n      <th rowspan=\"2\" valign=\"top\">Fine Arts</th>\n      <th>Female</th>\n      <td>16</td>\n    </tr>\n    <tr>\n      <th>Male</th>\n      <td>283</td>\n    </tr>\n    <tr>\n      <th rowspan=\"2\" valign=\"top\">Government</th>\n      <th>Female</th>\n      <td>178</td>\n    </tr>\n    <tr>\n      <th>Male</th>\n      <td>2527</td>\n    </tr>\n    <tr>\n      <th>History</th>\n      <th>Male</th>\n      <td>49</td>\n    </tr>\n    <tr>\n      <th rowspan=\"2\" valign=\"top\">Individual Sports</th>\n      <th>Female</th>\n      <td>115</td>\n    </tr>\n    <tr>\n      <th>Male</th>\n      <td>411</td>\n    </tr>\n    <tr>\n      <th>Invention</th>\n      <th>Male</th>\n      <td>67</td>\n    </tr>\n    <tr>\n      <th rowspan=\"2\" valign=\"top\">Language</th>\n      <th>Female</th>\n      <td>114</td>\n    </tr>\n    <tr>\n      <th>Male</th>\n      <td>885</td>\n    </tr>\n    <tr>\n      <th rowspan=\"2\" valign=\"top\">Law</th>\n      <th>Female</th>\n      <td>1</td>\n    </tr>\n    <tr>\n      <th>Male</th>\n      <td>16</td>\n    </tr>\n    <tr>\n      <th rowspan=\"2\" valign=\"top\">Math</th>\n      <th>Female</th>\n      <td>7</td>\n    </tr>\n    <tr>\n      <th>Male</th>\n      <td>154</td>\n    </tr>\n    <tr>\n      <th rowspan=\"2\" valign=\"top\">Media Personality</th>\n      <th>Female</th>\n      <td>58</td>\n    </tr>\n    <tr>\n      <th>Male</th>\n      <td>29</td>\n    </tr>\n    <tr>\n      <th rowspan=\"2\" valign=\"top\">Medicine</th>\n      <th>Female</th>\n      <td>4</td>\n    </tr>\n    <tr>\n      <th>Male</th>\n      <td>138</td>\n    </tr>\n    <tr>\n      <th rowspan=\"2\" valign=\"top\">Military</th>\n      <th>Female</th>\n      <td>4</td>\n    </tr>\n    <tr>\n      <th>Male</th>\n      <td>229</td>\n    </tr>\n    <tr>\n      <th rowspan=\"2\" valign=\"top\">Music</th>\n      <th>Male</th>\n      <td>793</td>\n    </tr>\n    <tr>\n      <th>Female</th>\n      <td>261</td>\n    </tr>\n    <tr>\n      <th rowspan=\"2\" valign=\"top\">Natural Sciences</th>\n      <th>Female</th>\n      <td>22</td>\n    </tr>\n    <tr>\n      <th>Male</th>\n      <td>714</td>\n    </tr>\n    <tr>\n      <th rowspan=\"2\" valign=\"top\">Outlaws</th>\n      <th>Female</th>\n      <td>2</td>\n    </tr>\n    <tr>\n      <th>Male</th>\n      <td>54</td>\n    </tr>\n    <tr>\n      <th rowspan=\"2\" valign=\"top\">Philosophy</th>\n      <th>Female</th>\n      <td>6</td>\n    </tr>\n    <tr>\n      <th>Male</th>\n      <td>275</td>\n    </tr>\n    <tr>\n      <th rowspan=\"2\" valign=\"top\">Religion</th>\n      <th>Female</th>\n      <td>32</td>\n    </tr>\n    <tr>\n      <th>Male</th>\n      <td>486</td>\n    </tr>\n    <tr>\n      <th rowspan=\"2\" valign=\"top\">Social Sciences</th>\n      <th>Female</th>\n      <td>8</td>\n    </tr>\n    <tr>\n      <th>Male</th>\n      <td>179</td>\n    </tr>\n    <tr>\n      <th rowspan=\"2\" valign=\"top\">Team Sports</th>\n      <th>Female</th>\n      <td>6</td>\n    </tr>\n    <tr>\n      <th>Male</th>\n      <td>1224</td>\n    </tr>\n  </tbody>\n</table>\n</div>",
      "text/plain": "                          total_count\nindustry          sex                \nActivism          Female           38\n                  Male             76\nBusiness          Female            4\n                  Male             87\nCompanions        Female           94\n                  Male              7\nComputer Science  Female            1\n                  Male             32\nDance             Female            7\n                  Male              5\nDesign            Female            5\n                  Male            122\nEngineering       Male             39\n                  Female            1\nExplorers         Female            7\n                  Male             95\nFilm And Theatre  Female          504\n                  Male            870\nFine Arts         Female           16\n                  Male            283\nGovernment        Female          178\n                  Male           2527\nHistory           Male             49\nIndividual Sports Female          115\n                  Male            411\nInvention         Male             67\nLanguage          Female          114\n                  Male            885\nLaw               Female            1\n                  Male             16\nMath              Female            7\n                  Male            154\nMedia Personality Female           58\n                  Male             29\nMedicine          Female            4\n                  Male            138\nMilitary          Female            4\n                  Male            229\nMusic             Male            793\n                  Female          261\nNatural Sciences  Female           22\n                  Male            714\nOutlaws           Female            2\n                  Male             54\nPhilosophy        Female            6\n                  Male            275\nReligion          Female           32\n                  Male            486\nSocial Sciences   Female            8\n                  Male            179\nTeam Sports       Female            6\n                  Male           1224"
     },
<<<<<<< HEAD
<<<<<<< HEAD
<<<<<<< HEAD
<<<<<<< HEAD
<<<<<<< HEAD
     "execution_count": 650,
=======
     "execution_count": 523,
>>>>>>> parent of 675401e... Update Final_Project_Report.ipynb
=======
     "execution_count": 523,
>>>>>>> parent of 675401e... Update Final_Project_Report.ipynb
=======
     "execution_count": 18,
>>>>>>> parent of abcf7ff... Update Final_Project_Report.ipynb
=======
     "execution_count": 579,
>>>>>>> parent of 7289307... Update Final_Project_Report.ipynb
=======
     "execution_count": 120,
>>>>>>> parent of 70af6ae... Update Final_Project_Report.ipynb
     "metadata": {},
     "output_type": "execute_result"
    }
   ],
   "source": [
    "# Grouping total by continent and sex\n",
    "dfTotalByContinentBySex = pd.DataFrame(dfCleanData.groupby(['industry','sex'])['article_id'].count())\n",
    "dfTotalByContinentBySex .rename(columns={'article_id': 'total_count'}, inplace=True)\n",
    "dfTotalByContinentBySex.sort_values(by = ['industry'], ascending = True)"
   ]
  },
  {
   "cell_type": "code",
<<<<<<< HEAD
<<<<<<< HEAD
<<<<<<< HEAD
<<<<<<< HEAD
<<<<<<< HEAD
   "execution_count": 651,
=======
   "execution_count": 534,
>>>>>>> parent of 675401e... Update Final_Project_Report.ipynb
=======
   "execution_count": 534,
>>>>>>> parent of 675401e... Update Final_Project_Report.ipynb
=======
   "execution_count": 19,
>>>>>>> parent of abcf7ff... Update Final_Project_Report.ipynb
=======
   "execution_count": 580,
>>>>>>> parent of 7289307... Update Final_Project_Report.ipynb
=======
   "execution_count": 128,
>>>>>>> parent of 70af6ae... Update Final_Project_Report.ipynb
   "metadata": {},
   "outputs": [
    {
     "data": {
      "text/html": "<div>\n<style scoped>\n    .dataframe tbody tr th:only-of-type {\n        vertical-align: middle;\n    }\n\n    .dataframe tbody tr th {\n        vertical-align: top;\n    }\n\n    .dataframe thead th {\n        text-align: right;\n    }\n</style>\n<table border=\"1\" class=\"dataframe\">\n  <thead>\n    <tr style=\"text-align: right;\">\n      <th></th>\n      <th>full_name</th>\n      <th>sex</th>\n      <th>birth_year</th>\n      <th>country</th>\n      <th>industry</th>\n      <th>domain</th>\n      <th>occupation</th>\n      <th>popularity</th>\n    </tr>\n  </thead>\n  <tbody>\n    <tr>\n      <th>8075</th>\n      <td>Joan Enric Vives Sicília</td>\n      <td>Male</td>\n      <td>1949</td>\n      <td>Spain</td>\n      <td>Religion</td>\n      <td>Institutions</td>\n      <td>Religious Figure</td>\n      <td>21.0652</td>\n    </tr>\n    <tr>\n      <th>7088</th>\n      <td>Carlos Filipe Ximenes Belo</td>\n      <td>Male</td>\n      <td>1948</td>\n      <td>Timor-Leste</td>\n      <td>Religion</td>\n      <td>Institutions</td>\n      <td>Religious Figure</td>\n      <td>22.1478</td>\n    </tr>\n    <tr>\n      <th>6449</th>\n      <td>Fethullah Gülen</td>\n      <td>Male</td>\n      <td>1941</td>\n      <td>Turkey</td>\n      <td>Religion</td>\n      <td>Institutions</td>\n      <td>Religious Figure</td>\n      <td>22.5792</td>\n    </tr>\n    <tr>\n      <th>6771</th>\n      <td>Ecumenical Patriarch Bartholomew I of Constant...</td>\n      <td>Male</td>\n      <td>1940</td>\n      <td>Turkey</td>\n      <td>Religion</td>\n      <td>Institutions</td>\n      <td>Religious Figure</td>\n      <td>22.3662</td>\n    </tr>\n    <tr>\n      <th>5974</th>\n      <td>Panchen Lama</td>\n      <td>Male</td>\n      <td>1938</td>\n      <td>Unknown</td>\n      <td>Religion</td>\n      <td>Institutions</td>\n      <td>Religious Figure</td>\n      <td>22.8645</td>\n    </tr>\n    <tr>\n      <th>4803</th>\n      <td>Ahmed Yassin</td>\n      <td>Male</td>\n      <td>1937</td>\n      <td>Israel</td>\n      <td>Religion</td>\n      <td>Institutions</td>\n      <td>Religious Figure</td>\n      <td>23.5186</td>\n    </tr>\n    <tr>\n      <th>1373</th>\n      <td>Tenzin Gyatso, 14th Dalai Lama</td>\n      <td>Male</td>\n      <td>1935</td>\n      <td>China</td>\n      <td>Religion</td>\n      <td>Institutions</td>\n      <td>Religious Figure</td>\n      <td>25.6513</td>\n    </tr>\n    <tr>\n      <th>7354</th>\n      <td>Tarcisio Cardinal Bertone</td>\n      <td>Male</td>\n      <td>1934</td>\n      <td>Italy</td>\n      <td>Religion</td>\n      <td>Institutions</td>\n      <td>Religious Figure</td>\n      <td>21.9297</td>\n    </tr>\n    <tr>\n      <th>5278</th>\n      <td>Desmond Tutu</td>\n      <td>Male</td>\n      <td>1931</td>\n      <td>South Africa</td>\n      <td>Religion</td>\n      <td>Institutions</td>\n      <td>Religious Figure</td>\n      <td>23.2407</td>\n    </tr>\n    <tr>\n      <th>6549</th>\n      <td>Patriarch Alexy II of Moscow</td>\n      <td>Male</td>\n      <td>1929</td>\n      <td>Estonia</td>\n      <td>Religion</td>\n      <td>Institutions</td>\n      <td>Religious Figure</td>\n      <td>22.5124</td>\n    </tr>\n    <tr>\n      <th>5517</th>\n      <td>Hans Küng</td>\n      <td>Male</td>\n      <td>1928</td>\n      <td>Switzerland</td>\n      <td>Religion</td>\n      <td>Institutions</td>\n      <td>Religious Figure</td>\n      <td>23.1127</td>\n    </tr>\n    <tr>\n      <th>619</th>\n      <td>Pope Benedict XVI</td>\n      <td>Male</td>\n      <td>1927</td>\n      <td>Germany</td>\n      <td>Religion</td>\n      <td>Institutions</td>\n      <td>Religious Figure</td>\n      <td>26.6853</td>\n    </tr>\n    <tr>\n      <th>6735</th>\n      <td>Yusuf al-Qaradawi</td>\n      <td>Male</td>\n      <td>1926</td>\n      <td>Egypt</td>\n      <td>Religion</td>\n      <td>Institutions</td>\n      <td>Religious Figure</td>\n      <td>22.3855</td>\n    </tr>\n    <tr>\n      <th>8398</th>\n      <td>Pope Shenouda III of Alexandria</td>\n      <td>Male</td>\n      <td>1923</td>\n      <td>Egypt</td>\n      <td>Religion</td>\n      <td>Institutions</td>\n      <td>Religious Figure</td>\n      <td>20.5925</td>\n    </tr>\n    <tr>\n      <th>6714</th>\n      <td>Sun Myung Moon</td>\n      <td>Male</td>\n      <td>1920</td>\n      <td>North Korea</td>\n      <td>Religion</td>\n      <td>Institutions</td>\n      <td>Religious Figure</td>\n      <td>22.4023</td>\n    </tr>\n    <tr>\n      <th>323</th>\n      <td>Pope John Paul II</td>\n      <td>Male</td>\n      <td>1920</td>\n      <td>Poland</td>\n      <td>Religion</td>\n      <td>Institutions</td>\n      <td>Religious Figure</td>\n      <td>27.4423</td>\n    </tr>\n    <tr>\n      <th>5574</th>\n      <td>Billy Graham</td>\n      <td>Male</td>\n      <td>1918</td>\n      <td>United States</td>\n      <td>Religion</td>\n      <td>Institutions</td>\n      <td>Religious Figure</td>\n      <td>23.0842</td>\n    </tr>\n    <tr>\n      <th>5914</th>\n      <td>Maharishi Mahesh Yogi</td>\n      <td>Male</td>\n      <td>1918</td>\n      <td>India</td>\n      <td>Religion</td>\n      <td>Institutions</td>\n      <td>Religious Figure</td>\n      <td>22.8985</td>\n    </tr>\n    <tr>\n      <th>5641</th>\n      <td>Óscar Romero</td>\n      <td>Male</td>\n      <td>1917</td>\n      <td>El Salvador</td>\n      <td>Religion</td>\n      <td>Institutions</td>\n      <td>Religious Figure</td>\n      <td>23.0442</td>\n    </tr>\n    <tr>\n      <th>1848</th>\n      <td>Pope John Paul I</td>\n      <td>Male</td>\n      <td>1912</td>\n      <td>Italy</td>\n      <td>Religion</td>\n      <td>Institutions</td>\n      <td>Religious Figure</td>\n      <td>25.2397</td>\n    </tr>\n    <tr>\n      <th>2380</th>\n      <td>Dietrich Bonhoeffer</td>\n      <td>Male</td>\n      <td>1906</td>\n      <td>Poland</td>\n      <td>Religion</td>\n      <td>Institutions</td>\n      <td>Religious Figure</td>\n      <td>24.8633</td>\n    </tr>\n    <tr>\n      <th>6538</th>\n      <td>Marcel Lefebvre</td>\n      <td>Male</td>\n      <td>1905</td>\n      <td>France</td>\n      <td>Religion</td>\n      <td>Institutions</td>\n      <td>Religious Figure</td>\n      <td>22.5230</td>\n    </tr>\n    <tr>\n      <th>5135</th>\n      <td>Faustyna Kowalska</td>\n      <td>Female</td>\n      <td>1905</td>\n      <td>Poland</td>\n      <td>Religion</td>\n      <td>Institutions</td>\n      <td>Religious Figure</td>\n      <td>23.3264</td>\n    </tr>\n    <tr>\n      <th>4571</th>\n      <td>Josemaría Escrivá de Balaguer</td>\n      <td>Male</td>\n      <td>1902</td>\n      <td>Spain</td>\n      <td>Religion</td>\n      <td>Institutions</td>\n      <td>Religious Figure</td>\n      <td>23.6439</td>\n    </tr>\n    <tr>\n      <th>1184</th>\n      <td>Ruhollah Khomeini</td>\n      <td>Male</td>\n      <td>1902</td>\n      <td>Iran</td>\n      <td>Religion</td>\n      <td>Institutions</td>\n      <td>Religious Figure</td>\n      <td>25.8295</td>\n    </tr>\n    <tr>\n      <th>1823</th>\n      <td>Pope Paul VI</td>\n      <td>Male</td>\n      <td>1897</td>\n      <td>Italy</td>\n      <td>Religion</td>\n      <td>Institutions</td>\n      <td>Religious Figure</td>\n      <td>25.2567</td>\n    </tr>\n    <tr>\n      <th>7059</th>\n      <td>A. C. Bhaktivedanta Swami Prabhupada</td>\n      <td>Male</td>\n      <td>1896</td>\n      <td>India</td>\n      <td>Religion</td>\n      <td>Institutions</td>\n      <td>Religious Figure</td>\n      <td>22.1680</td>\n    </tr>\n    <tr>\n      <th>3218</th>\n      <td>Maximilian Kolbe</td>\n      <td>Male</td>\n      <td>1894</td>\n      <td>Poland</td>\n      <td>Religion</td>\n      <td>Institutions</td>\n      <td>Religious Figure</td>\n      <td>24.3797</td>\n    </tr>\n    <tr>\n      <th>2129</th>\n      <td>Pio of Pietrelcina</td>\n      <td>Male</td>\n      <td>1887</td>\n      <td>Italy</td>\n      <td>Religion</td>\n      <td>Institutions</td>\n      <td>Religious Figure</td>\n      <td>25.0360</td>\n    </tr>\n    <tr>\n      <th>1321</th>\n      <td>Pope John XXIII</td>\n      <td>Male</td>\n      <td>1881</td>\n      <td>Italy</td>\n      <td>Religion</td>\n      <td>Institutions</td>\n      <td>Religious Figure</td>\n      <td>25.7051</td>\n    </tr>\n    <tr>\n      <th>...</th>\n      <td>...</td>\n      <td>...</td>\n      <td>...</td>\n      <td>...</td>\n      <td>...</td>\n      <td>...</td>\n      <td>...</td>\n      <td>...</td>\n    </tr>\n    <tr>\n      <th>11</th>\n      <td>Moses</td>\n      <td>Male</td>\n      <td>-1391</td>\n      <td>Egypt</td>\n      <td>Religion</td>\n      <td>Institutions</td>\n      <td>Religious Figure</td>\n      <td>30.8632</td>\n    </tr>\n    <tr>\n      <th>281</th>\n      <td>Aaron</td>\n      <td>Male</td>\n      <td>-1400</td>\n      <td>Egypt</td>\n      <td>Religion</td>\n      <td>Institutions</td>\n      <td>Religious Figure</td>\n      <td>27.6021</td>\n    </tr>\n    <tr>\n      <th>485</th>\n      <td>Sarah</td>\n      <td>Female</td>\n      <td>-1500</td>\n      <td>Unknown</td>\n      <td>Religion</td>\n      <td>Institutions</td>\n      <td>Religious Figure</td>\n      <td>26.9967</td>\n    </tr>\n    <tr>\n      <th>679</th>\n      <td>Joshua</td>\n      <td>Male</td>\n      <td>-1550</td>\n      <td>Egypt</td>\n      <td>Religion</td>\n      <td>Institutions</td>\n      <td>Religious Figure</td>\n      <td>26.5633</td>\n    </tr>\n    <tr>\n      <th>13</th>\n      <td>Abraham</td>\n      <td>Male</td>\n      <td>-1800</td>\n      <td>Unknown</td>\n      <td>Religion</td>\n      <td>Institutions</td>\n      <td>Religious Figure</td>\n      <td>30.6047</td>\n    </tr>\n    <tr>\n      <th>1188</th>\n      <td>Hagar</td>\n      <td>Female</td>\n      <td>-1800</td>\n      <td>Egypt</td>\n      <td>Religion</td>\n      <td>Institutions</td>\n      <td>Religious Figure</td>\n      <td>25.8256</td>\n    </tr>\n    <tr>\n      <th>516</th>\n      <td>Levi</td>\n      <td>Male</td>\n      <td>-1950</td>\n      <td>Unknown</td>\n      <td>Religion</td>\n      <td>Institutions</td>\n      <td>Religious Figure</td>\n      <td>26.9195</td>\n    </tr>\n    <tr>\n      <th>1885</th>\n      <td>Reuben</td>\n      <td>Male</td>\n      <td>-2000</td>\n      <td>Unknown</td>\n      <td>Religion</td>\n      <td>Institutions</td>\n      <td>Religious Figure</td>\n      <td>25.2039</td>\n    </tr>\n    <tr>\n      <th>349</th>\n      <td>Job</td>\n      <td>Male</td>\n      <td>-2300</td>\n      <td>Unknown</td>\n      <td>Religion</td>\n      <td>Institutions</td>\n      <td>Religious Figure</td>\n      <td>27.3680</td>\n    </tr>\n    <tr>\n      <th>1414</th>\n      <td>Ham</td>\n      <td>Male</td>\n      <td>-3443</td>\n      <td>Unknown</td>\n      <td>Religion</td>\n      <td>Institutions</td>\n      <td>Religious Figure</td>\n      <td>25.5995</td>\n    </tr>\n    <tr>\n      <th>482</th>\n      <td>Lot</td>\n      <td>Male</td>\n      <td>-3500</td>\n      <td>Unknown</td>\n      <td>Religion</td>\n      <td>Institutions</td>\n      <td>Religious Figure</td>\n      <td>27.0033</td>\n    </tr>\n    <tr>\n      <th>941</th>\n      <td>Seth</td>\n      <td>Male</td>\n      <td>-3500</td>\n      <td>Unknown</td>\n      <td>Religion</td>\n      <td>Institutions</td>\n      <td>Religious Figure</td>\n      <td>26.1374</td>\n    </tr>\n    <tr>\n      <th>1445</th>\n      <td>Idris</td>\n      <td>Male</td>\n      <td>-3500</td>\n      <td>Iraq</td>\n      <td>Religion</td>\n      <td>Institutions</td>\n      <td>Religious Figure</td>\n      <td>25.5718</td>\n    </tr>\n    <tr>\n      <th>1475</th>\n      <td>Saleh</td>\n      <td>Female</td>\n      <td>-3500</td>\n      <td>Yemen</td>\n      <td>Religion</td>\n      <td>Institutions</td>\n      <td>Religious Figure</td>\n      <td>25.5497</td>\n    </tr>\n    <tr>\n      <th>406</th>\n      <td>Rachel</td>\n      <td>Female</td>\n      <td>-3500</td>\n      <td>Iraq</td>\n      <td>Religion</td>\n      <td>Institutions</td>\n      <td>Religious Figure</td>\n      <td>27.2099</td>\n    </tr>\n    <tr>\n      <th>491</th>\n      <td>Shem</td>\n      <td>Male</td>\n      <td>-3500</td>\n      <td>Unknown</td>\n      <td>Religion</td>\n      <td>Institutions</td>\n      <td>Religious Figure</td>\n      <td>26.9857</td>\n    </tr>\n    <tr>\n      <th>350</th>\n      <td>Ishmael</td>\n      <td>Male</td>\n      <td>-3500</td>\n      <td>Israel</td>\n      <td>Religion</td>\n      <td>Institutions</td>\n      <td>Religious Figure</td>\n      <td>27.3675</td>\n    </tr>\n    <tr>\n      <th>684</th>\n      <td>Nimrod</td>\n      <td>Male</td>\n      <td>-3500</td>\n      <td>Unknown</td>\n      <td>Religion</td>\n      <td>Institutions</td>\n      <td>Religious Figure</td>\n      <td>26.5561</td>\n    </tr>\n    <tr>\n      <th>334</th>\n      <td>Enoch</td>\n      <td>Male</td>\n      <td>-3500</td>\n      <td>Unknown</td>\n      <td>Religion</td>\n      <td>Institutions</td>\n      <td>Religious Figure</td>\n      <td>27.4143</td>\n    </tr>\n    <tr>\n      <th>955</th>\n      <td>Absalom</td>\n      <td>Male</td>\n      <td>-3500</td>\n      <td>Palestine</td>\n      <td>Religion</td>\n      <td>Institutions</td>\n      <td>Religious Figure</td>\n      <td>26.1135</td>\n    </tr>\n    <tr>\n      <th>1125</th>\n      <td>Rebecca</td>\n      <td>Female</td>\n      <td>-3500</td>\n      <td>Unknown</td>\n      <td>Religion</td>\n      <td>Institutions</td>\n      <td>Religious Figure</td>\n      <td>25.9060</td>\n    </tr>\n    <tr>\n      <th>140</th>\n      <td>Isaac</td>\n      <td>Male</td>\n      <td>-3500</td>\n      <td>Israel</td>\n      <td>Religion</td>\n      <td>Institutions</td>\n      <td>Religious Figure</td>\n      <td>28.3556</td>\n    </tr>\n    <tr>\n      <th>159</th>\n      <td>Elijah</td>\n      <td>Male</td>\n      <td>-3500</td>\n      <td>Jordan</td>\n      <td>Religion</td>\n      <td>Institutions</td>\n      <td>Religious Figure</td>\n      <td>28.2463</td>\n    </tr>\n    <tr>\n      <th>1532</th>\n      <td>Hud</td>\n      <td>Male</td>\n      <td>-3500</td>\n      <td>Yemen</td>\n      <td>Religion</td>\n      <td>Institutions</td>\n      <td>Religious Figure</td>\n      <td>25.5019</td>\n    </tr>\n    <tr>\n      <th>1680</th>\n      <td>Miriam</td>\n      <td>Female</td>\n      <td>-3500</td>\n      <td>Egypt</td>\n      <td>Religion</td>\n      <td>Institutions</td>\n      <td>Religious Figure</td>\n      <td>25.3835</td>\n    </tr>\n    <tr>\n      <th>587</th>\n      <td>Melchizedek</td>\n      <td>Male</td>\n      <td>-3500</td>\n      <td>Unknown</td>\n      <td>Religion</td>\n      <td>Institutions</td>\n      <td>Religious Figure</td>\n      <td>26.7387</td>\n    </tr>\n    <tr>\n      <th>376</th>\n      <td>Japheth</td>\n      <td>Male</td>\n      <td>-3500</td>\n      <td>Unknown</td>\n      <td>Religion</td>\n      <td>Institutions</td>\n      <td>Religious Figure</td>\n      <td>27.2905</td>\n    </tr>\n    <tr>\n      <th>605</th>\n      <td>Esau</td>\n      <td>Male</td>\n      <td>-3500</td>\n      <td>Israel</td>\n      <td>Religion</td>\n      <td>Institutions</td>\n      <td>Religious Figure</td>\n      <td>26.7133</td>\n    </tr>\n    <tr>\n      <th>211</th>\n      <td>Methuselah</td>\n      <td>Male</td>\n      <td>-3500</td>\n      <td>Unknown</td>\n      <td>Religion</td>\n      <td>Institutions</td>\n      <td>Religious Figure</td>\n      <td>27.9189</td>\n    </tr>\n    <tr>\n      <th>1182</th>\n      <td>Joseph</td>\n      <td>Male</td>\n      <td>-3500</td>\n      <td>Israel</td>\n      <td>Religion</td>\n      <td>Institutions</td>\n      <td>Religious Figure</td>\n      <td>25.8317</td>\n    </tr>\n  </tbody>\n</table>\n<p>518 rows × 8 columns</p>\n</div>",
      "text/plain": "                                              full_name     sex  birth_year  \\\n8075                           Joan Enric Vives Sicília    Male        1949   \n7088                         Carlos Filipe Ximenes Belo    Male        1948   \n6449                                    Fethullah Gülen    Male        1941   \n6771  Ecumenical Patriarch Bartholomew I of Constant...    Male        1940   \n5974                                       Panchen Lama    Male        1938   \n4803                                       Ahmed Yassin    Male        1937   \n1373                     Tenzin Gyatso, 14th Dalai Lama    Male        1935   \n7354                          Tarcisio Cardinal Bertone    Male        1934   \n5278                                       Desmond Tutu    Male        1931   \n6549                       Patriarch Alexy II of Moscow    Male        1929   \n5517                                          Hans Küng    Male        1928   \n619                                   Pope Benedict XVI    Male        1927   \n6735                                  Yusuf al-Qaradawi    Male        1926   \n8398                    Pope Shenouda III of Alexandria    Male        1923   \n6714                                     Sun Myung Moon    Male        1920   \n323                                   Pope John Paul II    Male        1920   \n5574                                       Billy Graham    Male        1918   \n5914                              Maharishi Mahesh Yogi    Male        1918   \n5641                                       Óscar Romero    Male        1917   \n1848                                   Pope John Paul I    Male        1912   \n2380                                Dietrich Bonhoeffer    Male        1906   \n6538                                    Marcel Lefebvre    Male        1905   \n5135                                  Faustyna Kowalska  Female        1905   \n4571                      Josemaría Escrivá de Balaguer    Male        1902   \n1184                                  Ruhollah Khomeini    Male        1902   \n1823                                       Pope Paul VI    Male        1897   \n7059               A. C. Bhaktivedanta Swami Prabhupada    Male        1896   \n3218                                   Maximilian Kolbe    Male        1894   \n2129                                 Pio of Pietrelcina    Male        1887   \n1321                                    Pope John XXIII    Male        1881   \n...                                                 ...     ...         ...   \n11                                                Moses    Male       -1391   \n281                                               Aaron    Male       -1400   \n485                                               Sarah  Female       -1500   \n679                                              Joshua    Male       -1550   \n13                                              Abraham    Male       -1800   \n1188                                              Hagar  Female       -1800   \n516                                                Levi    Male       -1950   \n1885                                             Reuben    Male       -2000   \n349                                                 Job    Male       -2300   \n1414                                                Ham    Male       -3443   \n482                                                 Lot    Male       -3500   \n941                                                Seth    Male       -3500   \n1445                                              Idris    Male       -3500   \n1475                                              Saleh  Female       -3500   \n406                                              Rachel  Female       -3500   \n491                                                Shem    Male       -3500   \n350                                             Ishmael    Male       -3500   \n684                                              Nimrod    Male       -3500   \n334                                               Enoch    Male       -3500   \n955                                             Absalom    Male       -3500   \n1125                                            Rebecca  Female       -3500   \n140                                               Isaac    Male       -3500   \n159                                              Elijah    Male       -3500   \n1532                                                Hud    Male       -3500   \n1680                                             Miriam  Female       -3500   \n587                                         Melchizedek    Male       -3500   \n376                                             Japheth    Male       -3500   \n605                                                Esau    Male       -3500   \n211                                          Methuselah    Male       -3500   \n1182                                             Joseph    Male       -3500   \n\n            country  industry        domain        occupation  popularity  \n8075          Spain  Religion  Institutions  Religious Figure     21.0652  \n7088    Timor-Leste  Religion  Institutions  Religious Figure     22.1478  \n6449         Turkey  Religion  Institutions  Religious Figure     22.5792  \n6771         Turkey  Religion  Institutions  Religious Figure     22.3662  \n5974        Unknown  Religion  Institutions  Religious Figure     22.8645  \n4803         Israel  Religion  Institutions  Religious Figure     23.5186  \n1373          China  Religion  Institutions  Religious Figure     25.6513  \n7354          Italy  Religion  Institutions  Religious Figure     21.9297  \n5278   South Africa  Religion  Institutions  Religious Figure     23.2407  \n6549        Estonia  Religion  Institutions  Religious Figure     22.5124  \n5517    Switzerland  Religion  Institutions  Religious Figure     23.1127  \n619         Germany  Religion  Institutions  Religious Figure     26.6853  \n6735          Egypt  Religion  Institutions  Religious Figure     22.3855  \n8398          Egypt  Religion  Institutions  Religious Figure     20.5925  \n6714    North Korea  Religion  Institutions  Religious Figure     22.4023  \n323          Poland  Religion  Institutions  Religious Figure     27.4423  \n5574  United States  Religion  Institutions  Religious Figure     23.0842  \n5914          India  Religion  Institutions  Religious Figure     22.8985  \n5641    El Salvador  Religion  Institutions  Religious Figure     23.0442  \n1848          Italy  Religion  Institutions  Religious Figure     25.2397  \n2380         Poland  Religion  Institutions  Religious Figure     24.8633  \n6538         France  Religion  Institutions  Religious Figure     22.5230  \n5135         Poland  Religion  Institutions  Religious Figure     23.3264  \n4571          Spain  Religion  Institutions  Religious Figure     23.6439  \n1184           Iran  Religion  Institutions  Religious Figure     25.8295  \n1823          Italy  Religion  Institutions  Religious Figure     25.2567  \n7059          India  Religion  Institutions  Religious Figure     22.1680  \n3218         Poland  Religion  Institutions  Religious Figure     24.3797  \n2129          Italy  Religion  Institutions  Religious Figure     25.0360  \n1321          Italy  Religion  Institutions  Religious Figure     25.7051  \n...             ...       ...           ...               ...         ...  \n11            Egypt  Religion  Institutions  Religious Figure     30.8632  \n281           Egypt  Religion  Institutions  Religious Figure     27.6021  \n485         Unknown  Religion  Institutions  Religious Figure     26.9967  \n679           Egypt  Religion  Institutions  Religious Figure     26.5633  \n13          Unknown  Religion  Institutions  Religious Figure     30.6047  \n1188          Egypt  Religion  Institutions  Religious Figure     25.8256  \n516         Unknown  Religion  Institutions  Religious Figure     26.9195  \n1885        Unknown  Religion  Institutions  Religious Figure     25.2039  \n349         Unknown  Religion  Institutions  Religious Figure     27.3680  \n1414        Unknown  Religion  Institutions  Religious Figure     25.5995  \n482         Unknown  Religion  Institutions  Religious Figure     27.0033  \n941         Unknown  Religion  Institutions  Religious Figure     26.1374  \n1445           Iraq  Religion  Institutions  Religious Figure     25.5718  \n1475          Yemen  Religion  Institutions  Religious Figure     25.5497  \n406            Iraq  Religion  Institutions  Religious Figure     27.2099  \n491         Unknown  Religion  Institutions  Religious Figure     26.9857  \n350          Israel  Religion  Institutions  Religious Figure     27.3675  \n684         Unknown  Religion  Institutions  Religious Figure     26.5561  \n334         Unknown  Religion  Institutions  Religious Figure     27.4143  \n955       Palestine  Religion  Institutions  Religious Figure     26.1135  \n1125        Unknown  Religion  Institutions  Religious Figure     25.9060  \n140          Israel  Religion  Institutions  Religious Figure     28.3556  \n159          Jordan  Religion  Institutions  Religious Figure     28.2463  \n1532          Yemen  Religion  Institutions  Religious Figure     25.5019  \n1680          Egypt  Religion  Institutions  Religious Figure     25.3835  \n587         Unknown  Religion  Institutions  Religious Figure     26.7387  \n376         Unknown  Religion  Institutions  Religious Figure     27.2905  \n605          Israel  Religion  Institutions  Religious Figure     26.7133  \n211         Unknown  Religion  Institutions  Religious Figure     27.9189  \n1182         Israel  Religion  Institutions  Religious Figure     25.8317  \n\n[518 rows x 8 columns]"
     },
<<<<<<< HEAD
<<<<<<< HEAD
<<<<<<< HEAD
<<<<<<< HEAD
<<<<<<< HEAD
     "execution_count": 651,
=======
     "execution_count": 534,
>>>>>>> parent of 675401e... Update Final_Project_Report.ipynb
=======
     "execution_count": 534,
>>>>>>> parent of 675401e... Update Final_Project_Report.ipynb
=======
     "execution_count": 19,
>>>>>>> parent of abcf7ff... Update Final_Project_Report.ipynb
=======
     "execution_count": 580,
>>>>>>> parent of 7289307... Update Final_Project_Report.ipynb
=======
     "execution_count": 128,
>>>>>>> parent of 70af6ae... Update Final_Project_Report.ipynb
     "metadata": {},
     "output_type": "execute_result"
    }
   ],
   "source": [
    "# Showing details dataset based on industry selected\n",
<<<<<<< HEAD
    "industry = 'Companions'\n",
    "dfCleanData[dfCleanData['industry'] == industry].loc[:,columnToDisplayCleanData].sort_values(by = ['birth_year'], ascending = False).head(10)"
=======
    "#industry = 'Activism'\n",
    "#industry = 'Business'\n",
    "#industry = 'Companions'\n",
    "#industry = 'Computer Science'\n",
    "#industry = 'Dance'\n",
    "#industry = 'Design'\n",
    "#industry = 'Engineering'\n",
    "#industry = 'Explorers'\n",
    "#industry = 'Film And Theatre'\n",
    "#industry = 'Fine Arts'\n",
    "#industry = 'Government'\n",
    "#industry = 'History'\n",
    "#industry = 'Individual Sports'\n",
    "#industry = 'Invention'\n",
    "#industry = 'Language'\n",
    "#industry = 'Law'\n",
    "#industry = 'Math'\n",
    "#industry = 'Media Personality'\n",
    "#industry = 'Medicine'\n",
    "#industry = 'Military'\n",
    "#industry = 'Music'\n",
    "#industry = 'Natural Sciences'\n",
    "#industry = 'Outlaws'\n",
    "#industry = 'Philosophy'\n",
    "industry = 'Religion'\n",
    "#industry = 'Social Sciences'\n",
    "#industry = 'Team Sports'\n",
    "dfCleanData[dfCleanData['industry'] == industry].loc[:,columnToDisplayCleanData].sort_values(by = ['birth_year'], ascending = False)"
>>>>>>> parent of abcf7ff... Update Final_Project_Report.ipynb
   ]
  },
  {
   "cell_type": "code",
<<<<<<< HEAD
<<<<<<< HEAD
<<<<<<< HEAD
<<<<<<< HEAD
<<<<<<< HEAD
   "execution_count": 652,
=======
   "execution_count": 525,
>>>>>>> parent of 675401e... Update Final_Project_Report.ipynb
=======
   "execution_count": 525,
>>>>>>> parent of 675401e... Update Final_Project_Report.ipynb
=======
   "execution_count": 20,
>>>>>>> parent of abcf7ff... Update Final_Project_Report.ipynb
=======
   "execution_count": 581,
>>>>>>> parent of 7289307... Update Final_Project_Report.ipynb
=======
   "execution_count": 95,
>>>>>>> parent of 70af6ae... Update Final_Project_Report.ipynb
   "metadata": {},
   "outputs": [
    {
     "data": {
      "text/html": "<div>\n<style scoped>\n    .dataframe tbody tr th:only-of-type {\n        vertical-align: middle;\n    }\n\n    .dataframe tbody tr th {\n        vertical-align: top;\n    }\n\n    .dataframe thead th {\n        text-align: right;\n    }\n</style>\n<table border=\"1\" class=\"dataframe\">\n  <thead>\n    <tr style=\"text-align: right;\">\n      <th></th>\n      <th></th>\n      <th>total_count</th>\n    </tr>\n    <tr>\n      <th>industry</th>\n      <th>occupation</th>\n      <th></th>\n    </tr>\n  </thead>\n  <tbody>\n    <tr>\n      <th>Government</th>\n      <th>Politician</th>\n      <td>2530</td>\n    </tr>\n    <tr>\n      <th>Film And Theatre</th>\n      <th>Actor</th>\n      <td>1193</td>\n    </tr>\n    <tr>\n      <th>Team Sports</th>\n      <th>Soccer Player</th>\n      <td>1064</td>\n    </tr>\n    <tr>\n      <th>Language</th>\n      <th>Writer</th>\n      <td>954</td>\n    </tr>\n    <tr>\n      <th>Religion</th>\n      <th>Religious Figure</th>\n      <td>518</td>\n    </tr>\n    <tr>\n      <th rowspan=\"2\" valign=\"top\">Music</th>\n      <th>Singer</th>\n      <td>437</td>\n    </tr>\n    <tr>\n      <th>Musician</th>\n      <td>381</td>\n    </tr>\n    <tr>\n      <th>Philosophy</th>\n      <th>Philosopher</th>\n      <td>281</td>\n    </tr>\n    <tr>\n      <th>Natural Sciences</th>\n      <th>Physicist</th>\n      <td>268</td>\n    </tr>\n    <tr>\n      <th>Music</th>\n      <th>Composer</th>\n      <td>225</td>\n    </tr>\n    <tr>\n      <th>Military</th>\n      <th>Military Personnel</th>\n      <td>224</td>\n    </tr>\n    <tr>\n      <th>Natural Sciences</th>\n      <th>Chemist</th>\n      <td>220</td>\n    </tr>\n    <tr>\n      <th>Fine Arts</th>\n      <th>Painter</th>\n      <td>178</td>\n    </tr>\n    <tr>\n      <th>Film And Theatre</th>\n      <th>Film Director</th>\n      <td>177</td>\n    </tr>\n    <tr>\n      <th>Individual Sports</th>\n      <th>Tennis Player</th>\n      <td>161</td>\n    </tr>\n    <tr>\n      <th>Math</th>\n      <th>Mathematician</th>\n      <td>157</td>\n    </tr>\n    <tr>\n      <th>Medicine</th>\n      <th>Physician</th>\n      <td>142</td>\n    </tr>\n    <tr>\n      <th>Natural Sciences</th>\n      <th>Biologist</th>\n      <td>141</td>\n    </tr>\n    <tr>\n      <th>Government</th>\n      <th>Nobleman</th>\n      <td>116</td>\n    </tr>\n    <tr>\n      <th>Activism</th>\n      <th>Social Activist</th>\n      <td>114</td>\n    </tr>\n  </tbody>\n</table>\n</div>",
      "text/plain": "                                      total_count\nindustry          occupation                     \nGovernment        Politician                 2530\nFilm And Theatre  Actor                      1193\nTeam Sports       Soccer Player              1064\nLanguage          Writer                      954\nReligion          Religious Figure            518\nMusic             Singer                      437\n                  Musician                    381\nPhilosophy        Philosopher                 281\nNatural Sciences  Physicist                   268\nMusic             Composer                    225\nMilitary          Military Personnel          224\nNatural Sciences  Chemist                     220\nFine Arts         Painter                     178\nFilm And Theatre  Film Director               177\nIndividual Sports Tennis Player               161\nMath              Mathematician               157\nMedicine          Physician                   142\nNatural Sciences  Biologist                   141\nGovernment        Nobleman                    116\nActivism          Social Activist             114"
     },
<<<<<<< HEAD
<<<<<<< HEAD
<<<<<<< HEAD
<<<<<<< HEAD
<<<<<<< HEAD
     "execution_count": 652,
=======
     "execution_count": 525,
>>>>>>> parent of 675401e... Update Final_Project_Report.ipynb
=======
     "execution_count": 525,
>>>>>>> parent of 675401e... Update Final_Project_Report.ipynb
=======
     "execution_count": 20,
>>>>>>> parent of abcf7ff... Update Final_Project_Report.ipynb
=======
     "execution_count": 581,
>>>>>>> parent of 7289307... Update Final_Project_Report.ipynb
=======
     "execution_count": 95,
>>>>>>> parent of 70af6ae... Update Final_Project_Report.ipynb
     "metadata": {},
     "output_type": "execute_result"
    }
   ],
   "source": [
    "# Getting the count by country, occupation, industry, and domain\n",
    "dfTotalByCountryByIndustry = pd.DataFrame(dfCleanData.groupby(['industry','occupation'])['article_id'].count())\n",
    "# Renaming the default column name the dataframe created to a meaningfull name\n",
    "dfTotalByCountryByIndustry.rename(columns={'article_id': 'total_count'}, inplace=True)\n",
    "dfTotalByCountryByIndustry.sort_values(by = ['total_count'], ascending = False).head(20)"
   ]
  },
  {
   "cell_type": "code",
<<<<<<< HEAD
<<<<<<< HEAD
   "execution_count": null,
   "metadata": {},
   "outputs": [],
   "source": []
  },
  {
   "cell_type": "code",
<<<<<<< HEAD
<<<<<<< HEAD
<<<<<<< HEAD
   "execution_count": 653,
=======
   "execution_count": 526,
>>>>>>> parent of 675401e... Update Final_Project_Report.ipynb
=======
   "execution_count": 526,
>>>>>>> parent of 675401e... Update Final_Project_Report.ipynb
=======
   "execution_count": 21,
>>>>>>> parent of abcf7ff... Update Final_Project_Report.ipynb
=======
   "execution_count": 582,
>>>>>>> parent of 7289307... Update Final_Project_Report.ipynb
=======
   "execution_count": 70,
>>>>>>> parent of 70af6ae... Update Final_Project_Report.ipynb
=======
   "execution_count": 192,
>>>>>>> parent of cc528dc... Update Final_Project_Report.ipynb
   "metadata": {},
   "outputs": [
    {
     "data": {
      "text/html": "<div>\n<style scoped>\n    .dataframe tbody tr th:only-of-type {\n        vertical-align: middle;\n    }\n\n    .dataframe tbody tr th {\n        vertical-align: top;\n    }\n\n    .dataframe thead th {\n        text-align: right;\n    }\n</style>\n<table border=\"1\" class=\"dataframe\">\n  <thead>\n    <tr style=\"text-align: right;\">\n      <th></th>\n      <th>full_name</th>\n      <th>sex</th>\n      <th>birth_year</th>\n      <th>country</th>\n      <th>occupation</th>\n      <th>popularity</th>\n      <th>longitude</th>\n      <th>latitude</th>\n      <th>page_views</th>\n      <th>average_views</th>\n    </tr>\n  </thead>\n  <tbody>\n    <tr>\n      <th>0</th>\n      <td>Aristotle</td>\n      <td>Male</td>\n      <td>-384</td>\n      <td>Greece</td>\n      <td>Philosopher</td>\n      <td>31.9938</td>\n      <td>23.50000</td>\n      <td>40.33333</td>\n      <td>56355172</td>\n      <td>370758</td>\n    </tr>\n    <tr>\n      <th>1</th>\n      <td>Plato</td>\n      <td>Male</td>\n      <td>-427</td>\n      <td>Greece</td>\n      <td>Philosopher</td>\n      <td>31.9888</td>\n      <td>23.71667</td>\n      <td>37.96667</td>\n      <td>46812003</td>\n      <td>329662</td>\n    </tr>\n    <tr>\n      <th>2</th>\n      <td>Jesus Christ</td>\n      <td>Male</td>\n      <td>-4</td>\n      <td>Israel</td>\n      <td>Religious Figure</td>\n      <td>31.8981</td>\n      <td>34.90000</td>\n      <td>32.50000</td>\n      <td>60299092</td>\n      <td>281771</td>\n    </tr>\n    <tr>\n      <th>3</th>\n      <td>Socrates</td>\n      <td>Male</td>\n      <td>-469</td>\n      <td>Greece</td>\n      <td>Philosopher</td>\n      <td>31.6521</td>\n      <td>23.71667</td>\n      <td>37.96667</td>\n      <td>40307143</td>\n      <td>294213</td>\n    </tr>\n    <tr>\n      <th>4</th>\n      <td>Alexander the Great</td>\n      <td>Male</td>\n      <td>-356</td>\n      <td>Greece</td>\n      <td>Military Personnel</td>\n      <td>31.5840</td>\n      <td>22.51667</td>\n      <td>40.80000</td>\n      <td>48358148</td>\n      <td>350421</td>\n    </tr>\n    <tr>\n      <th>5</th>\n      <td>Leonardo da Vinci</td>\n      <td>Male</td>\n      <td>1452</td>\n      <td>Italy</td>\n      <td>Inventor</td>\n      <td>31.4644</td>\n      <td>10.91667</td>\n      <td>43.78333</td>\n      <td>88931135</td>\n      <td>511098</td>\n    </tr>\n    <tr>\n      <th>6</th>\n      <td>Confucius</td>\n      <td>Male</td>\n      <td>-551</td>\n      <td>China</td>\n      <td>Philosopher</td>\n      <td>31.3705</td>\n      <td>0.00000</td>\n      <td>0.00000</td>\n      <td>22363652</td>\n      <td>116477</td>\n    </tr>\n    <tr>\n      <th>7</th>\n      <td>Julius Caesar</td>\n      <td>Male</td>\n      <td>-100</td>\n      <td>Italy</td>\n      <td>Politician</td>\n      <td>31.1161</td>\n      <td>12.50000</td>\n      <td>41.90000</td>\n      <td>43088745</td>\n      <td>336631</td>\n    </tr>\n    <tr>\n      <th>8</th>\n      <td>Homer</td>\n      <td>Male</td>\n      <td>-800</td>\n      <td>Turkey</td>\n      <td>Writer</td>\n      <td>31.1087</td>\n      <td>27.13917</td>\n      <td>38.41861</td>\n      <td>20839405</td>\n      <td>147797</td>\n    </tr>\n    <tr>\n      <th>9</th>\n      <td>Pythagoras</td>\n      <td>Male</td>\n      <td>-570</td>\n      <td>Greece</td>\n      <td>Philosopher</td>\n      <td>31.0691</td>\n      <td>26.83333</td>\n      <td>37.75000</td>\n      <td>26168219</td>\n      <td>229546</td>\n    </tr>\n  </tbody>\n</table>\n</div>",
      "text/plain": "             full_name   sex  birth_year country          occupation  \\\n0            Aristotle  Male        -384  Greece         Philosopher   \n1                Plato  Male        -427  Greece         Philosopher   \n2         Jesus Christ  Male          -4  Israel    Religious Figure   \n3             Socrates  Male        -469  Greece         Philosopher   \n4  Alexander the Great  Male        -356  Greece  Military Personnel   \n5    Leonardo da Vinci  Male        1452   Italy            Inventor   \n6            Confucius  Male        -551   China         Philosopher   \n7        Julius Caesar  Male        -100   Italy          Politician   \n8                Homer  Male        -800  Turkey              Writer   \n9           Pythagoras  Male        -570  Greece         Philosopher   \n\n   popularity  longitude  latitude  page_views  average_views  \n0     31.9938   23.50000  40.33333    56355172         370758  \n1     31.9888   23.71667  37.96667    46812003         329662  \n2     31.8981   34.90000  32.50000    60299092         281771  \n3     31.6521   23.71667  37.96667    40307143         294213  \n4     31.5840   22.51667  40.80000    48358148         350421  \n5     31.4644   10.91667  43.78333    88931135         511098  \n6     31.3705    0.00000   0.00000    22363652         116477  \n7     31.1161   12.50000  41.90000    43088745         336631  \n8     31.1087   27.13917  38.41861    20839405         147797  \n9     31.0691   26.83333  37.75000    26168219         229546  "
     },
<<<<<<< HEAD
<<<<<<< HEAD
<<<<<<< HEAD
<<<<<<< HEAD
<<<<<<< HEAD
<<<<<<< HEAD
     "execution_count": 653,
=======
     "execution_count": 526,
>>>>>>> parent of 675401e... Update Final_Project_Report.ipynb
=======
     "execution_count": 526,
>>>>>>> parent of 675401e... Update Final_Project_Report.ipynb
=======
     "execution_count": 21,
>>>>>>> parent of abcf7ff... Update Final_Project_Report.ipynb
=======
     "execution_count": 582,
>>>>>>> parent of 7289307... Update Final_Project_Report.ipynb
=======
     "execution_count": 70,
>>>>>>> parent of 70af6ae... Update Final_Project_Report.ipynb
=======
     "execution_count": 192,
>>>>>>> parent of cc528dc... Update Final_Project_Report.ipynb
     "metadata": {},
     "output_type": "execute_result"
    }
   ],
   "source": [
    "# Which historic characters are in the top ten most popular?\n",
    "dfTopTenMostPopularPeople = dfCleanData.sort_values(by = ['popularity'], ascending = False)\n",
    "dfTopTenMostPopularPeople = dfTopTenMostPopularPeople.head(10)\n",
    "dfTopTenMostPopularPeople.loc[:,columnToDisplayCleanData]"
   ]
  },
  {
   "cell_type": "code",
<<<<<<< HEAD
<<<<<<< HEAD
<<<<<<< HEAD
<<<<<<< HEAD
<<<<<<< HEAD
<<<<<<< HEAD
   "execution_count": 654,
=======
   "execution_count": 527,
>>>>>>> parent of 675401e... Update Final_Project_Report.ipynb
=======
   "execution_count": 527,
>>>>>>> parent of 675401e... Update Final_Project_Report.ipynb
=======
   "execution_count": 22,
>>>>>>> parent of abcf7ff... Update Final_Project_Report.ipynb
=======
   "execution_count": 583,
>>>>>>> parent of 7289307... Update Final_Project_Report.ipynb
=======
   "execution_count": 71,
>>>>>>> parent of 70af6ae... Update Final_Project_Report.ipynb
=======
   "execution_count": 193,
>>>>>>> parent of cc528dc... Update Final_Project_Report.ipynb
   "metadata": {},
   "outputs": [
    {
     "data": {
      "text/html": "<div>\n<style scoped>\n    .dataframe tbody tr th:only-of-type {\n        vertical-align: middle;\n    }\n\n    .dataframe tbody tr th {\n        vertical-align: top;\n    }\n\n    .dataframe thead th {\n        text-align: right;\n    }\n</style>\n<table border=\"1\" class=\"dataframe\">\n  <thead>\n    <tr style=\"text-align: right;\">\n      <th></th>\n      <th>total_count</th>\n    </tr>\n    <tr>\n      <th>country</th>\n      <th></th>\n    </tr>\n  </thead>\n  <tbody>\n    <tr>\n      <th>China</th>\n      <td>1</td>\n    </tr>\n    <tr>\n      <th>Greece</th>\n      <td>5</td>\n    </tr>\n    <tr>\n      <th>Israel</th>\n      <td>1</td>\n    </tr>\n    <tr>\n      <th>Italy</th>\n      <td>2</td>\n    </tr>\n    <tr>\n      <th>Turkey</th>\n      <td>1</td>\n    </tr>\n  </tbody>\n</table>\n</div>",
      "text/plain": "         total_count\ncountry             \nChina              1\nGreece             5\nIsrael             1\nItaly              2\nTurkey             1"
     },
<<<<<<< HEAD
<<<<<<< HEAD
<<<<<<< HEAD
<<<<<<< HEAD
<<<<<<< HEAD
<<<<<<< HEAD
     "execution_count": 654,
=======
     "execution_count": 527,
>>>>>>> parent of 675401e... Update Final_Project_Report.ipynb
=======
     "execution_count": 527,
>>>>>>> parent of 675401e... Update Final_Project_Report.ipynb
=======
     "execution_count": 22,
>>>>>>> parent of abcf7ff... Update Final_Project_Report.ipynb
=======
     "execution_count": 583,
>>>>>>> parent of 7289307... Update Final_Project_Report.ipynb
=======
     "execution_count": 71,
>>>>>>> parent of 70af6ae... Update Final_Project_Report.ipynb
=======
     "execution_count": 193,
>>>>>>> parent of cc528dc... Update Final_Project_Report.ipynb
     "metadata": {},
     "output_type": "execute_result"
    }
   ],
   "source": [
    "dfTotalTop10ByContinentByCountry = pd.DataFrame(dfTopTenMostPopularPeople.groupby(['country'])['article_id'].count())\n",
    "dfTotalTop10ByContinentByCountry.rename(columns={'':'country','article_id': 'total_count'}, inplace=True)\n",
    "dfTotalTop10ByContinentByCountry "
   ]
  },
  {
   "cell_type": "code",
<<<<<<< HEAD
<<<<<<< HEAD
<<<<<<< HEAD
<<<<<<< HEAD
<<<<<<< HEAD
<<<<<<< HEAD
   "execution_count": 655,
=======
   "execution_count": 528,
>>>>>>> parent of 675401e... Update Final_Project_Report.ipynb
=======
   "execution_count": 528,
>>>>>>> parent of 675401e... Update Final_Project_Report.ipynb
=======
   "execution_count": 23,
>>>>>>> parent of abcf7ff... Update Final_Project_Report.ipynb
=======
   "execution_count": 584,
>>>>>>> parent of 7289307... Update Final_Project_Report.ipynb
=======
   "execution_count": 72,
>>>>>>> parent of 70af6ae... Update Final_Project_Report.ipynb
=======
   "execution_count": 33,
>>>>>>> parent of cc528dc... Update Final_Project_Report.ipynb
   "metadata": {},
   "outputs": [
    {
     "data": {
<<<<<<< HEAD
      "text/plain": "[<matplotlib.lines.Line2D at 0x21fccbcef60>]"
     },
     "execution_count": 72,
=======
      "text/plain": "[<matplotlib.lines.Line2D at 0x2619b80ada0>]"
     },
     "execution_count": 33,
>>>>>>> parent of cc528dc... Update Final_Project_Report.ipynb
     "metadata": {},
     "output_type": "execute_result"
    },
    {
     "data": {
      "image/png": "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\n",
<<<<<<< HEAD
      "image/svg+xml": "<?xml version=\"1.0\" encoding=\"utf-8\" standalone=\"no\"?>\r\n<!DOCTYPE svg PUBLIC \"-//W3C//DTD SVG 1.1//EN\"\r\n  \"http://www.w3.org/Graphics/SVG/1.1/DTD/svg11.dtd\">\r\n<!-- Created with matplotlib (https://matplotlib.org/) -->\r\n<svg height=\"248.518125pt\" version=\"1.1\" viewBox=\"0 0 374.080256 248.518125\" width=\"374.080256pt\" xmlns=\"http://www.w3.org/2000/svg\" xmlns:xlink=\"http://www.w3.org/1999/xlink\">\r\n <defs>\r\n  <style type=\"text/css\">\r\n*{stroke-linecap:butt;stroke-linejoin:round;}\r\n  </style>\r\n </defs>\r\n <g id=\"figure_1\">\r\n  <g id=\"patch_1\">\r\n   <path d=\"M 0 248.518125 \r\nL 374.080256 248.518125 \r\nL 374.080256 0 \r\nL 0 0 \r\nz\r\n\" style=\"fill:none;\"/>\r\n  </g>\r\n  <g id=\"axes_1\">\r\n   <g id=\"patch_2\">\r\n    <path d=\"M 30.103125 224.64 \r\nL 364.903125 224.64 \r\nL 364.903125 7.2 \r\nL 30.103125 7.2 \r\nz\r\n\" style=\"fill:#ffffff;\"/>\r\n   </g>\r\n   <g id=\"matplotlib.axis_1\">\r\n    <g id=\"xtick_1\">\r\n     <g id=\"line2d_1\">\r\n      <defs>\r\n       <path d=\"M 0 0 \r\nL 0 3.5 \r\n\" id=\"m703b44dfe8\" style=\"stroke:#000000;stroke-width:0.8;\"/>\r\n      </defs>\r\n      <g>\r\n       <use style=\"stroke:#000000;stroke-width:0.8;\" x=\"45.321307\" xlink:href=\"#m703b44dfe8\" y=\"224.64\"/>\r\n      </g>\r\n     </g>\r\n     <g id=\"text_1\">\r\n      <!-- China -->\r\n      <defs>\r\n       <path d=\"M 64.40625 67.28125 \r\nL 64.40625 56.890625 \r\nQ 59.421875 61.53125 53.78125 63.8125 \r\nQ 48.140625 66.109375 41.796875 66.109375 \r\nQ 29.296875 66.109375 22.65625 58.46875 \r\nQ 16.015625 50.828125 16.015625 36.375 \r\nQ 16.015625 21.96875 22.65625 14.328125 \r\nQ 29.296875 6.6875 41.796875 6.6875 \r\nQ 48.140625 6.6875 53.78125 8.984375 \r\nQ 59.421875 11.28125 64.40625 15.921875 \r\nL 64.40625 5.609375 \r\nQ 59.234375 2.09375 53.4375 0.328125 \r\nQ 47.65625 -1.421875 41.21875 -1.421875 \r\nQ 24.65625 -1.421875 15.125 8.703125 \r\nQ 5.609375 18.84375 5.609375 36.375 \r\nQ 5.609375 53.953125 15.125 64.078125 \r\nQ 24.65625 74.21875 41.21875 74.21875 \r\nQ 47.75 74.21875 53.53125 72.484375 \r\nQ 59.328125 70.75 64.40625 67.28125 \r\nz\r\n\" id=\"DejaVuSans-67\"/>\r\n       <path d=\"M 54.890625 33.015625 \r\nL 54.890625 0 \r\nL 45.90625 0 \r\nL 45.90625 32.71875 \r\nQ 45.90625 40.484375 42.875 44.328125 \r\nQ 39.84375 48.1875 33.796875 48.1875 \r\nQ 26.515625 48.1875 22.3125 43.546875 \r\nQ 18.109375 38.921875 18.109375 30.90625 \r\nL 18.109375 0 \r\nL 9.078125 0 \r\nL 9.078125 75.984375 \r\nL 18.109375 75.984375 \r\nL 18.109375 46.1875 \r\nQ 21.34375 51.125 25.703125 53.5625 \r\nQ 30.078125 56 35.796875 56 \r\nQ 45.21875 56 50.046875 50.171875 \r\nQ 54.890625 44.34375 54.890625 33.015625 \r\nz\r\n\" id=\"DejaVuSans-104\"/>\r\n       <path d=\"M 9.421875 54.6875 \r\nL 18.40625 54.6875 \r\nL 18.40625 0 \r\nL 9.421875 0 \r\nz\r\nM 9.421875 75.984375 \r\nL 18.40625 75.984375 \r\nL 18.40625 64.59375 \r\nL 9.421875 64.59375 \r\nz\r\n\" id=\"DejaVuSans-105\"/>\r\n       <path d=\"M 54.890625 33.015625 \r\nL 54.890625 0 \r\nL 45.90625 0 \r\nL 45.90625 32.71875 \r\nQ 45.90625 40.484375 42.875 44.328125 \r\nQ 39.84375 48.1875 33.796875 48.1875 \r\nQ 26.515625 48.1875 22.3125 43.546875 \r\nQ 18.109375 38.921875 18.109375 30.90625 \r\nL 18.109375 0 \r\nL 9.078125 0 \r\nL 9.078125 54.6875 \r\nL 18.109375 54.6875 \r\nL 18.109375 46.1875 \r\nQ 21.34375 51.125 25.703125 53.5625 \r\nQ 30.078125 56 35.796875 56 \r\nQ 45.21875 56 50.046875 50.171875 \r\nQ 54.890625 44.34375 54.890625 33.015625 \r\nz\r\n\" id=\"DejaVuSans-110\"/>\r\n       <path d=\"M 34.28125 27.484375 \r\nQ 23.390625 27.484375 19.1875 25 \r\nQ 14.984375 22.515625 14.984375 16.5 \r\nQ 14.984375 11.71875 18.140625 8.90625 \r\nQ 21.296875 6.109375 26.703125 6.109375 \r\nQ 34.1875 6.109375 38.703125 11.40625 \r\nQ 43.21875 16.703125 43.21875 25.484375 \r\nL 43.21875 27.484375 \r\nz\r\nM 52.203125 31.203125 \r\nL 52.203125 0 \r\nL 43.21875 0 \r\nL 43.21875 8.296875 \r\nQ 40.140625 3.328125 35.546875 0.953125 \r\nQ 30.953125 -1.421875 24.3125 -1.421875 \r\nQ 15.921875 -1.421875 10.953125 3.296875 \r\nQ 6 8.015625 6 15.921875 \r\nQ 6 25.140625 12.171875 29.828125 \r\nQ 18.359375 34.515625 30.609375 34.515625 \r\nL 43.21875 34.515625 \r\nL 43.21875 35.40625 \r\nQ 43.21875 41.609375 39.140625 45 \r\nQ 35.0625 48.390625 27.6875 48.390625 \r\nQ 23 48.390625 18.546875 47.265625 \r\nQ 14.109375 46.140625 10.015625 43.890625 \r\nL 10.015625 52.203125 \r\nQ 14.9375 54.109375 19.578125 55.046875 \r\nQ 24.21875 56 28.609375 56 \r\nQ 40.484375 56 46.34375 49.84375 \r\nQ 52.203125 43.703125 52.203125 31.203125 \r\nz\r\n\" id=\"DejaVuSans-97\"/>\r\n      </defs>\r\n      <g transform=\"translate(31.039276 239.238437)scale(0.1 -0.1)\">\r\n       <use xlink:href=\"#DejaVuSans-67\"/>\r\n       <use x=\"69.824219\" xlink:href=\"#DejaVuSans-104\"/>\r\n       <use x=\"133.203125\" xlink:href=\"#DejaVuSans-105\"/>\r\n       <use x=\"160.986328\" xlink:href=\"#DejaVuSans-110\"/>\r\n       <use x=\"224.365234\" xlink:href=\"#DejaVuSans-97\"/>\r\n      </g>\r\n     </g>\r\n    </g>\r\n    <g id=\"xtick_2\">\r\n     <g id=\"line2d_2\">\r\n      <g>\r\n       <use style=\"stroke:#000000;stroke-width:0.8;\" x=\"121.412216\" xlink:href=\"#m703b44dfe8\" y=\"224.64\"/>\r\n      </g>\r\n     </g>\r\n     <g id=\"text_2\">\r\n      <!-- Greece -->\r\n      <defs>\r\n       <path d=\"M 59.515625 10.40625 \r\nL 59.515625 29.984375 \r\nL 43.40625 29.984375 \r\nL 43.40625 38.09375 \r\nL 69.28125 38.09375 \r\nL 69.28125 6.78125 \r\nQ 63.578125 2.734375 56.6875 0.65625 \r\nQ 49.8125 -1.421875 42 -1.421875 \r\nQ 24.90625 -1.421875 15.25 8.5625 \r\nQ 5.609375 18.5625 5.609375 36.375 \r\nQ 5.609375 54.25 15.25 64.234375 \r\nQ 24.90625 74.21875 42 74.21875 \r\nQ 49.125 74.21875 55.546875 72.453125 \r\nQ 61.96875 70.703125 67.390625 67.28125 \r\nL 67.390625 56.78125 \r\nQ 61.921875 61.421875 55.765625 63.765625 \r\nQ 49.609375 66.109375 42.828125 66.109375 \r\nQ 29.4375 66.109375 22.71875 58.640625 \r\nQ 16.015625 51.171875 16.015625 36.375 \r\nQ 16.015625 21.625 22.71875 14.15625 \r\nQ 29.4375 6.6875 42.828125 6.6875 \r\nQ 48.046875 6.6875 52.140625 7.59375 \r\nQ 56.25 8.5 59.515625 10.40625 \r\nz\r\n\" id=\"DejaVuSans-71\"/>\r\n       <path d=\"M 41.109375 46.296875 \r\nQ 39.59375 47.171875 37.8125 47.578125 \r\nQ 36.03125 48 33.890625 48 \r\nQ 26.265625 48 22.1875 43.046875 \r\nQ 18.109375 38.09375 18.109375 28.8125 \r\nL 18.109375 0 \r\nL 9.078125 0 \r\nL 9.078125 54.6875 \r\nL 18.109375 54.6875 \r\nL 18.109375 46.1875 \r\nQ 20.953125 51.171875 25.484375 53.578125 \r\nQ 30.03125 56 36.53125 56 \r\nQ 37.453125 56 38.578125 55.875 \r\nQ 39.703125 55.765625 41.0625 55.515625 \r\nz\r\n\" id=\"DejaVuSans-114\"/>\r\n       <path d=\"M 56.203125 29.59375 \r\nL 56.203125 25.203125 \r\nL 14.890625 25.203125 \r\nQ 15.484375 15.921875 20.484375 11.0625 \r\nQ 25.484375 6.203125 34.421875 6.203125 \r\nQ 39.59375 6.203125 44.453125 7.46875 \r\nQ 49.3125 8.734375 54.109375 11.28125 \r\nL 54.109375 2.78125 \r\nQ 49.265625 0.734375 44.1875 -0.34375 \r\nQ 39.109375 -1.421875 33.890625 -1.421875 \r\nQ 20.796875 -1.421875 13.15625 6.1875 \r\nQ 5.515625 13.8125 5.515625 26.8125 \r\nQ 5.515625 40.234375 12.765625 48.109375 \r\nQ 20.015625 56 32.328125 56 \r\nQ 43.359375 56 49.78125 48.890625 \r\nQ 56.203125 41.796875 56.203125 29.59375 \r\nz\r\nM 47.21875 32.234375 \r\nQ 47.125 39.59375 43.09375 43.984375 \r\nQ 39.0625 48.390625 32.421875 48.390625 \r\nQ 24.90625 48.390625 20.390625 44.140625 \r\nQ 15.875 39.890625 15.1875 32.171875 \r\nz\r\n\" id=\"DejaVuSans-101\"/>\r\n       <path d=\"M 48.78125 52.59375 \r\nL 48.78125 44.1875 \r\nQ 44.96875 46.296875 41.140625 47.34375 \r\nQ 37.3125 48.390625 33.40625 48.390625 \r\nQ 24.65625 48.390625 19.8125 42.84375 \r\nQ 14.984375 37.3125 14.984375 27.296875 \r\nQ 14.984375 17.28125 19.8125 11.734375 \r\nQ 24.65625 6.203125 33.40625 6.203125 \r\nQ 37.3125 6.203125 41.140625 7.25 \r\nQ 44.96875 8.296875 48.78125 10.40625 \r\nL 48.78125 2.09375 \r\nQ 45.015625 0.34375 40.984375 -0.53125 \r\nQ 36.96875 -1.421875 32.421875 -1.421875 \r\nQ 20.0625 -1.421875 12.78125 6.34375 \r\nQ 5.515625 14.109375 5.515625 27.296875 \r\nQ 5.515625 40.671875 12.859375 48.328125 \r\nQ 20.21875 56 33.015625 56 \r\nQ 37.15625 56 41.109375 55.140625 \r\nQ 45.0625 54.296875 48.78125 52.59375 \r\nz\r\n\" id=\"DejaVuSans-99\"/>\r\n      </defs>\r\n      <g transform=\"translate(103.505185 239.238437)scale(0.1 -0.1)\">\r\n       <use xlink:href=\"#DejaVuSans-71\"/>\r\n       <use x=\"77.490234\" xlink:href=\"#DejaVuSans-114\"/>\r\n       <use x=\"118.572266\" xlink:href=\"#DejaVuSans-101\"/>\r\n       <use x=\"180.095703\" xlink:href=\"#DejaVuSans-101\"/>\r\n       <use x=\"241.619141\" xlink:href=\"#DejaVuSans-99\"/>\r\n       <use x=\"296.599609\" xlink:href=\"#DejaVuSans-101\"/>\r\n      </g>\r\n     </g>\r\n    </g>\r\n    <g id=\"xtick_3\">\r\n     <g id=\"line2d_3\">\r\n      <g>\r\n       <use style=\"stroke:#000000;stroke-width:0.8;\" x=\"197.503125\" xlink:href=\"#m703b44dfe8\" y=\"224.64\"/>\r\n      </g>\r\n     </g>\r\n     <g id=\"text_3\">\r\n      <!-- Israel -->\r\n      <defs>\r\n       <path d=\"M 9.8125 72.90625 \r\nL 19.671875 72.90625 \r\nL 19.671875 0 \r\nL 9.8125 0 \r\nz\r\n\" id=\"DejaVuSans-73\"/>\r\n       <path d=\"M 44.28125 53.078125 \r\nL 44.28125 44.578125 \r\nQ 40.484375 46.53125 36.375 47.5 \r\nQ 32.28125 48.484375 27.875 48.484375 \r\nQ 21.1875 48.484375 17.84375 46.4375 \r\nQ 14.5 44.390625 14.5 40.28125 \r\nQ 14.5 37.15625 16.890625 35.375 \r\nQ 19.28125 33.59375 26.515625 31.984375 \r\nL 29.59375 31.296875 \r\nQ 39.15625 29.25 43.1875 25.515625 \r\nQ 47.21875 21.78125 47.21875 15.09375 \r\nQ 47.21875 7.46875 41.1875 3.015625 \r\nQ 35.15625 -1.421875 24.609375 -1.421875 \r\nQ 20.21875 -1.421875 15.453125 -0.5625 \r\nQ 10.6875 0.296875 5.421875 2 \r\nL 5.421875 11.28125 \r\nQ 10.40625 8.6875 15.234375 7.390625 \r\nQ 20.0625 6.109375 24.8125 6.109375 \r\nQ 31.15625 6.109375 34.5625 8.28125 \r\nQ 37.984375 10.453125 37.984375 14.40625 \r\nQ 37.984375 18.0625 35.515625 20.015625 \r\nQ 33.0625 21.96875 24.703125 23.78125 \r\nL 21.578125 24.515625 \r\nQ 13.234375 26.265625 9.515625 29.90625 \r\nQ 5.8125 33.546875 5.8125 39.890625 \r\nQ 5.8125 47.609375 11.28125 51.796875 \r\nQ 16.75 56 26.8125 56 \r\nQ 31.78125 56 36.171875 55.265625 \r\nQ 40.578125 54.546875 44.28125 53.078125 \r\nz\r\n\" id=\"DejaVuSans-115\"/>\r\n       <path d=\"M 9.421875 75.984375 \r\nL 18.40625 75.984375 \r\nL 18.40625 0 \r\nL 9.421875 0 \r\nz\r\n\" id=\"DejaVuSans-108\"/>\r\n      </defs>\r\n      <g transform=\"translate(183.838281 239.238437)scale(0.1 -0.1)\">\r\n       <use xlink:href=\"#DejaVuSans-73\"/>\r\n       <use x=\"29.492188\" xlink:href=\"#DejaVuSans-115\"/>\r\n       <use x=\"81.591797\" xlink:href=\"#DejaVuSans-114\"/>\r\n       <use x=\"122.705078\" xlink:href=\"#DejaVuSans-97\"/>\r\n       <use x=\"183.984375\" xlink:href=\"#DejaVuSans-101\"/>\r\n       <use x=\"245.507812\" xlink:href=\"#DejaVuSans-108\"/>\r\n      </g>\r\n     </g>\r\n    </g>\r\n    <g id=\"xtick_4\">\r\n     <g id=\"line2d_4\">\r\n      <g>\r\n       <use style=\"stroke:#000000;stroke-width:0.8;\" x=\"273.594034\" xlink:href=\"#m703b44dfe8\" y=\"224.64\"/>\r\n      </g>\r\n     </g>\r\n     <g id=\"text_4\">\r\n      <!-- Italy -->\r\n      <defs>\r\n       <path d=\"M 18.3125 70.21875 \r\nL 18.3125 54.6875 \r\nL 36.8125 54.6875 \r\nL 36.8125 47.703125 \r\nL 18.3125 47.703125 \r\nL 18.3125 18.015625 \r\nQ 18.3125 11.328125 20.140625 9.421875 \r\nQ 21.96875 7.515625 27.59375 7.515625 \r\nL 36.8125 7.515625 \r\nL 36.8125 0 \r\nL 27.59375 0 \r\nQ 17.1875 0 13.234375 3.875 \r\nQ 9.28125 7.765625 9.28125 18.015625 \r\nL 9.28125 47.703125 \r\nL 2.6875 47.703125 \r\nL 2.6875 54.6875 \r\nL 9.28125 54.6875 \r\nL 9.28125 70.21875 \r\nz\r\n\" id=\"DejaVuSans-116\"/>\r\n       <path d=\"M 32.171875 -5.078125 \r\nQ 28.375 -14.84375 24.75 -17.8125 \r\nQ 21.140625 -20.796875 15.09375 -20.796875 \r\nL 7.90625 -20.796875 \r\nL 7.90625 -13.28125 \r\nL 13.1875 -13.28125 \r\nQ 16.890625 -13.28125 18.9375 -11.515625 \r\nQ 21 -9.765625 23.484375 -3.21875 \r\nL 25.09375 0.875 \r\nL 2.984375 54.6875 \r\nL 12.5 54.6875 \r\nL 29.59375 11.921875 \r\nL 46.6875 54.6875 \r\nL 56.203125 54.6875 \r\nz\r\n\" id=\"DejaVuSans-121\"/>\r\n      </defs>\r\n      <g transform=\"translate(262.746378 239.238437)scale(0.1 -0.1)\">\r\n       <use xlink:href=\"#DejaVuSans-73\"/>\r\n       <use x=\"29.492188\" xlink:href=\"#DejaVuSans-116\"/>\r\n       <use x=\"68.701172\" xlink:href=\"#DejaVuSans-97\"/>\r\n       <use x=\"129.980469\" xlink:href=\"#DejaVuSans-108\"/>\r\n       <use x=\"157.763672\" xlink:href=\"#DejaVuSans-121\"/>\r\n      </g>\r\n     </g>\r\n    </g>\r\n    <g id=\"xtick_5\">\r\n     <g id=\"line2d_5\">\r\n      <g>\r\n       <use style=\"stroke:#000000;stroke-width:0.8;\" x=\"349.684943\" xlink:href=\"#m703b44dfe8\" y=\"224.64\"/>\r\n      </g>\r\n     </g>\r\n     <g id=\"text_5\">\r\n      <!-- Turkey -->\r\n      <defs>\r\n       <path d=\"M -0.296875 72.90625 \r\nL 61.375 72.90625 \r\nL 61.375 64.59375 \r\nL 35.5 64.59375 \r\nL 35.5 0 \r\nL 25.59375 0 \r\nL 25.59375 64.59375 \r\nL -0.296875 64.59375 \r\nz\r\n\" id=\"DejaVuSans-84\"/>\r\n       <path d=\"M 8.5 21.578125 \r\nL 8.5 54.6875 \r\nL 17.484375 54.6875 \r\nL 17.484375 21.921875 \r\nQ 17.484375 14.15625 20.5 10.265625 \r\nQ 23.53125 6.390625 29.59375 6.390625 \r\nQ 36.859375 6.390625 41.078125 11.03125 \r\nQ 45.3125 15.671875 45.3125 23.6875 \r\nL 45.3125 54.6875 \r\nL 54.296875 54.6875 \r\nL 54.296875 0 \r\nL 45.3125 0 \r\nL 45.3125 8.40625 \r\nQ 42.046875 3.421875 37.71875 1 \r\nQ 33.40625 -1.421875 27.6875 -1.421875 \r\nQ 18.265625 -1.421875 13.375 4.4375 \r\nQ 8.5 10.296875 8.5 21.578125 \r\nz\r\nM 31.109375 56 \r\nz\r\n\" id=\"DejaVuSans-117\"/>\r\n       <path d=\"M 9.078125 75.984375 \r\nL 18.109375 75.984375 \r\nL 18.109375 31.109375 \r\nL 44.921875 54.6875 \r\nL 56.390625 54.6875 \r\nL 27.390625 29.109375 \r\nL 57.625 0 \r\nL 45.90625 0 \r\nL 18.109375 26.703125 \r\nL 18.109375 0 \r\nL 9.078125 0 \r\nz\r\n\" id=\"DejaVuSans-107\"/>\r\n      </defs>\r\n      <g transform=\"translate(332.489631 239.238437)scale(0.1 -0.1)\">\r\n       <use xlink:href=\"#DejaVuSans-84\"/>\r\n       <use x=\"60.849609\" xlink:href=\"#DejaVuSans-117\"/>\r\n       <use x=\"124.228516\" xlink:href=\"#DejaVuSans-114\"/>\r\n       <use x=\"165.341797\" xlink:href=\"#DejaVuSans-107\"/>\r\n       <use x=\"223.205078\" xlink:href=\"#DejaVuSans-101\"/>\r\n       <use x=\"284.728516\" xlink:href=\"#DejaVuSans-121\"/>\r\n      </g>\r\n     </g>\r\n    </g>\r\n   </g>\r\n   <g id=\"matplotlib.axis_2\">\r\n    <g id=\"ytick_1\">\r\n     <g id=\"line2d_6\">\r\n      <defs>\r\n       <path d=\"M 0 0 \r\nL -3.5 0 \r\n\" id=\"m5202156d7a\" style=\"stroke:#000000;stroke-width:0.8;\"/>\r\n      </defs>\r\n      <g>\r\n       <use style=\"stroke:#000000;stroke-width:0.8;\" x=\"30.103125\" xlink:href=\"#m5202156d7a\" y=\"214.756364\"/>\r\n      </g>\r\n     </g>\r\n     <g id=\"text_6\">\r\n      <!-- 1.0 -->\r\n      <defs>\r\n       <path d=\"M 12.40625 8.296875 \r\nL 28.515625 8.296875 \r\nL 28.515625 63.921875 \r\nL 10.984375 60.40625 \r\nL 10.984375 69.390625 \r\nL 28.421875 72.90625 \r\nL 38.28125 72.90625 \r\nL 38.28125 8.296875 \r\nL 54.390625 8.296875 \r\nL 54.390625 0 \r\nL 12.40625 0 \r\nz\r\n\" id=\"DejaVuSans-49\"/>\r\n       <path d=\"M 10.6875 12.40625 \r\nL 21 12.40625 \r\nL 21 0 \r\nL 10.6875 0 \r\nz\r\n\" id=\"DejaVuSans-46\"/>\r\n       <path d=\"M 31.78125 66.40625 \r\nQ 24.171875 66.40625 20.328125 58.90625 \r\nQ 16.5 51.421875 16.5 36.375 \r\nQ 16.5 21.390625 20.328125 13.890625 \r\nQ 24.171875 6.390625 31.78125 6.390625 \r\nQ 39.453125 6.390625 43.28125 13.890625 \r\nQ 47.125 21.390625 47.125 36.375 \r\nQ 47.125 51.421875 43.28125 58.90625 \r\nQ 39.453125 66.40625 31.78125 66.40625 \r\nz\r\nM 31.78125 74.21875 \r\nQ 44.046875 74.21875 50.515625 64.515625 \r\nQ 56.984375 54.828125 56.984375 36.375 \r\nQ 56.984375 17.96875 50.515625 8.265625 \r\nQ 44.046875 -1.421875 31.78125 -1.421875 \r\nQ 19.53125 -1.421875 13.0625 8.265625 \r\nQ 6.59375 17.96875 6.59375 36.375 \r\nQ 6.59375 54.828125 13.0625 64.515625 \r\nQ 19.53125 74.21875 31.78125 74.21875 \r\nz\r\n\" id=\"DejaVuSans-48\"/>\r\n      </defs>\r\n      <g transform=\"translate(7.2 218.555582)scale(0.1 -0.1)\">\r\n       <use xlink:href=\"#DejaVuSans-49\"/>\r\n       <use x=\"63.623047\" xlink:href=\"#DejaVuSans-46\"/>\r\n       <use x=\"95.410156\" xlink:href=\"#DejaVuSans-48\"/>\r\n      </g>\r\n     </g>\r\n    </g>\r\n    <g id=\"ytick_2\">\r\n     <g id=\"line2d_7\">\r\n      <g>\r\n       <use style=\"stroke:#000000;stroke-width:0.8;\" x=\"30.103125\" xlink:href=\"#m5202156d7a\" y=\"190.047273\"/>\r\n      </g>\r\n     </g>\r\n     <g id=\"text_7\">\r\n      <!-- 1.5 -->\r\n      <defs>\r\n       <path d=\"M 10.796875 72.90625 \r\nL 49.515625 72.90625 \r\nL 49.515625 64.59375 \r\nL 19.828125 64.59375 \r\nL 19.828125 46.734375 \r\nQ 21.96875 47.46875 24.109375 47.828125 \r\nQ 26.265625 48.1875 28.421875 48.1875 \r\nQ 40.625 48.1875 47.75 41.5 \r\nQ 54.890625 34.8125 54.890625 23.390625 \r\nQ 54.890625 11.625 47.5625 5.09375 \r\nQ 40.234375 -1.421875 26.90625 -1.421875 \r\nQ 22.3125 -1.421875 17.546875 -0.640625 \r\nQ 12.796875 0.140625 7.71875 1.703125 \r\nL 7.71875 11.625 \r\nQ 12.109375 9.234375 16.796875 8.0625 \r\nQ 21.484375 6.890625 26.703125 6.890625 \r\nQ 35.15625 6.890625 40.078125 11.328125 \r\nQ 45.015625 15.765625 45.015625 23.390625 \r\nQ 45.015625 31 40.078125 35.4375 \r\nQ 35.15625 39.890625 26.703125 39.890625 \r\nQ 22.75 39.890625 18.8125 39.015625 \r\nQ 14.890625 38.140625 10.796875 36.28125 \r\nz\r\n\" id=\"DejaVuSans-53\"/>\r\n      </defs>\r\n      <g transform=\"translate(7.2 193.846491)scale(0.1 -0.1)\">\r\n       <use xlink:href=\"#DejaVuSans-49\"/>\r\n       <use x=\"63.623047\" xlink:href=\"#DejaVuSans-46\"/>\r\n       <use x=\"95.410156\" xlink:href=\"#DejaVuSans-53\"/>\r\n      </g>\r\n     </g>\r\n    </g>\r\n    <g id=\"ytick_3\">\r\n     <g id=\"line2d_8\">\r\n      <g>\r\n       <use style=\"stroke:#000000;stroke-width:0.8;\" x=\"30.103125\" xlink:href=\"#m5202156d7a\" y=\"165.338182\"/>\r\n      </g>\r\n     </g>\r\n     <g id=\"text_8\">\r\n      <!-- 2.0 -->\r\n      <defs>\r\n       <path d=\"M 19.1875 8.296875 \r\nL 53.609375 8.296875 \r\nL 53.609375 0 \r\nL 7.328125 0 \r\nL 7.328125 8.296875 \r\nQ 12.9375 14.109375 22.625 23.890625 \r\nQ 32.328125 33.6875 34.8125 36.53125 \r\nQ 39.546875 41.84375 41.421875 45.53125 \r\nQ 43.3125 49.21875 43.3125 52.78125 \r\nQ 43.3125 58.59375 39.234375 62.25 \r\nQ 35.15625 65.921875 28.609375 65.921875 \r\nQ 23.96875 65.921875 18.8125 64.3125 \r\nQ 13.671875 62.703125 7.8125 59.421875 \r\nL 7.8125 69.390625 \r\nQ 13.765625 71.78125 18.9375 73 \r\nQ 24.125 74.21875 28.421875 74.21875 \r\nQ 39.75 74.21875 46.484375 68.546875 \r\nQ 53.21875 62.890625 53.21875 53.421875 \r\nQ 53.21875 48.921875 51.53125 44.890625 \r\nQ 49.859375 40.875 45.40625 35.40625 \r\nQ 44.1875 33.984375 37.640625 27.21875 \r\nQ 31.109375 20.453125 19.1875 8.296875 \r\nz\r\n\" id=\"DejaVuSans-50\"/>\r\n      </defs>\r\n      <g transform=\"translate(7.2 169.137401)scale(0.1 -0.1)\">\r\n       <use xlink:href=\"#DejaVuSans-50\"/>\r\n       <use x=\"63.623047\" xlink:href=\"#DejaVuSans-46\"/>\r\n       <use x=\"95.410156\" xlink:href=\"#DejaVuSans-48\"/>\r\n      </g>\r\n     </g>\r\n    </g>\r\n    <g id=\"ytick_4\">\r\n     <g id=\"line2d_9\">\r\n      <g>\r\n       <use style=\"stroke:#000000;stroke-width:0.8;\" x=\"30.103125\" xlink:href=\"#m5202156d7a\" y=\"140.629091\"/>\r\n      </g>\r\n     </g>\r\n     <g id=\"text_9\">\r\n      <!-- 2.5 -->\r\n      <g transform=\"translate(7.2 144.42831)scale(0.1 -0.1)\">\r\n       <use xlink:href=\"#DejaVuSans-50\"/>\r\n       <use x=\"63.623047\" xlink:href=\"#DejaVuSans-46\"/>\r\n       <use x=\"95.410156\" xlink:href=\"#DejaVuSans-53\"/>\r\n      </g>\r\n     </g>\r\n    </g>\r\n    <g id=\"ytick_5\">\r\n     <g id=\"line2d_10\">\r\n      <g>\r\n       <use style=\"stroke:#000000;stroke-width:0.8;\" x=\"30.103125\" xlink:href=\"#m5202156d7a\" y=\"115.92\"/>\r\n      </g>\r\n     </g>\r\n     <g id=\"text_10\">\r\n      <!-- 3.0 -->\r\n      <defs>\r\n       <path d=\"M 40.578125 39.3125 \r\nQ 47.65625 37.796875 51.625 33 \r\nQ 55.609375 28.21875 55.609375 21.1875 \r\nQ 55.609375 10.40625 48.1875 4.484375 \r\nQ 40.765625 -1.421875 27.09375 -1.421875 \r\nQ 22.515625 -1.421875 17.65625 -0.515625 \r\nQ 12.796875 0.390625 7.625 2.203125 \r\nL 7.625 11.71875 \r\nQ 11.71875 9.328125 16.59375 8.109375 \r\nQ 21.484375 6.890625 26.8125 6.890625 \r\nQ 36.078125 6.890625 40.9375 10.546875 \r\nQ 45.796875 14.203125 45.796875 21.1875 \r\nQ 45.796875 27.640625 41.28125 31.265625 \r\nQ 36.765625 34.90625 28.71875 34.90625 \r\nL 20.21875 34.90625 \r\nL 20.21875 43.015625 \r\nL 29.109375 43.015625 \r\nQ 36.375 43.015625 40.234375 45.921875 \r\nQ 44.09375 48.828125 44.09375 54.296875 \r\nQ 44.09375 59.90625 40.109375 62.90625 \r\nQ 36.140625 65.921875 28.71875 65.921875 \r\nQ 24.65625 65.921875 20.015625 65.03125 \r\nQ 15.375 64.15625 9.8125 62.3125 \r\nL 9.8125 71.09375 \r\nQ 15.4375 72.65625 20.34375 73.4375 \r\nQ 25.25 74.21875 29.59375 74.21875 \r\nQ 40.828125 74.21875 47.359375 69.109375 \r\nQ 53.90625 64.015625 53.90625 55.328125 \r\nQ 53.90625 49.265625 50.4375 45.09375 \r\nQ 46.96875 40.921875 40.578125 39.3125 \r\nz\r\n\" id=\"DejaVuSans-51\"/>\r\n      </defs>\r\n      <g transform=\"translate(7.2 119.719219)scale(0.1 -0.1)\">\r\n       <use xlink:href=\"#DejaVuSans-51\"/>\r\n       <use x=\"63.623047\" xlink:href=\"#DejaVuSans-46\"/>\r\n       <use x=\"95.410156\" xlink:href=\"#DejaVuSans-48\"/>\r\n      </g>\r\n     </g>\r\n    </g>\r\n    <g id=\"ytick_6\">\r\n     <g id=\"line2d_11\">\r\n      <g>\r\n       <use style=\"stroke:#000000;stroke-width:0.8;\" x=\"30.103125\" xlink:href=\"#m5202156d7a\" y=\"91.210909\"/>\r\n      </g>\r\n     </g>\r\n     <g id=\"text_11\">\r\n      <!-- 3.5 -->\r\n      <g transform=\"translate(7.2 95.010128)scale(0.1 -0.1)\">\r\n       <use xlink:href=\"#DejaVuSans-51\"/>\r\n       <use x=\"63.623047\" xlink:href=\"#DejaVuSans-46\"/>\r\n       <use x=\"95.410156\" xlink:href=\"#DejaVuSans-53\"/>\r\n      </g>\r\n     </g>\r\n    </g>\r\n    <g id=\"ytick_7\">\r\n     <g id=\"line2d_12\">\r\n      <g>\r\n       <use style=\"stroke:#000000;stroke-width:0.8;\" x=\"30.103125\" xlink:href=\"#m5202156d7a\" y=\"66.501818\"/>\r\n      </g>\r\n     </g>\r\n     <g id=\"text_12\">\r\n      <!-- 4.0 -->\r\n      <defs>\r\n       <path d=\"M 37.796875 64.3125 \r\nL 12.890625 25.390625 \r\nL 37.796875 25.390625 \r\nz\r\nM 35.203125 72.90625 \r\nL 47.609375 72.90625 \r\nL 47.609375 25.390625 \r\nL 58.015625 25.390625 \r\nL 58.015625 17.1875 \r\nL 47.609375 17.1875 \r\nL 47.609375 0 \r\nL 37.796875 0 \r\nL 37.796875 17.1875 \r\nL 4.890625 17.1875 \r\nL 4.890625 26.703125 \r\nz\r\n\" id=\"DejaVuSans-52\"/>\r\n      </defs>\r\n      <g transform=\"translate(7.2 70.301037)scale(0.1 -0.1)\">\r\n       <use xlink:href=\"#DejaVuSans-52\"/>\r\n       <use x=\"63.623047\" xlink:href=\"#DejaVuSans-46\"/>\r\n       <use x=\"95.410156\" xlink:href=\"#DejaVuSans-48\"/>\r\n      </g>\r\n     </g>\r\n    </g>\r\n    <g id=\"ytick_8\">\r\n     <g id=\"line2d_13\">\r\n      <g>\r\n       <use style=\"stroke:#000000;stroke-width:0.8;\" x=\"30.103125\" xlink:href=\"#m5202156d7a\" y=\"41.792727\"/>\r\n      </g>\r\n     </g>\r\n     <g id=\"text_13\">\r\n      <!-- 4.5 -->\r\n      <g transform=\"translate(7.2 45.591946)scale(0.1 -0.1)\">\r\n       <use xlink:href=\"#DejaVuSans-52\"/>\r\n       <use x=\"63.623047\" xlink:href=\"#DejaVuSans-46\"/>\r\n       <use x=\"95.410156\" xlink:href=\"#DejaVuSans-53\"/>\r\n      </g>\r\n     </g>\r\n    </g>\r\n    <g id=\"ytick_9\">\r\n     <g id=\"line2d_14\">\r\n      <g>\r\n       <use style=\"stroke:#000000;stroke-width:0.8;\" x=\"30.103125\" xlink:href=\"#m5202156d7a\" y=\"17.083636\"/>\r\n      </g>\r\n     </g>\r\n     <g id=\"text_14\">\r\n      <!-- 5.0 -->\r\n      <g transform=\"translate(7.2 20.882855)scale(0.1 -0.1)\">\r\n       <use xlink:href=\"#DejaVuSans-53\"/>\r\n       <use x=\"63.623047\" xlink:href=\"#DejaVuSans-46\"/>\r\n       <use x=\"95.410156\" xlink:href=\"#DejaVuSans-48\"/>\r\n      </g>\r\n     </g>\r\n    </g>\r\n   </g>\r\n   <g id=\"line2d_15\">\r\n    <path clip-path=\"url(#p3c40a02b72)\" d=\"M 45.321307 214.756364 \r\nL 121.412216 17.083636 \r\nL 197.503125 214.756364 \r\nL 273.594034 165.338182 \r\nL 349.684943 214.756364 \r\n\" style=\"fill:none;stroke:#1f77b4;stroke-linecap:square;stroke-width:1.5;\"/>\r\n   </g>\r\n   <g id=\"patch_3\">\r\n    <path d=\"M 30.103125 224.64 \r\nL 30.103125 7.2 \r\n\" style=\"fill:none;stroke:#000000;stroke-linecap:square;stroke-linejoin:miter;stroke-width:0.8;\"/>\r\n   </g>\r\n   <g id=\"patch_4\">\r\n    <path d=\"M 364.903125 224.64 \r\nL 364.903125 7.2 \r\n\" style=\"fill:none;stroke:#000000;stroke-linecap:square;stroke-linejoin:miter;stroke-width:0.8;\"/>\r\n   </g>\r\n   <g id=\"patch_5\">\r\n    <path d=\"M 30.103125 224.64 \r\nL 364.903125 224.64 \r\n\" style=\"fill:none;stroke:#000000;stroke-linecap:square;stroke-linejoin:miter;stroke-width:0.8;\"/>\r\n   </g>\r\n   <g id=\"patch_6\">\r\n    <path d=\"M 30.103125 7.2 \r\nL 364.903125 7.2 \r\n\" style=\"fill:none;stroke:#000000;stroke-linecap:square;stroke-linejoin:miter;stroke-width:0.8;\"/>\r\n   </g>\r\n  </g>\r\n </g>\r\n <defs>\r\n  <clipPath id=\"p3c40a02b72\">\r\n   <rect height=\"217.44\" width=\"334.8\" x=\"30.103125\" y=\"7.2\"/>\r\n  </clipPath>\r\n </defs>\r\n</svg>\r\n",
=======
      "image/svg+xml": "<?xml version=\"1.0\" encoding=\"utf-8\" standalone=\"no\"?>\r\n<!DOCTYPE svg PUBLIC \"-//W3C//DTD SVG 1.1//EN\"\r\n  \"http://www.w3.org/Graphics/SVG/1.1/DTD/svg11.dtd\">\r\n<!-- Created with matplotlib (https://matplotlib.org/) -->\r\n<svg height=\"248.518125pt\" version=\"1.1\" viewBox=\"0 0 374.080256 248.518125\" width=\"374.080256pt\" xmlns=\"http://www.w3.org/2000/svg\" xmlns:xlink=\"http://www.w3.org/1999/xlink\">\r\n <defs>\r\n  <style type=\"text/css\">\r\n*{stroke-linecap:butt;stroke-linejoin:round;}\r\n  </style>\r\n </defs>\r\n <g id=\"figure_1\">\r\n  <g id=\"patch_1\">\r\n   <path d=\"M 0 248.518125 \r\nL 374.080256 248.518125 \r\nL 374.080256 0 \r\nL 0 0 \r\nz\r\n\" style=\"fill:none;\"/>\r\n  </g>\r\n  <g id=\"axes_1\">\r\n   <g id=\"patch_2\">\r\n    <path d=\"M 30.103125 224.64 \r\nL 364.903125 224.64 \r\nL 364.903125 7.2 \r\nL 30.103125 7.2 \r\nz\r\n\" style=\"fill:#ffffff;\"/>\r\n   </g>\r\n   <g id=\"matplotlib.axis_1\">\r\n    <g id=\"xtick_1\">\r\n     <g id=\"line2d_1\">\r\n      <defs>\r\n       <path d=\"M 0 0 \r\nL 0 3.5 \r\n\" id=\"me54037dc86\" style=\"stroke:#000000;stroke-width:0.8;\"/>\r\n      </defs>\r\n      <g>\r\n       <use style=\"stroke:#000000;stroke-width:0.8;\" x=\"45.321307\" xlink:href=\"#me54037dc86\" y=\"224.64\"/>\r\n      </g>\r\n     </g>\r\n     <g id=\"text_1\">\r\n      <!-- China -->\r\n      <defs>\r\n       <path d=\"M 64.40625 67.28125 \r\nL 64.40625 56.890625 \r\nQ 59.421875 61.53125 53.78125 63.8125 \r\nQ 48.140625 66.109375 41.796875 66.109375 \r\nQ 29.296875 66.109375 22.65625 58.46875 \r\nQ 16.015625 50.828125 16.015625 36.375 \r\nQ 16.015625 21.96875 22.65625 14.328125 \r\nQ 29.296875 6.6875 41.796875 6.6875 \r\nQ 48.140625 6.6875 53.78125 8.984375 \r\nQ 59.421875 11.28125 64.40625 15.921875 \r\nL 64.40625 5.609375 \r\nQ 59.234375 2.09375 53.4375 0.328125 \r\nQ 47.65625 -1.421875 41.21875 -1.421875 \r\nQ 24.65625 -1.421875 15.125 8.703125 \r\nQ 5.609375 18.84375 5.609375 36.375 \r\nQ 5.609375 53.953125 15.125 64.078125 \r\nQ 24.65625 74.21875 41.21875 74.21875 \r\nQ 47.75 74.21875 53.53125 72.484375 \r\nQ 59.328125 70.75 64.40625 67.28125 \r\nz\r\n\" id=\"DejaVuSans-67\"/>\r\n       <path d=\"M 54.890625 33.015625 \r\nL 54.890625 0 \r\nL 45.90625 0 \r\nL 45.90625 32.71875 \r\nQ 45.90625 40.484375 42.875 44.328125 \r\nQ 39.84375 48.1875 33.796875 48.1875 \r\nQ 26.515625 48.1875 22.3125 43.546875 \r\nQ 18.109375 38.921875 18.109375 30.90625 \r\nL 18.109375 0 \r\nL 9.078125 0 \r\nL 9.078125 75.984375 \r\nL 18.109375 75.984375 \r\nL 18.109375 46.1875 \r\nQ 21.34375 51.125 25.703125 53.5625 \r\nQ 30.078125 56 35.796875 56 \r\nQ 45.21875 56 50.046875 50.171875 \r\nQ 54.890625 44.34375 54.890625 33.015625 \r\nz\r\n\" id=\"DejaVuSans-104\"/>\r\n       <path d=\"M 9.421875 54.6875 \r\nL 18.40625 54.6875 \r\nL 18.40625 0 \r\nL 9.421875 0 \r\nz\r\nM 9.421875 75.984375 \r\nL 18.40625 75.984375 \r\nL 18.40625 64.59375 \r\nL 9.421875 64.59375 \r\nz\r\n\" id=\"DejaVuSans-105\"/>\r\n       <path d=\"M 54.890625 33.015625 \r\nL 54.890625 0 \r\nL 45.90625 0 \r\nL 45.90625 32.71875 \r\nQ 45.90625 40.484375 42.875 44.328125 \r\nQ 39.84375 48.1875 33.796875 48.1875 \r\nQ 26.515625 48.1875 22.3125 43.546875 \r\nQ 18.109375 38.921875 18.109375 30.90625 \r\nL 18.109375 0 \r\nL 9.078125 0 \r\nL 9.078125 54.6875 \r\nL 18.109375 54.6875 \r\nL 18.109375 46.1875 \r\nQ 21.34375 51.125 25.703125 53.5625 \r\nQ 30.078125 56 35.796875 56 \r\nQ 45.21875 56 50.046875 50.171875 \r\nQ 54.890625 44.34375 54.890625 33.015625 \r\nz\r\n\" id=\"DejaVuSans-110\"/>\r\n       <path d=\"M 34.28125 27.484375 \r\nQ 23.390625 27.484375 19.1875 25 \r\nQ 14.984375 22.515625 14.984375 16.5 \r\nQ 14.984375 11.71875 18.140625 8.90625 \r\nQ 21.296875 6.109375 26.703125 6.109375 \r\nQ 34.1875 6.109375 38.703125 11.40625 \r\nQ 43.21875 16.703125 43.21875 25.484375 \r\nL 43.21875 27.484375 \r\nz\r\nM 52.203125 31.203125 \r\nL 52.203125 0 \r\nL 43.21875 0 \r\nL 43.21875 8.296875 \r\nQ 40.140625 3.328125 35.546875 0.953125 \r\nQ 30.953125 -1.421875 24.3125 -1.421875 \r\nQ 15.921875 -1.421875 10.953125 3.296875 \r\nQ 6 8.015625 6 15.921875 \r\nQ 6 25.140625 12.171875 29.828125 \r\nQ 18.359375 34.515625 30.609375 34.515625 \r\nL 43.21875 34.515625 \r\nL 43.21875 35.40625 \r\nQ 43.21875 41.609375 39.140625 45 \r\nQ 35.0625 48.390625 27.6875 48.390625 \r\nQ 23 48.390625 18.546875 47.265625 \r\nQ 14.109375 46.140625 10.015625 43.890625 \r\nL 10.015625 52.203125 \r\nQ 14.9375 54.109375 19.578125 55.046875 \r\nQ 24.21875 56 28.609375 56 \r\nQ 40.484375 56 46.34375 49.84375 \r\nQ 52.203125 43.703125 52.203125 31.203125 \r\nz\r\n\" id=\"DejaVuSans-97\"/>\r\n      </defs>\r\n      <g transform=\"translate(31.039276 239.238437)scale(0.1 -0.1)\">\r\n       <use xlink:href=\"#DejaVuSans-67\"/>\r\n       <use x=\"69.824219\" xlink:href=\"#DejaVuSans-104\"/>\r\n       <use x=\"133.203125\" xlink:href=\"#DejaVuSans-105\"/>\r\n       <use x=\"160.986328\" xlink:href=\"#DejaVuSans-110\"/>\r\n       <use x=\"224.365234\" xlink:href=\"#DejaVuSans-97\"/>\r\n      </g>\r\n     </g>\r\n    </g>\r\n    <g id=\"xtick_2\">\r\n     <g id=\"line2d_2\">\r\n      <g>\r\n       <use style=\"stroke:#000000;stroke-width:0.8;\" x=\"121.412216\" xlink:href=\"#me54037dc86\" y=\"224.64\"/>\r\n      </g>\r\n     </g>\r\n     <g id=\"text_2\">\r\n      <!-- Greece -->\r\n      <defs>\r\n       <path d=\"M 59.515625 10.40625 \r\nL 59.515625 29.984375 \r\nL 43.40625 29.984375 \r\nL 43.40625 38.09375 \r\nL 69.28125 38.09375 \r\nL 69.28125 6.78125 \r\nQ 63.578125 2.734375 56.6875 0.65625 \r\nQ 49.8125 -1.421875 42 -1.421875 \r\nQ 24.90625 -1.421875 15.25 8.5625 \r\nQ 5.609375 18.5625 5.609375 36.375 \r\nQ 5.609375 54.25 15.25 64.234375 \r\nQ 24.90625 74.21875 42 74.21875 \r\nQ 49.125 74.21875 55.546875 72.453125 \r\nQ 61.96875 70.703125 67.390625 67.28125 \r\nL 67.390625 56.78125 \r\nQ 61.921875 61.421875 55.765625 63.765625 \r\nQ 49.609375 66.109375 42.828125 66.109375 \r\nQ 29.4375 66.109375 22.71875 58.640625 \r\nQ 16.015625 51.171875 16.015625 36.375 \r\nQ 16.015625 21.625 22.71875 14.15625 \r\nQ 29.4375 6.6875 42.828125 6.6875 \r\nQ 48.046875 6.6875 52.140625 7.59375 \r\nQ 56.25 8.5 59.515625 10.40625 \r\nz\r\n\" id=\"DejaVuSans-71\"/>\r\n       <path d=\"M 41.109375 46.296875 \r\nQ 39.59375 47.171875 37.8125 47.578125 \r\nQ 36.03125 48 33.890625 48 \r\nQ 26.265625 48 22.1875 43.046875 \r\nQ 18.109375 38.09375 18.109375 28.8125 \r\nL 18.109375 0 \r\nL 9.078125 0 \r\nL 9.078125 54.6875 \r\nL 18.109375 54.6875 \r\nL 18.109375 46.1875 \r\nQ 20.953125 51.171875 25.484375 53.578125 \r\nQ 30.03125 56 36.53125 56 \r\nQ 37.453125 56 38.578125 55.875 \r\nQ 39.703125 55.765625 41.0625 55.515625 \r\nz\r\n\" id=\"DejaVuSans-114\"/>\r\n       <path d=\"M 56.203125 29.59375 \r\nL 56.203125 25.203125 \r\nL 14.890625 25.203125 \r\nQ 15.484375 15.921875 20.484375 11.0625 \r\nQ 25.484375 6.203125 34.421875 6.203125 \r\nQ 39.59375 6.203125 44.453125 7.46875 \r\nQ 49.3125 8.734375 54.109375 11.28125 \r\nL 54.109375 2.78125 \r\nQ 49.265625 0.734375 44.1875 -0.34375 \r\nQ 39.109375 -1.421875 33.890625 -1.421875 \r\nQ 20.796875 -1.421875 13.15625 6.1875 \r\nQ 5.515625 13.8125 5.515625 26.8125 \r\nQ 5.515625 40.234375 12.765625 48.109375 \r\nQ 20.015625 56 32.328125 56 \r\nQ 43.359375 56 49.78125 48.890625 \r\nQ 56.203125 41.796875 56.203125 29.59375 \r\nz\r\nM 47.21875 32.234375 \r\nQ 47.125 39.59375 43.09375 43.984375 \r\nQ 39.0625 48.390625 32.421875 48.390625 \r\nQ 24.90625 48.390625 20.390625 44.140625 \r\nQ 15.875 39.890625 15.1875 32.171875 \r\nz\r\n\" id=\"DejaVuSans-101\"/>\r\n       <path d=\"M 48.78125 52.59375 \r\nL 48.78125 44.1875 \r\nQ 44.96875 46.296875 41.140625 47.34375 \r\nQ 37.3125 48.390625 33.40625 48.390625 \r\nQ 24.65625 48.390625 19.8125 42.84375 \r\nQ 14.984375 37.3125 14.984375 27.296875 \r\nQ 14.984375 17.28125 19.8125 11.734375 \r\nQ 24.65625 6.203125 33.40625 6.203125 \r\nQ 37.3125 6.203125 41.140625 7.25 \r\nQ 44.96875 8.296875 48.78125 10.40625 \r\nL 48.78125 2.09375 \r\nQ 45.015625 0.34375 40.984375 -0.53125 \r\nQ 36.96875 -1.421875 32.421875 -1.421875 \r\nQ 20.0625 -1.421875 12.78125 6.34375 \r\nQ 5.515625 14.109375 5.515625 27.296875 \r\nQ 5.515625 40.671875 12.859375 48.328125 \r\nQ 20.21875 56 33.015625 56 \r\nQ 37.15625 56 41.109375 55.140625 \r\nQ 45.0625 54.296875 48.78125 52.59375 \r\nz\r\n\" id=\"DejaVuSans-99\"/>\r\n      </defs>\r\n      <g transform=\"translate(103.505185 239.238437)scale(0.1 -0.1)\">\r\n       <use xlink:href=\"#DejaVuSans-71\"/>\r\n       <use x=\"77.490234\" xlink:href=\"#DejaVuSans-114\"/>\r\n       <use x=\"118.572266\" xlink:href=\"#DejaVuSans-101\"/>\r\n       <use x=\"180.095703\" xlink:href=\"#DejaVuSans-101\"/>\r\n       <use x=\"241.619141\" xlink:href=\"#DejaVuSans-99\"/>\r\n       <use x=\"296.599609\" xlink:href=\"#DejaVuSans-101\"/>\r\n      </g>\r\n     </g>\r\n    </g>\r\n    <g id=\"xtick_3\">\r\n     <g id=\"line2d_3\">\r\n      <g>\r\n       <use style=\"stroke:#000000;stroke-width:0.8;\" x=\"197.503125\" xlink:href=\"#me54037dc86\" y=\"224.64\"/>\r\n      </g>\r\n     </g>\r\n     <g id=\"text_3\">\r\n      <!-- Israel -->\r\n      <defs>\r\n       <path d=\"M 9.8125 72.90625 \r\nL 19.671875 72.90625 \r\nL 19.671875 0 \r\nL 9.8125 0 \r\nz\r\n\" id=\"DejaVuSans-73\"/>\r\n       <path d=\"M 44.28125 53.078125 \r\nL 44.28125 44.578125 \r\nQ 40.484375 46.53125 36.375 47.5 \r\nQ 32.28125 48.484375 27.875 48.484375 \r\nQ 21.1875 48.484375 17.84375 46.4375 \r\nQ 14.5 44.390625 14.5 40.28125 \r\nQ 14.5 37.15625 16.890625 35.375 \r\nQ 19.28125 33.59375 26.515625 31.984375 \r\nL 29.59375 31.296875 \r\nQ 39.15625 29.25 43.1875 25.515625 \r\nQ 47.21875 21.78125 47.21875 15.09375 \r\nQ 47.21875 7.46875 41.1875 3.015625 \r\nQ 35.15625 -1.421875 24.609375 -1.421875 \r\nQ 20.21875 -1.421875 15.453125 -0.5625 \r\nQ 10.6875 0.296875 5.421875 2 \r\nL 5.421875 11.28125 \r\nQ 10.40625 8.6875 15.234375 7.390625 \r\nQ 20.0625 6.109375 24.8125 6.109375 \r\nQ 31.15625 6.109375 34.5625 8.28125 \r\nQ 37.984375 10.453125 37.984375 14.40625 \r\nQ 37.984375 18.0625 35.515625 20.015625 \r\nQ 33.0625 21.96875 24.703125 23.78125 \r\nL 21.578125 24.515625 \r\nQ 13.234375 26.265625 9.515625 29.90625 \r\nQ 5.8125 33.546875 5.8125 39.890625 \r\nQ 5.8125 47.609375 11.28125 51.796875 \r\nQ 16.75 56 26.8125 56 \r\nQ 31.78125 56 36.171875 55.265625 \r\nQ 40.578125 54.546875 44.28125 53.078125 \r\nz\r\n\" id=\"DejaVuSans-115\"/>\r\n       <path d=\"M 9.421875 75.984375 \r\nL 18.40625 75.984375 \r\nL 18.40625 0 \r\nL 9.421875 0 \r\nz\r\n\" id=\"DejaVuSans-108\"/>\r\n      </defs>\r\n      <g transform=\"translate(183.838281 239.238437)scale(0.1 -0.1)\">\r\n       <use xlink:href=\"#DejaVuSans-73\"/>\r\n       <use x=\"29.492188\" xlink:href=\"#DejaVuSans-115\"/>\r\n       <use x=\"81.591797\" xlink:href=\"#DejaVuSans-114\"/>\r\n       <use x=\"122.705078\" xlink:href=\"#DejaVuSans-97\"/>\r\n       <use x=\"183.984375\" xlink:href=\"#DejaVuSans-101\"/>\r\n       <use x=\"245.507812\" xlink:href=\"#DejaVuSans-108\"/>\r\n      </g>\r\n     </g>\r\n    </g>\r\n    <g id=\"xtick_4\">\r\n     <g id=\"line2d_4\">\r\n      <g>\r\n       <use style=\"stroke:#000000;stroke-width:0.8;\" x=\"273.594034\" xlink:href=\"#me54037dc86\" y=\"224.64\"/>\r\n      </g>\r\n     </g>\r\n     <g id=\"text_4\">\r\n      <!-- Italy -->\r\n      <defs>\r\n       <path d=\"M 18.3125 70.21875 \r\nL 18.3125 54.6875 \r\nL 36.8125 54.6875 \r\nL 36.8125 47.703125 \r\nL 18.3125 47.703125 \r\nL 18.3125 18.015625 \r\nQ 18.3125 11.328125 20.140625 9.421875 \r\nQ 21.96875 7.515625 27.59375 7.515625 \r\nL 36.8125 7.515625 \r\nL 36.8125 0 \r\nL 27.59375 0 \r\nQ 17.1875 0 13.234375 3.875 \r\nQ 9.28125 7.765625 9.28125 18.015625 \r\nL 9.28125 47.703125 \r\nL 2.6875 47.703125 \r\nL 2.6875 54.6875 \r\nL 9.28125 54.6875 \r\nL 9.28125 70.21875 \r\nz\r\n\" id=\"DejaVuSans-116\"/>\r\n       <path d=\"M 32.171875 -5.078125 \r\nQ 28.375 -14.84375 24.75 -17.8125 \r\nQ 21.140625 -20.796875 15.09375 -20.796875 \r\nL 7.90625 -20.796875 \r\nL 7.90625 -13.28125 \r\nL 13.1875 -13.28125 \r\nQ 16.890625 -13.28125 18.9375 -11.515625 \r\nQ 21 -9.765625 23.484375 -3.21875 \r\nL 25.09375 0.875 \r\nL 2.984375 54.6875 \r\nL 12.5 54.6875 \r\nL 29.59375 11.921875 \r\nL 46.6875 54.6875 \r\nL 56.203125 54.6875 \r\nz\r\n\" id=\"DejaVuSans-121\"/>\r\n      </defs>\r\n      <g transform=\"translate(262.746378 239.238437)scale(0.1 -0.1)\">\r\n       <use xlink:href=\"#DejaVuSans-73\"/>\r\n       <use x=\"29.492188\" xlink:href=\"#DejaVuSans-116\"/>\r\n       <use x=\"68.701172\" xlink:href=\"#DejaVuSans-97\"/>\r\n       <use x=\"129.980469\" xlink:href=\"#DejaVuSans-108\"/>\r\n       <use x=\"157.763672\" xlink:href=\"#DejaVuSans-121\"/>\r\n      </g>\r\n     </g>\r\n    </g>\r\n    <g id=\"xtick_5\">\r\n     <g id=\"line2d_5\">\r\n      <g>\r\n       <use style=\"stroke:#000000;stroke-width:0.8;\" x=\"349.684943\" xlink:href=\"#me54037dc86\" y=\"224.64\"/>\r\n      </g>\r\n     </g>\r\n     <g id=\"text_5\">\r\n      <!-- Turkey -->\r\n      <defs>\r\n       <path d=\"M -0.296875 72.90625 \r\nL 61.375 72.90625 \r\nL 61.375 64.59375 \r\nL 35.5 64.59375 \r\nL 35.5 0 \r\nL 25.59375 0 \r\nL 25.59375 64.59375 \r\nL -0.296875 64.59375 \r\nz\r\n\" id=\"DejaVuSans-84\"/>\r\n       <path d=\"M 8.5 21.578125 \r\nL 8.5 54.6875 \r\nL 17.484375 54.6875 \r\nL 17.484375 21.921875 \r\nQ 17.484375 14.15625 20.5 10.265625 \r\nQ 23.53125 6.390625 29.59375 6.390625 \r\nQ 36.859375 6.390625 41.078125 11.03125 \r\nQ 45.3125 15.671875 45.3125 23.6875 \r\nL 45.3125 54.6875 \r\nL 54.296875 54.6875 \r\nL 54.296875 0 \r\nL 45.3125 0 \r\nL 45.3125 8.40625 \r\nQ 42.046875 3.421875 37.71875 1 \r\nQ 33.40625 -1.421875 27.6875 -1.421875 \r\nQ 18.265625 -1.421875 13.375 4.4375 \r\nQ 8.5 10.296875 8.5 21.578125 \r\nz\r\nM 31.109375 56 \r\nz\r\n\" id=\"DejaVuSans-117\"/>\r\n       <path d=\"M 9.078125 75.984375 \r\nL 18.109375 75.984375 \r\nL 18.109375 31.109375 \r\nL 44.921875 54.6875 \r\nL 56.390625 54.6875 \r\nL 27.390625 29.109375 \r\nL 57.625 0 \r\nL 45.90625 0 \r\nL 18.109375 26.703125 \r\nL 18.109375 0 \r\nL 9.078125 0 \r\nz\r\n\" id=\"DejaVuSans-107\"/>\r\n      </defs>\r\n      <g transform=\"translate(332.489631 239.238437)scale(0.1 -0.1)\">\r\n       <use xlink:href=\"#DejaVuSans-84\"/>\r\n       <use x=\"60.849609\" xlink:href=\"#DejaVuSans-117\"/>\r\n       <use x=\"124.228516\" xlink:href=\"#DejaVuSans-114\"/>\r\n       <use x=\"165.341797\" xlink:href=\"#DejaVuSans-107\"/>\r\n       <use x=\"223.205078\" xlink:href=\"#DejaVuSans-101\"/>\r\n       <use x=\"284.728516\" xlink:href=\"#DejaVuSans-121\"/>\r\n      </g>\r\n     </g>\r\n    </g>\r\n   </g>\r\n   <g id=\"matplotlib.axis_2\">\r\n    <g id=\"ytick_1\">\r\n     <g id=\"line2d_6\">\r\n      <defs>\r\n       <path d=\"M 0 0 \r\nL -3.5 0 \r\n\" id=\"m9f68ca4dcf\" style=\"stroke:#000000;stroke-width:0.8;\"/>\r\n      </defs>\r\n      <g>\r\n       <use style=\"stroke:#000000;stroke-width:0.8;\" x=\"30.103125\" xlink:href=\"#m9f68ca4dcf\" y=\"214.756364\"/>\r\n      </g>\r\n     </g>\r\n     <g id=\"text_6\">\r\n      <!-- 1.0 -->\r\n      <defs>\r\n       <path d=\"M 12.40625 8.296875 \r\nL 28.515625 8.296875 \r\nL 28.515625 63.921875 \r\nL 10.984375 60.40625 \r\nL 10.984375 69.390625 \r\nL 28.421875 72.90625 \r\nL 38.28125 72.90625 \r\nL 38.28125 8.296875 \r\nL 54.390625 8.296875 \r\nL 54.390625 0 \r\nL 12.40625 0 \r\nz\r\n\" id=\"DejaVuSans-49\"/>\r\n       <path d=\"M 10.6875 12.40625 \r\nL 21 12.40625 \r\nL 21 0 \r\nL 10.6875 0 \r\nz\r\n\" id=\"DejaVuSans-46\"/>\r\n       <path d=\"M 31.78125 66.40625 \r\nQ 24.171875 66.40625 20.328125 58.90625 \r\nQ 16.5 51.421875 16.5 36.375 \r\nQ 16.5 21.390625 20.328125 13.890625 \r\nQ 24.171875 6.390625 31.78125 6.390625 \r\nQ 39.453125 6.390625 43.28125 13.890625 \r\nQ 47.125 21.390625 47.125 36.375 \r\nQ 47.125 51.421875 43.28125 58.90625 \r\nQ 39.453125 66.40625 31.78125 66.40625 \r\nz\r\nM 31.78125 74.21875 \r\nQ 44.046875 74.21875 50.515625 64.515625 \r\nQ 56.984375 54.828125 56.984375 36.375 \r\nQ 56.984375 17.96875 50.515625 8.265625 \r\nQ 44.046875 -1.421875 31.78125 -1.421875 \r\nQ 19.53125 -1.421875 13.0625 8.265625 \r\nQ 6.59375 17.96875 6.59375 36.375 \r\nQ 6.59375 54.828125 13.0625 64.515625 \r\nQ 19.53125 74.21875 31.78125 74.21875 \r\nz\r\n\" id=\"DejaVuSans-48\"/>\r\n      </defs>\r\n      <g transform=\"translate(7.2 218.555582)scale(0.1 -0.1)\">\r\n       <use xlink:href=\"#DejaVuSans-49\"/>\r\n       <use x=\"63.623047\" xlink:href=\"#DejaVuSans-46\"/>\r\n       <use x=\"95.410156\" xlink:href=\"#DejaVuSans-48\"/>\r\n      </g>\r\n     </g>\r\n    </g>\r\n    <g id=\"ytick_2\">\r\n     <g id=\"line2d_7\">\r\n      <g>\r\n       <use style=\"stroke:#000000;stroke-width:0.8;\" x=\"30.103125\" xlink:href=\"#m9f68ca4dcf\" y=\"190.047273\"/>\r\n      </g>\r\n     </g>\r\n     <g id=\"text_7\">\r\n      <!-- 1.5 -->\r\n      <defs>\r\n       <path d=\"M 10.796875 72.90625 \r\nL 49.515625 72.90625 \r\nL 49.515625 64.59375 \r\nL 19.828125 64.59375 \r\nL 19.828125 46.734375 \r\nQ 21.96875 47.46875 24.109375 47.828125 \r\nQ 26.265625 48.1875 28.421875 48.1875 \r\nQ 40.625 48.1875 47.75 41.5 \r\nQ 54.890625 34.8125 54.890625 23.390625 \r\nQ 54.890625 11.625 47.5625 5.09375 \r\nQ 40.234375 -1.421875 26.90625 -1.421875 \r\nQ 22.3125 -1.421875 17.546875 -0.640625 \r\nQ 12.796875 0.140625 7.71875 1.703125 \r\nL 7.71875 11.625 \r\nQ 12.109375 9.234375 16.796875 8.0625 \r\nQ 21.484375 6.890625 26.703125 6.890625 \r\nQ 35.15625 6.890625 40.078125 11.328125 \r\nQ 45.015625 15.765625 45.015625 23.390625 \r\nQ 45.015625 31 40.078125 35.4375 \r\nQ 35.15625 39.890625 26.703125 39.890625 \r\nQ 22.75 39.890625 18.8125 39.015625 \r\nQ 14.890625 38.140625 10.796875 36.28125 \r\nz\r\n\" id=\"DejaVuSans-53\"/>\r\n      </defs>\r\n      <g transform=\"translate(7.2 193.846491)scale(0.1 -0.1)\">\r\n       <use xlink:href=\"#DejaVuSans-49\"/>\r\n       <use x=\"63.623047\" xlink:href=\"#DejaVuSans-46\"/>\r\n       <use x=\"95.410156\" xlink:href=\"#DejaVuSans-53\"/>\r\n      </g>\r\n     </g>\r\n    </g>\r\n    <g id=\"ytick_3\">\r\n     <g id=\"line2d_8\">\r\n      <g>\r\n       <use style=\"stroke:#000000;stroke-width:0.8;\" x=\"30.103125\" xlink:href=\"#m9f68ca4dcf\" y=\"165.338182\"/>\r\n      </g>\r\n     </g>\r\n     <g id=\"text_8\">\r\n      <!-- 2.0 -->\r\n      <defs>\r\n       <path d=\"M 19.1875 8.296875 \r\nL 53.609375 8.296875 \r\nL 53.609375 0 \r\nL 7.328125 0 \r\nL 7.328125 8.296875 \r\nQ 12.9375 14.109375 22.625 23.890625 \r\nQ 32.328125 33.6875 34.8125 36.53125 \r\nQ 39.546875 41.84375 41.421875 45.53125 \r\nQ 43.3125 49.21875 43.3125 52.78125 \r\nQ 43.3125 58.59375 39.234375 62.25 \r\nQ 35.15625 65.921875 28.609375 65.921875 \r\nQ 23.96875 65.921875 18.8125 64.3125 \r\nQ 13.671875 62.703125 7.8125 59.421875 \r\nL 7.8125 69.390625 \r\nQ 13.765625 71.78125 18.9375 73 \r\nQ 24.125 74.21875 28.421875 74.21875 \r\nQ 39.75 74.21875 46.484375 68.546875 \r\nQ 53.21875 62.890625 53.21875 53.421875 \r\nQ 53.21875 48.921875 51.53125 44.890625 \r\nQ 49.859375 40.875 45.40625 35.40625 \r\nQ 44.1875 33.984375 37.640625 27.21875 \r\nQ 31.109375 20.453125 19.1875 8.296875 \r\nz\r\n\" id=\"DejaVuSans-50\"/>\r\n      </defs>\r\n      <g transform=\"translate(7.2 169.137401)scale(0.1 -0.1)\">\r\n       <use xlink:href=\"#DejaVuSans-50\"/>\r\n       <use x=\"63.623047\" xlink:href=\"#DejaVuSans-46\"/>\r\n       <use x=\"95.410156\" xlink:href=\"#DejaVuSans-48\"/>\r\n      </g>\r\n     </g>\r\n    </g>\r\n    <g id=\"ytick_4\">\r\n     <g id=\"line2d_9\">\r\n      <g>\r\n       <use style=\"stroke:#000000;stroke-width:0.8;\" x=\"30.103125\" xlink:href=\"#m9f68ca4dcf\" y=\"140.629091\"/>\r\n      </g>\r\n     </g>\r\n     <g id=\"text_9\">\r\n      <!-- 2.5 -->\r\n      <g transform=\"translate(7.2 144.42831)scale(0.1 -0.1)\">\r\n       <use xlink:href=\"#DejaVuSans-50\"/>\r\n       <use x=\"63.623047\" xlink:href=\"#DejaVuSans-46\"/>\r\n       <use x=\"95.410156\" xlink:href=\"#DejaVuSans-53\"/>\r\n      </g>\r\n     </g>\r\n    </g>\r\n    <g id=\"ytick_5\">\r\n     <g id=\"line2d_10\">\r\n      <g>\r\n       <use style=\"stroke:#000000;stroke-width:0.8;\" x=\"30.103125\" xlink:href=\"#m9f68ca4dcf\" y=\"115.92\"/>\r\n      </g>\r\n     </g>\r\n     <g id=\"text_10\">\r\n      <!-- 3.0 -->\r\n      <defs>\r\n       <path d=\"M 40.578125 39.3125 \r\nQ 47.65625 37.796875 51.625 33 \r\nQ 55.609375 28.21875 55.609375 21.1875 \r\nQ 55.609375 10.40625 48.1875 4.484375 \r\nQ 40.765625 -1.421875 27.09375 -1.421875 \r\nQ 22.515625 -1.421875 17.65625 -0.515625 \r\nQ 12.796875 0.390625 7.625 2.203125 \r\nL 7.625 11.71875 \r\nQ 11.71875 9.328125 16.59375 8.109375 \r\nQ 21.484375 6.890625 26.8125 6.890625 \r\nQ 36.078125 6.890625 40.9375 10.546875 \r\nQ 45.796875 14.203125 45.796875 21.1875 \r\nQ 45.796875 27.640625 41.28125 31.265625 \r\nQ 36.765625 34.90625 28.71875 34.90625 \r\nL 20.21875 34.90625 \r\nL 20.21875 43.015625 \r\nL 29.109375 43.015625 \r\nQ 36.375 43.015625 40.234375 45.921875 \r\nQ 44.09375 48.828125 44.09375 54.296875 \r\nQ 44.09375 59.90625 40.109375 62.90625 \r\nQ 36.140625 65.921875 28.71875 65.921875 \r\nQ 24.65625 65.921875 20.015625 65.03125 \r\nQ 15.375 64.15625 9.8125 62.3125 \r\nL 9.8125 71.09375 \r\nQ 15.4375 72.65625 20.34375 73.4375 \r\nQ 25.25 74.21875 29.59375 74.21875 \r\nQ 40.828125 74.21875 47.359375 69.109375 \r\nQ 53.90625 64.015625 53.90625 55.328125 \r\nQ 53.90625 49.265625 50.4375 45.09375 \r\nQ 46.96875 40.921875 40.578125 39.3125 \r\nz\r\n\" id=\"DejaVuSans-51\"/>\r\n      </defs>\r\n      <g transform=\"translate(7.2 119.719219)scale(0.1 -0.1)\">\r\n       <use xlink:href=\"#DejaVuSans-51\"/>\r\n       <use x=\"63.623047\" xlink:href=\"#DejaVuSans-46\"/>\r\n       <use x=\"95.410156\" xlink:href=\"#DejaVuSans-48\"/>\r\n      </g>\r\n     </g>\r\n    </g>\r\n    <g id=\"ytick_6\">\r\n     <g id=\"line2d_11\">\r\n      <g>\r\n       <use style=\"stroke:#000000;stroke-width:0.8;\" x=\"30.103125\" xlink:href=\"#m9f68ca4dcf\" y=\"91.210909\"/>\r\n      </g>\r\n     </g>\r\n     <g id=\"text_11\">\r\n      <!-- 3.5 -->\r\n      <g transform=\"translate(7.2 95.010128)scale(0.1 -0.1)\">\r\n       <use xlink:href=\"#DejaVuSans-51\"/>\r\n       <use x=\"63.623047\" xlink:href=\"#DejaVuSans-46\"/>\r\n       <use x=\"95.410156\" xlink:href=\"#DejaVuSans-53\"/>\r\n      </g>\r\n     </g>\r\n    </g>\r\n    <g id=\"ytick_7\">\r\n     <g id=\"line2d_12\">\r\n      <g>\r\n       <use style=\"stroke:#000000;stroke-width:0.8;\" x=\"30.103125\" xlink:href=\"#m9f68ca4dcf\" y=\"66.501818\"/>\r\n      </g>\r\n     </g>\r\n     <g id=\"text_12\">\r\n      <!-- 4.0 -->\r\n      <defs>\r\n       <path d=\"M 37.796875 64.3125 \r\nL 12.890625 25.390625 \r\nL 37.796875 25.390625 \r\nz\r\nM 35.203125 72.90625 \r\nL 47.609375 72.90625 \r\nL 47.609375 25.390625 \r\nL 58.015625 25.390625 \r\nL 58.015625 17.1875 \r\nL 47.609375 17.1875 \r\nL 47.609375 0 \r\nL 37.796875 0 \r\nL 37.796875 17.1875 \r\nL 4.890625 17.1875 \r\nL 4.890625 26.703125 \r\nz\r\n\" id=\"DejaVuSans-52\"/>\r\n      </defs>\r\n      <g transform=\"translate(7.2 70.301037)scale(0.1 -0.1)\">\r\n       <use xlink:href=\"#DejaVuSans-52\"/>\r\n       <use x=\"63.623047\" xlink:href=\"#DejaVuSans-46\"/>\r\n       <use x=\"95.410156\" xlink:href=\"#DejaVuSans-48\"/>\r\n      </g>\r\n     </g>\r\n    </g>\r\n    <g id=\"ytick_8\">\r\n     <g id=\"line2d_13\">\r\n      <g>\r\n       <use style=\"stroke:#000000;stroke-width:0.8;\" x=\"30.103125\" xlink:href=\"#m9f68ca4dcf\" y=\"41.792727\"/>\r\n      </g>\r\n     </g>\r\n     <g id=\"text_13\">\r\n      <!-- 4.5 -->\r\n      <g transform=\"translate(7.2 45.591946)scale(0.1 -0.1)\">\r\n       <use xlink:href=\"#DejaVuSans-52\"/>\r\n       <use x=\"63.623047\" xlink:href=\"#DejaVuSans-46\"/>\r\n       <use x=\"95.410156\" xlink:href=\"#DejaVuSans-53\"/>\r\n      </g>\r\n     </g>\r\n    </g>\r\n    <g id=\"ytick_9\">\r\n     <g id=\"line2d_14\">\r\n      <g>\r\n       <use style=\"stroke:#000000;stroke-width:0.8;\" x=\"30.103125\" xlink:href=\"#m9f68ca4dcf\" y=\"17.083636\"/>\r\n      </g>\r\n     </g>\r\n     <g id=\"text_14\">\r\n      <!-- 5.0 -->\r\n      <g transform=\"translate(7.2 20.882855)scale(0.1 -0.1)\">\r\n       <use xlink:href=\"#DejaVuSans-53\"/>\r\n       <use x=\"63.623047\" xlink:href=\"#DejaVuSans-46\"/>\r\n       <use x=\"95.410156\" xlink:href=\"#DejaVuSans-48\"/>\r\n      </g>\r\n     </g>\r\n    </g>\r\n   </g>\r\n   <g id=\"line2d_15\">\r\n    <path clip-path=\"url(#p84cfae7237)\" d=\"M 45.321307 214.756364 \r\nL 121.412216 17.083636 \r\nL 197.503125 214.756364 \r\nL 273.594034 165.338182 \r\nL 349.684943 214.756364 \r\n\" style=\"fill:none;stroke:#1f77b4;stroke-linecap:square;stroke-width:1.5;\"/>\r\n   </g>\r\n   <g id=\"patch_3\">\r\n    <path d=\"M 30.103125 224.64 \r\nL 30.103125 7.2 \r\n\" style=\"fill:none;stroke:#000000;stroke-linecap:square;stroke-linejoin:miter;stroke-width:0.8;\"/>\r\n   </g>\r\n   <g id=\"patch_4\">\r\n    <path d=\"M 364.903125 224.64 \r\nL 364.903125 7.2 \r\n\" style=\"fill:none;stroke:#000000;stroke-linecap:square;stroke-linejoin:miter;stroke-width:0.8;\"/>\r\n   </g>\r\n   <g id=\"patch_5\">\r\n    <path d=\"M 30.103125 224.64 \r\nL 364.903125 224.64 \r\n\" style=\"fill:none;stroke:#000000;stroke-linecap:square;stroke-linejoin:miter;stroke-width:0.8;\"/>\r\n   </g>\r\n   <g id=\"patch_6\">\r\n    <path d=\"M 30.103125 7.2 \r\nL 364.903125 7.2 \r\n\" style=\"fill:none;stroke:#000000;stroke-linecap:square;stroke-linejoin:miter;stroke-width:0.8;\"/>\r\n   </g>\r\n  </g>\r\n </g>\r\n <defs>\r\n  <clipPath id=\"p84cfae7237\">\r\n   <rect height=\"217.44\" width=\"334.8\" x=\"30.103125\" y=\"7.2\"/>\r\n  </clipPath>\r\n </defs>\r\n</svg>\r\n",
>>>>>>> parent of cc528dc... Update Final_Project_Report.ipynb
      "text/plain": "<Figure size 432x288 with 1 Axes>"
     },
     "metadata": {
      "needs_background": "light"
     },
     "output_type": "display_data"
    }
   ],
   "source": [
    "plt.plot(dfTotalTop10ByContinentByCountry)"
   ]
  },
  {
   "cell_type": "code",
<<<<<<< HEAD
<<<<<<< HEAD
<<<<<<< HEAD
<<<<<<< HEAD
<<<<<<< HEAD
<<<<<<< HEAD
   "execution_count": 656,
=======
   "execution_count": 529,
>>>>>>> parent of 675401e... Update Final_Project_Report.ipynb
=======
   "execution_count": 529,
>>>>>>> parent of 675401e... Update Final_Project_Report.ipynb
=======
   "execution_count": 24,
>>>>>>> parent of abcf7ff... Update Final_Project_Report.ipynb
=======
   "execution_count": 585,
>>>>>>> parent of 7289307... Update Final_Project_Report.ipynb
=======
   "execution_count": 73,
>>>>>>> parent of 70af6ae... Update Final_Project_Report.ipynb
=======
   "execution_count": 194,
>>>>>>> parent of cc528dc... Update Final_Project_Report.ipynb
   "metadata": {},
   "outputs": [
    {
     "data": {
      "text/html": "<div>\n<style scoped>\n    .dataframe tbody tr th:only-of-type {\n        vertical-align: middle;\n    }\n\n    .dataframe tbody tr th {\n        vertical-align: top;\n    }\n\n    .dataframe thead th {\n        text-align: right;\n    }\n</style>\n<table border=\"1\" class=\"dataframe\">\n  <thead>\n    <tr style=\"text-align: right;\">\n      <th></th>\n      <th>full_name</th>\n      <th>sex</th>\n      <th>birth_year</th>\n      <th>country</th>\n      <th>occupation</th>\n      <th>popularity</th>\n      <th>longitude</th>\n      <th>latitude</th>\n      <th>page_views</th>\n      <th>average_views</th>\n    </tr>\n  </thead>\n  <tbody>\n    <tr>\n      <th>11340</th>\n      <td>Missy Franklin</td>\n      <td>Female</td>\n      <td>1995</td>\n      <td>United States</td>\n      <td>Swimmer</td>\n      <td>9.8794</td>\n      <td>-118.13194</td>\n      <td>34.15611</td>\n      <td>1894716</td>\n      <td>72874</td>\n    </tr>\n    <tr>\n      <th>11339</th>\n      <td>Vladimír Weiss</td>\n      <td>Male</td>\n      <td>1989</td>\n      <td>Slovakia</td>\n      <td>Soccer Player</td>\n      <td>10.2495</td>\n      <td>17.10972</td>\n      <td>48.14389</td>\n      <td>12479</td>\n      <td>462</td>\n    </tr>\n    <tr>\n      <th>11338</th>\n      <td>Rūta Meilutytė</td>\n      <td>Female</td>\n      <td>1997</td>\n      <td>Lithuania</td>\n      <td>Swimmer</td>\n      <td>10.3821</td>\n      <td>23.88611</td>\n      <td>54.90000</td>\n      <td>342719</td>\n      <td>10710</td>\n    </tr>\n    <tr>\n      <th>11337</th>\n      <td>Saina Nehwal</td>\n      <td>Female</td>\n      <td>1990</td>\n      <td>India</td>\n      <td>Athlete</td>\n      <td>10.6122</td>\n      <td>75.71670</td>\n      <td>29.16670</td>\n      <td>2255010</td>\n      <td>86731</td>\n    </tr>\n    <tr>\n      <th>11336</th>\n      <td>Sean St Ledger</td>\n      <td>Male</td>\n      <td>1984</td>\n      <td>United Kingdom</td>\n      <td>Soccer Player</td>\n      <td>11.1346</td>\n      <td>-1.77209</td>\n      <td>52.41290</td>\n      <td>380965</td>\n      <td>13606</td>\n    </tr>\n    <tr>\n      <th>11335</th>\n      <td>Jetro Willems</td>\n      <td>Male</td>\n      <td>1994</td>\n      <td>Netherlands</td>\n      <td>Soccer Player</td>\n      <td>11.3956</td>\n      <td>4.50000</td>\n      <td>51.91667</td>\n      <td>577913</td>\n      <td>21404</td>\n    </tr>\n    <tr>\n      <th>11334</th>\n      <td>Rebecca Soni</td>\n      <td>Female</td>\n      <td>1987</td>\n      <td>United States</td>\n      <td>Swimmer</td>\n      <td>11.4050</td>\n      <td>-74.27588</td>\n      <td>40.26022</td>\n      <td>886815</td>\n      <td>32845</td>\n    </tr>\n    <tr>\n      <th>11333</th>\n      <td>Sun Yang</td>\n      <td>Male</td>\n      <td>1991</td>\n      <td>China</td>\n      <td>Swimmer</td>\n      <td>11.6234</td>\n      <td>120.16667</td>\n      <td>30.25000</td>\n      <td>491910</td>\n      <td>18920</td>\n    </tr>\n    <tr>\n      <th>11332</th>\n      <td>Shane Long</td>\n      <td>Male</td>\n      <td>1987</td>\n      <td>Ireland</td>\n      <td>Soccer Player</td>\n      <td>11.7174</td>\n      <td>0.00000</td>\n      <td>0.00000</td>\n      <td>799202</td>\n      <td>30739</td>\n    </tr>\n    <tr>\n      <th>11331</th>\n      <td>Marc Albrighton</td>\n      <td>Male</td>\n      <td>1989</td>\n      <td>United Kingdom</td>\n      <td>Soccer Player</td>\n      <td>11.7258</td>\n      <td>-1.69500</td>\n      <td>52.63300</td>\n      <td>495420</td>\n      <td>19055</td>\n    </tr>\n  </tbody>\n</table>\n</div>",
      "text/plain": "             full_name     sex  birth_year         country     occupation  \\\n11340   Missy Franklin  Female        1995   United States        Swimmer   \n11339   Vladimír Weiss    Male        1989        Slovakia  Soccer Player   \n11338   Rūta Meilutytė  Female        1997       Lithuania        Swimmer   \n11337     Saina Nehwal  Female        1990           India        Athlete   \n11336   Sean St Ledger    Male        1984  United Kingdom  Soccer Player   \n11335    Jetro Willems    Male        1994     Netherlands  Soccer Player   \n11334     Rebecca Soni  Female        1987   United States        Swimmer   \n11333         Sun Yang    Male        1991           China        Swimmer   \n11332       Shane Long    Male        1987         Ireland  Soccer Player   \n11331  Marc Albrighton    Male        1989  United Kingdom  Soccer Player   \n\n       popularity  longitude  latitude  page_views  average_views  \n11340      9.8794 -118.13194  34.15611     1894716          72874  \n11339     10.2495   17.10972  48.14389       12479            462  \n11338     10.3821   23.88611  54.90000      342719          10710  \n11337     10.6122   75.71670  29.16670     2255010          86731  \n11336     11.1346   -1.77209  52.41290      380965          13606  \n11335     11.3956    4.50000  51.91667      577913          21404  \n11334     11.4050  -74.27588  40.26022      886815          32845  \n11333     11.6234  120.16667  30.25000      491910          18920  \n11332     11.7174    0.00000   0.00000      799202          30739  \n11331     11.7258   -1.69500  52.63300      495420          19055  "
     },
<<<<<<< HEAD
<<<<<<< HEAD
<<<<<<< HEAD
<<<<<<< HEAD
<<<<<<< HEAD
<<<<<<< HEAD
     "execution_count": 656,
=======
     "execution_count": 529,
>>>>>>> parent of 675401e... Update Final_Project_Report.ipynb
=======
     "execution_count": 529,
>>>>>>> parent of 675401e... Update Final_Project_Report.ipynb
=======
     "execution_count": 24,
>>>>>>> parent of abcf7ff... Update Final_Project_Report.ipynb
=======
     "execution_count": 585,
>>>>>>> parent of 7289307... Update Final_Project_Report.ipynb
=======
     "execution_count": 73,
>>>>>>> parent of 70af6ae... Update Final_Project_Report.ipynb
=======
     "execution_count": 194,
>>>>>>> parent of cc528dc... Update Final_Project_Report.ipynb
     "metadata": {},
     "output_type": "execute_result"
    }
   ],
   "source": [
    "# Which historic characters are in the top ten least popular?\n",
    "dfTopTenLeastPopularPeople = dfCleanData.sort_values(by = ['popularity'], ascending = True)\n",
    "dfTopTenLeastPopularPeople = dfTopTenLeastPopularPeople.head(10)\n",
    "dfTopTenLeastPopularPeople.loc[:,columnToDisplayCleanData].head(10)"
   ]
  },
  {
   "cell_type": "code",
<<<<<<< HEAD
<<<<<<< HEAD
<<<<<<< HEAD
<<<<<<< HEAD
<<<<<<< HEAD
<<<<<<< HEAD
   "execution_count": 657,
=======
   "execution_count": 530,
>>>>>>> parent of 675401e... Update Final_Project_Report.ipynb
=======
   "execution_count": 530,
>>>>>>> parent of 675401e... Update Final_Project_Report.ipynb
=======
   "execution_count": 25,
>>>>>>> parent of abcf7ff... Update Final_Project_Report.ipynb
=======
   "execution_count": 586,
>>>>>>> parent of 7289307... Update Final_Project_Report.ipynb
=======
   "execution_count": 74,
>>>>>>> parent of 70af6ae... Update Final_Project_Report.ipynb
=======
   "execution_count": 34,
>>>>>>> parent of cc528dc... Update Final_Project_Report.ipynb
   "metadata": {},
   "outputs": [
    {
     "data": {
      "text/html": "<div>\n<style scoped>\n    .dataframe tbody tr th:only-of-type {\n        vertical-align: middle;\n    }\n\n    .dataframe tbody tr th {\n        vertical-align: top;\n    }\n\n    .dataframe thead th {\n        text-align: right;\n    }\n</style>\n<table border=\"1\" class=\"dataframe\">\n  <thead>\n    <tr style=\"text-align: right;\">\n      <th></th>\n      <th></th>\n      <th></th>\n      <th>total_count</th>\n    </tr>\n    <tr>\n      <th>continent</th>\n      <th>country</th>\n      <th>sex</th>\n      <th></th>\n    </tr>\n  </thead>\n  <tbody>\n    <tr>\n      <th rowspan=\"2\" valign=\"top\">Asia</th>\n      <th>China</th>\n      <th>Male</th>\n      <td>1</td>\n    </tr>\n    <tr>\n      <th>India</th>\n      <th>Female</th>\n      <td>1</td>\n    </tr>\n    <tr>\n      <th rowspan=\"5\" valign=\"top\">Europe</th>\n      <th>Ireland</th>\n      <th>Male</th>\n      <td>1</td>\n    </tr>\n    <tr>\n      <th>Lithuania</th>\n      <th>Female</th>\n      <td>1</td>\n    </tr>\n    <tr>\n      <th>Netherlands</th>\n      <th>Male</th>\n      <td>1</td>\n    </tr>\n    <tr>\n      <th>Slovakia</th>\n      <th>Male</th>\n      <td>1</td>\n    </tr>\n    <tr>\n      <th>United Kingdom</th>\n      <th>Male</th>\n      <td>2</td>\n    </tr>\n    <tr>\n      <th>North America</th>\n      <th>United States</th>\n      <th>Female</th>\n      <td>2</td>\n    </tr>\n  </tbody>\n</table>\n</div>",
      "text/plain": "                                     total_count\ncontinent     country        sex                \nAsia          China          Male              1\n              India          Female            1\nEurope        Ireland        Male              1\n              Lithuania      Female            1\n              Netherlands    Male              1\n              Slovakia       Male              1\n              United Kingdom Male              2\nNorth America United States  Female            2"
     },
<<<<<<< HEAD
<<<<<<< HEAD
<<<<<<< HEAD
<<<<<<< HEAD
<<<<<<< HEAD
<<<<<<< HEAD
     "execution_count": 657,
=======
     "execution_count": 530,
>>>>>>> parent of 675401e... Update Final_Project_Report.ipynb
=======
     "execution_count": 530,
>>>>>>> parent of 675401e... Update Final_Project_Report.ipynb
=======
     "execution_count": 25,
>>>>>>> parent of abcf7ff... Update Final_Project_Report.ipynb
=======
     "execution_count": 586,
>>>>>>> parent of 7289307... Update Final_Project_Report.ipynb
=======
     "execution_count": 74,
>>>>>>> parent of 70af6ae... Update Final_Project_Report.ipynb
=======
     "execution_count": 34,
>>>>>>> parent of cc528dc... Update Final_Project_Report.ipynb
     "metadata": {},
     "output_type": "execute_result"
    }
   ],
   "source": [
    "dfTotalTop10LByContinentByCountry = pd.DataFrame(dfTopTenLeastPopularPeople.groupby(['continent', 'country','sex'])['article_id'].count())\n",
    "dfTotalTop10LByContinentByCountry.rename(columns={'article_id': 'total_count'}, inplace=True)\n",
    "dfTotalTop10LByContinentByCountry"
   ]
  },
  {
   "cell_type": "code",
<<<<<<< HEAD
<<<<<<< HEAD
<<<<<<< HEAD
<<<<<<< HEAD
<<<<<<< HEAD
<<<<<<< HEAD
   "execution_count": 658,
=======
   "execution_count": 531,
>>>>>>> parent of 675401e... Update Final_Project_Report.ipynb
=======
   "execution_count": 531,
>>>>>>> parent of 675401e... Update Final_Project_Report.ipynb
=======
   "execution_count": 26,
>>>>>>> parent of abcf7ff... Update Final_Project_Report.ipynb
=======
   "execution_count": 587,
>>>>>>> parent of 7289307... Update Final_Project_Report.ipynb
=======
   "execution_count": 76,
>>>>>>> parent of 70af6ae... Update Final_Project_Report.ipynb
=======
   "execution_count": 35,
>>>>>>> parent of cc528dc... Update Final_Project_Report.ipynb
   "metadata": {},
   "outputs": [
    {
     "data": {
<<<<<<< HEAD
      "text/html": "<div>\n<style scoped>\n    .dataframe tbody tr th:only-of-type {\n        vertical-align: middle;\n    }\n\n    .dataframe tbody tr th {\n        vertical-align: top;\n    }\n\n    .dataframe thead th {\n        text-align: right;\n    }\n</style>\n<table border=\"1\" class=\"dataframe\">\n  <thead>\n    <tr style=\"text-align: right;\">\n      <th></th>\n      <th></th>\n      <th>total_count</th>\n    </tr>\n    <tr>\n      <th>continent</th>\n      <th>country</th>\n      <th></th>\n    </tr>\n  </thead>\n  <tbody>\n    <tr>\n      <th>North America</th>\n      <th>United States</th>\n      <td>2168</td>\n    </tr>\n    <tr>\n      <th rowspan=\"4\" valign=\"top\">Europe</th>\n      <th>United Kingdom</th>\n      <td>1145</td>\n    </tr>\n    <tr>\n      <th>France</th>\n      <td>866</td>\n    </tr>\n    <tr>\n      <th>Italy</th>\n      <td>808</td>\n    </tr>\n    <tr>\n      <th>Germany</th>\n      <td>747</td>\n    </tr>\n    <tr>\n      <th>Unknown</th>\n      <th>Unknown</th>\n      <td>405</td>\n    </tr>\n    <tr>\n      <th rowspan=\"2\" valign=\"top\">Europe</th>\n      <th>Russia</th>\n      <td>374</td>\n    </tr>\n    <tr>\n      <th>Spain</th>\n      <td>296</td>\n    </tr>\n    <tr>\n      <th>Asia</th>\n      <th>Turkey</th>\n      <td>202</td>\n    </tr>\n    <tr>\n      <th>Europe</th>\n      <th>Poland</th>\n      <td>173</td>\n    </tr>\n  </tbody>\n</table>\n</div>",
      "text/plain": "                              total_count\ncontinent     country                    \nNorth America United States          2168\nEurope        United Kingdom         1145\n              France                  866\n              Italy                   808\n              Germany                 747\nUnknown       Unknown                 405\nEurope        Russia                  374\n              Spain                   296\nAsia          Turkey                  202\nEurope        Poland                  173"
     },
<<<<<<< HEAD
<<<<<<< HEAD
<<<<<<< HEAD
<<<<<<< HEAD
<<<<<<< HEAD
     "execution_count": 658,
=======
     "execution_count": 531,
>>>>>>> parent of 675401e... Update Final_Project_Report.ipynb
=======
     "execution_count": 531,
>>>>>>> parent of 675401e... Update Final_Project_Report.ipynb
=======
     "execution_count": 26,
>>>>>>> parent of abcf7ff... Update Final_Project_Report.ipynb
=======
     "execution_count": 587,
>>>>>>> parent of 7289307... Update Final_Project_Report.ipynb
=======
     "execution_count": 76,
>>>>>>> parent of 70af6ae... Update Final_Project_Report.ipynb
=======
      "text/html": "<div>\n<style scoped>\n    .dataframe tbody tr th:only-of-type {\n        vertical-align: middle;\n    }\n\n    .dataframe tbody tr th {\n        vertical-align: top;\n    }\n\n    .dataframe thead th {\n        text-align: right;\n    }\n</style>\n<table border=\"1\" class=\"dataframe\">\n  <thead>\n    <tr style=\"text-align: right;\">\n      <th></th>\n      <th></th>\n      <th>total_count</th>\n    </tr>\n    <tr>\n      <th>industry</th>\n      <th>occupation</th>\n      <th></th>\n    </tr>\n  </thead>\n  <tbody>\n    <tr>\n      <th>Government</th>\n      <th>Politician</th>\n      <td>2530</td>\n    </tr>\n    <tr>\n      <th>Film And Theatre</th>\n      <th>Actor</th>\n      <td>1193</td>\n    </tr>\n    <tr>\n      <th>Team Sports</th>\n      <th>Soccer Player</th>\n      <td>1064</td>\n    </tr>\n    <tr>\n      <th>Language</th>\n      <th>Writer</th>\n      <td>954</td>\n    </tr>\n    <tr>\n      <th>Religion</th>\n      <th>Religious Figure</th>\n      <td>518</td>\n    </tr>\n    <tr>\n      <th rowspan=\"2\" valign=\"top\">Music</th>\n      <th>Singer</th>\n      <td>437</td>\n    </tr>\n    <tr>\n      <th>Musician</th>\n      <td>381</td>\n    </tr>\n    <tr>\n      <th>Philosophy</th>\n      <th>Philosopher</th>\n      <td>281</td>\n    </tr>\n    <tr>\n      <th>Natural Sciences</th>\n      <th>Physicist</th>\n      <td>268</td>\n    </tr>\n    <tr>\n      <th>Music</th>\n      <th>Composer</th>\n      <td>225</td>\n    </tr>\n    <tr>\n      <th>Military</th>\n      <th>Military Personnel</th>\n      <td>224</td>\n    </tr>\n    <tr>\n      <th>Natural Sciences</th>\n      <th>Chemist</th>\n      <td>220</td>\n    </tr>\n    <tr>\n      <th>Fine Arts</th>\n      <th>Painter</th>\n      <td>178</td>\n    </tr>\n    <tr>\n      <th>Film And Theatre</th>\n      <th>Film Director</th>\n      <td>177</td>\n    </tr>\n    <tr>\n      <th>Individual Sports</th>\n      <th>Tennis Player</th>\n      <td>161</td>\n    </tr>\n    <tr>\n      <th>Math</th>\n      <th>Mathematician</th>\n      <td>157</td>\n    </tr>\n    <tr>\n      <th>Medicine</th>\n      <th>Physician</th>\n      <td>142</td>\n    </tr>\n    <tr>\n      <th>Natural Sciences</th>\n      <th>Biologist</th>\n      <td>141</td>\n    </tr>\n    <tr>\n      <th>Government</th>\n      <th>Nobleman</th>\n      <td>116</td>\n    </tr>\n    <tr>\n      <th>Activism</th>\n      <th>Social Activist</th>\n      <td>114</td>\n    </tr>\n  </tbody>\n</table>\n</div>",
      "text/plain": "                                      total_count\nindustry          occupation                     \nGovernment        Politician                 2530\nFilm And Theatre  Actor                      1193\nTeam Sports       Soccer Player              1064\nLanguage          Writer                      954\nReligion          Religious Figure            518\nMusic             Singer                      437\n                  Musician                    381\nPhilosophy        Philosopher                 281\nNatural Sciences  Physicist                   268\nMusic             Composer                    225\nMilitary          Military Personnel          224\nNatural Sciences  Chemist                     220\nFine Arts         Painter                     178\nFilm And Theatre  Film Director               177\nIndividual Sports Tennis Player               161\nMath              Mathematician               157\nMedicine          Physician                   142\nNatural Sciences  Biologist                   141\nGovernment        Nobleman                    116\nActivism          Social Activist             114"
     },
     "execution_count": 35,
>>>>>>> parent of cc528dc... Update Final_Project_Report.ipynb
     "metadata": {},
     "output_type": "execute_result"
    }
   ],
   "source": [
<<<<<<< HEAD
=======
    "# Getting the count by country, occupation, industry, and domain\n",
    "dfTotalByCountryByIndustry = pd.DataFrame(dfCleanData.groupby(['industry','occupation'])['article_id'].count())\n",
    "# Renaming the default column name the dataframe created to a meaningfull name\n",
    "dfTotalByCountryByIndustry.rename(columns={'article_id': 'total_count'}, inplace=True)\n",
    "dfTotalByCountryByIndustry.sort_values(by = ['total_count'], ascending = False).head(20)"
   ]
  },
  {
   "cell_type": "code",
   "execution_count": 36,
   "metadata": {},
   "outputs": [
    {
     "data": {
      "text/html": "<div>\n<style scoped>\n    .dataframe tbody tr th:only-of-type {\n        vertical-align: middle;\n    }\n\n    .dataframe tbody tr th {\n        vertical-align: top;\n    }\n\n    .dataframe thead th {\n        text-align: right;\n    }\n</style>\n<table border=\"1\" class=\"dataframe\">\n  <thead>\n    <tr style=\"text-align: right;\">\n      <th></th>\n      <th></th>\n      <th>total_count</th>\n    </tr>\n    <tr>\n      <th>continent</th>\n      <th>country</th>\n      <th></th>\n    </tr>\n  </thead>\n  <tbody>\n    <tr>\n      <th>North America</th>\n      <th>United States</th>\n      <td>2168</td>\n    </tr>\n    <tr>\n      <th rowspan=\"4\" valign=\"top\">Europe</th>\n      <th>United Kingdom</th>\n      <td>1145</td>\n    </tr>\n    <tr>\n      <th>France</th>\n      <td>866</td>\n    </tr>\n    <tr>\n      <th>Italy</th>\n      <td>808</td>\n    </tr>\n    <tr>\n      <th>Germany</th>\n      <td>747</td>\n    </tr>\n    <tr>\n      <th>Unknown</th>\n      <th>Unknown</th>\n      <td>405</td>\n    </tr>\n    <tr>\n      <th rowspan=\"2\" valign=\"top\">Europe</th>\n      <th>Russia</th>\n      <td>374</td>\n    </tr>\n    <tr>\n      <th>Spain</th>\n      <td>296</td>\n    </tr>\n    <tr>\n      <th>Asia</th>\n      <th>Turkey</th>\n      <td>202</td>\n    </tr>\n    <tr>\n      <th>Europe</th>\n      <th>Poland</th>\n      <td>173</td>\n    </tr>\n  </tbody>\n</table>\n</div>",
      "text/plain": "                              total_count\ncontinent     country                    \nNorth America United States          2168\nEurope        United Kingdom         1145\n              France                  866\n              Italy                   808\n              Germany                 747\nUnknown       Unknown                 405\nEurope        Russia                  374\n              Spain                   296\nAsia          Turkey                  202\nEurope        Poland                  173"
     },
     "execution_count": 36,
     "metadata": {},
     "output_type": "execute_result"
    }
   ],
   "source": [
>>>>>>> parent of cc528dc... Update Final_Project_Report.ipynb
    "# Getting the count by countinent and by country\n",
    "dfTotalByContinentByCountry = pd.DataFrame(dfCleanData.groupby(['continent', 'country'])['article_id'].count())\n",
    "# Renaming the default column name the dataframe created to a meaningfull name\n",
    "dfTotalByContinentByCountry.rename(columns={'article_id': 'total_count'}, inplace=True)\n",
    "dfTotalByContinentByCountry.sort_values(by = ['total_count'], ascending = False).head(10)"
   ]
  },
  {
   "cell_type": "code",
<<<<<<< HEAD
<<<<<<< HEAD
<<<<<<< HEAD
<<<<<<< HEAD
<<<<<<< HEAD
<<<<<<< HEAD
   "execution_count": 659,
=======
   "execution_count": 532,
>>>>>>> parent of 675401e... Update Final_Project_Report.ipynb
=======
   "execution_count": 532,
>>>>>>> parent of 675401e... Update Final_Project_Report.ipynb
=======
   "execution_count": 27,
>>>>>>> parent of abcf7ff... Update Final_Project_Report.ipynb
=======
   "execution_count": 588,
>>>>>>> parent of 7289307... Update Final_Project_Report.ipynb
=======
   "execution_count": 77,
>>>>>>> parent of 70af6ae... Update Final_Project_Report.ipynb
=======
   "execution_count": 38,
>>>>>>> parent of cc528dc... Update Final_Project_Report.ipynb
   "metadata": {},
   "outputs": [
    {
     "data": {
<<<<<<< HEAD
      "text/html": "<div>\n<style scoped>\n    .dataframe tbody tr th:only-of-type {\n        vertical-align: middle;\n    }\n\n    .dataframe tbody tr th {\n        vertical-align: top;\n    }\n\n    .dataframe thead th {\n        text-align: right;\n    }\n</style>\n<table border=\"1\" class=\"dataframe\">\n  <thead>\n    <tr style=\"text-align: right;\">\n      <th></th>\n      <th>total_count</th>\n    </tr>\n    <tr>\n      <th>continent</th>\n      <th></th>\n    </tr>\n  </thead>\n  <tbody>\n    <tr>\n      <th>Europe</th>\n      <td>6368</td>\n    </tr>\n    <tr>\n      <th>North America</th>\n      <td>2439</td>\n    </tr>\n    <tr>\n      <th>Asia</th>\n      <td>1188</td>\n    </tr>\n    <tr>\n      <th>Africa</th>\n      <td>419</td>\n    </tr>\n    <tr>\n      <th>Unknown</th>\n      <td>408</td>\n    </tr>\n    <tr>\n      <th>South America</th>\n      <td>366</td>\n    </tr>\n    <tr>\n      <th>Oceania</th>\n      <td>123</td>\n    </tr>\n    <tr>\n      <th>NA</th>\n      <td>30</td>\n    </tr>\n  </tbody>\n</table>\n</div>",
      "text/plain": "               total_count\ncontinent                 \nEurope                6368\nNorth America         2439\nAsia                  1188\nAfrica                 419\nUnknown                408\nSouth America          366\nOceania                123\nNA                      30"
     },
<<<<<<< HEAD
<<<<<<< HEAD
<<<<<<< HEAD
<<<<<<< HEAD
<<<<<<< HEAD
     "execution_count": 659,
=======
     "execution_count": 532,
>>>>>>> parent of 675401e... Update Final_Project_Report.ipynb
=======
     "execution_count": 532,
>>>>>>> parent of 675401e... Update Final_Project_Report.ipynb
=======
     "execution_count": 27,
>>>>>>> parent of abcf7ff... Update Final_Project_Report.ipynb
=======
     "execution_count": 588,
>>>>>>> parent of 7289307... Update Final_Project_Report.ipynb
=======
     "execution_count": 77,
>>>>>>> parent of 70af6ae... Update Final_Project_Report.ipynb
=======
      "text/html": "<div>\n<style scoped>\n    .dataframe tbody tr th:only-of-type {\n        vertical-align: middle;\n    }\n\n    .dataframe tbody tr th {\n        vertical-align: top;\n    }\n\n    .dataframe thead th {\n        text-align: right;\n    }\n</style>\n<table border=\"1\" class=\"dataframe\">\n  <thead>\n    <tr style=\"text-align: right;\">\n      <th></th>\n      <th>total_count</th>\n    </tr>\n    <tr>\n      <th>continent</th>\n      <th></th>\n    </tr>\n  </thead>\n  <tbody>\n    <tr>\n      <th>Europe</th>\n      <td>6368</td>\n    </tr>\n    <tr>\n      <th>North America</th>\n      <td>2439</td>\n    </tr>\n    <tr>\n      <th>Asia</th>\n      <td>1188</td>\n    </tr>\n    <tr>\n      <th>Africa</th>\n      <td>419</td>\n    </tr>\n    <tr>\n      <th>Unknown</th>\n      <td>408</td>\n    </tr>\n    <tr>\n      <th>South America</th>\n      <td>366</td>\n    </tr>\n    <tr>\n      <th>Oceania</th>\n      <td>123</td>\n    </tr>\n  </tbody>\n</table>\n</div>",
      "text/plain": "               total_count\ncontinent                 \nEurope                6368\nNorth America         2439\nAsia                  1188\nAfrica                 419\nUnknown                408\nSouth America          366\nOceania                123"
     },
     "execution_count": 38,
>>>>>>> parent of cc528dc... Update Final_Project_Report.ipynb
     "metadata": {},
     "output_type": "execute_result"
    }
   ],
   "source": [
    "# Getting the count by countinent\n",
    "dfTotalByContinent = pd.DataFrame(dfCleanData.groupby(['continent'])['article_id'].count())\n",
    "# Renaming the default column name the dataframe created to a meaningfull name\n",
    "dfTotalByContinent.rename(columns={'article_id': 'total_count'}, inplace=True)\n",
    "dfTotalByContinent.sort_values(by = ['total_count'], ascending = False)"
   ]
  },
  {
   "cell_type": "markdown",
   "metadata": {},
   "source": [
    "## Modeling"
   ]
  },
  {
   "cell_type": "markdown",
   "metadata": {},
   "source": [
    "# Results"
   ]
  },
  {
   "cell_type": "markdown",
   "metadata": {},
   "source": [
    "# Conclusion"
   ]
  },
  {
   "cell_type": "code",
   "execution_count": null,
   "metadata": {},
   "outputs": [],
   "source": []
  }
 ],
 "metadata": {
  "file_extension": ".py",
  "kernelspec": {
   "display_name": "Python 3",
   "language": "python",
   "name": "python3"
  },
  "language_info": {
   "codemirror_mode": {
    "name": "ipython",
    "version": 3
   },
   "file_extension": ".py",
   "mimetype": "text/x-python",
   "name": "python",
   "nbconvert_exporter": "python",
   "pygments_lexer": "ipython3",
   "version": "3.7.3"
  },
  "mimetype": "text/x-python",
  "name": "python",
  "npconvert_exporter": "python",
  "pygments_lexer": "ipython3",
  "version": 3
 },
 "nbformat": 4,
 "nbformat_minor": 2
}
=======






<!DOCTYPE html>
<html lang="en">
  <head>
    <meta charset="utf-8">
  <link rel="dns-prefetch" href="https://github.githubassets.com">
  <link rel="dns-prefetch" href="https://avatars0.githubusercontent.com">
  <link rel="dns-prefetch" href="https://avatars1.githubusercontent.com">
  <link rel="dns-prefetch" href="https://avatars2.githubusercontent.com">
  <link rel="dns-prefetch" href="https://avatars3.githubusercontent.com">
  <link rel="dns-prefetch" href="https://github-cloud.s3.amazonaws.com">
  <link rel="dns-prefetch" href="https://user-images.githubusercontent.com/">



  <link crossorigin="anonymous" media="all" integrity="sha512-/YEVWs7BzxfKyUd6zVxjEQcXRWsLbcEjv045Rq8DSoipySmQblhVKxlXLva2GtNd5DhwCxHwW1RM0N9I7S2Vew==" rel="stylesheet" href="https://github.githubassets.com/assets/frameworks-481a47a96965f6706fb41bae0d14b09a.css" />
  
    <link crossorigin="anonymous" media="all" integrity="sha512-HPzq1ntuFLYWGApvLUWVagFsbMi1Bra6rIY6dEZbjNrYPKw28j1xOeZpIGMhDk9ZCtGSSLyANXQrlEhSB/BTvg==" rel="stylesheet" href="https://github.githubassets.com/assets/github-37b7adf25deb44a3a596fd93485a0f85.css" />
    
    
    
    


  <meta name="viewport" content="width=device-width">
  
  <title>ist652-final_project/Final_Project_Report.ipynb at ecc04d200a3fafd6f250f9ef866d7b07ee2106e8 · tbahng/ist652-final_project</title>
    <meta name="description" content="Scripting for Data Analysis. Contribute to tbahng/ist652-final_project development by creating an account on GitHub.">
    <link rel="search" type="application/opensearchdescription+xml" href="/opensearch.xml" title="GitHub">
  <link rel="fluid-icon" href="https://github.com/fluidicon.png" title="GitHub">
  <meta property="fb:app_id" content="1401488693436528">

    <meta name="twitter:image:src" content="https://avatars3.githubusercontent.com/u/51860448?s=400&amp;v=4" /><meta name="twitter:site" content="@github" /><meta name="twitter:card" content="summary" /><meta name="twitter:title" content="tbahng/ist652-final_project" /><meta name="twitter:description" content="Scripting for Data Analysis. Contribute to tbahng/ist652-final_project development by creating an account on GitHub." />
    <meta property="og:image" content="https://avatars3.githubusercontent.com/u/51860448?s=400&amp;v=4" /><meta property="og:site_name" content="GitHub" /><meta property="og:type" content="object" /><meta property="og:title" content="tbahng/ist652-final_project" /><meta property="og:url" content="https://github.com/tbahng/ist652-final_project" /><meta property="og:description" content="Scripting for Data Analysis. Contribute to tbahng/ist652-final_project development by creating an account on GitHub." />

  <link rel="assets" href="https://github.githubassets.com/">
  <link rel="web-socket" href="wss://live.github.com/_sockets/VjI6NDY2MTQ5NDY5OjI3MDFmNDMwMTAxODY0NDQ2NDgwMzk3NzYyZDNmYTE5OTExM2MyODY1NDRmMDE0ODBhNTlmMmQ1NzkxMmNkMDQ=--75e6dd32cf5642f2b74db402aa31410c8e705bab">
  <link rel="sudo-modal" href="/sessions/sudo_modal">

    <meta name="request-id" content="D2A7:5E71:9D00D2:A18314:5DE885AC" data-pjax-transient>


  

  <meta name="selected-link" value="repo_source" data-pjax-transient>

      <meta name="google-site-verification" content="KT5gs8h0wvaagLKAVWq8bbeNwnZZK1r1XQysX3xurLU">
    <meta name="google-site-verification" content="ZzhVyEFwb7w3e0-uOTltm8Jsck2F5StVihD0exw2fsA">
    <meta name="google-site-verification" content="GXs5KoUUkNCoaAZn7wPN-t01Pywp9M3sEjnt_3_ZWPc">

    <meta name="octolytics-host" content="collector.githubapp.com" /><meta name="octolytics-app-id" content="github" /><meta name="octolytics-event-url" content="https://collector.githubapp.com/github-external/browser_event" /><meta name="octolytics-dimension-request_id" content="D2A7:5E71:9D00D2:A18314:5DE885AC" /><meta name="octolytics-dimension-region_edge" content="sea" /><meta name="octolytics-dimension-region_render" content="iad" /><meta name="octolytics-dimension-ga_id" content="" class="js-octo-ga-id" /><meta name="octolytics-dimension-visitor_id" content="7059413557304573086" /><meta name="octolytics-actor-id" content="51860448" /><meta name="octolytics-actor-login" content="tbahng" /><meta name="octolytics-actor-hash" content="183f5664f876a31d2e310369be615a6714f276c60533d259b5c5bddb6bd774ff" />

<meta name="analytics-location" content="/&lt;user-name&gt;/&lt;repo-name&gt;/blob/show" data-pjax-transient="true" />



    <meta name="google-analytics" content="UA-3769691-2">

  <meta class="js-ga-set" name="userId" content="3b4c977e4efc5880f7d999bd61661c52">

<meta class="js-ga-set" name="dimension1" content="Logged In">



  

      <meta name="hostname" content="github.com">
    <meta name="user-login" content="tbahng">

      <meta name="expected-hostname" content="github.com">

      <meta name="js-proxy-site-detection-payload" content="ZmI5NzhhMmU1MDA2MTBjMDViOTQwMTIxZGZlMGIwM2FmM2Y0NTQ4ZWYxMGIyOTU5OTUzNDY3ZDRiM2EzOTExYnx7InJlbW90ZV9hZGRyZXNzIjoiNTAuNDYuMjE3LjIzIiwicmVxdWVzdF9pZCI6IkQyQTc6NUU3MTo5RDAwRDI6QTE4MzE0OjVERTg4NUFDIiwidGltZXN0YW1wIjoxNTc1NTE5NjY2LCJob3N0IjoiZ2l0aHViLmNvbSJ9">

    <meta name="enabled-features" content="LAUNCH_PROJECT,MARKETPLACE_FEATURED_BLOG_POSTS,MARKETPLACE_INVOICED_BILLING,MARKETPLACE_SOCIAL_PROOF_CUSTOMERS,MARKETPLACE_TRENDING_SOCIAL_PROOF,MARKETPLACE_RECOMMENDATIONS,MARKETPLACE_PENDING_INSTALLATIONS,NOTIFY_ON_BLOCK,RELATED_ISSUES,GHE_CLOUD_TRIAL">

    <meta name="html-safe-nonce" content="dcbacb2ba9aa97b11f32a5f67a5e3614bb73266e">

  <meta http-equiv="x-pjax-version" content="d659517167ab77c7d78e4523f5dea994">
  

      <link href="https://github.com/tbahng/ist652-final_project/commits/ecc04d200a3fafd6f250f9ef866d7b07ee2106e8.atom?token=AMLVHYEWUPUBA7IU53X6Z3536W4DE" rel="alternate" title="Recent Commits to ist652-final_project:ecc04d200a3fafd6f250f9ef866d7b07ee2106e8" type="application/atom+xml">

  <meta name="go-import" content="github.com/tbahng/ist652-final_project git https://github.com/tbahng/ist652-final_project.git">

  <meta name="octolytics-dimension-user_id" content="51860448" /><meta name="octolytics-dimension-user_login" content="tbahng" /><meta name="octolytics-dimension-repository_id" content="223665382" /><meta name="octolytics-dimension-repository_nwo" content="tbahng/ist652-final_project" /><meta name="octolytics-dimension-repository_public" content="false" /><meta name="octolytics-dimension-repository_is_fork" content="false" /><meta name="octolytics-dimension-repository_network_root_id" content="223665382" /><meta name="octolytics-dimension-repository_network_root_nwo" content="tbahng/ist652-final_project" /><meta name="octolytics-dimension-repository_explore_github_marketplace_ci_cta_shown" content="true" />


    <link rel="canonical" href="https://github.com/tbahng/ist652-final_project/blob/ecc04d200a3fafd6f250f9ef866d7b07ee2106e8/Final_Project_Report.ipynb" data-pjax-transient>


  <meta name="browser-stats-url" content="https://api.github.com/_private/browser/stats">

  <meta name="browser-errors-url" content="https://api.github.com/_private/browser/errors">

  <link rel="mask-icon" href="https://github.githubassets.com/pinned-octocat.svg" color="#000000">
  <link rel="icon" type="image/x-icon" class="js-site-favicon" href="https://github.githubassets.com/favicon.ico">

<meta name="theme-color" content="#1e2327">



  <meta name="webauthn-auth-enabled" content="true">

  <meta name="webauthn-registration-enabled" content="true">

  <link rel="manifest" href="/manifest.json" crossOrigin="use-credentials">

  </head>

  <body class="logged-in env-production page-responsive page-blob">
    

  <div class="position-relative js-header-wrapper ">
    <a href="#start-of-content" tabindex="1" class="p-3 bg-blue text-white show-on-focus js-skip-to-content">Skip to content</a>
    <span class="Progress progress-pjax-loader position-fixed width-full js-pjax-loader-bar">
      <span class="progress-pjax-loader-bar top-0 left-0" style="width: 0%;"></span>
    </span>

    
    
    


          <header class="Header js-details-container Details flex-wrap flex-lg-nowrap p-responsive" role="banner">

    <div class="Header-item d-none d-lg-flex">
      <a class="Header-link" href="https://github.com/" data-hotkey="g d" aria-label="Homepage" data-ga-click="Header, go to dashboard, icon:logo">
  <svg class="octicon octicon-mark-github v-align-middle" height="32" viewBox="0 0 16 16" version="1.1" width="32" aria-hidden="true"><path fill-rule="evenodd" d="M8 0C3.58 0 0 3.58 0 8c0 3.54 2.29 6.53 5.47 7.59.4.07.55-.17.55-.38 0-.19-.01-.82-.01-1.49-2.01.37-2.53-.49-2.69-.94-.09-.23-.48-.94-.82-1.13-.28-.15-.68-.52-.01-.53.63-.01 1.08.58 1.23.82.72 1.21 1.87.87 2.33.66.07-.52.28-.87.51-1.07-1.78-.2-3.64-.89-3.64-3.95 0-.87.31-1.59.82-2.15-.08-.2-.36-1.02.08-2.12 0 0 .67-.21 2.2.82.64-.18 1.32-.27 2-.27.68 0 1.36.09 2 .27 1.53-1.04 2.2-.82 2.2-.82.44 1.1.16 1.92.08 2.12.51.56.82 1.27.82 2.15 0 3.07-1.87 3.75-3.65 3.95.29.25.54.73.54 1.48 0 1.07-.01 1.93-.01 2.2 0 .21.15.46.55.38A8.013 8.013 0 0016 8c0-4.42-3.58-8-8-8z"/></svg>
</a>

    </div>

    <div class="Header-item d-lg-none">
      <button class="Header-link btn-link js-details-target" type="button" aria-label="Toggle navigation" aria-expanded="false">
        <svg height="24" class="octicon octicon-three-bars" viewBox="0 0 12 16" version="1.1" width="18" aria-hidden="true"><path fill-rule="evenodd" d="M11.41 9H.59C0 9 0 8.59 0 8c0-.59 0-1 .59-1H11.4c.59 0 .59.41.59 1 0 .59 0 1-.59 1h.01zm0-4H.59C0 5 0 4.59 0 4c0-.59 0-1 .59-1H11.4c.59 0 .59.41.59 1 0 .59 0 1-.59 1h.01zM.59 11H11.4c.59 0 .59.41.59 1 0 .59 0 1-.59 1H.59C0 13 0 12.59 0 12c0-.59 0-1 .59-1z"/></svg>
      </button>
    </div>

    <div class="Header-item Header-item--full flex-column flex-lg-row width-full flex-order-2 flex-lg-order-none mr-0 mr-lg-3 mt-3 mt-lg-0 Details-content--hidden">
        <div class="header-search flex-self-stretch flex-lg-self-auto mr-0 mr-lg-3 mb-3 mb-lg-0 scoped-search site-scoped-search js-site-search position-relative js-jump-to"
  role="combobox"
  aria-owns="jump-to-results"
  aria-label="Search or jump to"
  aria-haspopup="listbox"
  aria-expanded="false"
>
  <div class="position-relative">
    <!-- '"` --><!-- </textarea></xmp> --></option></form><form class="js-site-search-form" role="search" aria-label="Site" data-scope-type="Repository" data-scope-id="223665382" data-scoped-search-url="/tbahng/ist652-final_project/search" data-unscoped-search-url="/search" action="/tbahng/ist652-final_project/search" accept-charset="UTF-8" method="get"><input name="utf8" type="hidden" value="&#x2713;" />
      <label class="form-control input-sm header-search-wrapper p-0 header-search-wrapper-jump-to position-relative d-flex flex-justify-between flex-items-center js-chromeless-input-container">
        <input type="text"
          class="form-control input-sm header-search-input jump-to-field js-jump-to-field js-site-search-focus js-site-search-field is-clearable"
          data-hotkey="s,/"
          name="q"
          value=""
          placeholder="Search or jump to…"
          data-unscoped-placeholder="Search or jump to…"
          data-scoped-placeholder="Search or jump to…"
          autocapitalize="off"
          aria-autocomplete="list"
          aria-controls="jump-to-results"
          aria-label="Search or jump to…"
          data-jump-to-suggestions-path="/_graphql/GetSuggestedNavigationDestinations#csrf-token=WSVgYuLIwozyNP74y80pJtruNjS2bVPnEGS9Rbd4nPRo6odorw/um6ErFVvH8z+8RdxEJfPyIYkV8NoPrhD2SQ=="
          spellcheck="false"
          autocomplete="off"
          >
          <input type="hidden" class="js-site-search-type-field" name="type" >
            <img src="https://github.githubassets.com/images/search-key-slash.svg" alt="" class="mr-2 header-search-key-slash">

            <div class="Box position-absolute overflow-hidden d-none jump-to-suggestions js-jump-to-suggestions-container">
              
<ul class="d-none js-jump-to-suggestions-template-container">
  

<li class="d-flex flex-justify-start flex-items-center p-0 f5 navigation-item js-navigation-item js-jump-to-suggestion" role="option">
  <a tabindex="-1" class="no-underline d-flex flex-auto flex-items-center jump-to-suggestions-path js-jump-to-suggestion-path js-navigation-open p-2" href="">
    <div class="jump-to-octicon js-jump-to-octicon flex-shrink-0 mr-2 text-center d-none">
      <svg height="16" width="16" class="octicon octicon-repo flex-shrink-0 js-jump-to-octicon-repo d-none" title="Repository" aria-label="Repository" viewBox="0 0 12 16" version="1.1" role="img"><path fill-rule="evenodd" d="M4 9H3V8h1v1zm0-3H3v1h1V6zm0-2H3v1h1V4zm0-2H3v1h1V2zm8-1v12c0 .55-.45 1-1 1H6v2l-1.5-1.5L3 16v-2H1c-.55 0-1-.45-1-1V1c0-.55.45-1 1-1h10c.55 0 1 .45 1 1zm-1 10H1v2h2v-1h3v1h5v-2zm0-10H2v9h9V1z"/></svg>
      <svg height="16" width="16" class="octicon octicon-project flex-shrink-0 js-jump-to-octicon-project d-none" title="Project" aria-label="Project" viewBox="0 0 15 16" version="1.1" role="img"><path fill-rule="evenodd" d="M10 12h3V2h-3v10zm-4-2h3V2H6v8zm-4 4h3V2H2v12zm-1 1h13V1H1v14zM14 0H1a1 1 0 00-1 1v14a1 1 0 001 1h13a1 1 0 001-1V1a1 1 0 00-1-1z"/></svg>
      <svg height="16" width="16" class="octicon octicon-search flex-shrink-0 js-jump-to-octicon-search d-none" title="Search" aria-label="Search" viewBox="0 0 16 16" version="1.1" role="img"><path fill-rule="evenodd" d="M15.7 13.3l-3.81-3.83A5.93 5.93 0 0013 6c0-3.31-2.69-6-6-6S1 2.69 1 6s2.69 6 6 6c1.3 0 2.48-.41 3.47-1.11l3.83 3.81c.19.2.45.3.7.3.25 0 .52-.09.7-.3a.996.996 0 000-1.41v.01zM7 10.7c-2.59 0-4.7-2.11-4.7-4.7 0-2.59 2.11-4.7 4.7-4.7 2.59 0 4.7 2.11 4.7 4.7 0 2.59-2.11 4.7-4.7 4.7z"/></svg>
    </div>

    <img class="avatar mr-2 flex-shrink-0 js-jump-to-suggestion-avatar d-none" alt="" aria-label="Team" src="" width="28" height="28">

    <div class="jump-to-suggestion-name js-jump-to-suggestion-name flex-auto overflow-hidden text-left no-wrap css-truncate css-truncate-target">
    </div>

    <div class="border rounded-1 flex-shrink-0 bg-gray px-1 text-gray-light ml-1 f6 d-none js-jump-to-badge-search">
      <span class="js-jump-to-badge-search-text-default d-none" aria-label="in this repository">
        In this repository
      </span>
      <span class="js-jump-to-badge-search-text-global d-none" aria-label="in all of GitHub">
        All GitHub
      </span>
      <span aria-hidden="true" class="d-inline-block ml-1 v-align-middle">↵</span>
    </div>

    <div aria-hidden="true" class="border rounded-1 flex-shrink-0 bg-gray px-1 text-gray-light ml-1 f6 d-none d-on-nav-focus js-jump-to-badge-jump">
      Jump to
      <span class="d-inline-block ml-1 v-align-middle">↵</span>
    </div>
  </a>
</li>

</ul>

<ul class="d-none js-jump-to-no-results-template-container">
  <li class="d-flex flex-justify-center flex-items-center f5 d-none js-jump-to-suggestion p-2">
    <span class="text-gray">No suggested jump to results</span>
  </li>
</ul>

<ul id="jump-to-results" role="listbox" class="p-0 m-0 js-navigation-container jump-to-suggestions-results-container js-jump-to-suggestions-results-container">
  

<li class="d-flex flex-justify-start flex-items-center p-0 f5 navigation-item js-navigation-item js-jump-to-scoped-search d-none" role="option">
  <a tabindex="-1" class="no-underline d-flex flex-auto flex-items-center jump-to-suggestions-path js-jump-to-suggestion-path js-navigation-open p-2" href="">
    <div class="jump-to-octicon js-jump-to-octicon flex-shrink-0 mr-2 text-center d-none">
      <svg height="16" width="16" class="octicon octicon-repo flex-shrink-0 js-jump-to-octicon-repo d-none" title="Repository" aria-label="Repository" viewBox="0 0 12 16" version="1.1" role="img"><path fill-rule="evenodd" d="M4 9H3V8h1v1zm0-3H3v1h1V6zm0-2H3v1h1V4zm0-2H3v1h1V2zm8-1v12c0 .55-.45 1-1 1H6v2l-1.5-1.5L3 16v-2H1c-.55 0-1-.45-1-1V1c0-.55.45-1 1-1h10c.55 0 1 .45 1 1zm-1 10H1v2h2v-1h3v1h5v-2zm0-10H2v9h9V1z"/></svg>
      <svg height="16" width="16" class="octicon octicon-project flex-shrink-0 js-jump-to-octicon-project d-none" title="Project" aria-label="Project" viewBox="0 0 15 16" version="1.1" role="img"><path fill-rule="evenodd" d="M10 12h3V2h-3v10zm-4-2h3V2H6v8zm-4 4h3V2H2v12zm-1 1h13V1H1v14zM14 0H1a1 1 0 00-1 1v14a1 1 0 001 1h13a1 1 0 001-1V1a1 1 0 00-1-1z"/></svg>
      <svg height="16" width="16" class="octicon octicon-search flex-shrink-0 js-jump-to-octicon-search d-none" title="Search" aria-label="Search" viewBox="0 0 16 16" version="1.1" role="img"><path fill-rule="evenodd" d="M15.7 13.3l-3.81-3.83A5.93 5.93 0 0013 6c0-3.31-2.69-6-6-6S1 2.69 1 6s2.69 6 6 6c1.3 0 2.48-.41 3.47-1.11l3.83 3.81c.19.2.45.3.7.3.25 0 .52-.09.7-.3a.996.996 0 000-1.41v.01zM7 10.7c-2.59 0-4.7-2.11-4.7-4.7 0-2.59 2.11-4.7 4.7-4.7 2.59 0 4.7 2.11 4.7 4.7 0 2.59-2.11 4.7-4.7 4.7z"/></svg>
    </div>

    <img class="avatar mr-2 flex-shrink-0 js-jump-to-suggestion-avatar d-none" alt="" aria-label="Team" src="" width="28" height="28">

    <div class="jump-to-suggestion-name js-jump-to-suggestion-name flex-auto overflow-hidden text-left no-wrap css-truncate css-truncate-target">
    </div>

    <div class="border rounded-1 flex-shrink-0 bg-gray px-1 text-gray-light ml-1 f6 d-none js-jump-to-badge-search">
      <span class="js-jump-to-badge-search-text-default d-none" aria-label="in this repository">
        In this repository
      </span>
      <span class="js-jump-to-badge-search-text-global d-none" aria-label="in all of GitHub">
        All GitHub
      </span>
      <span aria-hidden="true" class="d-inline-block ml-1 v-align-middle">↵</span>
    </div>

    <div aria-hidden="true" class="border rounded-1 flex-shrink-0 bg-gray px-1 text-gray-light ml-1 f6 d-none d-on-nav-focus js-jump-to-badge-jump">
      Jump to
      <span class="d-inline-block ml-1 v-align-middle">↵</span>
    </div>
  </a>
</li>

  

<li class="d-flex flex-justify-start flex-items-center p-0 f5 navigation-item js-navigation-item js-jump-to-global-search d-none" role="option">
  <a tabindex="-1" class="no-underline d-flex flex-auto flex-items-center jump-to-suggestions-path js-jump-to-suggestion-path js-navigation-open p-2" href="">
    <div class="jump-to-octicon js-jump-to-octicon flex-shrink-0 mr-2 text-center d-none">
      <svg height="16" width="16" class="octicon octicon-repo flex-shrink-0 js-jump-to-octicon-repo d-none" title="Repository" aria-label="Repository" viewBox="0 0 12 16" version="1.1" role="img"><path fill-rule="evenodd" d="M4 9H3V8h1v1zm0-3H3v1h1V6zm0-2H3v1h1V4zm0-2H3v1h1V2zm8-1v12c0 .55-.45 1-1 1H6v2l-1.5-1.5L3 16v-2H1c-.55 0-1-.45-1-1V1c0-.55.45-1 1-1h10c.55 0 1 .45 1 1zm-1 10H1v2h2v-1h3v1h5v-2zm0-10H2v9h9V1z"/></svg>
      <svg height="16" width="16" class="octicon octicon-project flex-shrink-0 js-jump-to-octicon-project d-none" title="Project" aria-label="Project" viewBox="0 0 15 16" version="1.1" role="img"><path fill-rule="evenodd" d="M10 12h3V2h-3v10zm-4-2h3V2H6v8zm-4 4h3V2H2v12zm-1 1h13V1H1v14zM14 0H1a1 1 0 00-1 1v14a1 1 0 001 1h13a1 1 0 001-1V1a1 1 0 00-1-1z"/></svg>
      <svg height="16" width="16" class="octicon octicon-search flex-shrink-0 js-jump-to-octicon-search d-none" title="Search" aria-label="Search" viewBox="0 0 16 16" version="1.1" role="img"><path fill-rule="evenodd" d="M15.7 13.3l-3.81-3.83A5.93 5.93 0 0013 6c0-3.31-2.69-6-6-6S1 2.69 1 6s2.69 6 6 6c1.3 0 2.48-.41 3.47-1.11l3.83 3.81c.19.2.45.3.7.3.25 0 .52-.09.7-.3a.996.996 0 000-1.41v.01zM7 10.7c-2.59 0-4.7-2.11-4.7-4.7 0-2.59 2.11-4.7 4.7-4.7 2.59 0 4.7 2.11 4.7 4.7 0 2.59-2.11 4.7-4.7 4.7z"/></svg>
    </div>

    <img class="avatar mr-2 flex-shrink-0 js-jump-to-suggestion-avatar d-none" alt="" aria-label="Team" src="" width="28" height="28">

    <div class="jump-to-suggestion-name js-jump-to-suggestion-name flex-auto overflow-hidden text-left no-wrap css-truncate css-truncate-target">
    </div>

    <div class="border rounded-1 flex-shrink-0 bg-gray px-1 text-gray-light ml-1 f6 d-none js-jump-to-badge-search">
      <span class="js-jump-to-badge-search-text-default d-none" aria-label="in this repository">
        In this repository
      </span>
      <span class="js-jump-to-badge-search-text-global d-none" aria-label="in all of GitHub">
        All GitHub
      </span>
      <span aria-hidden="true" class="d-inline-block ml-1 v-align-middle">↵</span>
    </div>

    <div aria-hidden="true" class="border rounded-1 flex-shrink-0 bg-gray px-1 text-gray-light ml-1 f6 d-none d-on-nav-focus js-jump-to-badge-jump">
      Jump to
      <span class="d-inline-block ml-1 v-align-middle">↵</span>
    </div>
  </a>
</li>


    <li class="d-flex flex-justify-center flex-items-center p-0 f5 js-jump-to-suggestion">
      <img src="https://github.githubassets.com/images/spinners/octocat-spinner-128.gif" alt="Octocat Spinner Icon" class="m-2" width="28">
    </li>
</ul>

            </div>
      </label>
</form>  </div>
</div>


      <nav class="d-flex flex-column flex-lg-row flex-self-stretch flex-lg-self-auto" aria-label="Global">
    <a class="Header-link d-block d-lg-none py-2 py-lg-0 border-top border-lg-top-0 border-white-fade-15" data-ga-click="Header, click, Nav menu - item:dashboard:user" aria-label="Dashboard" href="/dashboard">
      Dashboard
</a>
  <a class="js-selected-navigation-item Header-link  mr-0 mr-lg-3 py-2 py-lg-0 border-top border-lg-top-0 border-white-fade-15" data-hotkey="g p" data-ga-click="Header, click, Nav menu - item:pulls context:user" aria-label="Pull requests you created" data-selected-links="/pulls /pulls/assigned /pulls/mentioned /pulls" href="/pulls">
    Pull requests
</a>
  <a class="js-selected-navigation-item Header-link  mr-0 mr-lg-3 py-2 py-lg-0 border-top border-lg-top-0 border-white-fade-15" data-hotkey="g i" data-ga-click="Header, click, Nav menu - item:issues context:user" aria-label="Issues you created" data-selected-links="/issues /issues/assigned /issues/mentioned /issues" href="/issues">
    Issues
</a>
    <div class="mr-0 mr-lg-3 py-2 py-lg-0 border-top border-lg-top-0 border-white-fade-15">
      <a class="js-selected-navigation-item Header-link" data-ga-click="Header, click, Nav menu - item:marketplace context:user" data-octo-click="marketplace_click" data-octo-dimensions="location:nav_bar" data-selected-links=" /marketplace" href="/marketplace">
        Marketplace
</a>      

    </div>

  <a class="js-selected-navigation-item Header-link  mr-0 mr-lg-3 py-2 py-lg-0 border-top border-lg-top-0 border-white-fade-15" data-ga-click="Header, click, Nav menu - item:explore" data-selected-links="/explore /trending /trending/developers /integrations /integrations/feature/code /integrations/feature/collaborate /integrations/feature/ship showcases showcases_search showcases_landing /explore" href="/explore">
    Explore
</a>


    <a class="Header-link d-block d-lg-none mr-0 mr-lg-3 py-2 py-lg-0 border-top border-lg-top-0 border-white-fade-15" href="https://github.com/tbahng">
      <img class="avatar" height="20" width="20" alt="@tbahng" src="https://avatars3.githubusercontent.com/u/51860448?s=60&amp;v=4" />
      tbahng
</a>
    <!-- '"` --><!-- </textarea></xmp> --></option></form><form action="/logout" accept-charset="UTF-8" method="post"><input name="utf8" type="hidden" value="&#x2713;" /><input type="hidden" name="authenticity_token" value="qp/c8978kgWyVbDfzOj4c5ZDb3X+13VIEOxMSa811dJtGSn4Jq/V7dRf8UNeLLavnwbdrmUafnuI/gA0gEob2Q==" />
      <button type="submit" class="Header-link mr-0 mr-lg-3 py-2 py-lg-0 border-top border-lg-top-0 border-white-fade-15 d-lg-none btn-link d-block width-full text-left" data-ga-click="Header, sign out, icon:logout" style="padding-left: 2px;">
        <svg class="octicon octicon-sign-out v-align-middle" viewBox="0 0 16 16" version="1.1" width="16" height="16" aria-hidden="true"><path fill-rule="evenodd" d="M12 9V7H8V5h4V3l4 3-4 3zm-2 3H6V3L2 1h8v3h1V1c0-.55-.45-1-1-1H1C.45 0 0 .45 0 1v11.38c0 .39.22.73.55.91L6 16.01V13h4c.55 0 1-.45 1-1V8h-1v4z"/></svg>
        Sign out
      </button>
</form></nav>

    </div>

    <div class="Header-item Header-item--full flex-justify-center d-lg-none position-relative">
      <div class="css-truncate css-truncate-target width-fit position-absolute left-0 right-0 text-center">
              <svg class="octicon octicon-lock" viewBox="0 0 12 16" version="1.1" width="12" height="16" aria-hidden="true"><path fill-rule="evenodd" d="M4 13H3v-1h1v1zm8-6v7c0 .55-.45 1-1 1H1c-.55 0-1-.45-1-1V7c0-.55.45-1 1-1h1V4c0-2.2 1.8-4 4-4s4 1.8 4 4v2h1c.55 0 1 .45 1 1zM3.8 6h4.41V4c0-1.22-.98-2.2-2.2-2.2-1.22 0-2.2.98-2.2 2.2v2H3.8zM11 7H2v7h9V7zM4 8H3v1h1V8zm0 2H3v1h1v-1z"/></svg>
    <a class="Header-link" href="/tbahng">tbahng</a>
    /
    <a class="Header-link" href="/tbahng/ist652-final_project">ist652-final_project</a>

</div>
    </div>


    <div class="Header-item mr-0 mr-lg-3 flex-order-1 flex-lg-order-none">
      

    <a aria-label="You have no unread notifications" class="Header-link notification-indicator position-relative tooltipped tooltipped-sw js-socket-channel js-notification-indicator" data-hotkey="g n" data-ga-click="Header, go to notifications, icon:read" data-channel="notification-changed:51860448" href="/notifications">
        <span class="mail-status "></span>
        <svg class="octicon octicon-bell" viewBox="0 0 14 16" version="1.1" width="14" height="16" aria-hidden="true"><path fill-rule="evenodd" d="M14 12v1H0v-1l.73-.58c.77-.77.81-2.55 1.19-4.42C2.69 3.23 6 2 6 2c0-.55.45-1 1-1s1 .45 1 1c0 0 3.39 1.23 4.16 5 .38 1.88.42 3.66 1.19 4.42l.66.58H14zm-7 4c1.11 0 2-.89 2-2H5c0 1.11.89 2 2 2z"/></svg>
</a>
    </div>


    <div class="Header-item position-relative d-none d-lg-flex">
      <details class="details-overlay details-reset">
  <summary class="Header-link"
      aria-label="Create new…"
      data-ga-click="Header, create new, icon:add">
    <svg class="octicon octicon-plus" viewBox="0 0 12 16" version="1.1" width="12" height="16" aria-hidden="true"><path fill-rule="evenodd" d="M12 9H7v5H5V9H0V7h5V2h2v5h5v2z"/></svg> <span class="dropdown-caret"></span>
  </summary>
  <details-menu class="dropdown-menu dropdown-menu-sw">
    
<a role="menuitem" class="dropdown-item" href="/new" data-ga-click="Header, create new repository">
  New repository
</a>

  <a role="menuitem" class="dropdown-item" href="/new/import" data-ga-click="Header, import a repository">
    Import repository
  </a>

<a role="menuitem" class="dropdown-item" href="https://gist.github.com/" data-ga-click="Header, create new gist">
  New gist
</a>

  <a role="menuitem" class="dropdown-item" href="/organizations/new" data-ga-click="Header, create new organization">
    New organization
  </a>


  <div role="none" class="dropdown-divider"></div>
  <div class="dropdown-header">
    <span title="tbahng/ist652-final_project">This repository</span>
  </div>
    <a role="menuitem" class="dropdown-item" href="/tbahng/ist652-final_project/issues/new" data-ga-click="Header, create new issue" data-skip-pjax>
      New issue
    </a>


  </details-menu>
</details>

    </div>

    <div class="Header-item position-relative mr-0 d-none d-lg-flex">
      
  <details class="details-overlay details-reset js-feature-preview-indicator-container" data-feature-preview-indicator-src="/users/tbahng/feature_preview/indicator_check.json">

  <summary class="Header-link"
    aria-label="View profile and more"
    data-ga-click="Header, show menu, icon:avatar">
    <img alt="@tbahng" class="avatar" src="https://avatars0.githubusercontent.com/u/51860448?s=40&amp;v=4" height="20" width="20">
      <span class="feature-preview-indicator js-feature-preview-indicator" hidden></span>
    <span class="dropdown-caret"></span>
  </summary>
  <details-menu class="dropdown-menu dropdown-menu-sw mt-2" style="width: 180px">
    <div class="header-nav-current-user css-truncate"><a role="menuitem" class="no-underline user-profile-link px-3 pt-2 pb-2 mb-n2 mt-n1 d-block" href="/tbahng" data-ga-click="Header, go to profile, text:Signed in as">Signed in as <strong class="css-truncate-target">tbahng</strong></a></div>
    <div role="none" class="dropdown-divider"></div>

      <div class="pl-3 pr-3 f6 user-status-container js-user-status-context pb-1" data-url="/users/status?compact=1&amp;link_mentions=0&amp;truncate=1">
        
<div class="js-user-status-container
    user-status-compact rounded-1 px-2 py-1 mt-2
    border
  " data-team-hovercards-enabled>
  <details class="js-user-status-details details-reset details-overlay details-overlay-dark">
    <summary class="btn-link btn-block link-gray no-underline js-toggle-user-status-edit toggle-user-status-edit "
      role="menuitem" data-hydro-click="{&quot;event_type&quot;:&quot;user_profile.click&quot;,&quot;payload&quot;:{&quot;profile_user_id&quot;:51860448,&quot;target&quot;:&quot;EDIT_USER_STATUS&quot;,&quot;user_id&quot;:51860448,&quot;client_id&quot;:&quot;1643647802.1572289694&quot;,&quot;originating_request_id&quot;:&quot;D2A7:5E71:9D00D2:A18314:5DE885AC&quot;,&quot;originating_url&quot;:&quot;https://github.com/tbahng/ist652-final_project/blob/ecc04d200a3fafd6f250f9ef866d7b07ee2106e8/Final_Project_Report.ipynb&quot;,&quot;referrer&quot;:&quot;https://github.com/tbahng/ist652-final_project/tree/ecc04d200a3fafd6f250f9ef866d7b07ee2106e8&quot;}}" data-hydro-click-hmac="aee4c926c18ee766c76396425f378a6a045c6aa0e3774264f6ddf82f1890e8eb">
      <div class="d-flex">
        <div class="f6 lh-condensed user-status-header
          d-inline-block v-align-middle
            user-status-emoji-only-header circle
            pr-2
"
            style="max-width: 29px"
          >
          <div class="user-status-emoji-container flex-shrink-0 mr-1 mt-1 lh-condensed-ultra v-align-bottom" style="">
            <svg class="octicon octicon-smiley" viewBox="0 0 16 16" version="1.1" width="16" height="16" aria-hidden="true"><path fill-rule="evenodd" d="M8 0C3.58 0 0 3.58 0 8s3.58 8 8 8 8-3.58 8-8-3.58-8-8-8zm4.81 12.81a6.72 6.72 0 01-2.17 1.45c-.83.36-1.72.53-2.64.53-.92 0-1.81-.17-2.64-.53-.81-.34-1.55-.83-2.17-1.45a6.773 6.773 0 01-1.45-2.17A6.59 6.59 0 011.21 8c0-.92.17-1.81.53-2.64.34-.81.83-1.55 1.45-2.17.62-.62 1.36-1.11 2.17-1.45A6.59 6.59 0 018 1.21c.92 0 1.81.17 2.64.53.81.34 1.55.83 2.17 1.45.62.62 1.11 1.36 1.45 2.17.36.83.53 1.72.53 2.64 0 .92-.17 1.81-.53 2.64-.34.81-.83 1.55-1.45 2.17zM4 6.8v-.59c0-.66.53-1.19 1.2-1.19h.59c.66 0 1.19.53 1.19 1.19v.59c0 .67-.53 1.2-1.19 1.2H5.2C4.53 8 4 7.47 4 6.8zm5 0v-.59c0-.66.53-1.19 1.2-1.19h.59c.66 0 1.19.53 1.19 1.19v.59c0 .67-.53 1.2-1.19 1.2h-.59C9.53 8 9 7.47 9 6.8zm4 3.2c-.72 1.88-2.91 3-5 3s-4.28-1.13-5-3c-.14-.39.23-1 .66-1h8.59c.41 0 .89.61.75 1z"/></svg>
          </div>
        </div>
        <div class="
          d-inline-block v-align-middle
          
          
           css-truncate css-truncate-target 
           user-status-message-wrapper f6"
           style="line-height: 20px;" >
          <div class="d-inline-block text-gray-dark v-align-text-top text-left">
              <span class="text-gray ml-2">Set status</span>
          </div>
        </div>
      </div>
    </summary>
    <details-dialog class="details-dialog rounded-1 anim-fade-in fast Box Box--overlay" role="dialog" tabindex="-1">
      <!-- '"` --><!-- </textarea></xmp> --></option></form><form class="position-relative flex-auto js-user-status-form" action="/users/status?compact=1&amp;link_mentions=0&amp;truncate=1" accept-charset="UTF-8" method="post"><input name="utf8" type="hidden" value="&#x2713;" /><input type="hidden" name="_method" value="put" /><input type="hidden" name="authenticity_token" value="a6BMqZAUy5XHylqDp9BgRtQwD6rbRF9vIk/V3rV/zuBA039UbwsXQZuA5jLqqLYhuChw/kTH+qzl42iYwXUdrg==" />
        <div class="Box-header bg-gray border-bottom p-3">
          <button class="Box-btn-octicon js-toggle-user-status-edit btn-octicon float-right" type="reset" aria-label="Close dialog" data-close-dialog>
            <svg class="octicon octicon-x" viewBox="0 0 12 16" version="1.1" width="12" height="16" aria-hidden="true"><path fill-rule="evenodd" d="M7.48 8l3.75 3.75-1.48 1.48L6 9.48l-3.75 3.75-1.48-1.48L4.52 8 .77 4.25l1.48-1.48L6 6.52l3.75-3.75 1.48 1.48L7.48 8z"/></svg>
          </button>
          <h3 class="Box-title f5 text-bold text-gray-dark">Edit status</h3>
        </div>
        <input type="hidden" name="emoji" class="js-user-status-emoji-field" value="">
        <input type="hidden" name="organization_id" class="js-user-status-org-id-field" value="">
        <div class="px-3 py-2 text-gray-dark">
          <div class="js-characters-remaining-container position-relative mt-2">
            <div class="input-group d-table form-group my-0 js-user-status-form-group">
              <span class="input-group-button d-table-cell v-align-middle" style="width: 1%">
                <button type="button" aria-label="Choose an emoji" class="btn-outline btn js-toggle-user-status-emoji-picker btn-open-emoji-picker p-0">
                  <span class="js-user-status-original-emoji" hidden></span>
                  <span class="js-user-status-custom-emoji"></span>
                  <span class="js-user-status-no-emoji-icon" >
                    <svg class="octicon octicon-smiley" viewBox="0 0 16 16" version="1.1" width="16" height="16" aria-hidden="true"><path fill-rule="evenodd" d="M8 0C3.58 0 0 3.58 0 8s3.58 8 8 8 8-3.58 8-8-3.58-8-8-8zm4.81 12.81a6.72 6.72 0 01-2.17 1.45c-.83.36-1.72.53-2.64.53-.92 0-1.81-.17-2.64-.53-.81-.34-1.55-.83-2.17-1.45a6.773 6.773 0 01-1.45-2.17A6.59 6.59 0 011.21 8c0-.92.17-1.81.53-2.64.34-.81.83-1.55 1.45-2.17.62-.62 1.36-1.11 2.17-1.45A6.59 6.59 0 018 1.21c.92 0 1.81.17 2.64.53.81.34 1.55.83 2.17 1.45.62.62 1.11 1.36 1.45 2.17.36.83.53 1.72.53 2.64 0 .92-.17 1.81-.53 2.64-.34.81-.83 1.55-1.45 2.17zM4 6.8v-.59c0-.66.53-1.19 1.2-1.19h.59c.66 0 1.19.53 1.19 1.19v.59c0 .67-.53 1.2-1.19 1.2H5.2C4.53 8 4 7.47 4 6.8zm5 0v-.59c0-.66.53-1.19 1.2-1.19h.59c.66 0 1.19.53 1.19 1.19v.59c0 .67-.53 1.2-1.19 1.2h-.59C9.53 8 9 7.47 9 6.8zm4 3.2c-.72 1.88-2.91 3-5 3s-4.28-1.13-5-3c-.14-.39.23-1 .66-1h8.59c.41 0 .89.61.75 1z"/></svg>
                  </span>
                </button>
              </span>
              <text-expander keys=": @" data-mention-url="/autocomplete/user-suggestions" data-emoji-url="/autocomplete/emoji">
                <input
                  type="text"
                  autocomplete="off"
                  data-no-org-url="/autocomplete/user-suggestions"
                  data-org-url="/suggestions?mention_suggester=1"
                  data-maxlength="80"
                  class="d-table-cell width-full form-control js-user-status-message-field js-characters-remaining-field"
                  placeholder="What's happening?"
                  name="message"
                  value=""
                  aria-label="What is your current status?">
              </text-expander>
              <div class="error">Could not update your status, please try again.</div>
            </div>
            <div style="margin-left: 53px" class="my-1 text-small label-characters-remaining js-characters-remaining" data-suffix="remaining" hidden>
              80 remaining
            </div>
          </div>
          <include-fragment class="js-user-status-emoji-picker" data-url="/users/status/emoji"></include-fragment>
          <div class="overflow-auto ml-n3 mr-n3 px-3 border-bottom" style="max-height: 33vh">
            <div class="user-status-suggestions js-user-status-suggestions collapsed overflow-hidden">
              <h4 class="f6 text-normal my-3">Suggestions:</h4>
              <div class="mx-3 mt-2 clearfix">
                  <div class="float-left col-6">
                      <button type="button" value=":palm_tree:" class="d-flex flex-items-baseline flex-items-stretch lh-condensed f6 btn-link link-gray no-underline js-predefined-user-status mb-1">
                        <div class="emoji-status-width mr-2 v-align-middle js-predefined-user-status-emoji">
                          <g-emoji alias="palm_tree" fallback-src="https://github.githubassets.com/images/icons/emoji/unicode/1f334.png">🌴</g-emoji>
                        </div>
                        <div class="d-flex flex-items-center no-underline js-predefined-user-status-message ws-normal text-left" style="border-left: 1px solid transparent">
                          On vacation
                        </div>
                      </button>
                      <button type="button" value=":face_with_thermometer:" class="d-flex flex-items-baseline flex-items-stretch lh-condensed f6 btn-link link-gray no-underline js-predefined-user-status mb-1">
                        <div class="emoji-status-width mr-2 v-align-middle js-predefined-user-status-emoji">
                          <g-emoji alias="face_with_thermometer" fallback-src="https://github.githubassets.com/images/icons/emoji/unicode/1f912.png">🤒</g-emoji>
                        </div>
                        <div class="d-flex flex-items-center no-underline js-predefined-user-status-message ws-normal text-left" style="border-left: 1px solid transparent">
                          Out sick
                        </div>
                      </button>
                  </div>
                  <div class="float-left col-6">
                      <button type="button" value=":house:" class="d-flex flex-items-baseline flex-items-stretch lh-condensed f6 btn-link link-gray no-underline js-predefined-user-status mb-1">
                        <div class="emoji-status-width mr-2 v-align-middle js-predefined-user-status-emoji">
                          <g-emoji alias="house" fallback-src="https://github.githubassets.com/images/icons/emoji/unicode/1f3e0.png">🏠</g-emoji>
                        </div>
                        <div class="d-flex flex-items-center no-underline js-predefined-user-status-message ws-normal text-left" style="border-left: 1px solid transparent">
                          Working from home
                        </div>
                      </button>
                      <button type="button" value=":dart:" class="d-flex flex-items-baseline flex-items-stretch lh-condensed f6 btn-link link-gray no-underline js-predefined-user-status mb-1">
                        <div class="emoji-status-width mr-2 v-align-middle js-predefined-user-status-emoji">
                          <g-emoji alias="dart" fallback-src="https://github.githubassets.com/images/icons/emoji/unicode/1f3af.png">🎯</g-emoji>
                        </div>
                        <div class="d-flex flex-items-center no-underline js-predefined-user-status-message ws-normal text-left" style="border-left: 1px solid transparent">
                          Focusing
                        </div>
                      </button>
                  </div>
              </div>
            </div>
            <div class="user-status-limited-availability-container">
              <div class="form-checkbox my-0">
                <input type="checkbox" name="limited_availability" value="1" class="js-user-status-limited-availability-checkbox" data-default-message="I may be slow to respond." aria-describedby="limited-availability-help-text-truncate-true-compact-true" id="limited-availability-truncate-true-compact-true">
                <label class="d-block f5 text-gray-dark mb-1" for="limited-availability-truncate-true-compact-true">
                  Busy
                </label>
                <p class="note" id="limited-availability-help-text-truncate-true-compact-true">
                  When others mention you, assign you, or request your review,
                  GitHub will let them know that you have limited availability.
                </p>
              </div>
            </div>
          </div>
            

<div class="d-inline-block f5 mr-2 pt-3 pb-2" >
  <div class="d-inline-block mr-1">
    Clear status
  </div>

  <details class="js-user-status-expire-drop-down f6 dropdown details-reset details-overlay d-inline-block mr-2">
    <summary class="f5 btn-link link-gray-dark border px-2 py-1 rounded-1" aria-haspopup="true">
      <div class="js-user-status-expiration-interval-selected d-inline-block v-align-baseline">
        Never
      </div>
      <div class="dropdown-caret"></div>
    </summary>

    <ul class="dropdown-menu dropdown-menu-se pl-0 overflow-auto" style="width: 220px; max-height: 15.5em">
      <li>
        <button type="button" class="btn-link dropdown-item js-user-status-expire-button ws-normal" title="Never">
          <span class="d-inline-block text-bold mb-1">Never</span>
          <div class="f6 lh-condensed">Keep this status until you clear your status or edit your status.</div>
        </button>
      </li>
      <li class="dropdown-divider" role="none"></li>
        <li>
          <button type="button" class="btn-link dropdown-item ws-normal js-user-status-expire-button" title="in 30 minutes" value="2019-12-04T20:51:06-08:00">
            in 30 minutes
          </button>
        </li>
        <li>
          <button type="button" class="btn-link dropdown-item ws-normal js-user-status-expire-button" title="in 1 hour" value="2019-12-04T21:21:06-08:00">
            in 1 hour
          </button>
        </li>
        <li>
          <button type="button" class="btn-link dropdown-item ws-normal js-user-status-expire-button" title="in 4 hours" value="2019-12-05T00:21:06-08:00">
            in 4 hours
          </button>
        </li>
        <li>
          <button type="button" class="btn-link dropdown-item ws-normal js-user-status-expire-button" title="today" value="2019-12-04T23:59:59-08:00">
            today
          </button>
        </li>
        <li>
          <button type="button" class="btn-link dropdown-item ws-normal js-user-status-expire-button" title="this week" value="2019-12-08T23:59:59-08:00">
            this week
          </button>
        </li>
    </ul>
  </details>
  <input class="js-user-status-expiration-date-input" type="hidden" name="expires_at" value="">
</div>

          <include-fragment class="js-user-status-org-picker" data-url="/users/status/organizations"></include-fragment>
        </div>
        <div class="d-flex flex-items-center flex-justify-between p-3 border-top">
          <button type="submit" disabled class="width-full btn btn-primary mr-2 js-user-status-submit">
            Set status
          </button>
          <button type="button" disabled class="width-full js-clear-user-status-button btn ml-2 ">
            Clear status
          </button>
        </div>
</form>    </details-dialog>
  </details>
</div>

      </div>
      <div role="none" class="dropdown-divider"></div>


    <a role="menuitem" class="dropdown-item" href="/tbahng" data-ga-click="Header, go to profile, text:your profile">Your profile</a>

    <a role="menuitem" class="dropdown-item" href="/tbahng?tab=repositories" data-ga-click="Header, go to repositories, text:your repositories">Your repositories</a>

    <a role="menuitem" class="dropdown-item" href="/tbahng?tab=projects" data-ga-click="Header, go to projects, text:your projects">Your projects</a>

    <a role="menuitem" class="dropdown-item" href="/tbahng?tab=stars" data-ga-click="Header, go to starred repos, text:your stars">Your stars</a>
      <a role="menuitem" class="dropdown-item" href="https://gist.github.com/mine" data-ga-click="Header, your gists, text:your gists">Your gists</a>





    <div role="none" class="dropdown-divider"></div>
      
<div id="feature-enrollment-toggle" class="hide-sm hide-md feature-preview-details position-relative">
  <button
    type="button"
    class="dropdown-item btn-link"
    role="menuitem"
    data-feature-preview-trigger-url="/users/tbahng/feature_previews"
    data-feature-preview-close-details="{&quot;event_type&quot;:&quot;feature_preview.clicks.close_modal&quot;,&quot;payload&quot;:{&quot;client_id&quot;:&quot;1643647802.1572289694&quot;,&quot;originating_request_id&quot;:&quot;D2A7:5E71:9D00D2:A18314:5DE885AC&quot;,&quot;originating_url&quot;:&quot;https://github.com/tbahng/ist652-final_project/blob/ecc04d200a3fafd6f250f9ef866d7b07ee2106e8/Final_Project_Report.ipynb&quot;,&quot;referrer&quot;:&quot;https://github.com/tbahng/ist652-final_project/tree/ecc04d200a3fafd6f250f9ef866d7b07ee2106e8&quot;,&quot;user_id&quot;:51860448}}"
    data-feature-preview-close-hmac="20bd5640c38aabab54fc45347bed4b3d7eb7f28e44c8dcbcf95513668e7c16d4"
    data-hydro-click="{&quot;event_type&quot;:&quot;feature_preview.clicks.open_modal&quot;,&quot;payload&quot;:{&quot;link_location&quot;:&quot;user_dropdown&quot;,&quot;client_id&quot;:&quot;1643647802.1572289694&quot;,&quot;originating_request_id&quot;:&quot;D2A7:5E71:9D00D2:A18314:5DE885AC&quot;,&quot;originating_url&quot;:&quot;https://github.com/tbahng/ist652-final_project/blob/ecc04d200a3fafd6f250f9ef866d7b07ee2106e8/Final_Project_Report.ipynb&quot;,&quot;referrer&quot;:&quot;https://github.com/tbahng/ist652-final_project/tree/ecc04d200a3fafd6f250f9ef866d7b07ee2106e8&quot;,&quot;user_id&quot;:51860448}}"
    data-hydro-click-hmac="e6a661512c261b63fe607b12e86549c801724d0e31bd10f2681daa079aa32967"
  >
    Feature preview
  </button>
    <span class="feature-preview-indicator js-feature-preview-indicator" hidden></span>
</div>

    <a role="menuitem" class="dropdown-item" href="https://help.github.com" data-ga-click="Header, go to help, text:help">Help</a>
    <a role="menuitem" class="dropdown-item" href="/settings/profile" data-ga-click="Header, go to settings, icon:settings">Settings</a>
    <!-- '"` --><!-- </textarea></xmp> --></option></form><form class="logout-form" action="/logout" accept-charset="UTF-8" method="post"><input name="utf8" type="hidden" value="&#x2713;" /><input type="hidden" name="authenticity_token" value="2uJE8g9N9Us35LuakCoQfoYJtP9mnTowvdzII3e3o9wdZLH59x6yo1Hu+gYC7l6ij0wGJP1QMQMlzoReWMht1w==" />
      
      <button type="submit" class="dropdown-item dropdown-signout" data-ga-click="Header, sign out, icon:logout" role="menuitem">
        Sign out
      </button>
</form>  </details-menu>
</details>

    </div>

  </header>

      

  </div>

  <div id="start-of-content" class="show-on-focus"></div>


    <div id="js-flash-container">

</div>



  <div class="application-main " data-commit-hovercards-enabled>
        <div itemscope itemtype="http://schema.org/SoftwareSourceCode" class="">
    <main  >
      


  










  <div class=" pagehead repohead instapaper_ignore readability-menu experiment-repo-nav pt-0 pt-lg-4 ">
    <div class="repohead-details-container clearfix container-lg p-responsive d-none d-lg-block">

      <ul class="pagehead-actions">




  <li>
    
    <!-- '"` --><!-- </textarea></xmp> --></option></form><form data-remote="true" class="clearfix js-social-form js-social-container" action="/notifications/subscribe" accept-charset="UTF-8" method="post"><input name="utf8" type="hidden" value="&#x2713;" /><input type="hidden" name="authenticity_token" value="YL/TSn2yrnZ36GGELri7c8kJ8Ka/JaZ2xJynwdafsZ7gok9gAA5wDmTIi9u/RqPkAGZyH/wBXoNT0oJfJx434g==" />      <input type="hidden" name="repository_id" value="223665382">

      <details class="details-reset details-overlay select-menu float-left">
        <summary class="select-menu-button float-left btn btn-sm btn-with-count" data-hydro-click="{&quot;event_type&quot;:&quot;repository.click&quot;,&quot;payload&quot;:{&quot;target&quot;:&quot;WATCH_BUTTON&quot;,&quot;repository_id&quot;:223665382,&quot;client_id&quot;:&quot;1643647802.1572289694&quot;,&quot;originating_request_id&quot;:&quot;D2A7:5E71:9D00D2:A18314:5DE885AC&quot;,&quot;originating_url&quot;:&quot;https://github.com/tbahng/ist652-final_project/blob/ecc04d200a3fafd6f250f9ef866d7b07ee2106e8/Final_Project_Report.ipynb&quot;,&quot;referrer&quot;:&quot;https://github.com/tbahng/ist652-final_project/tree/ecc04d200a3fafd6f250f9ef866d7b07ee2106e8&quot;,&quot;user_id&quot;:51860448}}" data-hydro-click-hmac="52421d5fc652d3081cf3d3241cf86989f728c34fb67dc41040405b88821444a6" data-ga-click="Repository, click Watch settings, action:blob#show">          <span data-menu-button>
              <svg class="octicon octicon-eye v-align-text-bottom" viewBox="0 0 16 16" version="1.1" width="16" height="16" aria-hidden="true"><path fill-rule="evenodd" d="M8.06 2C3 2 0 8 0 8s3 6 8.06 6C13 14 16 8 16 8s-3-6-7.94-6zM8 12c-2.2 0-4-1.78-4-4 0-2.2 1.8-4 4-4 2.22 0 4 1.8 4 4 0 2.22-1.78 4-4 4zm2-4c0 1.11-.89 2-2 2-1.11 0-2-.89-2-2 0-1.11.89-2 2-2 1.11 0 2 .89 2 2z"/></svg>
              Unwatch
          </span>
</summary>        <details-menu
          class="select-menu-modal position-absolute mt-5"
          style="z-index: 99;">
          <div class="select-menu-header">
            <span class="select-menu-title">Notifications</span>
          </div>
          <div class="select-menu-list">
            <button type="submit" name="do" value="included" class="select-menu-item width-full" aria-checked="false" role="menuitemradio">
              <svg class="octicon octicon-check select-menu-item-icon" viewBox="0 0 12 16" version="1.1" width="12" height="16" aria-hidden="true"><path fill-rule="evenodd" d="M12 5l-8 8-4-4 1.5-1.5L4 10l6.5-6.5L12 5z"/></svg>
              <div class="select-menu-item-text">
                <span class="select-menu-item-heading">Not watching</span>
                <span class="description">Be notified only when participating or @mentioned.</span>
                <span class="hidden-select-button-text" data-menu-button-contents>
                  <svg class="octicon octicon-eye v-align-text-bottom" viewBox="0 0 16 16" version="1.1" width="16" height="16" aria-hidden="true"><path fill-rule="evenodd" d="M8.06 2C3 2 0 8 0 8s3 6 8.06 6C13 14 16 8 16 8s-3-6-7.94-6zM8 12c-2.2 0-4-1.78-4-4 0-2.2 1.8-4 4-4 2.22 0 4 1.8 4 4 0 2.22-1.78 4-4 4zm2-4c0 1.11-.89 2-2 2-1.11 0-2-.89-2-2 0-1.11.89-2 2-2 1.11 0 2 .89 2 2z"/></svg>
                  Watch
                </span>
              </div>
            </button>

            <button type="submit" name="do" value="release_only" class="select-menu-item width-full" aria-checked="false" role="menuitemradio">
              <svg class="octicon octicon-check select-menu-item-icon" viewBox="0 0 12 16" version="1.1" width="12" height="16" aria-hidden="true"><path fill-rule="evenodd" d="M12 5l-8 8-4-4 1.5-1.5L4 10l6.5-6.5L12 5z"/></svg>
              <div class="select-menu-item-text">
                <span class="select-menu-item-heading">Releases only</span>
                <span class="description">Be notified of new releases, and when participating or @mentioned.</span>
                <span class="hidden-select-button-text" data-menu-button-contents>
                  <svg class="octicon octicon-eye v-align-text-bottom" viewBox="0 0 16 16" version="1.1" width="16" height="16" aria-hidden="true"><path fill-rule="evenodd" d="M8.06 2C3 2 0 8 0 8s3 6 8.06 6C13 14 16 8 16 8s-3-6-7.94-6zM8 12c-2.2 0-4-1.78-4-4 0-2.2 1.8-4 4-4 2.22 0 4 1.8 4 4 0 2.22-1.78 4-4 4zm2-4c0 1.11-.89 2-2 2-1.11 0-2-.89-2-2 0-1.11.89-2 2-2 1.11 0 2 .89 2 2z"/></svg>
                  Unwatch releases
                </span>
              </div>
            </button>

            <button type="submit" name="do" value="subscribed" class="select-menu-item width-full" aria-checked="true" role="menuitemradio">
              <svg class="octicon octicon-check select-menu-item-icon" viewBox="0 0 12 16" version="1.1" width="12" height="16" aria-hidden="true"><path fill-rule="evenodd" d="M12 5l-8 8-4-4 1.5-1.5L4 10l6.5-6.5L12 5z"/></svg>
              <div class="select-menu-item-text">
                <span class="select-menu-item-heading">Watching</span>
                <span class="description">Be notified of all conversations.</span>
                <span class="hidden-select-button-text" data-menu-button-contents>
                  <svg class="octicon octicon-eye v-align-text-bottom" viewBox="0 0 16 16" version="1.1" width="16" height="16" aria-hidden="true"><path fill-rule="evenodd" d="M8.06 2C3 2 0 8 0 8s3 6 8.06 6C13 14 16 8 16 8s-3-6-7.94-6zM8 12c-2.2 0-4-1.78-4-4 0-2.2 1.8-4 4-4 2.22 0 4 1.8 4 4 0 2.22-1.78 4-4 4zm2-4c0 1.11-.89 2-2 2-1.11 0-2-.89-2-2 0-1.11.89-2 2-2 1.11 0 2 .89 2 2z"/></svg>
                  Unwatch
                </span>
              </div>
            </button>

            <button type="submit" name="do" value="ignore" class="select-menu-item width-full" aria-checked="false" role="menuitemradio">
              <svg class="octicon octicon-check select-menu-item-icon" viewBox="0 0 12 16" version="1.1" width="12" height="16" aria-hidden="true"><path fill-rule="evenodd" d="M12 5l-8 8-4-4 1.5-1.5L4 10l6.5-6.5L12 5z"/></svg>
              <div class="select-menu-item-text">
                <span class="select-menu-item-heading">Ignoring</span>
                <span class="description">Never be notified.</span>
                <span class="hidden-select-button-text" data-menu-button-contents>
                  <svg class="octicon octicon-mute v-align-text-bottom" viewBox="0 0 16 16" version="1.1" width="16" height="16" aria-hidden="true"><path fill-rule="evenodd" d="M8 2.81v10.38c0 .67-.81 1-1.28.53L3 10H1c-.55 0-1-.45-1-1V7c0-.55.45-1 1-1h2l3.72-3.72C7.19 1.81 8 2.14 8 2.81zm7.53 3.22l-1.06-1.06-1.97 1.97-1.97-1.97-1.06 1.06L11.44 8 9.47 9.97l1.06 1.06 1.97-1.97 1.97 1.97 1.06-1.06L13.56 8l1.97-1.97z"/></svg>
                  Stop ignoring
                </span>
              </div>
            </button>
          </div>
        </details-menu>
      </details>
        <a class="social-count js-social-count"
          href="/tbahng/ist652-final_project/watchers"
          aria-label="2 users are watching this repository">
          2
        </a>
</form>
  </li>

  <li>
      <div class="js-toggler-container js-social-container starring-container ">
    <!-- '"` --><!-- </textarea></xmp> --></option></form><form class="starred js-social-form" action="/tbahng/ist652-final_project/unstar" accept-charset="UTF-8" method="post"><input name="utf8" type="hidden" value="&#x2713;" /><input type="hidden" name="authenticity_token" value="yT0umn14KWBWM3huNKqgSK+F2l/u+dx5REsfYp3Ut24extegc+C+HZw83CTDTzv460uTABUOdWPuowGTPWz/+A==" />
      <input type="hidden" name="context" value="repository"></input>
      <button type="submit" class="btn btn-sm btn-with-count js-toggler-target" aria-label="Unstar this repository" title="Unstar tbahng/ist652-final_project" data-hydro-click="{&quot;event_type&quot;:&quot;repository.click&quot;,&quot;payload&quot;:{&quot;target&quot;:&quot;UNSTAR_BUTTON&quot;,&quot;repository_id&quot;:223665382,&quot;client_id&quot;:&quot;1643647802.1572289694&quot;,&quot;originating_request_id&quot;:&quot;D2A7:5E71:9D00D2:A18314:5DE885AC&quot;,&quot;originating_url&quot;:&quot;https://github.com/tbahng/ist652-final_project/blob/ecc04d200a3fafd6f250f9ef866d7b07ee2106e8/Final_Project_Report.ipynb&quot;,&quot;referrer&quot;:&quot;https://github.com/tbahng/ist652-final_project/tree/ecc04d200a3fafd6f250f9ef866d7b07ee2106e8&quot;,&quot;user_id&quot;:51860448}}" data-hydro-click-hmac="0ffad0bb90a31644ff55e185734e42e2b2f96c6ad7539781b9f7d04d453f127b" data-ga-click="Repository, click unstar button, action:blob#show; text:Unstar">        <svg class="octicon octicon-star v-align-text-bottom" viewBox="0 0 14 16" version="1.1" width="14" height="16" aria-hidden="true"><path fill-rule="evenodd" d="M14 6l-4.9-.64L7 1 4.9 5.36 0 6l3.6 3.26L2.67 14 7 11.67 11.33 14l-.93-4.74L14 6z"/></svg>
        Unstar
</button>        <a class="social-count js-social-count" href="/tbahng/ist652-final_project/stargazers"
           aria-label="0 users starred this repository">
           0
        </a>
</form>
    <!-- '"` --><!-- </textarea></xmp> --></option></form><form class="unstarred js-social-form" action="/tbahng/ist652-final_project/star" accept-charset="UTF-8" method="post"><input name="utf8" type="hidden" value="&#x2713;" /><input type="hidden" name="authenticity_token" value="wfswuRwd+DSbqBvvBBrAw9J/dsUJqPjVbHsanrf/E3laOJmWgTBWzyfYCxanC79zA0g8DvF+xw2rRf1E3HtX8w==" />
      <input type="hidden" name="context" value="repository"></input>
      <button type="submit" class="btn btn-sm btn-with-count js-toggler-target" aria-label="Unstar this repository" title="Star tbahng/ist652-final_project" data-hydro-click="{&quot;event_type&quot;:&quot;repository.click&quot;,&quot;payload&quot;:{&quot;target&quot;:&quot;STAR_BUTTON&quot;,&quot;repository_id&quot;:223665382,&quot;client_id&quot;:&quot;1643647802.1572289694&quot;,&quot;originating_request_id&quot;:&quot;D2A7:5E71:9D00D2:A18314:5DE885AC&quot;,&quot;originating_url&quot;:&quot;https://github.com/tbahng/ist652-final_project/blob/ecc04d200a3fafd6f250f9ef866d7b07ee2106e8/Final_Project_Report.ipynb&quot;,&quot;referrer&quot;:&quot;https://github.com/tbahng/ist652-final_project/tree/ecc04d200a3fafd6f250f9ef866d7b07ee2106e8&quot;,&quot;user_id&quot;:51860448}}" data-hydro-click-hmac="c07777ee443411bd9d4d5c8c259cf56d065a9d95d793df853d7d7fd8c59c1f32" data-ga-click="Repository, click star button, action:blob#show; text:Star">        <svg class="octicon octicon-star v-align-text-bottom" viewBox="0 0 14 16" version="1.1" width="14" height="16" aria-hidden="true"><path fill-rule="evenodd" d="M14 6l-4.9-.64L7 1 4.9 5.36 0 6l3.6 3.26L2.67 14 7 11.67 11.33 14l-.93-4.74L14 6z"/></svg>
        Star
</button>        <a class="social-count js-social-count" href="/tbahng/ist652-final_project/stargazers"
           aria-label="0 users starred this repository">
          0
        </a>
</form>  </div>

  </li>

  <li>
        <span class="btn btn-sm btn-with-count disabled tooltipped tooltipped-sw" aria-label="Cannot fork because you own this repository and are not a member of any organizations.">
          <svg class="octicon octicon-repo-forked v-align-text-bottom" viewBox="0 0 10 16" version="1.1" width="10" height="16" aria-hidden="true"><path fill-rule="evenodd" d="M8 1a1.993 1.993 0 00-1 3.72V6L5 8 3 6V4.72A1.993 1.993 0 002 1a1.993 1.993 0 00-1 3.72V6.5l3 3v1.78A1.993 1.993 0 005 15a1.993 1.993 0 001-3.72V9.5l3-3V4.72A1.993 1.993 0 008 1zM2 4.2C1.34 4.2.8 3.65.8 3c0-.65.55-1.2 1.2-1.2.65 0 1.2.55 1.2 1.2 0 .65-.55 1.2-1.2 1.2zm3 10c-.66 0-1.2-.55-1.2-1.2 0-.65.55-1.2 1.2-1.2.65 0 1.2.55 1.2 1.2 0 .65-.55 1.2-1.2 1.2zm3-10c-.66 0-1.2-.55-1.2-1.2 0-.65.55-1.2 1.2-1.2.65 0 1.2.55 1.2 1.2 0 .65-.55 1.2-1.2 1.2z"/></svg>
          Fork
</span>
    <a href="/tbahng/ist652-final_project/network/members" class="social-count"
       aria-label="0 users forked this repository">
      0
    </a>
  </li>
</ul>

      <h1 class="private ">
    <svg class="octicon octicon-lock" viewBox="0 0 12 16" version="1.1" width="12" height="16" aria-hidden="true"><path fill-rule="evenodd" d="M4 13H3v-1h1v1zm8-6v7c0 .55-.45 1-1 1H1c-.55 0-1-.45-1-1V7c0-.55.45-1 1-1h1V4c0-2.2 1.8-4 4-4s4 1.8 4 4v2h1c.55 0 1 .45 1 1zM3.8 6h4.41V4c0-1.22-.98-2.2-2.2-2.2-1.22 0-2.2.98-2.2 2.2v2H3.8zM11 7H2v7h9V7zM4 8H3v1h1V8zm0 2H3v1h1v-1z"/></svg>
  <span class="author" itemprop="author"><a class="url fn" rel="author" data-hovercard-type="user" data-hovercard-url="/users/tbahng/hovercard" data-octo-click="hovercard-link-click" data-octo-dimensions="link_type:self" href="/tbahng">tbahng</a></span><!--
--><span class="path-divider">/</span><!--
--><strong itemprop="name"><a data-pjax="#js-repo-pjax-container" href="/tbahng/ist652-final_project">ist652-final_project</a></strong>
  <span class="Label Label--outline v-align-middle ">Private</span>

</h1>

    </div>
    
<nav class="hx_reponav reponav js-repo-nav js-sidenav-container-pjax container-lg p-responsive d-none d-lg-block"
     itemscope
     itemtype="http://schema.org/BreadcrumbList"
    aria-label="Repository"
     data-pjax="#js-repo-pjax-container">

  <span itemscope itemtype="http://schema.org/ListItem" itemprop="itemListElement">
    <a class="js-selected-navigation-item selected reponav-item" itemprop="url" data-hotkey="g c" aria-current="page" data-selected-links="repo_source repo_downloads repo_commits repo_releases repo_tags repo_branches repo_packages /tbahng/ist652-final_project" href="/tbahng/ist652-final_project">
      <svg class="octicon octicon-code" viewBox="0 0 14 16" version="1.1" width="14" height="16" aria-hidden="true"><path fill-rule="evenodd" d="M9.5 3L8 4.5 11.5 8 8 11.5 9.5 13 14 8 9.5 3zm-5 0L0 8l4.5 5L6 11.5 2.5 8 6 4.5 4.5 3z"/></svg>
      <span itemprop="name">Code</span>
      <meta itemprop="position" content="1">
</a>  </span>

    <span itemscope itemtype="http://schema.org/ListItem" itemprop="itemListElement">
      <a itemprop="url" data-hotkey="g i" class="js-selected-navigation-item reponav-item" data-selected-links="repo_issues repo_labels repo_milestones /tbahng/ist652-final_project/issues" href="/tbahng/ist652-final_project/issues">
        <svg class="octicon octicon-issue-opened" viewBox="0 0 14 16" version="1.1" width="14" height="16" aria-hidden="true"><path fill-rule="evenodd" d="M7 2.3c3.14 0 5.7 2.56 5.7 5.7s-2.56 5.7-5.7 5.7A5.71 5.71 0 011.3 8c0-3.14 2.56-5.7 5.7-5.7zM7 1C3.14 1 0 4.14 0 8s3.14 7 7 7 7-3.14 7-7-3.14-7-7-7zm1 3H6v5h2V4zm0 6H6v2h2v-2z"/></svg>
        <span itemprop="name">Issues</span>
        <span class="Counter">7</span>
        <meta itemprop="position" content="2">
</a>    </span>

  <span itemscope itemtype="http://schema.org/ListItem" itemprop="itemListElement">
    <a data-hotkey="g p" data-skip-pjax="true" itemprop="url" class="js-selected-navigation-item reponav-item" data-selected-links="repo_pulls checks /tbahng/ist652-final_project/pulls" href="/tbahng/ist652-final_project/pulls">
      <svg class="octicon octicon-git-pull-request" viewBox="0 0 12 16" version="1.1" width="12" height="16" aria-hidden="true"><path fill-rule="evenodd" d="M11 11.28V5c-.03-.78-.34-1.47-.94-2.06C9.46 2.35 8.78 2.03 8 2H7V0L4 3l3 3V4h1c.27.02.48.11.69.31.21.2.3.42.31.69v6.28A1.993 1.993 0 0010 15a1.993 1.993 0 001-3.72zm-1 2.92c-.66 0-1.2-.55-1.2-1.2 0-.65.55-1.2 1.2-1.2.65 0 1.2.55 1.2 1.2 0 .65-.55 1.2-1.2 1.2zM4 3c0-1.11-.89-2-2-2a1.993 1.993 0 00-1 3.72v6.56A1.993 1.993 0 002 15a1.993 1.993 0 001-3.72V4.72c.59-.34 1-.98 1-1.72zm-.8 10c0 .66-.55 1.2-1.2 1.2-.65 0-1.2-.55-1.2-1.2 0-.65.55-1.2 1.2-1.2.65 0 1.2.55 1.2 1.2zM2 4.2C1.34 4.2.8 3.65.8 3c0-.65.55-1.2 1.2-1.2.65 0 1.2.55 1.2 1.2 0 .65-.55 1.2-1.2 1.2z"/></svg>
      <span itemprop="name">Pull requests</span>
      <span class="Counter">0</span>
      <meta itemprop="position" content="3">
</a>  </span>

    <span itemscope itemtype="http://schema.org/ListItem" itemprop="itemListElement" class="position-relative float-left">
      <a data-hotkey="g w" data-skip-pjax="true" class="js-selected-navigation-item reponav-item" data-selected-links="repo_actions /tbahng/ist652-final_project/actions" href="/tbahng/ist652-final_project/actions">
        <svg class="octicon octicon-play" viewBox="0 0 14 16" version="1.1" width="14" height="16" aria-hidden="true"><path fill-rule="evenodd" d="M14 8A7 7 0 110 8a7 7 0 0114 0zm-8.223 3.482l4.599-3.066a.5.5 0 000-.832L5.777 4.518A.5.5 0 005 4.934v6.132a.5.5 0 00.777.416z"/></svg>
        Actions
</a>
    </span>

    <a data-hotkey="g b" class="js-selected-navigation-item reponav-item" data-selected-links="repo_projects new_repo_project repo_project /tbahng/ist652-final_project/projects" href="/tbahng/ist652-final_project/projects">
      <svg class="octicon octicon-project" viewBox="0 0 15 16" version="1.1" width="15" height="16" aria-hidden="true"><path fill-rule="evenodd" d="M10 12h3V2h-3v10zm-4-2h3V2H6v8zm-4 4h3V2H2v12zm-1 1h13V1H1v14zM14 0H1a1 1 0 00-1 1v14a1 1 0 001 1h13a1 1 0 001-1V1a1 1 0 00-1-1z"/></svg>
      Projects
      <span class="Counter" >0</span>
</a>


    <a data-skip-pjax="true" class="js-selected-navigation-item reponav-item" data-selected-links="security alerts policy code_scanning /tbahng/ist652-final_project/network/alerts" href="/tbahng/ist652-final_project/network/alerts">
      <svg class="octicon octicon-shield" viewBox="0 0 14 16" version="1.1" width="14" height="16" aria-hidden="true"><path fill-rule="evenodd" d="M0 2l7-2 7 2v6.02C14 12.69 8.69 16 7 16c-1.69 0-7-3.31-7-7.98V2zm1 .75L7 1l6 1.75v5.268C13 12.104 8.449 15 7 15c-1.449 0-6-2.896-6-6.982V2.75zm1 .75L7 2v12c-1.207 0-5-2.482-5-5.985V3.5z"/></svg>
      Security
</a>
    <a class="js-selected-navigation-item reponav-item" data-selected-links="repo_graphs repo_contributors dependency_graph pulse people /tbahng/ist652-final_project/network/dependencies" href="/tbahng/ist652-final_project/network/dependencies">
      <svg class="octicon octicon-graph" viewBox="0 0 16 16" version="1.1" width="16" height="16" aria-hidden="true"><path fill-rule="evenodd" d="M16 14v1H0V0h1v14h15zM5 13H3V8h2v5zm4 0H7V3h2v10zm4 0h-2V6h2v7z"/></svg>
      Insights
</a>
    <a class="js-selected-navigation-item reponav-item" data-selected-links="repo_settings repo_branch_settings hooks integration_installations repo_keys_settings issue_template_editor secrets_settings key_links_settings /tbahng/ist652-final_project/settings" href="/tbahng/ist652-final_project/settings">
      <svg class="octicon octicon-gear" viewBox="0 0 14 16" version="1.1" width="14" height="16" aria-hidden="true"><path fill-rule="evenodd" d="M14 8.77v-1.6l-1.94-.64-.45-1.09.88-1.84-1.13-1.13-1.81.91-1.09-.45-.69-1.92h-1.6l-.63 1.94-1.11.45-1.84-.88-1.13 1.13.91 1.81-.45 1.09L0 7.23v1.59l1.94.64.45 1.09-.88 1.84 1.13 1.13 1.81-.91 1.09.45.69 1.92h1.59l.63-1.94 1.11-.45 1.84.88 1.13-1.13-.92-1.81.47-1.09L14 8.75v.02zM7 11c-1.66 0-3-1.34-3-3s1.34-3 3-3 3 1.34 3 3-1.34 3-3 3z"/></svg>
      Settings
</a>
</nav>

  <div class="reponav-wrapper reponav-small d-lg-none">
  <nav class="reponav js-reponav text-center no-wrap"
       itemscope
       itemtype="http://schema.org/BreadcrumbList">

    <span itemscope itemtype="http://schema.org/ListItem" itemprop="itemListElement">
      <a class="js-selected-navigation-item selected reponav-item" itemprop="url" aria-current="page" data-selected-links="repo_source repo_downloads repo_commits repo_releases repo_tags repo_branches repo_packages /tbahng/ist652-final_project" href="/tbahng/ist652-final_project">
        <span itemprop="name">Code</span>
        <meta itemprop="position" content="1">
</a>    </span>

      <span itemscope itemtype="http://schema.org/ListItem" itemprop="itemListElement">
        <a itemprop="url" class="js-selected-navigation-item reponav-item" data-selected-links="repo_issues repo_labels repo_milestones /tbahng/ist652-final_project/issues" href="/tbahng/ist652-final_project/issues">
          <span itemprop="name">Issues</span>
          <span class="Counter">7</span>
          <meta itemprop="position" content="2">
</a>      </span>

    <span itemscope itemtype="http://schema.org/ListItem" itemprop="itemListElement">
      <a itemprop="url" class="js-selected-navigation-item reponav-item" data-selected-links="repo_pulls checks /tbahng/ist652-final_project/pulls" href="/tbahng/ist652-final_project/pulls">
        <span itemprop="name">Pull requests</span>
        <span class="Counter">0</span>
        <meta itemprop="position" content="3">
</a>    </span>

      <span itemscope itemtype="http://schema.org/ListItem" itemprop="itemListElement">
        <a itemprop="url" class="js-selected-navigation-item reponav-item" data-selected-links="repo_projects new_repo_project repo_project /tbahng/ist652-final_project/projects" href="/tbahng/ist652-final_project/projects">
          <span itemprop="name">Projects</span>
          <span class="Counter">0</span>
          <meta itemprop="position" content="4">
</a>      </span>


      <a itemprop="url" class="js-selected-navigation-item reponav-item" data-selected-links="security alerts policy code_scanning /tbahng/ist652-final_project/network/alerts" href="/tbahng/ist652-final_project/network/alerts">
        <span itemprop="name">Security</span>
        <meta itemprop="position" content="6">
</a>


  </nav>
</div>


  </div>
<div class="container-lg clearfix new-discussion-timeline experiment-repo-nav  p-responsive">
  <div class="repository-content ">

    
    


  


    <a class="d-none js-permalink-shortcut" data-hotkey="y" href="/tbahng/ist652-final_project/blob/ecc04d200a3fafd6f250f9ef866d7b07ee2106e8/Final_Project_Report.ipynb">Permalink</a>

    <!-- blob contrib key: blob_contributors:v21:997d574fa99a901283e1c5041c0e43fe -->
      

    <div class="d-flex flex-items-start flex-shrink-0 pb-3 flex-column flex-md-row">
      <span class="d-flex flex-justify-between width-full width-md-auto">
        
<details class="details-reset details-overlay select-menu branch-select-menu  hx_rsm" id="branch-select-menu">
  <summary class="btn btn-sm select-menu-button css-truncate"
           data-hotkey="w"
           title="Switch branches or tags">
    <i>Tree:</i>
    <span class="css-truncate-target" data-menu-button>ecc04d200a</span>
  </summary>

  <details-menu class="select-menu-modal hx_rsm-modal position-absolute" style="z-index: 99;" src="/tbahng/ist652-final_project/ref-list/ecc04d200a3fafd6f250f9ef866d7b07ee2106e8/Final_Project_Report.ipynb?source_action=show&amp;source_controller=blob" preload>
    <include-fragment class="select-menu-loading-overlay anim-pulse">
      <svg height="32" class="octicon octicon-octoface" viewBox="0 0 16 16" version="1.1" width="32" aria-hidden="true"><path fill-rule="evenodd" d="M14.7 5.34c.13-.32.55-1.59-.13-3.31 0 0-1.05-.33-3.44 1.3-1-.28-2.07-.32-3.13-.32s-2.13.04-3.13.32c-2.39-1.64-3.44-1.3-3.44-1.3-.68 1.72-.26 2.99-.13 3.31C.49 6.21 0 7.33 0 8.69 0 13.84 3.33 15 7.98 15S16 13.84 16 8.69c0-1.36-.49-2.48-1.3-3.35zM8 14.02c-3.3 0-5.98-.15-5.98-3.35 0-.76.38-1.48 1.02-2.07 1.07-.98 2.9-.46 4.96-.46 2.07 0 3.88-.52 4.96.46.65.59 1.02 1.3 1.02 2.07 0 3.19-2.68 3.35-5.98 3.35zM5.49 9.01c-.66 0-1.2.8-1.2 1.78s.54 1.79 1.2 1.79c.66 0 1.2-.8 1.2-1.79s-.54-1.78-1.2-1.78zm5.02 0c-.66 0-1.2.79-1.2 1.78s.54 1.79 1.2 1.79c.66 0 1.2-.8 1.2-1.79s-.53-1.78-1.2-1.78z"/></svg>
    </include-fragment>
  </details-menu>
</details>

        <div class="BtnGroup flex-shrink-0 d-md-none">
          <a href="/tbahng/ist652-final_project/find/ecc04d200a3fafd6f250f9ef866d7b07ee2106e8"
                class="js-pjax-capture-input btn btn-sm BtnGroup-item"
                data-pjax
                data-hotkey="t">
            Find file
          </a>
          <clipboard-copy value="Final_Project_Report.ipynb" class="btn btn-sm BtnGroup-item">
            Copy path
          </clipboard-copy>
        </div>
      </span>
      <h2 id="blob-path" class="breadcrumb flex-auto min-width-0 text-normal flex-md-self-center ml-md-2 mr-md-3 my-2 my-md-0">
        <span class="js-repo-root text-bold"><span class="js-path-segment"><a data-pjax="true" rel="nofollow" href="/tbahng/ist652-final_project/tree/ecc04d200a3fafd6f250f9ef866d7b07ee2106e8"><span>ist652-final_project</span></a></span></span><span class="separator">/</span><strong class="final-path">Final_Project_Report.ipynb</strong>
      </h2>

      <div class="BtnGroup flex-shrink-0 d-none d-md-inline-block">
        <a href="/tbahng/ist652-final_project/find/ecc04d200a3fafd6f250f9ef866d7b07ee2106e8"
              class="js-pjax-capture-input btn btn-sm BtnGroup-item"
              data-pjax
              data-hotkey="t">
          Find file
        </a>
        <clipboard-copy value="Final_Project_Report.ipynb" class="btn btn-sm BtnGroup-item">
          Copy path
        </clipboard-copy>
      </div>
    </div>

    



    
  <div class="Box Box--condensed d-flex flex-column flex-shrink-0">
      <div class="Box-body d-flex flex-justify-between bg-blue-light flex-column flex-md-row flex-items-start flex-md-items-center">
        <span class="pr-md-4 f6">
          <a rel="contributor" data-skip-pjax="true" data-hovercard-type="user" data-hovercard-url="/users/mengsynn/hovercard" data-octo-click="hovercard-link-click" data-octo-dimensions="link_type:self" href="/mengsynn"><img class="avatar" src="https://avatars1.githubusercontent.com/u/6126472?s=40&amp;v=4" width="20" height="20" alt="@mengsynn" /></a>
          <a class="text-bold link-gray-dark lh-default v-align-middle" rel="contributor" data-hovercard-type="user" data-hovercard-url="/users/mengsynn/hovercard" data-octo-click="hovercard-link-click" data-octo-dimensions="link_type:self" href="/mengsynn">mengsynn</a>
            <span class="lh-default v-align-middle">
              <a data-pjax="true" title="Update Final_Project_Report.ipynb" class="link-gray" href="/tbahng/ist652-final_project/commit/ecc04d200a3fafd6f250f9ef866d7b07ee2106e8">Update Final_Project_Report.ipynb</a>
            </span>
        </span>
        <span class="d-inline-block flex-shrink-0 v-align-bottom f6 mt-2 mt-md-0">
          <a class="pr-2 text-mono link-gray" href="/tbahng/ist652-final_project/commit/ecc04d200a3fafd6f250f9ef866d7b07ee2106e8" data-pjax>ecc04d2</a>
          <relative-time datetime="2019-12-05T04:08:19Z" class="no-wrap">Dec 4, 2019</relative-time>
        </span>
      </div>

    <div class="Box-body d-flex flex-items-center flex-auto f6 border-bottom-0 flex-wrap" >
      <details class="details-reset details-overlay details-overlay-dark lh-default text-gray-dark float-left mr-2" id="blob_contributors_box">
        <summary class="btn-link">
          <span><strong>1</strong> contributor</span>
        </summary>
        <details-dialog
          class="Box Box--overlay d-flex flex-column anim-fade-in fast"
          aria-label="Users who have contributed to this file"
          src="/tbahng/ist652-final_project/contributors-list/ecc04d200a3fafd6f250f9ef866d7b07ee2106e8/Final_Project_Report.ipynb" preload>
          <div class="Box-header">
            <button class="Box-btn-octicon btn-octicon float-right" type="button" aria-label="Close dialog" data-close-dialog>
              <svg class="octicon octicon-x" viewBox="0 0 12 16" version="1.1" width="12" height="16" aria-hidden="true"><path fill-rule="evenodd" d="M7.48 8l3.75 3.75-1.48 1.48L6 9.48l-3.75 3.75-1.48-1.48L4.52 8 .77 4.25l1.48-1.48L6 6.52l3.75-3.75 1.48 1.48L7.48 8z"/></svg>
            </button>
            <h3 class="Box-title">
              Users who have contributed to this file
            </h3>
          </div>
          <include-fragment class="octocat-spinner my-3" aria-label="Loading..."></include-fragment>
        </details-dialog>
      </details>
    </div>
  </div>





    <div class="Box mt-3 position-relative">
      
<div class="Box-header py-2 d-flex flex-column flex-shrink-0 flex-md-row flex-md-items-center">
  <div class="text-mono f6 flex-auto pr-3 flex-order-2 flex-md-order-1 mt-2 mt-md-0">

      669 lines (669 sloc)
      <span class="file-info-divider"></span>
    54.9 KB
  </div>

  <div class="d-flex py-1 py-md-0 flex-auto flex-order-1 flex-md-order-2 flex-sm-grow-0 flex-justify-between">
      <div class="BtnGroup">
        <a class="btn btn-sm BtnGroup-item tooltipped tooltipped tooltipped-n source "
          href="/tbahng/ist652-final_project/blob/ecc04d200a3fafd6f250f9ef866d7b07ee2106e8/Final_Project_Report.ipynb?short_path=8ea1e54" aria-label="Display the source blob">
          <svg class="octicon octicon-code" viewBox="0 0 14 16" version="1.1" width="14" height="16" aria-hidden="true"><path fill-rule="evenodd" d="M9.5 3L8 4.5 11.5 8 8 11.5 9.5 13 14 8 9.5 3zm-5 0L0 8l4.5 5L6 11.5 2.5 8 6 4.5 4.5 3z"/></svg>
        </a>
        <a class="btn btn-sm BtnGroup-item tooltipped tooltipped-n rendered selected"
          href="/tbahng/ist652-final_project/blob/ecc04d200a3fafd6f250f9ef866d7b07ee2106e8/Final_Project_Report.ipynb" aria-label="Display the rendered blob">
          <svg class="octicon octicon-file" viewBox="0 0 12 16" version="1.1" width="12" height="16" aria-hidden="true"><path fill-rule="evenodd" d="M6 5H2V4h4v1zM2 8h7V7H2v1zm0 2h7V9H2v1zm0 2h7v-1H2v1zm10-7.5V14c0 .55-.45 1-1 1H1c-.55 0-1-.45-1-1V2c0-.55.45-1 1-1h7.5L12 4.5zM11 5L8 2H1v12h10V5z"/></svg>
        </a>
      </div>

    <div class="BtnGroup">
      <a id="raw-url" class="btn btn-sm BtnGroup-item" href="/tbahng/ist652-final_project/raw/ecc04d200a3fafd6f250f9ef866d7b07ee2106e8/Final_Project_Report.ipynb">Raw</a>
        <a class="btn btn-sm js-update-url-with-hash BtnGroup-item" data-hotkey="b" href="/tbahng/ist652-final_project/blame/ecc04d200a3fafd6f250f9ef866d7b07ee2106e8/Final_Project_Report.ipynb">Blame</a>
      <a rel="nofollow" class="btn btn-sm BtnGroup-item" href="/tbahng/ist652-final_project/commits/ecc04d200a3fafd6f250f9ef866d7b07ee2106e8/Final_Project_Report.ipynb">History</a>
    </div>


    <div>
            <button class="btn-octicon disabled tooltipped tooltipped-nw hide-sm"
               type="button"
               disabled
               aria-label="You must be on a branch to open this file in GitHub Desktop">
                <svg class="octicon octicon-device-desktop" viewBox="0 0 16 16" version="1.1" width="16" height="16" aria-hidden="true"><path fill-rule="evenodd" d="M15 2H1c-.55 0-1 .45-1 1v9c0 .55.45 1 1 1h5.34c-.25.61-.86 1.39-2.34 2h8c-1.48-.61-2.09-1.39-2.34-2H15c.55 0 1-.45 1-1V3c0-.55-.45-1-1-1zm0 9H1V3h14v8z"/></svg>
            </button>

          <button type="button" class="btn-octicon disabled tooltipped tooltipped-nw"
            aria-label="You must be on a branch to make or propose changes to this file">
            <svg class="octicon octicon-pencil" viewBox="0 0 14 16" version="1.1" width="14" height="16" aria-hidden="true"><path fill-rule="evenodd" d="M0 12v3h3l8-8-3-3-8 8zm3 2H1v-2h1v1h1v1zm10.3-9.3L12 6 9 3l1.3-1.3a.996.996 0 011.41 0l1.59 1.59c.39.39.39 1.02 0 1.41z"/></svg>
          </button>
          <button type="button" class="btn-octicon btn-octicon-danger disabled tooltipped tooltipped-nw"
            aria-label="You must be on a branch to make or propose changes to this file">
            <svg class="octicon octicon-trashcan" viewBox="0 0 12 16" version="1.1" width="12" height="16" aria-hidden="true"><path fill-rule="evenodd" d="M11 2H9c0-.55-.45-1-1-1H5c-.55 0-1 .45-1 1H2c-.55 0-1 .45-1 1v1c0 .55.45 1 1 1v9c0 .55.45 1 1 1h7c.55 0 1-.45 1-1V5c.55 0 1-.45 1-1V3c0-.55-.45-1-1-1zm-1 12H3V5h1v8h1V5h1v8h1V5h1v8h1V5h1v9zm1-10H2V3h9v1z"/></svg>
          </button>
    </div>
  </div>
</div>




      

  <div itemprop="text" class="Box-body p-0 blob-wrapper data type-jupyter-notebook ">
      
  <div class="render-wrapper ">
    <div class="render-container is-render-pending js-render-target  "
      data-identity="9ae2f05d-5784-47c8-bde9-d57cb91ccb4d"
      data-host="https://render.githubusercontent.com"
      data-type="ipynb">
      <img class="octospinner mx-auto" alt="" src="https://github.githubassets.com/images/spinners/octocat-spinner-128.gif" width="64" height="64" />
      <div class="render-viewer-error">Sorry, something went wrong. <a href="https://github.com/tbahng/ist652-final_project/blob/ecc04d200a3fafd6f250f9ef866d7b07ee2106e8/Final_Project_Report.ipynb">Reload?</a></div>
      <div class="render-viewer-fatal">Sorry, we cannot display this file.</div>
      <div class="render-viewer-invalid">Sorry, this file is invalid so it cannot be displayed.</div>
      <iframe class="render-viewer " src="https://render.githubusercontent.com/view/ipynb?commit=ecc04d200a3fafd6f250f9ef866d7b07ee2106e8&amp;enc_url=68747470733a2f2f7261772e67697468756275736572636f6e74656e742e636f6d2f746261686e672f6973743635322d66696e616c5f70726f6a6563742f656363303464323030613366616664366632353066396566383636643762303765653231303665382f46696e616c5f50726f6a6563745f5265706f72742e6970796e623f746f6b656e3d414d4c56485944355632454f48524254594a51474c504b353543433634&amp;nwo=tbahng%2Fist652-final_project&amp;path=Final_Project_Report.ipynb&amp;repository_id=223665382&amp;repository_type=Repository#9ae2f05d-5784-47c8-bde9-d57cb91ccb4d" sandbox="allow-scripts allow-same-origin allow-top-navigation" title="File display">
          Viewer requires iframe.
      </iframe>
    </div>
  </div>

  </div>

    </div>

  

  <details class="details-reset details-overlay details-overlay-dark">
    <summary data-hotkey="l" aria-label="Jump to line"></summary>
    <details-dialog class="Box Box--overlay d-flex flex-column anim-fade-in fast linejump" aria-label="Jump to line">
      <!-- '"` --><!-- </textarea></xmp> --></option></form><form class="js-jump-to-line-form Box-body d-flex" action="" accept-charset="UTF-8" method="get"><input name="utf8" type="hidden" value="&#x2713;" />
        <input class="form-control flex-auto mr-3 linejump-input js-jump-to-line-field" type="text" placeholder="Jump to line&hellip;" aria-label="Jump to line" autofocus>
        <button type="submit" class="btn" data-close-dialog>Go</button>
</form>    </details-dialog>
  </details>



  </div>
</div>

    </main>
  </div>
  

  </div>

        
<div class="footer container-lg width-full p-responsive" role="contentinfo">
  <div class="position-relative d-flex flex-row-reverse flex-lg-row flex-wrap flex-lg-nowrap flex-justify-center flex-lg-justify-between pt-6 pb-2 mt-6 f6 text-gray border-top border-gray-light ">
    <ul class="list-style-none d-flex flex-wrap col-12 col-lg-5 flex-justify-center flex-lg-justify-between mb-2 mb-lg-0">
      <li class="mr-3 mr-lg-0">&copy; 2019 GitHub, Inc.</li>
        <li class="mr-3 mr-lg-0"><a data-ga-click="Footer, go to terms, text:terms" href="https://github.com/site/terms">Terms</a></li>
        <li class="mr-3 mr-lg-0"><a data-ga-click="Footer, go to privacy, text:privacy" href="https://github.com/site/privacy">Privacy</a></li>
        <li class="mr-3 mr-lg-0"><a data-ga-click="Footer, go to security, text:security" href="https://github.com/security">Security</a></li>
        <li class="mr-3 mr-lg-0"><a href="https://githubstatus.com/" data-ga-click="Footer, go to status, text:status">Status</a></li>
        <li><a data-ga-click="Footer, go to help, text:help" href="https://help.github.com">Help</a></li>
    </ul>

    <a aria-label="Homepage" title="GitHub" class="footer-octicon d-none d-lg-block mx-lg-4" href="https://github.com">
      <svg height="24" class="octicon octicon-mark-github" viewBox="0 0 16 16" version="1.1" width="24" aria-hidden="true"><path fill-rule="evenodd" d="M8 0C3.58 0 0 3.58 0 8c0 3.54 2.29 6.53 5.47 7.59.4.07.55-.17.55-.38 0-.19-.01-.82-.01-1.49-2.01.37-2.53-.49-2.69-.94-.09-.23-.48-.94-.82-1.13-.28-.15-.68-.52-.01-.53.63-.01 1.08.58 1.23.82.72 1.21 1.87.87 2.33.66.07-.52.28-.87.51-1.07-1.78-.2-3.64-.89-3.64-3.95 0-.87.31-1.59.82-2.15-.08-.2-.36-1.02.08-2.12 0 0 .67-.21 2.2.82.64-.18 1.32-.27 2-.27.68 0 1.36.09 2 .27 1.53-1.04 2.2-.82 2.2-.82.44 1.1.16 1.92.08 2.12.51.56.82 1.27.82 2.15 0 3.07-1.87 3.75-3.65 3.95.29.25.54.73.54 1.48 0 1.07-.01 1.93-.01 2.2 0 .21.15.46.55.38A8.013 8.013 0 0016 8c0-4.42-3.58-8-8-8z"/></svg>
</a>
   <ul class="list-style-none d-flex flex-wrap col-12 col-lg-5 flex-justify-center flex-lg-justify-between mb-2 mb-lg-0">
        <li class="mr-3 mr-lg-0"><a data-ga-click="Footer, go to contact, text:contact" href="https://github.com/contact">Contact GitHub</a></li>
        <li class="mr-3 mr-lg-0"><a href="https://github.com/pricing" data-ga-click="Footer, go to Pricing, text:Pricing">Pricing</a></li>
      <li class="mr-3 mr-lg-0"><a href="https://developer.github.com" data-ga-click="Footer, go to api, text:api">API</a></li>
      <li class="mr-3 mr-lg-0"><a href="https://training.github.com" data-ga-click="Footer, go to training, text:training">Training</a></li>
        <li class="mr-3 mr-lg-0"><a href="https://github.blog" data-ga-click="Footer, go to blog, text:blog">Blog</a></li>
        <li><a data-ga-click="Footer, go to about, text:about" href="https://github.com/about">About</a></li>

    </ul>
  </div>
  <div class="d-flex flex-justify-center pb-6">
    <span class="f6 text-gray-light"></span>
  </div>
</div>



  <div id="ajax-error-message" class="ajax-error-message flash flash-error">
    <svg class="octicon octicon-alert" viewBox="0 0 16 16" version="1.1" width="16" height="16" aria-hidden="true"><path fill-rule="evenodd" d="M8.893 1.5c-.183-.31-.52-.5-.887-.5s-.703.19-.886.5L.138 13.499a.98.98 0 000 1.001c.193.31.53.501.886.501h13.964c.367 0 .704-.19.877-.5a1.03 1.03 0 00.01-1.002L8.893 1.5zm.133 11.497H6.987v-2.003h2.039v2.003zm0-3.004H6.987V5.987h2.039v4.006z"/></svg>
    <button type="button" class="flash-close js-ajax-error-dismiss" aria-label="Dismiss error">
      <svg class="octicon octicon-x" viewBox="0 0 12 16" version="1.1" width="12" height="16" aria-hidden="true"><path fill-rule="evenodd" d="M7.48 8l3.75 3.75-1.48 1.48L6 9.48l-3.75 3.75-1.48-1.48L4.52 8 .77 4.25l1.48-1.48L6 6.52l3.75-3.75 1.48 1.48L7.48 8z"/></svg>
    </button>
    You can’t perform that action at this time.
  </div>


    <script crossorigin="anonymous" integrity="sha512-mdrBasYG+QjgS391PSyVkPr06io3gWplCVbPscguetNEHxIEt+mZwCeCxPR9eMNfda6qNuibNFqBo5ak2+O/hg==" type="application/javascript" src="https://github.githubassets.com/assets/compat-bootstrap-99dac16a.js"></script>
    <script crossorigin="anonymous" integrity="sha512-70iNd/Gg+yLXPhfcelP5Zr8W3AA2fp2GsH2O/ZLbKoNOS51UGEKF/twbq+aS7x15R9F80cENGrgErdVG5frxqQ==" type="application/javascript" src="https://github.githubassets.com/assets/frameworks-ef488d77.js"></script>
    
    <script crossorigin="anonymous" async="async" integrity="sha512-TaQa4aAzMoNdKy9m5YYU7UICMKMOD3xycYuovjVypz3p/7556g3yNbQH4v07yUtDRgmNYeLcfBMomUoJF9RRUw==" type="application/javascript" src="https://github.githubassets.com/assets/github-bootstrap-4da41ae1.js"></script>
    
    
    
  <div class="js-stale-session-flash flash flash-warn flash-banner" hidden
    >
    <svg class="octicon octicon-alert" viewBox="0 0 16 16" version="1.1" width="16" height="16" aria-hidden="true"><path fill-rule="evenodd" d="M8.893 1.5c-.183-.31-.52-.5-.887-.5s-.703.19-.886.5L.138 13.499a.98.98 0 000 1.001c.193.31.53.501.886.501h13.964c.367 0 .704-.19.877-.5a1.03 1.03 0 00.01-1.002L8.893 1.5zm.133 11.497H6.987v-2.003h2.039v2.003zm0-3.004H6.987V5.987h2.039v4.006z"/></svg>
    <span class="js-stale-session-flash-signed-in" hidden>You signed in with another tab or window. <a href="">Reload</a> to refresh your session.</span>
    <span class="js-stale-session-flash-signed-out" hidden>You signed out in another tab or window. <a href="">Reload</a> to refresh your session.</span>
  </div>
  <template id="site-details-dialog">
  <details class="details-reset details-overlay details-overlay-dark lh-default text-gray-dark hx_rsm" open>
    <summary role="button" aria-label="Close dialog"></summary>
    <details-dialog class="Box Box--overlay d-flex flex-column anim-fade-in fast hx_rsm-dialog hx_rsm-modal">
      <button class="Box-btn-octicon m-0 btn-octicon position-absolute right-0 top-0" type="button" aria-label="Close dialog" data-close-dialog>
        <svg class="octicon octicon-x" viewBox="0 0 12 16" version="1.1" width="12" height="16" aria-hidden="true"><path fill-rule="evenodd" d="M7.48 8l3.75 3.75-1.48 1.48L6 9.48l-3.75 3.75-1.48-1.48L4.52 8 .77 4.25l1.48-1.48L6 6.52l3.75-3.75 1.48 1.48L7.48 8z"/></svg>
      </button>
      <div class="octocat-spinner my-6 js-details-dialog-spinner"></div>
    </details-dialog>
  </details>
</template>

  <div class="Popover js-hovercard-content position-absolute" style="display: none; outline: none;" tabindex="0">
  <div class="Popover-message Popover-message--bottom-left Popover-message--large Box box-shadow-large" style="width:360px;">
  </div>
</div>

  <div aria-live="polite" class="js-global-screen-reader-notice sr-only"></div>

  </body>
</html>

>>>>>>> cfafaebadce215d67b2d5e5a2e8de56eb19d0209
