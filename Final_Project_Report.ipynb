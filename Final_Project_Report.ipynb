{
 "cells": [
  {
   "cell_type": "markdown",
   "metadata": {},
   "source": [
    "# IST 652 Final Project - A Pantheon Exploration"
   ]
  },
  {
   "cell_type": "markdown",
   "metadata": {},
   "source": [
    "# Introduction\n",
    "\n",
    "Research questions:\n",
    "\n",
    "* Which historic characters are the most popular?\n",
    "* When did they live and where are they from?\n",
    "* What factors could ahve generated their popularity?\n",
    "* Are there any observable trends in the categorical data provided?\n",
    "* What associations exist between the variables in the data?\n",
    "* What clusters and groupings are in the data? How do groups compared in popularity?"
   ]
  },
  {
   "cell_type": "markdown",
   "metadata": {},
   "source": [
    "# Analysis\n",
    "\n",
    "Key analysis methods used in report:\n",
    "* Data Cleaning\n",
    "* Sorting and subsets of the data.\n",
    "* Line and bar plots.\n",
    "* Multiple regression"
   ]
  },
  {
   "cell_type": "markdown",
   "metadata": {},
   "source": [
    "## About the Data"
   ]
  },
  {
   "cell_type": "code",
   "execution_count": 1,
   "metadata": {},
   "outputs": [],
   "source": [
    "import os\n",
    "import pandas as pd\n",
    "import numpy as np\n",
    "import matplotlib\n",
    "import matplotlib.pyplot as plt\n",
    "import seaborn as sns\n",
    "sns.set()"
   ]
  },
  {
   "cell_type": "code",
   "execution_count": 2,
   "metadata": {},
   "outputs": [],
   "source": [
    "# Loading data from .csv file\n",
    "dataFileName = \"data/database.csv\"\n",
    "isExist = os.path.isfile(dataFileName)\n",
    "if isExist == True:\n",
    "    dfDirtyData = pd.read_csv(dataFileName, sep=\",\", header=0)\n",
    "else:\n",
    "    print(\"File not found:\", os.getcwd())\n"
   ]
  },
  {
   "cell_type": "code",
   "execution_count": 3,
   "metadata": {},
   "outputs": [
    {
     "name": "stdout",
     "output_type": "stream",
     "text": "<class 'pandas.core.frame.DataFrame'>\nRangeIndex: 11341 entries, 0 to 11340\nData columns (total 17 columns):\narticle_id                     11341 non-null int64\nfull_name                      11341 non-null object\nsex                            11341 non-null object\nbirth_year                     11341 non-null object\ncity                           11341 non-null object\nstate                          2172 non-null object\ncountry                        11308 non-null object\ncontinent                      11311 non-null object\nlatitude                       10294 non-null float64\nlongitude                      10294 non-null float64\noccupation                     11341 non-null object\nindustry                       11341 non-null object\ndomain                         11341 non-null object\narticle_languages              11341 non-null int64\npage_views                     11341 non-null int64\naverage_views                  11341 non-null int64\nhistorical_popularity_index    11341 non-null float64\ndtypes: float64(3), int64(4), object(10)\nmemory usage: 1.5+ MB\n"
    }
   ],
   "source": [
    "# Showing inforamtion about the dataframe\n",
    "dfDirtyData.info()"
   ]
  },
  {
   "cell_type": "code",
   "execution_count": 4,
   "metadata": {},
   "outputs": [],
   "source": [
    "# Creating a varibale to hold fields for displaying purpose since not all will fit\n",
    "columnToDisplayDirtyData = ['full_name', 'sex', 'birth_year', 'country', 'occupation','historical_popularity_index']"
   ]
  },
  {
   "cell_type": "code",
   "execution_count": 5,
   "metadata": {},
   "outputs": [
    {
     "data": {
      "text/plain": "article_id                             23671899\nfull_name                                Elisha\nsex                                        Male\nbirth_year                              Unknown\ncity                                      Other\nstate                                       NaN\ncountry                                 Unknown\ncontinent                               Unknown\nlatitude                                    NaN\nlongitude                                   NaN\noccupation                     Religious Figure\nindustry                               Religion\ndomain                             Institutions\narticle_languages                            41\npage_views                              1338790\naverage_views                             32653\nhistorical_popularity_index             25.5087\nName: 1522, dtype: object"
     },
     "execution_count": 5,
     "metadata": {},
     "output_type": "execute_result"
    }
   ],
   "source": [
    "# Showing a single row of record\n",
    "dfDirtyData.loc[1522]"
   ]
  },
  {
   "cell_type": "code",
   "execution_count": 6,
   "metadata": {},
   "outputs": [
    {
     "data": {
      "text/html": "<div>\n<style scoped>\n    .dataframe tbody tr th:only-of-type {\n        vertical-align: middle;\n    }\n\n    .dataframe tbody tr th {\n        vertical-align: top;\n    }\n\n    .dataframe thead th {\n        text-align: right;\n    }\n</style>\n<table border=\"1\" class=\"dataframe\">\n  <thead>\n    <tr style=\"text-align: right;\">\n      <th></th>\n      <th>full_name</th>\n      <th>sex</th>\n      <th>birth_year</th>\n      <th>country</th>\n      <th>occupation</th>\n      <th>historical_popularity_index</th>\n    </tr>\n  </thead>\n  <tbody>\n    <tr>\n      <th>0</th>\n      <td>Aristotle</td>\n      <td>Male</td>\n      <td>-384</td>\n      <td>Greece</td>\n      <td>Philosopher</td>\n      <td>31.9938</td>\n    </tr>\n    <tr>\n      <th>1</th>\n      <td>Plato</td>\n      <td>Male</td>\n      <td>-427</td>\n      <td>Greece</td>\n      <td>Philosopher</td>\n      <td>31.9888</td>\n    </tr>\n    <tr>\n      <th>2</th>\n      <td>Jesus Christ</td>\n      <td>Male</td>\n      <td>-4</td>\n      <td>Israel</td>\n      <td>Religious Figure</td>\n      <td>31.8981</td>\n    </tr>\n    <tr>\n      <th>3</th>\n      <td>Socrates</td>\n      <td>Male</td>\n      <td>-469</td>\n      <td>Greece</td>\n      <td>Philosopher</td>\n      <td>31.6521</td>\n    </tr>\n    <tr>\n      <th>4</th>\n      <td>Alexander the Great</td>\n      <td>Male</td>\n      <td>-356</td>\n      <td>Greece</td>\n      <td>Military Personnel</td>\n      <td>31.5840</td>\n    </tr>\n  </tbody>\n</table>\n</div>",
      "text/plain": "             full_name   sex birth_year country          occupation  \\\n0            Aristotle  Male       -384  Greece         Philosopher   \n1                Plato  Male       -427  Greece         Philosopher   \n2         Jesus Christ  Male         -4  Israel    Religious Figure   \n3             Socrates  Male       -469  Greece         Philosopher   \n4  Alexander the Great  Male       -356  Greece  Military Personnel   \n\n   historical_popularity_index  \n0                      31.9938  \n1                      31.9888  \n2                      31.8981  \n3                      31.6521  \n4                      31.5840  "
     },
     "execution_count": 6,
     "metadata": {},
     "output_type": "execute_result"
    }
   ],
   "source": [
    "# Showing the first 5 rows of the data in the data frame\n",
    "dfDirtyData.loc[:,columnToDisplayDirtyData].head(5)"
   ]
  },
  {
   "cell_type": "code",
   "execution_count": 7,
   "metadata": {},
   "outputs": [
    {
     "data": {
      "text/html": "<div>\n<style scoped>\n    .dataframe tbody tr th:only-of-type {\n        vertical-align: middle;\n    }\n\n    .dataframe tbody tr th {\n        vertical-align: top;\n    }\n\n    .dataframe thead th {\n        text-align: right;\n    }\n</style>\n<table border=\"1\" class=\"dataframe\">\n  <thead>\n    <tr style=\"text-align: right;\">\n      <th></th>\n      <th>full_name</th>\n      <th>sex</th>\n      <th>birth_year</th>\n      <th>country</th>\n      <th>occupation</th>\n      <th>historical_popularity_index</th>\n    </tr>\n  </thead>\n  <tbody>\n    <tr>\n      <th>11336</th>\n      <td>Sean St Ledger</td>\n      <td>Male</td>\n      <td>1984</td>\n      <td>United Kingdom</td>\n      <td>Soccer Player</td>\n      <td>11.1346</td>\n    </tr>\n    <tr>\n      <th>11337</th>\n      <td>Saina Nehwal</td>\n      <td>Female</td>\n      <td>1990</td>\n      <td>India</td>\n      <td>Athlete</td>\n      <td>10.6122</td>\n    </tr>\n    <tr>\n      <th>11338</th>\n      <td>Rūta Meilutytė</td>\n      <td>Female</td>\n      <td>1997</td>\n      <td>Lithuania</td>\n      <td>Swimmer</td>\n      <td>10.3821</td>\n    </tr>\n    <tr>\n      <th>11339</th>\n      <td>Vladimír Weiss</td>\n      <td>Male</td>\n      <td>1989</td>\n      <td>Slovakia</td>\n      <td>Soccer Player</td>\n      <td>10.2495</td>\n    </tr>\n    <tr>\n      <th>11340</th>\n      <td>Missy Franklin</td>\n      <td>Female</td>\n      <td>1995</td>\n      <td>United States</td>\n      <td>Swimmer</td>\n      <td>9.8794</td>\n    </tr>\n  </tbody>\n</table>\n</div>",
      "text/plain": "            full_name     sex birth_year         country     occupation  \\\n11336  Sean St Ledger    Male       1984  United Kingdom  Soccer Player   \n11337    Saina Nehwal  Female       1990           India        Athlete   \n11338  Rūta Meilutytė  Female       1997       Lithuania        Swimmer   \n11339  Vladimír Weiss    Male       1989        Slovakia  Soccer Player   \n11340  Missy Franklin  Female       1995   United States        Swimmer   \n\n       historical_popularity_index  \n11336                      11.1346  \n11337                      10.6122  \n11338                      10.3821  \n11339                      10.2495  \n11340                       9.8794  "
     },
     "execution_count": 7,
     "metadata": {},
     "output_type": "execute_result"
    }
   ],
   "source": [
    "# Showing the first 5 rows of the data in the data frame\n",
    "dfDirtyData.loc[:,columnToDisplayDirtyData].tail(5)"
   ]
  },
  {
   "cell_type": "markdown",
   "metadata": {},
   "source": [
    "## Data Cleaning"
   ]
  },
  {
   "cell_type": "code",
   "execution_count": 8,
   "metadata": {},
   "outputs": [],
   "source": [
    "# Creating a new copy of a dataframe\n",
    "dfCleanData = dfDirtyData.copy()"
   ]
  },
  {
   "cell_type": "code",
   "execution_count": 9,
   "metadata": {},
   "outputs": [],
   "source": [
    "# Renaming historical_popularity_index to popularity (short name)\n",
    "dfCleanData.rename(columns={'historical_popularity_index': 'popularity'}, inplace=True)"
   ]
  },
  {
   "cell_type": "code",
   "execution_count": 10,
   "metadata": {},
   "outputs": [],
   "source": [
    "# Finding the index of a column with alpha numberic values.\n",
    "def findStringValueIndex(fieldName):\n",
    "    badRowIndex = [] # initialize list of problematic rows\n",
    "    for idx, value in enumerate(dfCleanData[fieldName]):\n",
    "        try:\n",
    "            int(value)\n",
    "        except:\n",
    "            badRowIndex.append(idx)\n",
    "    return badRowIndex"
   ]
  },
  {
   "cell_type": "code",
   "execution_count": 11,
   "metadata": {},
   "outputs": [],
   "source": [
    "# List of columns to be converted into numeric data type\n",
    "columnToConvert = [\"article_languages\", \"birth_year\", \"latitude\", \"longitude\", \"page_views\",\"average_views\", \"popularity\"]\n",
    "# Making sure to replace the non-numeric values to 0 before converting to numeric\n",
    "# Examples: \n",
    "#           dfCleanData.loc[findStringValueIndex('latitude'), 'latitude'] = 0\n",
    "# The following code block is doing similiar to the examples but \n",
    "# through the iteration of the list \n",
    "for col in columnToConvert:\n",
    "    indx = []\n",
    "    indx = findStringValueIndex(col)\n",
    "    if len(indx) > 0 :\n",
    "        dfCleanData.loc[indx, col] = 0\n",
    "# Converting the columns above to numeric data type\n",
    "dfCleanData[columnToConvert] = dfCleanData[columnToConvert].apply(pd.to_numeric)"
   ]
  },
  {
   "cell_type": "code",
   "execution_count": 12,
   "metadata": {},
   "outputs": [],
   "source": [
    "# Looping through columns in the dataframe. \n",
    "# Replacing columns values with 'object' data type from 'NaN' to 'NA'\n",
    "for column in dfCleanData.columns:\n",
    "    if(dfCleanData[column].dtype == 'object'):\n",
    "          dfCleanData[column].fillna(value=\"NA\", inplace=True)"
   ]
  },
  {
   "cell_type": "code",
   "execution_count": 13,
   "metadata": {},
   "outputs": [
    {
     "name": "stdout",
     "output_type": "stream",
     "text": "<class 'pandas.core.frame.DataFrame'>\nRangeIndex: 11341 entries, 0 to 11340\nData columns (total 17 columns):\narticle_id           11341 non-null int64\nfull_name            11341 non-null object\nsex                  11341 non-null object\nbirth_year           11341 non-null int64\ncity                 11341 non-null object\nstate                11341 non-null object\ncountry              11341 non-null object\ncontinent            11341 non-null object\nlatitude             11341 non-null float64\nlongitude            11341 non-null float64\noccupation           11341 non-null object\nindustry             11341 non-null object\ndomain               11341 non-null object\narticle_languages    11341 non-null int64\npage_views           11341 non-null int64\naverage_views        11341 non-null int64\npopularity           11341 non-null float64\ndtypes: float64(3), int64(5), object(9)\nmemory usage: 1.5+ MB\n"
    }
   ],
   "source": [
    "# Showing inforamtion about the dataframe\n",
    "dfCleanData.info()"
   ]
  },
  {
   "cell_type": "code",
   "execution_count": 14,
   "metadata": {},
   "outputs": [],
   "source": [
    "# Creating a varibale to hold fields for displaying purpose since not all will fit\n",
    "columnToDisplayCleanData = ['full_name', 'sex', 'birth_year', 'country', 'occupation','popularity','longitude','latitude','page_views','average_views']"
   ]
  },
  {
   "cell_type": "code",
   "execution_count": 15,
   "metadata": {},
   "outputs": [
    {
     "data": {
      "text/html": "<div>\n<style scoped>\n    .dataframe tbody tr th:only-of-type {\n        vertical-align: middle;\n    }\n\n    .dataframe tbody tr th {\n        vertical-align: top;\n    }\n\n    .dataframe thead th {\n        text-align: right;\n    }\n</style>\n<table border=\"1\" class=\"dataframe\">\n  <thead>\n    <tr style=\"text-align: right;\">\n      <th></th>\n      <th>full_name</th>\n      <th>sex</th>\n      <th>birth_year</th>\n      <th>country</th>\n      <th>occupation</th>\n      <th>popularity</th>\n      <th>longitude</th>\n      <th>latitude</th>\n      <th>page_views</th>\n      <th>average_views</th>\n    </tr>\n  </thead>\n  <tbody>\n    <tr>\n      <th>0</th>\n      <td>Aristotle</td>\n      <td>Male</td>\n      <td>-384</td>\n      <td>Greece</td>\n      <td>Philosopher</td>\n      <td>31.9938</td>\n      <td>23.50000</td>\n      <td>40.33333</td>\n      <td>56355172</td>\n      <td>370758</td>\n    </tr>\n    <tr>\n      <th>1</th>\n      <td>Plato</td>\n      <td>Male</td>\n      <td>-427</td>\n      <td>Greece</td>\n      <td>Philosopher</td>\n      <td>31.9888</td>\n      <td>23.71667</td>\n      <td>37.96667</td>\n      <td>46812003</td>\n      <td>329662</td>\n    </tr>\n    <tr>\n      <th>2</th>\n      <td>Jesus Christ</td>\n      <td>Male</td>\n      <td>-4</td>\n      <td>Israel</td>\n      <td>Religious Figure</td>\n      <td>31.8981</td>\n      <td>34.90000</td>\n      <td>32.50000</td>\n      <td>60299092</td>\n      <td>281771</td>\n    </tr>\n    <tr>\n      <th>3</th>\n      <td>Socrates</td>\n      <td>Male</td>\n      <td>-469</td>\n      <td>Greece</td>\n      <td>Philosopher</td>\n      <td>31.6521</td>\n      <td>23.71667</td>\n      <td>37.96667</td>\n      <td>40307143</td>\n      <td>294213</td>\n    </tr>\n    <tr>\n      <th>4</th>\n      <td>Alexander the Great</td>\n      <td>Male</td>\n      <td>-356</td>\n      <td>Greece</td>\n      <td>Military Personnel</td>\n      <td>31.5840</td>\n      <td>22.51667</td>\n      <td>40.80000</td>\n      <td>48358148</td>\n      <td>350421</td>\n    </tr>\n  </tbody>\n</table>\n</div>",
      "text/plain": "             full_name   sex  birth_year country          occupation  \\\n0            Aristotle  Male        -384  Greece         Philosopher   \n1                Plato  Male        -427  Greece         Philosopher   \n2         Jesus Christ  Male          -4  Israel    Religious Figure   \n3             Socrates  Male        -469  Greece         Philosopher   \n4  Alexander the Great  Male        -356  Greece  Military Personnel   \n\n   popularity  longitude  latitude  page_views  average_views  \n0     31.9938   23.50000  40.33333    56355172         370758  \n1     31.9888   23.71667  37.96667    46812003         329662  \n2     31.8981   34.90000  32.50000    60299092         281771  \n3     31.6521   23.71667  37.96667    40307143         294213  \n4     31.5840   22.51667  40.80000    48358148         350421  "
     },
     "execution_count": 15,
     "metadata": {},
     "output_type": "execute_result"
    }
   ],
   "source": [
    "# Showing the first 5 rows of the data in the dataset\n",
    "dfCleanData.loc[:,columnToDisplayCleanData].head(5)"
   ]
  },
  {
   "cell_type": "code",
   "execution_count": 16,
   "metadata": {},
   "outputs": [
    {
     "data": {
      "text/html": "<div>\n<style scoped>\n    .dataframe tbody tr th:only-of-type {\n        vertical-align: middle;\n    }\n\n    .dataframe tbody tr th {\n        vertical-align: top;\n    }\n\n    .dataframe thead th {\n        text-align: right;\n    }\n</style>\n<table border=\"1\" class=\"dataframe\">\n  <thead>\n    <tr style=\"text-align: right;\">\n      <th></th>\n      <th>full_name</th>\n      <th>sex</th>\n      <th>birth_year</th>\n      <th>country</th>\n      <th>occupation</th>\n      <th>popularity</th>\n      <th>longitude</th>\n      <th>latitude</th>\n      <th>page_views</th>\n      <th>average_views</th>\n    </tr>\n  </thead>\n  <tbody>\n    <tr>\n      <th>11336</th>\n      <td>Sean St Ledger</td>\n      <td>Male</td>\n      <td>1984</td>\n      <td>United Kingdom</td>\n      <td>Soccer Player</td>\n      <td>11.1346</td>\n      <td>-1.77209</td>\n      <td>52.41290</td>\n      <td>380965</td>\n      <td>13606</td>\n    </tr>\n    <tr>\n      <th>11337</th>\n      <td>Saina Nehwal</td>\n      <td>Female</td>\n      <td>1990</td>\n      <td>India</td>\n      <td>Athlete</td>\n      <td>10.6122</td>\n      <td>75.71670</td>\n      <td>29.16670</td>\n      <td>2255010</td>\n      <td>86731</td>\n    </tr>\n    <tr>\n      <th>11338</th>\n      <td>Rūta Meilutytė</td>\n      <td>Female</td>\n      <td>1997</td>\n      <td>Lithuania</td>\n      <td>Swimmer</td>\n      <td>10.3821</td>\n      <td>23.88611</td>\n      <td>54.90000</td>\n      <td>342719</td>\n      <td>10710</td>\n    </tr>\n    <tr>\n      <th>11339</th>\n      <td>Vladimír Weiss</td>\n      <td>Male</td>\n      <td>1989</td>\n      <td>Slovakia</td>\n      <td>Soccer Player</td>\n      <td>10.2495</td>\n      <td>17.10972</td>\n      <td>48.14389</td>\n      <td>12479</td>\n      <td>462</td>\n    </tr>\n    <tr>\n      <th>11340</th>\n      <td>Missy Franklin</td>\n      <td>Female</td>\n      <td>1995</td>\n      <td>United States</td>\n      <td>Swimmer</td>\n      <td>9.8794</td>\n      <td>-118.13194</td>\n      <td>34.15611</td>\n      <td>1894716</td>\n      <td>72874</td>\n    </tr>\n  </tbody>\n</table>\n</div>",
      "text/plain": "            full_name     sex  birth_year         country     occupation  \\\n11336  Sean St Ledger    Male        1984  United Kingdom  Soccer Player   \n11337    Saina Nehwal  Female        1990           India        Athlete   \n11338  Rūta Meilutytė  Female        1997       Lithuania        Swimmer   \n11339  Vladimír Weiss    Male        1989        Slovakia  Soccer Player   \n11340  Missy Franklin  Female        1995   United States        Swimmer   \n\n       popularity  longitude  latitude  page_views  average_views  \n11336     11.1346   -1.77209  52.41290      380965          13606  \n11337     10.6122   75.71670  29.16670     2255010          86731  \n11338     10.3821   23.88611  54.90000      342719          10710  \n11339     10.2495   17.10972  48.14389       12479            462  \n11340      9.8794 -118.13194  34.15611     1894716          72874  "
     },
     "execution_count": 16,
     "metadata": {},
     "output_type": "execute_result"
    }
   ],
   "source": [
    "# Showing the last 5 rows of the data in the dataset\n",
    "dfCleanData.loc[:,columnToDisplayCleanData].tail(5)"
   ]
  },
  {
   "cell_type": "markdown",
   "metadata": {},
   "source": [
    "## Exploration"
   ]
  },
  {
   "cell_type": "code",
   "execution_count": 17,
   "metadata": {},
   "outputs": [
    {
     "data": {
      "text/html": "<div>\n<style scoped>\n    .dataframe tbody tr th:only-of-type {\n        vertical-align: middle;\n    }\n\n    .dataframe tbody tr th {\n        vertical-align: top;\n    }\n\n    .dataframe thead th {\n        text-align: right;\n    }\n</style>\n<table border=\"1\" class=\"dataframe\">\n  <thead>\n    <tr style=\"text-align: right;\">\n      <th></th>\n      <th>full_name</th>\n      <th>sex</th>\n      <th>birth_year</th>\n      <th>country</th>\n      <th>occupation</th>\n      <th>popularity</th>\n      <th>longitude</th>\n      <th>latitude</th>\n      <th>page_views</th>\n      <th>average_views</th>\n    </tr>\n  </thead>\n  <tbody>\n    <tr>\n      <th>0</th>\n      <td>Aristotle</td>\n      <td>Male</td>\n      <td>-384</td>\n      <td>Greece</td>\n      <td>Philosopher</td>\n      <td>31.9938</td>\n      <td>23.50000</td>\n      <td>40.33333</td>\n      <td>56355172</td>\n      <td>370758</td>\n    </tr>\n    <tr>\n      <th>1</th>\n      <td>Plato</td>\n      <td>Male</td>\n      <td>-427</td>\n      <td>Greece</td>\n      <td>Philosopher</td>\n      <td>31.9888</td>\n      <td>23.71667</td>\n      <td>37.96667</td>\n      <td>46812003</td>\n      <td>329662</td>\n    </tr>\n    <tr>\n      <th>2</th>\n      <td>Jesus Christ</td>\n      <td>Male</td>\n      <td>-4</td>\n      <td>Israel</td>\n      <td>Religious Figure</td>\n      <td>31.8981</td>\n      <td>34.90000</td>\n      <td>32.50000</td>\n      <td>60299092</td>\n      <td>281771</td>\n    </tr>\n    <tr>\n      <th>3</th>\n      <td>Socrates</td>\n      <td>Male</td>\n      <td>-469</td>\n      <td>Greece</td>\n      <td>Philosopher</td>\n      <td>31.6521</td>\n      <td>23.71667</td>\n      <td>37.96667</td>\n      <td>40307143</td>\n      <td>294213</td>\n    </tr>\n    <tr>\n      <th>4</th>\n      <td>Alexander the Great</td>\n      <td>Male</td>\n      <td>-356</td>\n      <td>Greece</td>\n      <td>Military Personnel</td>\n      <td>31.5840</td>\n      <td>22.51667</td>\n      <td>40.80000</td>\n      <td>48358148</td>\n      <td>350421</td>\n    </tr>\n    <tr>\n      <th>5</th>\n      <td>Leonardo da Vinci</td>\n      <td>Male</td>\n      <td>1452</td>\n      <td>Italy</td>\n      <td>Inventor</td>\n      <td>31.4644</td>\n      <td>10.91667</td>\n      <td>43.78333</td>\n      <td>88931135</td>\n      <td>511098</td>\n    </tr>\n    <tr>\n      <th>6</th>\n      <td>Confucius</td>\n      <td>Male</td>\n      <td>-551</td>\n      <td>China</td>\n      <td>Philosopher</td>\n      <td>31.3705</td>\n      <td>0.00000</td>\n      <td>0.00000</td>\n      <td>22363652</td>\n      <td>116477</td>\n    </tr>\n    <tr>\n      <th>7</th>\n      <td>Julius Caesar</td>\n      <td>Male</td>\n      <td>-100</td>\n      <td>Italy</td>\n      <td>Politician</td>\n      <td>31.1161</td>\n      <td>12.50000</td>\n      <td>41.90000</td>\n      <td>43088745</td>\n      <td>336631</td>\n    </tr>\n    <tr>\n      <th>8</th>\n      <td>Homer</td>\n      <td>Male</td>\n      <td>-800</td>\n      <td>Turkey</td>\n      <td>Writer</td>\n      <td>31.1087</td>\n      <td>27.13917</td>\n      <td>38.41861</td>\n      <td>20839405</td>\n      <td>147797</td>\n    </tr>\n    <tr>\n      <th>9</th>\n      <td>Pythagoras</td>\n      <td>Male</td>\n      <td>-570</td>\n      <td>Greece</td>\n      <td>Philosopher</td>\n      <td>31.0691</td>\n      <td>26.83333</td>\n      <td>37.75000</td>\n      <td>26168219</td>\n      <td>229546</td>\n    </tr>\n  </tbody>\n</table>\n</div>",
      "text/plain": "             full_name   sex  birth_year country          occupation  \\\n0            Aristotle  Male        -384  Greece         Philosopher   \n1                Plato  Male        -427  Greece         Philosopher   \n2         Jesus Christ  Male          -4  Israel    Religious Figure   \n3             Socrates  Male        -469  Greece         Philosopher   \n4  Alexander the Great  Male        -356  Greece  Military Personnel   \n5    Leonardo da Vinci  Male        1452   Italy            Inventor   \n6            Confucius  Male        -551   China         Philosopher   \n7        Julius Caesar  Male        -100   Italy          Politician   \n8                Homer  Male        -800  Turkey              Writer   \n9           Pythagoras  Male        -570  Greece         Philosopher   \n\n   popularity  longitude  latitude  page_views  average_views  \n0     31.9938   23.50000  40.33333    56355172         370758  \n1     31.9888   23.71667  37.96667    46812003         329662  \n2     31.8981   34.90000  32.50000    60299092         281771  \n3     31.6521   23.71667  37.96667    40307143         294213  \n4     31.5840   22.51667  40.80000    48358148         350421  \n5     31.4644   10.91667  43.78333    88931135         511098  \n6     31.3705    0.00000   0.00000    22363652         116477  \n7     31.1161   12.50000  41.90000    43088745         336631  \n8     31.1087   27.13917  38.41861    20839405         147797  \n9     31.0691   26.83333  37.75000    26168219         229546  "
     },
     "execution_count": 17,
     "metadata": {},
     "output_type": "execute_result"
    }
   ],
   "source": [
    "# Which historic characters are in the top ten most popular?\n",
    "dfTopTenMostPopularPeople = dfCleanData.sort_values(by = ['popularity'], ascending = False)\n",
    "dfTopTenMostPopularPeople = dfTopTenMostPopularPeople.head(10)\n",
    "dfTopTenMostPopularPeople.loc[:,columnToDisplayCleanData]"
   ]
  },
  {
   "cell_type": "code",
   "execution_count": 18,
   "metadata": {},
   "outputs": [
    {
     "data": {
      "text/html": "<div>\n<style scoped>\n    .dataframe tbody tr th:only-of-type {\n        vertical-align: middle;\n    }\n\n    .dataframe tbody tr th {\n        vertical-align: top;\n    }\n\n    .dataframe thead th {\n        text-align: right;\n    }\n</style>\n<table border=\"1\" class=\"dataframe\">\n  <thead>\n    <tr style=\"text-align: right;\">\n      <th></th>\n      <th>total_count</th>\n    </tr>\n    <tr>\n      <th>country</th>\n      <th></th>\n    </tr>\n  </thead>\n  <tbody>\n    <tr>\n      <th>China</th>\n      <td>1</td>\n    </tr>\n    <tr>\n      <th>Greece</th>\n      <td>5</td>\n    </tr>\n    <tr>\n      <th>Israel</th>\n      <td>1</td>\n    </tr>\n    <tr>\n      <th>Italy</th>\n      <td>2</td>\n    </tr>\n    <tr>\n      <th>Turkey</th>\n      <td>1</td>\n    </tr>\n  </tbody>\n</table>\n</div>",
      "text/plain": "         total_count\ncountry             \nChina              1\nGreece             5\nIsrael             1\nItaly              2\nTurkey             1"
     },
     "execution_count": 18,
     "metadata": {},
     "output_type": "execute_result"
    }
   ],
   "source": [
    "dfTotalTop10ByCountry = pd.DataFrame(dfTopTenMostPopularPeople.groupby(['country'])['article_id'].count())\n",
    "dfTotalTop10ByCountry.rename(columns={'':'country','article_id': 'total_count'}, inplace=True)\n",
    "dfTotalTop10ByCountry "
   ]
  },
  {
   "cell_type": "code",
   "execution_count": 19,
   "metadata": {},
   "outputs": [
    {
     "data": {
      "text/plain": "[<matplotlib.lines.Line2D at 0x1c4fc5f0160>]"
     },
     "execution_count": 19,
     "metadata": {},
     "output_type": "execute_result"
    },
    {
     "data": {
      "image/png": "[encoded data removed]",
      "image/svg+xml": "<?xml version=\"1.0\" encoding=\"utf-8\" standalone=\"no\"?>\r\n<!DOCTYPE svg PUBLIC \"-//W3C//DTD SVG 1.1//EN\"\r\n  \"http://www.w3.org/Graphics/SVG/1.1/DTD/svg11.dtd\">\r\n<!-- Created with matplotlib (https://matplotlib.org/) -->\r\n<svg height=\"251.52875pt\" version=\"1.1\" viewBox=\"0 0 375.576896 251.52875\" width=\"375.576896pt\" xmlns=\"http://www.w3.org/2000/svg\" xmlns:xlink=\"http://www.w3.org/1999/xlink\">\r\n <defs>\r\n  <style type=\"text/css\">\r\n*{stroke-linecap:butt;stroke-linejoin:round;}\r\n  </style>\r\n </defs>\r\n <g id=\"figure_1\">\r\n  <g id=\"patch_1\">\r\n   <path d=\"M 0 251.52875 \r\nL 375.576896 251.52875 \r\nL 375.576896 0 \r\nL 0 0 \r\nz\r\n\" style=\"fill:#ffffff;\"/>\r\n  </g>\r\n  <g id=\"axes_1\">\r\n   <g id=\"patch_2\">\r\n    <path d=\"M 31.99 224.64 \r\nL 366.79 224.64 \r\nL 366.79 7.2 \r\nL 31.99 7.2 \r\nz\r\n\" style=\"fill:#eaeaf2;\"/>\r\n   </g>\r\n   <g id=\"matplotlib.axis_1\">\r\n    <g id=\"xtick_1\">\r\n     <g id=\"line2d_1\">\r\n      <path clip-path=\"url(#p9cbb5fd657)\" d=\"M 47.208182 224.64 \r\nL 47.208182 7.2 \r\n\" style=\"fill:none;stroke:#ffffff;stroke-linecap:round;\"/>\r\n     </g>\r\n     <g id=\"text_1\">\r\n      <!-- China -->\r\n      <defs>\r\n       <path d=\"M 58.796875 25.09375 \r\nL 68.265625 22.703125 \r\nQ 65.28125 11.03125 57.546875 4.90625 \r\nQ 49.8125 -1.21875 38.625 -1.21875 \r\nQ 27.046875 -1.21875 19.796875 3.484375 \r\nQ 12.546875 8.203125 8.765625 17.140625 \r\nQ 4.984375 26.078125 4.984375 36.328125 \r\nQ 4.984375 47.515625 9.25 55.828125 \r\nQ 13.53125 64.15625 21.40625 68.46875 \r\nQ 29.296875 72.796875 38.765625 72.796875 \r\nQ 49.515625 72.796875 56.828125 67.328125 \r\nQ 64.15625 61.859375 67.046875 51.953125 \r\nL 57.71875 49.75 \r\nQ 55.21875 57.5625 50.484375 61.125 \r\nQ 45.75 64.703125 38.578125 64.703125 \r\nQ 30.328125 64.703125 24.78125 60.734375 \r\nQ 19.234375 56.78125 16.984375 50.109375 \r\nQ 14.75 43.453125 14.75 36.375 \r\nQ 14.75 27.25 17.40625 20.4375 \r\nQ 20.0625 13.625 25.671875 10.25 \r\nQ 31.296875 6.890625 37.84375 6.890625 \r\nQ 45.796875 6.890625 51.3125 11.46875 \r\nQ 56.84375 16.0625 58.796875 25.09375 \r\nz\r\n\" id=\"ArialMT-67\"/>\r\n       <path d=\"M 6.59375 0 \r\nL 6.59375 71.578125 \r\nL 15.375 71.578125 \r\nL 15.375 45.90625 \r\nQ 21.53125 53.03125 30.90625 53.03125 \r\nQ 36.671875 53.03125 40.921875 50.75 \r\nQ 45.171875 48.484375 47 44.484375 \r\nQ 48.828125 40.484375 48.828125 32.859375 \r\nL 48.828125 0 \r\nL 40.046875 0 \r\nL 40.046875 32.859375 \r\nQ 40.046875 39.453125 37.1875 42.453125 \r\nQ 34.328125 45.453125 29.109375 45.453125 \r\nQ 25.203125 45.453125 21.75 43.421875 \r\nQ 18.3125 41.40625 16.84375 37.9375 \r\nQ 15.375 34.46875 15.375 28.375 \r\nL 15.375 0 \r\nz\r\n\" id=\"ArialMT-104\"/>\r\n       <path d=\"M 6.640625 61.46875 \r\nL 6.640625 71.578125 \r\nL 15.4375 71.578125 \r\nL 15.4375 61.46875 \r\nz\r\nM 6.640625 0 \r\nL 6.640625 51.859375 \r\nL 15.4375 51.859375 \r\nL 15.4375 0 \r\nz\r\n\" id=\"ArialMT-105\"/>\r\n       <path d=\"M 6.59375 0 \r\nL 6.59375 51.859375 \r\nL 14.5 51.859375 \r\nL 14.5 44.484375 \r\nQ 20.21875 53.03125 31 53.03125 \r\nQ 35.6875 53.03125 39.625 51.34375 \r\nQ 43.5625 49.65625 45.515625 46.921875 \r\nQ 47.46875 44.1875 48.25 40.4375 \r\nQ 48.734375 37.984375 48.734375 31.890625 \r\nL 48.734375 0 \r\nL 39.9375 0 \r\nL 39.9375 31.546875 \r\nQ 39.9375 36.921875 38.90625 39.578125 \r\nQ 37.890625 42.234375 35.28125 43.8125 \r\nQ 32.671875 45.40625 29.15625 45.40625 \r\nQ 23.53125 45.40625 19.453125 41.84375 \r\nQ 15.375 38.28125 15.375 28.328125 \r\nL 15.375 0 \r\nz\r\n\" id=\"ArialMT-110\"/>\r\n       <path d=\"M 40.4375 6.390625 \r\nQ 35.546875 2.25 31.03125 0.53125 \r\nQ 26.515625 -1.171875 21.34375 -1.171875 \r\nQ 12.796875 -1.171875 8.203125 3 \r\nQ 3.609375 7.171875 3.609375 13.671875 \r\nQ 3.609375 17.484375 5.34375 20.625 \r\nQ 7.078125 23.78125 9.890625 25.6875 \r\nQ 12.703125 27.59375 16.21875 28.5625 \r\nQ 18.796875 29.25 24.03125 29.890625 \r\nQ 34.671875 31.15625 39.703125 32.90625 \r\nQ 39.75 34.71875 39.75 35.203125 \r\nQ 39.75 40.578125 37.25 42.78125 \r\nQ 33.890625 45.75 27.25 45.75 \r\nQ 21.046875 45.75 18.09375 43.578125 \r\nQ 15.140625 41.40625 13.71875 35.890625 \r\nL 5.125 37.0625 \r\nQ 6.296875 42.578125 8.984375 45.96875 \r\nQ 11.671875 49.359375 16.75 51.1875 \r\nQ 21.828125 53.03125 28.515625 53.03125 \r\nQ 35.15625 53.03125 39.296875 51.46875 \r\nQ 43.453125 49.90625 45.40625 47.53125 \r\nQ 47.359375 45.171875 48.140625 41.546875 \r\nQ 48.578125 39.3125 48.578125 33.453125 \r\nL 48.578125 21.734375 \r\nQ 48.578125 9.46875 49.140625 6.21875 \r\nQ 49.703125 2.984375 51.375 0 \r\nL 42.1875 0 \r\nQ 40.828125 2.734375 40.4375 6.390625 \r\nz\r\nM 39.703125 26.03125 \r\nQ 34.90625 24.078125 25.34375 22.703125 \r\nQ 19.921875 21.921875 17.671875 20.9375 \r\nQ 15.4375 19.96875 14.203125 18.09375 \r\nQ 12.984375 16.21875 12.984375 13.921875 \r\nQ 12.984375 10.40625 15.640625 8.0625 \r\nQ 18.3125 5.71875 23.4375 5.71875 \r\nQ 28.515625 5.71875 32.46875 7.9375 \r\nQ 36.421875 10.15625 38.28125 14.015625 \r\nQ 39.703125 17 39.703125 22.796875 \r\nz\r\n\" id=\"ArialMT-97\"/>\r\n      </defs>\r\n      <g style=\"fill:#262626;\" transform=\"translate(32.838572 242.013594)scale(0.11 -0.11)\">\r\n       <use xlink:href=\"#ArialMT-67\"/>\r\n       <use x=\"72.216797\" xlink:href=\"#ArialMT-104\"/>\r\n       <use x=\"127.832031\" xlink:href=\"#ArialMT-105\"/>\r\n       <use x=\"150.048828\" xlink:href=\"#ArialMT-110\"/>\r\n       <use x=\"205.664062\" xlink:href=\"#ArialMT-97\"/>\r\n      </g>\r\n     </g>\r\n    </g>\r\n    <g id=\"xtick_2\">\r\n     <g id=\"line2d_2\">\r\n      <path clip-path=\"url(#p9cbb5fd657)\" d=\"M 123.299091 224.64 \r\nL 123.299091 7.2 \r\n\" style=\"fill:none;stroke:#ffffff;stroke-linecap:round;\"/>\r\n     </g>\r\n     <g id=\"text_2\">\r\n      <!-- Greece -->\r\n      <defs>\r\n       <path d=\"M 41.21875 28.078125 \r\nL 41.21875 36.46875 \r\nL 71.53125 36.53125 \r\nL 71.53125 9.96875 \r\nQ 64.546875 4.390625 57.125 1.578125 \r\nQ 49.703125 -1.21875 41.890625 -1.21875 \r\nQ 31.34375 -1.21875 22.71875 3.296875 \r\nQ 14.109375 7.8125 9.71875 16.359375 \r\nQ 5.328125 24.90625 5.328125 35.453125 \r\nQ 5.328125 45.90625 9.6875 54.953125 \r\nQ 14.0625 64.015625 22.265625 68.40625 \r\nQ 30.46875 72.796875 41.15625 72.796875 \r\nQ 48.921875 72.796875 55.1875 70.28125 \r\nQ 61.46875 67.78125 65.03125 63.28125 \r\nQ 68.609375 58.796875 70.453125 51.5625 \r\nL 61.921875 49.21875 \r\nQ 60.296875 54.6875 57.90625 57.8125 \r\nQ 55.515625 60.9375 51.0625 62.8125 \r\nQ 46.625 64.703125 41.21875 64.703125 \r\nQ 34.71875 64.703125 29.984375 62.71875 \r\nQ 25.25 60.75 22.34375 57.515625 \r\nQ 19.4375 54.296875 17.828125 50.4375 \r\nQ 15.09375 43.796875 15.09375 36.03125 \r\nQ 15.09375 26.46875 18.390625 20.015625 \r\nQ 21.6875 13.578125 27.984375 10.453125 \r\nQ 34.28125 7.328125 41.359375 7.328125 \r\nQ 47.515625 7.328125 53.375 9.6875 \r\nQ 59.234375 12.0625 62.25 14.75 \r\nL 62.25 28.078125 \r\nz\r\n\" id=\"ArialMT-71\"/>\r\n       <path d=\"M 6.5 0 \r\nL 6.5 51.859375 \r\nL 14.40625 51.859375 \r\nL 14.40625 44 \r\nQ 17.4375 49.515625 20 51.265625 \r\nQ 22.5625 53.03125 25.640625 53.03125 \r\nQ 30.078125 53.03125 34.671875 50.203125 \r\nL 31.640625 42.046875 \r\nQ 28.421875 43.953125 25.203125 43.953125 \r\nQ 22.3125 43.953125 20.015625 42.21875 \r\nQ 17.71875 40.484375 16.75 37.40625 \r\nQ 15.28125 32.71875 15.28125 27.15625 \r\nL 15.28125 0 \r\nz\r\n\" id=\"ArialMT-114\"/>\r\n       <path d=\"M 42.09375 16.703125 \r\nL 51.171875 15.578125 \r\nQ 49.03125 7.625 43.21875 3.21875 \r\nQ 37.40625 -1.171875 28.375 -1.171875 \r\nQ 17 -1.171875 10.328125 5.828125 \r\nQ 3.65625 12.84375 3.65625 25.484375 \r\nQ 3.65625 38.578125 10.390625 45.796875 \r\nQ 17.140625 53.03125 27.875 53.03125 \r\nQ 38.28125 53.03125 44.875 45.953125 \r\nQ 51.46875 38.875 51.46875 26.03125 \r\nQ 51.46875 25.25 51.421875 23.6875 \r\nL 12.75 23.6875 \r\nQ 13.234375 15.140625 17.578125 10.59375 \r\nQ 21.921875 6.0625 28.421875 6.0625 \r\nQ 33.25 6.0625 36.671875 8.59375 \r\nQ 40.09375 11.140625 42.09375 16.703125 \r\nz\r\nM 13.234375 30.90625 \r\nL 42.1875 30.90625 \r\nQ 41.609375 37.453125 38.875 40.71875 \r\nQ 34.671875 45.796875 27.984375 45.796875 \r\nQ 21.921875 45.796875 17.796875 41.75 \r\nQ 13.671875 37.703125 13.234375 30.90625 \r\nz\r\n\" id=\"ArialMT-101\"/>\r\n       <path d=\"M 40.4375 19 \r\nL 49.078125 17.875 \r\nQ 47.65625 8.9375 41.8125 3.875 \r\nQ 35.984375 -1.171875 27.484375 -1.171875 \r\nQ 16.84375 -1.171875 10.375 5.78125 \r\nQ 3.90625 12.75 3.90625 25.734375 \r\nQ 3.90625 34.125 6.6875 40.421875 \r\nQ 9.46875 46.734375 15.15625 49.875 \r\nQ 20.84375 53.03125 27.546875 53.03125 \r\nQ 35.984375 53.03125 41.359375 48.75 \r\nQ 46.734375 44.484375 48.25 36.625 \r\nL 39.703125 35.296875 \r\nQ 38.484375 40.53125 35.375 43.15625 \r\nQ 32.28125 45.796875 27.875 45.796875 \r\nQ 21.234375 45.796875 17.078125 41.03125 \r\nQ 12.9375 36.28125 12.9375 25.984375 \r\nQ 12.9375 15.53125 16.9375 10.796875 \r\nQ 20.953125 6.0625 27.390625 6.0625 \r\nQ 32.5625 6.0625 36.03125 9.234375 \r\nQ 39.5 12.40625 40.4375 19 \r\nz\r\n\" id=\"ArialMT-99\"/>\r\n      </defs>\r\n      <g style=\"fill:#262626;\" transform=\"translate(105.264247 242.013594)scale(0.11 -0.11)\">\r\n       <use xlink:href=\"#ArialMT-71\"/>\r\n       <use x=\"77.783203\" xlink:href=\"#ArialMT-114\"/>\r\n       <use x=\"111.083984\" xlink:href=\"#ArialMT-101\"/>\r\n       <use x=\"166.699219\" xlink:href=\"#ArialMT-101\"/>\r\n       <use x=\"222.314453\" xlink:href=\"#ArialMT-99\"/>\r\n       <use x=\"272.314453\" xlink:href=\"#ArialMT-101\"/>\r\n      </g>\r\n     </g>\r\n    </g>\r\n    <g id=\"xtick_3\">\r\n     <g id=\"line2d_3\">\r\n      <path clip-path=\"url(#p9cbb5fd657)\" d=\"M 199.39 224.64 \r\nL 199.39 7.2 \r\n\" style=\"fill:none;stroke:#ffffff;stroke-linecap:round;\"/>\r\n     </g>\r\n     <g id=\"text_3\">\r\n      <!-- Israel -->\r\n      <defs>\r\n       <path d=\"M 9.328125 0 \r\nL 9.328125 71.578125 \r\nL 18.796875 71.578125 \r\nL 18.796875 0 \r\nz\r\n\" id=\"ArialMT-73\"/>\r\n       <path d=\"M 3.078125 15.484375 \r\nL 11.765625 16.84375 \r\nQ 12.5 11.625 15.84375 8.84375 \r\nQ 19.1875 6.0625 25.203125 6.0625 \r\nQ 31.25 6.0625 34.171875 8.515625 \r\nQ 37.109375 10.984375 37.109375 14.3125 \r\nQ 37.109375 17.28125 34.515625 19 \r\nQ 32.71875 20.171875 25.53125 21.96875 \r\nQ 15.875 24.421875 12.140625 26.203125 \r\nQ 8.40625 27.984375 6.46875 31.125 \r\nQ 4.546875 34.28125 4.546875 38.09375 \r\nQ 4.546875 41.546875 6.125 44.5 \r\nQ 7.71875 47.46875 10.453125 49.421875 \r\nQ 12.5 50.921875 16.03125 51.96875 \r\nQ 19.578125 53.03125 23.640625 53.03125 \r\nQ 29.734375 53.03125 34.34375 51.265625 \r\nQ 38.96875 49.515625 41.15625 46.5 \r\nQ 43.359375 43.5 44.1875 38.484375 \r\nL 35.59375 37.3125 \r\nQ 35.015625 41.3125 32.203125 43.546875 \r\nQ 29.390625 45.796875 24.265625 45.796875 \r\nQ 18.21875 45.796875 15.625 43.796875 \r\nQ 13.03125 41.796875 13.03125 39.109375 \r\nQ 13.03125 37.40625 14.109375 36.03125 \r\nQ 15.1875 34.625 17.484375 33.6875 \r\nQ 18.796875 33.203125 25.25 31.453125 \r\nQ 34.578125 28.953125 38.25 27.359375 \r\nQ 41.9375 25.78125 44.03125 22.75 \r\nQ 46.140625 19.734375 46.140625 15.234375 \r\nQ 46.140625 10.84375 43.578125 6.953125 \r\nQ 41.015625 3.078125 36.171875 0.953125 \r\nQ 31.34375 -1.171875 25.25 -1.171875 \r\nQ 15.140625 -1.171875 9.84375 3.03125 \r\nQ 4.546875 7.234375 3.078125 15.484375 \r\nz\r\n\" id=\"ArialMT-115\"/>\r\n       <path d=\"M 6.390625 0 \r\nL 6.390625 71.578125 \r\nL 15.1875 71.578125 \r\nL 15.1875 0 \r\nz\r\n\" id=\"ArialMT-108\"/>\r\n      </defs>\r\n      <g style=\"fill:#262626;\" transform=\"translate(185.941641 242.013594)scale(0.11 -0.11)\">\r\n       <use xlink:href=\"#ArialMT-73\"/>\r\n       <use x=\"27.783203\" xlink:href=\"#ArialMT-115\"/>\r\n       <use x=\"77.783203\" xlink:href=\"#ArialMT-114\"/>\r\n       <use x=\"111.083984\" xlink:href=\"#ArialMT-97\"/>\r\n       <use x=\"166.699219\" xlink:href=\"#ArialMT-101\"/>\r\n       <use x=\"222.314453\" xlink:href=\"#ArialMT-108\"/>\r\n      </g>\r\n     </g>\r\n    </g>\r\n    <g id=\"xtick_4\">\r\n     <g id=\"line2d_4\">\r\n      <path clip-path=\"url(#p9cbb5fd657)\" d=\"M 275.480909 224.64 \r\nL 275.480909 7.2 \r\n\" style=\"fill:none;stroke:#ffffff;stroke-linecap:round;\"/>\r\n     </g>\r\n     <g id=\"text_4\">\r\n      <!-- Italy -->\r\n      <defs>\r\n       <path d=\"M 25.78125 7.859375 \r\nL 27.046875 0.09375 \r\nQ 23.34375 -0.6875 20.40625 -0.6875 \r\nQ 15.625 -0.6875 12.984375 0.828125 \r\nQ 10.359375 2.34375 9.28125 4.8125 \r\nQ 8.203125 7.28125 8.203125 15.1875 \r\nL 8.203125 45.015625 \r\nL 1.765625 45.015625 \r\nL 1.765625 51.859375 \r\nL 8.203125 51.859375 \r\nL 8.203125 64.703125 \r\nL 16.9375 69.96875 \r\nL 16.9375 51.859375 \r\nL 25.78125 51.859375 \r\nL 25.78125 45.015625 \r\nL 16.9375 45.015625 \r\nL 16.9375 14.703125 \r\nQ 16.9375 10.9375 17.40625 9.859375 \r\nQ 17.875 8.796875 18.921875 8.15625 \r\nQ 19.96875 7.515625 21.921875 7.515625 \r\nQ 23.390625 7.515625 25.78125 7.859375 \r\nz\r\n\" id=\"ArialMT-116\"/>\r\n       <path d=\"M 6.203125 -19.96875 \r\nL 5.21875 -11.71875 \r\nQ 8.109375 -12.5 10.25 -12.5 \r\nQ 13.1875 -12.5 14.9375 -11.515625 \r\nQ 16.703125 -10.546875 17.828125 -8.796875 \r\nQ 18.65625 -7.46875 20.515625 -2.25 \r\nQ 20.75 -1.515625 21.296875 -0.09375 \r\nL 1.609375 51.859375 \r\nL 11.078125 51.859375 \r\nL 21.875 21.828125 \r\nQ 23.96875 16.109375 25.640625 9.8125 \r\nQ 27.15625 15.875 29.25 21.625 \r\nL 40.328125 51.859375 \r\nL 49.125 51.859375 \r\nL 29.390625 -0.875 \r\nQ 26.21875 -9.421875 24.46875 -12.640625 \r\nQ 22.125 -17 19.09375 -19.015625 \r\nQ 16.0625 -21.046875 11.859375 -21.046875 \r\nQ 9.328125 -21.046875 6.203125 -19.96875 \r\nz\r\n\" id=\"ArialMT-121\"/>\r\n      </defs>\r\n      <g style=\"fill:#262626;\" transform=\"translate(265.394425 242.013594)scale(0.11 -0.11)\">\r\n       <use xlink:href=\"#ArialMT-73\"/>\r\n       <use x=\"27.783203\" xlink:href=\"#ArialMT-116\"/>\r\n       <use x=\"55.566406\" xlink:href=\"#ArialMT-97\"/>\r\n       <use x=\"111.181641\" xlink:href=\"#ArialMT-108\"/>\r\n       <use x=\"133.398438\" xlink:href=\"#ArialMT-121\"/>\r\n      </g>\r\n     </g>\r\n    </g>\r\n    <g id=\"xtick_5\">\r\n     <g id=\"line2d_5\">\r\n      <path clip-path=\"url(#p9cbb5fd657)\" d=\"M 351.571818 224.64 \r\nL 351.571818 7.2 \r\n\" style=\"fill:none;stroke:#ffffff;stroke-linecap:round;\"/>\r\n     </g>\r\n     <g id=\"text_5\">\r\n      <!-- Turkey -->\r\n      <defs>\r\n       <path d=\"M 25.921875 0 \r\nL 25.921875 63.140625 \r\nL 2.34375 63.140625 \r\nL 2.34375 71.578125 \r\nL 59.078125 71.578125 \r\nL 59.078125 63.140625 \r\nL 35.40625 63.140625 \r\nL 35.40625 0 \r\nz\r\n\" id=\"ArialMT-84\"/>\r\n       <path d=\"M 40.578125 0 \r\nL 40.578125 7.625 \r\nQ 34.515625 -1.171875 24.125 -1.171875 \r\nQ 19.53125 -1.171875 15.546875 0.578125 \r\nQ 11.578125 2.34375 9.640625 5 \r\nQ 7.71875 7.671875 6.9375 11.53125 \r\nQ 6.390625 14.109375 6.390625 19.734375 \r\nL 6.390625 51.859375 \r\nL 15.1875 51.859375 \r\nL 15.1875 23.09375 \r\nQ 15.1875 16.21875 15.71875 13.8125 \r\nQ 16.546875 10.359375 19.234375 8.375 \r\nQ 21.921875 6.390625 25.875 6.390625 \r\nQ 29.828125 6.390625 33.296875 8.421875 \r\nQ 36.765625 10.453125 38.203125 13.9375 \r\nQ 39.65625 17.4375 39.65625 24.078125 \r\nL 39.65625 51.859375 \r\nL 48.4375 51.859375 \r\nL 48.4375 0 \r\nz\r\n\" id=\"ArialMT-117\"/>\r\n       <path d=\"M 6.640625 0 \r\nL 6.640625 71.578125 \r\nL 15.4375 71.578125 \r\nL 15.4375 30.765625 \r\nL 36.234375 51.859375 \r\nL 47.609375 51.859375 \r\nL 27.78125 32.625 \r\nL 49.609375 0 \r\nL 38.765625 0 \r\nL 21.625 26.515625 \r\nL 15.4375 20.5625 \r\nL 15.4375 0 \r\nz\r\n\" id=\"ArialMT-107\"/>\r\n      </defs>\r\n      <g style=\"fill:#262626;\" transform=\"translate(334.76674 242.013594)scale(0.11 -0.11)\">\r\n       <use xlink:href=\"#ArialMT-84\"/>\r\n       <use x=\"61.037109\" xlink:href=\"#ArialMT-117\"/>\r\n       <use x=\"116.652344\" xlink:href=\"#ArialMT-114\"/>\r\n       <use x=\"149.953125\" xlink:href=\"#ArialMT-107\"/>\r\n       <use x=\"199.953125\" xlink:href=\"#ArialMT-101\"/>\r\n       <use x=\"255.568359\" xlink:href=\"#ArialMT-121\"/>\r\n      </g>\r\n     </g>\r\n    </g>\r\n   </g>\r\n   <g id=\"matplotlib.axis_2\">\r\n    <g id=\"ytick_1\">\r\n     <g id=\"line2d_6\">\r\n      <path clip-path=\"url(#p9cbb5fd657)\" d=\"M 31.99 214.756364 \r\nL 366.79 214.756364 \r\n\" style=\"fill:none;stroke:#ffffff;stroke-linecap:round;\"/>\r\n     </g>\r\n     <g id=\"text_6\">\r\n      <!-- 1.0 -->\r\n      <defs>\r\n       <path d=\"M 37.25 0 \r\nL 28.46875 0 \r\nL 28.46875 56 \r\nQ 25.296875 52.984375 20.140625 49.953125 \r\nQ 14.984375 46.921875 10.890625 45.40625 \r\nL 10.890625 53.90625 \r\nQ 18.265625 57.375 23.78125 62.296875 \r\nQ 29.296875 67.234375 31.59375 71.875 \r\nL 37.25 71.875 \r\nz\r\n\" id=\"ArialMT-49\"/>\r\n       <path d=\"M 9.078125 0 \r\nL 9.078125 10.015625 \r\nL 19.09375 10.015625 \r\nL 19.09375 0 \r\nz\r\n\" id=\"ArialMT-46\"/>\r\n       <path d=\"M 4.15625 35.296875 \r\nQ 4.15625 48 6.765625 55.734375 \r\nQ 9.375 63.484375 14.515625 67.671875 \r\nQ 19.671875 71.875 27.484375 71.875 \r\nQ 33.25 71.875 37.59375 69.546875 \r\nQ 41.9375 67.234375 44.765625 62.859375 \r\nQ 47.609375 58.5 49.21875 52.21875 \r\nQ 50.828125 45.953125 50.828125 35.296875 \r\nQ 50.828125 22.703125 48.234375 14.96875 \r\nQ 45.65625 7.234375 40.5 3 \r\nQ 35.359375 -1.21875 27.484375 -1.21875 \r\nQ 17.140625 -1.21875 11.234375 6.203125 \r\nQ 4.15625 15.140625 4.15625 35.296875 \r\nz\r\nM 13.1875 35.296875 \r\nQ 13.1875 17.671875 17.3125 11.828125 \r\nQ 21.4375 6 27.484375 6 \r\nQ 33.546875 6 37.671875 11.859375 \r\nQ 41.796875 17.71875 41.796875 35.296875 \r\nQ 41.796875 52.984375 37.671875 58.78125 \r\nQ 33.546875 64.59375 27.390625 64.59375 \r\nQ 21.34375 64.59375 17.71875 59.46875 \r\nQ 13.1875 52.9375 13.1875 35.296875 \r\nz\r\n\" id=\"ArialMT-48\"/>\r\n      </defs>\r\n      <g style=\"fill:#262626;\" transform=\"translate(7.2 218.693161)scale(0.11 -0.11)\">\r\n       <use xlink:href=\"#ArialMT-49\"/>\r\n       <use x=\"55.615234\" xlink:href=\"#ArialMT-46\"/>\r\n       <use x=\"83.398438\" xlink:href=\"#ArialMT-48\"/>\r\n      </g>\r\n     </g>\r\n    </g>\r\n    <g id=\"ytick_2\">\r\n     <g id=\"line2d_7\">\r\n      <path clip-path=\"url(#p9cbb5fd657)\" d=\"M 31.99 190.047273 \r\nL 366.79 190.047273 \r\n\" style=\"fill:none;stroke:#ffffff;stroke-linecap:round;\"/>\r\n     </g>\r\n     <g id=\"text_7\">\r\n      <!-- 1.5 -->\r\n      <defs>\r\n       <path d=\"M 4.15625 18.75 \r\nL 13.375 19.53125 \r\nQ 14.40625 12.796875 18.140625 9.390625 \r\nQ 21.875 6 27.15625 6 \r\nQ 33.5 6 37.890625 10.78125 \r\nQ 42.28125 15.578125 42.28125 23.484375 \r\nQ 42.28125 31 38.0625 35.34375 \r\nQ 33.84375 39.703125 27 39.703125 \r\nQ 22.75 39.703125 19.328125 37.765625 \r\nQ 15.921875 35.84375 13.96875 32.765625 \r\nL 5.71875 33.84375 \r\nL 12.640625 70.609375 \r\nL 48.25 70.609375 \r\nL 48.25 62.203125 \r\nL 19.671875 62.203125 \r\nL 15.828125 42.96875 \r\nQ 22.265625 47.46875 29.34375 47.46875 \r\nQ 38.71875 47.46875 45.15625 40.96875 \r\nQ 51.609375 34.46875 51.609375 24.265625 \r\nQ 51.609375 14.546875 45.953125 7.46875 \r\nQ 39.0625 -1.21875 27.15625 -1.21875 \r\nQ 17.390625 -1.21875 11.203125 4.25 \r\nQ 5.03125 9.71875 4.15625 18.75 \r\nz\r\n\" id=\"ArialMT-53\"/>\r\n      </defs>\r\n      <g style=\"fill:#262626;\" transform=\"translate(7.2 193.98407)scale(0.11 -0.11)\">\r\n       <use xlink:href=\"#ArialMT-49\"/>\r\n       <use x=\"55.615234\" xlink:href=\"#ArialMT-46\"/>\r\n       <use x=\"83.398438\" xlink:href=\"#ArialMT-53\"/>\r\n      </g>\r\n     </g>\r\n    </g>\r\n    <g id=\"ytick_3\">\r\n     <g id=\"line2d_8\">\r\n      <path clip-path=\"url(#p9cbb5fd657)\" d=\"M 31.99 165.338182 \r\nL 366.79 165.338182 \r\n\" style=\"fill:none;stroke:#ffffff;stroke-linecap:round;\"/>\r\n     </g>\r\n     <g id=\"text_8\">\r\n      <!-- 2.0 -->\r\n      <defs>\r\n       <path d=\"M 50.34375 8.453125 \r\nL 50.34375 0 \r\nL 3.03125 0 \r\nQ 2.9375 3.171875 4.046875 6.109375 \r\nQ 5.859375 10.9375 9.828125 15.625 \r\nQ 13.8125 20.3125 21.34375 26.46875 \r\nQ 33.015625 36.03125 37.109375 41.625 \r\nQ 41.21875 47.21875 41.21875 52.203125 \r\nQ 41.21875 57.421875 37.46875 61 \r\nQ 33.734375 64.59375 27.734375 64.59375 \r\nQ 21.390625 64.59375 17.578125 60.78125 \r\nQ 13.765625 56.984375 13.71875 50.25 \r\nL 4.6875 51.171875 \r\nQ 5.609375 61.28125 11.65625 66.578125 \r\nQ 17.71875 71.875 27.9375 71.875 \r\nQ 38.234375 71.875 44.234375 66.15625 \r\nQ 50.25 60.453125 50.25 52 \r\nQ 50.25 47.703125 48.484375 43.546875 \r\nQ 46.734375 39.40625 42.65625 34.8125 \r\nQ 38.578125 30.21875 29.109375 22.21875 \r\nQ 21.1875 15.578125 18.9375 13.203125 \r\nQ 16.703125 10.84375 15.234375 8.453125 \r\nz\r\n\" id=\"ArialMT-50\"/>\r\n      </defs>\r\n      <g style=\"fill:#262626;\" transform=\"translate(7.2 169.274979)scale(0.11 -0.11)\">\r\n       <use xlink:href=\"#ArialMT-50\"/>\r\n       <use x=\"55.615234\" xlink:href=\"#ArialMT-46\"/>\r\n       <use x=\"83.398438\" xlink:href=\"#ArialMT-48\"/>\r\n      </g>\r\n     </g>\r\n    </g>\r\n    <g id=\"ytick_4\">\r\n     <g id=\"line2d_9\">\r\n      <path clip-path=\"url(#p9cbb5fd657)\" d=\"M 31.99 140.629091 \r\nL 366.79 140.629091 \r\n\" style=\"fill:none;stroke:#ffffff;stroke-linecap:round;\"/>\r\n     </g>\r\n     <g id=\"text_9\">\r\n      <!-- 2.5 -->\r\n      <g style=\"fill:#262626;\" transform=\"translate(7.2 144.565888)scale(0.11 -0.11)\">\r\n       <use xlink:href=\"#ArialMT-50\"/>\r\n       <use x=\"55.615234\" xlink:href=\"#ArialMT-46\"/>\r\n       <use x=\"83.398438\" xlink:href=\"#ArialMT-53\"/>\r\n      </g>\r\n     </g>\r\n    </g>\r\n    <g id=\"ytick_5\">\r\n     <g id=\"line2d_10\">\r\n      <path clip-path=\"url(#p9cbb5fd657)\" d=\"M 31.99 115.92 \r\nL 366.79 115.92 \r\n\" style=\"fill:none;stroke:#ffffff;stroke-linecap:round;\"/>\r\n     </g>\r\n     <g id=\"text_10\">\r\n      <!-- 3.0 -->\r\n      <defs>\r\n       <path d=\"M 4.203125 18.890625 \r\nL 12.984375 20.0625 \r\nQ 14.5 12.59375 18.140625 9.296875 \r\nQ 21.78125 6 27 6 \r\nQ 33.203125 6 37.46875 10.296875 \r\nQ 41.75 14.59375 41.75 20.953125 \r\nQ 41.75 27 37.796875 30.921875 \r\nQ 33.84375 34.859375 27.734375 34.859375 \r\nQ 25.25 34.859375 21.53125 33.890625 \r\nL 22.515625 41.609375 \r\nQ 23.390625 41.5 23.921875 41.5 \r\nQ 29.546875 41.5 34.03125 44.421875 \r\nQ 38.53125 47.359375 38.53125 53.46875 \r\nQ 38.53125 58.296875 35.25 61.46875 \r\nQ 31.984375 64.65625 26.8125 64.65625 \r\nQ 21.6875 64.65625 18.265625 61.421875 \r\nQ 14.84375 58.203125 13.875 51.765625 \r\nL 5.078125 53.328125 \r\nQ 6.6875 62.15625 12.390625 67.015625 \r\nQ 18.109375 71.875 26.609375 71.875 \r\nQ 32.46875 71.875 37.390625 69.359375 \r\nQ 42.328125 66.84375 44.9375 62.5 \r\nQ 47.5625 58.15625 47.5625 53.265625 \r\nQ 47.5625 48.640625 45.0625 44.828125 \r\nQ 42.578125 41.015625 37.703125 38.765625 \r\nQ 44.046875 37.3125 47.5625 32.6875 \r\nQ 51.078125 28.078125 51.078125 21.140625 \r\nQ 51.078125 11.765625 44.234375 5.25 \r\nQ 37.40625 -1.265625 26.953125 -1.265625 \r\nQ 17.53125 -1.265625 11.296875 4.34375 \r\nQ 5.078125 9.96875 4.203125 18.890625 \r\nz\r\n\" id=\"ArialMT-51\"/>\r\n      </defs>\r\n      <g style=\"fill:#262626;\" transform=\"translate(7.2 119.856797)scale(0.11 -0.11)\">\r\n       <use xlink:href=\"#ArialMT-51\"/>\r\n       <use x=\"55.615234\" xlink:href=\"#ArialMT-46\"/>\r\n       <use x=\"83.398438\" xlink:href=\"#ArialMT-48\"/>\r\n      </g>\r\n     </g>\r\n    </g>\r\n    <g id=\"ytick_6\">\r\n     <g id=\"line2d_11\">\r\n      <path clip-path=\"url(#p9cbb5fd657)\" d=\"M 31.99 91.210909 \r\nL 366.79 91.210909 \r\n\" style=\"fill:none;stroke:#ffffff;stroke-linecap:round;\"/>\r\n     </g>\r\n     <g id=\"text_11\">\r\n      <!-- 3.5 -->\r\n      <g style=\"fill:#262626;\" transform=\"translate(7.2 95.147706)scale(0.11 -0.11)\">\r\n       <use xlink:href=\"#ArialMT-51\"/>\r\n       <use x=\"55.615234\" xlink:href=\"#ArialMT-46\"/>\r\n       <use x=\"83.398438\" xlink:href=\"#ArialMT-53\"/>\r\n      </g>\r\n     </g>\r\n    </g>\r\n    <g id=\"ytick_7\">\r\n     <g id=\"line2d_12\">\r\n      <path clip-path=\"url(#p9cbb5fd657)\" d=\"M 31.99 66.501818 \r\nL 366.79 66.501818 \r\n\" style=\"fill:none;stroke:#ffffff;stroke-linecap:round;\"/>\r\n     </g>\r\n     <g id=\"text_12\">\r\n      <!-- 4.0 -->\r\n      <defs>\r\n       <path d=\"M 32.328125 0 \r\nL 32.328125 17.140625 \r\nL 1.265625 17.140625 \r\nL 1.265625 25.203125 \r\nL 33.9375 71.578125 \r\nL 41.109375 71.578125 \r\nL 41.109375 25.203125 \r\nL 50.78125 25.203125 \r\nL 50.78125 17.140625 \r\nL 41.109375 17.140625 \r\nL 41.109375 0 \r\nz\r\nM 32.328125 25.203125 \r\nL 32.328125 57.46875 \r\nL 9.90625 25.203125 \r\nz\r\n\" id=\"ArialMT-52\"/>\r\n      </defs>\r\n      <g style=\"fill:#262626;\" transform=\"translate(7.2 70.438615)scale(0.11 -0.11)\">\r\n       <use xlink:href=\"#ArialMT-52\"/>\r\n       <use x=\"55.615234\" xlink:href=\"#ArialMT-46\"/>\r\n       <use x=\"83.398438\" xlink:href=\"#ArialMT-48\"/>\r\n      </g>\r\n     </g>\r\n    </g>\r\n    <g id=\"ytick_8\">\r\n     <g id=\"line2d_13\">\r\n      <path clip-path=\"url(#p9cbb5fd657)\" d=\"M 31.99 41.792727 \r\nL 366.79 41.792727 \r\n\" style=\"fill:none;stroke:#ffffff;stroke-linecap:round;\"/>\r\n     </g>\r\n     <g id=\"text_13\">\r\n      <!-- 4.5 -->\r\n      <g style=\"fill:#262626;\" transform=\"translate(7.2 45.729524)scale(0.11 -0.11)\">\r\n       <use xlink:href=\"#ArialMT-52\"/>\r\n       <use x=\"55.615234\" xlink:href=\"#ArialMT-46\"/>\r\n       <use x=\"83.398438\" xlink:href=\"#ArialMT-53\"/>\r\n      </g>\r\n     </g>\r\n    </g>\r\n    <g id=\"ytick_9\">\r\n     <g id=\"line2d_14\">\r\n      <path clip-path=\"url(#p9cbb5fd657)\" d=\"M 31.99 17.083636 \r\nL 366.79 17.083636 \r\n\" style=\"fill:none;stroke:#ffffff;stroke-linecap:round;\"/>\r\n     </g>\r\n     <g id=\"text_14\">\r\n      <!-- 5.0 -->\r\n      <g style=\"fill:#262626;\" transform=\"translate(7.2 21.020433)scale(0.11 -0.11)\">\r\n       <use xlink:href=\"#ArialMT-53\"/>\r\n       <use x=\"55.615234\" xlink:href=\"#ArialMT-46\"/>\r\n       <use x=\"83.398438\" xlink:href=\"#ArialMT-48\"/>\r\n      </g>\r\n     </g>\r\n    </g>\r\n   </g>\r\n   <g id=\"line2d_15\">\r\n    <path clip-path=\"url(#p9cbb5fd657)\" d=\"M 47.208182 214.756364 \r\nL 123.299091 17.083636 \r\nL 199.39 214.756364 \r\nL 275.480909 165.338182 \r\nL 351.571818 214.756364 \r\n\" style=\"fill:none;stroke:#4c72b0;stroke-linecap:round;stroke-width:1.5;\"/>\r\n   </g>\r\n   <g id=\"patch_3\">\r\n    <path d=\"M 31.99 224.64 \r\nL 31.99 7.2 \r\n\" style=\"fill:none;stroke:#ffffff;stroke-linecap:square;stroke-linejoin:miter;stroke-width:1.25;\"/>\r\n   </g>\r\n   <g id=\"patch_4\">\r\n    <path d=\"M 366.79 224.64 \r\nL 366.79 7.2 \r\n\" style=\"fill:none;stroke:#ffffff;stroke-linecap:square;stroke-linejoin:miter;stroke-width:1.25;\"/>\r\n   </g>\r\n   <g id=\"patch_5\">\r\n    <path d=\"M 31.99 224.64 \r\nL 366.79 224.64 \r\n\" style=\"fill:none;stroke:#ffffff;stroke-linecap:square;stroke-linejoin:miter;stroke-width:1.25;\"/>\r\n   </g>\r\n   <g id=\"patch_6\">\r\n    <path d=\"M 31.99 7.2 \r\nL 366.79 7.2 \r\n\" style=\"fill:none;stroke:#ffffff;stroke-linecap:square;stroke-linejoin:miter;stroke-width:1.25;\"/>\r\n   </g>\r\n  </g>\r\n </g>\r\n <defs>\r\n  <clipPath id=\"p9cbb5fd657\">\r\n   <rect height=\"217.44\" width=\"334.8\" x=\"31.99\" y=\"7.2\"/>\r\n  </clipPath>\r\n </defs>\r\n</svg>\r\n",
      "text/plain": "<Figure size 432x288 with 1 Axes>"
     },
     "metadata": {},
     "output_type": "display_data"
    }
   ],
   "source": [
    "plt.plot(dfTotalTop10ByCountry)"
   ]
  },
  {
   "cell_type": "code",
   "execution_count": 20,
   "metadata": {},
   "outputs": [
    {
     "data": {
      "text/html": "<div>\n<style scoped>\n    .dataframe tbody tr th:only-of-type {\n        vertical-align: middle;\n    }\n\n    .dataframe tbody tr th {\n        vertical-align: top;\n    }\n\n    .dataframe thead th {\n        text-align: right;\n    }\n</style>\n<table border=\"1\" class=\"dataframe\">\n  <thead>\n    <tr style=\"text-align: right;\">\n      <th></th>\n      <th>full_name</th>\n      <th>sex</th>\n      <th>birth_year</th>\n      <th>country</th>\n      <th>occupation</th>\n      <th>popularity</th>\n      <th>longitude</th>\n      <th>latitude</th>\n      <th>page_views</th>\n      <th>average_views</th>\n    </tr>\n  </thead>\n  <tbody>\n    <tr>\n      <th>11340</th>\n      <td>Missy Franklin</td>\n      <td>Female</td>\n      <td>1995</td>\n      <td>United States</td>\n      <td>Swimmer</td>\n      <td>9.8794</td>\n      <td>-118.13194</td>\n      <td>34.15611</td>\n      <td>1894716</td>\n      <td>72874</td>\n    </tr>\n    <tr>\n      <th>11339</th>\n      <td>Vladimír Weiss</td>\n      <td>Male</td>\n      <td>1989</td>\n      <td>Slovakia</td>\n      <td>Soccer Player</td>\n      <td>10.2495</td>\n      <td>17.10972</td>\n      <td>48.14389</td>\n      <td>12479</td>\n      <td>462</td>\n    </tr>\n    <tr>\n      <th>11338</th>\n      <td>Rūta Meilutytė</td>\n      <td>Female</td>\n      <td>1997</td>\n      <td>Lithuania</td>\n      <td>Swimmer</td>\n      <td>10.3821</td>\n      <td>23.88611</td>\n      <td>54.90000</td>\n      <td>342719</td>\n      <td>10710</td>\n    </tr>\n    <tr>\n      <th>11337</th>\n      <td>Saina Nehwal</td>\n      <td>Female</td>\n      <td>1990</td>\n      <td>India</td>\n      <td>Athlete</td>\n      <td>10.6122</td>\n      <td>75.71670</td>\n      <td>29.16670</td>\n      <td>2255010</td>\n      <td>86731</td>\n    </tr>\n    <tr>\n      <th>11336</th>\n      <td>Sean St Ledger</td>\n      <td>Male</td>\n      <td>1984</td>\n      <td>United Kingdom</td>\n      <td>Soccer Player</td>\n      <td>11.1346</td>\n      <td>-1.77209</td>\n      <td>52.41290</td>\n      <td>380965</td>\n      <td>13606</td>\n    </tr>\n    <tr>\n      <th>11335</th>\n      <td>Jetro Willems</td>\n      <td>Male</td>\n      <td>1994</td>\n      <td>Netherlands</td>\n      <td>Soccer Player</td>\n      <td>11.3956</td>\n      <td>4.50000</td>\n      <td>51.91667</td>\n      <td>577913</td>\n      <td>21404</td>\n    </tr>\n    <tr>\n      <th>11334</th>\n      <td>Rebecca Soni</td>\n      <td>Female</td>\n      <td>1987</td>\n      <td>United States</td>\n      <td>Swimmer</td>\n      <td>11.4050</td>\n      <td>-74.27588</td>\n      <td>40.26022</td>\n      <td>886815</td>\n      <td>32845</td>\n    </tr>\n    <tr>\n      <th>11333</th>\n      <td>Sun Yang</td>\n      <td>Male</td>\n      <td>1991</td>\n      <td>China</td>\n      <td>Swimmer</td>\n      <td>11.6234</td>\n      <td>120.16667</td>\n      <td>30.25000</td>\n      <td>491910</td>\n      <td>18920</td>\n    </tr>\n    <tr>\n      <th>11332</th>\n      <td>Shane Long</td>\n      <td>Male</td>\n      <td>1987</td>\n      <td>Ireland</td>\n      <td>Soccer Player</td>\n      <td>11.7174</td>\n      <td>0.00000</td>\n      <td>0.00000</td>\n      <td>799202</td>\n      <td>30739</td>\n    </tr>\n    <tr>\n      <th>11331</th>\n      <td>Marc Albrighton</td>\n      <td>Male</td>\n      <td>1989</td>\n      <td>United Kingdom</td>\n      <td>Soccer Player</td>\n      <td>11.7258</td>\n      <td>-1.69500</td>\n      <td>52.63300</td>\n      <td>495420</td>\n      <td>19055</td>\n    </tr>\n  </tbody>\n</table>\n</div>",
      "text/plain": "             full_name     sex  birth_year         country     occupation  \\\n11340   Missy Franklin  Female        1995   United States        Swimmer   \n11339   Vladimír Weiss    Male        1989        Slovakia  Soccer Player   \n11338   Rūta Meilutytė  Female        1997       Lithuania        Swimmer   \n11337     Saina Nehwal  Female        1990           India        Athlete   \n11336   Sean St Ledger    Male        1984  United Kingdom  Soccer Player   \n11335    Jetro Willems    Male        1994     Netherlands  Soccer Player   \n11334     Rebecca Soni  Female        1987   United States        Swimmer   \n11333         Sun Yang    Male        1991           China        Swimmer   \n11332       Shane Long    Male        1987         Ireland  Soccer Player   \n11331  Marc Albrighton    Male        1989  United Kingdom  Soccer Player   \n\n       popularity  longitude  latitude  page_views  average_views  \n11340      9.8794 -118.13194  34.15611     1894716          72874  \n11339     10.2495   17.10972  48.14389       12479            462  \n11338     10.3821   23.88611  54.90000      342719          10710  \n11337     10.6122   75.71670  29.16670     2255010          86731  \n11336     11.1346   -1.77209  52.41290      380965          13606  \n11335     11.3956    4.50000  51.91667      577913          21404  \n11334     11.4050  -74.27588  40.26022      886815          32845  \n11333     11.6234  120.16667  30.25000      491910          18920  \n11332     11.7174    0.00000   0.00000      799202          30739  \n11331     11.7258   -1.69500  52.63300      495420          19055  "
     },
     "execution_count": 20,
     "metadata": {},
     "output_type": "execute_result"
    }
   ],
   "source": [
    "# Which historic characters are in the top ten least popular?\n",
    "dfTopTenLeastPopularPeople = dfCleanData.sort_values(by = ['popularity'], ascending = True)\n",
    "dfTopTenLeastPopularPeople = dfTopTenLeastPopularPeople.head(10)\n",
    "dfTopTenLeastPopularPeople.loc[:,columnToDisplayCleanData].head(10)"
   ]
  },
  {
   "cell_type": "code",
   "execution_count": 21,
   "metadata": {},
   "outputs": [
    {
     "data": {
      "text/html": "<div>\n<style scoped>\n    .dataframe tbody tr th:only-of-type {\n        vertical-align: middle;\n    }\n\n    .dataframe tbody tr th {\n        vertical-align: top;\n    }\n\n    .dataframe thead th {\n        text-align: right;\n    }\n</style>\n<table border=\"1\" class=\"dataframe\">\n  <thead>\n    <tr style=\"text-align: right;\">\n      <th></th>\n      <th></th>\n      <th>total_count</th>\n    </tr>\n    <tr>\n      <th>country</th>\n      <th>sex</th>\n      <th></th>\n    </tr>\n  </thead>\n  <tbody>\n    <tr>\n      <th>China</th>\n      <th>Male</th>\n      <td>1</td>\n    </tr>\n    <tr>\n      <th>India</th>\n      <th>Female</th>\n      <td>1</td>\n    </tr>\n    <tr>\n      <th>Ireland</th>\n      <th>Male</th>\n      <td>1</td>\n    </tr>\n    <tr>\n      <th>Lithuania</th>\n      <th>Female</th>\n      <td>1</td>\n    </tr>\n    <tr>\n      <th>Netherlands</th>\n      <th>Male</th>\n      <td>1</td>\n    </tr>\n    <tr>\n      <th>Slovakia</th>\n      <th>Male</th>\n      <td>1</td>\n    </tr>\n    <tr>\n      <th>United Kingdom</th>\n      <th>Male</th>\n      <td>2</td>\n    </tr>\n    <tr>\n      <th>United States</th>\n      <th>Female</th>\n      <td>2</td>\n    </tr>\n  </tbody>\n</table>\n</div>",
      "text/plain": "                       total_count\ncountry        sex                \nChina          Male              1\nIndia          Female            1\nIreland        Male              1\nLithuania      Female            1\nNetherlands    Male              1\nSlovakia       Male              1\nUnited Kingdom Male              2\nUnited States  Female            2"
     },
     "execution_count": 21,
     "metadata": {},
     "output_type": "execute_result"
    }
   ],
   "source": [
    "dfTotalTop10LByContinentByCountry = pd.DataFrame(dfTopTenLeastPopularPeople.groupby([ 'country','sex'])['article_id'].count())\n",
    "dfTotalTop10LByContinentByCountry.rename(columns={'article_id': 'total_count'}, inplace=True)\n",
    "dfTotalTop10LByContinentByCountry"
   ]
  },
  {
   "cell_type": "code",
   "execution_count": 22,
   "metadata": {},
   "outputs": [
    {
     "ename": "NameError",
     "evalue": "name 'dfTotalTop10ByContinentByCountry' is not defined",
     "output_type": "error",
     "traceback": [
      "\u001b[1;31m---------------------------------------------------------------------------\u001b[0m",
      "\u001b[1;31mNameError\u001b[0m                                 Traceback (most recent call last)",
      "\u001b[1;32m<ipython-input-22-95d84eed827f>\u001b[0m in \u001b[0;36m<module>\u001b[1;34m\u001b[0m\n\u001b[1;32m----> 1\u001b[1;33m \u001b[0mplt\u001b[0m\u001b[1;33m.\u001b[0m\u001b[0mplot\u001b[0m\u001b[1;33m(\u001b[0m\u001b[0mdfTotalTop10ByContinentByCountry\u001b[0m\u001b[1;33m)\u001b[0m\u001b[1;33m\u001b[0m\u001b[1;33m\u001b[0m\u001b[0m\n\u001b[0m",
      "\u001b[1;31mNameError\u001b[0m: name 'dfTotalTop10ByContinentByCountry' is not defined"
     ]
    }
   ],
   "source": [
    "plt.plot(dfTotalTop10ByContinentByCountry)"
   ]
  },
  {
   "cell_type": "code",
   "execution_count": 0,
   "metadata": {},
   "outputs": [],
   "source": [
    "# Getting the count by country, occupation, industry, and domain\n",
    "dfTotalByCountryByIndustry = pd.DataFrame(dfCleanData.groupby(['industry','occupation'])['article_id'].count())\n",
    "# Renaming the default column name the dataframe created to a meaningfull name\n",
    "dfTotalByCountryByIndustry.rename(columns={'article_id': 'total_count'}, inplace=True)\n",
    "dfTotalByCountryByIndustry.sort_values(by = ['total_count'], ascending = False).head(20)"
   ]
  },
  {
   "cell_type": "code",
   "execution_count": 0,
   "metadata": {},
   "outputs": [],
   "source": [
    "# Getting the count by countinent and by country\n",
    "dfTotalByContinentByCountry = pd.DataFrame(dfCleanData.groupby(['continent', 'country'])['article_id'].count())\n",
    "# Renaming the default column name the dataframe created to a meaningfull name\n",
    "dfTotalByContinentByCountry.rename(columns={'article_id': 'total_count'}, inplace=True)\n",
    "dfTotalByContinentByCountry.sort_values(by = ['total_count'], ascending = False).head(10)"
   ]
  },
  {
   "cell_type": "code",
   "execution_count": 0,
   "metadata": {},
   "outputs": [],
   "source": [
    "# Getting the count by countinent\n",
    "dfTotalByContinent = pd.DataFrame(dfCleanData.groupby(['continent'])['article_id'].count())\n",
    "# Renaming the default column name the dataframe created to a meaningfull name\n",
    "dfTotalByContinent.rename(columns={'article_id': 'total_count'}, inplace=True)\n",
    "dfTotalByContinent.sort_values(by = ['total_count'], ascending = False)"
   ]
  },
  {
   "cell_type": "markdown",
   "metadata": {},
   "source": [
    "## Modeling"
   ]
  },
  {
   "cell_type": "markdown",
   "metadata": {},
   "source": [
    "# Results"
   ]
  },
  {
   "cell_type": "markdown",
   "metadata": {},
   "source": [
    "# Conclusion"
   ]
  },
  {
   "cell_type": "code",
   "execution_count": null,
   "metadata": {},
   "outputs": [],
   "source": []
  }
 ],
 "metadata": {
  "file_extension": ".py",
  "kernelspec": {
   "display_name": "Python 3",
   "language": "python",
   "name": "python3"
  },
  "language_info": {
   "codemirror_mode": {
    "name": "ipython",
    "version": 3
   },
   "file_extension": ".py",
   "mimetype": "text/x-python",
   "name": "python",
   "nbconvert_exporter": "python",
   "pygments_lexer": "ipython3",
   "version": "3.7.3"
  },
  "mimetype": "text/x-python",
  "name": "python",
  "npconvert_exporter": "python",
  "pygments_lexer": "ipython3",
  "version": 3
 },
 "nbformat": 4,
 "nbformat_minor": 2
}