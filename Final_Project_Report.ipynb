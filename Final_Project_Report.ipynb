{
 "cells": [
  {
   "cell_type": "markdown",
   "metadata": {},
   "source": [
    "# IST 652 Final Project - A Pantheon Exploration"
   ]
  },
  {
   "cell_type": "markdown",
   "metadata": {},
   "source": [
    "# Introduction\n",
    "\n",
    "Recorded human history has only been around for 5000 years. By understanding the makeup of Pantheon, all persons today both young and old are enriched with the knowledge of global, scientific and cultural development of humanity. The meaning of the word *Pantheon* describes a group of particularly respected, famous, or important people. Over the course of human history there have been thousands of such individuals that have made an impact on society. Due to the information age that began in the latter part of the 20th century, people all over the world now have access to the same biographies of these individuals through Wikipedia in multiple languages. What was once information of limited accessibility and supply, shelved in remote libraries, is now conveniently made available through this medium.\n",
    "\n",
    "Credit goes to the Macro Connections group at the Massachusetts Institute of Technology Media Lab and their [Pantheon Project](https://www.kaggle.com/mit/pantheon-project). Not only was a Pantheon index made available to the general public, but a popularity index was created as well. One \"barrier to entry\" to this content is the number of languages available for each article. This is a key measure in determining the popularity of individuals in the Pantheon. \"The simpler of the two measures, which we denote as L, is the number of different Wikipedia language editions that have an article about a historical character. The more sophisticated measure, which we name the Historical Popularity Index (HPI) corrects L by adding information on the age of the historical character, the concentration of page views among different languages, the coefficient of variation in page views, and the number of page views in languages other than English.\" [https://www.kaggle.com/mit/pantheon-project](https://www.kaggle.com/mit/pantheon-project)\n",
    "\n",
    "The significance of historical figures may be debatable, but this report seeks to apply an objective measure of popularity to better understand how biographies of the Pantheon is being consumed in the current day and age. From Aristotle to Benjamin Franklin, Jesus Christ to Al Pacino, historical figures and their attributes will be measured with web analytics so that the reader may have insights into the following:\n",
    "\n",
    "Research questions:\n",
    "\n",
    "* Which historic characters are the most popular?\n",
    "* When did they live and where are they from?\n",
    "* What factors could have generated their popularity?\n",
    "* Are there any observable trends in the categorical data provided?\n",
    "* What associations exist between the variables in the data?\n",
    "* What clusters and groupings are in the data? How do groups compare in popularity?"
   ]
  },
  {
   "cell_type": "markdown",
   "metadata": {},
   "source": [
    "# Analysis\n",
    "\n",
    "Key analysis methods used in report:\n",
    "* Data Cleaning\n",
    "* Sorting and subsets of the data.\n",
    "* Line and bar plots.\n",
    "* Multiple regression"
   ]
  },
  {
   "cell_type": "markdown",
   "metadata": {},
   "source": [
    "## About the Data"
   ]
  },
  {
   "cell_type": "code",
   "execution_count": 2,
   "metadata": {},
   "outputs": [
    {
     "ename": "NameError",
     "evalue": "name 'sns' is not defined",
     "output_type": "error",
     "traceback": [
      "\u001b[1;31m---------------------------------------------------------------------------\u001b[0m",
      "\u001b[1;31mNameError\u001b[0m                                 Traceback (most recent call last)",
      "\u001b[1;32m<ipython-input-2-ec65b478ab6a>\u001b[0m in \u001b[0;36m<module>\u001b[1;34m\u001b[0m\n\u001b[0;32m      5\u001b[0m \u001b[1;32mimport\u001b[0m \u001b[0mmatplotlib\u001b[0m\u001b[1;33m.\u001b[0m\u001b[0mpyplot\u001b[0m \u001b[1;32mas\u001b[0m \u001b[0mplt\u001b[0m\u001b[1;33m\u001b[0m\u001b[1;33m\u001b[0m\u001b[0m\n\u001b[0;32m      6\u001b[0m \u001b[1;32mimport\u001b[0m \u001b[0mseaborn\u001b[0m \u001b[1;32mas\u001b[0m \u001b[0msn\u001b[0m\u001b[1;33m\u001b[0m\u001b[1;33m\u001b[0m\u001b[0m\n\u001b[1;32m----> 7\u001b[1;33m \u001b[0msns\u001b[0m\u001b[1;33m.\u001b[0m\u001b[0mset\u001b[0m\u001b[1;33m(\u001b[0m\u001b[1;33m)\u001b[0m\u001b[1;33m\u001b[0m\u001b[1;33m\u001b[0m\u001b[0m\n\u001b[0m",
      "\u001b[1;31mNameError\u001b[0m: name 'sns' is not defined"
     ]
    }
   ],
   "source": [
    "import os\n",
    "import pandas as pd\n",
    "import numpy as np\n",
    "import matplotlib\n",
    "import matplotlib.pyplot as plt\n",
    "import seaborn as sn"
   ]
  },
  {
   "cell_type": "code",
   "execution_count": 0,
   "metadata": {},
   "outputs": [],
   "source": [
    "# Loading data from .csv file\n",
    "dataFileName = \"data/database.csv\"\n",
    "isExist = os.path.isfile(dataFileName)\n",
    "if isExist == True:\n",
    "    dfDirtyData = pd.read_csv(dataFileName, sep=\",\", header=0)\n",
    "else:\n",
    "    print(\"File not found:\", os.getcwd())\n"
   ]
  },
  {
   "cell_type": "code",
   "execution_count": 0,
   "metadata": {},
   "outputs": [],
   "source": [
    "# Showing inforamtion about the dataframe\n",
    "dfDirtyData.info()"
   ]
  },
  {
   "cell_type": "code",
   "execution_count": 0,
   "metadata": {},
   "outputs": [],
   "source": [
    "# Creating a varibale to hold fields for displaying purpose since not all will fit\n",
    "columnToDisplayDirtyData = ['full_name', 'sex', 'birth_year', 'country', 'occupation','historical_popularity_index']"
   ]
  },
  {
   "cell_type": "code",
   "execution_count": 0,
   "metadata": {},
   "outputs": [],
   "source": [
    "# Showing a single row of record\n",
    "dfDirtyData.loc[1522]"
   ]
  },
  {
   "cell_type": "code",
   "execution_count": 0,
   "metadata": {},
   "outputs": [],
   "source": [
    "# Showing the first 5 rows of the data in the data frame\n",
    "dfDirtyData.loc[:,columnToDisplayDirtyData].head(5)"
   ]
  },
  {
   "cell_type": "code",
   "execution_count": 0,
   "metadata": {},
   "outputs": [],
   "source": [
    "# Showing the first 5 rows of the data in the data frame\n",
    "dfDirtyData.loc[:,columnToDisplayDirtyData].tail(5)"
   ]
  },
  {
   "cell_type": "markdown",
   "metadata": {},
   "source": [
    "## Data Cleaning"
   ]
  },
  {
   "cell_type": "code",
   "execution_count": 0,
   "metadata": {},
   "outputs": [],
   "source": [
    "# Creating a new copy of a dataframe\n",
    "dfCleanData = dfDirtyData.copy()"
   ]
  },
  {
   "cell_type": "code",
   "execution_count": 0,
   "metadata": {},
   "outputs": [],
   "source": [
    "# Renaming historical_popularity_index to popularity (short name)\n",
    "dfCleanData.rename(columns={'historical_popularity_index': 'popularity'}, inplace=True)"
   ]
  },
  {
   "cell_type": "code",
   "execution_count": 0,
   "metadata": {},
   "outputs": [],
   "source": [
    "# Finding the index of a column with alpha numberic values.\n",
    "def findStringValueIndex(fieldName):\n",
    "    badRowIndex = [] # initialize list of problematic rows\n",
    "    for idx, value in enumerate(dfCleanData[fieldName]):\n",
    "        try:\n",
    "            int(value)\n",
    "        except:\n",
    "            badRowIndex.append(idx)\n",
    "    return badRowIndex"
   ]
  },
  {
   "cell_type": "code",
   "execution_count": 0,
   "metadata": {},
   "outputs": [],
   "source": [
    "# List of columns to be converted into numeric data type\n",
    "columnToConvert = [\"article_languages\", \"birth_year\", \"latitude\", \"longitude\", \"page_views\",\"average_views\", \"popularity\"]\n",
    "# Making sure to replace the non-numeric values to 0 before converting to numeric\n",
    "# Examples: \n",
    "#           dfCleanData.loc[findStringValueIndex('latitude'), 'latitude'] = 0\n",
    "# The following code block is doing similiar to the examples but \n",
    "# through the iteration of the list \n",
    "for col in columnToConvert:\n",
    "    indx = []\n",
    "    indx = findStringValueIndex(col)\n",
    "    if len(indx) > 0 :\n",
    "        dfCleanData.loc[indx, col] = 0\n",
    "# Converting the columns above to numeric data type\n",
    "dfCleanData[columnToConvert] = dfCleanData[columnToConvert].apply(pd.to_numeric)"
   ]
  },
  {
   "cell_type": "code",
   "execution_count": 0,
   "metadata": {},
   "outputs": [],
   "source": [
    "# Looping through columns in the dataframe. \n",
    "# Replacing columns values with 'object' data type from 'NaN' to 'NA'\n",
    "for column in dfCleanData.columns:\n",
    "    if(dfCleanData[column].dtype == 'object'):\n",
    "          dfCleanData[column].fillna(value=\"NA\", inplace=True)"
   ]
  },
  {
   "cell_type": "code",
   "execution_count": 0,
   "metadata": {},
   "outputs": [],
   "source": [
    "# Showing inforamtion about the dataframe\n",
    "dfCleanData.info()"
   ]
  },
  {
   "cell_type": "code",
   "execution_count": 0,
   "metadata": {},
   "outputs": [],
   "source": [
    "# Creating a varibale to hold fields for displaying purpose since not all will fit\n",
    "columnToDisplayCleanData = ['full_name', 'sex', 'birth_year', 'country', 'occupation','popularity','longitude','latitude','page_views','average_views']"
   ]
  },
  {
   "cell_type": "code",
   "execution_count": 0,
   "metadata": {},
   "outputs": [],
   "source": [
    "# Showing the first 5 rows of the data in the dataset\n",
    "dfCleanData.loc[:,columnToDisplayCleanData].head(5)"
   ]
  },
  {
   "cell_type": "code",
   "execution_count": 0,
   "metadata": {},
   "outputs": [],
   "source": [
    "# Showing the last 5 rows of the data in the dataset\n",
    "dfCleanData.loc[:,columnToDisplayCleanData].tail(5)"
   ]
  },
  {
   "cell_type": "markdown",
   "metadata": {},
   "source": [
    "## Exploration"
   ]
  },
  {
   "cell_type": "code",
   "execution_count": 0,
   "metadata": {},
   "outputs": [],
   "source": [
    "# Which historic characters are in the top ten most popular?\n",
    "dfTopTenMostPopularPeople = dfCleanData.sort_values(by = ['popularity'], ascending = False)\n",
    "dfTopTenMostPopularPeople = dfTopTenMostPopularPeople.head(10)\n",
    "dfTopTenMostPopularPeople.loc[:,columnToDisplayCleanData]"
   ]
  },
  {
   "cell_type": "code",
   "execution_count": 0,
   "metadata": {},
   "outputs": [],
   "source": [
    "dfTotalTop10ByCountry = pd.DataFrame(dfTopTenMostPopularPeople.groupby(['country'])['article_id'].count())\n",
    "dfTotalTop10ByCountry.rename(columns={'':'country','article_id': 'total_count'}, inplace=True)\n",
    "dfTotalTop10ByCountry "
   ]
  },
  {
   "cell_type": "code",
   "execution_count": 0,
   "metadata": {},
   "outputs": [],
   "source": [
    "plt.plot(dfTotalTop10ByCountry)"
   ]
  },
  {
   "cell_type": "code",
   "execution_count": 0,
   "metadata": {},
   "outputs": [],
   "source": [
    "# Which historic characters are in the top ten least popular?\n",
    "dfTopTenLeastPopularPeople = dfCleanData.sort_values(by = ['popularity'], ascending = True)\n",
    "dfTopTenLeastPopularPeople = dfTopTenLeastPopularPeople.head(10)\n",
    "dfTopTenLeastPopularPeople.loc[:,columnToDisplayCleanData].head(10)"
   ]
  },
  {
   "cell_type": "code",
   "execution_count": 0,
   "metadata": {},
   "outputs": [],
   "source": [
    "dfTotalTop10LByContinentByCountry = pd.DataFrame(dfTopTenLeastPopularPeople.groupby([ 'country','sex'])['article_id'].count())\n",
    "dfTotalTop10LByContinentByCountry.rename(columns={'article_id': 'total_count'}, inplace=True)\n",
    "dfTotalTop10LByContinentByCountry"
   ]
  },
  {
   "cell_type": "code",
   "execution_count": 0,
   "metadata": {},
   "outputs": [],
   "source": [
    "plt.plot(dfTotalTop10ByContinentByCountry)"
   ]
  },
  {
   "cell_type": "code",
   "execution_count": 0,
   "metadata": {},
   "outputs": [],
   "source": [
    "# Getting the count by country, occupation, industry, and domain\n",
    "dfTotalByCountryByIndustry = pd.DataFrame(dfCleanData.groupby(['industry','occupation'])['article_id'].count())\n",
    "# Renaming the default column name the dataframe created to a meaningfull name\n",
    "dfTotalByCountryByIndustry.rename(columns={'article_id': 'total_count'}, inplace=True)\n",
    "dfTotalByCountryByIndustry.sort_values(by = ['total_count'], ascending = False).head(20)"
   ]
  },
  {
   "cell_type": "code",
   "execution_count": 0,
   "metadata": {},
   "outputs": [],
   "source": [
    "# Getting the count by countinent and by country\n",
    "dfTotalByContinentByCountry = pd.DataFrame(dfCleanData.groupby(['continent', 'country'])['article_id'].count())\n",
    "# Renaming the default column name the dataframe created to a meaningfull name\n",
    "dfTotalByContinentByCountry.rename(columns={'article_id': 'total_count'}, inplace=True)\n",
    "dfTotalByContinentByCountry.sort_values(by = ['total_count'], ascending = False).head(10)"
   ]
  },
  {
   "cell_type": "code",
   "execution_count": 0,
   "metadata": {},
   "outputs": [],
   "source": [
    "# Getting the count by countinent\n",
    "dfTotalByContinent = pd.DataFrame(dfCleanData.groupby(['continent'])['article_id'].count())\n",
    "# Renaming the default column name the dataframe created to a meaningfull name\n",
    "dfTotalByContinent.rename(columns={'article_id': 'total_count'}, inplace=True)\n",
    "dfTotalByContinent.sort_values(by = ['total_count'], ascending = False)"
   ]
  },
  {
   "cell_type": "markdown",
   "metadata": {},
   "source": [
    "## Modeling"
   ]
  },
  {
   "cell_type": "markdown",
   "metadata": {},
   "source": [
    "# Results"
   ]
  },
  {
   "cell_type": "markdown",
   "metadata": {},
   "source": [
    "# Conclusion"
   ]
  },
  {
   "cell_type": "code",
   "execution_count": null,
   "metadata": {},
   "outputs": [],
   "source": []
  }
 ],
 "metadata": {
  "file_extension": ".py",
  "kernelspec": {
   "display_name": "Python 3",
   "language": "python",
   "name": "python3"
  },
  "language_info": {
   "codemirror_mode": {
    "name": "ipython",
    "version": 3
   },
   "file_extension": ".py",
   "mimetype": "text/x-python",
   "name": "python",
   "nbconvert_exporter": "python",
   "pygments_lexer": "ipython3",
   "version": "3.7.3"
  },
  "mimetype": "text/x-python",
  "name": "python",
  "npconvert_exporter": "python",
  "pygments_lexer": "ipython3",
  "version": 3
 },
 "nbformat": 4,
 "nbformat_minor": 2
}